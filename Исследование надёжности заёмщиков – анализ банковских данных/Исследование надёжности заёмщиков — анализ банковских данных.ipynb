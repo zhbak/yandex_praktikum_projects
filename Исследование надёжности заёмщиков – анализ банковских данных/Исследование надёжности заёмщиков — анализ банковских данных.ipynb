{
 "cells": [
  {
   "cell_type": "markdown",
   "id": "c59ff46c",
   "metadata": {},
   "source": [
    "# Исследование надежности заемщиков"
   ]
  },
  {
   "cell_type": "markdown",
   "id": "e48c2e9b",
   "metadata": {},
   "source": [
    "**Цель исследования** — определение влияния параметров клиента на факт погашения кредита в срок.\n",
    "\n",
    "**Задачи исследования** – определить наличие/отсутствие зависимости между:\n",
    "   1. *Количеством детей* и возвратом кредита в срок;\n",
    "   2. *Семейным положением* и возвратом кредита в срок;\n",
    "   3. *Уровнем дохода* и возвратом кредита в срок;\n",
    "   4. *Целями кредита* и возвратом кредита в срок.\n",
    "    \n",
    "**Ход исследования**\n",
    "\n",
    " 1. Обзор данных.\n",
    " 2. Предобработка данных.\n",
    "    - Заполнение пропусков\n",
    "    - Проверка данных на аномалии и исправления\n",
    "    - Изменение типов данных\n",
    "    - Удаление дубликатов\n",
    "    - Формирование дополнительных датафреймов словарей, декомпозиция исходного датафрейма\n",
    "    - Категоризация доходов\n",
    "    - Категоризация целей кредита\n",
    " 3. Проверка гипотез (Ответы на вопросы).\n",
    " 4. Выводы."
   ]
  },
  {
   "cell_type": "markdown",
   "id": "bd6a7b66",
   "metadata": {},
   "source": [
    "## Обзор данных"
   ]
  },
  {
   "cell_type": "code",
   "execution_count": 5,
   "id": "94440f78",
   "metadata": {},
   "outputs": [],
   "source": [
    "# Импорт библиотеки pandas\n",
    "import pandas as pd"
   ]
  },
  {
   "cell_type": "code",
   "execution_count": 6,
   "id": "06e524d1",
   "metadata": {
    "scrolled": true
   },
   "outputs": [
    {
     "data": {
      "text/html": [
       "<div>\n",
       "<style scoped>\n",
       "    .dataframe tbody tr th:only-of-type {\n",
       "        vertical-align: middle;\n",
       "    }\n",
       "\n",
       "    .dataframe tbody tr th {\n",
       "        vertical-align: top;\n",
       "    }\n",
       "\n",
       "    .dataframe thead th {\n",
       "        text-align: right;\n",
       "    }\n",
       "</style>\n",
       "<table border=\"1\" class=\"dataframe\">\n",
       "  <thead>\n",
       "    <tr style=\"text-align: right;\">\n",
       "      <th></th>\n",
       "      <th>children</th>\n",
       "      <th>days_employed</th>\n",
       "      <th>dob_years</th>\n",
       "      <th>education</th>\n",
       "      <th>education_id</th>\n",
       "      <th>family_status</th>\n",
       "      <th>family_status_id</th>\n",
       "      <th>gender</th>\n",
       "      <th>income_type</th>\n",
       "      <th>debt</th>\n",
       "      <th>total_income</th>\n",
       "      <th>purpose</th>\n",
       "    </tr>\n",
       "  </thead>\n",
       "  <tbody>\n",
       "    <tr>\n",
       "      <th>0</th>\n",
       "      <td>1</td>\n",
       "      <td>-8437.673028</td>\n",
       "      <td>42</td>\n",
       "      <td>высшее</td>\n",
       "      <td>0</td>\n",
       "      <td>женат / замужем</td>\n",
       "      <td>0</td>\n",
       "      <td>F</td>\n",
       "      <td>сотрудник</td>\n",
       "      <td>0</td>\n",
       "      <td>253875.639453</td>\n",
       "      <td>покупка жилья</td>\n",
       "    </tr>\n",
       "    <tr>\n",
       "      <th>1</th>\n",
       "      <td>1</td>\n",
       "      <td>-4024.803754</td>\n",
       "      <td>36</td>\n",
       "      <td>среднее</td>\n",
       "      <td>1</td>\n",
       "      <td>женат / замужем</td>\n",
       "      <td>0</td>\n",
       "      <td>F</td>\n",
       "      <td>сотрудник</td>\n",
       "      <td>0</td>\n",
       "      <td>112080.014102</td>\n",
       "      <td>приобретение автомобиля</td>\n",
       "    </tr>\n",
       "    <tr>\n",
       "      <th>2</th>\n",
       "      <td>0</td>\n",
       "      <td>-5623.422610</td>\n",
       "      <td>33</td>\n",
       "      <td>Среднее</td>\n",
       "      <td>1</td>\n",
       "      <td>женат / замужем</td>\n",
       "      <td>0</td>\n",
       "      <td>M</td>\n",
       "      <td>сотрудник</td>\n",
       "      <td>0</td>\n",
       "      <td>145885.952297</td>\n",
       "      <td>покупка жилья</td>\n",
       "    </tr>\n",
       "    <tr>\n",
       "      <th>3</th>\n",
       "      <td>3</td>\n",
       "      <td>-4124.747207</td>\n",
       "      <td>32</td>\n",
       "      <td>среднее</td>\n",
       "      <td>1</td>\n",
       "      <td>женат / замужем</td>\n",
       "      <td>0</td>\n",
       "      <td>M</td>\n",
       "      <td>сотрудник</td>\n",
       "      <td>0</td>\n",
       "      <td>267628.550329</td>\n",
       "      <td>дополнительное образование</td>\n",
       "    </tr>\n",
       "    <tr>\n",
       "      <th>4</th>\n",
       "      <td>0</td>\n",
       "      <td>340266.072047</td>\n",
       "      <td>53</td>\n",
       "      <td>среднее</td>\n",
       "      <td>1</td>\n",
       "      <td>гражданский брак</td>\n",
       "      <td>1</td>\n",
       "      <td>F</td>\n",
       "      <td>пенсионер</td>\n",
       "      <td>0</td>\n",
       "      <td>158616.077870</td>\n",
       "      <td>сыграть свадьбу</td>\n",
       "    </tr>\n",
       "  </tbody>\n",
       "</table>\n",
       "</div>"
      ],
      "text/plain": [
       "   children  days_employed  dob_years education  education_id  \\\n",
       "0         1   -8437.673028         42    высшее             0   \n",
       "1         1   -4024.803754         36   среднее             1   \n",
       "2         0   -5623.422610         33   Среднее             1   \n",
       "3         3   -4124.747207         32   среднее             1   \n",
       "4         0  340266.072047         53   среднее             1   \n",
       "\n",
       "      family_status  family_status_id gender income_type  debt   total_income  \\\n",
       "0   женат / замужем                 0      F   сотрудник     0  253875.639453   \n",
       "1   женат / замужем                 0      F   сотрудник     0  112080.014102   \n",
       "2   женат / замужем                 0      M   сотрудник     0  145885.952297   \n",
       "3   женат / замужем                 0      M   сотрудник     0  267628.550329   \n",
       "4  гражданский брак                 1      F   пенсионер     0  158616.077870   \n",
       "\n",
       "                      purpose  \n",
       "0               покупка жилья  \n",
       "1     приобретение автомобиля  \n",
       "2               покупка жилья  \n",
       "3  дополнительное образование  \n",
       "4             сыграть свадьбу  "
      ]
     },
     "execution_count": 6,
     "metadata": {},
     "output_type": "execute_result"
    }
   ],
   "source": [
    "# Чтение csv и его обзор\n",
    "data = pd.read_csv('data.csv')\n",
    "data.head()"
   ]
  },
  {
   "cell_type": "code",
   "execution_count": 7,
   "id": "51808b15",
   "metadata": {},
   "outputs": [
    {
     "name": "stdout",
     "output_type": "stream",
     "text": [
      "<class 'pandas.core.frame.DataFrame'>\n",
      "RangeIndex: 21525 entries, 0 to 21524\n",
      "Data columns (total 12 columns):\n",
      " #   Column            Non-Null Count  Dtype  \n",
      "---  ------            --------------  -----  \n",
      " 0   children          21525 non-null  int64  \n",
      " 1   days_employed     19351 non-null  float64\n",
      " 2   dob_years         21525 non-null  int64  \n",
      " 3   education         21525 non-null  object \n",
      " 4   education_id      21525 non-null  int64  \n",
      " 5   family_status     21525 non-null  object \n",
      " 6   family_status_id  21525 non-null  int64  \n",
      " 7   gender            21525 non-null  object \n",
      " 8   income_type       21525 non-null  object \n",
      " 9   debt              21525 non-null  int64  \n",
      " 10  total_income      19351 non-null  float64\n",
      " 11  purpose           21525 non-null  object \n",
      "dtypes: float64(2), int64(5), object(5)\n",
      "memory usage: 2.0+ MB\n"
     ]
    }
   ],
   "source": [
    "# Вывод обобщенной информации о датафрейме\n",
    "data.info()"
   ]
  },
  {
   "cell_type": "markdown",
   "id": "4fd85390",
   "metadata": {},
   "source": [
    "- Общее количество строк 21 525;\n",
    "- Общее количество колонок 12;\n",
    "- В столбцах `'days_employed'` и `'total_income'` ненулевых значений меньше, чем в остальных столбцах;\n",
    "- В столбце `days_employed` набдюдаются отрицательные значения и шестизначные числа."
   ]
  },
  {
   "cell_type": "markdown",
   "id": "0c649e9e",
   "metadata": {},
   "source": [
    "## Предобработка данных"
   ]
  },
  {
   "cell_type": "markdown",
   "id": "cd132b42",
   "metadata": {},
   "source": [
    "### Заполнение пропусков"
   ]
  },
  {
   "cell_type": "code",
   "execution_count": 8,
   "id": "747bd947",
   "metadata": {},
   "outputs": [
    {
     "data": {
      "text/plain": [
       "children               0\n",
       "days_employed       2174\n",
       "dob_years              0\n",
       "education              0\n",
       "education_id           0\n",
       "family_status          0\n",
       "family_status_id       0\n",
       "gender                 0\n",
       "income_type            0\n",
       "debt                   0\n",
       "total_income        2174\n",
       "purpose                0\n",
       "dtype: int64"
      ]
     },
     "execution_count": 8,
     "metadata": {},
     "output_type": "execute_result"
    }
   ],
   "source": [
    "# Поиск столбцов с пропущенными значаениями и их сумма по столбцам\n",
    "data.isna().sum()"
   ]
  },
  {
   "cell_type": "markdown",
   "id": "24218b38",
   "metadata": {},
   "source": [
    "- Обнаружено два столбца с пропущенными значениями `days_employed` и `total_income` в количестве 2174. \n",
    "- Сумма пропущенных значений в столбцах совпадает и составляет 2174 значения."
   ]
  },
  {
   "cell_type": "code",
   "execution_count": 9,
   "id": "59fb9990",
   "metadata": {},
   "outputs": [
    {
     "data": {
      "text/plain": [
       "0.11"
      ]
     },
     "execution_count": 9,
     "metadata": {},
     "output_type": "execute_result"
    }
   ],
   "source": [
    "# Расчет доли пропущенных значений в столбце days_employed\n",
    "round((data['days_employed'].isna().sum() / data['days_employed'].count()), 2)"
   ]
  },
  {
   "cell_type": "code",
   "execution_count": 10,
   "id": "519098b9",
   "metadata": {},
   "outputs": [
    {
     "data": {
      "text/plain": [
       "0.11"
      ]
     },
     "execution_count": 10,
     "metadata": {},
     "output_type": "execute_result"
    }
   ],
   "source": [
    "# Расчет доли пропущенных значений в столбце total_income\n",
    "round((data['total_income'].isna().sum() / data['total_income'].count()), 2)"
   ]
  },
  {
   "cell_type": "markdown",
   "id": "3e2b0112",
   "metadata": {},
   "source": [
    "Пропуски занчений могут быть связаны с:\n",
    "\n",
    "    1. Отсутствием опыта работы и доходов\n",
    "    2. Отсутствием информации в базе данных\n",
    "    \n",
    "Считаю, что первое мловероятно, т.к. без подтверждения заработной платы клиенту не дали бы кредит.\n",
    "\n",
    "Доля пропущенных значений в рассматриваемых столбцах составляет 0.11. Доля достаточно велика, поэтому их пропуски следует заполнить медианным значением. При удалении же строк мы потерям дополнительную информацию из других столбцов. Однако, расчет медеианного значения будет не верным для столбца `days_employed` из-за наличия отрицательных значений в нём.\n",
    "\n",
    "**Медиана** — это такое число в выборке, что ровно половина элементов\n",
    "больше него, а другая половина — меньше."
   ]
  },
  {
   "cell_type": "code",
   "execution_count": 11,
   "id": "284b3689",
   "metadata": {},
   "outputs": [],
   "source": [
    "# Замена отрицательных значений на положительные в столбце days_employed\n",
    "data['days_employed'] = abs(data['days_employed'])"
   ]
  },
  {
   "cell_type": "code",
   "execution_count": 12,
   "id": "bcaef8da",
   "metadata": {},
   "outputs": [
    {
     "data": {
      "text/plain": [
       "0"
      ]
     },
     "execution_count": 12,
     "metadata": {},
     "output_type": "execute_result"
    }
   ],
   "source": [
    "# Проверка\n",
    "len(data[data['days_employed'] < 0])"
   ]
  },
  {
   "cell_type": "code",
   "execution_count": 13,
   "id": "ffd6fa0d",
   "metadata": {},
   "outputs": [],
   "source": [
    "#Заполнение пропусков медианным значением в столбце days_employed\n",
    "data['days_employed'] = data['days_employed'].fillna(data['days_employed'].median())"
   ]
  },
  {
   "cell_type": "code",
   "execution_count": 14,
   "id": "1afb7694",
   "metadata": {},
   "outputs": [],
   "source": [
    "#Заполнение пропусков медианным значением в столбце total_income\n",
    "data['total_income']= data['total_income'].fillna(data['total_income'].median())"
   ]
  },
  {
   "cell_type": "code",
   "execution_count": 15,
   "id": "07c3c1b4",
   "metadata": {},
   "outputs": [
    {
     "data": {
      "text/plain": [
       "2194.220566878695"
      ]
     },
     "execution_count": 15,
     "metadata": {},
     "output_type": "execute_result"
    }
   ],
   "source": [
    "data['days_employed'].median()"
   ]
  },
  {
   "cell_type": "code",
   "execution_count": 16,
   "id": "c1c78ac0",
   "metadata": {},
   "outputs": [
    {
     "data": {
      "text/plain": [
       "145017.93753253992"
      ]
     },
     "execution_count": 16,
     "metadata": {},
     "output_type": "execute_result"
    }
   ],
   "source": [
    "data['total_income'].median()"
   ]
  },
  {
   "cell_type": "code",
   "execution_count": 17,
   "id": "ed12e8f7",
   "metadata": {},
   "outputs": [
    {
     "data": {
      "text/plain": [
       "children            0\n",
       "days_employed       0\n",
       "dob_years           0\n",
       "education           0\n",
       "education_id        0\n",
       "family_status       0\n",
       "family_status_id    0\n",
       "gender              0\n",
       "income_type         0\n",
       "debt                0\n",
       "total_income        0\n",
       "purpose             0\n",
       "dtype: int64"
      ]
     },
     "execution_count": 17,
     "metadata": {},
     "output_type": "execute_result"
    }
   ],
   "source": [
    "#Проверка количтва пропущенных значений\n",
    "data.isna().sum()"
   ]
  },
  {
   "cell_type": "markdown",
   "id": "2d45289c",
   "metadata": {},
   "source": [
    "Теперь пропущенные значения отсутствуют."
   ]
  },
  {
   "cell_type": "markdown",
   "id": "3cbf637e",
   "metadata": {},
   "source": [
    "**Медиана**\n",
    "- `days_employed` =  2194\n",
    "- `total_income` = 14518"
   ]
  },
  {
   "cell_type": "markdown",
   "id": "edc3b1b0",
   "metadata": {},
   "source": [
    "### Проверка данных на аномалии и исправления"
   ]
  },
  {
   "cell_type": "markdown",
   "id": "79772364",
   "metadata": {},
   "source": [
    "#### Содержание\n",
    "\n",
    "- обзор аномалий\n",
    "- children\n",
    "- dob_years\n",
    "- days_employed\n",
    "  - отрицательные значения\n",
    "  - минимальные и максимальные аномалии"
   ]
  },
  {
   "cell_type": "markdown",
   "id": "73d25b80",
   "metadata": {},
   "source": [
    "#### обзор аномалий"
   ]
  },
  {
   "cell_type": "code",
   "execution_count": 18,
   "id": "0d9abe6c",
   "metadata": {},
   "outputs": [
    {
     "name": "stdout",
     "output_type": "stream",
     "text": [
      "children [-1, 0, 1, 2, 3, 4, 5, 20]\n",
      "dob_years [0, 19, 20, 21, 22, 23, 24, 25, 26, 27, 28, 29, 30, 31, 32, 33, 34, 35, 36, 37, 38, 39, 40, 41, 42, 43, 44, 45, 46, 47, 48, 49, 50, 51, 52, 53, 54, 55, 56, 57, 58, 59, 60, 61, 62, 63, 64, 65, 66, 67, 68, 69, 70, 71, 72, 73, 74, 75]\n",
      "education ['ВЫСШЕЕ', 'Высшее', 'НАЧАЛЬНОЕ', 'НЕОКОНЧЕННОЕ ВЫСШЕЕ', 'Начальное', 'Неоконченное высшее', 'СРЕДНЕЕ', 'Среднее', 'УЧЕНАЯ СТЕПЕНЬ', 'Ученая степень', 'высшее', 'начальное', 'неоконченное высшее', 'среднее', 'ученая степень']\n",
      "education_id [0, 1, 2, 3, 4]\n",
      "family_status ['Не женат / не замужем', 'в разводе', 'вдовец / вдова', 'гражданский брак', 'женат / замужем']\n",
      "family_status_id [0, 1, 2, 3, 4]\n",
      "gender ['F', 'M', 'XNA']\n",
      "income_type ['безработный', 'в декрете', 'госслужащий', 'компаньон', 'пенсионер', 'предприниматель', 'сотрудник', 'студент']\n",
      "purpose ['автомобили', 'автомобиль', 'высшее образование', 'дополнительное образование', 'жилье', 'заняться высшим образованием', 'заняться образованием', 'на покупку автомобиля', 'на покупку подержанного автомобиля', 'на покупку своего автомобиля', 'на проведение свадьбы', 'недвижимость', 'образование', 'операции с жильем', 'операции с коммерческой недвижимостью', 'операции с недвижимостью', 'операции со своей недвижимостью', 'покупка жилой недвижимости', 'покупка жилья', 'покупка жилья для сдачи', 'покупка жилья для семьи', 'покупка коммерческой недвижимости', 'покупка недвижимости', 'покупка своего жилья', 'получение высшего образования', 'получение дополнительного образования', 'получение образования', 'приобретение автомобиля', 'профильное образование', 'ремонт жилью', 'свадьба', 'свой автомобиль', 'сделка с автомобилем', 'сделка с подержанным автомобилем', 'строительство жилой недвижимости', 'строительство недвижимости', 'строительство собственной недвижимости', 'сыграть свадьбу']\n"
     ]
    }
   ],
   "source": [
    "# Составляем лист с интересующими столбцами\n",
    "category_columns = [\n",
    "                    'children', \n",
    "                    'dob_years', \n",
    "                    'education', \n",
    "                    'education_id',\n",
    "                    'family_status',\n",
    "                    'family_status_id',   \n",
    "                    'gender', \n",
    "                    'income_type', \n",
    "                    'purpose'\n",
    "                   ]\n",
    "# Составляем списки уникальных значений\n",
    "for column in category_columns:\n",
    "    try:\n",
    "        print(column, sorted(data[column].unique()))\n",
    "    except:\n",
    "        print('В датафрейме отсутствуюет значение колоники', column)"
   ]
  },
  {
   "cell_type": "markdown",
   "id": "c4a2c418",
   "metadata": {},
   "source": [
    "- `children` – выбиваются два значения -1 и 20. -1 и 20 скорее всго опечатки. Проверим строку/и с этим значением.\n",
    "- `dob_years` – наблюдается нулевое значение.\n",
    "- `ducation` – разный регистр\n",
    "- `gender` – вопрос с 'XNA' - возможно пол решили скрыть."
   ]
  },
  {
   "cell_type": "code",
   "execution_count": 19,
   "id": "1b05b3ff",
   "metadata": {},
   "outputs": [
    {
     "name": "stdout",
     "output_type": "stream",
     "text": [
      "education ['высшее' 'среднее' 'Среднее' 'СРЕДНЕЕ' 'ВЫСШЕЕ' 'неоконченное высшее'\n",
      " 'начальное' 'Высшее' 'НЕОКОНЧЕННОЕ ВЫСШЕЕ' 'Неоконченное высшее'\n",
      " 'НАЧАЛЬНОЕ' 'Начальное' 'Ученая степень' 'УЧЕНАЯ СТЕПЕНЬ'\n",
      " 'ученая степень'] \n",
      "\n",
      "family_status ['женат / замужем' 'гражданский брак' 'вдовец / вдова' 'в разводе'\n",
      " 'Не женат / не замужем'] \n",
      "\n",
      "gender ['F' 'M' 'XNA'] \n",
      "\n",
      "income_type ['сотрудник' 'пенсионер' 'компаньон' 'госслужащий' 'безработный'\n",
      " 'предприниматель' 'студент' 'в декрете'] \n",
      "\n",
      "purpose ['покупка жилья' 'приобретение автомобиля' 'дополнительное образование'\n",
      " 'сыграть свадьбу' 'операции с жильем' 'образование'\n",
      " 'на проведение свадьбы' 'покупка жилья для семьи' 'покупка недвижимости'\n",
      " 'покупка коммерческой недвижимости' 'покупка жилой недвижимости'\n",
      " 'строительство собственной недвижимости' 'недвижимость'\n",
      " 'строительство недвижимости' 'на покупку подержанного автомобиля'\n",
      " 'на покупку своего автомобиля' 'операции с коммерческой недвижимостью'\n",
      " 'строительство жилой недвижимости' 'жилье'\n",
      " 'операции со своей недвижимостью' 'автомобили' 'заняться образованием'\n",
      " 'сделка с подержанным автомобилем' 'получение образования' 'автомобиль'\n",
      " 'свадьба' 'получение дополнительного образования' 'покупка своего жилья'\n",
      " 'операции с недвижимостью' 'получение высшего образования'\n",
      " 'свой автомобиль' 'сделка с автомобилем' 'профильное образование'\n",
      " 'высшее образование' 'покупка жилья для сдачи' 'на покупку автомобиля'\n",
      " 'ремонт жилью' 'заняться высшим образованием'] \n",
      "\n"
     ]
    }
   ],
   "source": [
    "for col in data.select_dtypes(include='object').columns:\n",
    "    print(col, data[col].unique(), '\\n')"
   ]
  },
  {
   "cell_type": "markdown",
   "id": "bf7ee276",
   "metadata": {},
   "source": [
    "#### children"
   ]
  },
  {
   "cell_type": "code",
   "execution_count": 20,
   "id": "1447b32b",
   "metadata": {},
   "outputs": [
    {
     "data": {
      "text/plain": [
       "47"
      ]
     },
     "execution_count": 20,
     "metadata": {},
     "output_type": "execute_result"
    }
   ],
   "source": [
    "# Подсчет количества значений 'children' = -1\n",
    "len(data.loc[data['children'] == -1])"
   ]
  },
  {
   "cell_type": "code",
   "execution_count": 21,
   "id": "9dca9c3e",
   "metadata": {},
   "outputs": [
    {
     "data": {
      "text/html": [
       "<div>\n",
       "<style scoped>\n",
       "    .dataframe tbody tr th:only-of-type {\n",
       "        vertical-align: middle;\n",
       "    }\n",
       "\n",
       "    .dataframe tbody tr th {\n",
       "        vertical-align: top;\n",
       "    }\n",
       "\n",
       "    .dataframe thead th {\n",
       "        text-align: right;\n",
       "    }\n",
       "</style>\n",
       "<table border=\"1\" class=\"dataframe\">\n",
       "  <thead>\n",
       "    <tr style=\"text-align: right;\">\n",
       "      <th></th>\n",
       "      <th>children</th>\n",
       "      <th>days_employed</th>\n",
       "      <th>dob_years</th>\n",
       "      <th>education</th>\n",
       "      <th>education_id</th>\n",
       "      <th>family_status</th>\n",
       "      <th>family_status_id</th>\n",
       "      <th>gender</th>\n",
       "      <th>income_type</th>\n",
       "      <th>debt</th>\n",
       "      <th>total_income</th>\n",
       "      <th>purpose</th>\n",
       "    </tr>\n",
       "  </thead>\n",
       "  <tbody>\n",
       "    <tr>\n",
       "      <th>291</th>\n",
       "      <td>-1</td>\n",
       "      <td>4417.703588</td>\n",
       "      <td>46</td>\n",
       "      <td>среднее</td>\n",
       "      <td>1</td>\n",
       "      <td>гражданский брак</td>\n",
       "      <td>1</td>\n",
       "      <td>F</td>\n",
       "      <td>сотрудник</td>\n",
       "      <td>0</td>\n",
       "      <td>102816.346412</td>\n",
       "      <td>профильное образование</td>\n",
       "    </tr>\n",
       "    <tr>\n",
       "      <th>705</th>\n",
       "      <td>-1</td>\n",
       "      <td>902.084528</td>\n",
       "      <td>50</td>\n",
       "      <td>среднее</td>\n",
       "      <td>1</td>\n",
       "      <td>женат / замужем</td>\n",
       "      <td>0</td>\n",
       "      <td>F</td>\n",
       "      <td>госслужащий</td>\n",
       "      <td>0</td>\n",
       "      <td>137882.899271</td>\n",
       "      <td>приобретение автомобиля</td>\n",
       "    </tr>\n",
       "    <tr>\n",
       "      <th>742</th>\n",
       "      <td>-1</td>\n",
       "      <td>3174.456205</td>\n",
       "      <td>57</td>\n",
       "      <td>среднее</td>\n",
       "      <td>1</td>\n",
       "      <td>женат / замужем</td>\n",
       "      <td>0</td>\n",
       "      <td>F</td>\n",
       "      <td>сотрудник</td>\n",
       "      <td>0</td>\n",
       "      <td>64268.044444</td>\n",
       "      <td>дополнительное образование</td>\n",
       "    </tr>\n",
       "    <tr>\n",
       "      <th>800</th>\n",
       "      <td>-1</td>\n",
       "      <td>349987.852217</td>\n",
       "      <td>54</td>\n",
       "      <td>среднее</td>\n",
       "      <td>1</td>\n",
       "      <td>Не женат / не замужем</td>\n",
       "      <td>4</td>\n",
       "      <td>F</td>\n",
       "      <td>пенсионер</td>\n",
       "      <td>0</td>\n",
       "      <td>86293.724153</td>\n",
       "      <td>дополнительное образование</td>\n",
       "    </tr>\n",
       "    <tr>\n",
       "      <th>941</th>\n",
       "      <td>-1</td>\n",
       "      <td>2194.220567</td>\n",
       "      <td>57</td>\n",
       "      <td>Среднее</td>\n",
       "      <td>1</td>\n",
       "      <td>женат / замужем</td>\n",
       "      <td>0</td>\n",
       "      <td>F</td>\n",
       "      <td>пенсионер</td>\n",
       "      <td>0</td>\n",
       "      <td>145017.937533</td>\n",
       "      <td>на покупку своего автомобиля</td>\n",
       "    </tr>\n",
       "  </tbody>\n",
       "</table>\n",
       "</div>"
      ],
      "text/plain": [
       "     children  days_employed  dob_years education  education_id  \\\n",
       "291        -1    4417.703588         46   среднее             1   \n",
       "705        -1     902.084528         50   среднее             1   \n",
       "742        -1    3174.456205         57   среднее             1   \n",
       "800        -1  349987.852217         54   среднее             1   \n",
       "941        -1    2194.220567         57   Среднее             1   \n",
       "\n",
       "             family_status  family_status_id gender  income_type  debt  \\\n",
       "291       гражданский брак                 1      F    сотрудник     0   \n",
       "705        женат / замужем                 0      F  госслужащий     0   \n",
       "742        женат / замужем                 0      F    сотрудник     0   \n",
       "800  Не женат / не замужем                 4      F    пенсионер     0   \n",
       "941        женат / замужем                 0      F    пенсионер     0   \n",
       "\n",
       "      total_income                       purpose  \n",
       "291  102816.346412        профильное образование  \n",
       "705  137882.899271       приобретение автомобиля  \n",
       "742   64268.044444    дополнительное образование  \n",
       "800   86293.724153    дополнительное образование  \n",
       "941  145017.937533  на покупку своего автомобиля  "
      ]
     },
     "execution_count": 21,
     "metadata": {},
     "output_type": "execute_result"
    }
   ],
   "source": [
    "# Обзор строк со значением 'children' = -1\n",
    "data.loc[data['children'] == -1].head()"
   ]
  },
  {
   "cell_type": "markdown",
   "id": "798cbc2c",
   "metadata": {},
   "source": [
    "Строк со значением `-1` 47 штук. Будем исходить из гипотезы того, что это опечатка в виде добавленного минуса. "
   ]
  },
  {
   "cell_type": "code",
   "execution_count": 22,
   "id": "256d9d9d",
   "metadata": {},
   "outputs": [
    {
     "data": {
      "text/plain": [
       "76"
      ]
     },
     "execution_count": 22,
     "metadata": {},
     "output_type": "execute_result"
    }
   ],
   "source": [
    "# Подсчет количества значений 'children' = 20\n",
    "len(data.loc[data['children'] == 20])"
   ]
  },
  {
   "cell_type": "code",
   "execution_count": 23,
   "id": "d3425157",
   "metadata": {},
   "outputs": [
    {
     "data": {
      "text/html": [
       "<div>\n",
       "<style scoped>\n",
       "    .dataframe tbody tr th:only-of-type {\n",
       "        vertical-align: middle;\n",
       "    }\n",
       "\n",
       "    .dataframe tbody tr th {\n",
       "        vertical-align: top;\n",
       "    }\n",
       "\n",
       "    .dataframe thead th {\n",
       "        text-align: right;\n",
       "    }\n",
       "</style>\n",
       "<table border=\"1\" class=\"dataframe\">\n",
       "  <thead>\n",
       "    <tr style=\"text-align: right;\">\n",
       "      <th></th>\n",
       "      <th>children</th>\n",
       "      <th>days_employed</th>\n",
       "      <th>dob_years</th>\n",
       "      <th>education</th>\n",
       "      <th>education_id</th>\n",
       "      <th>family_status</th>\n",
       "      <th>family_status_id</th>\n",
       "      <th>gender</th>\n",
       "      <th>income_type</th>\n",
       "      <th>debt</th>\n",
       "      <th>total_income</th>\n",
       "      <th>purpose</th>\n",
       "    </tr>\n",
       "  </thead>\n",
       "  <tbody>\n",
       "    <tr>\n",
       "      <th>606</th>\n",
       "      <td>20</td>\n",
       "      <td>880.221113</td>\n",
       "      <td>21</td>\n",
       "      <td>среднее</td>\n",
       "      <td>1</td>\n",
       "      <td>женат / замужем</td>\n",
       "      <td>0</td>\n",
       "      <td>M</td>\n",
       "      <td>компаньон</td>\n",
       "      <td>0</td>\n",
       "      <td>145334.865002</td>\n",
       "      <td>покупка жилья</td>\n",
       "    </tr>\n",
       "    <tr>\n",
       "      <th>720</th>\n",
       "      <td>20</td>\n",
       "      <td>855.595512</td>\n",
       "      <td>44</td>\n",
       "      <td>среднее</td>\n",
       "      <td>1</td>\n",
       "      <td>женат / замужем</td>\n",
       "      <td>0</td>\n",
       "      <td>F</td>\n",
       "      <td>компаньон</td>\n",
       "      <td>0</td>\n",
       "      <td>112998.738649</td>\n",
       "      <td>покупка недвижимости</td>\n",
       "    </tr>\n",
       "    <tr>\n",
       "      <th>1074</th>\n",
       "      <td>20</td>\n",
       "      <td>3310.411598</td>\n",
       "      <td>56</td>\n",
       "      <td>среднее</td>\n",
       "      <td>1</td>\n",
       "      <td>женат / замужем</td>\n",
       "      <td>0</td>\n",
       "      <td>F</td>\n",
       "      <td>сотрудник</td>\n",
       "      <td>1</td>\n",
       "      <td>229518.537004</td>\n",
       "      <td>получение образования</td>\n",
       "    </tr>\n",
       "    <tr>\n",
       "      <th>2510</th>\n",
       "      <td>20</td>\n",
       "      <td>2714.161249</td>\n",
       "      <td>59</td>\n",
       "      <td>высшее</td>\n",
       "      <td>0</td>\n",
       "      <td>вдовец / вдова</td>\n",
       "      <td>2</td>\n",
       "      <td>F</td>\n",
       "      <td>сотрудник</td>\n",
       "      <td>0</td>\n",
       "      <td>264474.835577</td>\n",
       "      <td>операции с коммерческой недвижимостью</td>\n",
       "    </tr>\n",
       "    <tr>\n",
       "      <th>2941</th>\n",
       "      <td>20</td>\n",
       "      <td>2161.591519</td>\n",
       "      <td>0</td>\n",
       "      <td>среднее</td>\n",
       "      <td>1</td>\n",
       "      <td>женат / замужем</td>\n",
       "      <td>0</td>\n",
       "      <td>F</td>\n",
       "      <td>сотрудник</td>\n",
       "      <td>0</td>\n",
       "      <td>199739.941398</td>\n",
       "      <td>на покупку автомобиля</td>\n",
       "    </tr>\n",
       "  </tbody>\n",
       "</table>\n",
       "</div>"
      ],
      "text/plain": [
       "      children  days_employed  dob_years education  education_id  \\\n",
       "606         20     880.221113         21   среднее             1   \n",
       "720         20     855.595512         44   среднее             1   \n",
       "1074        20    3310.411598         56   среднее             1   \n",
       "2510        20    2714.161249         59    высшее             0   \n",
       "2941        20    2161.591519          0   среднее             1   \n",
       "\n",
       "        family_status  family_status_id gender income_type  debt  \\\n",
       "606   женат / замужем                 0      M   компаньон     0   \n",
       "720   женат / замужем                 0      F   компаньон     0   \n",
       "1074  женат / замужем                 0      F   сотрудник     1   \n",
       "2510   вдовец / вдова                 2      F   сотрудник     0   \n",
       "2941  женат / замужем                 0      F   сотрудник     0   \n",
       "\n",
       "       total_income                                purpose  \n",
       "606   145334.865002                          покупка жилья  \n",
       "720   112998.738649                   покупка недвижимости  \n",
       "1074  229518.537004                  получение образования  \n",
       "2510  264474.835577  операции с коммерческой недвижимостью  \n",
       "2941  199739.941398                  на покупку автомобиля  "
      ]
     },
     "execution_count": 23,
     "metadata": {},
     "output_type": "execute_result"
    }
   ],
   "source": [
    "# Обзор строк со значением 'children' = 20\n",
    "data.loc[data['children'] == 20].head()"
   ]
  },
  {
   "cell_type": "markdown",
   "id": "95049d2b",
   "metadata": {},
   "source": [
    "Строк со значением `20` 76 штук. \n",
    "Будем исходить из гипотезы того, что это опечатка в виде добавленного нуля. \n",
    "\n",
    "**Возможно рассмотрение двух вариантов:**\n",
    "  1. Замена 20 на 2 and/or -1 на 1\n",
    "  2. Удаление строк `children` = 20 and/or `children` = -1\n",
    "\n",
    "В данном случае оба этих варианта не сильно повлияют на статистические характеристики выборки, т.к. анаомальных значений немного. Выберем замену."
   ]
  },
  {
   "cell_type": "code",
   "execution_count": 24,
   "id": "528b444e",
   "metadata": {},
   "outputs": [],
   "source": [
    "# Замена значений -1 на 1 и 20 на 2 в столбце children\n",
    "data['children'] = abs(data['children'])\n",
    "data.loc[data['children'] == 20, 'children'] = 2"
   ]
  },
  {
   "cell_type": "code",
   "execution_count": 25,
   "id": "a6f78a4a",
   "metadata": {},
   "outputs": [
    {
     "data": {
      "text/plain": [
       "[0, 1, 2, 3, 4, 5]"
      ]
     },
     "execution_count": 25,
     "metadata": {},
     "output_type": "execute_result"
    }
   ],
   "source": [
    "# Проверка\n",
    "sorted(data['children'].unique())"
   ]
  },
  {
   "cell_type": "markdown",
   "id": "d850822d",
   "metadata": {},
   "source": [
    "Значения -1 и 20 теперь отсутствуют."
   ]
  },
  {
   "cell_type": "markdown",
   "id": "b9e7eb85",
   "metadata": {},
   "source": [
    "#### dob_years"
   ]
  },
  {
   "cell_type": "markdown",
   "id": "ea8ea7bf",
   "metadata": {},
   "source": [
    "Как указывалось выше в столбце `dob_years` наблюдаются значения равные нулю."
   ]
  },
  {
   "cell_type": "code",
   "execution_count": 26,
   "id": "42ef9460",
   "metadata": {},
   "outputs": [
    {
     "data": {
      "text/plain": [
       "0.005"
      ]
     },
     "execution_count": 26,
     "metadata": {},
     "output_type": "execute_result"
    }
   ],
   "source": [
    "# Рассчет доли значений days_employed 'dob_years' = 0\n",
    "round(len(data.loc[data['dob_years'] == 0]) / data['dob_years'].count(), 3)"
   ]
  },
  {
   "cell_type": "markdown",
   "id": "6b27ad4a",
   "metadata": {},
   "source": [
    "Доля рассматриваемого значения невелика. Соответственно их можно удалить."
   ]
  },
  {
   "cell_type": "code",
   "execution_count": 27,
   "id": "13988e96",
   "metadata": {},
   "outputs": [],
   "source": [
    "# Сохранение датафрейма без dob_years' = 0\n",
    "data = data[data['dob_years'] != 0]"
   ]
  },
  {
   "cell_type": "code",
   "execution_count": 28,
   "id": "2825f7c2",
   "metadata": {},
   "outputs": [
    {
     "data": {
      "text/plain": [
       "0"
      ]
     },
     "execution_count": 28,
     "metadata": {},
     "output_type": "execute_result"
    }
   ],
   "source": [
    "# Проверка\n",
    "len(data.loc[data['dob_years'] == 0])"
   ]
  },
  {
   "cell_type": "markdown",
   "id": "94a0970f",
   "metadata": {},
   "source": [
    "Значение `0` теперь отсутствует."
   ]
  },
  {
   "cell_type": "markdown",
   "id": "d0110e35",
   "metadata": {},
   "source": [
    "#### days_employed"
   ]
  },
  {
   "cell_type": "markdown",
   "id": "15d29418",
   "metadata": {},
   "source": [
    "В столбце `days_employed` обнаружены:\n",
    "1. Отрицательные значения\n",
    "2. Аномальные максимальные и минимальные значения"
   ]
  },
  {
   "cell_type": "markdown",
   "id": "d4acf147",
   "metadata": {},
   "source": [
    "##### Отрицательные значения"
   ]
  },
  {
   "cell_type": "markdown",
   "id": "9fae1c88",
   "metadata": {},
   "source": [
    "Отрицательные значения могут быть связаны с опечаткой и уже были заменены на этапе заполнения пропусков."
   ]
  },
  {
   "cell_type": "markdown",
   "id": "9c972bbe",
   "metadata": {},
   "source": [
    "#### Минимальные и максимальные аномалии"
   ]
  },
  {
   "cell_type": "markdown",
   "id": "9cb3b162",
   "metadata": {},
   "source": [
    "**Минимальные аномалии**"
   ]
  },
  {
   "cell_type": "code",
   "execution_count": 29,
   "id": "2b7bb04e",
   "metadata": {},
   "outputs": [
    {
     "data": {
      "text/html": [
       "<div>\n",
       "<style scoped>\n",
       "    .dataframe tbody tr th:only-of-type {\n",
       "        vertical-align: middle;\n",
       "    }\n",
       "\n",
       "    .dataframe tbody tr th {\n",
       "        vertical-align: top;\n",
       "    }\n",
       "\n",
       "    .dataframe thead th {\n",
       "        text-align: right;\n",
       "    }\n",
       "</style>\n",
       "<table border=\"1\" class=\"dataframe\">\n",
       "  <thead>\n",
       "    <tr style=\"text-align: right;\">\n",
       "      <th></th>\n",
       "      <th>children</th>\n",
       "      <th>days_employed</th>\n",
       "      <th>dob_years</th>\n",
       "      <th>education</th>\n",
       "      <th>education_id</th>\n",
       "      <th>family_status</th>\n",
       "      <th>family_status_id</th>\n",
       "      <th>gender</th>\n",
       "      <th>income_type</th>\n",
       "      <th>debt</th>\n",
       "      <th>total_income</th>\n",
       "      <th>purpose</th>\n",
       "    </tr>\n",
       "  </thead>\n",
       "  <tbody>\n",
       "    <tr>\n",
       "      <th>17437</th>\n",
       "      <td>1</td>\n",
       "      <td>24.141633</td>\n",
       "      <td>31</td>\n",
       "      <td>среднее</td>\n",
       "      <td>1</td>\n",
       "      <td>женат / замужем</td>\n",
       "      <td>0</td>\n",
       "      <td>F</td>\n",
       "      <td>сотрудник</td>\n",
       "      <td>1</td>\n",
       "      <td>166952.415427</td>\n",
       "      <td>высшее образование</td>\n",
       "    </tr>\n",
       "    <tr>\n",
       "      <th>8336</th>\n",
       "      <td>0</td>\n",
       "      <td>24.240695</td>\n",
       "      <td>32</td>\n",
       "      <td>высшее</td>\n",
       "      <td>0</td>\n",
       "      <td>Не женат / не замужем</td>\n",
       "      <td>4</td>\n",
       "      <td>M</td>\n",
       "      <td>сотрудник</td>\n",
       "      <td>0</td>\n",
       "      <td>124115.373655</td>\n",
       "      <td>получение дополнительного образования</td>\n",
       "    </tr>\n",
       "    <tr>\n",
       "      <th>6157</th>\n",
       "      <td>2</td>\n",
       "      <td>30.195337</td>\n",
       "      <td>47</td>\n",
       "      <td>среднее</td>\n",
       "      <td>1</td>\n",
       "      <td>гражданский брак</td>\n",
       "      <td>1</td>\n",
       "      <td>M</td>\n",
       "      <td>компаньон</td>\n",
       "      <td>0</td>\n",
       "      <td>231461.185606</td>\n",
       "      <td>свадьба</td>\n",
       "    </tr>\n",
       "    <tr>\n",
       "      <th>9683</th>\n",
       "      <td>0</td>\n",
       "      <td>33.520665</td>\n",
       "      <td>43</td>\n",
       "      <td>среднее</td>\n",
       "      <td>1</td>\n",
       "      <td>Не женат / не замужем</td>\n",
       "      <td>4</td>\n",
       "      <td>M</td>\n",
       "      <td>сотрудник</td>\n",
       "      <td>1</td>\n",
       "      <td>128555.897209</td>\n",
       "      <td>приобретение автомобиля</td>\n",
       "    </tr>\n",
       "    <tr>\n",
       "      <th>2127</th>\n",
       "      <td>1</td>\n",
       "      <td>34.701045</td>\n",
       "      <td>31</td>\n",
       "      <td>высшее</td>\n",
       "      <td>0</td>\n",
       "      <td>женат / замужем</td>\n",
       "      <td>0</td>\n",
       "      <td>F</td>\n",
       "      <td>компаньон</td>\n",
       "      <td>0</td>\n",
       "      <td>90557.994311</td>\n",
       "      <td>получение образования</td>\n",
       "    </tr>\n",
       "  </tbody>\n",
       "</table>\n",
       "</div>"
      ],
      "text/plain": [
       "       children  days_employed  dob_years education  education_id  \\\n",
       "17437         1      24.141633         31   среднее             1   \n",
       "8336          0      24.240695         32    высшее             0   \n",
       "6157          2      30.195337         47   среднее             1   \n",
       "9683          0      33.520665         43   среднее             1   \n",
       "2127          1      34.701045         31    высшее             0   \n",
       "\n",
       "               family_status  family_status_id gender income_type  debt  \\\n",
       "17437        женат / замужем                 0      F   сотрудник     1   \n",
       "8336   Не женат / не замужем                 4      M   сотрудник     0   \n",
       "6157        гражданский брак                 1      M   компаньон     0   \n",
       "9683   Не женат / не замужем                 4      M   сотрудник     1   \n",
       "2127         женат / замужем                 0      F   компаньон     0   \n",
       "\n",
       "        total_income                                purpose  \n",
       "17437  166952.415427                     высшее образование  \n",
       "8336   124115.373655  получение дополнительного образования  \n",
       "6157   231461.185606                                свадьба  \n",
       "9683   128555.897209                приобретение автомобиля  \n",
       "2127    90557.994311                  получение образования  "
      ]
     },
     "execution_count": 29,
     "metadata": {},
     "output_type": "execute_result"
    }
   ],
   "source": [
    "# Сортировка столбца days_employed\n",
    "data.sort_values(by='days_employed', ascending=True).head()"
   ]
  },
  {
   "cell_type": "code",
   "execution_count": 30,
   "id": "85d82efe",
   "metadata": {},
   "outputs": [
    {
     "data": {
      "text/plain": [
       "0.085"
      ]
     },
     "execution_count": 30,
     "metadata": {},
     "output_type": "execute_result"
    }
   ],
   "source": [
    "# Оценка количества аномальных минимальных значений\n",
    "round((data[data['days_employed'] < 365]['days_employed'].count() / len(data)), 3)"
   ]
  },
  {
   "cell_type": "markdown",
   "id": "f5e35d4e",
   "metadata": {},
   "source": [
    "Клиентов со стажем работы менее одного года составляет чуть больше 8% от общего клиентов. Так как этих значений достаточно много, удалять их не рекомендуется.\n",
    "\n",
    "Однозначную методику отсеивания минимальных аномалий в `days_employed` придумать затруднительно, т.к. нужно явно понимать причины таких значений. Не зная такой причины следует принять гипотезу о том, что эти данные правильные. Клиент мог работать большую часть трудовой жизни неофициально. "
   ]
  },
  {
   "cell_type": "markdown",
   "id": "0a48c932",
   "metadata": {},
   "source": [
    "**Максимальные значения**"
   ]
  },
  {
   "cell_type": "code",
   "execution_count": 31,
   "id": "6bdbe991",
   "metadata": {},
   "outputs": [
    {
     "data": {
      "text/html": [
       "<div>\n",
       "<style scoped>\n",
       "    .dataframe tbody tr th:only-of-type {\n",
       "        vertical-align: middle;\n",
       "    }\n",
       "\n",
       "    .dataframe tbody tr th {\n",
       "        vertical-align: top;\n",
       "    }\n",
       "\n",
       "    .dataframe thead th {\n",
       "        text-align: right;\n",
       "    }\n",
       "</style>\n",
       "<table border=\"1\" class=\"dataframe\">\n",
       "  <thead>\n",
       "    <tr style=\"text-align: right;\">\n",
       "      <th></th>\n",
       "      <th>children</th>\n",
       "      <th>days_employed</th>\n",
       "      <th>dob_years</th>\n",
       "      <th>education</th>\n",
       "      <th>education_id</th>\n",
       "      <th>family_status</th>\n",
       "      <th>family_status_id</th>\n",
       "      <th>gender</th>\n",
       "      <th>income_type</th>\n",
       "      <th>debt</th>\n",
       "      <th>total_income</th>\n",
       "      <th>purpose</th>\n",
       "    </tr>\n",
       "  </thead>\n",
       "  <tbody>\n",
       "    <tr>\n",
       "      <th>4</th>\n",
       "      <td>0</td>\n",
       "      <td>340266.072047</td>\n",
       "      <td>53</td>\n",
       "      <td>среднее</td>\n",
       "      <td>1</td>\n",
       "      <td>гражданский брак</td>\n",
       "      <td>1</td>\n",
       "      <td>F</td>\n",
       "      <td>пенсионер</td>\n",
       "      <td>0</td>\n",
       "      <td>158616.077870</td>\n",
       "      <td>сыграть свадьбу</td>\n",
       "    </tr>\n",
       "    <tr>\n",
       "      <th>18</th>\n",
       "      <td>0</td>\n",
       "      <td>400281.136913</td>\n",
       "      <td>53</td>\n",
       "      <td>среднее</td>\n",
       "      <td>1</td>\n",
       "      <td>вдовец / вдова</td>\n",
       "      <td>2</td>\n",
       "      <td>F</td>\n",
       "      <td>пенсионер</td>\n",
       "      <td>0</td>\n",
       "      <td>56823.777243</td>\n",
       "      <td>на покупку подержанного автомобиля</td>\n",
       "    </tr>\n",
       "    <tr>\n",
       "      <th>24</th>\n",
       "      <td>1</td>\n",
       "      <td>338551.952911</td>\n",
       "      <td>57</td>\n",
       "      <td>среднее</td>\n",
       "      <td>1</td>\n",
       "      <td>Не женат / не замужем</td>\n",
       "      <td>4</td>\n",
       "      <td>F</td>\n",
       "      <td>пенсионер</td>\n",
       "      <td>0</td>\n",
       "      <td>290547.235997</td>\n",
       "      <td>операции с коммерческой недвижимостью</td>\n",
       "    </tr>\n",
       "    <tr>\n",
       "      <th>25</th>\n",
       "      <td>0</td>\n",
       "      <td>363548.489348</td>\n",
       "      <td>67</td>\n",
       "      <td>среднее</td>\n",
       "      <td>1</td>\n",
       "      <td>женат / замужем</td>\n",
       "      <td>0</td>\n",
       "      <td>M</td>\n",
       "      <td>пенсионер</td>\n",
       "      <td>0</td>\n",
       "      <td>55112.757732</td>\n",
       "      <td>покупка недвижимости</td>\n",
       "    </tr>\n",
       "    <tr>\n",
       "      <th>30</th>\n",
       "      <td>1</td>\n",
       "      <td>335581.668515</td>\n",
       "      <td>62</td>\n",
       "      <td>среднее</td>\n",
       "      <td>1</td>\n",
       "      <td>женат / замужем</td>\n",
       "      <td>0</td>\n",
       "      <td>F</td>\n",
       "      <td>пенсионер</td>\n",
       "      <td>0</td>\n",
       "      <td>171456.067993</td>\n",
       "      <td>операции с коммерческой недвижимостью</td>\n",
       "    </tr>\n",
       "  </tbody>\n",
       "</table>\n",
       "</div>"
      ],
      "text/plain": [
       "    children  days_employed  dob_years education  education_id  \\\n",
       "4          0  340266.072047         53   среднее             1   \n",
       "18         0  400281.136913         53   среднее             1   \n",
       "24         1  338551.952911         57   среднее             1   \n",
       "25         0  363548.489348         67   среднее             1   \n",
       "30         1  335581.668515         62   среднее             1   \n",
       "\n",
       "            family_status  family_status_id gender income_type  debt  \\\n",
       "4        гражданский брак                 1      F   пенсионер     0   \n",
       "18         вдовец / вдова                 2      F   пенсионер     0   \n",
       "24  Не женат / не замужем                 4      F   пенсионер     0   \n",
       "25        женат / замужем                 0      M   пенсионер     0   \n",
       "30        женат / замужем                 0      F   пенсионер     0   \n",
       "\n",
       "     total_income                                purpose  \n",
       "4   158616.077870                        сыграть свадьбу  \n",
       "18   56823.777243     на покупку подержанного автомобиля  \n",
       "24  290547.235997  операции с коммерческой недвижимостью  \n",
       "25   55112.757732                   покупка недвижимости  \n",
       "30  171456.067993  операции с коммерческой недвижимостью  "
      ]
     },
     "execution_count": 31,
     "metadata": {},
     "output_type": "execute_result"
    }
   ],
   "source": [
    "# Фильтрация аномальных максимальных значений\n",
    "# Выбираются (фильтруются) те значения days_employed, которые превышают возможный рабочий стаж в днях (dob_years - 14)\n",
    "# 14 лет это минимальный возраст для принятия на работу, с соблюдением определенных условий.\n",
    "\n",
    "data_employed_filter = data[data['days_employed'].astype('int') / 365 >= (data['dob_years'] - 14)]\n",
    "data_employed_filter.head()"
   ]
  },
  {
   "cell_type": "markdown",
   "id": "99e2d03b",
   "metadata": {},
   "source": [
    "На глаза бросается длинна значений отфильтрованного столбца 'days_employed', равная 6."
   ]
  },
  {
   "cell_type": "code",
   "execution_count": 32,
   "id": "da32d329",
   "metadata": {},
   "outputs": [
    {
     "data": {
      "text/plain": [
       "993.8315550711751"
      ]
     },
     "execution_count": 32,
     "metadata": {},
     "output_type": "execute_result"
    }
   ],
   "source": [
    "# Cреднее значение дней стажа \n",
    "data_employed_filter['days_employed'].mean() / 365"
   ]
  },
  {
   "cell_type": "code",
   "execution_count": 33,
   "id": "75827514",
   "metadata": {},
   "outputs": [
    {
     "data": {
      "text/plain": [
       "len_days_employed\n",
       "4      11\n",
       "5      11\n",
       "6    3428\n",
       "Name: len_days_employed, dtype: int64"
      ]
     },
     "execution_count": 33,
     "metadata": {},
     "output_type": "execute_result"
    }
   ],
   "source": [
    "# Проверка длины значений\n",
    "pd.options.mode.chained_assignment = None\n",
    "data_employed_filter['len_days_employed'] = data_employed_filter['days_employed'].apply(lambda x: len(str(int(x))))\n",
    "data_employed_filter.groupby(by='len_days_employed')['len_days_employed'].count()"
   ]
  },
  {
   "cell_type": "markdown",
   "id": "f51969e5",
   "metadata": {},
   "source": [
    "Длинна значений в отфильтрованном датафрейме перимущественно равна шести."
   ]
  },
  {
   "cell_type": "markdown",
   "id": "e0c29549",
   "metadata": {},
   "source": [
    "Проверим гипотезу о том, что запята в данных стоит не в том месте. Разделим столбец `days_employed` на 10 и на 100, и найдем разницу между `days_employed` и (`dob_years` - 14). Она должна стремиться к 0. Значения приводятся к годам."
   ]
  },
  {
   "cell_type": "code",
   "execution_count": 34,
   "id": "25b23469",
   "metadata": {},
   "outputs": [
    {
     "data": {
      "text/plain": [
       "54.09735840566841"
      ]
     },
     "execution_count": 34,
     "metadata": {},
     "output_type": "execute_result"
    }
   ],
   "source": [
    "# Деление days_employed на 10\n",
    "# Сопоставление со значением столбца dob_years\n",
    "pd.options.mode.chained_assignment = None\n",
    "data_employed_filter['difference'] = (data_employed_filter['days_employed'] / 10 /365) - (data_employed_filter['dob_years'] - 14)\n",
    "data_employed_filter['difference'].mean()"
   ]
  },
  {
   "cell_type": "code",
   "execution_count": 35,
   "id": "3aac89e6",
   "metadata": {},
   "outputs": [
    {
     "data": {
      "text/plain": [
       "-35.34748155073749"
      ]
     },
     "execution_count": 35,
     "metadata": {},
     "output_type": "execute_result"
    }
   ],
   "source": [
    "# Деление days_employed на 100\n",
    "# Сопоставление со значением столбца dob_years\n",
    "pd.options.mode.chained_assignment = None\n",
    "data_employed_filter['difference'] = (data_employed_filter['days_employed'] / 100 /365) - (data_employed_filter['dob_years'] - 14)\n",
    "data_employed_filter['difference'].mean()"
   ]
  },
  {
   "cell_type": "markdown",
   "id": "0f8a0eac",
   "metadata": {},
   "source": [
    "Значение разницы `days_employed` и (`dob_years` - 14) получилось сильно отличным от нуля. Гипотезу отвергаем."
   ]
  },
  {
   "cell_type": "markdown",
   "id": "70079ae3",
   "metadata": {},
   "source": [
    "Гипотезу неверном порядке значений отвергаем.\n",
    "\n",
    "Попробуем посмотреть каким категориям присущи максимальные аномальные значения."
   ]
  },
  {
   "cell_type": "code",
   "execution_count": 36,
   "id": "de633b83",
   "metadata": {},
   "outputs": [
    {
     "data": {
      "text/html": [
       "<div>\n",
       "<style scoped>\n",
       "    .dataframe tbody tr th:only-of-type {\n",
       "        vertical-align: middle;\n",
       "    }\n",
       "\n",
       "    .dataframe tbody tr th {\n",
       "        vertical-align: top;\n",
       "    }\n",
       "\n",
       "    .dataframe thead th {\n",
       "        text-align: right;\n",
       "    }\n",
       "</style>\n",
       "<table border=\"1\" class=\"dataframe\">\n",
       "  <thead>\n",
       "    <tr style=\"text-align: right;\">\n",
       "      <th>family_status</th>\n",
       "      <th>Не женат / не замужем</th>\n",
       "      <th>в разводе</th>\n",
       "      <th>вдовец / вдова</th>\n",
       "      <th>гражданский брак</th>\n",
       "      <th>женат / замужем</th>\n",
       "    </tr>\n",
       "    <tr>\n",
       "      <th>income_type</th>\n",
       "      <th></th>\n",
       "      <th></th>\n",
       "      <th></th>\n",
       "      <th></th>\n",
       "      <th></th>\n",
       "    </tr>\n",
       "  </thead>\n",
       "  <tbody>\n",
       "    <tr>\n",
       "      <th>безработный</th>\n",
       "      <td>NaN</td>\n",
       "      <td>NaN</td>\n",
       "      <td>NaN</td>\n",
       "      <td>1.0</td>\n",
       "      <td>1.0</td>\n",
       "    </tr>\n",
       "    <tr>\n",
       "      <th>госслужащий</th>\n",
       "      <td>NaN</td>\n",
       "      <td>NaN</td>\n",
       "      <td>NaN</td>\n",
       "      <td>NaN</td>\n",
       "      <td>1.0</td>\n",
       "    </tr>\n",
       "    <tr>\n",
       "      <th>компаньон</th>\n",
       "      <td>1.0</td>\n",
       "      <td>NaN</td>\n",
       "      <td>NaN</td>\n",
       "      <td>NaN</td>\n",
       "      <td>5.0</td>\n",
       "    </tr>\n",
       "    <tr>\n",
       "      <th>пенсионер</th>\n",
       "      <td>309.0</td>\n",
       "      <td>197.0</td>\n",
       "      <td>480.0</td>\n",
       "      <td>576.0</td>\n",
       "      <td>1864.0</td>\n",
       "    </tr>\n",
       "    <tr>\n",
       "      <th>сотрудник</th>\n",
       "      <td>1.0</td>\n",
       "      <td>NaN</td>\n",
       "      <td>NaN</td>\n",
       "      <td>4.0</td>\n",
       "      <td>10.0</td>\n",
       "    </tr>\n",
       "  </tbody>\n",
       "</table>\n",
       "</div>"
      ],
      "text/plain": [
       "family_status  Не женат / не замужем  в разводе  вдовец / вдова  \\\n",
       "income_type                                                       \n",
       "безработный                      NaN        NaN             NaN   \n",
       "госслужащий                      NaN        NaN             NaN   \n",
       "компаньон                        1.0        NaN             NaN   \n",
       "пенсионер                      309.0      197.0           480.0   \n",
       "сотрудник                        1.0        NaN             NaN   \n",
       "\n",
       "family_status  гражданский брак  женат / замужем  \n",
       "income_type                                       \n",
       "безработный                 1.0              1.0  \n",
       "госслужащий                 NaN              1.0  \n",
       "компаньон                   NaN              5.0  \n",
       "пенсионер                 576.0           1864.0  \n",
       "сотрудник                   4.0             10.0  "
      ]
     },
     "execution_count": 36,
     "metadata": {},
     "output_type": "execute_result"
    }
   ],
   "source": [
    "# Сводная таблица по family_status и income_type\n",
    "data_employed_filter.pivot_table(index='income_type', columns = 'family_status', values='debt', aggfunc= 'count')"
   ]
  },
  {
   "cell_type": "markdown",
   "id": "8e41378e",
   "metadata": {},
   "source": [
    "Как видно отфильтрованным данным присущ тип занаятости - `пенсионер`.\n",
    "\n",
    "Удалим из исходного датафрейма отсортированные строки с `income_type` != `пенсионер`."
   ]
  },
  {
   "cell_type": "code",
   "execution_count": 37,
   "id": "f7a4b8b8",
   "metadata": {},
   "outputs": [],
   "source": [
    "# Удаление из исходного датафрейма аномальных максимальных значений 'income_type' != 'пенсионер'\n",
    "data = data.drop(data[((data['days_employed'].astype('int') / 365) >= (data['dob_years'] - 14))  & (data['income_type'] != 'пенсионер')].index)"
   ]
  },
  {
   "cell_type": "markdown",
   "id": "a36338f0",
   "metadata": {},
   "source": [
    "Рассчитаем медианное значение для пенсионеров по исходным данным без анаомальных значений."
   ]
  },
  {
   "cell_type": "code",
   "execution_count": 38,
   "id": "8eebf642",
   "metadata": {},
   "outputs": [],
   "source": [
    "# Фильтрация данных для подсчета медианного значения \n",
    "#'income_type' == 'пенсионер' по исходным данным без анаомальных значений\n",
    "data_pensioner = data[(data['days_employed'].astype('int') / 365 <= (data['dob_years'] - 14)) &\n",
    "                     (data['income_type'] == 'пенсионер')]"
   ]
  },
  {
   "cell_type": "code",
   "execution_count": 39,
   "id": "0668a4df",
   "metadata": {},
   "outputs": [
    {
     "data": {
      "text/plain": [
       "2194.220566878695"
      ]
     },
     "execution_count": 39,
     "metadata": {},
     "output_type": "execute_result"
    }
   ],
   "source": [
    "# Вывод медианного значения\n",
    "data_pensioner['days_employed'].median()"
   ]
  },
  {
   "cell_type": "markdown",
   "id": "749a673a",
   "metadata": {},
   "source": [
    "Медиана совпала 'исходной' медианой, рассчитанной в 0.2  Шаг 2.1 Заполнение пропусков.\n",
    "\n",
    "Заменим медианное значение."
   ]
  },
  {
   "cell_type": "code",
   "execution_count": 40,
   "id": "c5b2368c",
   "metadata": {},
   "outputs": [],
   "source": [
    "# Вставка медианного значения вместо аномальных значений\n",
    "data.loc[(data['days_employed'].astype('int') / 365 >= (data['dob_years'] - 14)) &\n",
    "     (data['income_type'] == 'пенсионер'), 'days_employed'] = data_pensioner['days_employed'].median()"
   ]
  },
  {
   "cell_type": "code",
   "execution_count": 41,
   "id": "e933a432",
   "metadata": {},
   "outputs": [
    {
     "data": {
      "text/html": [
       "<div>\n",
       "<style scoped>\n",
       "    .dataframe tbody tr th:only-of-type {\n",
       "        vertical-align: middle;\n",
       "    }\n",
       "\n",
       "    .dataframe tbody tr th {\n",
       "        vertical-align: top;\n",
       "    }\n",
       "\n",
       "    .dataframe thead th {\n",
       "        text-align: right;\n",
       "    }\n",
       "</style>\n",
       "<table border=\"1\" class=\"dataframe\">\n",
       "  <thead>\n",
       "    <tr style=\"text-align: right;\">\n",
       "      <th></th>\n",
       "      <th>children</th>\n",
       "      <th>days_employed</th>\n",
       "      <th>dob_years</th>\n",
       "      <th>education</th>\n",
       "      <th>education_id</th>\n",
       "      <th>family_status</th>\n",
       "      <th>family_status_id</th>\n",
       "      <th>gender</th>\n",
       "      <th>income_type</th>\n",
       "      <th>debt</th>\n",
       "      <th>total_income</th>\n",
       "      <th>purpose</th>\n",
       "    </tr>\n",
       "  </thead>\n",
       "  <tbody>\n",
       "    <tr>\n",
       "      <th>4</th>\n",
       "      <td>0</td>\n",
       "      <td>2194.220567</td>\n",
       "      <td>53</td>\n",
       "      <td>среднее</td>\n",
       "      <td>1</td>\n",
       "      <td>гражданский брак</td>\n",
       "      <td>1</td>\n",
       "      <td>F</td>\n",
       "      <td>пенсионер</td>\n",
       "      <td>0</td>\n",
       "      <td>158616.077870</td>\n",
       "      <td>сыграть свадьбу</td>\n",
       "    </tr>\n",
       "    <tr>\n",
       "      <th>12</th>\n",
       "      <td>0</td>\n",
       "      <td>2194.220567</td>\n",
       "      <td>65</td>\n",
       "      <td>среднее</td>\n",
       "      <td>1</td>\n",
       "      <td>гражданский брак</td>\n",
       "      <td>1</td>\n",
       "      <td>M</td>\n",
       "      <td>пенсионер</td>\n",
       "      <td>0</td>\n",
       "      <td>145017.937533</td>\n",
       "      <td>сыграть свадьбу</td>\n",
       "    </tr>\n",
       "    <tr>\n",
       "      <th>18</th>\n",
       "      <td>0</td>\n",
       "      <td>2194.220567</td>\n",
       "      <td>53</td>\n",
       "      <td>среднее</td>\n",
       "      <td>1</td>\n",
       "      <td>вдовец / вдова</td>\n",
       "      <td>2</td>\n",
       "      <td>F</td>\n",
       "      <td>пенсионер</td>\n",
       "      <td>0</td>\n",
       "      <td>56823.777243</td>\n",
       "      <td>на покупку подержанного автомобиля</td>\n",
       "    </tr>\n",
       "    <tr>\n",
       "      <th>24</th>\n",
       "      <td>1</td>\n",
       "      <td>2194.220567</td>\n",
       "      <td>57</td>\n",
       "      <td>среднее</td>\n",
       "      <td>1</td>\n",
       "      <td>Не женат / не замужем</td>\n",
       "      <td>4</td>\n",
       "      <td>F</td>\n",
       "      <td>пенсионер</td>\n",
       "      <td>0</td>\n",
       "      <td>290547.235997</td>\n",
       "      <td>операции с коммерческой недвижимостью</td>\n",
       "    </tr>\n",
       "    <tr>\n",
       "      <th>25</th>\n",
       "      <td>0</td>\n",
       "      <td>2194.220567</td>\n",
       "      <td>67</td>\n",
       "      <td>среднее</td>\n",
       "      <td>1</td>\n",
       "      <td>женат / замужем</td>\n",
       "      <td>0</td>\n",
       "      <td>M</td>\n",
       "      <td>пенсионер</td>\n",
       "      <td>0</td>\n",
       "      <td>55112.757732</td>\n",
       "      <td>покупка недвижимости</td>\n",
       "    </tr>\n",
       "  </tbody>\n",
       "</table>\n",
       "</div>"
      ],
      "text/plain": [
       "    children  days_employed  dob_years education  education_id  \\\n",
       "4          0    2194.220567         53   среднее             1   \n",
       "12         0    2194.220567         65   среднее             1   \n",
       "18         0    2194.220567         53   среднее             1   \n",
       "24         1    2194.220567         57   среднее             1   \n",
       "25         0    2194.220567         67   среднее             1   \n",
       "\n",
       "            family_status  family_status_id gender income_type  debt  \\\n",
       "4        гражданский брак                 1      F   пенсионер     0   \n",
       "12       гражданский брак                 1      M   пенсионер     0   \n",
       "18         вдовец / вдова                 2      F   пенсионер     0   \n",
       "24  Не женат / не замужем                 4      F   пенсионер     0   \n",
       "25        женат / замужем                 0      M   пенсионер     0   \n",
       "\n",
       "     total_income                                purpose  \n",
       "4   158616.077870                        сыграть свадьбу  \n",
       "12  145017.937533                        сыграть свадьбу  \n",
       "18   56823.777243     на покупку подержанного автомобиля  \n",
       "24  290547.235997  операции с коммерческой недвижимостью  \n",
       "25   55112.757732                   покупка недвижимости  "
      ]
     },
     "execution_count": 41,
     "metadata": {},
     "output_type": "execute_result"
    }
   ],
   "source": [
    "# Проверка\n",
    "data[data['income_type'] == 'пенсионер'].head()"
   ]
  },
  {
   "cell_type": "markdown",
   "id": "25044e54",
   "metadata": {},
   "source": [
    "### Изменение типов данных"
   ]
  },
  {
   "cell_type": "code",
   "execution_count": 42,
   "id": "b291c68f",
   "metadata": {},
   "outputs": [
    {
     "data": {
      "text/plain": [
       "dtype('int32')"
      ]
     },
     "execution_count": 42,
     "metadata": {},
     "output_type": "execute_result"
    }
   ],
   "source": [
    "#Замена вещественного типа данных на целочисленный в столбце total_income\n",
    "data['total_income'] = data['total_income'].astype('int')\n",
    "data['total_income'].dtype"
   ]
  },
  {
   "cell_type": "code",
   "execution_count": 43,
   "id": "a6768000",
   "metadata": {},
   "outputs": [
    {
     "data": {
      "text/plain": [
       "dtype('int32')"
      ]
     },
     "execution_count": 43,
     "metadata": {},
     "output_type": "execute_result"
    }
   ],
   "source": [
    "#Замена вещественного типа данных на целочисленный в столбце days_employed\n",
    "data['days_employed'] = data['days_employed'].astype('int')\n",
    "data['days_employed'].dtype"
   ]
  },
  {
   "cell_type": "markdown",
   "id": "91726750",
   "metadata": {},
   "source": [
    "### Удаление дубликатов"
   ]
  },
  {
   "cell_type": "markdown",
   "id": "8c9670f3",
   "metadata": {},
   "source": [
    "**Неявные дубликаты**"
   ]
  },
  {
   "cell_type": "code",
   "execution_count": 44,
   "id": "d42e9213",
   "metadata": {},
   "outputs": [
    {
     "data": {
      "text/html": [
       "<div>\n",
       "<style scoped>\n",
       "    .dataframe tbody tr th:only-of-type {\n",
       "        vertical-align: middle;\n",
       "    }\n",
       "\n",
       "    .dataframe tbody tr th {\n",
       "        vertical-align: top;\n",
       "    }\n",
       "\n",
       "    .dataframe thead th {\n",
       "        text-align: right;\n",
       "    }\n",
       "</style>\n",
       "<table border=\"1\" class=\"dataframe\">\n",
       "  <thead>\n",
       "    <tr style=\"text-align: right;\">\n",
       "      <th></th>\n",
       "      <th>children</th>\n",
       "      <th>days_employed</th>\n",
       "      <th>dob_years</th>\n",
       "      <th>education</th>\n",
       "      <th>education_id</th>\n",
       "      <th>family_status</th>\n",
       "      <th>family_status_id</th>\n",
       "      <th>gender</th>\n",
       "      <th>income_type</th>\n",
       "      <th>debt</th>\n",
       "      <th>total_income</th>\n",
       "      <th>purpose</th>\n",
       "    </tr>\n",
       "  </thead>\n",
       "  <tbody>\n",
       "    <tr>\n",
       "      <th>0</th>\n",
       "      <td>1</td>\n",
       "      <td>8437</td>\n",
       "      <td>42</td>\n",
       "      <td>высшее</td>\n",
       "      <td>0</td>\n",
       "      <td>женат / замужем</td>\n",
       "      <td>0</td>\n",
       "      <td>F</td>\n",
       "      <td>сотрудник</td>\n",
       "      <td>0</td>\n",
       "      <td>253875</td>\n",
       "      <td>покупка жилья</td>\n",
       "    </tr>\n",
       "    <tr>\n",
       "      <th>1</th>\n",
       "      <td>1</td>\n",
       "      <td>4024</td>\n",
       "      <td>36</td>\n",
       "      <td>среднее</td>\n",
       "      <td>1</td>\n",
       "      <td>женат / замужем</td>\n",
       "      <td>0</td>\n",
       "      <td>F</td>\n",
       "      <td>сотрудник</td>\n",
       "      <td>0</td>\n",
       "      <td>112080</td>\n",
       "      <td>приобретение автомобиля</td>\n",
       "    </tr>\n",
       "    <tr>\n",
       "      <th>2</th>\n",
       "      <td>0</td>\n",
       "      <td>5623</td>\n",
       "      <td>33</td>\n",
       "      <td>среднее</td>\n",
       "      <td>1</td>\n",
       "      <td>женат / замужем</td>\n",
       "      <td>0</td>\n",
       "      <td>M</td>\n",
       "      <td>сотрудник</td>\n",
       "      <td>0</td>\n",
       "      <td>145885</td>\n",
       "      <td>покупка жилья</td>\n",
       "    </tr>\n",
       "    <tr>\n",
       "      <th>3</th>\n",
       "      <td>3</td>\n",
       "      <td>4124</td>\n",
       "      <td>32</td>\n",
       "      <td>среднее</td>\n",
       "      <td>1</td>\n",
       "      <td>женат / замужем</td>\n",
       "      <td>0</td>\n",
       "      <td>M</td>\n",
       "      <td>сотрудник</td>\n",
       "      <td>0</td>\n",
       "      <td>267628</td>\n",
       "      <td>дополнительное образование</td>\n",
       "    </tr>\n",
       "    <tr>\n",
       "      <th>4</th>\n",
       "      <td>0</td>\n",
       "      <td>2194</td>\n",
       "      <td>53</td>\n",
       "      <td>среднее</td>\n",
       "      <td>1</td>\n",
       "      <td>гражданский брак</td>\n",
       "      <td>1</td>\n",
       "      <td>F</td>\n",
       "      <td>пенсионер</td>\n",
       "      <td>0</td>\n",
       "      <td>158616</td>\n",
       "      <td>сыграть свадьбу</td>\n",
       "    </tr>\n",
       "  </tbody>\n",
       "</table>\n",
       "</div>"
      ],
      "text/plain": [
       "   children  days_employed  dob_years education  education_id  \\\n",
       "0         1           8437         42    высшее             0   \n",
       "1         1           4024         36   среднее             1   \n",
       "2         0           5623         33   среднее             1   \n",
       "3         3           4124         32   среднее             1   \n",
       "4         0           2194         53   среднее             1   \n",
       "\n",
       "      family_status  family_status_id gender income_type  debt  total_income  \\\n",
       "0   женат / замужем                 0      F   сотрудник     0        253875   \n",
       "1   женат / замужем                 0      F   сотрудник     0        112080   \n",
       "2   женат / замужем                 0      M   сотрудник     0        145885   \n",
       "3   женат / замужем                 0      M   сотрудник     0        267628   \n",
       "4  гражданский брак                 1      F   пенсионер     0        158616   \n",
       "\n",
       "                      purpose  \n",
       "0               покупка жилья  \n",
       "1     приобретение автомобиля  \n",
       "2               покупка жилья  \n",
       "3  дополнительное образование  \n",
       "4             сыграть свадьбу  "
      ]
     },
     "execution_count": 44,
     "metadata": {},
     "output_type": "execute_result"
    }
   ],
   "source": [
    "# Обработка неявных дубликатов в столбце education (приведение к одному регистру)\n",
    "data['education'] = data['education'].str.lower()\n",
    "data.head()"
   ]
  },
  {
   "cell_type": "markdown",
   "id": "249324c1",
   "metadata": {},
   "source": [
    "**Явные дубликаты**"
   ]
  },
  {
   "cell_type": "code",
   "execution_count": 45,
   "id": "91eb3525",
   "metadata": {},
   "outputs": [
    {
     "data": {
      "text/plain": [
       "71"
      ]
     },
     "execution_count": 45,
     "metadata": {},
     "output_type": "execute_result"
    }
   ],
   "source": [
    "# Подсчет явных дубликатов\n",
    "data.duplicated().sum()"
   ]
  },
  {
   "cell_type": "markdown",
   "id": "44d4d7f3",
   "metadata": {},
   "source": [
    "Явные дубликаты есть и их 54 штуки."
   ]
  },
  {
   "cell_type": "code",
   "execution_count": 46,
   "id": "12a1c46f",
   "metadata": {},
   "outputs": [
    {
     "data": {
      "text/plain": [
       "0"
      ]
     },
     "execution_count": 46,
     "metadata": {},
     "output_type": "execute_result"
    }
   ],
   "source": [
    "# Удаление явных дубликатов\n",
    "data = data.drop_duplicates().reset_index(drop=True)\n",
    "data.duplicated().sum()"
   ]
  },
  {
   "cell_type": "markdown",
   "id": "bb9b78a6",
   "metadata": {},
   "source": [
    "Функция duplicated() возвращает булевые значения для строки, значения в которой уже были выше.\n",
    "Функция duplicated() с методом sum() подсчитывает количество дубликатов.\n",
    "Функция drop_duplicates() удаляет явные дубликаты, а метод reset_index(drop=True) создает новый столбец с индексами. Аргумент drop=True указывают, чтобы не создавать столбец\n",
    "со старыми значениями индексов.\n",
    "\n",
    "Появление явных дубликатов может быть связано с повторным обращением клиента или могло произойти при слиянии баз данных.\n",
    "\n",
    "Появление неявных дубликатов\n",
    "Отсутствие четкого регламента заполнения таблицы"
   ]
  },
  {
   "cell_type": "markdown",
   "id": "72ff3340",
   "metadata": {},
   "source": [
    "**Неявные дубликаты**\n",
    "\n",
    "Рассмотрим столбец `purpose`."
   ]
  },
  {
   "cell_type": "code",
   "execution_count": 47,
   "id": "7a99c6c4",
   "metadata": {},
   "outputs": [
    {
     "data": {
      "text/plain": [
       "['автомобили',\n",
       " 'автомобиль',\n",
       " 'высшее образование',\n",
       " 'дополнительное образование',\n",
       " 'жилье',\n",
       " 'заняться высшим образованием',\n",
       " 'заняться образованием',\n",
       " 'на покупку автомобиля',\n",
       " 'на покупку подержанного автомобиля',\n",
       " 'на покупку своего автомобиля',\n",
       " 'на проведение свадьбы',\n",
       " 'недвижимость',\n",
       " 'образование',\n",
       " 'операции с жильем',\n",
       " 'операции с коммерческой недвижимостью',\n",
       " 'операции с недвижимостью',\n",
       " 'операции со своей недвижимостью',\n",
       " 'покупка жилой недвижимости',\n",
       " 'покупка жилья',\n",
       " 'покупка жилья для сдачи',\n",
       " 'покупка жилья для семьи',\n",
       " 'покупка коммерческой недвижимости',\n",
       " 'покупка недвижимости',\n",
       " 'покупка своего жилья',\n",
       " 'получение высшего образования',\n",
       " 'получение дополнительного образования',\n",
       " 'получение образования',\n",
       " 'приобретение автомобиля',\n",
       " 'профильное образование',\n",
       " 'ремонт жилью',\n",
       " 'свадьба',\n",
       " 'свой автомобиль',\n",
       " 'сделка с автомобилем',\n",
       " 'сделка с подержанным автомобилем',\n",
       " 'строительство жилой недвижимости',\n",
       " 'строительство недвижимости',\n",
       " 'строительство собственной недвижимости',\n",
       " 'сыграть свадьбу']"
      ]
     },
     "execution_count": 47,
     "metadata": {},
     "output_type": "execute_result"
    }
   ],
   "source": [
    "# Список уникальных значений столбца purpose\n",
    "sorted((data['purpose'].unique()).astype('str'))"
   ]
  },
  {
   "cell_type": "markdown",
   "id": "527af3db",
   "metadata": {},
   "source": [
    "Неявные дубликаты в столбце `purpose` уйдут ниже при категоризации."
   ]
  },
  {
   "cell_type": "markdown",
   "id": "6163b86a",
   "metadata": {},
   "source": [
    "### Формирование дополнительных датафреймов словарей, декомпозиция исходного датафрейма"
   ]
  },
  {
   "cell_type": "code",
   "execution_count": 48,
   "id": "27017de9",
   "metadata": {},
   "outputs": [
    {
     "data": {
      "text/html": [
       "<div>\n",
       "<style scoped>\n",
       "    .dataframe tbody tr th:only-of-type {\n",
       "        vertical-align: middle;\n",
       "    }\n",
       "\n",
       "    .dataframe tbody tr th {\n",
       "        vertical-align: top;\n",
       "    }\n",
       "\n",
       "    .dataframe thead th {\n",
       "        text-align: right;\n",
       "    }\n",
       "</style>\n",
       "<table border=\"1\" class=\"dataframe\">\n",
       "  <thead>\n",
       "    <tr style=\"text-align: right;\">\n",
       "      <th></th>\n",
       "      <th>children</th>\n",
       "      <th>days_employed</th>\n",
       "      <th>dob_years</th>\n",
       "      <th>education_id</th>\n",
       "      <th>family_status_id</th>\n",
       "      <th>gender</th>\n",
       "      <th>income_type</th>\n",
       "      <th>debt</th>\n",
       "      <th>total_income</th>\n",
       "      <th>purpose</th>\n",
       "    </tr>\n",
       "  </thead>\n",
       "  <tbody>\n",
       "    <tr>\n",
       "      <th>0</th>\n",
       "      <td>1</td>\n",
       "      <td>8437</td>\n",
       "      <td>42</td>\n",
       "      <td>0</td>\n",
       "      <td>0</td>\n",
       "      <td>F</td>\n",
       "      <td>сотрудник</td>\n",
       "      <td>0</td>\n",
       "      <td>253875</td>\n",
       "      <td>покупка жилья</td>\n",
       "    </tr>\n",
       "    <tr>\n",
       "      <th>1</th>\n",
       "      <td>1</td>\n",
       "      <td>4024</td>\n",
       "      <td>36</td>\n",
       "      <td>1</td>\n",
       "      <td>0</td>\n",
       "      <td>F</td>\n",
       "      <td>сотрудник</td>\n",
       "      <td>0</td>\n",
       "      <td>112080</td>\n",
       "      <td>приобретение автомобиля</td>\n",
       "    </tr>\n",
       "    <tr>\n",
       "      <th>2</th>\n",
       "      <td>0</td>\n",
       "      <td>5623</td>\n",
       "      <td>33</td>\n",
       "      <td>1</td>\n",
       "      <td>0</td>\n",
       "      <td>M</td>\n",
       "      <td>сотрудник</td>\n",
       "      <td>0</td>\n",
       "      <td>145885</td>\n",
       "      <td>покупка жилья</td>\n",
       "    </tr>\n",
       "    <tr>\n",
       "      <th>3</th>\n",
       "      <td>3</td>\n",
       "      <td>4124</td>\n",
       "      <td>32</td>\n",
       "      <td>1</td>\n",
       "      <td>0</td>\n",
       "      <td>M</td>\n",
       "      <td>сотрудник</td>\n",
       "      <td>0</td>\n",
       "      <td>267628</td>\n",
       "      <td>дополнительное образование</td>\n",
       "    </tr>\n",
       "    <tr>\n",
       "      <th>4</th>\n",
       "      <td>0</td>\n",
       "      <td>2194</td>\n",
       "      <td>53</td>\n",
       "      <td>1</td>\n",
       "      <td>1</td>\n",
       "      <td>F</td>\n",
       "      <td>пенсионер</td>\n",
       "      <td>0</td>\n",
       "      <td>158616</td>\n",
       "      <td>сыграть свадьбу</td>\n",
       "    </tr>\n",
       "  </tbody>\n",
       "</table>\n",
       "</div>"
      ],
      "text/plain": [
       "   children  days_employed  dob_years  education_id  family_status_id gender  \\\n",
       "0         1           8437         42             0                 0      F   \n",
       "1         1           4024         36             1                 0      F   \n",
       "2         0           5623         33             1                 0      M   \n",
       "3         3           4124         32             1                 0      M   \n",
       "4         0           2194         53             1                 1      F   \n",
       "\n",
       "  income_type  debt  total_income                     purpose  \n",
       "0   сотрудник     0        253875               покупка жилья  \n",
       "1   сотрудник     0        112080     приобретение автомобиля  \n",
       "2   сотрудник     0        145885               покупка жилья  \n",
       "3   сотрудник     0        267628  дополнительное образование  \n",
       "4   пенсионер     0        158616             сыграть свадьбу  "
      ]
     },
     "execution_count": 48,
     "metadata": {},
     "output_type": "execute_result"
    }
   ],
   "source": [
    "# Формирование дополнительных датафреймов словарей, декомпозиция исходного датафрейма\n",
    "education = data.groupby('education')['education_id'].mean()\n",
    "family_status = data.groupby(by='family_status')['family_status_id'].mean()\n",
    "data = data.drop(columns=['education', 'family_status'])\n",
    "data.head()"
   ]
  },
  {
   "cell_type": "markdown",
   "id": "ce378792",
   "metadata": {},
   "source": [
    "### Категоризация дохода"
   ]
  },
  {
   "cell_type": "code",
   "execution_count": 49,
   "id": "e9fcf6cd",
   "metadata": {},
   "outputs": [],
   "source": [
    "# Функция для категоризации дохода\n",
    "def income_category(income):\n",
    "    if 0 <= income <= 30000:\n",
    "        return 'E'\n",
    "    elif 30001 <= income <= 50000:\n",
    "        return 'D'\n",
    "    elif 50001 <= income <= 200000:\n",
    "        return 'C'    \n",
    "    elif 200001 <= income <= 1000000:\n",
    "        return 'B'  \n",
    "    else: return 'A'"
   ]
  },
  {
   "cell_type": "code",
   "execution_count": 50,
   "id": "f01c3a1c",
   "metadata": {},
   "outputs": [
    {
     "data": {
      "text/plain": [
       "C    15924\n",
       "B     5010\n",
       "D      348\n",
       "A       25\n",
       "E       22\n",
       "Name: total_income_category, dtype: int64"
      ]
     },
     "execution_count": 50,
     "metadata": {},
     "output_type": "execute_result"
    }
   ],
   "source": [
    "# Применение функции income_category\n",
    "data['total_income_category'] = data['total_income'].apply(income_category)\n",
    "data['total_income_category'].value_counts()"
   ]
  },
  {
   "cell_type": "markdown",
   "id": "217628e5",
   "metadata": {},
   "source": [
    "### Категоризация целей кредита"
   ]
  },
  {
   "cell_type": "code",
   "execution_count": 51,
   "id": "68183ca6",
   "metadata": {},
   "outputs": [
    {
     "data": {
      "text/plain": [
       "['автомобили',\n",
       " 'автомобиль',\n",
       " 'высшее образование',\n",
       " 'дополнительное образование',\n",
       " 'жилье',\n",
       " 'заняться высшим образованием',\n",
       " 'заняться образованием',\n",
       " 'на покупку автомобиля',\n",
       " 'на покупку подержанного автомобиля',\n",
       " 'на покупку своего автомобиля',\n",
       " 'на проведение свадьбы',\n",
       " 'недвижимость',\n",
       " 'образование',\n",
       " 'операции с жильем',\n",
       " 'операции с коммерческой недвижимостью',\n",
       " 'операции с недвижимостью',\n",
       " 'операции со своей недвижимостью',\n",
       " 'покупка жилой недвижимости',\n",
       " 'покупка жилья',\n",
       " 'покупка жилья для сдачи',\n",
       " 'покупка жилья для семьи',\n",
       " 'покупка коммерческой недвижимости',\n",
       " 'покупка недвижимости',\n",
       " 'покупка своего жилья',\n",
       " 'получение высшего образования',\n",
       " 'получение дополнительного образования',\n",
       " 'получение образования',\n",
       " 'приобретение автомобиля',\n",
       " 'профильное образование',\n",
       " 'ремонт жилью',\n",
       " 'свадьба',\n",
       " 'свой автомобиль',\n",
       " 'сделка с автомобилем',\n",
       " 'сделка с подержанным автомобилем',\n",
       " 'строительство жилой недвижимости',\n",
       " 'строительство недвижимости',\n",
       " 'строительство собственной недвижимости',\n",
       " 'сыграть свадьбу']"
      ]
     },
     "execution_count": 51,
     "metadata": {},
     "output_type": "execute_result"
    }
   ],
   "source": [
    "# Снова рассмотрим уникальные значения purpose\n",
    "sorted(data['purpose'].unique())"
   ]
  },
  {
   "cell_type": "code",
   "execution_count": 52,
   "id": "32bb3baf",
   "metadata": {},
   "outputs": [],
   "source": [
    "# Функция категоризации purpose\n",
    "def purpose_category(purpose):\n",
    "    if 'автомобил' in purpose:\n",
    "        return 'операции с автомобилем'\n",
    "    elif 'свад' in purpose: \n",
    "        return 'проведение свадьбы'\n",
    "    elif 'образован' in purpose:\n",
    "        return 'получение образования'\n",
    "    elif 'недвижимост' or 'жиль' in purpose:\n",
    "        return 'операции с недвижимостью'"
   ]
  },
  {
   "cell_type": "code",
   "execution_count": 53,
   "id": "0c8c4b74",
   "metadata": {},
   "outputs": [
    {
     "data": {
      "text/html": [
       "<div>\n",
       "<style scoped>\n",
       "    .dataframe tbody tr th:only-of-type {\n",
       "        vertical-align: middle;\n",
       "    }\n",
       "\n",
       "    .dataframe tbody tr th {\n",
       "        vertical-align: top;\n",
       "    }\n",
       "\n",
       "    .dataframe thead th {\n",
       "        text-align: right;\n",
       "    }\n",
       "</style>\n",
       "<table border=\"1\" class=\"dataframe\">\n",
       "  <thead>\n",
       "    <tr style=\"text-align: right;\">\n",
       "      <th></th>\n",
       "      <th>children</th>\n",
       "      <th>days_employed</th>\n",
       "      <th>dob_years</th>\n",
       "      <th>education_id</th>\n",
       "      <th>family_status_id</th>\n",
       "      <th>gender</th>\n",
       "      <th>income_type</th>\n",
       "      <th>debt</th>\n",
       "      <th>total_income</th>\n",
       "      <th>purpose</th>\n",
       "      <th>total_income_category</th>\n",
       "      <th>purpose_category</th>\n",
       "    </tr>\n",
       "  </thead>\n",
       "  <tbody>\n",
       "    <tr>\n",
       "      <th>0</th>\n",
       "      <td>1</td>\n",
       "      <td>8437</td>\n",
       "      <td>42</td>\n",
       "      <td>0</td>\n",
       "      <td>0</td>\n",
       "      <td>F</td>\n",
       "      <td>сотрудник</td>\n",
       "      <td>0</td>\n",
       "      <td>253875</td>\n",
       "      <td>покупка жилья</td>\n",
       "      <td>B</td>\n",
       "      <td>операции с недвижимостью</td>\n",
       "    </tr>\n",
       "    <tr>\n",
       "      <th>1</th>\n",
       "      <td>1</td>\n",
       "      <td>4024</td>\n",
       "      <td>36</td>\n",
       "      <td>1</td>\n",
       "      <td>0</td>\n",
       "      <td>F</td>\n",
       "      <td>сотрудник</td>\n",
       "      <td>0</td>\n",
       "      <td>112080</td>\n",
       "      <td>приобретение автомобиля</td>\n",
       "      <td>C</td>\n",
       "      <td>операции с автомобилем</td>\n",
       "    </tr>\n",
       "    <tr>\n",
       "      <th>2</th>\n",
       "      <td>0</td>\n",
       "      <td>5623</td>\n",
       "      <td>33</td>\n",
       "      <td>1</td>\n",
       "      <td>0</td>\n",
       "      <td>M</td>\n",
       "      <td>сотрудник</td>\n",
       "      <td>0</td>\n",
       "      <td>145885</td>\n",
       "      <td>покупка жилья</td>\n",
       "      <td>C</td>\n",
       "      <td>операции с недвижимостью</td>\n",
       "    </tr>\n",
       "    <tr>\n",
       "      <th>3</th>\n",
       "      <td>3</td>\n",
       "      <td>4124</td>\n",
       "      <td>32</td>\n",
       "      <td>1</td>\n",
       "      <td>0</td>\n",
       "      <td>M</td>\n",
       "      <td>сотрудник</td>\n",
       "      <td>0</td>\n",
       "      <td>267628</td>\n",
       "      <td>дополнительное образование</td>\n",
       "      <td>B</td>\n",
       "      <td>получение образования</td>\n",
       "    </tr>\n",
       "    <tr>\n",
       "      <th>4</th>\n",
       "      <td>0</td>\n",
       "      <td>2194</td>\n",
       "      <td>53</td>\n",
       "      <td>1</td>\n",
       "      <td>1</td>\n",
       "      <td>F</td>\n",
       "      <td>пенсионер</td>\n",
       "      <td>0</td>\n",
       "      <td>158616</td>\n",
       "      <td>сыграть свадьбу</td>\n",
       "      <td>C</td>\n",
       "      <td>проведение свадьбы</td>\n",
       "    </tr>\n",
       "  </tbody>\n",
       "</table>\n",
       "</div>"
      ],
      "text/plain": [
       "   children  days_employed  dob_years  education_id  family_status_id gender  \\\n",
       "0         1           8437         42             0                 0      F   \n",
       "1         1           4024         36             1                 0      F   \n",
       "2         0           5623         33             1                 0      M   \n",
       "3         3           4124         32             1                 0      M   \n",
       "4         0           2194         53             1                 1      F   \n",
       "\n",
       "  income_type  debt  total_income                     purpose  \\\n",
       "0   сотрудник     0        253875               покупка жилья   \n",
       "1   сотрудник     0        112080     приобретение автомобиля   \n",
       "2   сотрудник     0        145885               покупка жилья   \n",
       "3   сотрудник     0        267628  дополнительное образование   \n",
       "4   пенсионер     0        158616             сыграть свадьбу   \n",
       "\n",
       "  total_income_category          purpose_category  \n",
       "0                     B  операции с недвижимостью  \n",
       "1                     C    операции с автомобилем  \n",
       "2                     C  операции с недвижимостью  \n",
       "3                     B     получение образования  \n",
       "4                     C        проведение свадьбы  "
      ]
     },
     "execution_count": 53,
     "metadata": {},
     "output_type": "execute_result"
    }
   ],
   "source": [
    "# Применение функции purpose_category\n",
    "data['purpose_category'] = data['purpose'].apply(purpose_category)\n",
    "data.head()"
   ]
  },
  {
   "cell_type": "code",
   "execution_count": 54,
   "id": "06c5209d",
   "metadata": {},
   "outputs": [
    {
     "data": {
      "text/plain": [
       "['операции с автомобилем',\n",
       " 'операции с недвижимостью',\n",
       " 'получение образования',\n",
       " 'проведение свадьбы']"
      ]
     },
     "execution_count": 54,
     "metadata": {},
     "output_type": "execute_result"
    }
   ],
   "source": [
    "# Проверка\n",
    "sorted(data['purpose_category'].unique())"
   ]
  },
  {
   "cell_type": "markdown",
   "id": "5c299b44",
   "metadata": {},
   "source": [
    "## Проверка гипотез"
   ]
  },
  {
   "cell_type": "markdown",
   "id": "d24d7e6d",
   "metadata": {},
   "source": [
    "### Количество детей"
   ]
  },
  {
   "cell_type": "markdown",
   "id": "3cd3312d",
   "metadata": {},
   "source": [
    "Есть ли зависимость между количеством детей и возвратом кредита в срок?"
   ]
  },
  {
   "cell_type": "code",
   "execution_count": 55,
   "id": "fbefee70",
   "metadata": {},
   "outputs": [
    {
     "data": {
      "text/html": [
       "<div>\n",
       "<style scoped>\n",
       "    .dataframe tbody tr th:only-of-type {\n",
       "        vertical-align: middle;\n",
       "    }\n",
       "\n",
       "    .dataframe tbody tr th {\n",
       "        vertical-align: top;\n",
       "    }\n",
       "\n",
       "    .dataframe thead th {\n",
       "        text-align: right;\n",
       "    }\n",
       "</style>\n",
       "<table border=\"1\" class=\"dataframe\">\n",
       "  <thead>\n",
       "    <tr style=\"text-align: right;\">\n",
       "      <th>children</th>\n",
       "      <th>0</th>\n",
       "      <th>1</th>\n",
       "      <th>2</th>\n",
       "      <th>3</th>\n",
       "      <th>4</th>\n",
       "      <th>5</th>\n",
       "    </tr>\n",
       "  </thead>\n",
       "  <tbody>\n",
       "    <tr>\n",
       "      <th>debt</th>\n",
       "      <td>7.56</td>\n",
       "      <td>9.12</td>\n",
       "      <td>9.56</td>\n",
       "      <td>8.23</td>\n",
       "      <td>9.76</td>\n",
       "      <td>0.0</td>\n",
       "    </tr>\n",
       "  </tbody>\n",
       "</table>\n",
       "</div>"
      ],
      "text/plain": [
       "children     0     1     2     3     4    5\n",
       "debt      7.56  9.12  9.56  8.23  9.76  0.0"
      ]
     },
     "execution_count": 55,
     "metadata": {},
     "output_type": "execute_result"
    }
   ],
   "source": [
    "# Сводная таблица доля клиентов с задолженностью в зависимости от количества детей в %\n",
    "round(data.pivot_table(columns='children', values='debt', aggfunc='mean'), 4) * 100"
   ]
  },
  {
   "cell_type": "code",
   "execution_count": 56,
   "id": "6e2a4572",
   "metadata": {},
   "outputs": [
    {
     "data": {
      "text/html": [
       "<style type=\"text/css\">\n",
       "</style>\n",
       "<table id=\"T_d4229\">\n",
       "  <thead>\n",
       "    <tr>\n",
       "      <th class=\"blank level0\" >&nbsp;</th>\n",
       "      <th id=\"T_d4229_level0_col0\" class=\"col_heading level0 col0\" >Кол-во пользователей</th>\n",
       "      <th id=\"T_d4229_level0_col1\" class=\"col_heading level0 col1\" >Кол-во должников</th>\n",
       "      <th id=\"T_d4229_level0_col2\" class=\"col_heading level0 col2\" >% должников</th>\n",
       "      <th id=\"T_d4229_level0_col3\" class=\"col_heading level0 col3\" >% НЕдолжников</th>\n",
       "    </tr>\n",
       "    <tr>\n",
       "      <th class=\"index_name level0\" >children</th>\n",
       "      <th class=\"blank col0\" >&nbsp;</th>\n",
       "      <th class=\"blank col1\" >&nbsp;</th>\n",
       "      <th class=\"blank col2\" >&nbsp;</th>\n",
       "      <th class=\"blank col3\" >&nbsp;</th>\n",
       "    </tr>\n",
       "  </thead>\n",
       "  <tbody>\n",
       "    <tr>\n",
       "      <th id=\"T_d4229_level0_row0\" class=\"row_heading level0 row0\" >0</th>\n",
       "      <td id=\"T_d4229_row0_col0\" class=\"data row0 col0\" >14003</td>\n",
       "      <td id=\"T_d4229_row0_col1\" class=\"data row0 col1\" >1058</td>\n",
       "      <td id=\"T_d4229_row0_col2\" class=\"data row0 col2\" >7.56%</td>\n",
       "      <td id=\"T_d4229_row0_col3\" class=\"data row0 col3\" >92.44%</td>\n",
       "    </tr>\n",
       "    <tr>\n",
       "      <th id=\"T_d4229_level0_row1\" class=\"row_heading level0 row1\" >1</th>\n",
       "      <td id=\"T_d4229_row1_col0\" class=\"data row1 col0\" >4834</td>\n",
       "      <td id=\"T_d4229_row1_col1\" class=\"data row1 col1\" >441</td>\n",
       "      <td id=\"T_d4229_row1_col2\" class=\"data row1 col2\" >9.12%</td>\n",
       "      <td id=\"T_d4229_row1_col3\" class=\"data row1 col3\" >90.88%</td>\n",
       "    </tr>\n",
       "    <tr>\n",
       "      <th id=\"T_d4229_level0_row2\" class=\"row_heading level0 row2\" >2</th>\n",
       "      <td id=\"T_d4229_row2_col0\" class=\"data row2 col0\" >2114</td>\n",
       "      <td id=\"T_d4229_row2_col1\" class=\"data row2 col1\" >202</td>\n",
       "      <td id=\"T_d4229_row2_col2\" class=\"data row2 col2\" >9.56%</td>\n",
       "      <td id=\"T_d4229_row2_col3\" class=\"data row2 col3\" >90.44%</td>\n",
       "    </tr>\n",
       "    <tr>\n",
       "      <th id=\"T_d4229_level0_row3\" class=\"row_heading level0 row3\" >3</th>\n",
       "      <td id=\"T_d4229_row3_col0\" class=\"data row3 col0\" >328</td>\n",
       "      <td id=\"T_d4229_row3_col1\" class=\"data row3 col1\" >27</td>\n",
       "      <td id=\"T_d4229_row3_col2\" class=\"data row3 col2\" >8.23%</td>\n",
       "      <td id=\"T_d4229_row3_col3\" class=\"data row3 col3\" >91.77%</td>\n",
       "    </tr>\n",
       "    <tr>\n",
       "      <th id=\"T_d4229_level0_row4\" class=\"row_heading level0 row4\" >4</th>\n",
       "      <td id=\"T_d4229_row4_col0\" class=\"data row4 col0\" >41</td>\n",
       "      <td id=\"T_d4229_row4_col1\" class=\"data row4 col1\" >4</td>\n",
       "      <td id=\"T_d4229_row4_col2\" class=\"data row4 col2\" >9.76%</td>\n",
       "      <td id=\"T_d4229_row4_col3\" class=\"data row4 col3\" >90.24%</td>\n",
       "    </tr>\n",
       "    <tr>\n",
       "      <th id=\"T_d4229_level0_row5\" class=\"row_heading level0 row5\" >5</th>\n",
       "      <td id=\"T_d4229_row5_col0\" class=\"data row5 col0\" >9</td>\n",
       "      <td id=\"T_d4229_row5_col1\" class=\"data row5 col1\" >0</td>\n",
       "      <td id=\"T_d4229_row5_col2\" class=\"data row5 col2\" >0.00%</td>\n",
       "      <td id=\"T_d4229_row5_col3\" class=\"data row5 col3\" >100.00%</td>\n",
       "    </tr>\n",
       "  </tbody>\n",
       "</table>\n"
      ],
      "text/plain": [
       "<pandas.io.formats.style.Styler at 0x19034610460>"
      ]
     },
     "execution_count": 56,
     "metadata": {},
     "output_type": "execute_result"
    }
   ],
   "source": [
    "df_example = data.pivot_table(index = 'children', values = 'debt', \n",
    "                            aggfunc = ['count', 'sum', 'mean', lambda x: 1 - x.mean()])\n",
    "df_example.columns = ['Кол-во пользователей', 'Кол-во должников', '% должников', '% НЕдолжников']\n",
    "df_example.style.format({'% должников': '{:.2%}', '% НЕдолжников': '{:.2%}'})"
   ]
  },
  {
   "cell_type": "markdown",
   "id": "78e46b86",
   "metadata": {},
   "source": [
    "**Вывод**\n",
    "\n",
    "В целом значимой зависимости не прослеживается. Можно отметить, что при количестве детей = 0 доля клиентов с задолженностями немного меньше. Следует отметить, что клиенты с пятью детьми задолжностей не имели."
   ]
  },
  {
   "cell_type": "markdown",
   "id": "b2e0d14b",
   "metadata": {},
   "source": [
    "### Семейное положение"
   ]
  },
  {
   "cell_type": "markdown",
   "id": "f5b6a26f",
   "metadata": {},
   "source": [
    "Есть ли зависимость между семейным положением и возвратом кредита в срок?"
   ]
  },
  {
   "cell_type": "code",
   "execution_count": 57,
   "id": "0f901161",
   "metadata": {},
   "outputs": [
    {
     "data": {
      "text/html": [
       "<div>\n",
       "<style scoped>\n",
       "    .dataframe tbody tr th:only-of-type {\n",
       "        vertical-align: middle;\n",
       "    }\n",
       "\n",
       "    .dataframe tbody tr th {\n",
       "        vertical-align: top;\n",
       "    }\n",
       "\n",
       "    .dataframe thead th {\n",
       "        text-align: right;\n",
       "    }\n",
       "</style>\n",
       "<table border=\"1\" class=\"dataframe\">\n",
       "  <thead>\n",
       "    <tr style=\"text-align: right;\">\n",
       "      <th>family_status_id</th>\n",
       "      <th>0</th>\n",
       "      <th>1</th>\n",
       "      <th>2</th>\n",
       "      <th>3</th>\n",
       "      <th>4</th>\n",
       "    </tr>\n",
       "  </thead>\n",
       "  <tbody>\n",
       "    <tr>\n",
       "      <th>debt</th>\n",
       "      <td>7.55</td>\n",
       "      <td>9.36</td>\n",
       "      <td>6.5</td>\n",
       "      <td>7.17</td>\n",
       "      <td>9.78</td>\n",
       "    </tr>\n",
       "  </tbody>\n",
       "</table>\n",
       "</div>"
      ],
      "text/plain": [
       "family_status_id     0     1    2     3     4\n",
       "debt              7.55  9.36  6.5  7.17  9.78"
      ]
     },
     "execution_count": 57,
     "metadata": {},
     "output_type": "execute_result"
    }
   ],
   "source": [
    "# Сводная таблица доля клиентов с задолженностью в зависимости от семейного положения в %\n",
    "round(data.pivot_table(columns='family_status_id', values='debt', aggfunc='mean'), 4) * 100"
   ]
  },
  {
   "cell_type": "code",
   "execution_count": 58,
   "id": "543a0a2e",
   "metadata": {},
   "outputs": [
    {
     "data": {
      "text/plain": [
       "family_status\n",
       "Не женат / не замужем    4.0\n",
       "в разводе                3.0\n",
       "вдовец / вдова           2.0\n",
       "гражданский брак         1.0\n",
       "женат / замужем          0.0\n",
       "Name: family_status_id, dtype: float64"
      ]
     },
     "execution_count": 58,
     "metadata": {},
     "output_type": "execute_result"
    }
   ],
   "source": [
    "family_status"
   ]
  },
  {
   "cell_type": "markdown",
   "id": "529330ef",
   "metadata": {},
   "source": [
    "**Вывод**\n",
    "\n",
    "Можно выделить две категории:\n",
    "- С долей задолженности >= 8% (гражданский брак, Не женат / не замужем )\n",
    "- С долей задолженности < 8% (женат / замужем, вдовец / вдова, в разводе)"
   ]
  },
  {
   "cell_type": "markdown",
   "id": "e1653a13",
   "metadata": {},
   "source": [
    "### Уровень дохода"
   ]
  },
  {
   "cell_type": "markdown",
   "id": "356a4ff2",
   "metadata": {},
   "source": [
    "Есть ли зависимость между уровнем дохода и возвратом кредита в срок?"
   ]
  },
  {
   "cell_type": "code",
   "execution_count": 59,
   "id": "80c34a9b",
   "metadata": {},
   "outputs": [
    {
     "data": {
      "text/html": [
       "<div>\n",
       "<style scoped>\n",
       "    .dataframe tbody tr th:only-of-type {\n",
       "        vertical-align: middle;\n",
       "    }\n",
       "\n",
       "    .dataframe tbody tr th {\n",
       "        vertical-align: top;\n",
       "    }\n",
       "\n",
       "    .dataframe thead th {\n",
       "        text-align: right;\n",
       "    }\n",
       "</style>\n",
       "<table border=\"1\" class=\"dataframe\">\n",
       "  <thead>\n",
       "    <tr style=\"text-align: right;\">\n",
       "      <th>total_income_category</th>\n",
       "      <th>A</th>\n",
       "      <th>B</th>\n",
       "      <th>C</th>\n",
       "      <th>D</th>\n",
       "      <th>E</th>\n",
       "    </tr>\n",
       "  </thead>\n",
       "  <tbody>\n",
       "    <tr>\n",
       "      <th>debt</th>\n",
       "      <td>8.0</td>\n",
       "      <td>7.09</td>\n",
       "      <td>8.49</td>\n",
       "      <td>6.03</td>\n",
       "      <td>9.09</td>\n",
       "    </tr>\n",
       "  </tbody>\n",
       "</table>\n",
       "</div>"
      ],
      "text/plain": [
       "total_income_category    A     B     C     D     E\n",
       "debt                   8.0  7.09  8.49  6.03  9.09"
      ]
     },
     "execution_count": 59,
     "metadata": {},
     "output_type": "execute_result"
    }
   ],
   "source": [
    "# Сводная таблица доля клиентов с задолженностью в зависимости от уровня дохода в %\n",
    "round(data.pivot_table(columns='total_income_category', values='debt', aggfunc='mean'), 4) * 100"
   ]
  },
  {
   "cell_type": "markdown",
   "id": "03590512",
   "metadata": {},
   "source": [
    "Расшифровка `total_income_category`\t\n",
    "\n",
    "0–30000 — 'E';\n",
    "\n",
    "30001–50000 — 'D';\n",
    "\n",
    "50001–200000 — 'C';\n",
    "\n",
    "200001–1000000 — 'B';\n",
    "\n",
    "1000001 и выше — 'A'."
   ]
  },
  {
   "cell_type": "markdown",
   "id": "48e5d8fa",
   "metadata": {},
   "source": [
    "**Вывод**\n",
    "\n",
    "Можно выделить две категории:\n",
    "- С долей задолженности >= 8% (`A`, `C`, `E`)\n",
    "- С долей задолженности < 8% (`B`, `D`)"
   ]
  },
  {
   "cell_type": "markdown",
   "id": "6af135ac",
   "metadata": {},
   "source": [
    "### Цели кредита"
   ]
  },
  {
   "cell_type": "markdown",
   "id": "b75fd227",
   "metadata": {},
   "source": [
    "Как разные цели кредита влияют на его возврат в срок?"
   ]
  },
  {
   "cell_type": "code",
   "execution_count": 60,
   "id": "9bc8d83e",
   "metadata": {},
   "outputs": [
    {
     "data": {
      "text/html": [
       "<div>\n",
       "<style scoped>\n",
       "    .dataframe tbody tr th:only-of-type {\n",
       "        vertical-align: middle;\n",
       "    }\n",
       "\n",
       "    .dataframe tbody tr th {\n",
       "        vertical-align: top;\n",
       "    }\n",
       "\n",
       "    .dataframe thead th {\n",
       "        text-align: right;\n",
       "    }\n",
       "</style>\n",
       "<table border=\"1\" class=\"dataframe\">\n",
       "  <thead>\n",
       "    <tr style=\"text-align: right;\">\n",
       "      <th>purpose_category</th>\n",
       "      <th>операции с автомобилем</th>\n",
       "      <th>операции с недвижимостью</th>\n",
       "      <th>получение образования</th>\n",
       "      <th>проведение свадьбы</th>\n",
       "    </tr>\n",
       "  </thead>\n",
       "  <tbody>\n",
       "    <tr>\n",
       "      <th>debt</th>\n",
       "      <td>9.34</td>\n",
       "      <td>7.24</td>\n",
       "      <td>9.27</td>\n",
       "      <td>7.97</td>\n",
       "    </tr>\n",
       "  </tbody>\n",
       "</table>\n",
       "</div>"
      ],
      "text/plain": [
       "purpose_category  операции с автомобилем  операции с недвижимостью  \\\n",
       "debt                                9.34                      7.24   \n",
       "\n",
       "purpose_category  получение образования  проведение свадьбы  \n",
       "debt                               9.27                7.97  "
      ]
     },
     "execution_count": 60,
     "metadata": {},
     "output_type": "execute_result"
    }
   ],
   "source": [
    "# Сводная таблица доля клиентов с задолженностью в зависимости от цели кредита в %\n",
    "round(data.pivot_table(columns= 'purpose_category', values='debt', aggfunc='mean'), 4) * 100"
   ]
  },
  {
   "cell_type": "markdown",
   "id": "4ed8768c",
   "metadata": {},
   "source": [
    "**Вывод**\n",
    "\n",
    "Можно выделить две категории:\n",
    "- С долей задолженности >= 8% (`операции с автомобилем`, `получение образования`)\n",
    "- С долей задолженности < 8% (`операции с недвижимостью`, `проведение свадьбы`)"
   ]
  },
  {
   "cell_type": "markdown",
   "id": "db180a92",
   "metadata": {},
   "source": [
    "## Общий вывод:"
   ]
  },
  {
   "cell_type": "markdown",
   "id": "0299a75b",
   "metadata": {},
   "source": [
    "Были проверены четыре вопроса:\n",
    "1. Есть ли зависимость между количеством детей и возвратом кредита в срок?\n",
    "   При количестве детей = 0 доля клиентов с задолженностями меньше. Клиенты с пятью детьми задолжностей не имеют.\n",
    "2. Есть ли зависимость между семейным положением и возвратом кредита в срок?\n",
    "   - Доля клиентов с задолженностями >= 8% (гражданский брак, Не женат / не замужем )\n",
    "   - Доля клиентов с задолженностями < 8% (женат / замужем, вдовец / вдова, в разводе)\n",
    "3. Есть ли зависимость между уровнем дохода и возвратом кредита в срок?\n",
    "   - Доля клиентов с задолженностями >= 8% (`A`, `C`, `E`)\n",
    "   - Доля клиентов с задолженностями < 8% (`B`, `D`)\n",
    "4. Как разные цели кредита влияют на его возврат в срок?\n",
    "   - Доля клиентов с задолженностями >= 8% (`операции с автомобилем`, `получение образования`)\n",
    "   - Доля клиентов с задолженностями < 8% (`операции с недвижимостью`, `проведение свадьбы`)"
   ]
  }
 ],
 "metadata": {
  "ExecuteTimeLog": [
   {
    "duration": 906,
    "start_time": "2022-02-25T06:08:55.115Z"
   },
   {
    "duration": 70,
    "start_time": "2022-02-25T06:09:11.404Z"
   },
   {
    "duration": 73,
    "start_time": "2022-02-25T06:09:24.708Z"
   },
   {
    "duration": 18,
    "start_time": "2022-02-25T06:09:37.276Z"
   },
   {
    "duration": 29,
    "start_time": "2022-02-25T06:14:06.989Z"
   },
   {
    "duration": 15,
    "start_time": "2022-02-25T06:14:23.657Z"
   },
   {
    "duration": 382,
    "start_time": "2022-02-25T06:15:23.477Z"
   },
   {
    "duration": 13,
    "start_time": "2022-02-25T06:15:42.273Z"
   },
   {
    "duration": 90,
    "start_time": "2022-02-25T06:18:56.220Z"
   },
   {
    "duration": 103,
    "start_time": "2022-02-25T06:19:00.997Z"
   },
   {
    "duration": 97,
    "start_time": "2022-02-25T06:21:35.329Z"
   },
   {
    "duration": 99,
    "start_time": "2022-02-25T06:21:40.249Z"
   },
   {
    "duration": 128,
    "start_time": "2022-02-25T06:21:52.974Z"
   },
   {
    "duration": 107,
    "start_time": "2022-02-25T06:22:18.778Z"
   },
   {
    "duration": 96,
    "start_time": "2022-02-25T06:22:47.165Z"
   },
   {
    "duration": 97,
    "start_time": "2022-02-25T06:22:53.289Z"
   },
   {
    "duration": 10,
    "start_time": "2022-02-25T06:27:52.086Z"
   },
   {
    "duration": 116,
    "start_time": "2022-02-25T06:29:50.049Z"
   },
   {
    "duration": 9,
    "start_time": "2022-02-25T06:29:56.598Z"
   },
   {
    "duration": 8,
    "start_time": "2022-02-25T06:30:43.596Z"
   },
   {
    "duration": 8,
    "start_time": "2022-02-25T06:30:44.172Z"
   },
   {
    "duration": 8,
    "start_time": "2022-02-25T06:30:45.340Z"
   },
   {
    "duration": 8,
    "start_time": "2022-02-25T06:30:45.803Z"
   },
   {
    "duration": 14,
    "start_time": "2022-02-25T07:46:36.122Z"
   },
   {
    "duration": 7,
    "start_time": "2022-02-25T07:47:58.367Z"
   },
   {
    "duration": 19,
    "start_time": "2022-02-25T07:48:38.480Z"
   },
   {
    "duration": 21,
    "start_time": "2022-02-25T07:50:26.314Z"
   },
   {
    "duration": 25,
    "start_time": "2022-02-25T07:50:29.402Z"
   },
   {
    "duration": 19,
    "start_time": "2022-02-25T07:52:23.756Z"
   },
   {
    "duration": 30,
    "start_time": "2022-02-25T07:53:24.313Z"
   },
   {
    "duration": 28,
    "start_time": "2022-02-25T07:54:04.333Z"
   },
   {
    "duration": 6,
    "start_time": "2022-02-25T07:58:58.565Z"
   },
   {
    "duration": 286,
    "start_time": "2022-02-25T07:59:10.589Z"
   },
   {
    "duration": 277,
    "start_time": "2022-02-25T07:59:21.015Z"
   },
   {
    "duration": 311,
    "start_time": "2022-02-25T07:59:37.869Z"
   },
   {
    "duration": 9,
    "start_time": "2022-02-25T07:59:55.109Z"
   },
   {
    "duration": 7,
    "start_time": "2022-02-25T08:00:15.860Z"
   },
   {
    "duration": 29,
    "start_time": "2022-02-25T09:22:21.152Z"
   },
   {
    "duration": 23,
    "start_time": "2022-02-25T09:22:42.169Z"
   },
   {
    "duration": 29,
    "start_time": "2022-02-25T09:42:13.154Z"
   },
   {
    "duration": 25,
    "start_time": "2022-02-25T09:42:30.032Z"
   },
   {
    "duration": 18,
    "start_time": "2022-02-25T09:44:46.276Z"
   },
   {
    "duration": 35,
    "start_time": "2022-02-25T09:44:55.001Z"
   },
   {
    "duration": 59,
    "start_time": "2022-02-25T09:45:29.338Z"
   },
   {
    "duration": 30,
    "start_time": "2022-02-25T09:45:37.448Z"
   },
   {
    "duration": 98,
    "start_time": "2022-02-25T09:48:43.052Z"
   },
   {
    "duration": 376,
    "start_time": "2022-02-25T09:55:10.929Z"
   },
   {
    "duration": 1107,
    "start_time": "2022-02-25T09:55:23.024Z"
   },
   {
    "duration": 129,
    "start_time": "2022-02-25T09:55:24.135Z"
   },
   {
    "duration": 21,
    "start_time": "2022-02-25T09:55:24.269Z"
   },
   {
    "duration": 28,
    "start_time": "2022-02-25T09:55:24.293Z"
   },
   {
    "duration": 18,
    "start_time": "2022-02-25T09:55:24.325Z"
   },
   {
    "duration": 22,
    "start_time": "2022-02-25T09:55:24.346Z"
   },
   {
    "duration": 25,
    "start_time": "2022-02-25T09:55:24.370Z"
   },
   {
    "duration": 8,
    "start_time": "2022-02-25T09:55:24.399Z"
   },
   {
    "duration": 45,
    "start_time": "2022-02-25T09:55:24.410Z"
   },
   {
    "duration": 32,
    "start_time": "2022-02-25T09:55:24.458Z"
   },
   {
    "duration": 25,
    "start_time": "2022-02-25T09:55:24.492Z"
   },
   {
    "duration": 54,
    "start_time": "2022-02-25T09:55:24.520Z"
   },
   {
    "duration": 46,
    "start_time": "2022-02-25T09:55:24.577Z"
   },
   {
    "duration": 50,
    "start_time": "2022-02-25T09:55:24.626Z"
   },
   {
    "duration": 26,
    "start_time": "2022-02-25T09:55:26.282Z"
   },
   {
    "duration": 31,
    "start_time": "2022-02-25T09:55:56.466Z"
   },
   {
    "duration": 30,
    "start_time": "2022-02-25T09:55:57.665Z"
   },
   {
    "duration": 29,
    "start_time": "2022-02-25T09:55:59.288Z"
   },
   {
    "duration": 24,
    "start_time": "2022-02-25T09:55:59.805Z"
   },
   {
    "duration": 48,
    "start_time": "2022-02-25T09:56:02.714Z"
   },
   {
    "duration": 4,
    "start_time": "2022-02-25T09:56:12.565Z"
   },
   {
    "duration": 95,
    "start_time": "2022-02-25T09:56:12.571Z"
   },
   {
    "duration": 13,
    "start_time": "2022-02-25T09:56:12.669Z"
   },
   {
    "duration": 12,
    "start_time": "2022-02-25T09:56:12.685Z"
   },
   {
    "duration": 8,
    "start_time": "2022-02-25T09:56:12.699Z"
   },
   {
    "duration": 8,
    "start_time": "2022-02-25T09:56:12.709Z"
   },
   {
    "duration": 6,
    "start_time": "2022-02-25T09:56:12.763Z"
   },
   {
    "duration": 6,
    "start_time": "2022-02-25T09:56:12.773Z"
   },
   {
    "duration": 22,
    "start_time": "2022-02-25T09:56:12.782Z"
   },
   {
    "duration": 27,
    "start_time": "2022-02-25T09:56:12.806Z"
   },
   {
    "duration": 28,
    "start_time": "2022-02-25T09:56:12.836Z"
   },
   {
    "duration": 28,
    "start_time": "2022-02-25T09:56:12.866Z"
   },
   {
    "duration": 35,
    "start_time": "2022-02-25T09:56:12.897Z"
   },
   {
    "duration": 63,
    "start_time": "2022-02-25T09:56:12.934Z"
   },
   {
    "duration": 4,
    "start_time": "2022-02-25T11:47:44.233Z"
   },
   {
    "duration": 94,
    "start_time": "2022-02-25T11:47:44.240Z"
   },
   {
    "duration": 24,
    "start_time": "2022-02-25T11:47:44.338Z"
   },
   {
    "duration": 21,
    "start_time": "2022-02-25T11:47:44.366Z"
   },
   {
    "duration": 17,
    "start_time": "2022-02-25T11:47:44.391Z"
   },
   {
    "duration": 9,
    "start_time": "2022-02-25T11:47:44.411Z"
   },
   {
    "duration": 44,
    "start_time": "2022-02-25T11:47:44.422Z"
   },
   {
    "duration": 8,
    "start_time": "2022-02-25T11:47:44.480Z"
   },
   {
    "duration": 22,
    "start_time": "2022-02-25T11:47:44.491Z"
   },
   {
    "duration": 32,
    "start_time": "2022-02-25T11:47:44.516Z"
   },
   {
    "duration": 15,
    "start_time": "2022-02-25T11:47:44.550Z"
   },
   {
    "duration": 45,
    "start_time": "2022-02-25T11:47:44.569Z"
   },
   {
    "duration": 67,
    "start_time": "2022-02-25T11:47:44.618Z"
   },
   {
    "duration": 78,
    "start_time": "2022-02-25T11:47:44.688Z"
   },
   {
    "duration": 807,
    "start_time": "2022-02-25T11:47:56.444Z"
   },
   {
    "duration": 90,
    "start_time": "2022-02-25T11:47:57.254Z"
   },
   {
    "duration": 36,
    "start_time": "2022-02-25T11:47:57.348Z"
   },
   {
    "duration": 14,
    "start_time": "2022-02-25T11:47:57.388Z"
   },
   {
    "duration": 7,
    "start_time": "2022-02-25T11:47:57.405Z"
   },
   {
    "duration": 48,
    "start_time": "2022-02-25T11:47:57.415Z"
   },
   {
    "duration": 16,
    "start_time": "2022-02-25T11:47:57.466Z"
   },
   {
    "duration": 11,
    "start_time": "2022-02-25T11:47:57.485Z"
   },
   {
    "duration": 13,
    "start_time": "2022-02-25T11:47:57.499Z"
   },
   {
    "duration": 49,
    "start_time": "2022-02-25T11:47:57.515Z"
   },
   {
    "duration": 11,
    "start_time": "2022-02-25T11:47:57.568Z"
   },
   {
    "duration": 35,
    "start_time": "2022-02-25T11:47:57.583Z"
   },
   {
    "duration": 60,
    "start_time": "2022-02-25T11:47:57.621Z"
   },
   {
    "duration": 47,
    "start_time": "2022-02-25T11:47:57.684Z"
   },
   {
    "duration": 429,
    "start_time": "2022-02-25T11:50:46.134Z"
   },
   {
    "duration": 21,
    "start_time": "2022-02-25T11:51:18.390Z"
   },
   {
    "duration": 7423,
    "start_time": "2022-02-25T12:54:53.693Z"
   },
   {
    "duration": 4,
    "start_time": "2022-02-25T12:55:07.714Z"
   },
   {
    "duration": 79,
    "start_time": "2022-02-25T12:55:07.721Z"
   },
   {
    "duration": 16,
    "start_time": "2022-02-25T12:55:07.804Z"
   },
   {
    "duration": 41,
    "start_time": "2022-02-25T12:55:07.823Z"
   },
   {
    "duration": 8,
    "start_time": "2022-02-25T12:55:07.867Z"
   },
   {
    "duration": 21,
    "start_time": "2022-02-25T12:55:07.878Z"
   },
   {
    "duration": 10,
    "start_time": "2022-02-25T12:55:07.904Z"
   },
   {
    "duration": 11,
    "start_time": "2022-02-25T12:55:07.918Z"
   },
   {
    "duration": 40,
    "start_time": "2022-02-25T12:55:07.933Z"
   },
   {
    "duration": 22,
    "start_time": "2022-02-25T12:55:07.977Z"
   },
   {
    "duration": 7,
    "start_time": "2022-02-25T12:55:08.003Z"
   },
   {
    "duration": 76,
    "start_time": "2022-02-25T12:55:08.013Z"
   },
   {
    "duration": 26,
    "start_time": "2022-02-25T12:55:08.092Z"
   },
   {
    "duration": 69,
    "start_time": "2022-02-25T12:55:08.121Z"
   },
   {
    "duration": 22,
    "start_time": "2022-02-25T12:55:08.193Z"
   },
   {
    "duration": 13,
    "start_time": "2022-02-25T12:55:08.217Z"
   },
   {
    "duration": 7718,
    "start_time": "2022-02-25T12:55:08.233Z"
   },
   {
    "duration": 29,
    "start_time": "2022-02-25T12:55:23.914Z"
   },
   {
    "duration": 4,
    "start_time": "2022-02-25T12:55:40.403Z"
   },
   {
    "duration": 30,
    "start_time": "2022-02-25T12:55:42.544Z"
   },
   {
    "duration": 10,
    "start_time": "2022-02-25T13:01:28.583Z"
   },
   {
    "duration": 313,
    "start_time": "2022-02-25T13:07:41.042Z"
   },
   {
    "duration": 208,
    "start_time": "2022-02-25T13:08:30.201Z"
   },
   {
    "duration": 335,
    "start_time": "2022-02-25T13:08:34.316Z"
   },
   {
    "duration": 642,
    "start_time": "2022-02-25T17:32:25.271Z"
   },
   {
    "duration": 71,
    "start_time": "2022-02-25T17:32:25.915Z"
   },
   {
    "duration": 13,
    "start_time": "2022-02-25T17:32:25.988Z"
   },
   {
    "duration": 15,
    "start_time": "2022-02-25T17:32:26.004Z"
   },
   {
    "duration": 14,
    "start_time": "2022-02-25T17:32:26.021Z"
   },
   {
    "duration": 7,
    "start_time": "2022-02-25T17:32:26.037Z"
   },
   {
    "duration": 6,
    "start_time": "2022-02-25T17:32:26.068Z"
   },
   {
    "duration": 10,
    "start_time": "2022-02-25T17:32:26.077Z"
   },
   {
    "duration": 11,
    "start_time": "2022-02-25T17:32:26.089Z"
   },
   {
    "duration": 15,
    "start_time": "2022-02-25T17:32:26.102Z"
   },
   {
    "duration": 8,
    "start_time": "2022-02-25T17:32:26.119Z"
   },
   {
    "duration": 51,
    "start_time": "2022-02-25T17:32:26.128Z"
   },
   {
    "duration": 22,
    "start_time": "2022-02-25T17:32:26.181Z"
   },
   {
    "duration": 36,
    "start_time": "2022-02-25T17:32:26.205Z"
   },
   {
    "duration": 34,
    "start_time": "2022-02-25T17:32:26.243Z"
   },
   {
    "duration": 4,
    "start_time": "2022-02-25T17:32:26.279Z"
   },
   {
    "duration": 23,
    "start_time": "2022-02-25T17:32:26.284Z"
   },
   {
    "duration": 5,
    "start_time": "2022-02-25T17:32:26.310Z"
   },
   {
    "duration": 4,
    "start_time": "2022-02-25T17:33:01.799Z"
   },
   {
    "duration": 18,
    "start_time": "2022-02-25T18:41:13.605Z"
   },
   {
    "duration": 312,
    "start_time": "2022-02-25T19:47:27.128Z"
   },
   {
    "duration": 7,
    "start_time": "2022-02-25T19:47:36.838Z"
   },
   {
    "duration": 8,
    "start_time": "2022-02-25T19:47:56.367Z"
   },
   {
    "duration": 7,
    "start_time": "2022-02-25T19:48:17.164Z"
   },
   {
    "duration": 309,
    "start_time": "2022-02-25T19:49:33.805Z"
   },
   {
    "duration": 257,
    "start_time": "2022-02-25T19:49:51.278Z"
   },
   {
    "duration": 253,
    "start_time": "2022-02-25T19:49:56.321Z"
   },
   {
    "duration": 18,
    "start_time": "2022-02-25T19:50:05.332Z"
   },
   {
    "duration": 314,
    "start_time": "2022-02-25T19:50:20.717Z"
   },
   {
    "duration": 239,
    "start_time": "2022-02-25T19:50:32.105Z"
   },
   {
    "duration": 17,
    "start_time": "2022-02-25T19:51:31.672Z"
   },
   {
    "duration": 18,
    "start_time": "2022-02-25T19:52:22.937Z"
   },
   {
    "duration": 307,
    "start_time": "2022-02-25T20:01:16.623Z"
   },
   {
    "duration": 5,
    "start_time": "2022-02-25T20:01:38.276Z"
   },
   {
    "duration": 15,
    "start_time": "2022-02-25T20:05:09.941Z"
   },
   {
    "duration": 5,
    "start_time": "2022-02-25T20:06:21.638Z"
   },
   {
    "duration": 413,
    "start_time": "2022-02-25T20:06:30.521Z"
   },
   {
    "duration": 5,
    "start_time": "2022-02-25T20:06:34.671Z"
   },
   {
    "duration": 5,
    "start_time": "2022-02-25T20:06:47.694Z"
   },
   {
    "duration": 353,
    "start_time": "2022-02-25T20:06:51.644Z"
   },
   {
    "duration": 4,
    "start_time": "2022-02-25T20:06:53.647Z"
   },
   {
    "duration": 5,
    "start_time": "2022-02-25T20:06:56.810Z"
   },
   {
    "duration": 4,
    "start_time": "2022-02-25T20:07:06.788Z"
   },
   {
    "duration": 16,
    "start_time": "2022-02-25T20:11:14.154Z"
   },
   {
    "duration": 17,
    "start_time": "2022-02-25T20:11:30.857Z"
   },
   {
    "duration": 89,
    "start_time": "2022-02-25T20:11:51.201Z"
   },
   {
    "duration": 76,
    "start_time": "2022-02-25T20:11:57.628Z"
   },
   {
    "duration": 17,
    "start_time": "2022-02-25T20:12:04.626Z"
   },
   {
    "duration": 284,
    "start_time": "2022-02-25T20:12:20.381Z"
   },
   {
    "duration": 312,
    "start_time": "2022-02-25T20:12:36.378Z"
   },
   {
    "duration": 16,
    "start_time": "2022-02-25T20:13:09.759Z"
   },
   {
    "duration": 17,
    "start_time": "2022-02-25T20:13:16.871Z"
   },
   {
    "duration": 16,
    "start_time": "2022-02-25T20:13:24.365Z"
   },
   {
    "duration": 10,
    "start_time": "2022-02-25T20:18:57.994Z"
   },
   {
    "duration": 611,
    "start_time": "2022-02-26T08:12:04.992Z"
   },
   {
    "duration": 72,
    "start_time": "2022-02-26T08:12:05.605Z"
   },
   {
    "duration": 11,
    "start_time": "2022-02-26T08:12:05.679Z"
   },
   {
    "duration": 12,
    "start_time": "2022-02-26T08:12:05.692Z"
   },
   {
    "duration": 10,
    "start_time": "2022-02-26T08:12:05.706Z"
   },
   {
    "duration": 7,
    "start_time": "2022-02-26T08:12:05.718Z"
   },
   {
    "duration": 9,
    "start_time": "2022-02-26T08:12:05.726Z"
   },
   {
    "duration": 34,
    "start_time": "2022-02-26T08:12:05.737Z"
   },
   {
    "duration": 10,
    "start_time": "2022-02-26T08:12:05.773Z"
   },
   {
    "duration": 14,
    "start_time": "2022-02-26T08:12:05.785Z"
   },
   {
    "duration": 8132,
    "start_time": "2022-02-26T08:16:49.647Z"
   },
   {
    "duration": 24,
    "start_time": "2022-02-26T08:17:04.927Z"
   },
   {
    "duration": 15,
    "start_time": "2022-02-26T08:51:51.836Z"
   },
   {
    "duration": 17,
    "start_time": "2022-02-26T08:52:44.112Z"
   },
   {
    "duration": 11,
    "start_time": "2022-02-26T08:52:54.320Z"
   },
   {
    "duration": 14,
    "start_time": "2022-02-26T08:53:16.419Z"
   },
   {
    "duration": 6,
    "start_time": "2022-02-26T08:53:35.123Z"
   },
   {
    "duration": 5,
    "start_time": "2022-02-26T08:53:56.115Z"
   },
   {
    "duration": 7,
    "start_time": "2022-02-26T08:54:22.360Z"
   },
   {
    "duration": 10,
    "start_time": "2022-02-26T08:56:37.628Z"
   },
   {
    "duration": 808,
    "start_time": "2022-02-27T09:41:43.703Z"
   },
   {
    "duration": 100,
    "start_time": "2022-02-27T09:41:44.515Z"
   },
   {
    "duration": 22,
    "start_time": "2022-02-27T09:41:44.619Z"
   },
   {
    "duration": 37,
    "start_time": "2022-02-27T09:41:44.644Z"
   },
   {
    "duration": 12,
    "start_time": "2022-02-27T09:41:44.684Z"
   },
   {
    "duration": 8,
    "start_time": "2022-02-27T09:41:44.700Z"
   },
   {
    "duration": 9,
    "start_time": "2022-02-27T09:41:44.711Z"
   },
   {
    "duration": 59,
    "start_time": "2022-02-27T09:41:44.725Z"
   },
   {
    "duration": 15,
    "start_time": "2022-02-27T09:41:44.788Z"
   },
   {
    "duration": 14,
    "start_time": "2022-02-27T09:41:44.805Z"
   },
   {
    "duration": 7,
    "start_time": "2022-02-27T09:41:44.822Z"
   },
   {
    "duration": 72,
    "start_time": "2022-02-27T09:41:44.832Z"
   },
   {
    "duration": 7,
    "start_time": "2022-02-27T09:41:44.907Z"
   },
   {
    "duration": 21,
    "start_time": "2022-02-27T09:41:44.916Z"
   },
   {
    "duration": 57,
    "start_time": "2022-02-27T09:41:44.940Z"
   },
   {
    "duration": 4,
    "start_time": "2022-02-27T09:45:07.044Z"
   },
   {
    "duration": 73,
    "start_time": "2022-02-27T09:45:07.051Z"
   },
   {
    "duration": 14,
    "start_time": "2022-02-27T09:45:07.127Z"
   },
   {
    "duration": 30,
    "start_time": "2022-02-27T09:45:07.144Z"
   },
   {
    "duration": 6,
    "start_time": "2022-02-27T09:45:07.177Z"
   },
   {
    "duration": 8,
    "start_time": "2022-02-27T09:45:07.185Z"
   },
   {
    "duration": 8,
    "start_time": "2022-02-27T09:45:07.196Z"
   },
   {
    "duration": 8,
    "start_time": "2022-02-27T09:45:07.206Z"
   },
   {
    "duration": 12,
    "start_time": "2022-02-27T09:45:07.216Z"
   },
   {
    "duration": 13,
    "start_time": "2022-02-27T09:45:07.272Z"
   },
   {
    "duration": 7,
    "start_time": "2022-02-27T09:45:07.288Z"
   },
   {
    "duration": 20,
    "start_time": "2022-02-27T09:45:07.297Z"
   },
   {
    "duration": 11,
    "start_time": "2022-02-27T09:45:07.319Z"
   },
   {
    "duration": 55,
    "start_time": "2022-02-27T09:45:07.332Z"
   },
   {
    "duration": 18,
    "start_time": "2022-02-27T09:45:09.781Z"
   },
   {
    "duration": 34,
    "start_time": "2022-02-27T09:45:25.400Z"
   },
   {
    "duration": 6,
    "start_time": "2022-02-27T09:46:03.708Z"
   },
   {
    "duration": 15,
    "start_time": "2022-02-27T09:58:49.820Z"
   },
   {
    "duration": 14,
    "start_time": "2022-02-27T09:59:00.424Z"
   },
   {
    "duration": 291,
    "start_time": "2022-02-27T09:59:08.954Z"
   },
   {
    "duration": 13,
    "start_time": "2022-02-27T09:59:47.834Z"
   },
   {
    "duration": 85,
    "start_time": "2022-02-27T10:11:18.696Z"
   },
   {
    "duration": 86,
    "start_time": "2022-02-27T10:11:54.163Z"
   },
   {
    "duration": 6724,
    "start_time": "2022-02-27T10:16:03.253Z"
   },
   {
    "duration": 5775,
    "start_time": "2022-02-27T10:16:20.063Z"
   },
   {
    "duration": 5859,
    "start_time": "2022-02-27T10:16:48.309Z"
   },
   {
    "duration": 6758,
    "start_time": "2022-02-27T10:17:03.304Z"
   },
   {
    "duration": 17,
    "start_time": "2022-02-27T10:17:20.143Z"
   },
   {
    "duration": 71,
    "start_time": "2022-02-27T10:18:47.519Z"
   },
   {
    "duration": 8,
    "start_time": "2022-02-27T11:06:04.366Z"
   },
   {
    "duration": 84,
    "start_time": "2022-02-27T11:07:49.097Z"
   },
   {
    "duration": 451,
    "start_time": "2022-02-27T11:08:00.480Z"
   },
   {
    "duration": 229,
    "start_time": "2022-02-27T11:08:27.882Z"
   },
   {
    "duration": 209,
    "start_time": "2022-02-27T11:08:41.938Z"
   },
   {
    "duration": 7,
    "start_time": "2022-02-27T11:08:57.456Z"
   },
   {
    "duration": 70,
    "start_time": "2022-02-27T11:09:06.550Z"
   },
   {
    "duration": 8,
    "start_time": "2022-02-27T11:09:09.983Z"
   },
   {
    "duration": 8,
    "start_time": "2022-02-27T11:09:20.391Z"
   },
   {
    "duration": 8,
    "start_time": "2022-02-27T11:09:24.638Z"
   },
   {
    "duration": 247,
    "start_time": "2022-02-27T11:11:04.193Z"
   },
   {
    "duration": 229,
    "start_time": "2022-02-27T11:12:49.365Z"
   },
   {
    "duration": 1678,
    "start_time": "2022-02-27T11:13:15.352Z"
   },
   {
    "duration": 9,
    "start_time": "2022-02-27T11:15:17.817Z"
   },
   {
    "duration": 76,
    "start_time": "2022-02-27T11:15:20.597Z"
   },
   {
    "duration": 10,
    "start_time": "2022-02-27T11:15:24.360Z"
   },
   {
    "duration": 366,
    "start_time": "2022-02-28T09:41:56.153Z"
   },
   {
    "duration": 634,
    "start_time": "2022-02-28T09:42:00.997Z"
   },
   {
    "duration": 68,
    "start_time": "2022-02-28T09:42:01.633Z"
   },
   {
    "duration": 17,
    "start_time": "2022-02-28T09:42:01.704Z"
   },
   {
    "duration": 8,
    "start_time": "2022-02-28T09:42:01.723Z"
   },
   {
    "duration": 4,
    "start_time": "2022-02-28T09:42:01.733Z"
   },
   {
    "duration": 5,
    "start_time": "2022-02-28T09:42:01.738Z"
   },
   {
    "duration": 3,
    "start_time": "2022-02-28T09:42:01.745Z"
   },
   {
    "duration": 4,
    "start_time": "2022-02-28T09:42:01.750Z"
   },
   {
    "duration": 47,
    "start_time": "2022-02-28T09:42:01.756Z"
   },
   {
    "duration": 9190,
    "start_time": "2022-02-28T09:42:01.805Z"
   },
   {
    "duration": -799,
    "start_time": "2022-02-28T09:42:11.795Z"
   },
   {
    "duration": -799,
    "start_time": "2022-02-28T09:42:11.796Z"
   },
   {
    "duration": -801,
    "start_time": "2022-02-28T09:42:11.799Z"
   },
   {
    "duration": -802,
    "start_time": "2022-02-28T09:42:11.801Z"
   },
   {
    "duration": -802,
    "start_time": "2022-02-28T09:42:11.802Z"
   },
   {
    "duration": 3,
    "start_time": "2022-02-28T09:42:30.970Z"
   },
   {
    "duration": 67,
    "start_time": "2022-02-28T09:42:30.974Z"
   },
   {
    "duration": 9,
    "start_time": "2022-02-28T09:42:31.042Z"
   },
   {
    "duration": 10,
    "start_time": "2022-02-28T09:42:31.053Z"
   },
   {
    "duration": 5,
    "start_time": "2022-02-28T09:42:31.064Z"
   },
   {
    "duration": 6,
    "start_time": "2022-02-28T09:42:31.070Z"
   },
   {
    "duration": 23,
    "start_time": "2022-02-28T09:42:31.078Z"
   },
   {
    "duration": 5,
    "start_time": "2022-02-28T09:42:31.104Z"
   },
   {
    "duration": 11,
    "start_time": "2022-02-28T09:42:31.110Z"
   },
   {
    "duration": 7433,
    "start_time": "2022-02-28T09:42:31.122Z"
   },
   {
    "duration": -768,
    "start_time": "2022-02-28T09:42:39.325Z"
   },
   {
    "duration": -770,
    "start_time": "2022-02-28T09:42:39.328Z"
   },
   {
    "duration": -770,
    "start_time": "2022-02-28T09:42:39.329Z"
   },
   {
    "duration": -773,
    "start_time": "2022-02-28T09:42:39.332Z"
   },
   {
    "duration": -774,
    "start_time": "2022-02-28T09:42:39.334Z"
   },
   {
    "duration": 1145,
    "start_time": "2022-02-28T09:42:51.363Z"
   },
   {
    "duration": 56,
    "start_time": "2022-02-28T09:42:52.511Z"
   },
   {
    "duration": 9,
    "start_time": "2022-02-28T09:42:52.570Z"
   },
   {
    "duration": 8,
    "start_time": "2022-02-28T09:42:52.580Z"
   },
   {
    "duration": 15,
    "start_time": "2022-02-28T09:42:52.589Z"
   },
   {
    "duration": 5,
    "start_time": "2022-02-28T09:42:52.605Z"
   },
   {
    "duration": 7,
    "start_time": "2022-02-28T09:42:52.612Z"
   },
   {
    "duration": 3,
    "start_time": "2022-02-28T09:42:52.621Z"
   },
   {
    "duration": 11,
    "start_time": "2022-02-28T09:42:52.626Z"
   },
   {
    "duration": 8313,
    "start_time": "2022-02-28T09:42:52.639Z"
   },
   {
    "duration": -767,
    "start_time": "2022-02-28T09:43:01.721Z"
   },
   {
    "duration": -768,
    "start_time": "2022-02-28T09:43:01.724Z"
   },
   {
    "duration": -770,
    "start_time": "2022-02-28T09:43:01.727Z"
   },
   {
    "duration": -771,
    "start_time": "2022-02-28T09:43:01.729Z"
   },
   {
    "duration": 2,
    "start_time": "2022-02-28T09:43:15.467Z"
   },
   {
    "duration": 52,
    "start_time": "2022-02-28T09:43:15.471Z"
   },
   {
    "duration": 10,
    "start_time": "2022-02-28T09:43:15.525Z"
   },
   {
    "duration": 10,
    "start_time": "2022-02-28T09:43:15.537Z"
   },
   {
    "duration": 5,
    "start_time": "2022-02-28T09:43:15.549Z"
   },
   {
    "duration": 5,
    "start_time": "2022-02-28T09:43:15.556Z"
   },
   {
    "duration": 4,
    "start_time": "2022-02-28T09:43:15.562Z"
   },
   {
    "duration": 39,
    "start_time": "2022-02-28T09:43:15.568Z"
   },
   {
    "duration": 11,
    "start_time": "2022-02-28T09:43:15.609Z"
   },
   {
    "duration": 12,
    "start_time": "2022-02-28T09:43:15.622Z"
   },
   {
    "duration": 6,
    "start_time": "2022-02-28T09:43:15.635Z"
   },
   {
    "duration": 14,
    "start_time": "2022-02-28T09:43:15.643Z"
   },
   {
    "duration": 4,
    "start_time": "2022-02-28T09:43:15.659Z"
   },
   {
    "duration": 43,
    "start_time": "2022-02-28T09:43:15.664Z"
   },
   {
    "duration": 8,
    "start_time": "2022-02-28T09:43:15.710Z"
   },
   {
    "duration": 4,
    "start_time": "2022-02-28T09:43:19.150Z"
   },
   {
    "duration": 137,
    "start_time": "2022-02-28T10:00:59.614Z"
   },
   {
    "duration": 11,
    "start_time": "2022-02-28T10:01:05.799Z"
   },
   {
    "duration": 6,
    "start_time": "2022-02-28T10:01:24.200Z"
   },
   {
    "duration": 6,
    "start_time": "2022-02-28T10:01:47.788Z"
   },
   {
    "duration": 7,
    "start_time": "2022-02-28T10:02:45.642Z"
   },
   {
    "duration": 10,
    "start_time": "2022-02-28T10:03:24.349Z"
   },
   {
    "duration": 18,
    "start_time": "2022-02-28T10:03:28.385Z"
   },
   {
    "duration": 8,
    "start_time": "2022-02-28T10:04:36.597Z"
   },
   {
    "duration": 16,
    "start_time": "2022-02-28T10:04:42.200Z"
   },
   {
    "duration": 2,
    "start_time": "2022-02-28T10:04:56.415Z"
   },
   {
    "duration": 62,
    "start_time": "2022-02-28T10:04:56.421Z"
   },
   {
    "duration": 9,
    "start_time": "2022-02-28T10:04:56.484Z"
   },
   {
    "duration": 9,
    "start_time": "2022-02-28T10:04:56.495Z"
   },
   {
    "duration": 4,
    "start_time": "2022-02-28T10:04:56.506Z"
   },
   {
    "duration": 4,
    "start_time": "2022-02-28T10:04:56.511Z"
   },
   {
    "duration": 4,
    "start_time": "2022-02-28T10:04:56.516Z"
   },
   {
    "duration": 4,
    "start_time": "2022-02-28T10:04:56.522Z"
   },
   {
    "duration": 10,
    "start_time": "2022-02-28T10:04:56.528Z"
   },
   {
    "duration": 13,
    "start_time": "2022-02-28T10:04:56.540Z"
   },
   {
    "duration": 4,
    "start_time": "2022-02-28T10:04:56.555Z"
   },
   {
    "duration": 41,
    "start_time": "2022-02-28T10:04:56.561Z"
   },
   {
    "duration": 4,
    "start_time": "2022-02-28T10:04:56.603Z"
   },
   {
    "duration": 12,
    "start_time": "2022-02-28T10:04:56.609Z"
   },
   {
    "duration": 8,
    "start_time": "2022-02-28T10:04:56.623Z"
   },
   {
    "duration": 7,
    "start_time": "2022-02-28T10:04:56.632Z"
   },
   {
    "duration": 96,
    "start_time": "2022-02-28T10:04:56.640Z"
   },
   {
    "duration": -759,
    "start_time": "2022-02-28T10:04:57.497Z"
   },
   {
    "duration": -760,
    "start_time": "2022-02-28T10:04:57.499Z"
   },
   {
    "duration": -763,
    "start_time": "2022-02-28T10:04:57.503Z"
   },
   {
    "duration": -763,
    "start_time": "2022-02-28T10:04:57.505Z"
   },
   {
    "duration": -763,
    "start_time": "2022-02-28T10:04:57.506Z"
   },
   {
    "duration": 3,
    "start_time": "2022-02-28T10:05:11.990Z"
   },
   {
    "duration": 50,
    "start_time": "2022-02-28T10:05:11.997Z"
   },
   {
    "duration": 9,
    "start_time": "2022-02-28T10:05:12.049Z"
   },
   {
    "duration": 8,
    "start_time": "2022-02-28T10:05:12.060Z"
   },
   {
    "duration": 4,
    "start_time": "2022-02-28T10:05:12.070Z"
   },
   {
    "duration": 29,
    "start_time": "2022-02-28T10:05:12.075Z"
   },
   {
    "duration": 6,
    "start_time": "2022-02-28T10:05:12.106Z"
   },
   {
    "duration": 4,
    "start_time": "2022-02-28T10:05:12.114Z"
   },
   {
    "duration": 11,
    "start_time": "2022-02-28T10:05:12.119Z"
   },
   {
    "duration": 14,
    "start_time": "2022-02-28T10:05:12.132Z"
   },
   {
    "duration": 4,
    "start_time": "2022-02-28T10:05:12.148Z"
   },
   {
    "duration": 18,
    "start_time": "2022-02-28T10:05:12.154Z"
   },
   {
    "duration": 30,
    "start_time": "2022-02-28T10:05:12.173Z"
   },
   {
    "duration": 12,
    "start_time": "2022-02-28T10:05:12.204Z"
   },
   {
    "duration": 5,
    "start_time": "2022-02-28T10:05:12.218Z"
   },
   {
    "duration": 7,
    "start_time": "2022-02-28T10:05:12.225Z"
   },
   {
    "duration": 103,
    "start_time": "2022-02-28T10:05:12.234Z"
   },
   {
    "duration": -790,
    "start_time": "2022-02-28T10:05:13.129Z"
   },
   {
    "duration": -790,
    "start_time": "2022-02-28T10:05:13.130Z"
   },
   {
    "duration": -791,
    "start_time": "2022-02-28T10:05:13.132Z"
   },
   {
    "duration": -791,
    "start_time": "2022-02-28T10:05:13.133Z"
   },
   {
    "duration": -792,
    "start_time": "2022-02-28T10:05:13.135Z"
   },
   {
    "duration": 2,
    "start_time": "2022-02-28T10:05:26.105Z"
   },
   {
    "duration": 64,
    "start_time": "2022-02-28T10:05:26.108Z"
   },
   {
    "duration": 8,
    "start_time": "2022-02-28T10:05:26.174Z"
   },
   {
    "duration": 12,
    "start_time": "2022-02-28T10:05:26.184Z"
   },
   {
    "duration": 15,
    "start_time": "2022-02-28T10:05:26.197Z"
   },
   {
    "duration": 7,
    "start_time": "2022-02-28T10:05:26.213Z"
   },
   {
    "duration": 5,
    "start_time": "2022-02-28T10:05:26.222Z"
   },
   {
    "duration": 3,
    "start_time": "2022-02-28T10:05:26.229Z"
   },
   {
    "duration": 10,
    "start_time": "2022-02-28T10:05:26.234Z"
   },
   {
    "duration": 12,
    "start_time": "2022-02-28T10:05:26.245Z"
   },
   {
    "duration": 4,
    "start_time": "2022-02-28T10:05:26.258Z"
   },
   {
    "duration": 15,
    "start_time": "2022-02-28T10:05:26.264Z"
   },
   {
    "duration": 22,
    "start_time": "2022-02-28T10:05:26.280Z"
   },
   {
    "duration": 10,
    "start_time": "2022-02-28T10:05:26.304Z"
   },
   {
    "duration": 12,
    "start_time": "2022-02-28T10:05:26.315Z"
   },
   {
    "duration": 8,
    "start_time": "2022-02-28T10:05:26.328Z"
   },
   {
    "duration": 10,
    "start_time": "2022-02-28T10:05:26.337Z"
   },
   {
    "duration": 10,
    "start_time": "2022-02-28T10:05:26.348Z"
   },
   {
    "duration": 8,
    "start_time": "2022-02-28T10:05:26.359Z"
   },
   {
    "duration": 8,
    "start_time": "2022-02-28T10:05:26.368Z"
   },
   {
    "duration": 8,
    "start_time": "2022-02-28T10:05:26.377Z"
   },
   {
    "duration": 18,
    "start_time": "2022-02-28T10:05:29.390Z"
   },
   {
    "duration": 6,
    "start_time": "2022-02-28T10:05:32.803Z"
   },
   {
    "duration": 17,
    "start_time": "2022-02-28T10:05:43.315Z"
   },
   {
    "duration": 17,
    "start_time": "2022-02-28T10:07:04.444Z"
   },
   {
    "duration": 16,
    "start_time": "2022-02-28T10:07:15.306Z"
   },
   {
    "duration": 12,
    "start_time": "2022-02-28T10:08:54.006Z"
   },
   {
    "duration": 16,
    "start_time": "2022-02-28T10:11:35.306Z"
   },
   {
    "duration": 13,
    "start_time": "2022-02-28T10:18:33.664Z"
   },
   {
    "duration": 1683,
    "start_time": "2022-02-28T10:21:52.105Z"
   },
   {
    "duration": 1310,
    "start_time": "2022-02-28T10:22:11.469Z"
   },
   {
    "duration": 8,
    "start_time": "2022-02-28T10:22:42.545Z"
   },
   {
    "duration": 7,
    "start_time": "2022-02-28T10:22:50.714Z"
   },
   {
    "duration": 336,
    "start_time": "2022-02-28T10:23:14.999Z"
   },
   {
    "duration": 7,
    "start_time": "2022-02-28T10:23:20.167Z"
   },
   {
    "duration": 293,
    "start_time": "2022-02-28T10:23:46.183Z"
   },
   {
    "duration": 294,
    "start_time": "2022-02-28T10:24:00.792Z"
   },
   {
    "duration": 498,
    "start_time": "2022-02-28T10:24:08.226Z"
   },
   {
    "duration": 429,
    "start_time": "2022-02-28T10:25:01.714Z"
   },
   {
    "duration": 16,
    "start_time": "2022-02-28T10:25:11.394Z"
   },
   {
    "duration": 10,
    "start_time": "2022-02-28T10:25:22.088Z"
   },
   {
    "duration": 321,
    "start_time": "2022-02-28T10:26:59.169Z"
   },
   {
    "duration": 8,
    "start_time": "2022-02-28T10:27:15.186Z"
   },
   {
    "duration": 5,
    "start_time": "2022-02-28T10:28:00.902Z"
   },
   {
    "duration": 9,
    "start_time": "2022-02-28T10:28:14.204Z"
   },
   {
    "duration": 12,
    "start_time": "2022-02-28T10:29:18.754Z"
   },
   {
    "duration": 9,
    "start_time": "2022-02-28T10:29:24.003Z"
   },
   {
    "duration": 13,
    "start_time": "2022-02-28T10:29:28.784Z"
   },
   {
    "duration": 10,
    "start_time": "2022-02-28T10:29:31.043Z"
   },
   {
    "duration": 12,
    "start_time": "2022-02-28T10:29:40.544Z"
   },
   {
    "duration": 12,
    "start_time": "2022-02-28T10:33:07.597Z"
   },
   {
    "duration": 10,
    "start_time": "2022-02-28T10:33:11.389Z"
   },
   {
    "duration": 4,
    "start_time": "2022-02-28T10:41:10.922Z"
   },
   {
    "duration": 6,
    "start_time": "2022-02-28T10:42:09.710Z"
   },
   {
    "duration": 97,
    "start_time": "2022-02-28T10:45:58.187Z"
   },
   {
    "duration": 11,
    "start_time": "2022-02-28T10:46:10.411Z"
   },
   {
    "duration": 16,
    "start_time": "2022-02-28T10:46:33.400Z"
   },
   {
    "duration": 102,
    "start_time": "2022-02-28T10:46:53.876Z"
   },
   {
    "duration": 18,
    "start_time": "2022-02-28T10:46:58.496Z"
   },
   {
    "duration": 16,
    "start_time": "2022-02-28T10:47:37.562Z"
   },
   {
    "duration": 8,
    "start_time": "2022-02-28T10:47:47.800Z"
   },
   {
    "duration": 7,
    "start_time": "2022-02-28T10:47:52.518Z"
   },
   {
    "duration": 3,
    "start_time": "2022-02-28T10:48:36.034Z"
   },
   {
    "duration": 59,
    "start_time": "2022-02-28T10:48:36.039Z"
   },
   {
    "duration": 9,
    "start_time": "2022-02-28T10:48:36.100Z"
   },
   {
    "duration": 20,
    "start_time": "2022-02-28T10:48:36.110Z"
   },
   {
    "duration": 11,
    "start_time": "2022-02-28T10:48:36.132Z"
   },
   {
    "duration": 27,
    "start_time": "2022-02-28T10:48:36.144Z"
   },
   {
    "duration": 16,
    "start_time": "2022-02-28T10:48:36.174Z"
   },
   {
    "duration": 19,
    "start_time": "2022-02-28T10:48:36.191Z"
   },
   {
    "duration": 24,
    "start_time": "2022-02-28T10:48:36.211Z"
   },
   {
    "duration": 26,
    "start_time": "2022-02-28T10:48:36.237Z"
   },
   {
    "duration": 33,
    "start_time": "2022-02-28T10:48:36.265Z"
   },
   {
    "duration": 29,
    "start_time": "2022-02-28T10:48:36.299Z"
   },
   {
    "duration": 14,
    "start_time": "2022-02-28T10:48:36.329Z"
   },
   {
    "duration": 35,
    "start_time": "2022-02-28T10:48:36.344Z"
   },
   {
    "duration": 14,
    "start_time": "2022-02-28T10:48:36.381Z"
   },
   {
    "duration": 20,
    "start_time": "2022-02-28T10:48:36.397Z"
   },
   {
    "duration": 29,
    "start_time": "2022-02-28T10:48:36.418Z"
   },
   {
    "duration": 12,
    "start_time": "2022-02-28T10:48:36.449Z"
   },
   {
    "duration": 13,
    "start_time": "2022-02-28T10:48:36.463Z"
   },
   {
    "duration": 11,
    "start_time": "2022-02-28T10:48:36.478Z"
   },
   {
    "duration": 29,
    "start_time": "2022-02-28T10:48:36.491Z"
   },
   {
    "duration": 9,
    "start_time": "2022-02-28T10:48:36.522Z"
   },
   {
    "duration": 318,
    "start_time": "2022-02-28T10:49:55.814Z"
   },
   {
    "duration": 7,
    "start_time": "2022-02-28T10:50:04.731Z"
   },
   {
    "duration": 300,
    "start_time": "2022-02-28T10:50:42.738Z"
   },
   {
    "duration": 7,
    "start_time": "2022-02-28T10:51:44.789Z"
   },
   {
    "duration": 9,
    "start_time": "2022-02-28T10:51:53.641Z"
   },
   {
    "duration": 16,
    "start_time": "2022-02-28T10:52:03.516Z"
   },
   {
    "duration": 2712,
    "start_time": "2022-02-28T10:52:26.901Z"
   },
   {
    "duration": 539,
    "start_time": "2022-02-28T10:52:50.363Z"
   },
   {
    "duration": 56,
    "start_time": "2022-02-28T10:52:50.904Z"
   },
   {
    "duration": 10,
    "start_time": "2022-02-28T10:52:50.962Z"
   },
   {
    "duration": 8,
    "start_time": "2022-02-28T10:52:50.973Z"
   },
   {
    "duration": 20,
    "start_time": "2022-02-28T10:52:50.982Z"
   },
   {
    "duration": 4,
    "start_time": "2022-02-28T10:52:51.003Z"
   },
   {
    "duration": 5,
    "start_time": "2022-02-28T10:52:51.009Z"
   },
   {
    "duration": 4,
    "start_time": "2022-02-28T10:52:51.016Z"
   },
   {
    "duration": 10,
    "start_time": "2022-02-28T10:52:51.021Z"
   },
   {
    "duration": 14,
    "start_time": "2022-02-28T10:52:51.033Z"
   },
   {
    "duration": 4,
    "start_time": "2022-02-28T10:52:51.049Z"
   },
   {
    "duration": 17,
    "start_time": "2022-02-28T10:52:51.055Z"
   },
   {
    "duration": 32,
    "start_time": "2022-02-28T10:52:51.073Z"
   },
   {
    "duration": 13,
    "start_time": "2022-02-28T10:52:51.107Z"
   },
   {
    "duration": 6,
    "start_time": "2022-02-28T10:52:51.122Z"
   },
   {
    "duration": 7,
    "start_time": "2022-02-28T10:52:51.130Z"
   },
   {
    "duration": 10,
    "start_time": "2022-02-28T10:52:51.138Z"
   },
   {
    "duration": 8,
    "start_time": "2022-02-28T10:52:51.149Z"
   },
   {
    "duration": 7,
    "start_time": "2022-02-28T10:52:51.158Z"
   },
   {
    "duration": 7,
    "start_time": "2022-02-28T10:52:51.167Z"
   },
   {
    "duration": 27,
    "start_time": "2022-02-28T10:52:51.175Z"
   },
   {
    "duration": 9,
    "start_time": "2022-02-28T10:52:51.203Z"
   },
   {
    "duration": 337,
    "start_time": "2022-02-28T10:53:21.015Z"
   },
   {
    "duration": 321,
    "start_time": "2022-02-28T10:53:40.525Z"
   },
   {
    "duration": 5803,
    "start_time": "2022-02-28T10:53:54.867Z"
   },
   {
    "duration": 8,
    "start_time": "2022-02-28T10:54:06.769Z"
   },
   {
    "duration": 362,
    "start_time": "2022-02-28T12:47:25.511Z"
   },
   {
    "duration": 334,
    "start_time": "2022-02-28T12:47:36.509Z"
   },
   {
    "duration": 93,
    "start_time": "2022-02-28T12:47:55.296Z"
   },
   {
    "duration": 281,
    "start_time": "2022-02-28T12:48:03.750Z"
   },
   {
    "duration": 6,
    "start_time": "2022-02-28T12:48:25.704Z"
   },
   {
    "duration": 4,
    "start_time": "2022-02-28T12:48:54.327Z"
   },
   {
    "duration": 95,
    "start_time": "2022-02-28T12:58:43.831Z"
   },
   {
    "duration": 6,
    "start_time": "2022-02-28T13:00:14.561Z"
   },
   {
    "duration": 6,
    "start_time": "2022-02-28T13:00:18.134Z"
   },
   {
    "duration": 21,
    "start_time": "2022-02-28T13:15:28.061Z"
   },
   {
    "duration": 106,
    "start_time": "2022-02-28T13:16:25.856Z"
   },
   {
    "duration": 10,
    "start_time": "2022-02-28T13:16:39.600Z"
   },
   {
    "duration": 30,
    "start_time": "2022-02-28T13:31:41.053Z"
   },
   {
    "duration": 112,
    "start_time": "2022-02-28T13:32:11.487Z"
   },
   {
    "duration": 18,
    "start_time": "2022-02-28T13:32:26.883Z"
   },
   {
    "duration": 445,
    "start_time": "2022-02-28T13:39:24.914Z"
   },
   {
    "duration": 5,
    "start_time": "2022-02-28T13:39:33.957Z"
   },
   {
    "duration": 6,
    "start_time": "2022-02-28T13:40:42.674Z"
   },
   {
    "duration": 1575,
    "start_time": "2022-02-28T15:35:40.987Z"
   },
   {
    "duration": 56,
    "start_time": "2022-02-28T15:35:42.564Z"
   },
   {
    "duration": 9,
    "start_time": "2022-02-28T15:35:42.622Z"
   },
   {
    "duration": 7,
    "start_time": "2022-02-28T15:35:42.633Z"
   },
   {
    "duration": 4,
    "start_time": "2022-02-28T15:35:42.642Z"
   },
   {
    "duration": 17,
    "start_time": "2022-02-28T15:35:42.647Z"
   },
   {
    "duration": 10,
    "start_time": "2022-02-28T15:35:42.665Z"
   },
   {
    "duration": 4,
    "start_time": "2022-02-28T15:35:42.677Z"
   },
   {
    "duration": 9,
    "start_time": "2022-02-28T15:35:42.683Z"
   },
   {
    "duration": 15,
    "start_time": "2022-02-28T15:35:42.693Z"
   },
   {
    "duration": 5,
    "start_time": "2022-02-28T15:35:42.710Z"
   },
   {
    "duration": 20,
    "start_time": "2022-02-28T15:35:42.716Z"
   },
   {
    "duration": 8,
    "start_time": "2022-02-28T15:35:42.738Z"
   },
   {
    "duration": 17,
    "start_time": "2022-02-28T15:35:42.748Z"
   },
   {
    "duration": 15,
    "start_time": "2022-02-28T15:35:42.767Z"
   },
   {
    "duration": 16,
    "start_time": "2022-02-28T15:35:42.783Z"
   },
   {
    "duration": 14,
    "start_time": "2022-02-28T15:35:42.800Z"
   },
   {
    "duration": 15,
    "start_time": "2022-02-28T15:35:42.815Z"
   },
   {
    "duration": 17,
    "start_time": "2022-02-28T15:35:42.832Z"
   },
   {
    "duration": 11,
    "start_time": "2022-02-28T15:35:42.851Z"
   },
   {
    "duration": 23,
    "start_time": "2022-02-28T15:36:35.011Z"
   },
   {
    "duration": 19,
    "start_time": "2022-02-28T15:36:51.076Z"
   },
   {
    "duration": 15,
    "start_time": "2022-02-28T15:37:45.283Z"
   },
   {
    "duration": 12,
    "start_time": "2022-02-28T15:38:09.507Z"
   },
   {
    "duration": 13,
    "start_time": "2022-02-28T15:38:29.000Z"
   },
   {
    "duration": 14,
    "start_time": "2022-02-28T15:41:22.465Z"
   },
   {
    "duration": 22,
    "start_time": "2022-02-28T15:41:42.467Z"
   },
   {
    "duration": 19,
    "start_time": "2022-02-28T15:45:57.018Z"
   },
   {
    "duration": 6,
    "start_time": "2022-02-28T15:47:52.341Z"
   },
   {
    "duration": 7758,
    "start_time": "2022-02-28T15:48:13.468Z"
   },
   {
    "duration": 5,
    "start_time": "2022-02-28T15:48:23.476Z"
   },
   {
    "duration": 6,
    "start_time": "2022-02-28T15:52:07.770Z"
   },
   {
    "duration": 321,
    "start_time": "2022-03-01T09:44:58.234Z"
   },
   {
    "duration": 738,
    "start_time": "2022-03-01T09:45:02.479Z"
   },
   {
    "duration": 70,
    "start_time": "2022-03-01T09:45:03.219Z"
   },
   {
    "duration": 14,
    "start_time": "2022-03-01T09:45:03.292Z"
   },
   {
    "duration": 32,
    "start_time": "2022-03-01T09:45:03.308Z"
   },
   {
    "duration": 13,
    "start_time": "2022-03-01T09:45:03.343Z"
   },
   {
    "duration": 27,
    "start_time": "2022-03-01T09:45:03.358Z"
   },
   {
    "duration": 13,
    "start_time": "2022-03-01T09:45:03.387Z"
   },
   {
    "duration": 16,
    "start_time": "2022-03-01T09:45:03.403Z"
   },
   {
    "duration": 21,
    "start_time": "2022-03-01T09:45:03.422Z"
   },
   {
    "duration": 20,
    "start_time": "2022-03-01T09:45:03.446Z"
   },
   {
    "duration": 32,
    "start_time": "2022-03-01T09:45:03.468Z"
   },
   {
    "duration": 19,
    "start_time": "2022-03-01T09:45:03.502Z"
   },
   {
    "duration": 14,
    "start_time": "2022-03-01T09:45:03.522Z"
   },
   {
    "duration": 30,
    "start_time": "2022-03-01T09:45:03.538Z"
   },
   {
    "duration": 26,
    "start_time": "2022-03-01T09:45:03.570Z"
   },
   {
    "duration": 19,
    "start_time": "2022-03-01T09:45:03.598Z"
   },
   {
    "duration": 27,
    "start_time": "2022-03-01T09:45:03.618Z"
   },
   {
    "duration": 20,
    "start_time": "2022-03-01T09:45:03.647Z"
   },
   {
    "duration": 21,
    "start_time": "2022-03-01T09:45:03.669Z"
   },
   {
    "duration": 32,
    "start_time": "2022-03-01T09:45:03.692Z"
   },
   {
    "duration": 23,
    "start_time": "2022-03-01T09:45:03.726Z"
   },
   {
    "duration": 14,
    "start_time": "2022-03-01T09:45:03.750Z"
   },
   {
    "duration": 23,
    "start_time": "2022-03-01T09:45:03.767Z"
   },
   {
    "duration": 16,
    "start_time": "2022-03-01T09:45:03.792Z"
   },
   {
    "duration": 38,
    "start_time": "2022-03-01T09:45:03.810Z"
   },
   {
    "duration": 22,
    "start_time": "2022-03-01T09:45:03.850Z"
   },
   {
    "duration": 26,
    "start_time": "2022-03-01T09:45:03.874Z"
   },
   {
    "duration": 33,
    "start_time": "2022-03-01T09:45:03.902Z"
   },
   {
    "duration": 7,
    "start_time": "2022-03-01T09:45:05.950Z"
   },
   {
    "duration": 10,
    "start_time": "2022-03-01T09:45:13.248Z"
   },
   {
    "duration": 7,
    "start_time": "2022-03-01T09:45:28.186Z"
   },
   {
    "duration": 10,
    "start_time": "2022-03-01T09:45:35.733Z"
   },
   {
    "duration": 5867,
    "start_time": "2022-03-01T09:46:30.793Z"
   },
   {
    "duration": 6026,
    "start_time": "2022-03-01T09:47:01.059Z"
   },
   {
    "duration": 9,
    "start_time": "2022-03-01T09:47:14.080Z"
   },
   {
    "duration": 7,
    "start_time": "2022-03-01T09:47:17.001Z"
   },
   {
    "duration": 6,
    "start_time": "2022-03-01T09:47:28.624Z"
   },
   {
    "duration": 5,
    "start_time": "2022-03-01T09:47:30.296Z"
   },
   {
    "duration": 9,
    "start_time": "2022-03-01T09:47:37.083Z"
   },
   {
    "duration": 7,
    "start_time": "2022-03-01T09:47:57.146Z"
   },
   {
    "duration": 12,
    "start_time": "2022-03-01T09:47:59.647Z"
   },
   {
    "duration": 6,
    "start_time": "2022-03-01T09:48:05.067Z"
   },
   {
    "duration": 15,
    "start_time": "2022-03-01T09:52:55.530Z"
   },
   {
    "duration": 818,
    "start_time": "2022-03-01T09:59:51.644Z"
   },
   {
    "duration": 73,
    "start_time": "2022-03-01T10:01:37.736Z"
   },
   {
    "duration": 63,
    "start_time": "2022-03-01T10:01:43.289Z"
   },
   {
    "duration": 1226,
    "start_time": "2022-03-01T10:01:48.569Z"
   },
   {
    "duration": 82,
    "start_time": "2022-03-01T10:02:32.718Z"
   },
   {
    "duration": 1364,
    "start_time": "2022-03-01T10:02:38.673Z"
   },
   {
    "duration": 1230,
    "start_time": "2022-03-01T10:10:13.461Z"
   },
   {
    "duration": 17,
    "start_time": "2022-03-01T10:10:37.923Z"
   },
   {
    "duration": 4,
    "start_time": "2022-03-01T10:10:57.010Z"
   },
   {
    "duration": 57,
    "start_time": "2022-03-01T10:10:57.016Z"
   },
   {
    "duration": 13,
    "start_time": "2022-03-01T10:10:57.075Z"
   },
   {
    "duration": 9,
    "start_time": "2022-03-01T10:10:57.090Z"
   },
   {
    "duration": 6,
    "start_time": "2022-03-01T10:10:57.100Z"
   },
   {
    "duration": 6,
    "start_time": "2022-03-01T10:10:57.138Z"
   },
   {
    "duration": 6,
    "start_time": "2022-03-01T10:10:57.146Z"
   },
   {
    "duration": 5,
    "start_time": "2022-03-01T10:10:57.155Z"
   },
   {
    "duration": 11,
    "start_time": "2022-03-01T10:10:57.162Z"
   },
   {
    "duration": 15,
    "start_time": "2022-03-01T10:10:57.175Z"
   },
   {
    "duration": 48,
    "start_time": "2022-03-01T10:10:57.192Z"
   },
   {
    "duration": 15,
    "start_time": "2022-03-01T10:10:57.242Z"
   },
   {
    "duration": 10,
    "start_time": "2022-03-01T10:10:57.260Z"
   },
   {
    "duration": 20,
    "start_time": "2022-03-01T10:10:57.272Z"
   },
   {
    "duration": 9,
    "start_time": "2022-03-01T10:10:57.294Z"
   },
   {
    "duration": 37,
    "start_time": "2022-03-01T10:10:57.305Z"
   },
   {
    "duration": 9,
    "start_time": "2022-03-01T10:10:57.344Z"
   },
   {
    "duration": 10,
    "start_time": "2022-03-01T10:10:57.355Z"
   },
   {
    "duration": 7,
    "start_time": "2022-03-01T10:10:57.368Z"
   },
   {
    "duration": 7,
    "start_time": "2022-03-01T10:10:57.376Z"
   },
   {
    "duration": 26,
    "start_time": "2022-03-01T10:10:57.385Z"
   },
   {
    "duration": 28,
    "start_time": "2022-03-01T10:10:57.413Z"
   },
   {
    "duration": 22,
    "start_time": "2022-03-01T10:10:57.444Z"
   },
   {
    "duration": 5,
    "start_time": "2022-03-01T10:10:57.467Z"
   },
   {
    "duration": 15,
    "start_time": "2022-03-01T10:10:57.473Z"
   },
   {
    "duration": 6,
    "start_time": "2022-03-01T10:10:57.490Z"
   },
   {
    "duration": 9,
    "start_time": "2022-03-01T10:10:57.498Z"
   },
   {
    "duration": 47,
    "start_time": "2022-03-01T10:10:57.508Z"
   },
   {
    "duration": 10,
    "start_time": "2022-03-01T10:11:16.090Z"
   },
   {
    "duration": 3,
    "start_time": "2022-03-01T10:12:11.246Z"
   },
   {
    "duration": 64,
    "start_time": "2022-03-01T10:12:11.251Z"
   },
   {
    "duration": 24,
    "start_time": "2022-03-01T10:12:11.317Z"
   },
   {
    "duration": 10,
    "start_time": "2022-03-01T10:12:11.344Z"
   },
   {
    "duration": 12,
    "start_time": "2022-03-01T10:12:11.356Z"
   },
   {
    "duration": 9,
    "start_time": "2022-03-01T10:12:11.370Z"
   },
   {
    "duration": 7,
    "start_time": "2022-03-01T10:12:11.382Z"
   },
   {
    "duration": 7,
    "start_time": "2022-03-01T10:12:11.391Z"
   },
   {
    "duration": 38,
    "start_time": "2022-03-01T10:12:11.400Z"
   },
   {
    "duration": 17,
    "start_time": "2022-03-01T10:12:11.439Z"
   },
   {
    "duration": 6,
    "start_time": "2022-03-01T10:12:11.459Z"
   },
   {
    "duration": 18,
    "start_time": "2022-03-01T10:12:11.468Z"
   },
   {
    "duration": 12,
    "start_time": "2022-03-01T10:12:11.488Z"
   },
   {
    "duration": 41,
    "start_time": "2022-03-01T10:12:11.502Z"
   },
   {
    "duration": 9,
    "start_time": "2022-03-01T10:12:11.545Z"
   },
   {
    "duration": 7,
    "start_time": "2022-03-01T10:12:11.556Z"
   },
   {
    "duration": 9,
    "start_time": "2022-03-01T10:12:11.564Z"
   },
   {
    "duration": 6,
    "start_time": "2022-03-01T10:12:11.575Z"
   },
   {
    "duration": 5,
    "start_time": "2022-03-01T10:12:11.584Z"
   },
   {
    "duration": 6,
    "start_time": "2022-03-01T10:12:11.591Z"
   },
   {
    "duration": 51,
    "start_time": "2022-03-01T10:12:11.599Z"
   },
   {
    "duration": 6,
    "start_time": "2022-03-01T10:12:11.652Z"
   },
   {
    "duration": 20,
    "start_time": "2022-03-01T10:12:11.659Z"
   },
   {
    "duration": 4,
    "start_time": "2022-03-01T10:12:11.681Z"
   },
   {
    "duration": 12,
    "start_time": "2022-03-01T10:12:11.687Z"
   },
   {
    "duration": 40,
    "start_time": "2022-03-01T10:12:11.701Z"
   },
   {
    "duration": 11,
    "start_time": "2022-03-01T10:12:11.742Z"
   },
   {
    "duration": 22,
    "start_time": "2022-03-01T10:12:11.755Z"
   },
   {
    "duration": 16,
    "start_time": "2022-03-01T10:12:14.376Z"
   },
   {
    "duration": 6,
    "start_time": "2022-03-01T10:12:22.143Z"
   },
   {
    "duration": 11,
    "start_time": "2022-03-01T10:12:37.914Z"
   },
   {
    "duration": 193,
    "start_time": "2022-03-01T10:13:15.736Z"
   },
   {
    "duration": 11,
    "start_time": "2022-03-01T10:13:20.496Z"
   },
   {
    "duration": 16,
    "start_time": "2022-03-01T10:13:38.700Z"
   },
   {
    "duration": 7,
    "start_time": "2022-03-01T10:13:50.265Z"
   },
   {
    "duration": 9,
    "start_time": "2022-03-01T10:16:07.714Z"
   },
   {
    "duration": 3,
    "start_time": "2022-03-01T10:16:12.908Z"
   },
   {
    "duration": 68,
    "start_time": "2022-03-01T10:16:12.913Z"
   },
   {
    "duration": 11,
    "start_time": "2022-03-01T10:16:12.984Z"
   },
   {
    "duration": 10,
    "start_time": "2022-03-01T10:16:12.997Z"
   },
   {
    "duration": 36,
    "start_time": "2022-03-01T10:16:13.009Z"
   },
   {
    "duration": 6,
    "start_time": "2022-03-01T10:16:13.047Z"
   },
   {
    "duration": 5,
    "start_time": "2022-03-01T10:16:13.055Z"
   },
   {
    "duration": 6,
    "start_time": "2022-03-01T10:16:13.062Z"
   },
   {
    "duration": 16,
    "start_time": "2022-03-01T10:16:13.070Z"
   },
   {
    "duration": 13,
    "start_time": "2022-03-01T10:16:13.088Z"
   },
   {
    "duration": 37,
    "start_time": "2022-03-01T10:16:13.103Z"
   },
   {
    "duration": 18,
    "start_time": "2022-03-01T10:16:13.142Z"
   },
   {
    "duration": 11,
    "start_time": "2022-03-01T10:16:13.162Z"
   },
   {
    "duration": 24,
    "start_time": "2022-03-01T10:16:13.175Z"
   },
   {
    "duration": 19,
    "start_time": "2022-03-01T10:16:13.201Z"
   },
   {
    "duration": 17,
    "start_time": "2022-03-01T10:16:13.222Z"
   },
   {
    "duration": 14,
    "start_time": "2022-03-01T10:16:13.241Z"
   },
   {
    "duration": 5,
    "start_time": "2022-03-01T10:16:13.257Z"
   },
   {
    "duration": 6,
    "start_time": "2022-03-01T10:16:13.264Z"
   },
   {
    "duration": 9,
    "start_time": "2022-03-01T10:16:13.272Z"
   },
   {
    "duration": 19,
    "start_time": "2022-03-01T10:16:13.282Z"
   },
   {
    "duration": 36,
    "start_time": "2022-03-01T10:16:13.303Z"
   },
   {
    "duration": 16,
    "start_time": "2022-03-01T10:16:13.342Z"
   },
   {
    "duration": 4,
    "start_time": "2022-03-01T10:16:13.360Z"
   },
   {
    "duration": 13,
    "start_time": "2022-03-01T10:16:13.366Z"
   },
   {
    "duration": 8,
    "start_time": "2022-03-01T10:16:13.381Z"
   },
   {
    "duration": 6,
    "start_time": "2022-03-01T10:16:13.391Z"
   },
   {
    "duration": 20,
    "start_time": "2022-03-01T10:16:13.437Z"
   },
   {
    "duration": 19,
    "start_time": "2022-03-01T10:16:58.426Z"
   },
   {
    "duration": 12,
    "start_time": "2022-03-01T10:17:00.927Z"
   },
   {
    "duration": 9,
    "start_time": "2022-03-01T10:17:10.039Z"
   },
   {
    "duration": 3,
    "start_time": "2022-03-01T10:17:13.796Z"
   },
   {
    "duration": 56,
    "start_time": "2022-03-01T10:17:13.802Z"
   },
   {
    "duration": 10,
    "start_time": "2022-03-01T10:17:13.860Z"
   },
   {
    "duration": 10,
    "start_time": "2022-03-01T10:17:13.872Z"
   },
   {
    "duration": 5,
    "start_time": "2022-03-01T10:17:13.884Z"
   },
   {
    "duration": 7,
    "start_time": "2022-03-01T10:17:13.890Z"
   },
   {
    "duration": 43,
    "start_time": "2022-03-01T10:17:13.899Z"
   },
   {
    "duration": 12,
    "start_time": "2022-03-01T10:17:13.945Z"
   },
   {
    "duration": 14,
    "start_time": "2022-03-01T10:17:13.959Z"
   },
   {
    "duration": 20,
    "start_time": "2022-03-01T10:17:13.975Z"
   },
   {
    "duration": 6,
    "start_time": "2022-03-01T10:17:13.997Z"
   },
   {
    "duration": 43,
    "start_time": "2022-03-01T10:17:14.005Z"
   },
   {
    "duration": 5,
    "start_time": "2022-03-01T10:17:14.050Z"
   },
   {
    "duration": 22,
    "start_time": "2022-03-01T10:17:14.057Z"
   },
   {
    "duration": 6,
    "start_time": "2022-03-01T10:17:14.080Z"
   },
   {
    "duration": 10,
    "start_time": "2022-03-01T10:17:14.088Z"
   },
   {
    "duration": 13,
    "start_time": "2022-03-01T10:17:14.099Z"
   },
   {
    "duration": 35,
    "start_time": "2022-03-01T10:17:14.114Z"
   },
   {
    "duration": 16,
    "start_time": "2022-03-01T10:17:14.151Z"
   },
   {
    "duration": 7,
    "start_time": "2022-03-01T10:17:14.169Z"
   },
   {
    "duration": 21,
    "start_time": "2022-03-01T10:17:14.177Z"
   },
   {
    "duration": 6,
    "start_time": "2022-03-01T10:17:14.200Z"
   },
   {
    "duration": 31,
    "start_time": "2022-03-01T10:17:14.208Z"
   },
   {
    "duration": 5,
    "start_time": "2022-03-01T10:17:14.242Z"
   },
   {
    "duration": 20,
    "start_time": "2022-03-01T10:17:14.249Z"
   },
   {
    "duration": 9,
    "start_time": "2022-03-01T10:17:14.271Z"
   },
   {
    "duration": 10,
    "start_time": "2022-03-01T10:17:14.282Z"
   },
   {
    "duration": 45,
    "start_time": "2022-03-01T10:17:14.294Z"
   },
   {
    "duration": 11,
    "start_time": "2022-03-01T10:17:16.210Z"
   },
   {
    "duration": 7,
    "start_time": "2022-03-01T10:28:14.895Z"
   },
   {
    "duration": 10,
    "start_time": "2022-03-01T10:28:37.381Z"
   },
   {
    "duration": 10,
    "start_time": "2022-03-01T10:28:38.890Z"
   },
   {
    "duration": 13,
    "start_time": "2022-03-01T10:28:54.172Z"
   },
   {
    "duration": 6,
    "start_time": "2022-03-01T10:28:55.931Z"
   },
   {
    "duration": 3,
    "start_time": "2022-03-01T10:29:21.493Z"
   },
   {
    "duration": 64,
    "start_time": "2022-03-01T10:29:21.498Z"
   },
   {
    "duration": 10,
    "start_time": "2022-03-01T10:29:21.565Z"
   },
   {
    "duration": 25,
    "start_time": "2022-03-01T10:29:21.577Z"
   },
   {
    "duration": 11,
    "start_time": "2022-03-01T10:29:21.604Z"
   },
   {
    "duration": 18,
    "start_time": "2022-03-01T10:29:21.617Z"
   },
   {
    "duration": 15,
    "start_time": "2022-03-01T10:29:21.638Z"
   },
   {
    "duration": 9,
    "start_time": "2022-03-01T10:29:21.655Z"
   },
   {
    "duration": 22,
    "start_time": "2022-03-01T10:29:21.666Z"
   },
   {
    "duration": 28,
    "start_time": "2022-03-01T10:29:21.689Z"
   },
   {
    "duration": 5,
    "start_time": "2022-03-01T10:29:21.719Z"
   },
   {
    "duration": 15,
    "start_time": "2022-03-01T10:29:21.726Z"
   },
   {
    "duration": 7,
    "start_time": "2022-03-01T10:29:21.743Z"
   },
   {
    "duration": 18,
    "start_time": "2022-03-01T10:29:21.752Z"
   },
   {
    "duration": 6,
    "start_time": "2022-03-01T10:29:21.772Z"
   },
   {
    "duration": 6,
    "start_time": "2022-03-01T10:29:21.780Z"
   },
   {
    "duration": 7,
    "start_time": "2022-03-01T10:29:21.787Z"
   },
   {
    "duration": 6,
    "start_time": "2022-03-01T10:29:21.796Z"
   },
   {
    "duration": 5,
    "start_time": "2022-03-01T10:29:21.805Z"
   },
   {
    "duration": 3,
    "start_time": "2022-03-01T10:29:21.839Z"
   },
   {
    "duration": 19,
    "start_time": "2022-03-01T10:29:21.844Z"
   },
   {
    "duration": 6,
    "start_time": "2022-03-01T10:29:21.865Z"
   },
   {
    "duration": 16,
    "start_time": "2022-03-01T10:29:21.873Z"
   },
   {
    "duration": 7,
    "start_time": "2022-03-01T10:29:21.891Z"
   },
   {
    "duration": 41,
    "start_time": "2022-03-01T10:29:21.900Z"
   },
   {
    "duration": 12,
    "start_time": "2022-03-01T10:29:21.943Z"
   },
   {
    "duration": 6,
    "start_time": "2022-03-01T10:29:21.957Z"
   },
   {
    "duration": 9,
    "start_time": "2022-03-01T10:29:21.965Z"
   },
   {
    "duration": 19,
    "start_time": "2022-03-01T10:29:21.976Z"
   },
   {
    "duration": 43,
    "start_time": "2022-03-01T10:29:21.997Z"
   },
   {
    "duration": 11,
    "start_time": "2022-03-01T10:29:23.905Z"
   },
   {
    "duration": 11,
    "start_time": "2022-03-01T10:29:25.685Z"
   },
   {
    "duration": 11,
    "start_time": "2022-03-01T10:29:26.472Z"
   },
   {
    "duration": 9,
    "start_time": "2022-03-01T12:18:48.661Z"
   },
   {
    "duration": 7,
    "start_time": "2022-03-01T12:19:05.190Z"
   },
   {
    "duration": 14,
    "start_time": "2022-03-01T12:19:06.926Z"
   },
   {
    "duration": 20,
    "start_time": "2022-03-01T12:19:09.026Z"
   },
   {
    "duration": 4,
    "start_time": "2022-03-01T12:21:28.064Z"
   },
   {
    "duration": 25,
    "start_time": "2022-03-01T12:23:03.287Z"
   },
   {
    "duration": 2,
    "start_time": "2022-03-01T12:23:12.982Z"
   },
   {
    "duration": 65,
    "start_time": "2022-03-01T12:23:12.986Z"
   },
   {
    "duration": 10,
    "start_time": "2022-03-01T12:23:13.054Z"
   },
   {
    "duration": 10,
    "start_time": "2022-03-01T12:23:13.065Z"
   },
   {
    "duration": 5,
    "start_time": "2022-03-01T12:23:13.076Z"
   },
   {
    "duration": 7,
    "start_time": "2022-03-01T12:23:13.083Z"
   },
   {
    "duration": 4,
    "start_time": "2022-03-01T12:23:13.092Z"
   },
   {
    "duration": 6,
    "start_time": "2022-03-01T12:23:13.097Z"
   },
   {
    "duration": 42,
    "start_time": "2022-03-01T12:23:13.105Z"
   },
   {
    "duration": 14,
    "start_time": "2022-03-01T12:23:13.149Z"
   },
   {
    "duration": 6,
    "start_time": "2022-03-01T12:23:13.165Z"
   },
   {
    "duration": 15,
    "start_time": "2022-03-01T12:23:13.173Z"
   },
   {
    "duration": 5,
    "start_time": "2022-03-01T12:23:13.190Z"
   },
   {
    "duration": 51,
    "start_time": "2022-03-01T12:23:13.196Z"
   },
   {
    "duration": 6,
    "start_time": "2022-03-01T12:23:13.248Z"
   },
   {
    "duration": 6,
    "start_time": "2022-03-01T12:23:13.256Z"
   },
   {
    "duration": 8,
    "start_time": "2022-03-01T12:23:13.264Z"
   },
   {
    "duration": 10,
    "start_time": "2022-03-01T12:23:13.273Z"
   },
   {
    "duration": 4,
    "start_time": "2022-03-01T12:23:13.287Z"
   },
   {
    "duration": 5,
    "start_time": "2022-03-01T12:23:13.293Z"
   },
   {
    "duration": 41,
    "start_time": "2022-03-01T12:23:13.299Z"
   },
   {
    "duration": 6,
    "start_time": "2022-03-01T12:23:13.342Z"
   },
   {
    "duration": 17,
    "start_time": "2022-03-01T12:23:13.350Z"
   },
   {
    "duration": 5,
    "start_time": "2022-03-01T12:23:13.369Z"
   },
   {
    "duration": 7,
    "start_time": "2022-03-01T12:23:13.376Z"
   },
   {
    "duration": 22,
    "start_time": "2022-03-01T12:23:13.385Z"
   },
   {
    "duration": 29,
    "start_time": "2022-03-01T12:23:13.409Z"
   },
   {
    "duration": 6,
    "start_time": "2022-03-01T12:23:13.439Z"
   },
   {
    "duration": 26,
    "start_time": "2022-03-01T12:23:13.447Z"
   },
   {
    "duration": 9,
    "start_time": "2022-03-01T12:23:13.475Z"
   },
   {
    "duration": 3,
    "start_time": "2022-03-01T12:23:13.486Z"
   },
   {
    "duration": 8,
    "start_time": "2022-03-01T12:24:05.394Z"
   },
   {
    "duration": 16,
    "start_time": "2022-03-01T12:24:56.361Z"
   },
   {
    "duration": 16,
    "start_time": "2022-03-01T12:25:58.448Z"
   },
   {
    "duration": 204,
    "start_time": "2022-03-01T12:26:10.259Z"
   },
   {
    "duration": 5,
    "start_time": "2022-03-01T12:26:29.008Z"
   },
   {
    "duration": 5,
    "start_time": "2022-03-01T12:27:09.130Z"
   },
   {
    "duration": 5,
    "start_time": "2022-03-01T12:27:11.407Z"
   },
   {
    "duration": 2,
    "start_time": "2022-03-01T12:27:18.437Z"
   },
   {
    "duration": 67,
    "start_time": "2022-03-01T12:27:18.441Z"
   },
   {
    "duration": 9,
    "start_time": "2022-03-01T12:27:18.510Z"
   },
   {
    "duration": 22,
    "start_time": "2022-03-01T12:27:18.521Z"
   },
   {
    "duration": 5,
    "start_time": "2022-03-01T12:27:18.546Z"
   },
   {
    "duration": 5,
    "start_time": "2022-03-01T12:27:18.553Z"
   },
   {
    "duration": 5,
    "start_time": "2022-03-01T12:27:18.560Z"
   },
   {
    "duration": 5,
    "start_time": "2022-03-01T12:27:18.568Z"
   },
   {
    "duration": 10,
    "start_time": "2022-03-01T12:27:18.575Z"
   },
   {
    "duration": 52,
    "start_time": "2022-03-01T12:27:18.586Z"
   },
   {
    "duration": 7,
    "start_time": "2022-03-01T12:27:18.639Z"
   },
   {
    "duration": 12,
    "start_time": "2022-03-01T12:27:18.648Z"
   },
   {
    "duration": 6,
    "start_time": "2022-03-01T12:27:18.662Z"
   },
   {
    "duration": 15,
    "start_time": "2022-03-01T12:27:18.670Z"
   },
   {
    "duration": 7,
    "start_time": "2022-03-01T12:27:18.687Z"
   },
   {
    "duration": 6,
    "start_time": "2022-03-01T12:27:18.695Z"
   },
   {
    "duration": 39,
    "start_time": "2022-03-01T12:27:18.703Z"
   },
   {
    "duration": 6,
    "start_time": "2022-03-01T12:27:18.744Z"
   },
   {
    "duration": 6,
    "start_time": "2022-03-01T12:27:18.752Z"
   },
   {
    "duration": 5,
    "start_time": "2022-03-01T12:27:18.760Z"
   },
   {
    "duration": 18,
    "start_time": "2022-03-01T12:27:18.767Z"
   },
   {
    "duration": 7,
    "start_time": "2022-03-01T12:27:18.787Z"
   },
   {
    "duration": 46,
    "start_time": "2022-03-01T12:27:18.798Z"
   },
   {
    "duration": 6,
    "start_time": "2022-03-01T12:27:18.847Z"
   },
   {
    "duration": 4,
    "start_time": "2022-03-01T12:27:18.854Z"
   },
   {
    "duration": 10,
    "start_time": "2022-03-01T12:27:18.860Z"
   },
   {
    "duration": 7,
    "start_time": "2022-03-01T12:27:18.872Z"
   },
   {
    "duration": 5,
    "start_time": "2022-03-01T12:27:18.881Z"
   },
   {
    "duration": 61,
    "start_time": "2022-03-01T12:27:18.888Z"
   },
   {
    "duration": 10,
    "start_time": "2022-03-01T12:27:18.951Z"
   },
   {
    "duration": 3,
    "start_time": "2022-03-01T12:27:18.963Z"
   },
   {
    "duration": 8,
    "start_time": "2022-03-01T12:27:18.967Z"
   },
   {
    "duration": 14,
    "start_time": "2022-03-01T12:27:18.977Z"
   },
   {
    "duration": 50,
    "start_time": "2022-03-01T12:27:18.992Z"
   },
   {
    "duration": 4,
    "start_time": "2022-03-01T12:27:19.044Z"
   },
   {
    "duration": 5,
    "start_time": "2022-03-01T12:27:22.231Z"
   },
   {
    "duration": 26,
    "start_time": "2022-03-01T12:27:42.193Z"
   },
   {
    "duration": 16,
    "start_time": "2022-03-01T12:27:43.086Z"
   },
   {
    "duration": 28,
    "start_time": "2022-03-01T12:27:47.810Z"
   },
   {
    "duration": 170,
    "start_time": "2022-03-01T12:29:56.455Z"
   },
   {
    "duration": 192,
    "start_time": "2022-03-01T12:30:57.155Z"
   },
   {
    "duration": 165,
    "start_time": "2022-03-01T12:31:42.016Z"
   },
   {
    "duration": 162,
    "start_time": "2022-03-01T12:31:59.269Z"
   },
   {
    "duration": 5,
    "start_time": "2022-03-01T12:32:07.238Z"
   },
   {
    "duration": 182,
    "start_time": "2022-03-01T12:32:26.086Z"
   },
   {
    "duration": 5,
    "start_time": "2022-03-01T12:32:31.615Z"
   },
   {
    "duration": 190,
    "start_time": "2022-03-01T12:32:39.469Z"
   },
   {
    "duration": 166,
    "start_time": "2022-03-01T12:32:44.559Z"
   },
   {
    "duration": 5,
    "start_time": "2022-03-01T12:33:05.390Z"
   },
   {
    "duration": 174,
    "start_time": "2022-03-01T12:33:19.745Z"
   },
   {
    "duration": 4,
    "start_time": "2022-03-01T12:33:58.729Z"
   },
   {
    "duration": 6,
    "start_time": "2022-03-01T12:34:12.287Z"
   },
   {
    "duration": 522,
    "start_time": "2022-03-01T12:34:54.385Z"
   },
   {
    "duration": 59,
    "start_time": "2022-03-01T12:34:54.908Z"
   },
   {
    "duration": 10,
    "start_time": "2022-03-01T12:34:54.969Z"
   },
   {
    "duration": 11,
    "start_time": "2022-03-01T12:34:54.981Z"
   },
   {
    "duration": 5,
    "start_time": "2022-03-01T12:34:54.993Z"
   },
   {
    "duration": 13,
    "start_time": "2022-03-01T12:34:55.000Z"
   },
   {
    "duration": 23,
    "start_time": "2022-03-01T12:34:55.015Z"
   },
   {
    "duration": 5,
    "start_time": "2022-03-01T12:34:55.040Z"
   },
   {
    "duration": 15,
    "start_time": "2022-03-01T12:34:55.047Z"
   },
   {
    "duration": 21,
    "start_time": "2022-03-01T12:34:55.063Z"
   },
   {
    "duration": 6,
    "start_time": "2022-03-01T12:34:55.085Z"
   },
   {
    "duration": 17,
    "start_time": "2022-03-01T12:34:55.092Z"
   },
   {
    "duration": 29,
    "start_time": "2022-03-01T12:34:55.111Z"
   },
   {
    "duration": 16,
    "start_time": "2022-03-01T12:34:55.141Z"
   },
   {
    "duration": 9,
    "start_time": "2022-03-01T12:34:55.158Z"
   },
   {
    "duration": 11,
    "start_time": "2022-03-01T12:34:55.168Z"
   },
   {
    "duration": 13,
    "start_time": "2022-03-01T12:34:55.181Z"
   },
   {
    "duration": 9,
    "start_time": "2022-03-01T12:34:55.196Z"
   },
   {
    "duration": 7,
    "start_time": "2022-03-01T12:34:55.207Z"
   },
   {
    "duration": 5,
    "start_time": "2022-03-01T12:34:55.216Z"
   },
   {
    "duration": 27,
    "start_time": "2022-03-01T12:34:55.222Z"
   },
   {
    "duration": 6,
    "start_time": "2022-03-01T12:34:55.251Z"
   },
   {
    "duration": 18,
    "start_time": "2022-03-01T12:34:55.259Z"
   },
   {
    "duration": 5,
    "start_time": "2022-03-01T12:34:55.279Z"
   },
   {
    "duration": 5,
    "start_time": "2022-03-01T12:34:55.286Z"
   },
   {
    "duration": 14,
    "start_time": "2022-03-01T12:34:55.293Z"
   },
   {
    "duration": 34,
    "start_time": "2022-03-01T12:34:55.308Z"
   },
   {
    "duration": 6,
    "start_time": "2022-03-01T12:34:55.344Z"
   },
   {
    "duration": 19,
    "start_time": "2022-03-01T12:34:55.351Z"
   },
   {
    "duration": 9,
    "start_time": "2022-03-01T12:34:55.372Z"
   },
   {
    "duration": 11,
    "start_time": "2022-03-01T12:34:55.382Z"
   },
   {
    "duration": 11,
    "start_time": "2022-03-01T12:34:55.395Z"
   },
   {
    "duration": 37,
    "start_time": "2022-03-01T12:34:55.408Z"
   },
   {
    "duration": 16,
    "start_time": "2022-03-01T12:34:55.447Z"
   },
   {
    "duration": 5,
    "start_time": "2022-03-01T12:34:55.465Z"
   },
   {
    "duration": 7,
    "start_time": "2022-03-01T12:34:55.472Z"
   },
   {
    "duration": 24,
    "start_time": "2022-03-01T12:34:55.480Z"
   },
   {
    "duration": 40,
    "start_time": "2022-03-01T12:34:55.506Z"
   },
   {
    "duration": 26,
    "start_time": "2022-03-01T12:34:55.547Z"
   },
   {
    "duration": 6,
    "start_time": "2022-03-01T12:34:58.187Z"
   },
   {
    "duration": 6,
    "start_time": "2022-03-01T12:35:13.054Z"
   },
   {
    "duration": 2,
    "start_time": "2022-03-01T12:35:18.426Z"
   },
   {
    "duration": 54,
    "start_time": "2022-03-01T12:35:18.430Z"
   },
   {
    "duration": 9,
    "start_time": "2022-03-01T12:35:18.486Z"
   },
   {
    "duration": 8,
    "start_time": "2022-03-01T12:35:18.497Z"
   },
   {
    "duration": 5,
    "start_time": "2022-03-01T12:35:18.507Z"
   },
   {
    "duration": 6,
    "start_time": "2022-03-01T12:35:18.537Z"
   },
   {
    "duration": 5,
    "start_time": "2022-03-01T12:35:18.545Z"
   },
   {
    "duration": 7,
    "start_time": "2022-03-01T12:35:18.551Z"
   },
   {
    "duration": 10,
    "start_time": "2022-03-01T12:35:18.559Z"
   },
   {
    "duration": 12,
    "start_time": "2022-03-01T12:35:18.571Z"
   },
   {
    "duration": 5,
    "start_time": "2022-03-01T12:35:18.585Z"
   },
   {
    "duration": 52,
    "start_time": "2022-03-01T12:35:18.591Z"
   },
   {
    "duration": 6,
    "start_time": "2022-03-01T12:35:18.645Z"
   },
   {
    "duration": 13,
    "start_time": "2022-03-01T12:35:18.653Z"
   },
   {
    "duration": 6,
    "start_time": "2022-03-01T12:35:18.667Z"
   },
   {
    "duration": 5,
    "start_time": "2022-03-01T12:35:18.674Z"
   },
   {
    "duration": 6,
    "start_time": "2022-03-01T12:35:18.681Z"
   },
   {
    "duration": 5,
    "start_time": "2022-03-01T12:35:18.688Z"
   },
   {
    "duration": 4,
    "start_time": "2022-03-01T12:35:18.695Z"
   },
   {
    "duration": 6,
    "start_time": "2022-03-01T12:35:20.604Z"
   },
   {
    "duration": 2,
    "start_time": "2022-03-01T12:35:41.048Z"
   },
   {
    "duration": 56,
    "start_time": "2022-03-01T12:35:41.052Z"
   },
   {
    "duration": 28,
    "start_time": "2022-03-01T12:35:41.110Z"
   },
   {
    "duration": 8,
    "start_time": "2022-03-01T12:35:41.141Z"
   },
   {
    "duration": 9,
    "start_time": "2022-03-01T12:35:41.150Z"
   },
   {
    "duration": 5,
    "start_time": "2022-03-01T12:35:41.160Z"
   },
   {
    "duration": 6,
    "start_time": "2022-03-01T12:35:41.168Z"
   },
   {
    "duration": 19,
    "start_time": "2022-03-01T12:35:41.176Z"
   },
   {
    "duration": 16,
    "start_time": "2022-03-01T12:35:41.197Z"
   },
   {
    "duration": 23,
    "start_time": "2022-03-01T12:35:41.215Z"
   },
   {
    "duration": 5,
    "start_time": "2022-03-01T12:35:41.240Z"
   },
   {
    "duration": 14,
    "start_time": "2022-03-01T12:35:41.247Z"
   },
   {
    "duration": 7,
    "start_time": "2022-03-01T12:35:41.263Z"
   },
   {
    "duration": 14,
    "start_time": "2022-03-01T12:35:41.272Z"
   },
   {
    "duration": 6,
    "start_time": "2022-03-01T12:35:41.288Z"
   },
   {
    "duration": 6,
    "start_time": "2022-03-01T12:35:41.295Z"
   },
   {
    "duration": 37,
    "start_time": "2022-03-01T12:35:41.303Z"
   },
   {
    "duration": 4,
    "start_time": "2022-03-01T12:35:41.342Z"
   },
   {
    "duration": 6,
    "start_time": "2022-03-01T12:35:41.349Z"
   },
   {
    "duration": 5,
    "start_time": "2022-03-01T12:35:41.357Z"
   },
   {
    "duration": 17,
    "start_time": "2022-03-01T12:35:41.363Z"
   },
   {
    "duration": 5,
    "start_time": "2022-03-01T12:35:41.382Z"
   },
   {
    "duration": 15,
    "start_time": "2022-03-01T12:35:41.388Z"
   },
   {
    "duration": 35,
    "start_time": "2022-03-01T12:35:41.404Z"
   },
   {
    "duration": 8,
    "start_time": "2022-03-01T12:35:41.440Z"
   },
   {
    "duration": 13,
    "start_time": "2022-03-01T12:35:41.449Z"
   },
   {
    "duration": 9,
    "start_time": "2022-03-01T12:35:41.464Z"
   },
   {
    "duration": 7,
    "start_time": "2022-03-01T12:35:41.474Z"
   },
   {
    "duration": 20,
    "start_time": "2022-03-01T12:35:41.483Z"
   },
   {
    "duration": 41,
    "start_time": "2022-03-01T12:35:41.505Z"
   },
   {
    "duration": 3,
    "start_time": "2022-03-01T12:35:41.547Z"
   },
   {
    "duration": 8,
    "start_time": "2022-03-01T12:35:41.552Z"
   },
   {
    "duration": 14,
    "start_time": "2022-03-01T12:35:41.562Z"
   },
   {
    "duration": 18,
    "start_time": "2022-03-01T12:35:41.578Z"
   },
   {
    "duration": 6,
    "start_time": "2022-03-01T12:35:44.014Z"
   },
   {
    "duration": 6,
    "start_time": "2022-03-01T12:36:10.481Z"
   },
   {
    "duration": 3,
    "start_time": "2022-03-01T12:36:13.480Z"
   },
   {
    "duration": 59,
    "start_time": "2022-03-01T12:36:13.484Z"
   },
   {
    "duration": 10,
    "start_time": "2022-03-01T12:36:13.544Z"
   },
   {
    "duration": 12,
    "start_time": "2022-03-01T12:36:13.556Z"
   },
   {
    "duration": 6,
    "start_time": "2022-03-01T12:36:13.569Z"
   },
   {
    "duration": 5,
    "start_time": "2022-03-01T12:36:13.577Z"
   },
   {
    "duration": 6,
    "start_time": "2022-03-01T12:36:13.584Z"
   },
   {
    "duration": 5,
    "start_time": "2022-03-01T12:36:13.592Z"
   },
   {
    "duration": 10,
    "start_time": "2022-03-01T12:36:13.599Z"
   },
   {
    "duration": 38,
    "start_time": "2022-03-01T12:36:13.611Z"
   },
   {
    "duration": 4,
    "start_time": "2022-03-01T12:36:13.651Z"
   },
   {
    "duration": 15,
    "start_time": "2022-03-01T12:36:13.657Z"
   },
   {
    "duration": 12,
    "start_time": "2022-03-01T12:36:13.674Z"
   },
   {
    "duration": 14,
    "start_time": "2022-03-01T12:36:13.688Z"
   },
   {
    "duration": 5,
    "start_time": "2022-03-01T12:36:13.704Z"
   },
   {
    "duration": 4,
    "start_time": "2022-03-01T12:36:13.738Z"
   },
   {
    "duration": 8,
    "start_time": "2022-03-01T12:36:13.743Z"
   },
   {
    "duration": 5,
    "start_time": "2022-03-01T12:36:13.752Z"
   },
   {
    "duration": 5,
    "start_time": "2022-03-01T12:36:13.760Z"
   },
   {
    "duration": 5,
    "start_time": "2022-03-01T12:36:15.642Z"
   },
   {
    "duration": 7,
    "start_time": "2022-03-01T12:37:23.447Z"
   },
   {
    "duration": 3,
    "start_time": "2022-03-01T12:37:50.158Z"
   },
   {
    "duration": 7,
    "start_time": "2022-03-01T12:37:55.798Z"
   },
   {
    "duration": 2,
    "start_time": "2022-03-01T12:38:09.313Z"
   },
   {
    "duration": 57,
    "start_time": "2022-03-01T12:38:09.319Z"
   },
   {
    "duration": 10,
    "start_time": "2022-03-01T12:38:09.378Z"
   },
   {
    "duration": 13,
    "start_time": "2022-03-01T12:38:09.390Z"
   },
   {
    "duration": 5,
    "start_time": "2022-03-01T12:38:09.405Z"
   },
   {
    "duration": 29,
    "start_time": "2022-03-01T12:38:09.411Z"
   },
   {
    "duration": 4,
    "start_time": "2022-03-01T12:38:09.442Z"
   },
   {
    "duration": 7,
    "start_time": "2022-03-01T12:38:09.448Z"
   },
   {
    "duration": 15,
    "start_time": "2022-03-01T12:38:09.457Z"
   },
   {
    "duration": 16,
    "start_time": "2022-03-01T12:38:09.475Z"
   },
   {
    "duration": 6,
    "start_time": "2022-03-01T12:38:09.493Z"
   },
   {
    "duration": 43,
    "start_time": "2022-03-01T12:38:09.500Z"
   },
   {
    "duration": 5,
    "start_time": "2022-03-01T12:38:09.546Z"
   },
   {
    "duration": 15,
    "start_time": "2022-03-01T12:38:09.553Z"
   },
   {
    "duration": 9,
    "start_time": "2022-03-01T12:38:09.570Z"
   },
   {
    "duration": 13,
    "start_time": "2022-03-01T12:38:09.581Z"
   },
   {
    "duration": 9,
    "start_time": "2022-03-01T12:38:09.596Z"
   },
   {
    "duration": 5,
    "start_time": "2022-03-01T12:38:09.607Z"
   },
   {
    "duration": 6,
    "start_time": "2022-03-01T12:38:09.638Z"
   },
   {
    "duration": 8,
    "start_time": "2022-03-01T12:38:09.646Z"
   },
   {
    "duration": 23,
    "start_time": "2022-03-01T12:38:09.656Z"
   },
   {
    "duration": 55,
    "start_time": "2022-03-01T12:38:14.653Z"
   },
   {
    "duration": 7,
    "start_time": "2022-03-01T12:38:18.160Z"
   },
   {
    "duration": 3,
    "start_time": "2022-03-01T12:38:43.645Z"
   },
   {
    "duration": 63,
    "start_time": "2022-03-01T12:38:43.650Z"
   },
   {
    "duration": 29,
    "start_time": "2022-03-01T12:38:43.715Z"
   },
   {
    "duration": 10,
    "start_time": "2022-03-01T12:38:43.746Z"
   },
   {
    "duration": 6,
    "start_time": "2022-03-01T12:38:43.758Z"
   },
   {
    "duration": 9,
    "start_time": "2022-03-01T12:38:43.766Z"
   },
   {
    "duration": 4,
    "start_time": "2022-03-01T12:38:43.779Z"
   },
   {
    "duration": 4,
    "start_time": "2022-03-01T12:38:43.786Z"
   },
   {
    "duration": 49,
    "start_time": "2022-03-01T12:38:43.792Z"
   },
   {
    "duration": 13,
    "start_time": "2022-03-01T12:38:43.843Z"
   },
   {
    "duration": 6,
    "start_time": "2022-03-01T12:38:43.858Z"
   },
   {
    "duration": 19,
    "start_time": "2022-03-01T12:38:43.866Z"
   },
   {
    "duration": 8,
    "start_time": "2022-03-01T12:38:43.887Z"
   },
   {
    "duration": 41,
    "start_time": "2022-03-01T12:38:43.897Z"
   },
   {
    "duration": 7,
    "start_time": "2022-03-01T12:38:43.941Z"
   },
   {
    "duration": 10,
    "start_time": "2022-03-01T12:38:43.950Z"
   },
   {
    "duration": 7,
    "start_time": "2022-03-01T12:38:43.962Z"
   },
   {
    "duration": 6,
    "start_time": "2022-03-01T12:38:43.971Z"
   },
   {
    "duration": 6,
    "start_time": "2022-03-01T12:38:43.980Z"
   },
   {
    "duration": 4,
    "start_time": "2022-03-01T12:38:43.988Z"
   },
   {
    "duration": 50,
    "start_time": "2022-03-01T12:38:43.994Z"
   },
   {
    "duration": 7,
    "start_time": "2022-03-01T12:38:44.046Z"
   },
   {
    "duration": 14,
    "start_time": "2022-03-01T12:38:44.055Z"
   },
   {
    "duration": 7,
    "start_time": "2022-03-01T12:38:44.071Z"
   },
   {
    "duration": 5,
    "start_time": "2022-03-01T12:38:44.080Z"
   },
   {
    "duration": 11,
    "start_time": "2022-03-01T12:38:44.086Z"
   },
   {
    "duration": 45,
    "start_time": "2022-03-01T12:38:44.099Z"
   },
   {
    "duration": 12,
    "start_time": "2022-03-01T12:38:44.146Z"
   },
   {
    "duration": 19,
    "start_time": "2022-03-01T12:38:44.159Z"
   },
   {
    "duration": 9,
    "start_time": "2022-03-01T12:38:44.179Z"
   },
   {
    "duration": 3,
    "start_time": "2022-03-01T12:38:44.190Z"
   },
   {
    "duration": 10,
    "start_time": "2022-03-01T12:38:44.194Z"
   },
   {
    "duration": 45,
    "start_time": "2022-03-01T12:38:44.205Z"
   },
   {
    "duration": 16,
    "start_time": "2022-03-01T12:38:44.252Z"
   },
   {
    "duration": 7,
    "start_time": "2022-03-01T12:38:46.989Z"
   },
   {
    "duration": 6,
    "start_time": "2022-03-01T12:41:32.850Z"
   },
   {
    "duration": 3,
    "start_time": "2022-03-01T12:41:38.596Z"
   },
   {
    "duration": 55,
    "start_time": "2022-03-01T12:41:38.601Z"
   },
   {
    "duration": 9,
    "start_time": "2022-03-01T12:41:38.658Z"
   },
   {
    "duration": 11,
    "start_time": "2022-03-01T12:41:38.670Z"
   },
   {
    "duration": 6,
    "start_time": "2022-03-01T12:41:38.683Z"
   },
   {
    "duration": 6,
    "start_time": "2022-03-01T12:41:38.690Z"
   },
   {
    "duration": 8,
    "start_time": "2022-03-01T12:41:38.699Z"
   },
   {
    "duration": 5,
    "start_time": "2022-03-01T12:41:38.737Z"
   },
   {
    "duration": 10,
    "start_time": "2022-03-01T12:41:38.744Z"
   },
   {
    "duration": 13,
    "start_time": "2022-03-01T12:41:38.756Z"
   },
   {
    "duration": 5,
    "start_time": "2022-03-01T12:41:38.770Z"
   },
   {
    "duration": 16,
    "start_time": "2022-03-01T12:41:38.776Z"
   },
   {
    "duration": 4,
    "start_time": "2022-03-01T12:41:38.794Z"
   },
   {
    "duration": 47,
    "start_time": "2022-03-01T12:41:38.800Z"
   },
   {
    "duration": 11,
    "start_time": "2022-03-01T12:41:38.849Z"
   },
   {
    "duration": 8,
    "start_time": "2022-03-01T12:41:38.861Z"
   },
   {
    "duration": 10,
    "start_time": "2022-03-01T12:41:38.871Z"
   },
   {
    "duration": 5,
    "start_time": "2022-03-01T12:41:38.882Z"
   },
   {
    "duration": 4,
    "start_time": "2022-03-01T12:41:38.890Z"
   },
   {
    "duration": 6,
    "start_time": "2022-03-01T12:41:38.896Z"
   },
   {
    "duration": 36,
    "start_time": "2022-03-01T12:41:38.903Z"
   },
   {
    "duration": 6,
    "start_time": "2022-03-01T12:41:38.940Z"
   },
   {
    "duration": 15,
    "start_time": "2022-03-01T12:41:43.021Z"
   },
   {
    "duration": 6,
    "start_time": "2022-03-01T12:41:45.364Z"
   },
   {
    "duration": 4,
    "start_time": "2022-03-01T12:42:33.443Z"
   },
   {
    "duration": 10,
    "start_time": "2022-03-01T12:42:42.436Z"
   },
   {
    "duration": 7,
    "start_time": "2022-03-01T12:42:50.307Z"
   },
   {
    "duration": 7,
    "start_time": "2022-03-01T12:42:51.209Z"
   },
   {
    "duration": 6,
    "start_time": "2022-03-01T12:42:53.066Z"
   },
   {
    "duration": 7,
    "start_time": "2022-03-01T12:42:54.348Z"
   },
   {
    "duration": 17,
    "start_time": "2022-03-01T12:42:58.799Z"
   },
   {
    "duration": 5,
    "start_time": "2022-03-01T12:43:03.781Z"
   },
   {
    "duration": 10,
    "start_time": "2022-03-01T12:43:07.740Z"
   },
   {
    "duration": 4,
    "start_time": "2022-03-01T12:43:08.522Z"
   },
   {
    "duration": 6,
    "start_time": "2022-03-01T12:43:12.060Z"
   },
   {
    "duration": 7,
    "start_time": "2022-03-01T12:43:17.974Z"
   },
   {
    "duration": 16,
    "start_time": "2022-03-01T12:43:22.670Z"
   },
   {
    "duration": 6,
    "start_time": "2022-03-01T12:43:26.688Z"
   },
   {
    "duration": 3,
    "start_time": "2022-03-01T12:44:18.931Z"
   },
   {
    "duration": 59,
    "start_time": "2022-03-01T12:44:18.937Z"
   },
   {
    "duration": 10,
    "start_time": "2022-03-01T12:44:18.998Z"
   },
   {
    "duration": 29,
    "start_time": "2022-03-01T12:44:19.010Z"
   },
   {
    "duration": 5,
    "start_time": "2022-03-01T12:44:19.041Z"
   },
   {
    "duration": 8,
    "start_time": "2022-03-01T12:44:19.047Z"
   },
   {
    "duration": 6,
    "start_time": "2022-03-01T12:44:19.057Z"
   },
   {
    "duration": 9,
    "start_time": "2022-03-01T12:44:19.064Z"
   },
   {
    "duration": 12,
    "start_time": "2022-03-01T12:44:19.075Z"
   },
   {
    "duration": 14,
    "start_time": "2022-03-01T12:44:19.089Z"
   },
   {
    "duration": 5,
    "start_time": "2022-03-01T12:44:19.105Z"
   },
   {
    "duration": 13,
    "start_time": "2022-03-01T12:44:19.139Z"
   },
   {
    "duration": 7,
    "start_time": "2022-03-01T12:44:19.154Z"
   },
   {
    "duration": 15,
    "start_time": "2022-03-01T12:44:19.162Z"
   },
   {
    "duration": 6,
    "start_time": "2022-03-01T12:44:19.179Z"
   },
   {
    "duration": 4,
    "start_time": "2022-03-01T12:44:19.186Z"
   },
   {
    "duration": 7,
    "start_time": "2022-03-01T12:44:19.191Z"
   },
   {
    "duration": 6,
    "start_time": "2022-03-01T12:44:19.200Z"
   },
   {
    "duration": 33,
    "start_time": "2022-03-01T12:44:19.207Z"
   },
   {
    "duration": 8,
    "start_time": "2022-03-01T12:44:19.241Z"
   },
   {
    "duration": 17,
    "start_time": "2022-03-01T12:44:19.251Z"
   },
   {
    "duration": 5,
    "start_time": "2022-03-01T12:44:19.270Z"
   },
   {
    "duration": 16,
    "start_time": "2022-03-01T12:44:19.277Z"
   },
   {
    "duration": 4,
    "start_time": "2022-03-01T12:44:19.296Z"
   },
   {
    "duration": 11,
    "start_time": "2022-03-01T12:44:19.301Z"
   },
   {
    "duration": 8,
    "start_time": "2022-03-01T12:44:19.338Z"
   },
   {
    "duration": 13,
    "start_time": "2022-03-01T12:44:19.347Z"
   },
   {
    "duration": 19,
    "start_time": "2022-03-01T12:44:19.361Z"
   },
   {
    "duration": 9,
    "start_time": "2022-03-01T12:44:19.381Z"
   },
   {
    "duration": 3,
    "start_time": "2022-03-01T12:44:19.392Z"
   },
   {
    "duration": 8,
    "start_time": "2022-03-01T12:44:22.036Z"
   },
   {
    "duration": 6,
    "start_time": "2022-03-01T12:44:23.391Z"
   },
   {
    "duration": 15,
    "start_time": "2022-03-01T12:44:26.809Z"
   },
   {
    "duration": 6,
    "start_time": "2022-03-01T12:44:28.917Z"
   },
   {
    "duration": 38,
    "start_time": "2022-03-01T12:45:30.846Z"
   },
   {
    "duration": 3,
    "start_time": "2022-03-01T13:02:31.236Z"
   },
   {
    "duration": 118,
    "start_time": "2022-03-01T13:02:31.241Z"
   },
   {
    "duration": 10,
    "start_time": "2022-03-01T13:02:31.361Z"
   },
   {
    "duration": 28,
    "start_time": "2022-03-01T13:02:31.373Z"
   },
   {
    "duration": 13,
    "start_time": "2022-03-01T13:02:31.403Z"
   },
   {
    "duration": 14,
    "start_time": "2022-03-01T13:02:31.418Z"
   },
   {
    "duration": 7,
    "start_time": "2022-03-01T13:02:31.434Z"
   },
   {
    "duration": 8,
    "start_time": "2022-03-01T13:02:31.443Z"
   },
   {
    "duration": 11,
    "start_time": "2022-03-01T13:02:31.453Z"
   },
   {
    "duration": 16,
    "start_time": "2022-03-01T13:02:31.467Z"
   },
   {
    "duration": 5,
    "start_time": "2022-03-01T13:02:31.485Z"
   },
   {
    "duration": 22,
    "start_time": "2022-03-01T13:02:31.492Z"
   },
   {
    "duration": 24,
    "start_time": "2022-03-01T13:02:31.516Z"
   },
   {
    "duration": 17,
    "start_time": "2022-03-01T13:02:31.542Z"
   },
   {
    "duration": 22,
    "start_time": "2022-03-01T13:02:31.561Z"
   },
   {
    "duration": 13,
    "start_time": "2022-03-01T13:02:31.584Z"
   },
   {
    "duration": 17,
    "start_time": "2022-03-01T13:02:31.599Z"
   },
   {
    "duration": 10,
    "start_time": "2022-03-01T13:02:31.618Z"
   },
   {
    "duration": 25,
    "start_time": "2022-03-01T13:02:31.630Z"
   },
   {
    "duration": 9,
    "start_time": "2022-03-01T13:02:31.658Z"
   },
   {
    "duration": 23,
    "start_time": "2022-03-01T13:02:31.669Z"
   },
   {
    "duration": 6,
    "start_time": "2022-03-01T13:02:31.694Z"
   },
   {
    "duration": 29,
    "start_time": "2022-03-01T13:02:31.702Z"
   },
   {
    "duration": 12,
    "start_time": "2022-03-01T13:02:31.733Z"
   },
   {
    "duration": 17,
    "start_time": "2022-03-01T13:02:31.747Z"
   },
   {
    "duration": 13,
    "start_time": "2022-03-01T13:02:31.766Z"
   },
   {
    "duration": 9,
    "start_time": "2022-03-01T13:02:31.781Z"
   },
   {
    "duration": 22,
    "start_time": "2022-03-01T13:02:31.791Z"
   },
   {
    "duration": 28,
    "start_time": "2022-03-01T13:02:31.814Z"
   },
   {
    "duration": 4,
    "start_time": "2022-03-01T13:02:31.843Z"
   },
   {
    "duration": 12,
    "start_time": "2022-03-01T13:02:31.848Z"
   },
   {
    "duration": 7,
    "start_time": "2022-03-01T13:02:31.862Z"
   },
   {
    "duration": 17,
    "start_time": "2022-03-01T13:02:36.109Z"
   },
   {
    "duration": 6,
    "start_time": "2022-03-01T13:02:37.492Z"
   },
   {
    "duration": 17,
    "start_time": "2022-03-01T13:02:55.810Z"
   },
   {
    "duration": 2,
    "start_time": "2022-03-01T13:06:18.894Z"
   },
   {
    "duration": 56,
    "start_time": "2022-03-01T13:06:18.900Z"
   },
   {
    "duration": 11,
    "start_time": "2022-03-01T13:06:18.958Z"
   },
   {
    "duration": 11,
    "start_time": "2022-03-01T13:06:18.971Z"
   },
   {
    "duration": 7,
    "start_time": "2022-03-01T13:06:18.984Z"
   },
   {
    "duration": 10,
    "start_time": "2022-03-01T13:06:18.992Z"
   },
   {
    "duration": 38,
    "start_time": "2022-03-01T13:06:19.004Z"
   },
   {
    "duration": 8,
    "start_time": "2022-03-01T13:06:19.044Z"
   },
   {
    "duration": 15,
    "start_time": "2022-03-01T13:06:19.054Z"
   },
   {
    "duration": 17,
    "start_time": "2022-03-01T13:06:19.072Z"
   },
   {
    "duration": 8,
    "start_time": "2022-03-01T13:06:19.091Z"
   },
   {
    "duration": 39,
    "start_time": "2022-03-01T13:06:19.100Z"
   },
   {
    "duration": 5,
    "start_time": "2022-03-01T13:06:19.141Z"
   },
   {
    "duration": 15,
    "start_time": "2022-03-01T13:06:19.148Z"
   },
   {
    "duration": 8,
    "start_time": "2022-03-01T13:06:19.165Z"
   },
   {
    "duration": 14,
    "start_time": "2022-03-01T13:06:19.175Z"
   },
   {
    "duration": 12,
    "start_time": "2022-03-01T13:06:19.191Z"
   },
   {
    "duration": 11,
    "start_time": "2022-03-01T13:06:19.205Z"
   },
   {
    "duration": 21,
    "start_time": "2022-03-01T13:06:19.218Z"
   },
   {
    "duration": 3,
    "start_time": "2022-03-01T13:06:19.241Z"
   },
   {
    "duration": 27,
    "start_time": "2022-03-01T13:06:19.246Z"
   },
   {
    "duration": 6,
    "start_time": "2022-03-01T13:06:19.274Z"
   },
   {
    "duration": 22,
    "start_time": "2022-03-01T13:06:19.282Z"
   },
   {
    "duration": 4,
    "start_time": "2022-03-01T13:06:19.305Z"
   },
   {
    "duration": 33,
    "start_time": "2022-03-01T13:06:19.311Z"
   },
   {
    "duration": 7,
    "start_time": "2022-03-01T13:06:19.346Z"
   },
   {
    "duration": 7,
    "start_time": "2022-03-01T13:06:19.355Z"
   },
   {
    "duration": 19,
    "start_time": "2022-03-01T13:06:19.365Z"
   },
   {
    "duration": 10,
    "start_time": "2022-03-01T13:06:19.386Z"
   },
   {
    "duration": 42,
    "start_time": "2022-03-01T13:06:19.398Z"
   },
   {
    "duration": 9,
    "start_time": "2022-03-01T13:06:19.442Z"
   },
   {
    "duration": 6,
    "start_time": "2022-03-01T13:06:19.453Z"
   },
   {
    "duration": 5,
    "start_time": "2022-03-01T13:06:53.065Z"
   },
   {
    "duration": 3,
    "start_time": "2022-03-01T13:06:56.576Z"
   },
   {
    "duration": 59,
    "start_time": "2022-03-01T13:06:56.580Z"
   },
   {
    "duration": 10,
    "start_time": "2022-03-01T13:06:56.640Z"
   },
   {
    "duration": 11,
    "start_time": "2022-03-01T13:06:56.652Z"
   },
   {
    "duration": 6,
    "start_time": "2022-03-01T13:06:56.665Z"
   },
   {
    "duration": 6,
    "start_time": "2022-03-01T13:06:56.673Z"
   },
   {
    "duration": 10,
    "start_time": "2022-03-01T13:06:56.681Z"
   },
   {
    "duration": 7,
    "start_time": "2022-03-01T13:06:56.693Z"
   },
   {
    "duration": 8,
    "start_time": "2022-03-01T13:06:56.702Z"
   },
   {
    "duration": 37,
    "start_time": "2022-03-01T13:06:56.712Z"
   },
   {
    "duration": 5,
    "start_time": "2022-03-01T13:06:56.750Z"
   },
   {
    "duration": 18,
    "start_time": "2022-03-01T13:06:56.756Z"
   },
   {
    "duration": 8,
    "start_time": "2022-03-01T13:06:56.775Z"
   },
   {
    "duration": 13,
    "start_time": "2022-03-01T13:06:56.785Z"
   },
   {
    "duration": 6,
    "start_time": "2022-03-01T13:06:56.799Z"
   },
   {
    "duration": 33,
    "start_time": "2022-03-01T13:06:56.807Z"
   },
   {
    "duration": 7,
    "start_time": "2022-03-01T13:06:56.842Z"
   },
   {
    "duration": 4,
    "start_time": "2022-03-01T13:06:56.851Z"
   },
   {
    "duration": 5,
    "start_time": "2022-03-01T13:06:56.857Z"
   },
   {
    "duration": 4,
    "start_time": "2022-03-01T13:06:56.864Z"
   },
   {
    "duration": 17,
    "start_time": "2022-03-01T13:06:56.870Z"
   },
   {
    "duration": 5,
    "start_time": "2022-03-01T13:06:56.888Z"
   },
   {
    "duration": 43,
    "start_time": "2022-03-01T13:06:56.896Z"
   },
   {
    "duration": 3,
    "start_time": "2022-03-01T13:06:56.941Z"
   },
   {
    "duration": 12,
    "start_time": "2022-03-01T13:06:56.946Z"
   },
   {
    "duration": 6,
    "start_time": "2022-03-01T13:06:56.960Z"
   },
   {
    "duration": 10,
    "start_time": "2022-03-01T13:06:56.967Z"
   },
   {
    "duration": 19,
    "start_time": "2022-03-01T13:06:56.978Z"
   },
   {
    "duration": 39,
    "start_time": "2022-03-01T13:06:56.999Z"
   },
   {
    "duration": 4,
    "start_time": "2022-03-01T13:06:57.039Z"
   },
   {
    "duration": 18,
    "start_time": "2022-03-01T13:06:57.044Z"
   },
   {
    "duration": 5,
    "start_time": "2022-03-01T13:06:57.064Z"
   },
   {
    "duration": 9,
    "start_time": "2022-03-01T13:06:58.914Z"
   },
   {
    "duration": 5,
    "start_time": "2022-03-01T13:07:00.028Z"
   },
   {
    "duration": 6,
    "start_time": "2022-03-01T13:07:00.932Z"
   },
   {
    "duration": 15,
    "start_time": "2022-03-01T13:07:04.202Z"
   },
   {
    "duration": 3,
    "start_time": "2022-03-01T13:13:01.117Z"
   },
   {
    "duration": 100,
    "start_time": "2022-03-01T13:13:01.122Z"
   },
   {
    "duration": 11,
    "start_time": "2022-03-01T13:13:01.224Z"
   },
   {
    "duration": 16,
    "start_time": "2022-03-01T13:13:01.237Z"
   },
   {
    "duration": 14,
    "start_time": "2022-03-01T13:13:01.255Z"
   },
   {
    "duration": 21,
    "start_time": "2022-03-01T13:13:01.272Z"
   },
   {
    "duration": 33,
    "start_time": "2022-03-01T13:13:01.296Z"
   },
   {
    "duration": 15,
    "start_time": "2022-03-01T13:13:01.332Z"
   },
   {
    "duration": 19,
    "start_time": "2022-03-01T13:13:01.349Z"
   },
   {
    "duration": 22,
    "start_time": "2022-03-01T13:13:01.369Z"
   },
   {
    "duration": 16,
    "start_time": "2022-03-01T13:13:01.393Z"
   },
   {
    "duration": 29,
    "start_time": "2022-03-01T13:13:01.411Z"
   },
   {
    "duration": 5,
    "start_time": "2022-03-01T13:13:01.442Z"
   },
   {
    "duration": 21,
    "start_time": "2022-03-01T13:13:01.449Z"
   },
   {
    "duration": 9,
    "start_time": "2022-03-01T13:13:01.472Z"
   },
   {
    "duration": 8,
    "start_time": "2022-03-01T13:13:01.483Z"
   },
   {
    "duration": 16,
    "start_time": "2022-03-01T13:13:01.493Z"
   },
   {
    "duration": 20,
    "start_time": "2022-03-01T13:13:01.510Z"
   },
   {
    "duration": 9,
    "start_time": "2022-03-01T13:13:01.533Z"
   },
   {
    "duration": 12,
    "start_time": "2022-03-01T13:13:01.544Z"
   },
   {
    "duration": 19,
    "start_time": "2022-03-01T13:13:01.557Z"
   },
   {
    "duration": 6,
    "start_time": "2022-03-01T13:13:01.577Z"
   },
   {
    "duration": 18,
    "start_time": "2022-03-01T13:13:01.585Z"
   },
   {
    "duration": 4,
    "start_time": "2022-03-01T13:13:01.605Z"
   },
   {
    "duration": 37,
    "start_time": "2022-03-01T13:13:01.610Z"
   },
   {
    "duration": 8,
    "start_time": "2022-03-01T13:13:01.648Z"
   },
   {
    "duration": 19,
    "start_time": "2022-03-01T13:13:01.658Z"
   },
   {
    "duration": 36,
    "start_time": "2022-03-01T13:13:01.679Z"
   },
   {
    "duration": 11,
    "start_time": "2022-03-01T13:13:01.717Z"
   },
   {
    "duration": 13,
    "start_time": "2022-03-01T13:13:01.729Z"
   },
   {
    "duration": 18,
    "start_time": "2022-03-01T13:13:01.744Z"
   },
   {
    "duration": 16,
    "start_time": "2022-03-01T13:13:01.763Z"
   },
   {
    "duration": 10,
    "start_time": "2022-03-01T13:13:01.781Z"
   },
   {
    "duration": 11,
    "start_time": "2022-03-01T13:13:01.793Z"
   },
   {
    "duration": 4,
    "start_time": "2022-03-01T13:13:03.868Z"
   },
   {
    "duration": 16,
    "start_time": "2022-03-01T13:13:05.125Z"
   },
   {
    "duration": 6,
    "start_time": "2022-03-01T13:13:06.906Z"
   },
   {
    "duration": 5,
    "start_time": "2022-03-01T13:13:07.974Z"
   },
   {
    "duration": 20,
    "start_time": "2022-03-01T13:13:28.691Z"
   },
   {
    "duration": 18,
    "start_time": "2022-03-01T13:13:29.648Z"
   },
   {
    "duration": 34,
    "start_time": "2022-03-01T13:13:31.099Z"
   },
   {
    "duration": 7,
    "start_time": "2022-03-01T13:13:32.530Z"
   },
   {
    "duration": 6,
    "start_time": "2022-03-01T15:38:23.641Z"
   },
   {
    "duration": 3,
    "start_time": "2022-03-01T15:42:52.523Z"
   },
   {
    "duration": 68,
    "start_time": "2022-03-01T15:42:52.528Z"
   },
   {
    "duration": 10,
    "start_time": "2022-03-01T15:42:52.598Z"
   },
   {
    "duration": 30,
    "start_time": "2022-03-01T15:42:52.609Z"
   },
   {
    "duration": 5,
    "start_time": "2022-03-01T15:42:52.641Z"
   },
   {
    "duration": 13,
    "start_time": "2022-03-01T15:42:52.647Z"
   },
   {
    "duration": 5,
    "start_time": "2022-03-01T15:42:52.662Z"
   },
   {
    "duration": 6,
    "start_time": "2022-03-01T15:42:52.669Z"
   },
   {
    "duration": 10,
    "start_time": "2022-03-01T15:42:52.677Z"
   },
   {
    "duration": 13,
    "start_time": "2022-03-01T15:42:52.689Z"
   },
   {
    "duration": 5,
    "start_time": "2022-03-01T15:42:52.703Z"
   },
   {
    "duration": 14,
    "start_time": "2022-03-01T15:42:52.738Z"
   },
   {
    "duration": 6,
    "start_time": "2022-03-01T15:42:52.754Z"
   },
   {
    "duration": 18,
    "start_time": "2022-03-01T15:42:52.761Z"
   },
   {
    "duration": 6,
    "start_time": "2022-03-01T15:42:52.781Z"
   },
   {
    "duration": 4,
    "start_time": "2022-03-01T15:42:52.788Z"
   },
   {
    "duration": 6,
    "start_time": "2022-03-01T15:42:52.794Z"
   },
   {
    "duration": 37,
    "start_time": "2022-03-01T15:42:52.801Z"
   },
   {
    "duration": 11,
    "start_time": "2022-03-01T15:42:52.841Z"
   },
   {
    "duration": 4,
    "start_time": "2022-03-01T15:42:52.854Z"
   },
   {
    "duration": 21,
    "start_time": "2022-03-01T15:42:52.859Z"
   },
   {
    "duration": 5,
    "start_time": "2022-03-01T15:42:52.882Z"
   },
   {
    "duration": 14,
    "start_time": "2022-03-01T15:42:52.889Z"
   },
   {
    "duration": 4,
    "start_time": "2022-03-01T15:42:52.904Z"
   },
   {
    "duration": 33,
    "start_time": "2022-03-01T15:42:52.909Z"
   },
   {
    "duration": 7,
    "start_time": "2022-03-01T15:42:52.944Z"
   },
   {
    "duration": 8,
    "start_time": "2022-03-01T15:42:52.952Z"
   },
   {
    "duration": 22,
    "start_time": "2022-03-01T15:42:52.962Z"
   },
   {
    "duration": 11,
    "start_time": "2022-03-01T15:42:52.986Z"
   },
   {
    "duration": 4,
    "start_time": "2022-03-01T15:42:52.998Z"
   },
   {
    "duration": 8,
    "start_time": "2022-03-01T15:42:53.038Z"
   },
   {
    "duration": 12,
    "start_time": "2022-03-01T15:42:53.048Z"
   },
   {
    "duration": 4,
    "start_time": "2022-03-01T15:42:53.062Z"
   },
   {
    "duration": 17,
    "start_time": "2022-03-01T15:42:53.068Z"
   },
   {
    "duration": 5,
    "start_time": "2022-03-01T15:42:53.087Z"
   },
   {
    "duration": 14,
    "start_time": "2022-03-01T15:42:53.093Z"
   },
   {
    "duration": 45,
    "start_time": "2022-03-01T15:42:53.109Z"
   },
   {
    "duration": 17,
    "start_time": "2022-03-01T15:42:53.155Z"
   },
   {
    "duration": 29,
    "start_time": "2022-03-01T15:42:53.173Z"
   },
   {
    "duration": 5,
    "start_time": "2022-03-01T15:42:53.203Z"
   },
   {
    "duration": 15,
    "start_time": "2022-03-01T15:42:53.238Z"
   },
   {
    "duration": 6,
    "start_time": "2022-03-01T15:42:53.254Z"
   },
   {
    "duration": 20,
    "start_time": "2022-03-01T15:42:53.262Z"
   },
   {
    "duration": 9,
    "start_time": "2022-03-01T15:42:53.283Z"
   },
   {
    "duration": 3,
    "start_time": "2022-03-01T15:42:53.294Z"
   },
   {
    "duration": 17,
    "start_time": "2022-03-01T15:42:59.482Z"
   },
   {
    "duration": 4,
    "start_time": "2022-03-01T15:44:01.647Z"
   },
   {
    "duration": 17,
    "start_time": "2022-03-01T15:44:02.710Z"
   },
   {
    "duration": 4,
    "start_time": "2022-03-01T15:44:21.311Z"
   },
   {
    "duration": 17,
    "start_time": "2022-03-01T15:44:23.264Z"
   },
   {
    "duration": 61,
    "start_time": "2022-03-01T15:45:07.289Z"
   },
   {
    "duration": 3,
    "start_time": "2022-03-01T15:45:21.791Z"
   },
   {
    "duration": 3,
    "start_time": "2022-03-01T15:46:22.974Z"
   },
   {
    "duration": 15,
    "start_time": "2022-03-01T15:46:24.319Z"
   },
   {
    "duration": 3,
    "start_time": "2022-03-01T15:46:28.977Z"
   },
   {
    "duration": 15,
    "start_time": "2022-03-01T15:46:30.191Z"
   },
   {
    "duration": 3,
    "start_time": "2022-03-01T15:46:39.866Z"
   },
   {
    "duration": 15,
    "start_time": "2022-03-01T15:46:41.679Z"
   },
   {
    "duration": 3,
    "start_time": "2022-03-01T15:46:53.699Z"
   },
   {
    "duration": 54,
    "start_time": "2022-03-01T15:46:53.704Z"
   },
   {
    "duration": 9,
    "start_time": "2022-03-01T15:46:53.760Z"
   },
   {
    "duration": 8,
    "start_time": "2022-03-01T15:46:53.771Z"
   },
   {
    "duration": 5,
    "start_time": "2022-03-01T15:46:53.781Z"
   },
   {
    "duration": 6,
    "start_time": "2022-03-01T15:46:53.788Z"
   },
   {
    "duration": 5,
    "start_time": "2022-03-01T15:46:53.795Z"
   },
   {
    "duration": 5,
    "start_time": "2022-03-01T15:46:53.839Z"
   },
   {
    "duration": 19,
    "start_time": "2022-03-01T15:46:53.846Z"
   },
   {
    "duration": 14,
    "start_time": "2022-03-01T15:46:53.867Z"
   },
   {
    "duration": 5,
    "start_time": "2022-03-01T15:46:53.883Z"
   },
   {
    "duration": 14,
    "start_time": "2022-03-01T15:46:53.889Z"
   },
   {
    "duration": 10,
    "start_time": "2022-03-01T15:46:53.905Z"
   },
   {
    "duration": 13,
    "start_time": "2022-03-01T15:46:53.937Z"
   },
   {
    "duration": 9,
    "start_time": "2022-03-01T15:46:53.952Z"
   },
   {
    "duration": 14,
    "start_time": "2022-03-01T15:46:53.962Z"
   },
   {
    "duration": 36,
    "start_time": "2022-03-01T15:46:53.978Z"
   },
   {
    "duration": 14,
    "start_time": "2022-03-01T15:46:54.016Z"
   },
   {
    "duration": 13,
    "start_time": "2022-03-01T15:46:54.031Z"
   },
   {
    "duration": 15,
    "start_time": "2022-03-01T15:46:54.046Z"
   },
   {
    "duration": 21,
    "start_time": "2022-03-01T15:46:54.063Z"
   },
   {
    "duration": 7,
    "start_time": "2022-03-01T15:46:54.086Z"
   },
   {
    "duration": 21,
    "start_time": "2022-03-01T15:46:54.097Z"
   },
   {
    "duration": 5,
    "start_time": "2022-03-01T15:46:54.121Z"
   },
   {
    "duration": 20,
    "start_time": "2022-03-01T15:46:54.127Z"
   },
   {
    "duration": 12,
    "start_time": "2022-03-01T15:46:54.149Z"
   },
   {
    "duration": 15,
    "start_time": "2022-03-01T15:46:54.163Z"
   },
   {
    "duration": 27,
    "start_time": "2022-03-01T15:46:54.179Z"
   },
   {
    "duration": 10,
    "start_time": "2022-03-01T15:46:54.208Z"
   },
   {
    "duration": 4,
    "start_time": "2022-03-01T15:46:54.219Z"
   },
   {
    "duration": 18,
    "start_time": "2022-03-01T15:46:54.224Z"
   },
   {
    "duration": 7,
    "start_time": "2022-03-01T15:46:54.243Z"
   },
   {
    "duration": 7,
    "start_time": "2022-03-01T15:46:54.252Z"
   },
   {
    "duration": 22,
    "start_time": "2022-03-01T15:46:54.260Z"
   },
   {
    "duration": 4,
    "start_time": "2022-03-01T15:46:54.284Z"
   },
   {
    "duration": 8,
    "start_time": "2022-03-01T15:46:54.289Z"
   },
   {
    "duration": 23,
    "start_time": "2022-03-01T15:46:54.299Z"
   },
   {
    "duration": 29,
    "start_time": "2022-03-01T15:46:54.323Z"
   },
   {
    "duration": 29,
    "start_time": "2022-03-01T15:46:54.353Z"
   },
   {
    "duration": 5,
    "start_time": "2022-03-01T15:46:54.383Z"
   },
   {
    "duration": 17,
    "start_time": "2022-03-01T15:46:54.390Z"
   },
   {
    "duration": 6,
    "start_time": "2022-03-01T15:46:54.409Z"
   },
   {
    "duration": 15,
    "start_time": "2022-03-01T15:46:54.438Z"
   },
   {
    "duration": 14,
    "start_time": "2022-03-01T15:46:54.455Z"
   },
   {
    "duration": 10,
    "start_time": "2022-03-01T15:46:54.471Z"
   },
   {
    "duration": 27,
    "start_time": "2022-03-01T15:46:54.483Z"
   },
   {
    "duration": 3,
    "start_time": "2022-03-01T15:47:08.636Z"
   },
   {
    "duration": 18,
    "start_time": "2022-03-01T15:47:10.167Z"
   },
   {
    "duration": 3,
    "start_time": "2022-03-01T15:47:19.172Z"
   },
   {
    "duration": 16,
    "start_time": "2022-03-01T15:47:20.077Z"
   },
   {
    "duration": 19,
    "start_time": "2022-03-01T15:47:37.766Z"
   },
   {
    "duration": 17,
    "start_time": "2022-03-01T15:48:23.990Z"
   },
   {
    "duration": 6,
    "start_time": "2022-03-01T15:48:25.286Z"
   },
   {
    "duration": 19,
    "start_time": "2022-03-01T15:48:32.551Z"
   },
   {
    "duration": 8,
    "start_time": "2022-03-01T15:49:08.231Z"
   },
   {
    "duration": 585,
    "start_time": "2022-03-02T08:52:37.247Z"
   },
   {
    "duration": 74,
    "start_time": "2022-03-02T08:52:37.834Z"
   },
   {
    "duration": 13,
    "start_time": "2022-03-02T08:52:37.910Z"
   },
   {
    "duration": 9,
    "start_time": "2022-03-02T08:52:37.925Z"
   },
   {
    "duration": 4,
    "start_time": "2022-03-02T08:52:37.936Z"
   },
   {
    "duration": 4,
    "start_time": "2022-03-02T08:52:37.942Z"
   },
   {
    "duration": 4,
    "start_time": "2022-03-02T08:52:37.947Z"
   },
   {
    "duration": 3,
    "start_time": "2022-03-02T08:52:37.954Z"
   },
   {
    "duration": 47,
    "start_time": "2022-03-02T08:52:37.959Z"
   },
   {
    "duration": 21,
    "start_time": "2022-03-02T08:52:38.008Z"
   },
   {
    "duration": 5,
    "start_time": "2022-03-02T08:52:38.030Z"
   },
   {
    "duration": 12,
    "start_time": "2022-03-02T08:52:38.036Z"
   },
   {
    "duration": 8,
    "start_time": "2022-03-02T08:52:38.049Z"
   },
   {
    "duration": 15,
    "start_time": "2022-03-02T08:52:38.058Z"
   },
   {
    "duration": 27,
    "start_time": "2022-03-02T08:52:38.074Z"
   },
   {
    "duration": 6,
    "start_time": "2022-03-02T08:52:38.103Z"
   },
   {
    "duration": 8,
    "start_time": "2022-03-02T08:52:38.111Z"
   },
   {
    "duration": 9,
    "start_time": "2022-03-02T08:52:38.121Z"
   },
   {
    "duration": 6,
    "start_time": "2022-03-02T08:52:38.132Z"
   },
   {
    "duration": 10,
    "start_time": "2022-03-02T08:52:38.139Z"
   },
   {
    "duration": 20,
    "start_time": "2022-03-02T08:52:38.150Z"
   },
   {
    "duration": 5,
    "start_time": "2022-03-02T08:52:38.172Z"
   },
   {
    "duration": 41,
    "start_time": "2022-03-02T08:52:38.180Z"
   },
   {
    "duration": 3,
    "start_time": "2022-03-02T08:52:38.223Z"
   },
   {
    "duration": 15,
    "start_time": "2022-03-02T08:52:38.228Z"
   },
   {
    "duration": 7,
    "start_time": "2022-03-02T08:52:38.244Z"
   },
   {
    "duration": 9,
    "start_time": "2022-03-02T08:52:38.252Z"
   },
   {
    "duration": 43,
    "start_time": "2022-03-02T08:52:38.262Z"
   },
   {
    "duration": 12,
    "start_time": "2022-03-02T08:52:38.309Z"
   },
   {
    "duration": 3,
    "start_time": "2022-03-02T08:52:38.323Z"
   },
   {
    "duration": 8,
    "start_time": "2022-03-02T08:52:38.327Z"
   },
   {
    "duration": 9,
    "start_time": "2022-03-02T08:52:38.336Z"
   },
   {
    "duration": 8,
    "start_time": "2022-03-02T08:52:38.346Z"
   },
   {
    "duration": 17,
    "start_time": "2022-03-02T08:52:38.355Z"
   },
   {
    "duration": 4,
    "start_time": "2022-03-02T08:52:38.373Z"
   },
   {
    "duration": 24,
    "start_time": "2022-03-02T08:52:38.379Z"
   },
   {
    "duration": 22,
    "start_time": "2022-03-02T08:52:38.405Z"
   },
   {
    "duration": 16,
    "start_time": "2022-03-02T08:52:38.429Z"
   },
   {
    "duration": 27,
    "start_time": "2022-03-02T08:52:38.447Z"
   },
   {
    "duration": 32,
    "start_time": "2022-03-02T08:52:38.476Z"
   },
   {
    "duration": 20,
    "start_time": "2022-03-02T08:52:38.511Z"
   },
   {
    "duration": 3,
    "start_time": "2022-03-02T08:52:38.532Z"
   },
   {
    "duration": 26,
    "start_time": "2022-03-02T08:52:38.536Z"
   },
   {
    "duration": 7,
    "start_time": "2022-03-02T08:52:38.563Z"
   },
   {
    "duration": 6,
    "start_time": "2022-03-02T08:52:38.571Z"
   },
   {
    "duration": 19,
    "start_time": "2022-03-02T08:52:38.602Z"
   },
   {
    "duration": 8,
    "start_time": "2022-03-02T08:52:38.624Z"
   },
   {
    "duration": 14,
    "start_time": "2022-03-02T08:52:38.634Z"
   },
   {
    "duration": 14,
    "start_time": "2022-03-02T08:53:11.864Z"
   },
   {
    "duration": 15,
    "start_time": "2022-03-02T08:53:59.455Z"
   },
   {
    "duration": 4,
    "start_time": "2022-03-02T08:57:38.845Z"
   },
   {
    "duration": 3,
    "start_time": "2022-03-02T08:59:49.477Z"
   },
   {
    "duration": 58,
    "start_time": "2022-03-02T08:59:49.483Z"
   },
   {
    "duration": 9,
    "start_time": "2022-03-02T08:59:49.543Z"
   },
   {
    "duration": 8,
    "start_time": "2022-03-02T08:59:49.553Z"
   },
   {
    "duration": 40,
    "start_time": "2022-03-02T08:59:49.563Z"
   },
   {
    "duration": 5,
    "start_time": "2022-03-02T08:59:49.607Z"
   },
   {
    "duration": 9,
    "start_time": "2022-03-02T08:59:49.614Z"
   },
   {
    "duration": 4,
    "start_time": "2022-03-02T08:59:49.625Z"
   },
   {
    "duration": 9,
    "start_time": "2022-03-02T08:59:49.631Z"
   },
   {
    "duration": 11,
    "start_time": "2022-03-02T08:59:49.642Z"
   },
   {
    "duration": 4,
    "start_time": "2022-03-02T08:59:49.654Z"
   },
   {
    "duration": 52,
    "start_time": "2022-03-02T08:59:49.659Z"
   },
   {
    "duration": 6,
    "start_time": "2022-03-02T08:59:49.712Z"
   },
   {
    "duration": 14,
    "start_time": "2022-03-02T08:59:49.720Z"
   },
   {
    "duration": 8,
    "start_time": "2022-03-02T08:59:49.735Z"
   },
   {
    "duration": 10,
    "start_time": "2022-03-02T08:59:49.744Z"
   },
   {
    "duration": 8,
    "start_time": "2022-03-02T08:59:49.756Z"
   },
   {
    "duration": 9,
    "start_time": "2022-03-02T08:59:49.765Z"
   },
   {
    "duration": 9,
    "start_time": "2022-03-02T08:59:49.775Z"
   },
   {
    "duration": 18,
    "start_time": "2022-03-02T08:59:49.785Z"
   },
   {
    "duration": 21,
    "start_time": "2022-03-02T08:59:49.806Z"
   },
   {
    "duration": 5,
    "start_time": "2022-03-02T08:59:49.829Z"
   },
   {
    "duration": 15,
    "start_time": "2022-03-02T08:59:49.835Z"
   },
   {
    "duration": 4,
    "start_time": "2022-03-02T08:59:49.852Z"
   },
   {
    "duration": 18,
    "start_time": "2022-03-02T08:59:49.857Z"
   },
   {
    "duration": 32,
    "start_time": "2022-03-02T08:59:49.876Z"
   },
   {
    "duration": 20,
    "start_time": "2022-03-02T08:59:49.910Z"
   },
   {
    "duration": 24,
    "start_time": "2022-03-02T08:59:49.932Z"
   },
   {
    "duration": 9,
    "start_time": "2022-03-02T08:59:49.958Z"
   },
   {
    "duration": 12,
    "start_time": "2022-03-02T08:59:49.969Z"
   },
   {
    "duration": 26,
    "start_time": "2022-03-02T08:59:49.982Z"
   },
   {
    "duration": 16,
    "start_time": "2022-03-02T08:59:50.009Z"
   },
   {
    "duration": 5,
    "start_time": "2022-03-02T08:59:50.026Z"
   },
   {
    "duration": 18,
    "start_time": "2022-03-02T08:59:50.032Z"
   },
   {
    "duration": 4,
    "start_time": "2022-03-02T08:59:50.051Z"
   },
   {
    "duration": 10,
    "start_time": "2022-03-02T08:59:50.056Z"
   },
   {
    "duration": 24,
    "start_time": "2022-03-02T08:59:50.067Z"
   },
   {
    "duration": 29,
    "start_time": "2022-03-02T08:59:50.092Z"
   },
   {
    "duration": 27,
    "start_time": "2022-03-02T08:59:50.123Z"
   },
   {
    "duration": 6,
    "start_time": "2022-03-02T08:59:50.151Z"
   },
   {
    "duration": 16,
    "start_time": "2022-03-02T08:59:50.158Z"
   },
   {
    "duration": 28,
    "start_time": "2022-03-02T08:59:50.175Z"
   },
   {
    "duration": 21,
    "start_time": "2022-03-02T08:59:50.205Z"
   },
   {
    "duration": 5,
    "start_time": "2022-03-02T08:59:50.228Z"
   },
   {
    "duration": 4,
    "start_time": "2022-03-02T08:59:50.235Z"
   },
   {
    "duration": 24,
    "start_time": "2022-03-02T08:59:50.241Z"
   },
   {
    "duration": 27,
    "start_time": "2022-03-02T08:59:50.266Z"
   },
   {
    "duration": 15,
    "start_time": "2022-03-02T08:59:59.591Z"
   },
   {
    "duration": 21,
    "start_time": "2022-03-02T09:01:21.112Z"
   },
   {
    "duration": 12,
    "start_time": "2022-03-02T09:01:45.969Z"
   },
   {
    "duration": 15,
    "start_time": "2022-03-02T09:03:06.805Z"
   },
   {
    "duration": 14,
    "start_time": "2022-03-02T09:03:17.291Z"
   },
   {
    "duration": 12,
    "start_time": "2022-03-02T09:03:39.174Z"
   },
   {
    "duration": 14,
    "start_time": "2022-03-02T09:03:45.203Z"
   },
   {
    "duration": 335,
    "start_time": "2022-03-02T09:10:46.307Z"
   },
   {
    "duration": 338,
    "start_time": "2022-03-02T09:11:02.734Z"
   },
   {
    "duration": 286,
    "start_time": "2022-03-02T09:14:00.431Z"
   },
   {
    "duration": 13,
    "start_time": "2022-03-02T09:14:40.752Z"
   },
   {
    "duration": 13,
    "start_time": "2022-03-02T09:18:03.556Z"
   },
   {
    "duration": 294,
    "start_time": "2022-03-02T09:20:34.489Z"
   },
   {
    "duration": 2,
    "start_time": "2022-03-02T09:20:41.703Z"
   },
   {
    "duration": 66,
    "start_time": "2022-03-02T09:20:41.707Z"
   },
   {
    "duration": 9,
    "start_time": "2022-03-02T09:20:41.775Z"
   },
   {
    "duration": 18,
    "start_time": "2022-03-02T09:20:41.786Z"
   },
   {
    "duration": 10,
    "start_time": "2022-03-02T09:20:41.806Z"
   },
   {
    "duration": 5,
    "start_time": "2022-03-02T09:20:41.817Z"
   },
   {
    "duration": 3,
    "start_time": "2022-03-02T09:20:41.825Z"
   },
   {
    "duration": 3,
    "start_time": "2022-03-02T09:20:41.830Z"
   },
   {
    "duration": 11,
    "start_time": "2022-03-02T09:20:41.835Z"
   },
   {
    "duration": 13,
    "start_time": "2022-03-02T09:20:41.848Z"
   },
   {
    "duration": 4,
    "start_time": "2022-03-02T09:20:41.862Z"
   },
   {
    "duration": 10,
    "start_time": "2022-03-02T09:20:41.902Z"
   },
   {
    "duration": 8,
    "start_time": "2022-03-02T09:20:41.913Z"
   },
   {
    "duration": 11,
    "start_time": "2022-03-02T09:20:41.922Z"
   },
   {
    "duration": 11,
    "start_time": "2022-03-02T09:20:41.934Z"
   },
   {
    "duration": 7,
    "start_time": "2022-03-02T09:20:41.946Z"
   },
   {
    "duration": 9,
    "start_time": "2022-03-02T09:20:41.955Z"
   },
   {
    "duration": 9,
    "start_time": "2022-03-02T09:20:41.966Z"
   },
   {
    "duration": 6,
    "start_time": "2022-03-02T09:20:41.978Z"
   },
   {
    "duration": 8,
    "start_time": "2022-03-02T09:20:41.985Z"
   },
   {
    "duration": 14,
    "start_time": "2022-03-02T09:20:42.001Z"
   },
   {
    "duration": 4,
    "start_time": "2022-03-02T09:20:42.016Z"
   },
   {
    "duration": 14,
    "start_time": "2022-03-02T09:20:42.022Z"
   },
   {
    "duration": 4,
    "start_time": "2022-03-02T09:20:42.037Z"
   },
   {
    "duration": 12,
    "start_time": "2022-03-02T09:20:42.042Z"
   },
   {
    "duration": 11,
    "start_time": "2022-03-02T09:20:42.055Z"
   },
   {
    "duration": 34,
    "start_time": "2022-03-02T09:20:42.067Z"
   },
   {
    "duration": 17,
    "start_time": "2022-03-02T09:20:42.102Z"
   },
   {
    "duration": 9,
    "start_time": "2022-03-02T09:20:42.120Z"
   },
   {
    "duration": 3,
    "start_time": "2022-03-02T09:20:42.130Z"
   },
   {
    "duration": 10,
    "start_time": "2022-03-02T09:20:42.134Z"
   },
   {
    "duration": 8,
    "start_time": "2022-03-02T09:20:42.146Z"
   },
   {
    "duration": 10,
    "start_time": "2022-03-02T09:20:42.156Z"
   },
   {
    "duration": 16,
    "start_time": "2022-03-02T09:20:42.167Z"
   },
   {
    "duration": 19,
    "start_time": "2022-03-02T09:20:42.184Z"
   },
   {
    "duration": 4,
    "start_time": "2022-03-02T09:20:42.205Z"
   },
   {
    "duration": 21,
    "start_time": "2022-03-02T09:20:42.211Z"
   },
   {
    "duration": 16,
    "start_time": "2022-03-02T09:20:42.234Z"
   },
   {
    "duration": 26,
    "start_time": "2022-03-02T09:20:42.252Z"
   },
   {
    "duration": 22,
    "start_time": "2022-03-02T09:20:42.280Z"
   },
   {
    "duration": 13,
    "start_time": "2022-03-02T09:20:42.303Z"
   },
   {
    "duration": 3,
    "start_time": "2022-03-02T09:20:42.317Z"
   },
   {
    "duration": 24,
    "start_time": "2022-03-02T09:20:42.321Z"
   },
   {
    "duration": 9,
    "start_time": "2022-03-02T09:20:42.346Z"
   },
   {
    "duration": 6,
    "start_time": "2022-03-02T09:20:42.356Z"
   },
   {
    "duration": 21,
    "start_time": "2022-03-02T09:20:42.363Z"
   },
   {
    "duration": 4,
    "start_time": "2022-03-02T09:20:42.401Z"
   },
   {
    "duration": 12,
    "start_time": "2022-03-02T09:20:42.407Z"
   },
   {
    "duration": 11,
    "start_time": "2022-03-02T09:20:42.420Z"
   },
   {
    "duration": 9,
    "start_time": "2022-03-02T09:20:44.271Z"
   },
   {
    "duration": 9,
    "start_time": "2022-03-02T09:25:31.196Z"
   },
   {
    "duration": 275,
    "start_time": "2022-03-02T09:25:36.619Z"
   },
   {
    "duration": 294,
    "start_time": "2022-03-02T09:25:42.564Z"
   },
   {
    "duration": 353,
    "start_time": "2022-03-02T09:25:48.856Z"
   },
   {
    "duration": 280,
    "start_time": "2022-03-02T09:25:54.904Z"
   },
   {
    "duration": 2,
    "start_time": "2022-03-02T09:26:08.337Z"
   },
   {
    "duration": 51,
    "start_time": "2022-03-02T09:26:08.343Z"
   },
   {
    "duration": 9,
    "start_time": "2022-03-02T09:26:08.396Z"
   },
   {
    "duration": 9,
    "start_time": "2022-03-02T09:26:08.407Z"
   },
   {
    "duration": 4,
    "start_time": "2022-03-02T09:26:08.418Z"
   },
   {
    "duration": 7,
    "start_time": "2022-03-02T09:26:08.423Z"
   },
   {
    "duration": 4,
    "start_time": "2022-03-02T09:26:08.431Z"
   },
   {
    "duration": 4,
    "start_time": "2022-03-02T09:26:08.436Z"
   },
   {
    "duration": 10,
    "start_time": "2022-03-02T09:26:08.443Z"
   },
   {
    "duration": 50,
    "start_time": "2022-03-02T09:26:08.455Z"
   },
   {
    "duration": 5,
    "start_time": "2022-03-02T09:26:08.507Z"
   },
   {
    "duration": 13,
    "start_time": "2022-03-02T09:26:08.513Z"
   },
   {
    "duration": 3,
    "start_time": "2022-03-02T09:26:08.528Z"
   },
   {
    "duration": 15,
    "start_time": "2022-03-02T09:26:08.533Z"
   },
   {
    "duration": 5,
    "start_time": "2022-03-02T09:26:08.549Z"
   },
   {
    "duration": 7,
    "start_time": "2022-03-02T09:26:08.556Z"
   },
   {
    "duration": 37,
    "start_time": "2022-03-02T09:26:08.564Z"
   },
   {
    "duration": 4,
    "start_time": "2022-03-02T09:26:08.603Z"
   },
   {
    "duration": 4,
    "start_time": "2022-03-02T09:26:08.609Z"
   },
   {
    "duration": 7,
    "start_time": "2022-03-02T09:26:08.614Z"
   },
   {
    "duration": 20,
    "start_time": "2022-03-02T09:26:08.623Z"
   },
   {
    "duration": 6,
    "start_time": "2022-03-02T09:26:08.644Z"
   },
   {
    "duration": 18,
    "start_time": "2022-03-02T09:26:08.651Z"
   },
   {
    "duration": 3,
    "start_time": "2022-03-02T09:26:08.672Z"
   },
   {
    "duration": 28,
    "start_time": "2022-03-02T09:26:08.677Z"
   },
   {
    "duration": 6,
    "start_time": "2022-03-02T09:26:08.706Z"
   },
   {
    "duration": 10,
    "start_time": "2022-03-02T09:26:08.714Z"
   },
   {
    "duration": 19,
    "start_time": "2022-03-02T09:26:08.726Z"
   },
   {
    "duration": 9,
    "start_time": "2022-03-02T09:26:08.746Z"
   },
   {
    "duration": 4,
    "start_time": "2022-03-02T09:26:08.756Z"
   },
   {
    "duration": 11,
    "start_time": "2022-03-02T09:26:08.761Z"
   },
   {
    "duration": 33,
    "start_time": "2022-03-02T09:26:08.773Z"
   },
   {
    "duration": 3,
    "start_time": "2022-03-02T09:26:08.808Z"
   },
   {
    "duration": 16,
    "start_time": "2022-03-02T09:26:08.813Z"
   },
   {
    "duration": 5,
    "start_time": "2022-03-02T09:26:08.830Z"
   },
   {
    "duration": 9,
    "start_time": "2022-03-02T09:26:08.836Z"
   },
   {
    "duration": 21,
    "start_time": "2022-03-02T09:26:08.847Z"
   },
   {
    "duration": 36,
    "start_time": "2022-03-02T09:26:08.869Z"
   },
   {
    "duration": 27,
    "start_time": "2022-03-02T09:26:08.907Z"
   },
   {
    "duration": 5,
    "start_time": "2022-03-02T09:26:08.936Z"
   },
   {
    "duration": 16,
    "start_time": "2022-03-02T09:26:10.448Z"
   },
   {
    "duration": 8,
    "start_time": "2022-03-02T09:26:12.843Z"
   },
   {
    "duration": 289,
    "start_time": "2022-03-02T09:26:28.904Z"
   },
   {
    "duration": 2,
    "start_time": "2022-03-02T09:26:31.474Z"
   },
   {
    "duration": 51,
    "start_time": "2022-03-02T09:26:31.480Z"
   },
   {
    "duration": 10,
    "start_time": "2022-03-02T09:26:31.532Z"
   },
   {
    "duration": 8,
    "start_time": "2022-03-02T09:26:31.543Z"
   },
   {
    "duration": 4,
    "start_time": "2022-03-02T09:26:31.553Z"
   },
   {
    "duration": 5,
    "start_time": "2022-03-02T09:26:31.559Z"
   },
   {
    "duration": 38,
    "start_time": "2022-03-02T09:26:31.566Z"
   },
   {
    "duration": 5,
    "start_time": "2022-03-02T09:26:31.605Z"
   },
   {
    "duration": 12,
    "start_time": "2022-03-02T09:26:31.612Z"
   },
   {
    "duration": 17,
    "start_time": "2022-03-02T09:26:31.626Z"
   },
   {
    "duration": 5,
    "start_time": "2022-03-02T09:26:31.645Z"
   },
   {
    "duration": 14,
    "start_time": "2022-03-02T09:26:31.651Z"
   },
   {
    "duration": 36,
    "start_time": "2022-03-02T09:26:31.666Z"
   },
   {
    "duration": 11,
    "start_time": "2022-03-02T09:26:31.704Z"
   },
   {
    "duration": 6,
    "start_time": "2022-03-02T09:26:31.717Z"
   },
   {
    "duration": 6,
    "start_time": "2022-03-02T09:26:31.725Z"
   },
   {
    "duration": 11,
    "start_time": "2022-03-02T09:26:31.732Z"
   },
   {
    "duration": 8,
    "start_time": "2022-03-02T09:26:31.745Z"
   },
   {
    "duration": 13,
    "start_time": "2022-03-02T09:26:31.755Z"
   },
   {
    "duration": 12,
    "start_time": "2022-03-02T09:26:31.770Z"
   },
   {
    "duration": 23,
    "start_time": "2022-03-02T09:26:31.783Z"
   },
   {
    "duration": 6,
    "start_time": "2022-03-02T09:26:31.807Z"
   },
   {
    "duration": 20,
    "start_time": "2022-03-02T09:26:31.814Z"
   },
   {
    "duration": 3,
    "start_time": "2022-03-02T09:26:31.837Z"
   },
   {
    "duration": 13,
    "start_time": "2022-03-02T09:26:31.842Z"
   },
   {
    "duration": 9,
    "start_time": "2022-03-02T09:26:31.857Z"
   },
   {
    "duration": 15,
    "start_time": "2022-03-02T09:26:31.867Z"
   },
   {
    "duration": 28,
    "start_time": "2022-03-02T09:26:31.884Z"
   },
   {
    "duration": 11,
    "start_time": "2022-03-02T09:26:31.914Z"
   },
   {
    "duration": 14,
    "start_time": "2022-03-02T09:26:31.927Z"
   },
   {
    "duration": 10,
    "start_time": "2022-03-02T09:26:31.943Z"
   },
   {
    "duration": 16,
    "start_time": "2022-03-02T09:26:31.954Z"
   },
   {
    "duration": 11,
    "start_time": "2022-03-02T09:26:31.972Z"
   },
   {
    "duration": 26,
    "start_time": "2022-03-02T09:26:31.985Z"
   },
   {
    "duration": 8,
    "start_time": "2022-03-02T09:26:32.013Z"
   },
   {
    "duration": 16,
    "start_time": "2022-03-02T09:26:32.023Z"
   },
   {
    "duration": 31,
    "start_time": "2022-03-02T09:26:32.040Z"
   },
   {
    "duration": 21,
    "start_time": "2022-03-02T09:26:32.072Z"
   },
   {
    "duration": 27,
    "start_time": "2022-03-02T09:26:32.095Z"
   },
   {
    "duration": 7,
    "start_time": "2022-03-02T09:26:32.123Z"
   },
   {
    "duration": 287,
    "start_time": "2022-03-02T09:26:33.605Z"
   },
   {
    "duration": 15,
    "start_time": "2022-03-02T09:26:52.565Z"
   },
   {
    "duration": 4,
    "start_time": "2022-03-02T09:26:54.651Z"
   },
   {
    "duration": 3,
    "start_time": "2022-03-02T09:27:10.065Z"
   },
   {
    "duration": 52,
    "start_time": "2022-03-02T09:27:10.071Z"
   },
   {
    "duration": 10,
    "start_time": "2022-03-02T09:27:10.125Z"
   },
   {
    "duration": 8,
    "start_time": "2022-03-02T09:27:10.136Z"
   },
   {
    "duration": 4,
    "start_time": "2022-03-02T09:27:10.145Z"
   },
   {
    "duration": 4,
    "start_time": "2022-03-02T09:27:10.150Z"
   },
   {
    "duration": 4,
    "start_time": "2022-03-02T09:27:10.156Z"
   },
   {
    "duration": 42,
    "start_time": "2022-03-02T09:27:10.161Z"
   },
   {
    "duration": 9,
    "start_time": "2022-03-02T09:27:10.205Z"
   },
   {
    "duration": 11,
    "start_time": "2022-03-02T09:27:10.216Z"
   },
   {
    "duration": 4,
    "start_time": "2022-03-02T09:27:10.229Z"
   },
   {
    "duration": 13,
    "start_time": "2022-03-02T09:27:10.235Z"
   },
   {
    "duration": 9,
    "start_time": "2022-03-02T09:27:10.249Z"
   },
   {
    "duration": 16,
    "start_time": "2022-03-02T09:27:10.259Z"
   },
   {
    "duration": 5,
    "start_time": "2022-03-02T09:27:10.301Z"
   },
   {
    "duration": 4,
    "start_time": "2022-03-02T09:27:10.308Z"
   },
   {
    "duration": 7,
    "start_time": "2022-03-02T09:27:10.314Z"
   },
   {
    "duration": 9,
    "start_time": "2022-03-02T09:27:10.322Z"
   },
   {
    "duration": 7,
    "start_time": "2022-03-02T09:27:10.332Z"
   },
   {
    "duration": 9,
    "start_time": "2022-03-02T09:27:10.340Z"
   },
   {
    "duration": 21,
    "start_time": "2022-03-02T09:27:10.350Z"
   },
   {
    "duration": 6,
    "start_time": "2022-03-02T09:27:10.372Z"
   },
   {
    "duration": 31,
    "start_time": "2022-03-02T09:27:10.379Z"
   },
   {
    "duration": 3,
    "start_time": "2022-03-02T09:27:10.412Z"
   },
   {
    "duration": 11,
    "start_time": "2022-03-02T09:27:10.417Z"
   },
   {
    "duration": 7,
    "start_time": "2022-03-02T09:27:10.430Z"
   },
   {
    "duration": 11,
    "start_time": "2022-03-02T09:27:10.438Z"
   },
   {
    "duration": 20,
    "start_time": "2022-03-02T09:27:10.452Z"
   },
   {
    "duration": 34,
    "start_time": "2022-03-02T09:27:10.473Z"
   },
   {
    "duration": 3,
    "start_time": "2022-03-02T09:27:10.508Z"
   },
   {
    "duration": 7,
    "start_time": "2022-03-02T09:27:10.513Z"
   },
   {
    "duration": 9,
    "start_time": "2022-03-02T09:27:10.521Z"
   },
   {
    "duration": 6,
    "start_time": "2022-03-02T09:27:10.531Z"
   },
   {
    "duration": 17,
    "start_time": "2022-03-02T09:27:10.538Z"
   },
   {
    "duration": 4,
    "start_time": "2022-03-02T09:27:10.557Z"
   },
   {
    "duration": 7,
    "start_time": "2022-03-02T09:27:10.563Z"
   },
   {
    "duration": 42,
    "start_time": "2022-03-02T09:27:10.571Z"
   },
   {
    "duration": 18,
    "start_time": "2022-03-02T09:27:10.615Z"
   },
   {
    "duration": 30,
    "start_time": "2022-03-02T09:27:10.635Z"
   },
   {
    "duration": 6,
    "start_time": "2022-03-02T09:27:10.667Z"
   },
   {
    "duration": 12,
    "start_time": "2022-03-02T09:27:12.208Z"
   },
   {
    "duration": 4,
    "start_time": "2022-03-02T09:27:14.106Z"
   },
   {
    "duration": 292,
    "start_time": "2022-03-02T09:27:20.408Z"
   },
   {
    "duration": 272,
    "start_time": "2022-03-02T09:28:02.799Z"
   },
   {
    "duration": 305,
    "start_time": "2022-03-02T09:28:09.510Z"
   },
   {
    "duration": 2,
    "start_time": "2022-03-02T09:28:12.168Z"
   },
   {
    "duration": 60,
    "start_time": "2022-03-02T09:28:12.172Z"
   },
   {
    "duration": 12,
    "start_time": "2022-03-02T09:28:12.234Z"
   },
   {
    "duration": 8,
    "start_time": "2022-03-02T09:28:12.247Z"
   },
   {
    "duration": 4,
    "start_time": "2022-03-02T09:28:12.257Z"
   },
   {
    "duration": 9,
    "start_time": "2022-03-02T09:28:12.262Z"
   },
   {
    "duration": 4,
    "start_time": "2022-03-02T09:28:12.302Z"
   },
   {
    "duration": 6,
    "start_time": "2022-03-02T09:28:12.308Z"
   },
   {
    "duration": 10,
    "start_time": "2022-03-02T09:28:12.316Z"
   },
   {
    "duration": 19,
    "start_time": "2022-03-02T09:28:12.328Z"
   },
   {
    "duration": 4,
    "start_time": "2022-03-02T09:28:12.348Z"
   },
   {
    "duration": 16,
    "start_time": "2022-03-02T09:28:12.354Z"
   },
   {
    "duration": 4,
    "start_time": "2022-03-02T09:28:12.372Z"
   },
   {
    "duration": 31,
    "start_time": "2022-03-02T09:28:12.377Z"
   },
   {
    "duration": 5,
    "start_time": "2022-03-02T09:28:12.410Z"
   },
   {
    "duration": 11,
    "start_time": "2022-03-02T09:28:12.416Z"
   },
   {
    "duration": 10,
    "start_time": "2022-03-02T09:28:12.428Z"
   },
   {
    "duration": 11,
    "start_time": "2022-03-02T09:28:12.440Z"
   },
   {
    "duration": 9,
    "start_time": "2022-03-02T09:28:12.453Z"
   },
   {
    "duration": 11,
    "start_time": "2022-03-02T09:28:12.464Z"
   },
   {
    "duration": 20,
    "start_time": "2022-03-02T09:28:12.476Z"
   },
   {
    "duration": 5,
    "start_time": "2022-03-02T09:28:12.497Z"
   },
   {
    "duration": 14,
    "start_time": "2022-03-02T09:28:12.504Z"
   },
   {
    "duration": 3,
    "start_time": "2022-03-02T09:28:12.520Z"
   },
   {
    "duration": 15,
    "start_time": "2022-03-02T09:28:12.524Z"
   },
   {
    "duration": 8,
    "start_time": "2022-03-02T09:28:12.540Z"
   },
   {
    "duration": 15,
    "start_time": "2022-03-02T09:28:12.549Z"
   },
   {
    "duration": 19,
    "start_time": "2022-03-02T09:28:12.565Z"
   },
   {
    "duration": 20,
    "start_time": "2022-03-02T09:28:12.585Z"
   },
   {
    "duration": 3,
    "start_time": "2022-03-02T09:28:12.607Z"
   },
   {
    "duration": 8,
    "start_time": "2022-03-02T09:28:12.612Z"
   },
   {
    "duration": 11,
    "start_time": "2022-03-02T09:28:12.621Z"
   },
   {
    "duration": 6,
    "start_time": "2022-03-02T09:28:12.633Z"
   },
   {
    "duration": 15,
    "start_time": "2022-03-02T09:28:12.641Z"
   },
   {
    "duration": 7,
    "start_time": "2022-03-02T09:28:12.657Z"
   },
   {
    "duration": 13,
    "start_time": "2022-03-02T09:28:12.665Z"
   },
   {
    "duration": 33,
    "start_time": "2022-03-02T09:28:12.679Z"
   },
   {
    "duration": 16,
    "start_time": "2022-03-02T09:28:12.713Z"
   },
   {
    "duration": 25,
    "start_time": "2022-03-02T09:28:12.731Z"
   },
   {
    "duration": 6,
    "start_time": "2022-03-02T09:28:12.758Z"
   },
   {
    "duration": 15,
    "start_time": "2022-03-02T09:28:14.178Z"
   },
   {
    "duration": 6,
    "start_time": "2022-03-02T09:28:16.682Z"
   },
   {
    "duration": 4,
    "start_time": "2022-03-02T09:28:22.669Z"
   },
   {
    "duration": 3,
    "start_time": "2022-03-02T09:28:39.144Z"
   },
   {
    "duration": 55,
    "start_time": "2022-03-02T09:28:39.150Z"
   },
   {
    "duration": 10,
    "start_time": "2022-03-02T09:28:39.207Z"
   },
   {
    "duration": 9,
    "start_time": "2022-03-02T09:28:39.220Z"
   },
   {
    "duration": 5,
    "start_time": "2022-03-02T09:28:39.231Z"
   },
   {
    "duration": 5,
    "start_time": "2022-03-02T09:28:39.238Z"
   },
   {
    "duration": 5,
    "start_time": "2022-03-02T09:28:39.245Z"
   },
   {
    "duration": 54,
    "start_time": "2022-03-02T09:28:39.252Z"
   },
   {
    "duration": 8,
    "start_time": "2022-03-02T09:28:39.309Z"
   },
   {
    "duration": 13,
    "start_time": "2022-03-02T09:28:39.319Z"
   },
   {
    "duration": 4,
    "start_time": "2022-03-02T09:28:39.334Z"
   },
   {
    "duration": 13,
    "start_time": "2022-03-02T09:28:39.340Z"
   },
   {
    "duration": 13,
    "start_time": "2022-03-02T09:28:39.355Z"
   },
   {
    "duration": 36,
    "start_time": "2022-03-02T09:28:39.369Z"
   },
   {
    "duration": 9,
    "start_time": "2022-03-02T09:28:39.407Z"
   },
   {
    "duration": 7,
    "start_time": "2022-03-02T09:28:39.417Z"
   },
   {
    "duration": 11,
    "start_time": "2022-03-02T09:28:39.426Z"
   },
   {
    "duration": 14,
    "start_time": "2022-03-02T09:28:39.438Z"
   },
   {
    "duration": 8,
    "start_time": "2022-03-02T09:28:39.454Z"
   },
   {
    "duration": 7,
    "start_time": "2022-03-02T09:28:39.464Z"
   },
   {
    "duration": 21,
    "start_time": "2022-03-02T09:28:39.472Z"
   },
   {
    "duration": 8,
    "start_time": "2022-03-02T09:28:39.494Z"
   },
   {
    "duration": 15,
    "start_time": "2022-03-02T09:28:39.503Z"
   },
   {
    "duration": 3,
    "start_time": "2022-03-02T09:28:39.521Z"
   },
   {
    "duration": 17,
    "start_time": "2022-03-02T09:28:39.526Z"
   },
   {
    "duration": 7,
    "start_time": "2022-03-02T09:28:39.545Z"
   },
   {
    "duration": 12,
    "start_time": "2022-03-02T09:28:39.554Z"
   },
   {
    "duration": 28,
    "start_time": "2022-03-02T09:28:39.567Z"
   },
   {
    "duration": 9,
    "start_time": "2022-03-02T09:28:39.601Z"
   },
   {
    "duration": 6,
    "start_time": "2022-03-02T09:28:39.612Z"
   },
   {
    "duration": 13,
    "start_time": "2022-03-02T09:28:39.620Z"
   },
   {
    "duration": 11,
    "start_time": "2022-03-02T09:28:39.634Z"
   },
   {
    "duration": 9,
    "start_time": "2022-03-02T09:28:39.646Z"
   },
   {
    "duration": 20,
    "start_time": "2022-03-02T09:28:39.656Z"
   },
   {
    "duration": 3,
    "start_time": "2022-03-02T09:28:39.678Z"
   },
   {
    "duration": 22,
    "start_time": "2022-03-02T09:28:39.683Z"
   },
   {
    "duration": 29,
    "start_time": "2022-03-02T09:28:39.707Z"
   },
   {
    "duration": 21,
    "start_time": "2022-03-02T09:28:39.737Z"
   },
   {
    "duration": 27,
    "start_time": "2022-03-02T09:28:39.759Z"
   },
   {
    "duration": 5,
    "start_time": "2022-03-02T09:28:39.787Z"
   },
   {
    "duration": 20,
    "start_time": "2022-03-02T09:28:39.794Z"
   },
   {
    "duration": 3,
    "start_time": "2022-03-02T09:28:39.815Z"
   },
   {
    "duration": 22,
    "start_time": "2022-03-02T09:28:39.819Z"
   },
   {
    "duration": 11,
    "start_time": "2022-03-02T09:28:39.843Z"
   },
   {
    "duration": 6,
    "start_time": "2022-03-02T09:28:39.855Z"
   },
   {
    "duration": 24,
    "start_time": "2022-03-02T09:28:39.863Z"
   },
   {
    "duration": 13,
    "start_time": "2022-03-02T09:28:39.888Z"
   },
   {
    "duration": 13,
    "start_time": "2022-03-02T09:28:39.903Z"
   },
   {
    "duration": 11,
    "start_time": "2022-03-02T09:28:39.918Z"
   },
   {
    "duration": 4,
    "start_time": "2022-03-02T09:28:39.930Z"
   },
   {
    "duration": 14,
    "start_time": "2022-03-02T09:30:36.487Z"
   },
   {
    "duration": 15,
    "start_time": "2022-03-02T09:30:40.795Z"
   },
   {
    "duration": 16,
    "start_time": "2022-03-02T09:31:01.513Z"
   },
   {
    "duration": 15,
    "start_time": "2022-03-02T09:32:08.973Z"
   },
   {
    "duration": 14,
    "start_time": "2022-03-02T09:32:30.148Z"
   },
   {
    "duration": 16,
    "start_time": "2022-03-02T09:32:41.019Z"
   },
   {
    "duration": 15,
    "start_time": "2022-03-02T09:33:03.035Z"
   },
   {
    "duration": 14,
    "start_time": "2022-03-02T09:33:37.436Z"
   },
   {
    "duration": 100,
    "start_time": "2022-03-02T12:14:58.270Z"
   },
   {
    "duration": 2,
    "start_time": "2022-03-02T12:15:36.932Z"
   },
   {
    "duration": 51,
    "start_time": "2022-03-02T12:15:37.906Z"
   },
   {
    "duration": 10,
    "start_time": "2022-03-02T12:15:43.137Z"
   },
   {
    "duration": 5,
    "start_time": "2022-03-02T12:19:10.535Z"
   },
   {
    "duration": 4,
    "start_time": "2022-03-02T12:19:11.365Z"
   },
   {
    "duration": 9,
    "start_time": "2022-03-02T12:19:13.319Z"
   },
   {
    "duration": 9,
    "start_time": "2022-03-02T12:19:21.395Z"
   },
   {
    "duration": 3,
    "start_time": "2022-03-02T12:19:32.275Z"
   },
   {
    "duration": 63,
    "start_time": "2022-03-02T12:19:32.280Z"
   },
   {
    "duration": 9,
    "start_time": "2022-03-02T12:19:32.344Z"
   },
   {
    "duration": 8,
    "start_time": "2022-03-02T12:19:32.355Z"
   },
   {
    "duration": 5,
    "start_time": "2022-03-02T12:19:32.364Z"
   },
   {
    "duration": 4,
    "start_time": "2022-03-02T12:19:32.370Z"
   },
   {
    "duration": 25,
    "start_time": "2022-03-02T12:19:32.376Z"
   },
   {
    "duration": 3,
    "start_time": "2022-03-02T12:19:32.403Z"
   },
   {
    "duration": 5,
    "start_time": "2022-03-02T13:07:42.048Z"
   },
   {
    "duration": 2,
    "start_time": "2022-03-02T13:08:29.380Z"
   },
   {
    "duration": 69,
    "start_time": "2022-03-02T13:08:29.383Z"
   },
   {
    "duration": 15,
    "start_time": "2022-03-02T13:08:29.454Z"
   },
   {
    "duration": 13,
    "start_time": "2022-03-02T13:08:29.471Z"
   },
   {
    "duration": 15,
    "start_time": "2022-03-02T13:08:29.486Z"
   },
   {
    "duration": 4,
    "start_time": "2022-03-02T13:08:29.503Z"
   },
   {
    "duration": 7,
    "start_time": "2022-03-02T13:08:29.509Z"
   },
   {
    "duration": 784,
    "start_time": "2022-03-02T13:08:29.518Z"
   },
   {
    "duration": 4,
    "start_time": "2022-03-02T13:08:36.719Z"
   },
   {
    "duration": 10,
    "start_time": "2022-03-02T13:08:38.210Z"
   },
   {
    "duration": 18,
    "start_time": "2022-03-02T13:14:39.628Z"
   },
   {
    "duration": 6,
    "start_time": "2022-03-02T13:17:46.479Z"
   },
   {
    "duration": 11,
    "start_time": "2022-03-02T13:17:51.098Z"
   },
   {
    "duration": 3,
    "start_time": "2022-03-02T13:20:32.771Z"
   },
   {
    "duration": 64,
    "start_time": "2022-03-02T13:20:32.777Z"
   },
   {
    "duration": 9,
    "start_time": "2022-03-02T13:20:32.843Z"
   },
   {
    "duration": 9,
    "start_time": "2022-03-02T13:20:32.853Z"
   },
   {
    "duration": 4,
    "start_time": "2022-03-02T13:20:32.863Z"
   },
   {
    "duration": 7,
    "start_time": "2022-03-02T13:20:32.869Z"
   },
   {
    "duration": 25,
    "start_time": "2022-03-02T13:20:32.877Z"
   },
   {
    "duration": 3,
    "start_time": "2022-03-02T13:20:32.904Z"
   },
   {
    "duration": 8,
    "start_time": "2022-03-02T13:20:32.910Z"
   },
   {
    "duration": 13,
    "start_time": "2022-03-02T13:20:32.919Z"
   },
   {
    "duration": 5,
    "start_time": "2022-03-02T13:20:32.933Z"
   },
   {
    "duration": 15,
    "start_time": "2022-03-02T13:20:32.939Z"
   },
   {
    "duration": 10,
    "start_time": "2022-03-02T13:20:32.955Z"
   },
   {
    "duration": 40,
    "start_time": "2022-03-02T13:20:32.966Z"
   },
   {
    "duration": 6,
    "start_time": "2022-03-02T13:20:33.007Z"
   },
   {
    "duration": 6,
    "start_time": "2022-03-02T13:20:33.015Z"
   },
   {
    "duration": 4,
    "start_time": "2022-03-02T13:20:35.867Z"
   },
   {
    "duration": 5,
    "start_time": "2022-03-02T13:21:14.872Z"
   },
   {
    "duration": 5,
    "start_time": "2022-03-02T13:22:38.604Z"
   },
   {
    "duration": 6,
    "start_time": "2022-03-02T13:23:21.206Z"
   },
   {
    "duration": 5,
    "start_time": "2022-03-02T13:23:24.614Z"
   },
   {
    "duration": 113,
    "start_time": "2022-03-02T13:29:30.863Z"
   },
   {
    "duration": 7,
    "start_time": "2022-03-02T13:29:38.082Z"
   },
   {
    "duration": 6,
    "start_time": "2022-03-02T13:30:19.783Z"
   },
   {
    "duration": 3,
    "start_time": "2022-03-02T13:30:26.329Z"
   },
   {
    "duration": 55,
    "start_time": "2022-03-02T13:30:26.335Z"
   },
   {
    "duration": 10,
    "start_time": "2022-03-02T13:30:26.392Z"
   },
   {
    "duration": 9,
    "start_time": "2022-03-02T13:30:26.404Z"
   },
   {
    "duration": 5,
    "start_time": "2022-03-02T13:30:26.415Z"
   },
   {
    "duration": 5,
    "start_time": "2022-03-02T13:30:26.421Z"
   },
   {
    "duration": 7,
    "start_time": "2022-03-02T13:30:26.428Z"
   },
   {
    "duration": 7,
    "start_time": "2022-03-02T13:30:26.436Z"
   },
   {
    "duration": 13,
    "start_time": "2022-03-02T13:30:26.444Z"
   },
   {
    "duration": 14,
    "start_time": "2022-03-02T13:30:26.460Z"
   },
   {
    "duration": 28,
    "start_time": "2022-03-02T13:30:26.476Z"
   },
   {
    "duration": 12,
    "start_time": "2022-03-02T13:30:26.506Z"
   },
   {
    "duration": 5,
    "start_time": "2022-03-02T13:30:26.520Z"
   },
   {
    "duration": 14,
    "start_time": "2022-03-02T13:30:26.526Z"
   },
   {
    "duration": 9,
    "start_time": "2022-03-02T13:30:26.542Z"
   },
   {
    "duration": 7,
    "start_time": "2022-03-02T13:30:26.553Z"
   },
   {
    "duration": 10,
    "start_time": "2022-03-02T13:30:26.561Z"
   },
   {
    "duration": 16,
    "start_time": "2022-03-02T13:30:26.572Z"
   },
   {
    "duration": 14,
    "start_time": "2022-03-02T13:30:26.590Z"
   },
   {
    "duration": 10,
    "start_time": "2022-03-02T13:30:26.605Z"
   },
   {
    "duration": 6,
    "start_time": "2022-03-02T13:30:28.313Z"
   },
   {
    "duration": 5,
    "start_time": "2022-03-02T13:33:30.860Z"
   },
   {
    "duration": 6,
    "start_time": "2022-03-02T13:35:40.631Z"
   },
   {
    "duration": 6,
    "start_time": "2022-03-02T13:35:45.183Z"
   },
   {
    "duration": 2,
    "start_time": "2022-03-02T15:11:26.741Z"
   },
   {
    "duration": 62,
    "start_time": "2022-03-02T15:11:26.747Z"
   },
   {
    "duration": 9,
    "start_time": "2022-03-02T15:11:26.811Z"
   },
   {
    "duration": 11,
    "start_time": "2022-03-02T15:11:26.821Z"
   },
   {
    "duration": 4,
    "start_time": "2022-03-02T15:11:26.834Z"
   },
   {
    "duration": 5,
    "start_time": "2022-03-02T15:11:26.840Z"
   },
   {
    "duration": 8,
    "start_time": "2022-03-02T15:11:26.846Z"
   },
   {
    "duration": 4,
    "start_time": "2022-03-02T15:11:26.855Z"
   },
   {
    "duration": 16,
    "start_time": "2022-03-02T15:11:26.861Z"
   },
   {
    "duration": 36,
    "start_time": "2022-03-02T15:11:26.878Z"
   },
   {
    "duration": 6,
    "start_time": "2022-03-02T15:11:26.915Z"
   },
   {
    "duration": 25,
    "start_time": "2022-03-02T15:11:26.923Z"
   },
   {
    "duration": 14,
    "start_time": "2022-03-02T15:11:26.950Z"
   },
   {
    "duration": 15,
    "start_time": "2022-03-02T15:11:26.966Z"
   },
   {
    "duration": 19,
    "start_time": "2022-03-02T15:11:26.982Z"
   },
   {
    "duration": 3,
    "start_time": "2022-03-02T15:11:27.003Z"
   },
   {
    "duration": 10,
    "start_time": "2022-03-02T15:11:27.008Z"
   },
   {
    "duration": 9,
    "start_time": "2022-03-02T15:11:27.019Z"
   },
   {
    "duration": 8,
    "start_time": "2022-03-02T15:11:27.029Z"
   },
   {
    "duration": 9,
    "start_time": "2022-03-02T15:11:27.038Z"
   },
   {
    "duration": 13,
    "start_time": "2022-03-02T15:11:27.048Z"
   },
   {
    "duration": 18,
    "start_time": "2022-03-02T15:11:27.062Z"
   },
   {
    "duration": 6,
    "start_time": "2022-03-02T15:11:27.082Z"
   },
   {
    "duration": 14,
    "start_time": "2022-03-02T15:11:31.128Z"
   },
   {
    "duration": 5,
    "start_time": "2022-03-02T15:12:02.199Z"
   },
   {
    "duration": 11,
    "start_time": "2022-03-02T15:12:31.625Z"
   },
   {
    "duration": 94,
    "start_time": "2022-03-02T15:16:19.460Z"
   },
   {
    "duration": 10,
    "start_time": "2022-03-02T15:27:22.708Z"
   },
   {
    "duration": 7,
    "start_time": "2022-03-02T15:27:23.497Z"
   },
   {
    "duration": 8,
    "start_time": "2022-03-02T15:27:24.214Z"
   },
   {
    "duration": 5,
    "start_time": "2022-03-02T15:27:27.386Z"
   },
   {
    "duration": 14,
    "start_time": "2022-03-02T15:27:33.536Z"
   },
   {
    "duration": 3,
    "start_time": "2022-03-02T15:28:06.703Z"
   },
   {
    "duration": 53,
    "start_time": "2022-03-02T15:28:06.709Z"
   },
   {
    "duration": 9,
    "start_time": "2022-03-02T15:28:06.764Z"
   },
   {
    "duration": 27,
    "start_time": "2022-03-02T15:28:06.775Z"
   },
   {
    "duration": 5,
    "start_time": "2022-03-02T15:28:06.803Z"
   },
   {
    "duration": 6,
    "start_time": "2022-03-02T15:28:06.809Z"
   },
   {
    "duration": 4,
    "start_time": "2022-03-02T15:28:06.816Z"
   },
   {
    "duration": 5,
    "start_time": "2022-03-02T15:28:06.821Z"
   },
   {
    "duration": 8,
    "start_time": "2022-03-02T15:28:06.828Z"
   },
   {
    "duration": 20,
    "start_time": "2022-03-02T15:28:06.839Z"
   },
   {
    "duration": 4,
    "start_time": "2022-03-02T15:28:06.861Z"
   },
   {
    "duration": 40,
    "start_time": "2022-03-02T15:28:06.867Z"
   },
   {
    "duration": 5,
    "start_time": "2022-03-02T15:28:06.908Z"
   },
   {
    "duration": 12,
    "start_time": "2022-03-02T15:28:06.914Z"
   },
   {
    "duration": 5,
    "start_time": "2022-03-02T15:28:06.927Z"
   },
   {
    "duration": 8,
    "start_time": "2022-03-02T15:28:06.934Z"
   },
   {
    "duration": 10,
    "start_time": "2022-03-02T15:28:06.943Z"
   },
   {
    "duration": 9,
    "start_time": "2022-03-02T15:28:06.954Z"
   },
   {
    "duration": 7,
    "start_time": "2022-03-02T15:28:06.965Z"
   },
   {
    "duration": 8,
    "start_time": "2022-03-02T15:28:06.973Z"
   },
   {
    "duration": 20,
    "start_time": "2022-03-02T15:28:06.982Z"
   },
   {
    "duration": 14,
    "start_time": "2022-03-02T15:28:07.003Z"
   },
   {
    "duration": 4,
    "start_time": "2022-03-02T15:28:07.018Z"
   },
   {
    "duration": 15,
    "start_time": "2022-03-02T15:28:07.024Z"
   },
   {
    "duration": 3,
    "start_time": "2022-03-02T15:28:07.041Z"
   },
   {
    "duration": 14,
    "start_time": "2022-03-02T15:28:07.045Z"
   },
   {
    "duration": 10,
    "start_time": "2022-03-02T15:28:07.060Z"
   },
   {
    "duration": 29,
    "start_time": "2022-03-02T15:28:07.073Z"
   },
   {
    "duration": 17,
    "start_time": "2022-03-02T15:28:07.104Z"
   },
   {
    "duration": 9,
    "start_time": "2022-03-02T15:28:07.122Z"
   },
   {
    "duration": 8,
    "start_time": "2022-03-02T15:28:07.133Z"
   },
   {
    "duration": 11,
    "start_time": "2022-03-02T15:28:07.142Z"
   },
   {
    "duration": 8,
    "start_time": "2022-03-02T15:28:09.623Z"
   },
   {
    "duration": 14,
    "start_time": "2022-03-02T15:28:10.184Z"
   },
   {
    "duration": 4,
    "start_time": "2022-03-02T15:28:57.102Z"
   },
   {
    "duration": 2,
    "start_time": "2022-03-02T18:02:38.116Z"
   },
   {
    "duration": 66,
    "start_time": "2022-03-02T18:02:38.120Z"
   },
   {
    "duration": 9,
    "start_time": "2022-03-02T18:02:38.188Z"
   },
   {
    "duration": 9,
    "start_time": "2022-03-02T18:02:38.199Z"
   },
   {
    "duration": 4,
    "start_time": "2022-03-02T18:02:38.210Z"
   },
   {
    "duration": 6,
    "start_time": "2022-03-02T18:02:38.216Z"
   },
   {
    "duration": 5,
    "start_time": "2022-03-02T18:02:38.224Z"
   },
   {
    "duration": 4,
    "start_time": "2022-03-02T18:02:38.231Z"
   },
   {
    "duration": 12,
    "start_time": "2022-03-02T18:02:38.236Z"
   },
   {
    "duration": 15,
    "start_time": "2022-03-02T18:02:38.250Z"
   },
   {
    "duration": 36,
    "start_time": "2022-03-02T18:02:38.266Z"
   },
   {
    "duration": 12,
    "start_time": "2022-03-02T18:02:38.303Z"
   },
   {
    "duration": 6,
    "start_time": "2022-03-02T18:02:38.316Z"
   },
   {
    "duration": 12,
    "start_time": "2022-03-02T18:02:38.323Z"
   },
   {
    "duration": 5,
    "start_time": "2022-03-02T18:02:38.336Z"
   },
   {
    "duration": 13,
    "start_time": "2022-03-02T18:02:38.342Z"
   },
   {
    "duration": 11,
    "start_time": "2022-03-02T18:02:38.356Z"
   },
   {
    "duration": 10,
    "start_time": "2022-03-02T18:02:38.368Z"
   },
   {
    "duration": 22,
    "start_time": "2022-03-02T18:02:38.380Z"
   },
   {
    "duration": 2,
    "start_time": "2022-03-02T18:02:38.404Z"
   },
   {
    "duration": 9,
    "start_time": "2022-03-02T18:02:38.407Z"
   },
   {
    "duration": 18,
    "start_time": "2022-03-02T18:02:38.417Z"
   },
   {
    "duration": 5,
    "start_time": "2022-03-02T18:02:38.437Z"
   },
   {
    "duration": 13,
    "start_time": "2022-03-02T18:02:38.444Z"
   },
   {
    "duration": 4,
    "start_time": "2022-03-02T18:02:38.459Z"
   },
   {
    "duration": 41,
    "start_time": "2022-03-02T18:02:38.465Z"
   },
   {
    "duration": 8,
    "start_time": "2022-03-02T18:02:38.509Z"
   },
   {
    "duration": 7,
    "start_time": "2022-03-02T18:02:38.519Z"
   },
   {
    "duration": 19,
    "start_time": "2022-03-02T18:02:38.528Z"
   },
   {
    "duration": 9,
    "start_time": "2022-03-02T18:02:38.548Z"
   },
   {
    "duration": 7,
    "start_time": "2022-03-02T18:02:38.558Z"
   },
   {
    "duration": 41,
    "start_time": "2022-03-02T18:02:38.566Z"
   },
   {
    "duration": 4,
    "start_time": "2022-03-02T18:02:38.608Z"
   },
   {
    "duration": 22,
    "start_time": "2022-03-02T18:02:38.614Z"
   },
   {
    "duration": 2,
    "start_time": "2022-03-02T18:03:10.109Z"
   },
   {
    "duration": 53,
    "start_time": "2022-03-02T18:03:10.114Z"
   },
   {
    "duration": 9,
    "start_time": "2022-03-02T18:03:10.168Z"
   },
   {
    "duration": 9,
    "start_time": "2022-03-02T18:03:10.179Z"
   },
   {
    "duration": 4,
    "start_time": "2022-03-02T18:03:10.201Z"
   },
   {
    "duration": 4,
    "start_time": "2022-03-02T18:03:10.206Z"
   },
   {
    "duration": 3,
    "start_time": "2022-03-02T18:03:10.212Z"
   },
   {
    "duration": 3,
    "start_time": "2022-03-02T18:03:10.217Z"
   },
   {
    "duration": 10,
    "start_time": "2022-03-02T18:03:10.222Z"
   },
   {
    "duration": 12,
    "start_time": "2022-03-02T18:03:10.234Z"
   },
   {
    "duration": 6,
    "start_time": "2022-03-02T18:03:10.247Z"
   },
   {
    "duration": 15,
    "start_time": "2022-03-02T18:03:10.254Z"
   },
   {
    "duration": 34,
    "start_time": "2022-03-02T18:03:10.270Z"
   },
   {
    "duration": 12,
    "start_time": "2022-03-02T18:03:10.305Z"
   },
   {
    "duration": 5,
    "start_time": "2022-03-02T18:03:10.319Z"
   },
   {
    "duration": 5,
    "start_time": "2022-03-02T18:03:10.325Z"
   },
   {
    "duration": 9,
    "start_time": "2022-03-02T18:03:10.332Z"
   },
   {
    "duration": 8,
    "start_time": "2022-03-02T18:03:10.343Z"
   },
   {
    "duration": 7,
    "start_time": "2022-03-02T18:03:10.353Z"
   },
   {
    "duration": 8,
    "start_time": "2022-03-02T18:03:10.362Z"
   },
   {
    "duration": 9,
    "start_time": "2022-03-02T18:03:10.371Z"
   },
   {
    "duration": 35,
    "start_time": "2022-03-02T18:03:10.381Z"
   },
   {
    "duration": 5,
    "start_time": "2022-03-02T18:03:10.417Z"
   },
   {
    "duration": 20,
    "start_time": "2022-03-02T18:03:10.424Z"
   },
   {
    "duration": 4,
    "start_time": "2022-03-02T18:03:10.445Z"
   },
   {
    "duration": 13,
    "start_time": "2022-03-02T18:03:10.450Z"
   },
   {
    "duration": 7,
    "start_time": "2022-03-02T18:03:10.464Z"
   },
   {
    "duration": 32,
    "start_time": "2022-03-02T18:03:10.473Z"
   },
   {
    "duration": 17,
    "start_time": "2022-03-02T18:03:10.507Z"
   },
   {
    "duration": 9,
    "start_time": "2022-03-02T18:03:10.526Z"
   },
   {
    "duration": 10,
    "start_time": "2022-03-02T18:03:10.537Z"
   },
   {
    "duration": 15,
    "start_time": "2022-03-02T18:03:10.548Z"
   },
   {
    "duration": 593,
    "start_time": "2022-03-02T18:03:39.867Z"
   },
   {
    "duration": 60,
    "start_time": "2022-03-02T18:03:40.462Z"
   },
   {
    "duration": 10,
    "start_time": "2022-03-02T18:03:40.524Z"
   },
   {
    "duration": 9,
    "start_time": "2022-03-02T18:03:40.536Z"
   },
   {
    "duration": 5,
    "start_time": "2022-03-02T18:03:40.547Z"
   },
   {
    "duration": 4,
    "start_time": "2022-03-02T18:03:40.553Z"
   },
   {
    "duration": 5,
    "start_time": "2022-03-02T18:03:40.558Z"
   },
   {
    "duration": 40,
    "start_time": "2022-03-02T18:03:40.565Z"
   },
   {
    "duration": 8,
    "start_time": "2022-03-02T18:03:40.607Z"
   },
   {
    "duration": 13,
    "start_time": "2022-03-02T18:03:40.616Z"
   },
   {
    "duration": 4,
    "start_time": "2022-03-02T18:03:40.631Z"
   },
   {
    "duration": 14,
    "start_time": "2022-03-02T18:03:40.637Z"
   },
   {
    "duration": 8,
    "start_time": "2022-03-02T18:03:40.652Z"
   },
   {
    "duration": 39,
    "start_time": "2022-03-02T18:03:40.662Z"
   },
   {
    "duration": 6,
    "start_time": "2022-03-02T18:03:40.702Z"
   },
   {
    "duration": 5,
    "start_time": "2022-03-02T18:03:40.709Z"
   },
   {
    "duration": 9,
    "start_time": "2022-03-02T18:03:40.716Z"
   },
   {
    "duration": 8,
    "start_time": "2022-03-02T18:03:40.727Z"
   },
   {
    "duration": 8,
    "start_time": "2022-03-02T18:03:40.737Z"
   },
   {
    "duration": 8,
    "start_time": "2022-03-02T18:03:40.746Z"
   },
   {
    "duration": 10,
    "start_time": "2022-03-02T18:03:40.755Z"
   },
   {
    "duration": 19,
    "start_time": "2022-03-02T18:03:40.766Z"
   },
   {
    "duration": 15,
    "start_time": "2022-03-02T18:03:40.788Z"
   },
   {
    "duration": 14,
    "start_time": "2022-03-02T18:03:40.805Z"
   },
   {
    "duration": 4,
    "start_time": "2022-03-02T18:03:40.821Z"
   },
   {
    "duration": 13,
    "start_time": "2022-03-02T18:03:40.826Z"
   },
   {
    "duration": 10,
    "start_time": "2022-03-02T18:03:40.840Z"
   },
   {
    "duration": 8,
    "start_time": "2022-03-02T18:03:40.852Z"
   },
   {
    "duration": 48,
    "start_time": "2022-03-02T18:03:40.861Z"
   },
   {
    "duration": 10,
    "start_time": "2022-03-02T18:03:40.911Z"
   },
   {
    "duration": 7,
    "start_time": "2022-03-02T18:03:40.923Z"
   },
   {
    "duration": 13,
    "start_time": "2022-03-02T18:03:44.596Z"
   },
   {
    "duration": 7,
    "start_time": "2022-03-02T18:03:55.133Z"
   },
   {
    "duration": 4,
    "start_time": "2022-03-02T18:03:56.226Z"
   },
   {
    "duration": 12,
    "start_time": "2022-03-02T18:03:58.133Z"
   },
   {
    "duration": 13,
    "start_time": "2022-03-02T18:04:29.396Z"
   },
   {
    "duration": 2,
    "start_time": "2022-03-02T18:04:44.698Z"
   },
   {
    "duration": 66,
    "start_time": "2022-03-02T18:04:44.702Z"
   },
   {
    "duration": 9,
    "start_time": "2022-03-02T18:04:44.769Z"
   },
   {
    "duration": 23,
    "start_time": "2022-03-02T18:04:44.780Z"
   },
   {
    "duration": 9,
    "start_time": "2022-03-02T18:04:44.804Z"
   },
   {
    "duration": 19,
    "start_time": "2022-03-02T18:04:44.815Z"
   },
   {
    "duration": 14,
    "start_time": "2022-03-02T18:04:44.836Z"
   },
   {
    "duration": 21,
    "start_time": "2022-03-02T18:04:44.852Z"
   },
   {
    "duration": 26,
    "start_time": "2022-03-02T18:04:44.874Z"
   },
   {
    "duration": 30,
    "start_time": "2022-03-02T18:04:44.901Z"
   },
   {
    "duration": 10,
    "start_time": "2022-03-02T18:04:44.932Z"
   },
   {
    "duration": 17,
    "start_time": "2022-03-02T18:04:44.943Z"
   },
   {
    "duration": 8,
    "start_time": "2022-03-02T18:04:44.961Z"
   },
   {
    "duration": 23,
    "start_time": "2022-03-02T18:04:44.970Z"
   },
   {
    "duration": 29,
    "start_time": "2022-03-02T18:04:44.994Z"
   },
   {
    "duration": 13,
    "start_time": "2022-03-02T18:04:45.025Z"
   },
   {
    "duration": 18,
    "start_time": "2022-03-02T18:04:45.040Z"
   },
   {
    "duration": 12,
    "start_time": "2022-03-02T18:04:45.060Z"
   },
   {
    "duration": 12,
    "start_time": "2022-03-02T18:04:45.075Z"
   },
   {
    "duration": 16,
    "start_time": "2022-03-02T18:04:45.088Z"
   },
   {
    "duration": 10,
    "start_time": "2022-03-02T18:04:45.105Z"
   },
   {
    "duration": 19,
    "start_time": "2022-03-02T18:04:45.117Z"
   },
   {
    "duration": 5,
    "start_time": "2022-03-02T18:04:45.138Z"
   },
   {
    "duration": 16,
    "start_time": "2022-03-02T18:04:45.144Z"
   },
   {
    "duration": 4,
    "start_time": "2022-03-02T18:04:45.161Z"
   },
   {
    "duration": 13,
    "start_time": "2022-03-02T18:04:45.166Z"
   },
   {
    "duration": 21,
    "start_time": "2022-03-02T18:04:45.181Z"
   },
   {
    "duration": 6,
    "start_time": "2022-03-02T18:04:45.203Z"
   },
   {
    "duration": 22,
    "start_time": "2022-03-02T18:04:45.210Z"
   },
   {
    "duration": 10,
    "start_time": "2022-03-02T18:04:45.234Z"
   },
   {
    "duration": 7,
    "start_time": "2022-03-02T18:04:47.392Z"
   },
   {
    "duration": 11,
    "start_time": "2022-03-02T18:04:48.546Z"
   },
   {
    "duration": 3,
    "start_time": "2022-03-02T18:05:15.997Z"
   },
   {
    "duration": 55,
    "start_time": "2022-03-02T18:05:16.001Z"
   },
   {
    "duration": 9,
    "start_time": "2022-03-02T18:05:16.057Z"
   },
   {
    "duration": 8,
    "start_time": "2022-03-02T18:05:16.068Z"
   },
   {
    "duration": 34,
    "start_time": "2022-03-02T18:05:16.077Z"
   },
   {
    "duration": 4,
    "start_time": "2022-03-02T18:05:16.112Z"
   },
   {
    "duration": 5,
    "start_time": "2022-03-02T18:05:16.117Z"
   },
   {
    "duration": 4,
    "start_time": "2022-03-02T18:05:16.124Z"
   },
   {
    "duration": 3,
    "start_time": "2022-03-02T18:05:16.131Z"
   },
   {
    "duration": 10,
    "start_time": "2022-03-02T18:05:16.136Z"
   },
   {
    "duration": 14,
    "start_time": "2022-03-02T18:05:16.147Z"
   },
   {
    "duration": 41,
    "start_time": "2022-03-02T18:05:16.162Z"
   },
   {
    "duration": 12,
    "start_time": "2022-03-02T18:05:16.204Z"
   },
   {
    "duration": 6,
    "start_time": "2022-03-02T18:05:16.218Z"
   },
   {
    "duration": 14,
    "start_time": "2022-03-02T18:05:16.225Z"
   },
   {
    "duration": 7,
    "start_time": "2022-03-02T18:05:16.241Z"
   },
   {
    "duration": 6,
    "start_time": "2022-03-02T18:05:16.250Z"
   },
   {
    "duration": 10,
    "start_time": "2022-03-02T18:05:16.258Z"
   },
   {
    "duration": 12,
    "start_time": "2022-03-02T18:05:16.269Z"
   },
   {
    "duration": 21,
    "start_time": "2022-03-02T18:05:16.283Z"
   },
   {
    "duration": 7,
    "start_time": "2022-03-02T18:05:16.305Z"
   },
   {
    "duration": 10,
    "start_time": "2022-03-02T18:05:16.313Z"
   },
   {
    "duration": 19,
    "start_time": "2022-03-02T18:05:16.324Z"
   },
   {
    "duration": 5,
    "start_time": "2022-03-02T18:05:16.345Z"
   },
   {
    "duration": 13,
    "start_time": "2022-03-02T18:05:16.351Z"
   },
   {
    "duration": 3,
    "start_time": "2022-03-02T18:05:16.366Z"
   },
   {
    "duration": 11,
    "start_time": "2022-03-02T18:05:16.373Z"
   },
   {
    "duration": 6,
    "start_time": "2022-03-02T18:05:16.401Z"
   },
   {
    "duration": 12,
    "start_time": "2022-03-02T18:05:16.408Z"
   },
   {
    "duration": 18,
    "start_time": "2022-03-02T18:05:16.421Z"
   },
   {
    "duration": 10,
    "start_time": "2022-03-02T18:05:16.441Z"
   },
   {
    "duration": 7,
    "start_time": "2022-03-02T18:05:16.453Z"
   },
   {
    "duration": 13,
    "start_time": "2022-03-02T18:05:16.461Z"
   },
   {
    "duration": 38,
    "start_time": "2022-03-02T18:05:16.475Z"
   },
   {
    "duration": 7,
    "start_time": "2022-03-02T18:05:16.514Z"
   },
   {
    "duration": 4,
    "start_time": "2022-03-02T18:05:16.523Z"
   },
   {
    "duration": 17,
    "start_time": "2022-03-02T18:05:16.528Z"
   },
   {
    "duration": 4,
    "start_time": "2022-03-02T18:05:16.546Z"
   },
   {
    "duration": 11,
    "start_time": "2022-03-02T18:05:16.552Z"
   },
   {
    "duration": 37,
    "start_time": "2022-03-02T18:05:16.565Z"
   },
   {
    "duration": 15,
    "start_time": "2022-03-02T18:05:16.603Z"
   },
   {
    "duration": 25,
    "start_time": "2022-03-02T18:05:16.619Z"
   },
   {
    "duration": 4,
    "start_time": "2022-03-02T18:05:16.646Z"
   },
   {
    "duration": 14,
    "start_time": "2022-03-02T18:05:16.652Z"
   },
   {
    "duration": 33,
    "start_time": "2022-03-02T18:05:16.668Z"
   },
   {
    "duration": 18,
    "start_time": "2022-03-02T18:05:16.703Z"
   },
   {
    "duration": 6,
    "start_time": "2022-03-02T18:05:16.722Z"
   },
   {
    "duration": 4,
    "start_time": "2022-03-02T18:05:16.730Z"
   },
   {
    "duration": 27,
    "start_time": "2022-03-02T18:05:16.735Z"
   },
   {
    "duration": 11,
    "start_time": "2022-03-02T18:05:16.763Z"
   },
   {
    "duration": 17,
    "start_time": "2022-03-02T18:05:16.776Z"
   },
   {
    "duration": 17,
    "start_time": "2022-03-02T18:05:16.795Z"
   },
   {
    "duration": 4,
    "start_time": "2022-03-02T18:05:16.813Z"
   },
   {
    "duration": 19,
    "start_time": "2022-03-02T18:05:16.818Z"
   },
   {
    "duration": 15,
    "start_time": "2022-03-02T18:05:16.838Z"
   },
   {
    "duration": 2,
    "start_time": "2022-03-02T18:17:43.628Z"
   },
   {
    "duration": 54,
    "start_time": "2022-03-02T18:17:43.632Z"
   },
   {
    "duration": 9,
    "start_time": "2022-03-02T18:17:43.688Z"
   },
   {
    "duration": 8,
    "start_time": "2022-03-02T18:17:43.699Z"
   },
   {
    "duration": 5,
    "start_time": "2022-03-02T18:17:43.708Z"
   },
   {
    "duration": 11,
    "start_time": "2022-03-02T18:17:43.714Z"
   },
   {
    "duration": 4,
    "start_time": "2022-03-02T18:17:43.727Z"
   },
   {
    "duration": 3,
    "start_time": "2022-03-02T18:17:43.733Z"
   },
   {
    "duration": 14,
    "start_time": "2022-03-02T18:17:43.738Z"
   },
   {
    "duration": 12,
    "start_time": "2022-03-02T18:17:43.754Z"
   },
   {
    "duration": 5,
    "start_time": "2022-03-02T18:17:43.767Z"
   },
   {
    "duration": 38,
    "start_time": "2022-03-02T18:17:43.773Z"
   },
   {
    "duration": 5,
    "start_time": "2022-03-02T18:17:43.812Z"
   },
   {
    "duration": 17,
    "start_time": "2022-03-02T18:17:43.818Z"
   },
   {
    "duration": 9,
    "start_time": "2022-03-02T18:17:43.836Z"
   },
   {
    "duration": 8,
    "start_time": "2022-03-02T18:17:43.847Z"
   },
   {
    "duration": 10,
    "start_time": "2022-03-02T18:17:43.857Z"
   },
   {
    "duration": 9,
    "start_time": "2022-03-02T18:17:43.868Z"
   },
   {
    "duration": 8,
    "start_time": "2022-03-02T18:17:43.881Z"
   },
   {
    "duration": 3,
    "start_time": "2022-03-02T18:17:43.900Z"
   },
   {
    "duration": 13,
    "start_time": "2022-03-02T18:17:43.905Z"
   },
   {
    "duration": 19,
    "start_time": "2022-03-02T18:17:43.919Z"
   },
   {
    "duration": 6,
    "start_time": "2022-03-02T18:17:43.940Z"
   },
   {
    "duration": 14,
    "start_time": "2022-03-02T18:17:43.948Z"
   },
   {
    "duration": 4,
    "start_time": "2022-03-02T18:17:43.964Z"
   },
   {
    "duration": 33,
    "start_time": "2022-03-02T18:17:43.969Z"
   },
   {
    "duration": 7,
    "start_time": "2022-03-02T18:17:44.004Z"
   },
   {
    "duration": 7,
    "start_time": "2022-03-02T18:17:44.012Z"
   },
   {
    "duration": 24,
    "start_time": "2022-03-02T18:17:44.020Z"
   },
   {
    "duration": 9,
    "start_time": "2022-03-02T18:17:44.045Z"
   },
   {
    "duration": 5,
    "start_time": "2022-03-02T18:17:44.056Z"
   },
   {
    "duration": 11,
    "start_time": "2022-03-02T18:17:50.284Z"
   },
   {
    "duration": 3,
    "start_time": "2022-03-02T18:18:25.524Z"
   },
   {
    "duration": 63,
    "start_time": "2022-03-02T18:18:25.529Z"
   },
   {
    "duration": 13,
    "start_time": "2022-03-02T18:18:25.595Z"
   },
   {
    "duration": 10,
    "start_time": "2022-03-02T18:18:25.610Z"
   },
   {
    "duration": 6,
    "start_time": "2022-03-02T18:18:25.622Z"
   },
   {
    "duration": 5,
    "start_time": "2022-03-02T18:18:25.629Z"
   },
   {
    "duration": 4,
    "start_time": "2022-03-02T18:18:25.637Z"
   },
   {
    "duration": 6,
    "start_time": "2022-03-02T18:18:25.643Z"
   },
   {
    "duration": 9,
    "start_time": "2022-03-02T18:18:25.651Z"
   },
   {
    "duration": 50,
    "start_time": "2022-03-02T18:18:25.661Z"
   },
   {
    "duration": 4,
    "start_time": "2022-03-02T18:18:25.713Z"
   },
   {
    "duration": 13,
    "start_time": "2022-03-02T18:18:25.719Z"
   },
   {
    "duration": 7,
    "start_time": "2022-03-02T18:18:25.734Z"
   },
   {
    "duration": 15,
    "start_time": "2022-03-02T18:18:25.742Z"
   },
   {
    "duration": 7,
    "start_time": "2022-03-02T18:18:25.759Z"
   },
   {
    "duration": 35,
    "start_time": "2022-03-02T18:18:25.767Z"
   },
   {
    "duration": 5,
    "start_time": "2022-03-02T18:18:25.804Z"
   },
   {
    "duration": 4,
    "start_time": "2022-03-02T18:18:25.811Z"
   },
   {
    "duration": 12,
    "start_time": "2022-03-02T18:18:25.818Z"
   },
   {
    "duration": 10,
    "start_time": "2022-03-02T18:18:25.831Z"
   },
   {
    "duration": 11,
    "start_time": "2022-03-02T18:18:25.842Z"
   },
   {
    "duration": 20,
    "start_time": "2022-03-02T18:18:25.854Z"
   },
   {
    "duration": 6,
    "start_time": "2022-03-02T18:18:25.875Z"
   },
   {
    "duration": 26,
    "start_time": "2022-03-02T18:18:25.883Z"
   },
   {
    "duration": 4,
    "start_time": "2022-03-02T18:18:25.911Z"
   },
   {
    "duration": 13,
    "start_time": "2022-03-02T18:18:25.916Z"
   },
   {
    "duration": 7,
    "start_time": "2022-03-02T18:18:25.931Z"
   },
   {
    "duration": 8,
    "start_time": "2022-03-02T18:18:25.940Z"
   },
   {
    "duration": 25,
    "start_time": "2022-03-02T18:18:25.950Z"
   },
   {
    "duration": 33,
    "start_time": "2022-03-02T18:18:25.977Z"
   },
   {
    "duration": 8,
    "start_time": "2022-03-02T18:18:26.011Z"
   },
   {
    "duration": 12,
    "start_time": "2022-03-02T18:18:26.020Z"
   },
   {
    "duration": 14,
    "start_time": "2022-03-02T18:18:51.430Z"
   },
   {
    "duration": 67,
    "start_time": "2022-03-02T18:55:11.252Z"
   },
   {
    "duration": 4,
    "start_time": "2022-03-02T18:56:53.449Z"
   },
   {
    "duration": 16,
    "start_time": "2022-03-02T18:57:15.418Z"
   },
   {
    "duration": 3,
    "start_time": "2022-03-02T18:57:35.055Z"
   },
   {
    "duration": 69,
    "start_time": "2022-03-02T18:57:35.059Z"
   },
   {
    "duration": 9,
    "start_time": "2022-03-02T18:57:35.130Z"
   },
   {
    "duration": 8,
    "start_time": "2022-03-02T18:57:35.141Z"
   },
   {
    "duration": 4,
    "start_time": "2022-03-02T18:57:35.151Z"
   },
   {
    "duration": 4,
    "start_time": "2022-03-02T18:57:35.157Z"
   },
   {
    "duration": 6,
    "start_time": "2022-03-02T18:57:35.162Z"
   },
   {
    "duration": 5,
    "start_time": "2022-03-02T18:57:35.169Z"
   },
   {
    "duration": 6,
    "start_time": "2022-03-02T18:57:53.164Z"
   },
   {
    "duration": 3,
    "start_time": "2022-03-02T19:17:53.161Z"
   },
   {
    "duration": 57,
    "start_time": "2022-03-02T19:17:53.167Z"
   },
   {
    "duration": 9,
    "start_time": "2022-03-02T19:17:53.226Z"
   },
   {
    "duration": 7,
    "start_time": "2022-03-02T19:17:53.237Z"
   },
   {
    "duration": 4,
    "start_time": "2022-03-02T19:17:53.246Z"
   },
   {
    "duration": 5,
    "start_time": "2022-03-02T19:17:53.251Z"
   },
   {
    "duration": 3,
    "start_time": "2022-03-02T19:17:53.258Z"
   },
   {
    "duration": 5,
    "start_time": "2022-03-02T19:17:53.262Z"
   },
   {
    "duration": 4,
    "start_time": "2022-03-02T19:17:56.640Z"
   },
   {
    "duration": 4,
    "start_time": "2022-03-02T19:17:57.448Z"
   },
   {
    "duration": 15,
    "start_time": "2022-03-02T19:17:58.049Z"
   },
   {
    "duration": 5,
    "start_time": "2022-03-02T19:18:01.958Z"
   },
   {
    "duration": 10,
    "start_time": "2022-03-02T19:18:05.641Z"
   },
   {
    "duration": 12,
    "start_time": "2022-03-02T19:18:09.424Z"
   },
   {
    "duration": 6,
    "start_time": "2022-03-02T19:18:10.883Z"
   },
   {
    "duration": 13,
    "start_time": "2022-03-02T19:18:11.194Z"
   },
   {
    "duration": 6,
    "start_time": "2022-03-02T19:18:11.563Z"
   },
   {
    "duration": 12,
    "start_time": "2022-03-02T19:18:11.796Z"
   },
   {
    "duration": 7,
    "start_time": "2022-03-02T19:18:12.200Z"
   },
   {
    "duration": 4,
    "start_time": "2022-03-02T19:18:12.377Z"
   },
   {
    "duration": 6,
    "start_time": "2022-03-02T19:18:13.165Z"
   },
   {
    "duration": 5,
    "start_time": "2022-03-02T19:18:13.551Z"
   },
   {
    "duration": 5,
    "start_time": "2022-03-02T19:18:13.742Z"
   },
   {
    "duration": 16,
    "start_time": "2022-03-02T19:18:20.721Z"
   },
   {
    "duration": 6,
    "start_time": "2022-03-02T19:18:21.382Z"
   },
   {
    "duration": 13,
    "start_time": "2022-03-02T19:18:22.628Z"
   },
   {
    "duration": 4,
    "start_time": "2022-03-02T19:18:23.106Z"
   },
   {
    "duration": 9,
    "start_time": "2022-03-02T19:18:23.460Z"
   },
   {
    "duration": 6,
    "start_time": "2022-03-02T19:18:24.940Z"
   },
   {
    "duration": 7,
    "start_time": "2022-03-02T19:18:25.638Z"
   },
   {
    "duration": 18,
    "start_time": "2022-03-02T19:18:27.814Z"
   },
   {
    "duration": 10,
    "start_time": "2022-03-02T19:18:31.661Z"
   },
   {
    "duration": 7,
    "start_time": "2022-03-02T19:18:33.190Z"
   },
   {
    "duration": 12,
    "start_time": "2022-03-02T19:18:34.199Z"
   },
   {
    "duration": 13,
    "start_time": "2022-03-02T19:18:39.742Z"
   },
   {
    "duration": 8,
    "start_time": "2022-03-02T19:18:45.358Z"
   },
   {
    "duration": 4,
    "start_time": "2022-03-02T19:18:46.016Z"
   },
   {
    "duration": 3,
    "start_time": "2022-03-02T19:19:16.376Z"
   },
   {
    "duration": 816,
    "start_time": "2022-03-02T19:20:29.238Z"
   },
   {
    "duration": 68,
    "start_time": "2022-03-02T19:20:30.056Z"
   },
   {
    "duration": 10,
    "start_time": "2022-03-02T19:20:30.126Z"
   },
   {
    "duration": 8,
    "start_time": "2022-03-02T19:20:30.138Z"
   },
   {
    "duration": 4,
    "start_time": "2022-03-02T19:20:30.147Z"
   },
   {
    "duration": 5,
    "start_time": "2022-03-02T19:20:30.153Z"
   },
   {
    "duration": 3,
    "start_time": "2022-03-02T19:20:30.159Z"
   },
   {
    "duration": 10,
    "start_time": "2022-03-02T19:20:30.163Z"
   },
   {
    "duration": 8,
    "start_time": "2022-03-02T19:20:30.175Z"
   },
   {
    "duration": 7,
    "start_time": "2022-03-02T19:20:30.185Z"
   },
   {
    "duration": 27,
    "start_time": "2022-03-02T19:20:30.194Z"
   },
   {
    "duration": 9,
    "start_time": "2022-03-02T19:20:30.222Z"
   },
   {
    "duration": 13,
    "start_time": "2022-03-02T19:20:30.232Z"
   },
   {
    "duration": 11,
    "start_time": "2022-03-02T19:20:30.246Z"
   },
   {
    "duration": 4,
    "start_time": "2022-03-02T19:20:30.259Z"
   },
   {
    "duration": 16,
    "start_time": "2022-03-02T19:20:30.264Z"
   },
   {
    "duration": 10,
    "start_time": "2022-03-02T19:20:30.282Z"
   },
   {
    "duration": 18,
    "start_time": "2022-03-02T19:20:30.293Z"
   },
   {
    "duration": 6,
    "start_time": "2022-03-02T19:20:30.312Z"
   },
   {
    "duration": 9,
    "start_time": "2022-03-02T19:20:30.319Z"
   },
   {
    "duration": 19,
    "start_time": "2022-03-02T19:20:30.330Z"
   },
   {
    "duration": 16,
    "start_time": "2022-03-02T19:20:30.351Z"
   },
   {
    "duration": 17,
    "start_time": "2022-03-02T19:20:30.369Z"
   },
   {
    "duration": 22,
    "start_time": "2022-03-02T19:20:30.388Z"
   },
   {
    "duration": 6,
    "start_time": "2022-03-02T19:20:30.412Z"
   },
   {
    "duration": 23,
    "start_time": "2022-03-02T19:20:30.419Z"
   },
   {
    "duration": 5,
    "start_time": "2022-03-02T19:20:30.445Z"
   },
   {
    "duration": 11,
    "start_time": "2022-03-02T19:20:30.502Z"
   },
   {
    "duration": 12,
    "start_time": "2022-03-02T19:20:30.515Z"
   },
   {
    "duration": 8,
    "start_time": "2022-03-02T19:20:30.529Z"
   },
   {
    "duration": 71,
    "start_time": "2022-03-02T19:20:30.539Z"
   },
   {
    "duration": 10,
    "start_time": "2022-03-02T19:20:30.611Z"
   },
   {
    "duration": 16,
    "start_time": "2022-03-02T19:20:30.623Z"
   },
   {
    "duration": 20,
    "start_time": "2022-03-02T19:20:30.640Z"
   },
   {
    "duration": 6,
    "start_time": "2022-03-02T19:20:34.467Z"
   },
   {
    "duration": 13,
    "start_time": "2022-03-02T19:20:41.257Z"
   },
   {
    "duration": 5,
    "start_time": "2022-03-02T19:20:50.227Z"
   },
   {
    "duration": 5,
    "start_time": "2022-03-02T19:20:57.521Z"
   },
   {
    "duration": 54,
    "start_time": "2022-03-02T19:21:23.964Z"
   },
   {
    "duration": 54,
    "start_time": "2022-03-02T19:21:25.638Z"
   },
   {
    "duration": 10,
    "start_time": "2022-03-02T19:21:26.618Z"
   },
   {
    "duration": 8,
    "start_time": "2022-03-02T19:21:28.120Z"
   },
   {
    "duration": 5,
    "start_time": "2022-03-02T19:21:29.844Z"
   },
   {
    "duration": 5,
    "start_time": "2022-03-02T19:21:30.512Z"
   },
   {
    "duration": 4,
    "start_time": "2022-03-02T19:21:35.542Z"
   },
   {
    "duration": 6,
    "start_time": "2022-03-02T19:21:36.882Z"
   },
   {
    "duration": 4,
    "start_time": "2022-03-02T19:21:38.188Z"
   },
   {
    "duration": 4,
    "start_time": "2022-03-02T19:21:38.939Z"
   },
   {
    "duration": 5,
    "start_time": "2022-03-02T19:21:47.965Z"
   },
   {
    "duration": 4,
    "start_time": "2022-03-02T19:21:55.579Z"
   },
   {
    "duration": 359,
    "start_time": "2022-03-02T19:25:29.113Z"
   },
   {
    "duration": 281,
    "start_time": "2022-03-02T19:25:33.869Z"
   },
   {
    "duration": 272,
    "start_time": "2022-03-02T19:25:37.673Z"
   },
   {
    "duration": 58,
    "start_time": "2022-03-02T19:25:44.595Z"
   },
   {
    "duration": 282,
    "start_time": "2022-03-02T19:25:52.177Z"
   },
   {
    "duration": 8,
    "start_time": "2022-03-02T19:26:21.089Z"
   },
   {
    "duration": 278,
    "start_time": "2022-03-02T19:27:32.960Z"
   },
   {
    "duration": 9,
    "start_time": "2022-03-02T19:27:46.623Z"
   },
   {
    "duration": 2,
    "start_time": "2022-03-02T19:27:52.909Z"
   },
   {
    "duration": 65,
    "start_time": "2022-03-02T19:27:52.914Z"
   },
   {
    "duration": 8,
    "start_time": "2022-03-02T19:27:52.981Z"
   },
   {
    "duration": 8,
    "start_time": "2022-03-02T19:27:52.991Z"
   },
   {
    "duration": 8,
    "start_time": "2022-03-02T19:27:55.000Z"
   },
   {
    "duration": 9,
    "start_time": "2022-03-02T19:28:20.030Z"
   },
   {
    "duration": 5,
    "start_time": "2022-03-02T19:29:20.608Z"
   },
   {
    "duration": 284,
    "start_time": "2022-03-02T19:29:25.048Z"
   },
   {
    "duration": 7,
    "start_time": "2022-03-02T19:29:36.690Z"
   },
   {
    "duration": 8,
    "start_time": "2022-03-02T19:29:49.134Z"
   },
   {
    "duration": 6,
    "start_time": "2022-03-02T19:30:02.385Z"
   },
   {
    "duration": 6,
    "start_time": "2022-03-02T19:30:26.229Z"
   },
   {
    "duration": 6,
    "start_time": "2022-03-02T19:30:34.063Z"
   },
   {
    "duration": 23,
    "start_time": "2022-03-02T19:32:03.587Z"
   },
   {
    "duration": 316,
    "start_time": "2022-03-02T19:36:39.130Z"
   },
   {
    "duration": 2,
    "start_time": "2022-03-02T19:36:43.291Z"
   },
   {
    "duration": 78,
    "start_time": "2022-03-02T19:36:43.296Z"
   },
   {
    "duration": 9,
    "start_time": "2022-03-02T19:36:43.376Z"
   },
   {
    "duration": 14,
    "start_time": "2022-03-02T19:36:43.386Z"
   },
   {
    "duration": 12,
    "start_time": "2022-03-02T19:36:43.402Z"
   },
   {
    "duration": 27,
    "start_time": "2022-03-02T19:36:43.415Z"
   },
   {
    "duration": 4,
    "start_time": "2022-03-02T19:36:43.444Z"
   },
   {
    "duration": 15,
    "start_time": "2022-03-02T19:36:43.449Z"
   },
   {
    "duration": 13,
    "start_time": "2022-03-02T19:36:43.466Z"
   },
   {
    "duration": 17,
    "start_time": "2022-03-02T19:36:43.480Z"
   },
   {
    "duration": 9,
    "start_time": "2022-03-02T19:36:43.499Z"
   },
   {
    "duration": 15,
    "start_time": "2022-03-02T19:36:43.510Z"
   },
   {
    "duration": 14,
    "start_time": "2022-03-02T19:36:43.526Z"
   },
   {
    "duration": 8,
    "start_time": "2022-03-02T19:36:43.542Z"
   },
   {
    "duration": 13,
    "start_time": "2022-03-02T19:36:43.551Z"
   },
   {
    "duration": 14,
    "start_time": "2022-03-02T19:36:43.565Z"
   },
   {
    "duration": 4,
    "start_time": "2022-03-02T19:36:43.580Z"
   },
   {
    "duration": 14,
    "start_time": "2022-03-02T19:36:43.586Z"
   },
   {
    "duration": 7,
    "start_time": "2022-03-02T19:36:43.601Z"
   },
   {
    "duration": 15,
    "start_time": "2022-03-02T19:36:43.610Z"
   },
   {
    "duration": 5,
    "start_time": "2022-03-02T19:36:43.626Z"
   },
   {
    "duration": 7,
    "start_time": "2022-03-02T19:36:43.632Z"
   },
   {
    "duration": 9,
    "start_time": "2022-03-02T19:36:43.641Z"
   },
   {
    "duration": 10,
    "start_time": "2022-03-02T19:36:43.652Z"
   },
   {
    "duration": 8,
    "start_time": "2022-03-02T19:36:43.663Z"
   },
   {
    "duration": 19,
    "start_time": "2022-03-02T19:36:43.672Z"
   },
   {
    "duration": 11,
    "start_time": "2022-03-02T19:36:43.693Z"
   },
   {
    "duration": 14,
    "start_time": "2022-03-02T19:36:43.705Z"
   },
   {
    "duration": 9,
    "start_time": "2022-03-02T19:36:43.720Z"
   },
   {
    "duration": 17,
    "start_time": "2022-03-02T19:36:43.730Z"
   },
   {
    "duration": 24,
    "start_time": "2022-03-02T19:36:43.748Z"
   },
   {
    "duration": 18,
    "start_time": "2022-03-02T19:36:43.773Z"
   },
   {
    "duration": 29,
    "start_time": "2022-03-02T19:36:43.792Z"
   },
   {
    "duration": 13,
    "start_time": "2022-03-02T19:36:43.822Z"
   },
   {
    "duration": 25,
    "start_time": "2022-03-02T19:36:43.836Z"
   },
   {
    "duration": 20,
    "start_time": "2022-03-02T19:36:43.862Z"
   },
   {
    "duration": 10,
    "start_time": "2022-03-02T19:36:45.720Z"
   },
   {
    "duration": 4,
    "start_time": "2022-03-02T19:36:53.270Z"
   },
   {
    "duration": 13,
    "start_time": "2022-03-02T19:36:54.274Z"
   },
   {
    "duration": 8,
    "start_time": "2022-03-02T19:37:00.647Z"
   },
   {
    "duration": 290,
    "start_time": "2022-03-02T19:38:16.387Z"
   },
   {
    "duration": 11,
    "start_time": "2022-03-02T19:38:22.806Z"
   },
   {
    "duration": 2,
    "start_time": "2022-03-02T19:38:50.241Z"
   },
   {
    "duration": 65,
    "start_time": "2022-03-02T19:38:50.246Z"
   },
   {
    "duration": 8,
    "start_time": "2022-03-02T19:38:50.313Z"
   },
   {
    "duration": 10,
    "start_time": "2022-03-02T19:38:50.323Z"
   },
   {
    "duration": 5,
    "start_time": "2022-03-02T19:38:50.334Z"
   },
   {
    "duration": 5,
    "start_time": "2022-03-02T19:38:53.255Z"
   },
   {
    "duration": 23,
    "start_time": "2022-03-02T19:38:54.675Z"
   },
   {
    "duration": 295,
    "start_time": "2022-03-02T19:39:18.712Z"
   },
   {
    "duration": 295,
    "start_time": "2022-03-02T19:39:29.458Z"
   },
   {
    "duration": 290,
    "start_time": "2022-03-02T19:39:44.799Z"
   },
   {
    "duration": 3,
    "start_time": "2022-03-02T19:39:51.892Z"
   },
   {
    "duration": 57,
    "start_time": "2022-03-02T19:39:51.899Z"
   },
   {
    "duration": 9,
    "start_time": "2022-03-02T19:39:51.958Z"
   },
   {
    "duration": 10,
    "start_time": "2022-03-02T19:39:51.969Z"
   },
   {
    "duration": 6,
    "start_time": "2022-03-02T19:39:51.981Z"
   },
   {
    "duration": 298,
    "start_time": "2022-03-02T19:39:54.611Z"
   },
   {
    "duration": 50,
    "start_time": "2022-03-02T19:40:10.919Z"
   },
   {
    "duration": 938,
    "start_time": "2022-03-02T19:40:21.060Z"
   },
   {
    "duration": 60,
    "start_time": "2022-03-02T19:40:22.002Z"
   },
   {
    "duration": 53,
    "start_time": "2022-03-02T19:40:33.847Z"
   },
   {
    "duration": 10,
    "start_time": "2022-03-02T19:40:33.902Z"
   },
   {
    "duration": 9,
    "start_time": "2022-03-02T19:40:36.420Z"
   },
   {
    "duration": 6,
    "start_time": "2022-03-02T19:40:37.726Z"
   },
   {
    "duration": 5,
    "start_time": "2022-03-02T19:40:38.449Z"
   },
   {
    "duration": 4,
    "start_time": "2022-03-02T19:40:40.778Z"
   },
   {
    "duration": 5,
    "start_time": "2022-03-02T19:40:41.741Z"
   },
   {
    "duration": 5,
    "start_time": "2022-03-02T19:40:42.818Z"
   },
   {
    "duration": 4,
    "start_time": "2022-03-02T19:40:43.523Z"
   },
   {
    "duration": 5,
    "start_time": "2022-03-02T19:40:43.954Z"
   },
   {
    "duration": 5,
    "start_time": "2022-03-02T19:40:44.867Z"
   },
   {
    "duration": 9,
    "start_time": "2022-03-02T19:40:45.860Z"
   },
   {
    "duration": 12,
    "start_time": "2022-03-02T19:40:50.217Z"
   },
   {
    "duration": 5,
    "start_time": "2022-03-02T19:40:52.185Z"
   },
   {
    "duration": 12,
    "start_time": "2022-03-02T19:40:52.734Z"
   },
   {
    "duration": 5,
    "start_time": "2022-03-02T19:40:55.236Z"
   },
   {
    "duration": 11,
    "start_time": "2022-03-02T19:40:56.372Z"
   },
   {
    "duration": 6,
    "start_time": "2022-03-02T19:40:58.926Z"
   },
   {
    "duration": 4,
    "start_time": "2022-03-02T19:40:59.350Z"
   },
   {
    "duration": 5,
    "start_time": "2022-03-02T19:41:01.075Z"
   },
   {
    "duration": 5,
    "start_time": "2022-03-02T19:41:02.330Z"
   },
   {
    "duration": 5,
    "start_time": "2022-03-02T19:41:03.012Z"
   },
   {
    "duration": 16,
    "start_time": "2022-03-02T19:41:06.053Z"
   },
   {
    "duration": 5,
    "start_time": "2022-03-02T19:41:07.228Z"
   },
   {
    "duration": 14,
    "start_time": "2022-03-02T19:41:18.836Z"
   },
   {
    "duration": 4,
    "start_time": "2022-03-02T19:41:23.097Z"
   },
   {
    "duration": 10,
    "start_time": "2022-03-02T19:41:26.187Z"
   },
   {
    "duration": 6,
    "start_time": "2022-03-02T19:41:31.296Z"
   },
   {
    "duration": 6,
    "start_time": "2022-03-02T19:41:31.894Z"
   },
   {
    "duration": 18,
    "start_time": "2022-03-02T19:41:35.797Z"
   },
   {
    "duration": 10,
    "start_time": "2022-03-02T19:41:59.891Z"
   },
   {
    "duration": 7,
    "start_time": "2022-03-02T19:42:06.756Z"
   },
   {
    "duration": 12,
    "start_time": "2022-03-02T19:42:37.421Z"
   },
   {
    "duration": 5,
    "start_time": "2022-03-02T19:42:39.653Z"
   },
   {
    "duration": 12,
    "start_time": "2022-03-02T19:43:23.377Z"
   },
   {
    "duration": 7,
    "start_time": "2022-03-02T19:43:49.043Z"
   },
   {
    "duration": 5,
    "start_time": "2022-03-02T19:43:50.086Z"
   },
   {
    "duration": 15,
    "start_time": "2022-03-02T19:43:50.920Z"
   },
   {
    "duration": 9,
    "start_time": "2022-03-02T19:44:06.839Z"
   },
   {
    "duration": 8,
    "start_time": "2022-03-02T19:44:55.024Z"
   },
   {
    "duration": 2,
    "start_time": "2022-03-02T19:45:00.431Z"
   },
   {
    "duration": 55,
    "start_time": "2022-03-02T19:45:00.437Z"
   },
   {
    "duration": 10,
    "start_time": "2022-03-02T19:45:00.494Z"
   },
   {
    "duration": 16,
    "start_time": "2022-03-02T19:45:00.506Z"
   },
   {
    "duration": 7,
    "start_time": "2022-03-02T19:45:00.524Z"
   },
   {
    "duration": 14,
    "start_time": "2022-03-02T19:45:00.532Z"
   },
   {
    "duration": 3,
    "start_time": "2022-03-02T19:45:00.548Z"
   },
   {
    "duration": 13,
    "start_time": "2022-03-02T19:45:00.552Z"
   },
   {
    "duration": 13,
    "start_time": "2022-03-02T19:45:00.567Z"
   },
   {
    "duration": 8,
    "start_time": "2022-03-02T19:45:00.582Z"
   },
   {
    "duration": 21,
    "start_time": "2022-03-02T19:45:00.591Z"
   },
   {
    "duration": 18,
    "start_time": "2022-03-02T19:45:00.614Z"
   },
   {
    "duration": 18,
    "start_time": "2022-03-02T19:45:00.634Z"
   },
   {
    "duration": 18,
    "start_time": "2022-03-02T19:45:00.654Z"
   },
   {
    "duration": 9,
    "start_time": "2022-03-02T19:45:00.674Z"
   },
   {
    "duration": 25,
    "start_time": "2022-03-02T19:45:00.684Z"
   },
   {
    "duration": 12,
    "start_time": "2022-03-02T19:45:00.711Z"
   },
   {
    "duration": 28,
    "start_time": "2022-03-02T19:45:00.724Z"
   },
   {
    "duration": 13,
    "start_time": "2022-03-02T19:45:00.754Z"
   },
   {
    "duration": 17,
    "start_time": "2022-03-02T19:45:00.769Z"
   },
   {
    "duration": 23,
    "start_time": "2022-03-02T19:45:00.787Z"
   },
   {
    "duration": 15,
    "start_time": "2022-03-02T19:45:00.812Z"
   },
   {
    "duration": 16,
    "start_time": "2022-03-02T19:45:00.829Z"
   },
   {
    "duration": 35,
    "start_time": "2022-03-02T19:45:00.847Z"
   },
   {
    "duration": 5,
    "start_time": "2022-03-02T19:45:00.884Z"
   },
   {
    "duration": 21,
    "start_time": "2022-03-02T19:45:00.891Z"
   },
   {
    "duration": 23,
    "start_time": "2022-03-02T19:45:00.914Z"
   },
   {
    "duration": 23,
    "start_time": "2022-03-02T19:45:00.939Z"
   },
   {
    "duration": 9,
    "start_time": "2022-03-02T19:45:00.963Z"
   },
   {
    "duration": 8,
    "start_time": "2022-03-02T19:45:00.974Z"
   },
   {
    "duration": 21,
    "start_time": "2022-03-02T19:45:00.984Z"
   },
   {
    "duration": 14,
    "start_time": "2022-03-02T19:45:01.007Z"
   },
   {
    "duration": 29,
    "start_time": "2022-03-02T19:45:01.022Z"
   },
   {
    "duration": 7,
    "start_time": "2022-03-02T19:45:04.722Z"
   },
   {
    "duration": 9,
    "start_time": "2022-03-02T19:45:10.525Z"
   },
   {
    "duration": 756,
    "start_time": "2022-03-02T19:45:24.228Z"
   },
   {
    "duration": 10,
    "start_time": "2022-03-02T19:46:21.037Z"
   },
   {
    "duration": 4,
    "start_time": "2022-03-02T19:46:23.348Z"
   },
   {
    "duration": 13,
    "start_time": "2022-03-02T19:46:24.444Z"
   },
   {
    "duration": 5,
    "start_time": "2022-03-02T19:47:48.853Z"
   },
   {
    "duration": 4,
    "start_time": "2022-03-02T19:48:08.337Z"
   },
   {
    "duration": 16,
    "start_time": "2022-03-02T19:48:53.854Z"
   },
   {
    "duration": 2,
    "start_time": "2022-03-02T19:49:19.264Z"
   },
   {
    "duration": 55,
    "start_time": "2022-03-02T19:49:19.269Z"
   },
   {
    "duration": 9,
    "start_time": "2022-03-02T19:49:19.326Z"
   },
   {
    "duration": 11,
    "start_time": "2022-03-02T19:49:19.337Z"
   },
   {
    "duration": 5,
    "start_time": "2022-03-02T19:49:19.349Z"
   },
   {
    "duration": 4,
    "start_time": "2022-03-02T19:49:19.355Z"
   },
   {
    "duration": 9,
    "start_time": "2022-03-02T19:49:19.360Z"
   },
   {
    "duration": 32,
    "start_time": "2022-03-02T19:49:19.370Z"
   },
   {
    "duration": 4,
    "start_time": "2022-03-02T19:49:19.404Z"
   },
   {
    "duration": 3,
    "start_time": "2022-03-02T19:49:19.410Z"
   },
   {
    "duration": 8,
    "start_time": "2022-03-02T19:49:19.415Z"
   },
   {
    "duration": 8,
    "start_time": "2022-03-02T19:49:19.425Z"
   },
   {
    "duration": 13,
    "start_time": "2022-03-02T19:49:19.434Z"
   },
   {
    "duration": 13,
    "start_time": "2022-03-02T19:49:19.448Z"
   },
   {
    "duration": 7,
    "start_time": "2022-03-02T19:49:19.462Z"
   },
   {
    "duration": 32,
    "start_time": "2022-03-02T19:49:19.471Z"
   },
   {
    "duration": 4,
    "start_time": "2022-03-02T19:49:19.505Z"
   },
   {
    "duration": 15,
    "start_time": "2022-03-02T19:49:19.510Z"
   },
   {
    "duration": 7,
    "start_time": "2022-03-02T19:49:19.527Z"
   },
   {
    "duration": 6,
    "start_time": "2022-03-02T19:49:19.536Z"
   },
   {
    "duration": 12,
    "start_time": "2022-03-02T19:49:19.543Z"
   },
   {
    "duration": 9,
    "start_time": "2022-03-02T19:49:19.556Z"
   },
   {
    "duration": 7,
    "start_time": "2022-03-02T19:49:19.567Z"
   },
   {
    "duration": 26,
    "start_time": "2022-03-02T19:49:19.577Z"
   },
   {
    "duration": 5,
    "start_time": "2022-03-02T19:49:19.604Z"
   },
   {
    "duration": 14,
    "start_time": "2022-03-02T19:49:19.611Z"
   },
   {
    "duration": 4,
    "start_time": "2022-03-02T19:49:19.626Z"
   },
   {
    "duration": 12,
    "start_time": "2022-03-02T19:49:19.632Z"
   },
   {
    "duration": 7,
    "start_time": "2022-03-02T19:49:19.646Z"
   },
   {
    "duration": 9,
    "start_time": "2022-03-02T19:49:19.655Z"
   },
   {
    "duration": 43,
    "start_time": "2022-03-02T19:49:19.665Z"
   },
   {
    "duration": 9,
    "start_time": "2022-03-02T19:49:19.710Z"
   },
   {
    "duration": 5,
    "start_time": "2022-03-02T19:49:19.720Z"
   },
   {
    "duration": 9,
    "start_time": "2022-03-02T19:49:19.727Z"
   },
   {
    "duration": 6,
    "start_time": "2022-03-02T19:49:19.737Z"
   },
   {
    "duration": 17,
    "start_time": "2022-03-02T19:49:19.744Z"
   },
   {
    "duration": 6,
    "start_time": "2022-03-02T19:49:30.604Z"
   },
   {
    "duration": 5,
    "start_time": "2022-03-02T19:49:34.974Z"
   },
   {
    "duration": 4,
    "start_time": "2022-03-02T19:52:33.291Z"
   },
   {
    "duration": 10,
    "start_time": "2022-03-02T19:52:34.172Z"
   },
   {
    "duration": 8,
    "start_time": "2022-03-02T19:53:05.412Z"
   },
   {
    "duration": 8,
    "start_time": "2022-03-02T19:54:59.949Z"
   },
   {
    "duration": 14,
    "start_time": "2022-03-02T19:55:00.569Z"
   },
   {
    "duration": 5,
    "start_time": "2022-03-02T19:55:58.944Z"
   },
   {
    "duration": 5,
    "start_time": "2022-03-02T19:56:00.219Z"
   },
   {
    "duration": 108,
    "start_time": "2022-03-02T19:57:15.052Z"
   },
   {
    "duration": 13,
    "start_time": "2022-03-02T20:22:38.030Z"
   },
   {
    "duration": 26,
    "start_time": "2022-03-02T20:22:49.537Z"
   },
   {
    "duration": 299,
    "start_time": "2022-03-03T05:26:12.451Z"
   },
   {
    "duration": 708,
    "start_time": "2022-03-03T05:26:17.085Z"
   },
   {
    "duration": 80,
    "start_time": "2022-03-03T05:26:17.795Z"
   },
   {
    "duration": 19,
    "start_time": "2022-03-03T05:26:17.878Z"
   },
   {
    "duration": 12,
    "start_time": "2022-03-03T05:26:17.900Z"
   },
   {
    "duration": 7,
    "start_time": "2022-03-03T05:26:17.914Z"
   },
   {
    "duration": 6,
    "start_time": "2022-03-03T05:26:17.923Z"
   },
   {
    "duration": 6,
    "start_time": "2022-03-03T05:26:17.931Z"
   },
   {
    "duration": 50,
    "start_time": "2022-03-03T05:26:17.941Z"
   },
   {
    "duration": 6,
    "start_time": "2022-03-03T05:26:17.994Z"
   },
   {
    "duration": 5,
    "start_time": "2022-03-03T05:26:18.002Z"
   },
   {
    "duration": 6,
    "start_time": "2022-03-03T05:26:18.009Z"
   },
   {
    "duration": 6,
    "start_time": "2022-03-03T05:26:18.017Z"
   },
   {
    "duration": 63,
    "start_time": "2022-03-03T05:26:18.025Z"
   },
   {
    "duration": 18,
    "start_time": "2022-03-03T05:26:18.090Z"
   },
   {
    "duration": 6,
    "start_time": "2022-03-03T05:26:18.110Z"
   },
   {
    "duration": 19,
    "start_time": "2022-03-03T05:26:18.119Z"
   },
   {
    "duration": 48,
    "start_time": "2022-03-03T05:26:18.140Z"
   },
   {
    "duration": 19,
    "start_time": "2022-03-03T05:26:18.191Z"
   },
   {
    "duration": 9,
    "start_time": "2022-03-03T05:26:18.212Z"
   },
   {
    "duration": 5,
    "start_time": "2022-03-03T05:26:18.223Z"
   },
   {
    "duration": 8,
    "start_time": "2022-03-03T05:26:18.230Z"
   },
   {
    "duration": 47,
    "start_time": "2022-03-03T05:26:18.241Z"
   },
   {
    "duration": 6,
    "start_time": "2022-03-03T05:26:18.293Z"
   },
   {
    "duration": 26,
    "start_time": "2022-03-03T05:26:18.303Z"
   },
   {
    "duration": 9,
    "start_time": "2022-03-03T05:26:18.332Z"
   },
   {
    "duration": 62,
    "start_time": "2022-03-03T05:26:18.344Z"
   },
   {
    "duration": 6,
    "start_time": "2022-03-03T05:26:18.409Z"
   },
   {
    "duration": 17,
    "start_time": "2022-03-03T05:26:18.418Z"
   },
   {
    "duration": 51,
    "start_time": "2022-03-03T05:26:18.438Z"
   },
   {
    "duration": 12,
    "start_time": "2022-03-03T05:26:18.492Z"
   },
   {
    "duration": 30,
    "start_time": "2022-03-03T05:26:18.507Z"
   },
   {
    "duration": 61,
    "start_time": "2022-03-03T05:26:18.540Z"
   },
   {
    "duration": 11,
    "start_time": "2022-03-03T05:26:18.603Z"
   },
   {
    "duration": 10,
    "start_time": "2022-03-03T05:26:18.616Z"
   },
   {
    "duration": 23,
    "start_time": "2022-03-03T05:26:18.629Z"
   },
   {
    "duration": 47,
    "start_time": "2022-03-03T05:26:18.655Z"
   },
   {
    "duration": 10,
    "start_time": "2022-03-03T05:26:18.705Z"
   },
   {
    "duration": 7,
    "start_time": "2022-03-03T05:26:18.718Z"
   },
   {
    "duration": 73,
    "start_time": "2022-03-03T05:26:18.729Z"
   },
   {
    "duration": 25,
    "start_time": "2022-03-03T05:26:18.805Z"
   },
   {
    "duration": 72,
    "start_time": "2022-03-03T05:26:18.833Z"
   },
   {
    "duration": 10,
    "start_time": "2022-03-03T05:26:18.908Z"
   },
   {
    "duration": 25,
    "start_time": "2022-03-03T05:26:21.937Z"
   },
   {
    "duration": 5,
    "start_time": "2022-03-03T05:26:29.516Z"
   },
   {
    "duration": 26,
    "start_time": "2022-03-03T05:26:59.743Z"
   },
   {
    "duration": 8,
    "start_time": "2022-03-03T05:28:17.560Z"
   },
   {
    "duration": 5,
    "start_time": "2022-03-03T05:28:18.346Z"
   },
   {
    "duration": 42,
    "start_time": "2022-03-03T05:28:20.265Z"
   },
   {
    "duration": 25,
    "start_time": "2022-03-03T05:28:54.839Z"
   },
   {
    "duration": 7,
    "start_time": "2022-03-03T05:28:55.738Z"
   },
   {
    "duration": 28,
    "start_time": "2022-03-03T05:29:14.193Z"
   },
   {
    "duration": 30,
    "start_time": "2022-03-03T05:29:24.682Z"
   },
   {
    "duration": 292,
    "start_time": "2022-03-03T05:30:44.511Z"
   },
   {
    "duration": 259,
    "start_time": "2022-03-03T05:32:39.956Z"
   },
   {
    "duration": 9,
    "start_time": "2022-03-03T05:32:49.650Z"
   },
   {
    "duration": 20,
    "start_time": "2022-03-03T05:32:59.011Z"
   },
   {
    "duration": 11,
    "start_time": "2022-03-03T05:33:01.675Z"
   },
   {
    "duration": 5,
    "start_time": "2022-03-03T05:33:21.321Z"
   },
   {
    "duration": 28,
    "start_time": "2022-03-03T05:33:49.354Z"
   },
   {
    "duration": 27,
    "start_time": "2022-03-03T05:34:00.983Z"
   },
   {
    "duration": 27,
    "start_time": "2022-03-03T05:34:05.065Z"
   },
   {
    "duration": 28,
    "start_time": "2022-03-03T05:34:08.830Z"
   },
   {
    "duration": 25,
    "start_time": "2022-03-03T05:36:50.575Z"
   },
   {
    "duration": 6,
    "start_time": "2022-03-03T05:36:51.960Z"
   },
   {
    "duration": 27,
    "start_time": "2022-03-03T05:40:27.592Z"
   },
   {
    "duration": 69,
    "start_time": "2022-03-03T05:42:09.777Z"
   },
   {
    "duration": 27,
    "start_time": "2022-03-03T05:44:03.400Z"
   },
   {
    "duration": 87,
    "start_time": "2022-03-03T05:44:49.272Z"
   },
   {
    "duration": 5320,
    "start_time": "2022-03-03T06:10:53.891Z"
   },
   {
    "duration": 15,
    "start_time": "2022-03-03T06:12:48.145Z"
   },
   {
    "duration": 14,
    "start_time": "2022-03-03T06:12:59.979Z"
   },
   {
    "duration": 6,
    "start_time": "2022-03-03T06:16:46.781Z"
   },
   {
    "duration": 370,
    "start_time": "2022-03-03T06:16:55.700Z"
   },
   {
    "duration": 7,
    "start_time": "2022-03-03T06:17:04.908Z"
   },
   {
    "duration": 7,
    "start_time": "2022-03-03T06:17:13.103Z"
   },
   {
    "duration": 6,
    "start_time": "2022-03-03T06:17:18.518Z"
   },
   {
    "duration": 3,
    "start_time": "2022-03-03T06:17:24.362Z"
   },
   {
    "duration": 73,
    "start_time": "2022-03-03T06:17:24.368Z"
   },
   {
    "duration": 13,
    "start_time": "2022-03-03T06:17:24.444Z"
   },
   {
    "duration": 28,
    "start_time": "2022-03-03T06:17:24.459Z"
   },
   {
    "duration": 68,
    "start_time": "2022-03-03T06:17:24.489Z"
   },
   {
    "duration": 6,
    "start_time": "2022-03-03T06:17:26.716Z"
   },
   {
    "duration": 6,
    "start_time": "2022-03-03T06:17:33.811Z"
   },
   {
    "duration": 4,
    "start_time": "2022-03-03T06:17:51.997Z"
   },
   {
    "duration": 6,
    "start_time": "2022-03-03T06:19:17.830Z"
   },
   {
    "duration": 7,
    "start_time": "2022-03-03T06:19:27.559Z"
   },
   {
    "duration": 6,
    "start_time": "2022-03-03T06:20:56.633Z"
   },
   {
    "duration": 4,
    "start_time": "2022-03-03T06:21:09.514Z"
   },
   {
    "duration": 7,
    "start_time": "2022-03-03T06:21:33.268Z"
   },
   {
    "duration": 3,
    "start_time": "2022-03-03T06:21:38.362Z"
   },
   {
    "duration": 81,
    "start_time": "2022-03-03T06:21:38.368Z"
   },
   {
    "duration": 14,
    "start_time": "2022-03-03T06:21:38.452Z"
   },
   {
    "duration": 28,
    "start_time": "2022-03-03T06:21:38.469Z"
   },
   {
    "duration": 6,
    "start_time": "2022-03-03T06:21:38.499Z"
   },
   {
    "duration": 8,
    "start_time": "2022-03-03T06:21:38.507Z"
   },
   {
    "duration": 6,
    "start_time": "2022-03-03T06:21:38.517Z"
   },
   {
    "duration": 9,
    "start_time": "2022-03-03T06:21:38.526Z"
   },
   {
    "duration": 5,
    "start_time": "2022-03-03T06:21:38.538Z"
   },
   {
    "duration": 45,
    "start_time": "2022-03-03T06:21:38.545Z"
   },
   {
    "duration": 6,
    "start_time": "2022-03-03T06:21:40.397Z"
   },
   {
    "duration": 7,
    "start_time": "2022-03-03T06:21:40.719Z"
   },
   {
    "duration": 3,
    "start_time": "2022-03-03T07:36:03.279Z"
   },
   {
    "duration": 68,
    "start_time": "2022-03-03T07:36:03.918Z"
   },
   {
    "duration": 13,
    "start_time": "2022-03-03T07:36:05.162Z"
   },
   {
    "duration": 12,
    "start_time": "2022-03-03T07:36:06.946Z"
   },
   {
    "duration": 6,
    "start_time": "2022-03-03T07:36:07.901Z"
   },
   {
    "duration": 7,
    "start_time": "2022-03-03T07:36:08.376Z"
   },
   {
    "duration": 5,
    "start_time": "2022-03-03T07:36:09.542Z"
   },
   {
    "duration": 7,
    "start_time": "2022-03-03T07:36:10.158Z"
   },
   {
    "duration": 5,
    "start_time": "2022-03-03T07:36:11.358Z"
   },
   {
    "duration": 6,
    "start_time": "2022-03-03T07:36:11.804Z"
   },
   {
    "duration": 7,
    "start_time": "2022-03-03T07:36:13.596Z"
   },
   {
    "duration": 6,
    "start_time": "2022-03-03T07:36:14.163Z"
   },
   {
    "duration": 13,
    "start_time": "2022-03-03T07:36:14.945Z"
   },
   {
    "duration": 21,
    "start_time": "2022-03-03T07:36:18.086Z"
   },
   {
    "duration": 7,
    "start_time": "2022-03-03T07:36:20.143Z"
   },
   {
    "duration": 19,
    "start_time": "2022-03-03T07:36:20.633Z"
   },
   {
    "duration": 7,
    "start_time": "2022-03-03T07:36:21.766Z"
   },
   {
    "duration": 19,
    "start_time": "2022-03-03T07:36:22.245Z"
   },
   {
    "duration": 8,
    "start_time": "2022-03-03T07:36:23.185Z"
   },
   {
    "duration": 6,
    "start_time": "2022-03-03T07:36:23.652Z"
   },
   {
    "duration": 8,
    "start_time": "2022-03-03T07:36:25.213Z"
   },
   {
    "duration": 7,
    "start_time": "2022-03-03T07:36:25.935Z"
   },
   {
    "duration": 7,
    "start_time": "2022-03-03T07:36:26.267Z"
   },
   {
    "duration": 26,
    "start_time": "2022-03-03T07:36:28.429Z"
   },
   {
    "duration": 9,
    "start_time": "2022-03-03T07:36:28.631Z"
   },
   {
    "duration": 22,
    "start_time": "2022-03-03T07:36:29.786Z"
   },
   {
    "duration": 6,
    "start_time": "2022-03-03T07:36:30.638Z"
   },
   {
    "duration": 16,
    "start_time": "2022-03-03T07:36:30.993Z"
   },
   {
    "duration": 10,
    "start_time": "2022-03-03T07:36:32.859Z"
   },
   {
    "duration": 9,
    "start_time": "2022-03-03T07:36:33.311Z"
   },
   {
    "duration": 31,
    "start_time": "2022-03-03T07:36:34.552Z"
   },
   {
    "duration": 15,
    "start_time": "2022-03-03T07:36:36.273Z"
   },
   {
    "duration": 10,
    "start_time": "2022-03-03T07:36:36.932Z"
   },
   {
    "duration": 7,
    "start_time": "2022-03-03T07:36:37.337Z"
   },
   {
    "duration": 12,
    "start_time": "2022-03-03T07:36:38.178Z"
   },
   {
    "duration": 22,
    "start_time": "2022-03-03T07:36:38.678Z"
   },
   {
    "duration": 7,
    "start_time": "2022-03-03T07:36:39.731Z"
   },
   {
    "duration": 8,
    "start_time": "2022-03-03T07:36:40.087Z"
   },
   {
    "duration": 30,
    "start_time": "2022-03-03T07:36:41.444Z"
   },
   {
    "duration": 25,
    "start_time": "2022-03-03T07:36:42.376Z"
   },
   {
    "duration": 42,
    "start_time": "2022-03-03T07:36:43.328Z"
   },
   {
    "duration": 8,
    "start_time": "2022-03-03T07:36:44.659Z"
   },
   {
    "duration": 26,
    "start_time": "2022-03-03T07:36:46.606Z"
   },
   {
    "duration": 5,
    "start_time": "2022-03-03T07:36:48.236Z"
   },
   {
    "duration": 28,
    "start_time": "2022-03-03T07:36:48.796Z"
   },
   {
    "duration": 10,
    "start_time": "2022-03-03T07:36:52.478Z"
   },
   {
    "duration": 4,
    "start_time": "2022-03-03T07:36:53.072Z"
   },
   {
    "duration": 25,
    "start_time": "2022-03-03T07:36:53.865Z"
   },
   {
    "duration": 7,
    "start_time": "2022-03-03T07:36:54.382Z"
   },
   {
    "duration": 29,
    "start_time": "2022-03-03T07:36:56.655Z"
   },
   {
    "duration": 25,
    "start_time": "2022-03-03T07:36:59.321Z"
   },
   {
    "duration": 6,
    "start_time": "2022-03-03T07:36:59.637Z"
   },
   {
    "duration": 27,
    "start_time": "2022-03-03T07:37:01.218Z"
   },
   {
    "duration": 27,
    "start_time": "2022-03-03T07:37:02.777Z"
   },
   {
    "duration": 698,
    "start_time": "2022-03-03T07:37:20.341Z"
   },
   {
    "duration": 87,
    "start_time": "2022-03-03T07:37:21.042Z"
   },
   {
    "duration": 14,
    "start_time": "2022-03-03T07:37:21.133Z"
   },
   {
    "duration": 12,
    "start_time": "2022-03-03T07:37:21.150Z"
   },
   {
    "duration": 8,
    "start_time": "2022-03-03T07:37:21.187Z"
   },
   {
    "duration": 11,
    "start_time": "2022-03-03T07:37:21.197Z"
   },
   {
    "duration": 8,
    "start_time": "2022-03-03T07:37:21.211Z"
   },
   {
    "duration": 8,
    "start_time": "2022-03-03T07:37:21.223Z"
   },
   {
    "duration": 7,
    "start_time": "2022-03-03T07:37:21.234Z"
   },
   {
    "duration": 43,
    "start_time": "2022-03-03T07:37:21.244Z"
   },
   {
    "duration": 7,
    "start_time": "2022-03-03T07:37:21.290Z"
   },
   {
    "duration": 7,
    "start_time": "2022-03-03T07:37:21.299Z"
   },
   {
    "duration": 12,
    "start_time": "2022-03-03T07:37:21.309Z"
   },
   {
    "duration": 21,
    "start_time": "2022-03-03T07:37:21.324Z"
   },
   {
    "duration": 8,
    "start_time": "2022-03-03T07:37:21.388Z"
   },
   {
    "duration": 22,
    "start_time": "2022-03-03T07:37:21.399Z"
   },
   {
    "duration": 11,
    "start_time": "2022-03-03T07:37:21.423Z"
   },
   {
    "duration": 52,
    "start_time": "2022-03-03T07:37:21.436Z"
   },
   {
    "duration": 10,
    "start_time": "2022-03-03T07:37:21.491Z"
   },
   {
    "duration": 6,
    "start_time": "2022-03-03T07:37:21.503Z"
   },
   {
    "duration": 19,
    "start_time": "2022-03-03T07:37:21.511Z"
   },
   {
    "duration": 25,
    "start_time": "2022-03-03T07:37:21.533Z"
   },
   {
    "duration": 6,
    "start_time": "2022-03-03T07:37:21.564Z"
   },
   {
    "duration": 25,
    "start_time": "2022-03-03T07:37:21.588Z"
   },
   {
    "duration": 9,
    "start_time": "2022-03-03T07:37:21.616Z"
   },
   {
    "duration": 29,
    "start_time": "2022-03-03T07:37:21.627Z"
   },
   {
    "duration": 31,
    "start_time": "2022-03-03T07:37:21.659Z"
   },
   {
    "duration": 17,
    "start_time": "2022-03-03T07:37:21.693Z"
   },
   {
    "duration": 9,
    "start_time": "2022-03-03T07:37:21.712Z"
   },
   {
    "duration": 11,
    "start_time": "2022-03-03T07:37:21.724Z"
   },
   {
    "duration": 75,
    "start_time": "2022-03-03T07:37:21.738Z"
   },
   {
    "duration": 14,
    "start_time": "2022-03-03T07:37:21.815Z"
   },
   {
    "duration": 10,
    "start_time": "2022-03-03T07:37:21.832Z"
   },
   {
    "duration": 14,
    "start_time": "2022-03-03T07:37:21.844Z"
   },
   {
    "duration": 35,
    "start_time": "2022-03-03T07:37:21.861Z"
   },
   {
    "duration": 21,
    "start_time": "2022-03-03T07:37:21.899Z"
   },
   {
    "duration": 7,
    "start_time": "2022-03-03T07:37:21.922Z"
   },
   {
    "duration": 7,
    "start_time": "2022-03-03T07:37:21.931Z"
   },
   {
    "duration": 71,
    "start_time": "2022-03-03T07:37:21.940Z"
   },
   {
    "duration": 23,
    "start_time": "2022-03-03T07:37:22.014Z"
   },
   {
    "duration": 63,
    "start_time": "2022-03-03T07:37:22.039Z"
   },
   {
    "duration": 8,
    "start_time": "2022-03-03T07:37:22.104Z"
   },
   {
    "duration": 25,
    "start_time": "2022-03-03T07:37:22.114Z"
   },
   {
    "duration": 5,
    "start_time": "2022-03-03T07:37:22.141Z"
   },
   {
    "duration": 62,
    "start_time": "2022-03-03T07:37:22.148Z"
   },
   {
    "duration": 12,
    "start_time": "2022-03-03T07:37:22.213Z"
   },
   {
    "duration": 5,
    "start_time": "2022-03-03T07:37:22.228Z"
   },
   {
    "duration": 54,
    "start_time": "2022-03-03T07:37:22.236Z"
   },
   {
    "duration": 8,
    "start_time": "2022-03-03T07:37:22.292Z"
   },
   {
    "duration": 31,
    "start_time": "2022-03-03T07:37:22.303Z"
   },
   {
    "duration": 58,
    "start_time": "2022-03-03T07:37:22.337Z"
   },
   {
    "duration": 6,
    "start_time": "2022-03-03T07:37:22.397Z"
   },
   {
    "duration": 30,
    "start_time": "2022-03-03T07:37:22.405Z"
   },
   {
    "duration": 51,
    "start_time": "2022-03-03T07:37:22.438Z"
   },
   {
    "duration": 677,
    "start_time": "2022-03-11T13:30:28.188Z"
   },
   {
    "duration": 73,
    "start_time": "2022-03-11T13:30:28.868Z"
   },
   {
    "duration": 12,
    "start_time": "2022-03-11T13:30:28.944Z"
   },
   {
    "duration": 15,
    "start_time": "2022-03-11T13:30:28.959Z"
   },
   {
    "duration": 11,
    "start_time": "2022-03-11T13:30:28.976Z"
   },
   {
    "duration": 5,
    "start_time": "2022-03-11T13:30:29.002Z"
   },
   {
    "duration": 6,
    "start_time": "2022-03-11T13:30:29.009Z"
   },
   {
    "duration": 11,
    "start_time": "2022-03-11T13:30:29.019Z"
   },
   {
    "duration": 8,
    "start_time": "2022-03-11T13:30:29.033Z"
   },
   {
    "duration": 9,
    "start_time": "2022-03-11T13:30:29.042Z"
   },
   {
    "duration": 7,
    "start_time": "2022-03-11T13:30:29.053Z"
   },
   {
    "duration": 14,
    "start_time": "2022-03-11T13:30:29.062Z"
   },
   {
    "duration": 30,
    "start_time": "2022-03-11T13:30:29.078Z"
   },
   {
    "duration": 28,
    "start_time": "2022-03-11T13:30:29.110Z"
   },
   {
    "duration": 16,
    "start_time": "2022-03-11T13:30:29.140Z"
   },
   {
    "duration": 29,
    "start_time": "2022-03-11T13:30:29.158Z"
   },
   {
    "duration": 32,
    "start_time": "2022-03-11T13:30:29.189Z"
   },
   {
    "duration": 33,
    "start_time": "2022-03-11T13:30:29.222Z"
   },
   {
    "duration": 25,
    "start_time": "2022-03-11T13:30:29.257Z"
   },
   {
    "duration": 19,
    "start_time": "2022-03-11T13:30:29.284Z"
   },
   {
    "duration": 23,
    "start_time": "2022-03-11T13:30:29.305Z"
   },
   {
    "duration": 31,
    "start_time": "2022-03-11T13:30:29.330Z"
   },
   {
    "duration": 24,
    "start_time": "2022-03-11T13:30:29.365Z"
   },
   {
    "duration": 41,
    "start_time": "2022-03-11T13:30:29.392Z"
   },
   {
    "duration": 10,
    "start_time": "2022-03-11T13:30:29.436Z"
   },
   {
    "duration": 40,
    "start_time": "2022-03-11T13:30:29.449Z"
   },
   {
    "duration": 8,
    "start_time": "2022-03-11T13:30:29.491Z"
   },
   {
    "duration": 43,
    "start_time": "2022-03-11T13:30:29.501Z"
   },
   {
    "duration": 31,
    "start_time": "2022-03-11T13:30:29.546Z"
   },
   {
    "duration": 26,
    "start_time": "2022-03-11T13:30:29.578Z"
   },
   {
    "duration": 35,
    "start_time": "2022-03-11T13:30:29.605Z"
   },
   {
    "duration": 29,
    "start_time": "2022-03-11T13:30:29.642Z"
   },
   {
    "duration": 41,
    "start_time": "2022-03-11T13:30:29.673Z"
   },
   {
    "duration": 26,
    "start_time": "2022-03-11T13:30:29.715Z"
   },
   {
    "duration": 33,
    "start_time": "2022-03-11T13:30:29.743Z"
   },
   {
    "duration": 27,
    "start_time": "2022-03-11T13:30:29.778Z"
   },
   {
    "duration": 14,
    "start_time": "2022-03-11T13:30:29.807Z"
   },
   {
    "duration": 27,
    "start_time": "2022-03-11T13:30:29.823Z"
   },
   {
    "duration": 35,
    "start_time": "2022-03-11T13:30:29.852Z"
   },
   {
    "duration": 43,
    "start_time": "2022-03-11T13:30:29.889Z"
   },
   {
    "duration": 33,
    "start_time": "2022-03-11T13:30:29.934Z"
   },
   {
    "duration": 7,
    "start_time": "2022-03-11T13:30:29.969Z"
   },
   {
    "duration": 46,
    "start_time": "2022-03-11T13:30:29.977Z"
   },
   {
    "duration": 11,
    "start_time": "2022-03-11T13:30:30.025Z"
   },
   {
    "duration": 78,
    "start_time": "2022-03-11T13:30:30.038Z"
   },
   {
    "duration": 30,
    "start_time": "2022-03-11T13:30:30.119Z"
   },
   {
    "duration": 21,
    "start_time": "2022-03-11T13:30:30.151Z"
   },
   {
    "duration": 39,
    "start_time": "2022-03-11T13:30:30.174Z"
   },
   {
    "duration": 50,
    "start_time": "2022-03-11T13:30:30.215Z"
   },
   {
    "duration": 62,
    "start_time": "2022-03-11T13:30:30.268Z"
   },
   {
    "duration": 39,
    "start_time": "2022-03-11T13:30:30.332Z"
   },
   {
    "duration": 15,
    "start_time": "2022-03-11T13:30:30.372Z"
   },
   {
    "duration": 50,
    "start_time": "2022-03-11T13:30:30.389Z"
   },
   {
    "duration": 34,
    "start_time": "2022-03-11T13:30:30.441Z"
   },
   {
    "duration": 16,
    "start_time": "2022-03-11T13:36:28.593Z"
   },
   {
    "duration": 16,
    "start_time": "2022-03-11T13:36:48.923Z"
   },
   {
    "duration": 135,
    "start_time": "2022-03-11T13:38:56.829Z"
   },
   {
    "duration": 6,
    "start_time": "2022-03-11T13:55:30.462Z"
   },
   {
    "duration": 285,
    "start_time": "2022-03-11T13:58:31.103Z"
   },
   {
    "duration": 36686,
    "start_time": "2022-03-11T13:58:37.034Z"
   },
   {
    "duration": 579,
    "start_time": "2022-03-12T14:28:40.115Z"
   },
   {
    "duration": 60,
    "start_time": "2022-03-12T14:28:40.695Z"
   },
   {
    "duration": 10,
    "start_time": "2022-03-12T14:28:40.757Z"
   },
   {
    "duration": 9,
    "start_time": "2022-03-12T14:28:40.769Z"
   },
   {
    "duration": 7,
    "start_time": "2022-03-12T14:28:40.779Z"
   },
   {
    "duration": 8,
    "start_time": "2022-03-12T14:28:40.787Z"
   },
   {
    "duration": 5,
    "start_time": "2022-03-12T14:28:40.796Z"
   },
   {
    "duration": 6,
    "start_time": "2022-03-12T14:28:40.804Z"
   },
   {
    "duration": 28,
    "start_time": "2022-03-12T14:28:40.812Z"
   },
   {
    "duration": 6,
    "start_time": "2022-03-12T14:28:40.842Z"
   },
   {
    "duration": 5,
    "start_time": "2022-03-12T14:28:40.849Z"
   },
   {
    "duration": 4,
    "start_time": "2022-03-12T14:28:40.856Z"
   },
   {
    "duration": 19,
    "start_time": "2022-03-12T14:28:40.861Z"
   },
   {
    "duration": 16,
    "start_time": "2022-03-12T14:28:40.882Z"
   },
   {
    "duration": 38,
    "start_time": "2022-03-12T14:28:40.900Z"
   },
   {
    "duration": 5,
    "start_time": "2022-03-12T14:28:40.940Z"
   },
   {
    "duration": 18,
    "start_time": "2022-03-12T14:28:40.947Z"
   },
   {
    "duration": 7,
    "start_time": "2022-03-12T14:28:40.967Z"
   },
   {
    "duration": 15,
    "start_time": "2022-03-12T14:28:40.975Z"
   },
   {
    "duration": 6,
    "start_time": "2022-03-12T14:28:40.991Z"
   },
   {
    "duration": 7,
    "start_time": "2022-03-12T14:28:40.998Z"
   },
   {
    "duration": 34,
    "start_time": "2022-03-12T14:28:41.006Z"
   },
   {
    "duration": 5,
    "start_time": "2022-03-12T14:28:41.043Z"
   },
   {
    "duration": 5,
    "start_time": "2022-03-12T14:28:41.050Z"
   },
   {
    "duration": 17,
    "start_time": "2022-03-12T14:28:41.056Z"
   },
   {
    "duration": 5,
    "start_time": "2022-03-12T14:28:41.075Z"
   },
   {
    "duration": 17,
    "start_time": "2022-03-12T14:28:41.081Z"
   },
   {
    "duration": 3,
    "start_time": "2022-03-12T14:28:41.100Z"
   },
   {
    "duration": 253,
    "start_time": "2022-03-12T14:28:41.105Z"
   },
   {
    "duration": 2,
    "start_time": "2022-03-12T14:28:56.639Z"
   },
   {
    "duration": 55,
    "start_time": "2022-03-12T14:28:56.643Z"
   },
   {
    "duration": 10,
    "start_time": "2022-03-12T14:28:56.700Z"
   },
   {
    "duration": 32,
    "start_time": "2022-03-12T14:28:56.712Z"
   },
   {
    "duration": 5,
    "start_time": "2022-03-12T14:28:56.746Z"
   },
   {
    "duration": 6,
    "start_time": "2022-03-12T14:28:56.752Z"
   },
   {
    "duration": 5,
    "start_time": "2022-03-12T14:28:56.760Z"
   },
   {
    "duration": 22,
    "start_time": "2022-03-12T14:28:56.767Z"
   },
   {
    "duration": 32,
    "start_time": "2022-03-12T14:28:56.791Z"
   },
   {
    "duration": 14,
    "start_time": "2022-03-12T14:28:56.825Z"
   },
   {
    "duration": 24,
    "start_time": "2022-03-12T14:28:56.840Z"
   },
   {
    "duration": 21,
    "start_time": "2022-03-12T14:28:56.865Z"
   },
   {
    "duration": 22,
    "start_time": "2022-03-12T14:28:56.888Z"
   },
   {
    "duration": 24,
    "start_time": "2022-03-12T14:28:56.911Z"
   },
   {
    "duration": 21,
    "start_time": "2022-03-12T14:28:56.936Z"
   },
   {
    "duration": 5,
    "start_time": "2022-03-12T14:28:56.958Z"
   },
   {
    "duration": 17,
    "start_time": "2022-03-12T14:28:56.965Z"
   },
   {
    "duration": 18,
    "start_time": "2022-03-12T14:28:56.984Z"
   },
   {
    "duration": 32,
    "start_time": "2022-03-12T14:28:57.006Z"
   },
   {
    "duration": 7,
    "start_time": "2022-03-12T14:28:57.041Z"
   },
   {
    "duration": 7,
    "start_time": "2022-03-12T14:28:57.049Z"
   },
   {
    "duration": 23,
    "start_time": "2022-03-12T14:28:57.057Z"
   },
   {
    "duration": 32,
    "start_time": "2022-03-12T14:28:57.082Z"
   },
   {
    "duration": 25,
    "start_time": "2022-03-12T14:28:57.116Z"
   },
   {
    "duration": 31,
    "start_time": "2022-03-12T14:28:57.143Z"
   },
   {
    "duration": 12,
    "start_time": "2022-03-12T14:28:57.177Z"
   },
   {
    "duration": 16,
    "start_time": "2022-03-12T14:28:57.191Z"
   },
   {
    "duration": 6,
    "start_time": "2022-03-12T14:28:57.209Z"
   },
   {
    "duration": 4316,
    "start_time": "2022-03-12T14:28:59.983Z"
   },
   {
    "duration": 11,
    "start_time": "2022-03-12T14:29:33.921Z"
   },
   {
    "duration": 10,
    "start_time": "2022-03-12T14:29:55.498Z"
   },
   {
    "duration": 3,
    "start_time": "2022-03-12T14:34:25.465Z"
   }
  ],
  "kernelspec": {
   "display_name": "Python 3 (ipykernel)",
   "language": "python",
   "name": "python3"
  },
  "language_info": {
   "codemirror_mode": {
    "name": "ipython",
    "version": 3
   },
   "file_extension": ".py",
   "mimetype": "text/x-python",
   "name": "python",
   "nbconvert_exporter": "python",
   "pygments_lexer": "ipython3",
   "version": "3.9.13"
  },
  "toc": {
   "base_numbering": 1,
   "nav_menu": {},
   "number_sections": true,
   "sideBar": true,
   "skip_h1_title": true,
   "title_cell": "Table of Contents",
   "title_sidebar": "Contents",
   "toc_cell": false,
   "toc_position": {},
   "toc_section_display": true,
   "toc_window_display": true
  }
 },
 "nbformat": 4,
 "nbformat_minor": 5
}
