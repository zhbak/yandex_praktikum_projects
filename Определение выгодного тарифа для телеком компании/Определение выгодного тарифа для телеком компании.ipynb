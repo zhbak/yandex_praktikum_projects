{
 "cells": [
  {
   "cell_type": "markdown",
   "id": "13a90850",
   "metadata": {},
   "source": [
    "# Определение перспективного тарифа для телеком-компании"
   ]
  },
  {
   "cell_type": "markdown",
   "id": "ec35110b",
   "metadata": {},
   "source": [
    "**Цель** – определение выгодного тарифного плана для корректировки рекламного бюджета.\n",
    "\n",
    "**Задачи:**\n",
    "- обзор и предобработка данных;\n",
    "- расчёт характеристик для каждого пользователя;\n",
    "- анализ метрик;\n",
    "- проверка гипотез:\n",
    "    - равенства среднего выручек тарифов;\n",
    "    - равенства среднего выручек Москвы и других регионов.\n",
    "\n",
    "**Данные:** данные 500 пользователей тарифных планов «Смарт» и «Ультра» за 2018 год.\n",
    "\n",
    "- Таблица users (информация о пользователях):\n",
    "    - user_id — уникальный идентификатор пользователя\n",
    "    - first_name — имя пользователя\n",
    "    - last_name — фамилия пользователя\n",
    "    - age — возраст пользователя (годы)\n",
    "    - reg_date — дата подключения тарифа (день, месяц, год)\n",
    "    - churn_date — дата прекращения пользования тарифом (если значение пропущено, то тариф ещё действовал на момент выгрузки данных)\n",
    "    - city — город проживания пользователя\n",
    "    - tariff — название тарифного плана\n",
    "\n",
    "- Таблица calls (информация о звонках):\n",
    "    - id — уникальный номер звонка\n",
    "    - call_date — дата звонка\n",
    "    - duration — длительность звонка в минутах\n",
    "    - user_id — идентификатор пользователя, сделавшего звонок\n",
    "\n",
    "- Таблица messages (информация о сообщениях):\n",
    "    - id — уникальный номер сообщения\n",
    "    - message_date — дата сообщения\n",
    "    - user_id — идентификатор пользователя, отправившего сообщение\n",
    "\n",
    "- Таблица internet (информация об интернет-сессиях):\n",
    "    - id — уникальный номер сессии\n",
    "    - mb_used — объём потраченного за сессию интернет-трафика (в мегабайтах)\n",
    "    - session_date — дата интернет-сессии\n",
    "    - user_id — идентификатор пользователя\n",
    "\n",
    "- Таблица tariffs (информация о тарифах):\n",
    "    - tariff_name — название тарифа\n",
    "    - rub_monthly_fee — ежемесячная абонентская плата в рублях\n",
    "    - minutes_included — количество минут разговора в месяц, включённых в абонентскую плату\n",
    "    - messages_included — количество сообщений в месяц, включённых в абонентскую плату\n",
    "    - mb_per_month_included — объём интернет-трафика, включённого в абонентскую плату (в мегабайтах)\n",
    "    - rub_per_minute — стоимость минуты разговора сверх тарифного пакета (например, если в тарифе 100 минут разговора в месяц, то со 101 минуты будет взиматься плата)\n",
    "    - rub_per_message — стоимость отправки сообщения сверх тарифного пакета\n",
    "    - rub_per_gb — стоимость дополнительного гигабайта интернет-трафика сверх тарифного пакета (1 гигабайт = 1024 мегабайта)\n",
    "    \n",
    "**Примечание**: \n",
    "- «Мегалайн» всегда округляет секунды до минут, а мегабайты — до гигабайт:\n",
    "- Каждый звонок округляется отдельно: даже если он длился всего 1 секунду, будет засчитан как 1 минута. \n",
    "- Для веб-трафика отдельные сессии не считаются. Вместо этого общая сумма за месяц округляется в бо́льшую сторону. Если абонент использует 1025 мегабайт в этом месяце, с него возьмут плату за 2 гигабайта."
   ]
  },
  {
   "cell_type": "markdown",
   "id": "82b4cffb",
   "metadata": {},
   "source": [
    "## Предобработка данных"
   ]
  },
  {
   "cell_type": "code",
   "execution_count": 1,
   "id": "b51f2874",
   "metadata": {
    "code_folding": []
   },
   "outputs": [],
   "source": [
    "# Импорт библиотек\n",
    "import pandas as pd\n",
    "import matplotlib.pyplot as plt\n",
    "import seaborn as sns\n",
    "import numpy as np\n",
    "import math as mt\n",
    "from scipy import stats as st\n",
    "\n",
    "pd.options.display.float_format = '{:.3f}'.format"
   ]
  },
  {
   "cell_type": "code",
   "execution_count": 2,
   "id": "936ee8a1",
   "metadata": {
    "code_folding": []
   },
   "outputs": [],
   "source": [
    "# Импорт данных\n",
    "users = pd.read_csv('00_Data/users.csv')\n",
    "calls = pd.read_csv('00_Data/calls.csv')\n",
    "messages = pd.read_csv('00_Data/messages.csv')\n",
    "internet = pd.read_csv('00_Data/internet.csv')\n",
    "tariffs = pd.read_csv('00_Data/tariffs.csv')"
   ]
  },
  {
   "cell_type": "code",
   "execution_count": 3,
   "id": "ac509051",
   "metadata": {
    "code_folding": []
   },
   "outputs": [],
   "source": [
    "# Функция обзора данных\n",
    "def first_look(df):\n",
    "    print('----------Первые 5 строк----------')\n",
    "    display(df.head())\n",
    "    print('\\n')\n",
    "    print('----------Тип данных----------')\n",
    "    display(df.info())\n",
    "    print('\\n')\n",
    "    print('----------Пропуски в данных----------')\n",
    "    df_isna = df.isna().sum()\n",
    "    if df_isna.sum().sum() > 0:\n",
    "        display(df_isna.loc[df_isna > 0])\n",
    "    else: print('Пропусков нет')\n",
    "    print('\\n')\n",
    "    print('----------Дубликаты----------')\n",
    "    if df.duplicated().sum() > 0:\n",
    "        print('Дубликатов:', df.duplicated().sum())\n",
    "    else:\n",
    "        print('Дубликатов нет')\n",
    "    print('\\n')\n",
    "    print('----------Количество клиентов----------')\n",
    "    print('Количество клиентов:', df['user_id'].nunique())"
   ]
  },
  {
   "cell_type": "code",
   "execution_count": 4,
   "id": "080374fd",
   "metadata": {},
   "outputs": [
    {
     "name": "stdout",
     "output_type": "stream",
     "text": [
      "----------Первые 5 строк----------\n"
     ]
    },
    {
     "data": {
      "text/html": [
       "<div>\n",
       "<style scoped>\n",
       "    .dataframe tbody tr th:only-of-type {\n",
       "        vertical-align: middle;\n",
       "    }\n",
       "\n",
       "    .dataframe tbody tr th {\n",
       "        vertical-align: top;\n",
       "    }\n",
       "\n",
       "    .dataframe thead th {\n",
       "        text-align: right;\n",
       "    }\n",
       "</style>\n",
       "<table border=\"1\" class=\"dataframe\">\n",
       "  <thead>\n",
       "    <tr style=\"text-align: right;\">\n",
       "      <th></th>\n",
       "      <th>user_id</th>\n",
       "      <th>age</th>\n",
       "      <th>churn_date</th>\n",
       "      <th>city</th>\n",
       "      <th>first_name</th>\n",
       "      <th>last_name</th>\n",
       "      <th>reg_date</th>\n",
       "      <th>tariff</th>\n",
       "    </tr>\n",
       "  </thead>\n",
       "  <tbody>\n",
       "    <tr>\n",
       "      <th>0</th>\n",
       "      <td>1000</td>\n",
       "      <td>52</td>\n",
       "      <td>NaN</td>\n",
       "      <td>Краснодар</td>\n",
       "      <td>Рафаил</td>\n",
       "      <td>Верещагин</td>\n",
       "      <td>2018-05-25</td>\n",
       "      <td>ultra</td>\n",
       "    </tr>\n",
       "    <tr>\n",
       "      <th>1</th>\n",
       "      <td>1001</td>\n",
       "      <td>41</td>\n",
       "      <td>NaN</td>\n",
       "      <td>Москва</td>\n",
       "      <td>Иван</td>\n",
       "      <td>Ежов</td>\n",
       "      <td>2018-11-01</td>\n",
       "      <td>smart</td>\n",
       "    </tr>\n",
       "    <tr>\n",
       "      <th>2</th>\n",
       "      <td>1002</td>\n",
       "      <td>59</td>\n",
       "      <td>NaN</td>\n",
       "      <td>Стерлитамак</td>\n",
       "      <td>Евгений</td>\n",
       "      <td>Абрамович</td>\n",
       "      <td>2018-06-17</td>\n",
       "      <td>smart</td>\n",
       "    </tr>\n",
       "    <tr>\n",
       "      <th>3</th>\n",
       "      <td>1003</td>\n",
       "      <td>23</td>\n",
       "      <td>NaN</td>\n",
       "      <td>Москва</td>\n",
       "      <td>Белла</td>\n",
       "      <td>Белякова</td>\n",
       "      <td>2018-08-17</td>\n",
       "      <td>ultra</td>\n",
       "    </tr>\n",
       "    <tr>\n",
       "      <th>4</th>\n",
       "      <td>1004</td>\n",
       "      <td>68</td>\n",
       "      <td>NaN</td>\n",
       "      <td>Новокузнецк</td>\n",
       "      <td>Татьяна</td>\n",
       "      <td>Авдеенко</td>\n",
       "      <td>2018-05-14</td>\n",
       "      <td>ultra</td>\n",
       "    </tr>\n",
       "  </tbody>\n",
       "</table>\n",
       "</div>"
      ],
      "text/plain": [
       "   user_id  age churn_date         city first_name  last_name    reg_date  \\\n",
       "0     1000   52        NaN    Краснодар     Рафаил  Верещагин  2018-05-25   \n",
       "1     1001   41        NaN       Москва       Иван       Ежов  2018-11-01   \n",
       "2     1002   59        NaN  Стерлитамак    Евгений  Абрамович  2018-06-17   \n",
       "3     1003   23        NaN       Москва      Белла   Белякова  2018-08-17   \n",
       "4     1004   68        NaN  Новокузнецк    Татьяна   Авдеенко  2018-05-14   \n",
       "\n",
       "  tariff  \n",
       "0  ultra  \n",
       "1  smart  \n",
       "2  smart  \n",
       "3  ultra  \n",
       "4  ultra  "
      ]
     },
     "metadata": {},
     "output_type": "display_data"
    },
    {
     "name": "stdout",
     "output_type": "stream",
     "text": [
      "\n",
      "\n",
      "----------Тип данных----------\n",
      "<class 'pandas.core.frame.DataFrame'>\n",
      "RangeIndex: 500 entries, 0 to 499\n",
      "Data columns (total 8 columns):\n",
      " #   Column      Non-Null Count  Dtype \n",
      "---  ------      --------------  ----- \n",
      " 0   user_id     500 non-null    int64 \n",
      " 1   age         500 non-null    int64 \n",
      " 2   churn_date  38 non-null     object\n",
      " 3   city        500 non-null    object\n",
      " 4   first_name  500 non-null    object\n",
      " 5   last_name   500 non-null    object\n",
      " 6   reg_date    500 non-null    object\n",
      " 7   tariff      500 non-null    object\n",
      "dtypes: int64(2), object(6)\n",
      "memory usage: 31.4+ KB\n"
     ]
    },
    {
     "data": {
      "text/plain": [
       "None"
      ]
     },
     "metadata": {},
     "output_type": "display_data"
    },
    {
     "name": "stdout",
     "output_type": "stream",
     "text": [
      "\n",
      "\n",
      "----------Пропуски в данных----------\n"
     ]
    },
    {
     "data": {
      "text/plain": [
       "churn_date    462\n",
       "dtype: int64"
      ]
     },
     "metadata": {},
     "output_type": "display_data"
    },
    {
     "name": "stdout",
     "output_type": "stream",
     "text": [
      "\n",
      "\n",
      "----------Дубликаты----------\n",
      "Дубликатов нет\n",
      "\n",
      "\n",
      "----------Количество клиентов----------\n",
      "Количество клиентов: 500\n"
     ]
    }
   ],
   "source": [
    "# Обзор данных\n",
    "first_look(users)"
   ]
  },
  {
   "cell_type": "code",
   "execution_count": 5,
   "id": "194c3cd0",
   "metadata": {},
   "outputs": [
    {
     "name": "stdout",
     "output_type": "stream",
     "text": [
      "----------Первые 5 строк----------\n"
     ]
    },
    {
     "data": {
      "text/html": [
       "<div>\n",
       "<style scoped>\n",
       "    .dataframe tbody tr th:only-of-type {\n",
       "        vertical-align: middle;\n",
       "    }\n",
       "\n",
       "    .dataframe tbody tr th {\n",
       "        vertical-align: top;\n",
       "    }\n",
       "\n",
       "    .dataframe thead th {\n",
       "        text-align: right;\n",
       "    }\n",
       "</style>\n",
       "<table border=\"1\" class=\"dataframe\">\n",
       "  <thead>\n",
       "    <tr style=\"text-align: right;\">\n",
       "      <th></th>\n",
       "      <th>id</th>\n",
       "      <th>call_date</th>\n",
       "      <th>duration</th>\n",
       "      <th>user_id</th>\n",
       "    </tr>\n",
       "  </thead>\n",
       "  <tbody>\n",
       "    <tr>\n",
       "      <th>0</th>\n",
       "      <td>1000_0</td>\n",
       "      <td>2018-07-25</td>\n",
       "      <td>0.000</td>\n",
       "      <td>1000</td>\n",
       "    </tr>\n",
       "    <tr>\n",
       "      <th>1</th>\n",
       "      <td>1000_1</td>\n",
       "      <td>2018-08-17</td>\n",
       "      <td>0.000</td>\n",
       "      <td>1000</td>\n",
       "    </tr>\n",
       "    <tr>\n",
       "      <th>2</th>\n",
       "      <td>1000_2</td>\n",
       "      <td>2018-06-11</td>\n",
       "      <td>2.850</td>\n",
       "      <td>1000</td>\n",
       "    </tr>\n",
       "    <tr>\n",
       "      <th>3</th>\n",
       "      <td>1000_3</td>\n",
       "      <td>2018-09-21</td>\n",
       "      <td>13.800</td>\n",
       "      <td>1000</td>\n",
       "    </tr>\n",
       "    <tr>\n",
       "      <th>4</th>\n",
       "      <td>1000_4</td>\n",
       "      <td>2018-12-15</td>\n",
       "      <td>5.180</td>\n",
       "      <td>1000</td>\n",
       "    </tr>\n",
       "  </tbody>\n",
       "</table>\n",
       "</div>"
      ],
      "text/plain": [
       "       id   call_date  duration  user_id\n",
       "0  1000_0  2018-07-25     0.000     1000\n",
       "1  1000_1  2018-08-17     0.000     1000\n",
       "2  1000_2  2018-06-11     2.850     1000\n",
       "3  1000_3  2018-09-21    13.800     1000\n",
       "4  1000_4  2018-12-15     5.180     1000"
      ]
     },
     "metadata": {},
     "output_type": "display_data"
    },
    {
     "name": "stdout",
     "output_type": "stream",
     "text": [
      "\n",
      "\n",
      "----------Тип данных----------\n",
      "<class 'pandas.core.frame.DataFrame'>\n",
      "RangeIndex: 202607 entries, 0 to 202606\n",
      "Data columns (total 4 columns):\n",
      " #   Column     Non-Null Count   Dtype  \n",
      "---  ------     --------------   -----  \n",
      " 0   id         202607 non-null  object \n",
      " 1   call_date  202607 non-null  object \n",
      " 2   duration   202607 non-null  float64\n",
      " 3   user_id    202607 non-null  int64  \n",
      "dtypes: float64(1), int64(1), object(2)\n",
      "memory usage: 6.2+ MB\n"
     ]
    },
    {
     "data": {
      "text/plain": [
       "None"
      ]
     },
     "metadata": {},
     "output_type": "display_data"
    },
    {
     "name": "stdout",
     "output_type": "stream",
     "text": [
      "\n",
      "\n",
      "----------Пропуски в данных----------\n",
      "Пропусков нет\n",
      "\n",
      "\n",
      "----------Дубликаты----------\n",
      "Дубликатов нет\n",
      "\n",
      "\n",
      "----------Количество клиентов----------\n",
      "Количество клиентов: 492\n"
     ]
    }
   ],
   "source": [
    "first_look(calls)"
   ]
  },
  {
   "cell_type": "code",
   "execution_count": 6,
   "id": "17c413cf",
   "metadata": {},
   "outputs": [
    {
     "name": "stdout",
     "output_type": "stream",
     "text": [
      "----------Первые 5 строк----------\n"
     ]
    },
    {
     "data": {
      "text/html": [
       "<div>\n",
       "<style scoped>\n",
       "    .dataframe tbody tr th:only-of-type {\n",
       "        vertical-align: middle;\n",
       "    }\n",
       "\n",
       "    .dataframe tbody tr th {\n",
       "        vertical-align: top;\n",
       "    }\n",
       "\n",
       "    .dataframe thead th {\n",
       "        text-align: right;\n",
       "    }\n",
       "</style>\n",
       "<table border=\"1\" class=\"dataframe\">\n",
       "  <thead>\n",
       "    <tr style=\"text-align: right;\">\n",
       "      <th></th>\n",
       "      <th>id</th>\n",
       "      <th>message_date</th>\n",
       "      <th>user_id</th>\n",
       "    </tr>\n",
       "  </thead>\n",
       "  <tbody>\n",
       "    <tr>\n",
       "      <th>0</th>\n",
       "      <td>1000_0</td>\n",
       "      <td>2018-06-27</td>\n",
       "      <td>1000</td>\n",
       "    </tr>\n",
       "    <tr>\n",
       "      <th>1</th>\n",
       "      <td>1000_1</td>\n",
       "      <td>2018-10-08</td>\n",
       "      <td>1000</td>\n",
       "    </tr>\n",
       "    <tr>\n",
       "      <th>2</th>\n",
       "      <td>1000_2</td>\n",
       "      <td>2018-08-04</td>\n",
       "      <td>1000</td>\n",
       "    </tr>\n",
       "    <tr>\n",
       "      <th>3</th>\n",
       "      <td>1000_3</td>\n",
       "      <td>2018-06-16</td>\n",
       "      <td>1000</td>\n",
       "    </tr>\n",
       "    <tr>\n",
       "      <th>4</th>\n",
       "      <td>1000_4</td>\n",
       "      <td>2018-12-05</td>\n",
       "      <td>1000</td>\n",
       "    </tr>\n",
       "  </tbody>\n",
       "</table>\n",
       "</div>"
      ],
      "text/plain": [
       "       id message_date  user_id\n",
       "0  1000_0   2018-06-27     1000\n",
       "1  1000_1   2018-10-08     1000\n",
       "2  1000_2   2018-08-04     1000\n",
       "3  1000_3   2018-06-16     1000\n",
       "4  1000_4   2018-12-05     1000"
      ]
     },
     "metadata": {},
     "output_type": "display_data"
    },
    {
     "name": "stdout",
     "output_type": "stream",
     "text": [
      "\n",
      "\n",
      "----------Тип данных----------\n",
      "<class 'pandas.core.frame.DataFrame'>\n",
      "RangeIndex: 123036 entries, 0 to 123035\n",
      "Data columns (total 3 columns):\n",
      " #   Column        Non-Null Count   Dtype \n",
      "---  ------        --------------   ----- \n",
      " 0   id            123036 non-null  object\n",
      " 1   message_date  123036 non-null  object\n",
      " 2   user_id       123036 non-null  int64 \n",
      "dtypes: int64(1), object(2)\n",
      "memory usage: 2.8+ MB\n"
     ]
    },
    {
     "data": {
      "text/plain": [
       "None"
      ]
     },
     "metadata": {},
     "output_type": "display_data"
    },
    {
     "name": "stdout",
     "output_type": "stream",
     "text": [
      "\n",
      "\n",
      "----------Пропуски в данных----------\n",
      "Пропусков нет\n",
      "\n",
      "\n",
      "----------Дубликаты----------\n",
      "Дубликатов нет\n",
      "\n",
      "\n",
      "----------Количество клиентов----------\n",
      "Количество клиентов: 426\n"
     ]
    }
   ],
   "source": [
    "first_look(messages)"
   ]
  },
  {
   "cell_type": "code",
   "execution_count": 7,
   "id": "fccf61a5",
   "metadata": {},
   "outputs": [
    {
     "name": "stdout",
     "output_type": "stream",
     "text": [
      "----------Первые 5 строк----------\n"
     ]
    },
    {
     "data": {
      "text/html": [
       "<div>\n",
       "<style scoped>\n",
       "    .dataframe tbody tr th:only-of-type {\n",
       "        vertical-align: middle;\n",
       "    }\n",
       "\n",
       "    .dataframe tbody tr th {\n",
       "        vertical-align: top;\n",
       "    }\n",
       "\n",
       "    .dataframe thead th {\n",
       "        text-align: right;\n",
       "    }\n",
       "</style>\n",
       "<table border=\"1\" class=\"dataframe\">\n",
       "  <thead>\n",
       "    <tr style=\"text-align: right;\">\n",
       "      <th></th>\n",
       "      <th>Unnamed: 0</th>\n",
       "      <th>id</th>\n",
       "      <th>mb_used</th>\n",
       "      <th>session_date</th>\n",
       "      <th>user_id</th>\n",
       "    </tr>\n",
       "  </thead>\n",
       "  <tbody>\n",
       "    <tr>\n",
       "      <th>0</th>\n",
       "      <td>0</td>\n",
       "      <td>1000_0</td>\n",
       "      <td>112.950</td>\n",
       "      <td>2018-11-25</td>\n",
       "      <td>1000</td>\n",
       "    </tr>\n",
       "    <tr>\n",
       "      <th>1</th>\n",
       "      <td>1</td>\n",
       "      <td>1000_1</td>\n",
       "      <td>1052.810</td>\n",
       "      <td>2018-09-07</td>\n",
       "      <td>1000</td>\n",
       "    </tr>\n",
       "    <tr>\n",
       "      <th>2</th>\n",
       "      <td>2</td>\n",
       "      <td>1000_2</td>\n",
       "      <td>1197.260</td>\n",
       "      <td>2018-06-25</td>\n",
       "      <td>1000</td>\n",
       "    </tr>\n",
       "    <tr>\n",
       "      <th>3</th>\n",
       "      <td>3</td>\n",
       "      <td>1000_3</td>\n",
       "      <td>550.270</td>\n",
       "      <td>2018-08-22</td>\n",
       "      <td>1000</td>\n",
       "    </tr>\n",
       "    <tr>\n",
       "      <th>4</th>\n",
       "      <td>4</td>\n",
       "      <td>1000_4</td>\n",
       "      <td>302.560</td>\n",
       "      <td>2018-09-24</td>\n",
       "      <td>1000</td>\n",
       "    </tr>\n",
       "  </tbody>\n",
       "</table>\n",
       "</div>"
      ],
      "text/plain": [
       "   Unnamed: 0      id  mb_used session_date  user_id\n",
       "0           0  1000_0  112.950   2018-11-25     1000\n",
       "1           1  1000_1 1052.810   2018-09-07     1000\n",
       "2           2  1000_2 1197.260   2018-06-25     1000\n",
       "3           3  1000_3  550.270   2018-08-22     1000\n",
       "4           4  1000_4  302.560   2018-09-24     1000"
      ]
     },
     "metadata": {},
     "output_type": "display_data"
    },
    {
     "name": "stdout",
     "output_type": "stream",
     "text": [
      "\n",
      "\n",
      "----------Тип данных----------\n",
      "<class 'pandas.core.frame.DataFrame'>\n",
      "RangeIndex: 149396 entries, 0 to 149395\n",
      "Data columns (total 5 columns):\n",
      " #   Column        Non-Null Count   Dtype  \n",
      "---  ------        --------------   -----  \n",
      " 0   Unnamed: 0    149396 non-null  int64  \n",
      " 1   id            149396 non-null  object \n",
      " 2   mb_used       149396 non-null  float64\n",
      " 3   session_date  149396 non-null  object \n",
      " 4   user_id       149396 non-null  int64  \n",
      "dtypes: float64(1), int64(2), object(2)\n",
      "memory usage: 5.7+ MB\n"
     ]
    },
    {
     "data": {
      "text/plain": [
       "None"
      ]
     },
     "metadata": {},
     "output_type": "display_data"
    },
    {
     "name": "stdout",
     "output_type": "stream",
     "text": [
      "\n",
      "\n",
      "----------Пропуски в данных----------\n",
      "Пропусков нет\n",
      "\n",
      "\n",
      "----------Дубликаты----------\n",
      "Дубликатов нет\n",
      "\n",
      "\n",
      "----------Количество клиентов----------\n",
      "Количество клиентов: 497\n"
     ]
    }
   ],
   "source": [
    "first_look(internet)"
   ]
  },
  {
   "cell_type": "code",
   "execution_count": 8,
   "id": "225ba5e9",
   "metadata": {},
   "outputs": [
    {
     "data": {
      "text/html": [
       "<div>\n",
       "<style scoped>\n",
       "    .dataframe tbody tr th:only-of-type {\n",
       "        vertical-align: middle;\n",
       "    }\n",
       "\n",
       "    .dataframe tbody tr th {\n",
       "        vertical-align: top;\n",
       "    }\n",
       "\n",
       "    .dataframe thead th {\n",
       "        text-align: right;\n",
       "    }\n",
       "</style>\n",
       "<table border=\"1\" class=\"dataframe\">\n",
       "  <thead>\n",
       "    <tr style=\"text-align: right;\">\n",
       "      <th></th>\n",
       "      <th>messages_included</th>\n",
       "      <th>mb_per_month_included</th>\n",
       "      <th>minutes_included</th>\n",
       "      <th>rub_monthly_fee</th>\n",
       "      <th>rub_per_gb</th>\n",
       "      <th>rub_per_message</th>\n",
       "      <th>rub_per_minute</th>\n",
       "      <th>tariff_name</th>\n",
       "    </tr>\n",
       "  </thead>\n",
       "  <tbody>\n",
       "    <tr>\n",
       "      <th>0</th>\n",
       "      <td>50</td>\n",
       "      <td>15360</td>\n",
       "      <td>500</td>\n",
       "      <td>550</td>\n",
       "      <td>200</td>\n",
       "      <td>3</td>\n",
       "      <td>3</td>\n",
       "      <td>smart</td>\n",
       "    </tr>\n",
       "    <tr>\n",
       "      <th>1</th>\n",
       "      <td>1000</td>\n",
       "      <td>30720</td>\n",
       "      <td>3000</td>\n",
       "      <td>1950</td>\n",
       "      <td>150</td>\n",
       "      <td>1</td>\n",
       "      <td>1</td>\n",
       "      <td>ultra</td>\n",
       "    </tr>\n",
       "  </tbody>\n",
       "</table>\n",
       "</div>"
      ],
      "text/plain": [
       "   messages_included  mb_per_month_included  minutes_included  \\\n",
       "0                 50                  15360               500   \n",
       "1               1000                  30720              3000   \n",
       "\n",
       "   rub_monthly_fee  rub_per_gb  rub_per_message  rub_per_minute tariff_name  \n",
       "0              550         200                3               3       smart  \n",
       "1             1950         150                1               1       ultra  "
      ]
     },
     "execution_count": 8,
     "metadata": {},
     "output_type": "execute_result"
    }
   ],
   "source": [
    "tariffs"
   ]
  },
  {
   "cell_type": "markdown",
   "id": "18aac44e",
   "metadata": {},
   "source": [
    "**Выводы**\n",
    "\n",
    "**`users`**\n",
    "- в столбце `churn_date` есть пропуски, которые означают, что клиент не перестал пользоваться тарифом;\n",
    "- необходимо преобразовать `reg_date` в формат datetime;\n",
    "- необходимо выделить столбец со значением месяца.\n",
    "\n",
    "**`calls`**\n",
    "- необходимо преобразовать `call_date` в формат datetime;\n",
    "- необходимо выделить столбец со значением месяца;\n",
    "- необходимо округлить минуты в большую сторону;\n",
    "- наблюдаются нулевые значения длительности звонков.\n",
    "\n",
    "**`messages`**\n",
    "- преобразовать `message_date` в datetime;\n",
    "- необходимо выделить столбец со значением месяца.\n",
    "\n",
    "**`internet`**\n",
    "- удалить столбец `id` - видимо это индексы;\n",
    "- преобразовать `session_date` в datetime;\n",
    "- необходимо выделить столбец со значением месяца;\n",
    "- необходимо перевести мб в гб и округлить в большую сторону.\n",
    "\n",
    "**`tariffs`**\n",
    "- всё нормально.\n",
    "\n",
    "\n",
    "\n",
    "**Ни в одной таблице количество клиентов не совпадает с 500.**"
   ]
  },
  {
   "cell_type": "markdown",
   "id": "7abc97db",
   "metadata": {},
   "source": [
    "## Приведение данных "
   ]
  },
  {
   "cell_type": "markdown",
   "id": "2fc1471c",
   "metadata": {},
   "source": [
    "### Ошибки и типы данных"
   ]
  },
  {
   "cell_type": "markdown",
   "id": "b7b6b30e",
   "metadata": {},
   "source": [
    "- Привидение данных к нужным типам;\n",
    "- поиск и исправление ошибок в данных, если они есть."
   ]
  },
  {
   "cell_type": "markdown",
   "id": "35f4f0ea",
   "metadata": {},
   "source": [
    "#### Проверка количества клиентов"
   ]
  },
  {
   "cell_type": "markdown",
   "id": "8418d76d",
   "metadata": {},
   "source": [
    "Проверим все ли клиенты в наблюдаются в таблице с информацией о пользователях."
   ]
  },
  {
   "cell_type": "code",
   "execution_count": 9,
   "id": "110b22e3",
   "metadata": {},
   "outputs": [
    {
     "name": "stdout",
     "output_type": "stream",
     "text": [
      "0\n",
      "0\n",
      "0\n"
     ]
    }
   ],
   "source": [
    "# Спискок уникальных клиентов\n",
    "users_all = users['user_id'].unique()\n",
    "\n",
    "# Спискок уникальных клиентов в calls\n",
    "users_calls_list = calls['user_id'].unique()\n",
    "\n",
    "# Спискок уникальных клиентов в messages\n",
    "users_messages_list = messages['user_id'].unique()\n",
    "\n",
    "# Спискок уникальных клиентов в internet\n",
    "users_internet_list = internet['user_id'].unique()\n",
    "\n",
    "users_lists = [users_calls_list, users_messages_list, users_internet_list]\n",
    "\n",
    "# Цикл для проверки наличия user_id таблицы users в таблицах calls, messages, internet.\n",
    "# Цикл по массивам уникальных клиентов - звонки, сообщения, интернет\n",
    "for users_list in users_lists:\n",
    "    users_itog = []\n",
    "\n",
    "    # Цикл по массиву\n",
    "    for user_id in users_list:\n",
    "        # Если user_id встречается в users_all и его нет в users_itog\n",
    "        if user_id in users_all and user_id not in users_itog:\n",
    "            users_itog.append(user_id)\n",
    "    print(len(users_list) - len(users_itog))"
   ]
  },
  {
   "cell_type": "markdown",
   "id": "cee0a247",
   "metadata": {},
   "source": [
    "Это означет, что все клиенты в таблицах calls, messages, internet присутствуют в таблице users."
   ]
  },
  {
   "cell_type": "markdown",
   "id": "af4fbfb4",
   "metadata": {},
   "source": [
    "#### `users`"
   ]
  },
  {
   "cell_type": "code",
   "execution_count": 10,
   "id": "e7a40036",
   "metadata": {},
   "outputs": [
    {
     "data": {
      "text/html": [
       "<div>\n",
       "<style scoped>\n",
       "    .dataframe tbody tr th:only-of-type {\n",
       "        vertical-align: middle;\n",
       "    }\n",
       "\n",
       "    .dataframe tbody tr th {\n",
       "        vertical-align: top;\n",
       "    }\n",
       "\n",
       "    .dataframe thead th {\n",
       "        text-align: right;\n",
       "    }\n",
       "</style>\n",
       "<table border=\"1\" class=\"dataframe\">\n",
       "  <thead>\n",
       "    <tr style=\"text-align: right;\">\n",
       "      <th></th>\n",
       "      <th>user_id</th>\n",
       "      <th>age</th>\n",
       "      <th>churn_date</th>\n",
       "      <th>city</th>\n",
       "      <th>first_name</th>\n",
       "      <th>last_name</th>\n",
       "      <th>reg_date</th>\n",
       "      <th>tariff</th>\n",
       "      <th>month</th>\n",
       "    </tr>\n",
       "  </thead>\n",
       "  <tbody>\n",
       "    <tr>\n",
       "      <th>0</th>\n",
       "      <td>1000</td>\n",
       "      <td>52</td>\n",
       "      <td>NaN</td>\n",
       "      <td>Краснодар</td>\n",
       "      <td>Рафаил</td>\n",
       "      <td>Верещагин</td>\n",
       "      <td>2018-05-25</td>\n",
       "      <td>ultra</td>\n",
       "      <td>5</td>\n",
       "    </tr>\n",
       "    <tr>\n",
       "      <th>1</th>\n",
       "      <td>1001</td>\n",
       "      <td>41</td>\n",
       "      <td>NaN</td>\n",
       "      <td>Москва</td>\n",
       "      <td>Иван</td>\n",
       "      <td>Ежов</td>\n",
       "      <td>2018-11-01</td>\n",
       "      <td>smart</td>\n",
       "      <td>11</td>\n",
       "    </tr>\n",
       "    <tr>\n",
       "      <th>2</th>\n",
       "      <td>1002</td>\n",
       "      <td>59</td>\n",
       "      <td>NaN</td>\n",
       "      <td>Стерлитамак</td>\n",
       "      <td>Евгений</td>\n",
       "      <td>Абрамович</td>\n",
       "      <td>2018-06-17</td>\n",
       "      <td>smart</td>\n",
       "      <td>6</td>\n",
       "    </tr>\n",
       "    <tr>\n",
       "      <th>3</th>\n",
       "      <td>1003</td>\n",
       "      <td>23</td>\n",
       "      <td>NaN</td>\n",
       "      <td>Москва</td>\n",
       "      <td>Белла</td>\n",
       "      <td>Белякова</td>\n",
       "      <td>2018-08-17</td>\n",
       "      <td>ultra</td>\n",
       "      <td>8</td>\n",
       "    </tr>\n",
       "    <tr>\n",
       "      <th>4</th>\n",
       "      <td>1004</td>\n",
       "      <td>68</td>\n",
       "      <td>NaN</td>\n",
       "      <td>Новокузнецк</td>\n",
       "      <td>Татьяна</td>\n",
       "      <td>Авдеенко</td>\n",
       "      <td>2018-05-14</td>\n",
       "      <td>ultra</td>\n",
       "      <td>5</td>\n",
       "    </tr>\n",
       "  </tbody>\n",
       "</table>\n",
       "</div>"
      ],
      "text/plain": [
       "   user_id  age churn_date         city first_name  last_name   reg_date  \\\n",
       "0     1000   52        NaN    Краснодар     Рафаил  Верещагин 2018-05-25   \n",
       "1     1001   41        NaN       Москва       Иван       Ежов 2018-11-01   \n",
       "2     1002   59        NaN  Стерлитамак    Евгений  Абрамович 2018-06-17   \n",
       "3     1003   23        NaN       Москва      Белла   Белякова 2018-08-17   \n",
       "4     1004   68        NaN  Новокузнецк    Татьяна   Авдеенко 2018-05-14   \n",
       "\n",
       "  tariff  month  \n",
       "0  ultra      5  \n",
       "1  smart     11  \n",
       "2  smart      6  \n",
       "3  ultra      8  \n",
       "4  ultra      5  "
      ]
     },
     "execution_count": 10,
     "metadata": {},
     "output_type": "execute_result"
    }
   ],
   "source": [
    "# Преобразование в datetime\n",
    "users['reg_date'] = pd.to_datetime(users['reg_date'], format='%Y-%m-%d')\n",
    "\n",
    "# Выделение столбца с месяцем\n",
    "users['month'] = pd.DatetimeIndex(users['reg_date']).month\n",
    "\n",
    "users.head()"
   ]
  },
  {
   "cell_type": "markdown",
   "id": "0aab0e7c",
   "metadata": {},
   "source": [
    "Данные преобразованы."
   ]
  },
  {
   "cell_type": "markdown",
   "id": "4e8c8e78",
   "metadata": {},
   "source": [
    "#### `calls`"
   ]
  },
  {
   "cell_type": "code",
   "execution_count": 11,
   "id": "07aaa1eb",
   "metadata": {},
   "outputs": [
    {
     "data": {
      "text/html": [
       "<div>\n",
       "<style scoped>\n",
       "    .dataframe tbody tr th:only-of-type {\n",
       "        vertical-align: middle;\n",
       "    }\n",
       "\n",
       "    .dataframe tbody tr th {\n",
       "        vertical-align: top;\n",
       "    }\n",
       "\n",
       "    .dataframe thead th {\n",
       "        text-align: right;\n",
       "    }\n",
       "</style>\n",
       "<table border=\"1\" class=\"dataframe\">\n",
       "  <thead>\n",
       "    <tr style=\"text-align: right;\">\n",
       "      <th></th>\n",
       "      <th>id</th>\n",
       "      <th>call_date</th>\n",
       "      <th>duration</th>\n",
       "      <th>user_id</th>\n",
       "      <th>month_num</th>\n",
       "      <th>month</th>\n",
       "    </tr>\n",
       "  </thead>\n",
       "  <tbody>\n",
       "    <tr>\n",
       "      <th>0</th>\n",
       "      <td>1000_0</td>\n",
       "      <td>2018-07-25</td>\n",
       "      <td>0</td>\n",
       "      <td>1000</td>\n",
       "      <td>7</td>\n",
       "      <td>2018-07-01</td>\n",
       "    </tr>\n",
       "    <tr>\n",
       "      <th>1</th>\n",
       "      <td>1000_1</td>\n",
       "      <td>2018-08-17</td>\n",
       "      <td>0</td>\n",
       "      <td>1000</td>\n",
       "      <td>8</td>\n",
       "      <td>2018-08-01</td>\n",
       "    </tr>\n",
       "    <tr>\n",
       "      <th>2</th>\n",
       "      <td>1000_2</td>\n",
       "      <td>2018-06-11</td>\n",
       "      <td>3</td>\n",
       "      <td>1000</td>\n",
       "      <td>6</td>\n",
       "      <td>2018-06-01</td>\n",
       "    </tr>\n",
       "    <tr>\n",
       "      <th>3</th>\n",
       "      <td>1000_3</td>\n",
       "      <td>2018-09-21</td>\n",
       "      <td>14</td>\n",
       "      <td>1000</td>\n",
       "      <td>9</td>\n",
       "      <td>2018-09-01</td>\n",
       "    </tr>\n",
       "    <tr>\n",
       "      <th>4</th>\n",
       "      <td>1000_4</td>\n",
       "      <td>2018-12-15</td>\n",
       "      <td>6</td>\n",
       "      <td>1000</td>\n",
       "      <td>12</td>\n",
       "      <td>2018-12-01</td>\n",
       "    </tr>\n",
       "  </tbody>\n",
       "</table>\n",
       "</div>"
      ],
      "text/plain": [
       "       id  call_date  duration  user_id  month_num      month\n",
       "0  1000_0 2018-07-25         0     1000          7 2018-07-01\n",
       "1  1000_1 2018-08-17         0     1000          8 2018-08-01\n",
       "2  1000_2 2018-06-11         3     1000          6 2018-06-01\n",
       "3  1000_3 2018-09-21        14     1000          9 2018-09-01\n",
       "4  1000_4 2018-12-15         6     1000         12 2018-12-01"
      ]
     },
     "execution_count": 11,
     "metadata": {},
     "output_type": "execute_result"
    }
   ],
   "source": [
    "# Преобразование в datetime\n",
    "calls['call_date'] = pd.to_datetime(calls['call_date'], format='%Y-%m-%d')\n",
    "\n",
    "# Выделение столбца с месяцем\n",
    "calls['month_num'] = pd.DatetimeIndex(calls['call_date']).month\n",
    "\n",
    "# Добавление столбца с началом календарного месяца\n",
    "calls['month'] = calls['call_date'].astype('datetime64[M]')\n",
    "\n",
    "# Округление минут в большую сторону\n",
    "calls['duration'] = np.ceil(calls['duration']).astype('int')\n",
    "\n",
    "calls.head()"
   ]
  },
  {
   "cell_type": "code",
   "execution_count": 12,
   "id": "64e502cf",
   "metadata": {},
   "outputs": [],
   "source": [
    "# Функция для построения гистограммы и диаграммы размаха\n",
    "def hist_maker(column, bins):\n",
    "    print(column.describe())\n",
    "    plt.figure(figsize=(10,6))\n",
    "    plt.hist(column, bins=bins, color='grey', edgecolor='grey', alpha=0.8)\n",
    "    plt.axvline(column.describe()['mean'], color='r', linestyle='dashed', linewidth=3, label='Mean value: {:.2f}'.format(column.describe()['mean']))\n",
    "    plt.axvline(column.describe()['50%'], color='b', linestyle='dotted', linewidth=3, label='Median value: {:.0f}'.format(column.describe()['50%']))\n",
    "    plt.xlabel(column.name)\n",
    "    plt.ylabel('count')\n",
    "    plt.legend()\n",
    "    plt.title('Histogramm {}'.format(column.name))\n",
    "    plt.figure(figsize=(20,2))\n",
    "    sns.boxplot(x=column)\n",
    "    plt.title('Boxplot {}'.format(column.name))"
   ]
  },
  {
   "cell_type": "code",
   "execution_count": 13,
   "id": "6e05eba7",
   "metadata": {},
   "outputs": [
    {
     "name": "stdout",
     "output_type": "stream",
     "text": [
      "count   202607.000\n",
      "mean         7.158\n",
      "std          5.959\n",
      "min          0.000\n",
      "25%          2.000\n",
      "50%          6.000\n",
      "75%         11.000\n",
      "max         38.000\n",
      "Name: duration, dtype: float64\n"
     ]
    },
    {
     "data": {
      "image/png": "[encoded data removed]",
      "text/plain": [
       "<Figure size 720x432 with 1 Axes>"
      ]
     },
     "metadata": {
      "needs_background": "light"
     },
     "output_type": "display_data"
    },
    {
     "data": {
      "image/png": "[encoded data removed]",
      "text/plain": [
       "<Figure size 1440x144 with 1 Axes>"
      ]
     },
     "metadata": {
      "needs_background": "light"
     },
     "output_type": "display_data"
    }
   ],
   "source": [
    "hist_maker(calls['duration'], 38)"
   ]
  },
  {
   "cell_type": "markdown",
   "id": "57b41b0c",
   "metadata": {},
   "source": [
    "- Данные преобразованы;\n",
    "- На гистограмме выскакаивают нулевые значения - это пропущенные звонки."
   ]
  },
  {
   "cell_type": "markdown",
   "id": "414d7a38",
   "metadata": {},
   "source": [
    "#### `messages`"
   ]
  },
  {
   "cell_type": "code",
   "execution_count": 14,
   "id": "8cb5990b",
   "metadata": {},
   "outputs": [
    {
     "data": {
      "text/html": [
       "<div>\n",
       "<style scoped>\n",
       "    .dataframe tbody tr th:only-of-type {\n",
       "        vertical-align: middle;\n",
       "    }\n",
       "\n",
       "    .dataframe tbody tr th {\n",
       "        vertical-align: top;\n",
       "    }\n",
       "\n",
       "    .dataframe thead th {\n",
       "        text-align: right;\n",
       "    }\n",
       "</style>\n",
       "<table border=\"1\" class=\"dataframe\">\n",
       "  <thead>\n",
       "    <tr style=\"text-align: right;\">\n",
       "      <th></th>\n",
       "      <th>id</th>\n",
       "      <th>message_date</th>\n",
       "      <th>user_id</th>\n",
       "      <th>month_num</th>\n",
       "      <th>month</th>\n",
       "    </tr>\n",
       "  </thead>\n",
       "  <tbody>\n",
       "    <tr>\n",
       "      <th>0</th>\n",
       "      <td>1000_0</td>\n",
       "      <td>2018-06-27</td>\n",
       "      <td>1000</td>\n",
       "      <td>6</td>\n",
       "      <td>2018-06-01</td>\n",
       "    </tr>\n",
       "    <tr>\n",
       "      <th>1</th>\n",
       "      <td>1000_1</td>\n",
       "      <td>2018-10-08</td>\n",
       "      <td>1000</td>\n",
       "      <td>10</td>\n",
       "      <td>2018-10-01</td>\n",
       "    </tr>\n",
       "    <tr>\n",
       "      <th>2</th>\n",
       "      <td>1000_2</td>\n",
       "      <td>2018-08-04</td>\n",
       "      <td>1000</td>\n",
       "      <td>8</td>\n",
       "      <td>2018-08-01</td>\n",
       "    </tr>\n",
       "    <tr>\n",
       "      <th>3</th>\n",
       "      <td>1000_3</td>\n",
       "      <td>2018-06-16</td>\n",
       "      <td>1000</td>\n",
       "      <td>6</td>\n",
       "      <td>2018-06-01</td>\n",
       "    </tr>\n",
       "    <tr>\n",
       "      <th>4</th>\n",
       "      <td>1000_4</td>\n",
       "      <td>2018-12-05</td>\n",
       "      <td>1000</td>\n",
       "      <td>12</td>\n",
       "      <td>2018-12-01</td>\n",
       "    </tr>\n",
       "  </tbody>\n",
       "</table>\n",
       "</div>"
      ],
      "text/plain": [
       "       id message_date  user_id  month_num      month\n",
       "0  1000_0   2018-06-27     1000          6 2018-06-01\n",
       "1  1000_1   2018-10-08     1000         10 2018-10-01\n",
       "2  1000_2   2018-08-04     1000          8 2018-08-01\n",
       "3  1000_3   2018-06-16     1000          6 2018-06-01\n",
       "4  1000_4   2018-12-05     1000         12 2018-12-01"
      ]
     },
     "execution_count": 14,
     "metadata": {},
     "output_type": "execute_result"
    }
   ],
   "source": [
    "# Преобразование в datetime\n",
    "messages['message_date'] = pd.to_datetime(messages['message_date'], format='%Y-%m-%d')\n",
    "\n",
    "# Выделение столбца с месяцем\n",
    "messages['month_num'] = pd.DatetimeIndex(messages['message_date']).month\n",
    "\n",
    "# Добавление столбца с началом календарного месяца\n",
    "messages['month'] = messages['message_date'].astype('datetime64[M]')\n",
    "\n",
    "messages.head()"
   ]
  },
  {
   "cell_type": "code",
   "execution_count": 15,
   "id": "a4f7bff8",
   "metadata": {},
   "outputs": [
    {
     "data": {
      "text/html": [
       "<div>\n",
       "<style scoped>\n",
       "    .dataframe tbody tr th:only-of-type {\n",
       "        vertical-align: middle;\n",
       "    }\n",
       "\n",
       "    .dataframe tbody tr th {\n",
       "        vertical-align: top;\n",
       "    }\n",
       "\n",
       "    .dataframe thead th {\n",
       "        text-align: right;\n",
       "    }\n",
       "</style>\n",
       "<table border=\"1\" class=\"dataframe\">\n",
       "  <thead>\n",
       "    <tr style=\"text-align: right;\">\n",
       "      <th></th>\n",
       "      <th>user_id</th>\n",
       "      <th>month</th>\n",
       "      <th>messages</th>\n",
       "    </tr>\n",
       "  </thead>\n",
       "  <tbody>\n",
       "    <tr>\n",
       "      <th>0</th>\n",
       "      <td>1000</td>\n",
       "      <td>2018-05-01</td>\n",
       "      <td>22</td>\n",
       "    </tr>\n",
       "    <tr>\n",
       "      <th>1</th>\n",
       "      <td>1000</td>\n",
       "      <td>2018-06-01</td>\n",
       "      <td>60</td>\n",
       "    </tr>\n",
       "    <tr>\n",
       "      <th>2</th>\n",
       "      <td>1000</td>\n",
       "      <td>2018-07-01</td>\n",
       "      <td>75</td>\n",
       "    </tr>\n",
       "    <tr>\n",
       "      <th>3</th>\n",
       "      <td>1000</td>\n",
       "      <td>2018-08-01</td>\n",
       "      <td>81</td>\n",
       "    </tr>\n",
       "    <tr>\n",
       "      <th>4</th>\n",
       "      <td>1000</td>\n",
       "      <td>2018-09-01</td>\n",
       "      <td>57</td>\n",
       "    </tr>\n",
       "  </tbody>\n",
       "</table>\n",
       "</div>"
      ],
      "text/plain": [
       "   user_id      month  messages\n",
       "0     1000 2018-05-01        22\n",
       "1     1000 2018-06-01        60\n",
       "2     1000 2018-07-01        75\n",
       "3     1000 2018-08-01        81\n",
       "4     1000 2018-09-01        57"
      ]
     },
     "execution_count": 15,
     "metadata": {},
     "output_type": "execute_result"
    }
   ],
   "source": [
    "# Группировка таблицы для получения ежемесячного количества сообщений каждого пользователя\n",
    "messages_count = messages.groupby(['user_id','month']).agg(messages = ('id', 'count')).reset_index()\n",
    "messages_count.head()"
   ]
  },
  {
   "cell_type": "code",
   "execution_count": 16,
   "id": "a3bb58ff",
   "metadata": {},
   "outputs": [
    {
     "name": "stdout",
     "output_type": "stream",
     "text": [
      "count   2717.000\n",
      "mean      45.284\n",
      "std       35.051\n",
      "min        1.000\n",
      "25%       19.000\n",
      "50%       38.000\n",
      "75%       63.000\n",
      "max      224.000\n",
      "Name: messages, dtype: float64\n"
     ]
    },
    {
     "data": {
      "image/png": "[encoded data removed]",
      "text/plain": [
       "<Figure size 720x432 with 1 Axes>"
      ]
     },
     "metadata": {
      "needs_background": "light"
     },
     "output_type": "display_data"
    },
    {
     "data": {
      "image/png": "[encoded data removed]",
      "text/plain": [
       "<Figure size 1440x144 with 1 Axes>"
      ]
     },
     "metadata": {
      "needs_background": "light"
     },
     "output_type": "display_data"
    }
   ],
   "source": [
    "hist_maker(messages_count['messages'], 50)"
   ]
  },
  {
   "cell_type": "markdown",
   "id": "82b1a3c7",
   "metadata": {},
   "source": [
    "#### `internet`"
   ]
  },
  {
   "cell_type": "code",
   "execution_count": 17,
   "id": "ecc6b17e",
   "metadata": {},
   "outputs": [
    {
     "data": {
      "text/html": [
       "<div>\n",
       "<style scoped>\n",
       "    .dataframe tbody tr th:only-of-type {\n",
       "        vertical-align: middle;\n",
       "    }\n",
       "\n",
       "    .dataframe tbody tr th {\n",
       "        vertical-align: top;\n",
       "    }\n",
       "\n",
       "    .dataframe thead th {\n",
       "        text-align: right;\n",
       "    }\n",
       "</style>\n",
       "<table border=\"1\" class=\"dataframe\">\n",
       "  <thead>\n",
       "    <tr style=\"text-align: right;\">\n",
       "      <th></th>\n",
       "      <th>id</th>\n",
       "      <th>mb_used</th>\n",
       "      <th>session_date</th>\n",
       "      <th>user_id</th>\n",
       "      <th>month_num</th>\n",
       "      <th>month</th>\n",
       "      <th>gb_used</th>\n",
       "    </tr>\n",
       "  </thead>\n",
       "  <tbody>\n",
       "    <tr>\n",
       "      <th>0</th>\n",
       "      <td>1000_0</td>\n",
       "      <td>112.950</td>\n",
       "      <td>2018-11-25</td>\n",
       "      <td>1000</td>\n",
       "      <td>11</td>\n",
       "      <td>2018-11-01</td>\n",
       "      <td>1</td>\n",
       "    </tr>\n",
       "    <tr>\n",
       "      <th>1</th>\n",
       "      <td>1000_1</td>\n",
       "      <td>1052.810</td>\n",
       "      <td>2018-09-07</td>\n",
       "      <td>1000</td>\n",
       "      <td>9</td>\n",
       "      <td>2018-09-01</td>\n",
       "      <td>2</td>\n",
       "    </tr>\n",
       "    <tr>\n",
       "      <th>2</th>\n",
       "      <td>1000_2</td>\n",
       "      <td>1197.260</td>\n",
       "      <td>2018-06-25</td>\n",
       "      <td>1000</td>\n",
       "      <td>6</td>\n",
       "      <td>2018-06-01</td>\n",
       "      <td>2</td>\n",
       "    </tr>\n",
       "    <tr>\n",
       "      <th>3</th>\n",
       "      <td>1000_3</td>\n",
       "      <td>550.270</td>\n",
       "      <td>2018-08-22</td>\n",
       "      <td>1000</td>\n",
       "      <td>8</td>\n",
       "      <td>2018-08-01</td>\n",
       "      <td>1</td>\n",
       "    </tr>\n",
       "    <tr>\n",
       "      <th>4</th>\n",
       "      <td>1000_4</td>\n",
       "      <td>302.560</td>\n",
       "      <td>2018-09-24</td>\n",
       "      <td>1000</td>\n",
       "      <td>9</td>\n",
       "      <td>2018-09-01</td>\n",
       "      <td>1</td>\n",
       "    </tr>\n",
       "  </tbody>\n",
       "</table>\n",
       "</div>"
      ],
      "text/plain": [
       "       id  mb_used session_date  user_id  month_num      month  gb_used\n",
       "0  1000_0  112.950   2018-11-25     1000         11 2018-11-01        1\n",
       "1  1000_1 1052.810   2018-09-07     1000          9 2018-09-01        2\n",
       "2  1000_2 1197.260   2018-06-25     1000          6 2018-06-01        2\n",
       "3  1000_3  550.270   2018-08-22     1000          8 2018-08-01        1\n",
       "4  1000_4  302.560   2018-09-24     1000          9 2018-09-01        1"
      ]
     },
     "execution_count": 17,
     "metadata": {},
     "output_type": "execute_result"
    }
   ],
   "source": [
    "# Преобразование в datetime\n",
    "internet['session_date'] = pd.to_datetime(internet['session_date'], format='%Y-%m-%d')\n",
    "\n",
    "# Выделение столбца с месяцем\n",
    "internet['month_num'] = pd.DatetimeIndex(internet['session_date']).month\n",
    "\n",
    "# Добавление столбца с началом календарного месяца\n",
    "internet['month'] = internet['session_date'].astype('datetime64[M]')\n",
    "\n",
    "# Удаление столбца с порядковыми номерами\n",
    "internet = internet.drop('Unnamed: 0', axis=1)\n",
    "\n",
    "# Преобразование мегабайт в гигабайты\n",
    "internet['gb_used'] = internet['mb_used'] / 1024\n",
    "      \n",
    "# Округление gb\n",
    "internet['gb_used'] = np.ceil(internet['gb_used']).astype('int')\n",
    "\n",
    "internet.head()"
   ]
  },
  {
   "cell_type": "code",
   "execution_count": 18,
   "id": "56b2d69c",
   "metadata": {},
   "outputs": [
    {
     "name": "stdout",
     "output_type": "stream",
     "text": [
      "count   149396.000\n",
      "mean       370.192\n",
      "std        278.301\n",
      "min          0.000\n",
      "25%        138.188\n",
      "50%        348.015\n",
      "75%        559.553\n",
      "max       1724.830\n",
      "Name: mb_used, dtype: float64\n"
     ]
    },
    {
     "data": {
      "image/png": "[encoded data removed]",
      "text/plain": [
       "<Figure size 720x432 with 1 Axes>"
      ]
     },
     "metadata": {
      "needs_background": "light"
     },
     "output_type": "display_data"
    },
    {
     "data": {
      "image/png": "[encoded data removed]",
      "text/plain": [
       "<Figure size 1440x144 with 1 Axes>"
      ]
     },
     "metadata": {
      "needs_background": "light"
     },
     "output_type": "display_data"
    }
   ],
   "source": [
    "hist_maker(internet['mb_used'], 50)"
   ]
  },
  {
   "cell_type": "code",
   "execution_count": 19,
   "id": "28ccb707",
   "metadata": {},
   "outputs": [
    {
     "data": {
      "text/html": [
       "<div>\n",
       "<style scoped>\n",
       "    .dataframe tbody tr th:only-of-type {\n",
       "        vertical-align: middle;\n",
       "    }\n",
       "\n",
       "    .dataframe tbody tr th {\n",
       "        vertical-align: top;\n",
       "    }\n",
       "\n",
       "    .dataframe thead th {\n",
       "        text-align: right;\n",
       "    }\n",
       "</style>\n",
       "<table border=\"1\" class=\"dataframe\">\n",
       "  <thead>\n",
       "    <tr style=\"text-align: right;\">\n",
       "      <th></th>\n",
       "      <th>user_id</th>\n",
       "      <th>month</th>\n",
       "      <th>gb</th>\n",
       "    </tr>\n",
       "  </thead>\n",
       "  <tbody>\n",
       "    <tr>\n",
       "      <th>0</th>\n",
       "      <td>1000</td>\n",
       "      <td>2018-05-01</td>\n",
       "      <td>4</td>\n",
       "    </tr>\n",
       "    <tr>\n",
       "      <th>1</th>\n",
       "      <td>1000</td>\n",
       "      <td>2018-06-01</td>\n",
       "      <td>49</td>\n",
       "    </tr>\n",
       "    <tr>\n",
       "      <th>2</th>\n",
       "      <td>1000</td>\n",
       "      <td>2018-07-01</td>\n",
       "      <td>28</td>\n",
       "    </tr>\n",
       "    <tr>\n",
       "      <th>3</th>\n",
       "      <td>1000</td>\n",
       "      <td>2018-08-01</td>\n",
       "      <td>27</td>\n",
       "    </tr>\n",
       "    <tr>\n",
       "      <th>4</th>\n",
       "      <td>1000</td>\n",
       "      <td>2018-09-01</td>\n",
       "      <td>26</td>\n",
       "    </tr>\n",
       "  </tbody>\n",
       "</table>\n",
       "</div>"
      ],
      "text/plain": [
       "   user_id      month  gb\n",
       "0     1000 2018-05-01   4\n",
       "1     1000 2018-06-01  49\n",
       "2     1000 2018-07-01  28\n",
       "3     1000 2018-08-01  27\n",
       "4     1000 2018-09-01  26"
      ]
     },
     "execution_count": 19,
     "metadata": {},
     "output_type": "execute_result"
    }
   ],
   "source": [
    "# Помесячное рассмотрение объема интернета пользователей\n",
    "gb_count = internet.groupby(['user_id', 'month']).agg(gb=('gb_used', 'sum')).reset_index()\n",
    "gb_count.head()"
   ]
  },
  {
   "cell_type": "code",
   "execution_count": 20,
   "id": "f4208bcb",
   "metadata": {},
   "outputs": [
    {
     "name": "stdout",
     "output_type": "stream",
     "text": [
      "count   3203.000\n",
      "mean      41.256\n",
      "std       16.463\n",
      "min        0.000\n",
      "25%       31.000\n",
      "50%       42.000\n",
      "75%       52.000\n",
      "max      101.000\n",
      "Name: gb, dtype: float64\n"
     ]
    },
    {
     "data": {
      "image/png": "[encoded data removed]",
      "text/plain": [
       "<Figure size 720x432 with 1 Axes>"
      ]
     },
     "metadata": {
      "needs_background": "light"
     },
     "output_type": "display_data"
    },
    {
     "data": {
      "image/png": "[encoded data removed]",
      "text/plain": [
       "<Figure size 1440x144 with 1 Axes>"
      ]
     },
     "metadata": {
      "needs_background": "light"
     },
     "output_type": "display_data"
    }
   ],
   "source": [
    "hist_maker(gb_count['gb'], 100)"
   ]
  },
  {
   "cell_type": "markdown",
   "id": "27985dae",
   "metadata": {},
   "source": [
    "- Мегабайты преобразованы в гигабайты;\n",
    "- Наблюдается большое количество нулевых значений объема использованного интернета, что может быть связано с тем, что клиент не пользовался интернетом в этот день."
   ]
  },
  {
   "cell_type": "markdown",
   "id": "d3152512",
   "metadata": {},
   "source": [
    "### Расчет характеристик для каждого пользователя"
   ]
  },
  {
   "cell_type": "markdown",
   "id": "db7602f5",
   "metadata": {},
   "source": [
    "**Расчётные характеристики:**\n",
    "- количество сделанных звонков и израсходованных минут разговора по месяцам;\n",
    "- количество отправленных сообщений по месяцам;\n",
    "- объем израсходованного интернет-трафика по месяцам;\n",
    "- помесячная выручка с каждого пользователя."
   ]
  },
  {
   "cell_type": "markdown",
   "id": "c7555622",
   "metadata": {},
   "source": [
    "#### Количество сделанных звонков и израсходованных минут разговора по месяцам"
   ]
  },
  {
   "cell_type": "code",
   "execution_count": 21,
   "id": "556da920",
   "metadata": {},
   "outputs": [
    {
     "data": {
      "text/html": [
       "<div>\n",
       "<style scoped>\n",
       "    .dataframe tbody tr th:only-of-type {\n",
       "        vertical-align: middle;\n",
       "    }\n",
       "\n",
       "    .dataframe tbody tr th {\n",
       "        vertical-align: top;\n",
       "    }\n",
       "\n",
       "    .dataframe thead th {\n",
       "        text-align: right;\n",
       "    }\n",
       "</style>\n",
       "<table border=\"1\" class=\"dataframe\">\n",
       "  <thead>\n",
       "    <tr style=\"text-align: right;\">\n",
       "      <th></th>\n",
       "      <th>user_id</th>\n",
       "      <th>month</th>\n",
       "      <th>calls_count</th>\n",
       "      <th>calls_duration</th>\n",
       "    </tr>\n",
       "  </thead>\n",
       "  <tbody>\n",
       "    <tr>\n",
       "      <th>0</th>\n",
       "      <td>1000</td>\n",
       "      <td>2018-05-01</td>\n",
       "      <td>22</td>\n",
       "      <td>159</td>\n",
       "    </tr>\n",
       "    <tr>\n",
       "      <th>1</th>\n",
       "      <td>1000</td>\n",
       "      <td>2018-06-01</td>\n",
       "      <td>43</td>\n",
       "      <td>172</td>\n",
       "    </tr>\n",
       "    <tr>\n",
       "      <th>2</th>\n",
       "      <td>1000</td>\n",
       "      <td>2018-07-01</td>\n",
       "      <td>47</td>\n",
       "      <td>340</td>\n",
       "    </tr>\n",
       "    <tr>\n",
       "      <th>3</th>\n",
       "      <td>1000</td>\n",
       "      <td>2018-08-01</td>\n",
       "      <td>52</td>\n",
       "      <td>408</td>\n",
       "    </tr>\n",
       "    <tr>\n",
       "      <th>4</th>\n",
       "      <td>1000</td>\n",
       "      <td>2018-09-01</td>\n",
       "      <td>58</td>\n",
       "      <td>466</td>\n",
       "    </tr>\n",
       "  </tbody>\n",
       "</table>\n",
       "</div>"
      ],
      "text/plain": [
       "   user_id      month  calls_count  calls_duration\n",
       "0     1000 2018-05-01           22             159\n",
       "1     1000 2018-06-01           43             172\n",
       "2     1000 2018-07-01           47             340\n",
       "3     1000 2018-08-01           52             408\n",
       "4     1000 2018-09-01           58             466"
      ]
     },
     "execution_count": 21,
     "metadata": {},
     "output_type": "execute_result"
    }
   ],
   "source": [
    "# Количество сделанных звонков и израсходованных минут по месяцам\n",
    "calls_month_count = (calls.groupby(['user_id', 'month'])\n",
    "                     .agg(calls_count=('id', 'count'), calls_duration=('duration', 'sum'))\n",
    "                     .reset_index())\n",
    "calls_month_count.head()"
   ]
  },
  {
   "cell_type": "markdown",
   "id": "1a1f4c63",
   "metadata": {},
   "source": [
    "#### Количество отправленных сообщений по месяцам"
   ]
  },
  {
   "cell_type": "code",
   "execution_count": 22,
   "id": "85c59a34",
   "metadata": {},
   "outputs": [
    {
     "data": {
      "text/html": [
       "<div>\n",
       "<style scoped>\n",
       "    .dataframe tbody tr th:only-of-type {\n",
       "        vertical-align: middle;\n",
       "    }\n",
       "\n",
       "    .dataframe tbody tr th {\n",
       "        vertical-align: top;\n",
       "    }\n",
       "\n",
       "    .dataframe thead th {\n",
       "        text-align: right;\n",
       "    }\n",
       "</style>\n",
       "<table border=\"1\" class=\"dataframe\">\n",
       "  <thead>\n",
       "    <tr style=\"text-align: right;\">\n",
       "      <th></th>\n",
       "      <th>user_id</th>\n",
       "      <th>month</th>\n",
       "      <th>messages_count</th>\n",
       "    </tr>\n",
       "  </thead>\n",
       "  <tbody>\n",
       "    <tr>\n",
       "      <th>0</th>\n",
       "      <td>1000</td>\n",
       "      <td>2018-05-01</td>\n",
       "      <td>22</td>\n",
       "    </tr>\n",
       "    <tr>\n",
       "      <th>1</th>\n",
       "      <td>1000</td>\n",
       "      <td>2018-06-01</td>\n",
       "      <td>60</td>\n",
       "    </tr>\n",
       "    <tr>\n",
       "      <th>2</th>\n",
       "      <td>1000</td>\n",
       "      <td>2018-07-01</td>\n",
       "      <td>75</td>\n",
       "    </tr>\n",
       "    <tr>\n",
       "      <th>3</th>\n",
       "      <td>1000</td>\n",
       "      <td>2018-08-01</td>\n",
       "      <td>81</td>\n",
       "    </tr>\n",
       "    <tr>\n",
       "      <th>4</th>\n",
       "      <td>1000</td>\n",
       "      <td>2018-09-01</td>\n",
       "      <td>57</td>\n",
       "    </tr>\n",
       "  </tbody>\n",
       "</table>\n",
       "</div>"
      ],
      "text/plain": [
       "   user_id      month  messages_count\n",
       "0     1000 2018-05-01              22\n",
       "1     1000 2018-06-01              60\n",
       "2     1000 2018-07-01              75\n",
       "3     1000 2018-08-01              81\n",
       "4     1000 2018-09-01              57"
      ]
     },
     "execution_count": 22,
     "metadata": {},
     "output_type": "execute_result"
    }
   ],
   "source": [
    "# Ранее было рассчитано\n",
    "messages_count_month = messages.groupby(['user_id', 'month']).agg(messages_count=('id', 'count')).reset_index()\n",
    "messages_count_month.head()"
   ]
  },
  {
   "cell_type": "markdown",
   "id": "0e05513e",
   "metadata": {},
   "source": [
    "#### Объем израсходованного интернет-трафика по месяцам"
   ]
  },
  {
   "cell_type": "code",
   "execution_count": 23,
   "id": "fed77696",
   "metadata": {},
   "outputs": [
    {
     "data": {
      "text/html": [
       "<div>\n",
       "<style scoped>\n",
       "    .dataframe tbody tr th:only-of-type {\n",
       "        vertical-align: middle;\n",
       "    }\n",
       "\n",
       "    .dataframe tbody tr th {\n",
       "        vertical-align: top;\n",
       "    }\n",
       "\n",
       "    .dataframe thead th {\n",
       "        text-align: right;\n",
       "    }\n",
       "</style>\n",
       "<table border=\"1\" class=\"dataframe\">\n",
       "  <thead>\n",
       "    <tr style=\"text-align: right;\">\n",
       "      <th></th>\n",
       "      <th>user_id</th>\n",
       "      <th>month</th>\n",
       "      <th>gb_count</th>\n",
       "    </tr>\n",
       "  </thead>\n",
       "  <tbody>\n",
       "    <tr>\n",
       "      <th>0</th>\n",
       "      <td>1000</td>\n",
       "      <td>2018-05-01</td>\n",
       "      <td>4</td>\n",
       "    </tr>\n",
       "    <tr>\n",
       "      <th>1</th>\n",
       "      <td>1000</td>\n",
       "      <td>2018-06-01</td>\n",
       "      <td>49</td>\n",
       "    </tr>\n",
       "    <tr>\n",
       "      <th>2</th>\n",
       "      <td>1000</td>\n",
       "      <td>2018-07-01</td>\n",
       "      <td>28</td>\n",
       "    </tr>\n",
       "    <tr>\n",
       "      <th>3</th>\n",
       "      <td>1000</td>\n",
       "      <td>2018-08-01</td>\n",
       "      <td>27</td>\n",
       "    </tr>\n",
       "    <tr>\n",
       "      <th>4</th>\n",
       "      <td>1000</td>\n",
       "      <td>2018-09-01</td>\n",
       "      <td>26</td>\n",
       "    </tr>\n",
       "  </tbody>\n",
       "</table>\n",
       "</div>"
      ],
      "text/plain": [
       "   user_id      month  gb_count\n",
       "0     1000 2018-05-01         4\n",
       "1     1000 2018-06-01        49\n",
       "2     1000 2018-07-01        28\n",
       "3     1000 2018-08-01        27\n",
       "4     1000 2018-09-01        26"
      ]
     },
     "execution_count": 23,
     "metadata": {},
     "output_type": "execute_result"
    }
   ],
   "source": [
    "# Ранее было рассчитано\n",
    "gb_month_count = internet.groupby(['user_id', 'month']).agg(gb_count=('gb_used', 'sum')).reset_index()\n",
    "gb_month_count.head()"
   ]
  },
  {
   "cell_type": "markdown",
   "id": "1e254b01",
   "metadata": {},
   "source": [
    "#### Помесячная выручка с каждого пользователя "
   ]
  },
  {
   "cell_type": "markdown",
   "id": "64efd21b",
   "metadata": {},
   "source": [
    "##### Объеденение calls, messages, intrnet по user_id"
   ]
  },
  {
   "cell_type": "code",
   "execution_count": 24,
   "id": "dc799ac0",
   "metadata": {},
   "outputs": [
    {
     "data": {
      "text/html": [
       "<div>\n",
       "<style scoped>\n",
       "    .dataframe tbody tr th:only-of-type {\n",
       "        vertical-align: middle;\n",
       "    }\n",
       "\n",
       "    .dataframe tbody tr th {\n",
       "        vertical-align: top;\n",
       "    }\n",
       "\n",
       "    .dataframe thead th {\n",
       "        text-align: right;\n",
       "    }\n",
       "</style>\n",
       "<table border=\"1\" class=\"dataframe\">\n",
       "  <thead>\n",
       "    <tr style=\"text-align: right;\">\n",
       "      <th></th>\n",
       "      <th>user_id</th>\n",
       "      <th>month</th>\n",
       "      <th>calls_count</th>\n",
       "      <th>calls_duration</th>\n",
       "      <th>messages_count</th>\n",
       "      <th>gb_count</th>\n",
       "    </tr>\n",
       "  </thead>\n",
       "  <tbody>\n",
       "    <tr>\n",
       "      <th>0</th>\n",
       "      <td>1000</td>\n",
       "      <td>2018-05-01</td>\n",
       "      <td>22.000</td>\n",
       "      <td>159.000</td>\n",
       "      <td>22.000</td>\n",
       "      <td>4.000</td>\n",
       "    </tr>\n",
       "    <tr>\n",
       "      <th>1</th>\n",
       "      <td>1000</td>\n",
       "      <td>2018-06-01</td>\n",
       "      <td>43.000</td>\n",
       "      <td>172.000</td>\n",
       "      <td>60.000</td>\n",
       "      <td>49.000</td>\n",
       "    </tr>\n",
       "    <tr>\n",
       "      <th>2</th>\n",
       "      <td>1000</td>\n",
       "      <td>2018-07-01</td>\n",
       "      <td>47.000</td>\n",
       "      <td>340.000</td>\n",
       "      <td>75.000</td>\n",
       "      <td>28.000</td>\n",
       "    </tr>\n",
       "    <tr>\n",
       "      <th>3</th>\n",
       "      <td>1000</td>\n",
       "      <td>2018-08-01</td>\n",
       "      <td>52.000</td>\n",
       "      <td>408.000</td>\n",
       "      <td>81.000</td>\n",
       "      <td>27.000</td>\n",
       "    </tr>\n",
       "    <tr>\n",
       "      <th>4</th>\n",
       "      <td>1000</td>\n",
       "      <td>2018-09-01</td>\n",
       "      <td>58.000</td>\n",
       "      <td>466.000</td>\n",
       "      <td>57.000</td>\n",
       "      <td>26.000</td>\n",
       "    </tr>\n",
       "    <tr>\n",
       "      <th>...</th>\n",
       "      <td>...</td>\n",
       "      <td>...</td>\n",
       "      <td>...</td>\n",
       "      <td>...</td>\n",
       "      <td>...</td>\n",
       "      <td>...</td>\n",
       "    </tr>\n",
       "    <tr>\n",
       "      <th>3209</th>\n",
       "      <td>1489</td>\n",
       "      <td>2018-09-01</td>\n",
       "      <td>NaN</td>\n",
       "      <td>NaN</td>\n",
       "      <td>32.000</td>\n",
       "      <td>50.000</td>\n",
       "    </tr>\n",
       "    <tr>\n",
       "      <th>3210</th>\n",
       "      <td>1489</td>\n",
       "      <td>2018-10-01</td>\n",
       "      <td>NaN</td>\n",
       "      <td>NaN</td>\n",
       "      <td>21.000</td>\n",
       "      <td>52.000</td>\n",
       "    </tr>\n",
       "    <tr>\n",
       "      <th>3211</th>\n",
       "      <td>1489</td>\n",
       "      <td>2018-11-01</td>\n",
       "      <td>NaN</td>\n",
       "      <td>NaN</td>\n",
       "      <td>20.000</td>\n",
       "      <td>46.000</td>\n",
       "    </tr>\n",
       "    <tr>\n",
       "      <th>3212</th>\n",
       "      <td>1489</td>\n",
       "      <td>2018-12-01</td>\n",
       "      <td>NaN</td>\n",
       "      <td>NaN</td>\n",
       "      <td>35.000</td>\n",
       "      <td>45.000</td>\n",
       "    </tr>\n",
       "    <tr>\n",
       "      <th>3213</th>\n",
       "      <td>1476</td>\n",
       "      <td>2018-04-01</td>\n",
       "      <td>NaN</td>\n",
       "      <td>NaN</td>\n",
       "      <td>NaN</td>\n",
       "      <td>1.000</td>\n",
       "    </tr>\n",
       "  </tbody>\n",
       "</table>\n",
       "<p>3214 rows × 6 columns</p>\n",
       "</div>"
      ],
      "text/plain": [
       "      user_id      month  calls_count  calls_duration  messages_count  \\\n",
       "0        1000 2018-05-01       22.000         159.000          22.000   \n",
       "1        1000 2018-06-01       43.000         172.000          60.000   \n",
       "2        1000 2018-07-01       47.000         340.000          75.000   \n",
       "3        1000 2018-08-01       52.000         408.000          81.000   \n",
       "4        1000 2018-09-01       58.000         466.000          57.000   \n",
       "...       ...        ...          ...             ...             ...   \n",
       "3209     1489 2018-09-01          NaN             NaN          32.000   \n",
       "3210     1489 2018-10-01          NaN             NaN          21.000   \n",
       "3211     1489 2018-11-01          NaN             NaN          20.000   \n",
       "3212     1489 2018-12-01          NaN             NaN          35.000   \n",
       "3213     1476 2018-04-01          NaN             NaN             NaN   \n",
       "\n",
       "      gb_count  \n",
       "0        4.000  \n",
       "1       49.000  \n",
       "2       28.000  \n",
       "3       27.000  \n",
       "4       26.000  \n",
       "...        ...  \n",
       "3209    50.000  \n",
       "3210    52.000  \n",
       "3211    46.000  \n",
       "3212    45.000  \n",
       "3213     1.000  \n",
       "\n",
       "[3214 rows x 6 columns]"
      ]
     },
     "execution_count": 24,
     "metadata": {},
     "output_type": "execute_result"
    }
   ],
   "source": [
    "# Объединение таблиц calls_month_count, messages_count_month, data_merge\n",
    "data_merge = pd.merge(calls_month_count, messages_count_month, how='outer', on=['user_id', 'month'])\n",
    "data_merge = pd.merge(data_merge, gb_month_count, how='outer', on=['user_id', 'month'])\n",
    "data_merge"
   ]
  },
  {
   "cell_type": "code",
   "execution_count": 25,
   "id": "9849b83f",
   "metadata": {},
   "outputs": [
    {
     "data": {
      "text/plain": [
       "user_id             0\n",
       "month               0\n",
       "calls_count        40\n",
       "calls_duration     40\n",
       "messages_count    497\n",
       "gb_count           11\n",
       "dtype: int64"
      ]
     },
     "execution_count": 25,
     "metadata": {},
     "output_type": "execute_result"
    }
   ],
   "source": [
    "# Оценка количества пропусков\n",
    "data_merge.isna().sum()"
   ]
  },
  {
   "cell_type": "markdown",
   "id": "9ad07bb8",
   "metadata": {},
   "source": [
    "Буду считать, что пропуски в данных означают то, что клиент не пользовался этим видом связи в каком-либо из месяцев. Также буду учитывать, что некоторые user_id я удалял ранее. Они могли при объеденении пересечься."
   ]
  },
  {
   "cell_type": "code",
   "execution_count": 26,
   "id": "8a4cd0d1",
   "metadata": {},
   "outputs": [
    {
     "data": {
      "text/plain": [
       "user_id           0\n",
       "month             0\n",
       "calls_count       0\n",
       "calls_duration    0\n",
       "messages_count    0\n",
       "gb_count          0\n",
       "dtype: int64"
      ]
     },
     "execution_count": 26,
     "metadata": {},
     "output_type": "execute_result"
    }
   ],
   "source": [
    "data_merge = data_merge.fillna(0)\n",
    "data_merge.isna().sum()"
   ]
  },
  {
   "cell_type": "markdown",
   "id": "ab0d7102",
   "metadata": {},
   "source": [
    "Пропуски в данных устранены."
   ]
  },
  {
   "cell_type": "code",
   "execution_count": 27,
   "id": "3cd8d88c",
   "metadata": {},
   "outputs": [
    {
     "name": "stdout",
     "output_type": "stream",
     "text": [
      "Доля оставшихся клиентов после преобразований 99.6 %\n"
     ]
    }
   ],
   "source": [
    "# Доля оставшихся клиентов после преобразований\n",
    "print('Доля оставшихся клиентов после преобразований',round(data_merge['user_id'].nunique() / len(users) * 100, 2),'%')"
   ]
  },
  {
   "cell_type": "markdown",
   "id": "4a3eafa3",
   "metadata": {},
   "source": [
    "##### Объеденение имен тарифов по user_id"
   ]
  },
  {
   "cell_type": "code",
   "execution_count": 28,
   "id": "a0e8e6bd",
   "metadata": {},
   "outputs": [
    {
     "data": {
      "text/html": [
       "<div>\n",
       "<style scoped>\n",
       "    .dataframe tbody tr th:only-of-type {\n",
       "        vertical-align: middle;\n",
       "    }\n",
       "\n",
       "    .dataframe tbody tr th {\n",
       "        vertical-align: top;\n",
       "    }\n",
       "\n",
       "    .dataframe thead th {\n",
       "        text-align: right;\n",
       "    }\n",
       "</style>\n",
       "<table border=\"1\" class=\"dataframe\">\n",
       "  <thead>\n",
       "    <tr style=\"text-align: right;\">\n",
       "      <th></th>\n",
       "      <th>user_id</th>\n",
       "      <th>month</th>\n",
       "      <th>calls_count</th>\n",
       "      <th>calls_duration</th>\n",
       "      <th>messages_count</th>\n",
       "      <th>gb_count</th>\n",
       "      <th>tariff</th>\n",
       "    </tr>\n",
       "  </thead>\n",
       "  <tbody>\n",
       "    <tr>\n",
       "      <th>0</th>\n",
       "      <td>1000</td>\n",
       "      <td>2018-05-01</td>\n",
       "      <td>22.000</td>\n",
       "      <td>159.000</td>\n",
       "      <td>22.000</td>\n",
       "      <td>4.000</td>\n",
       "      <td>ultra</td>\n",
       "    </tr>\n",
       "    <tr>\n",
       "      <th>1</th>\n",
       "      <td>1000</td>\n",
       "      <td>2018-06-01</td>\n",
       "      <td>43.000</td>\n",
       "      <td>172.000</td>\n",
       "      <td>60.000</td>\n",
       "      <td>49.000</td>\n",
       "      <td>ultra</td>\n",
       "    </tr>\n",
       "    <tr>\n",
       "      <th>2</th>\n",
       "      <td>1000</td>\n",
       "      <td>2018-07-01</td>\n",
       "      <td>47.000</td>\n",
       "      <td>340.000</td>\n",
       "      <td>75.000</td>\n",
       "      <td>28.000</td>\n",
       "      <td>ultra</td>\n",
       "    </tr>\n",
       "    <tr>\n",
       "      <th>3</th>\n",
       "      <td>1000</td>\n",
       "      <td>2018-08-01</td>\n",
       "      <td>52.000</td>\n",
       "      <td>408.000</td>\n",
       "      <td>81.000</td>\n",
       "      <td>27.000</td>\n",
       "      <td>ultra</td>\n",
       "    </tr>\n",
       "    <tr>\n",
       "      <th>4</th>\n",
       "      <td>1000</td>\n",
       "      <td>2018-09-01</td>\n",
       "      <td>58.000</td>\n",
       "      <td>466.000</td>\n",
       "      <td>57.000</td>\n",
       "      <td>26.000</td>\n",
       "      <td>ultra</td>\n",
       "    </tr>\n",
       "    <tr>\n",
       "      <th>...</th>\n",
       "      <td>...</td>\n",
       "      <td>...</td>\n",
       "      <td>...</td>\n",
       "      <td>...</td>\n",
       "      <td>...</td>\n",
       "      <td>...</td>\n",
       "      <td>...</td>\n",
       "    </tr>\n",
       "    <tr>\n",
       "      <th>3209</th>\n",
       "      <td>1489</td>\n",
       "      <td>2018-09-01</td>\n",
       "      <td>0.000</td>\n",
       "      <td>0.000</td>\n",
       "      <td>32.000</td>\n",
       "      <td>50.000</td>\n",
       "      <td>smart</td>\n",
       "    </tr>\n",
       "    <tr>\n",
       "      <th>3210</th>\n",
       "      <td>1489</td>\n",
       "      <td>2018-10-01</td>\n",
       "      <td>0.000</td>\n",
       "      <td>0.000</td>\n",
       "      <td>21.000</td>\n",
       "      <td>52.000</td>\n",
       "      <td>smart</td>\n",
       "    </tr>\n",
       "    <tr>\n",
       "      <th>3211</th>\n",
       "      <td>1489</td>\n",
       "      <td>2018-11-01</td>\n",
       "      <td>0.000</td>\n",
       "      <td>0.000</td>\n",
       "      <td>20.000</td>\n",
       "      <td>46.000</td>\n",
       "      <td>smart</td>\n",
       "    </tr>\n",
       "    <tr>\n",
       "      <th>3212</th>\n",
       "      <td>1489</td>\n",
       "      <td>2018-12-01</td>\n",
       "      <td>0.000</td>\n",
       "      <td>0.000</td>\n",
       "      <td>35.000</td>\n",
       "      <td>45.000</td>\n",
       "      <td>smart</td>\n",
       "    </tr>\n",
       "    <tr>\n",
       "      <th>3213</th>\n",
       "      <td>1476</td>\n",
       "      <td>2018-04-01</td>\n",
       "      <td>0.000</td>\n",
       "      <td>0.000</td>\n",
       "      <td>0.000</td>\n",
       "      <td>1.000</td>\n",
       "      <td>ultra</td>\n",
       "    </tr>\n",
       "  </tbody>\n",
       "</table>\n",
       "<p>3214 rows × 7 columns</p>\n",
       "</div>"
      ],
      "text/plain": [
       "      user_id      month  calls_count  calls_duration  messages_count  \\\n",
       "0        1000 2018-05-01       22.000         159.000          22.000   \n",
       "1        1000 2018-06-01       43.000         172.000          60.000   \n",
       "2        1000 2018-07-01       47.000         340.000          75.000   \n",
       "3        1000 2018-08-01       52.000         408.000          81.000   \n",
       "4        1000 2018-09-01       58.000         466.000          57.000   \n",
       "...       ...        ...          ...             ...             ...   \n",
       "3209     1489 2018-09-01        0.000           0.000          32.000   \n",
       "3210     1489 2018-10-01        0.000           0.000          21.000   \n",
       "3211     1489 2018-11-01        0.000           0.000          20.000   \n",
       "3212     1489 2018-12-01        0.000           0.000          35.000   \n",
       "3213     1476 2018-04-01        0.000           0.000           0.000   \n",
       "\n",
       "      gb_count tariff  \n",
       "0        4.000  ultra  \n",
       "1       49.000  ultra  \n",
       "2       28.000  ultra  \n",
       "3       27.000  ultra  \n",
       "4       26.000  ultra  \n",
       "...        ...    ...  \n",
       "3209    50.000  smart  \n",
       "3210    52.000  smart  \n",
       "3211    46.000  smart  \n",
       "3212    45.000  smart  \n",
       "3213     1.000  ultra  \n",
       "\n",
       "[3214 rows x 7 columns]"
      ]
     },
     "execution_count": 28,
     "metadata": {},
     "output_type": "execute_result"
    }
   ],
   "source": [
    "data_merge = pd.merge(data_merge, users[['user_id', 'tariff']], how='left', on='user_id')\n",
    "data_merge"
   ]
  },
  {
   "cell_type": "markdown",
   "id": "13ac7552",
   "metadata": {},
   "source": [
    "Посчитаем количество пользователей оставшихся после объеденения."
   ]
  },
  {
   "cell_type": "code",
   "execution_count": 29,
   "id": "62866030",
   "metadata": {},
   "outputs": [
    {
     "data": {
      "text/plain": [
       "498"
      ]
     },
     "execution_count": 29,
     "metadata": {},
     "output_type": "execute_result"
    }
   ],
   "source": [
    "data_merge['user_id'].nunique()"
   ]
  },
  {
   "cell_type": "markdown",
   "id": "552f3963",
   "metadata": {},
   "source": [
    "Их меньше, чем должно быть. Проверим двух, которые не вошли в объедененную таблицу. Пользовались ли они чем-нибудь?"
   ]
  },
  {
   "cell_type": "code",
   "execution_count": 30,
   "id": "b405af87",
   "metadata": {},
   "outputs": [
    {
     "data": {
      "text/html": [
       "<div>\n",
       "<style scoped>\n",
       "    .dataframe tbody tr th:only-of-type {\n",
       "        vertical-align: middle;\n",
       "    }\n",
       "\n",
       "    .dataframe tbody tr th {\n",
       "        vertical-align: top;\n",
       "    }\n",
       "\n",
       "    .dataframe thead th {\n",
       "        text-align: right;\n",
       "    }\n",
       "</style>\n",
       "<table border=\"1\" class=\"dataframe\">\n",
       "  <thead>\n",
       "    <tr style=\"text-align: right;\">\n",
       "      <th></th>\n",
       "      <th>user_id</th>\n",
       "      <th>age</th>\n",
       "      <th>churn_date</th>\n",
       "      <th>city</th>\n",
       "      <th>first_name</th>\n",
       "      <th>last_name</th>\n",
       "      <th>reg_date</th>\n",
       "      <th>tariff</th>\n",
       "      <th>month</th>\n",
       "    </tr>\n",
       "  </thead>\n",
       "  <tbody>\n",
       "    <tr>\n",
       "      <th>128</th>\n",
       "      <td>1128</td>\n",
       "      <td>51</td>\n",
       "      <td>2018-12-23</td>\n",
       "      <td>Волжский</td>\n",
       "      <td>Ксения</td>\n",
       "      <td>Агаева</td>\n",
       "      <td>2018-12-15</td>\n",
       "      <td>ultra</td>\n",
       "      <td>12</td>\n",
       "    </tr>\n",
       "    <tr>\n",
       "      <th>371</th>\n",
       "      <td>1371</td>\n",
       "      <td>50</td>\n",
       "      <td>2018-12-30</td>\n",
       "      <td>Омск</td>\n",
       "      <td>Ириней</td>\n",
       "      <td>Трофимов</td>\n",
       "      <td>2018-12-25</td>\n",
       "      <td>smart</td>\n",
       "      <td>12</td>\n",
       "    </tr>\n",
       "  </tbody>\n",
       "</table>\n",
       "</div>"
      ],
      "text/plain": [
       "     user_id  age  churn_date      city first_name last_name   reg_date  \\\n",
       "128     1128   51  2018-12-23  Волжский     Ксения    Агаева 2018-12-15   \n",
       "371     1371   50  2018-12-30      Омск     Ириней  Трофимов 2018-12-25   \n",
       "\n",
       "    tariff  month  \n",
       "128  ultra     12  \n",
       "371  smart     12  "
      ]
     },
     "execution_count": 30,
     "metadata": {},
     "output_type": "execute_result"
    }
   ],
   "source": [
    "users[users['user_id'].isin(data_merge['user_id'].unique()) == False]"
   ]
  },
  {
   "cell_type": "code",
   "execution_count": 31,
   "id": "4b0ca500",
   "metadata": {},
   "outputs": [
    {
     "data": {
      "text/html": [
       "<div>\n",
       "<style scoped>\n",
       "    .dataframe tbody tr th:only-of-type {\n",
       "        vertical-align: middle;\n",
       "    }\n",
       "\n",
       "    .dataframe tbody tr th {\n",
       "        vertical-align: top;\n",
       "    }\n",
       "\n",
       "    .dataframe thead th {\n",
       "        text-align: right;\n",
       "    }\n",
       "</style>\n",
       "<table border=\"1\" class=\"dataframe\">\n",
       "  <thead>\n",
       "    <tr style=\"text-align: right;\">\n",
       "      <th></th>\n",
       "      <th>id</th>\n",
       "      <th>message_date</th>\n",
       "      <th>user_id</th>\n",
       "      <th>month_num</th>\n",
       "      <th>month</th>\n",
       "    </tr>\n",
       "  </thead>\n",
       "  <tbody>\n",
       "  </tbody>\n",
       "</table>\n",
       "</div>"
      ],
      "text/plain": [
       "Empty DataFrame\n",
       "Columns: [id, message_date, user_id, month_num, month]\n",
       "Index: []"
      ]
     },
     "execution_count": 31,
     "metadata": {},
     "output_type": "execute_result"
    }
   ],
   "source": [
    "messages[messages['user_id'].isin(data_merge['user_id'].unique()) == False]"
   ]
  },
  {
   "cell_type": "code",
   "execution_count": 32,
   "id": "965e1589",
   "metadata": {},
   "outputs": [
    {
     "data": {
      "text/html": [
       "<div>\n",
       "<style scoped>\n",
       "    .dataframe tbody tr th:only-of-type {\n",
       "        vertical-align: middle;\n",
       "    }\n",
       "\n",
       "    .dataframe tbody tr th {\n",
       "        vertical-align: top;\n",
       "    }\n",
       "\n",
       "    .dataframe thead th {\n",
       "        text-align: right;\n",
       "    }\n",
       "</style>\n",
       "<table border=\"1\" class=\"dataframe\">\n",
       "  <thead>\n",
       "    <tr style=\"text-align: right;\">\n",
       "      <th></th>\n",
       "      <th>id</th>\n",
       "      <th>call_date</th>\n",
       "      <th>duration</th>\n",
       "      <th>user_id</th>\n",
       "      <th>month_num</th>\n",
       "      <th>month</th>\n",
       "    </tr>\n",
       "  </thead>\n",
       "  <tbody>\n",
       "  </tbody>\n",
       "</table>\n",
       "</div>"
      ],
      "text/plain": [
       "Empty DataFrame\n",
       "Columns: [id, call_date, duration, user_id, month_num, month]\n",
       "Index: []"
      ]
     },
     "execution_count": 32,
     "metadata": {},
     "output_type": "execute_result"
    }
   ],
   "source": [
    "calls[calls['user_id'].isin(data_merge['user_id'].unique()) == False]"
   ]
  },
  {
   "cell_type": "code",
   "execution_count": 33,
   "id": "3b43eef6",
   "metadata": {},
   "outputs": [
    {
     "data": {
      "text/html": [
       "<div>\n",
       "<style scoped>\n",
       "    .dataframe tbody tr th:only-of-type {\n",
       "        vertical-align: middle;\n",
       "    }\n",
       "\n",
       "    .dataframe tbody tr th {\n",
       "        vertical-align: top;\n",
       "    }\n",
       "\n",
       "    .dataframe thead th {\n",
       "        text-align: right;\n",
       "    }\n",
       "</style>\n",
       "<table border=\"1\" class=\"dataframe\">\n",
       "  <thead>\n",
       "    <tr style=\"text-align: right;\">\n",
       "      <th></th>\n",
       "      <th>id</th>\n",
       "      <th>mb_used</th>\n",
       "      <th>session_date</th>\n",
       "      <th>user_id</th>\n",
       "      <th>month_num</th>\n",
       "      <th>month</th>\n",
       "      <th>gb_used</th>\n",
       "    </tr>\n",
       "  </thead>\n",
       "  <tbody>\n",
       "  </tbody>\n",
       "</table>\n",
       "</div>"
      ],
      "text/plain": [
       "Empty DataFrame\n",
       "Columns: [id, mb_used, session_date, user_id, month_num, month, gb_used]\n",
       "Index: []"
      ]
     },
     "execution_count": 33,
     "metadata": {},
     "output_type": "execute_result"
    }
   ],
   "source": [
    "internet[internet['user_id'].isin(data_merge['user_id'].unique()) == False]"
   ]
  },
  {
   "cell_type": "markdown",
   "id": "fbb4611c",
   "metadata": {},
   "source": [
    "Не вошедшие два клиента так и не вомпользовались услугами телеком компании."
   ]
  },
  {
   "cell_type": "markdown",
   "id": "a95c5e4a",
   "metadata": {},
   "source": [
    "##### Объеденение таблицы с информацией о тарифах"
   ]
  },
  {
   "cell_type": "code",
   "execution_count": 34,
   "id": "c034b832",
   "metadata": {},
   "outputs": [
    {
     "data": {
      "text/html": [
       "<div>\n",
       "<style scoped>\n",
       "    .dataframe tbody tr th:only-of-type {\n",
       "        vertical-align: middle;\n",
       "    }\n",
       "\n",
       "    .dataframe tbody tr th {\n",
       "        vertical-align: top;\n",
       "    }\n",
       "\n",
       "    .dataframe thead th {\n",
       "        text-align: right;\n",
       "    }\n",
       "</style>\n",
       "<table border=\"1\" class=\"dataframe\">\n",
       "  <thead>\n",
       "    <tr style=\"text-align: right;\">\n",
       "      <th></th>\n",
       "      <th>user_id</th>\n",
       "      <th>month</th>\n",
       "      <th>calls_count</th>\n",
       "      <th>calls_duration</th>\n",
       "      <th>messages_count</th>\n",
       "      <th>gb_count</th>\n",
       "      <th>tariff</th>\n",
       "      <th>messages_included</th>\n",
       "      <th>mb_per_month_included</th>\n",
       "      <th>minutes_included</th>\n",
       "      <th>rub_monthly_fee</th>\n",
       "      <th>rub_per_gb</th>\n",
       "      <th>rub_per_message</th>\n",
       "      <th>rub_per_minute</th>\n",
       "    </tr>\n",
       "  </thead>\n",
       "  <tbody>\n",
       "    <tr>\n",
       "      <th>0</th>\n",
       "      <td>1000</td>\n",
       "      <td>2018-05-01</td>\n",
       "      <td>22.000</td>\n",
       "      <td>159.000</td>\n",
       "      <td>22.000</td>\n",
       "      <td>4.000</td>\n",
       "      <td>ultra</td>\n",
       "      <td>1000</td>\n",
       "      <td>30720</td>\n",
       "      <td>3000</td>\n",
       "      <td>1950</td>\n",
       "      <td>150</td>\n",
       "      <td>1</td>\n",
       "      <td>1</td>\n",
       "    </tr>\n",
       "    <tr>\n",
       "      <th>1</th>\n",
       "      <td>1000</td>\n",
       "      <td>2018-06-01</td>\n",
       "      <td>43.000</td>\n",
       "      <td>172.000</td>\n",
       "      <td>60.000</td>\n",
       "      <td>49.000</td>\n",
       "      <td>ultra</td>\n",
       "      <td>1000</td>\n",
       "      <td>30720</td>\n",
       "      <td>3000</td>\n",
       "      <td>1950</td>\n",
       "      <td>150</td>\n",
       "      <td>1</td>\n",
       "      <td>1</td>\n",
       "    </tr>\n",
       "    <tr>\n",
       "      <th>2</th>\n",
       "      <td>1000</td>\n",
       "      <td>2018-07-01</td>\n",
       "      <td>47.000</td>\n",
       "      <td>340.000</td>\n",
       "      <td>75.000</td>\n",
       "      <td>28.000</td>\n",
       "      <td>ultra</td>\n",
       "      <td>1000</td>\n",
       "      <td>30720</td>\n",
       "      <td>3000</td>\n",
       "      <td>1950</td>\n",
       "      <td>150</td>\n",
       "      <td>1</td>\n",
       "      <td>1</td>\n",
       "    </tr>\n",
       "    <tr>\n",
       "      <th>3</th>\n",
       "      <td>1000</td>\n",
       "      <td>2018-08-01</td>\n",
       "      <td>52.000</td>\n",
       "      <td>408.000</td>\n",
       "      <td>81.000</td>\n",
       "      <td>27.000</td>\n",
       "      <td>ultra</td>\n",
       "      <td>1000</td>\n",
       "      <td>30720</td>\n",
       "      <td>3000</td>\n",
       "      <td>1950</td>\n",
       "      <td>150</td>\n",
       "      <td>1</td>\n",
       "      <td>1</td>\n",
       "    </tr>\n",
       "    <tr>\n",
       "      <th>4</th>\n",
       "      <td>1000</td>\n",
       "      <td>2018-09-01</td>\n",
       "      <td>58.000</td>\n",
       "      <td>466.000</td>\n",
       "      <td>57.000</td>\n",
       "      <td>26.000</td>\n",
       "      <td>ultra</td>\n",
       "      <td>1000</td>\n",
       "      <td>30720</td>\n",
       "      <td>3000</td>\n",
       "      <td>1950</td>\n",
       "      <td>150</td>\n",
       "      <td>1</td>\n",
       "      <td>1</td>\n",
       "    </tr>\n",
       "  </tbody>\n",
       "</table>\n",
       "</div>"
      ],
      "text/plain": [
       "   user_id      month  calls_count  calls_duration  messages_count  gb_count  \\\n",
       "0     1000 2018-05-01       22.000         159.000          22.000     4.000   \n",
       "1     1000 2018-06-01       43.000         172.000          60.000    49.000   \n",
       "2     1000 2018-07-01       47.000         340.000          75.000    28.000   \n",
       "3     1000 2018-08-01       52.000         408.000          81.000    27.000   \n",
       "4     1000 2018-09-01       58.000         466.000          57.000    26.000   \n",
       "\n",
       "  tariff  messages_included  mb_per_month_included  minutes_included  \\\n",
       "0  ultra               1000                  30720              3000   \n",
       "1  ultra               1000                  30720              3000   \n",
       "2  ultra               1000                  30720              3000   \n",
       "3  ultra               1000                  30720              3000   \n",
       "4  ultra               1000                  30720              3000   \n",
       "\n",
       "   rub_monthly_fee  rub_per_gb  rub_per_message  rub_per_minute  \n",
       "0             1950         150                1               1  \n",
       "1             1950         150                1               1  \n",
       "2             1950         150                1               1  \n",
       "3             1950         150                1               1  \n",
       "4             1950         150                1               1  "
      ]
     },
     "execution_count": 34,
     "metadata": {},
     "output_type": "execute_result"
    }
   ],
   "source": [
    "# Переименование столбца в таблице с характеристиками тарифов\n",
    "tariffs = tariffs.rename(columns={'tariff_name' : 'tariff'})\n",
    "\n",
    "# Объеденение\n",
    "data_merge = pd.merge(data_merge, tariffs, how='inner', on='tariff')\n",
    "data_merge.head()"
   ]
  },
  {
   "cell_type": "markdown",
   "id": "0c24fc80",
   "metadata": {},
   "source": [
    "##### Расчет выручки"
   ]
  },
  {
   "cell_type": "markdown",
   "id": "3927c97c",
   "metadata": {},
   "source": [
    "Рассчитаем выручку:\n",
    "- Вычитаем бесплатный лимит из суммарного количества звонков, сообщений и интернет-трафика; \n",
    "- Остаток умножаем на значение из тарифного плана;\n",
    "- Прибавляем абонентскую плату, соответствующую тарифному плану."
   ]
  },
  {
   "cell_type": "code",
   "execution_count": 35,
   "id": "34fbb3d1",
   "metadata": {},
   "outputs": [],
   "source": [
    "# Функция для расчета выручки от каждого клиента за месяц\n",
    "def revenue(row):\n",
    "    revenue = row['rub_monthly_fee']\n",
    "    if (row['calls_duration'] > row['minutes_included']):\n",
    "        revenue += (row['calls_duration'] - row['minutes_included']) * row['rub_per_minute']\n",
    "    if (row['messages_count'] > row['messages_included']):\n",
    "        revenue += (row['messages_count'] - row['messages_included']) * row['rub_per_message']\n",
    "    if (row['gb_count'] > row['mb_per_month_included'] / 1024):\n",
    "        revenue += (row['gb_count'] - row['mb_per_month_included'] / 1024) * row['rub_per_gb']\n",
    "    return round(revenue, 2)"
   ]
  },
  {
   "cell_type": "code",
   "execution_count": 36,
   "id": "fbff1c0a",
   "metadata": {},
   "outputs": [],
   "source": [
    "# Применение функции\n",
    "data_merge['revenue'] = data_merge.apply(revenue, axis=1)"
   ]
  },
  {
   "cell_type": "code",
   "execution_count": 37,
   "id": "b7dfe4ca",
   "metadata": {},
   "outputs": [
    {
     "data": {
      "text/html": [
       "<div>\n",
       "<style scoped>\n",
       "    .dataframe tbody tr th:only-of-type {\n",
       "        vertical-align: middle;\n",
       "    }\n",
       "\n",
       "    .dataframe tbody tr th {\n",
       "        vertical-align: top;\n",
       "    }\n",
       "\n",
       "    .dataframe thead th {\n",
       "        text-align: right;\n",
       "    }\n",
       "</style>\n",
       "<table border=\"1\" class=\"dataframe\">\n",
       "  <thead>\n",
       "    <tr style=\"text-align: right;\">\n",
       "      <th></th>\n",
       "      <th>user_id</th>\n",
       "      <th>month</th>\n",
       "      <th>calls_count</th>\n",
       "      <th>calls_duration</th>\n",
       "      <th>messages_count</th>\n",
       "      <th>gb_count</th>\n",
       "      <th>tariff</th>\n",
       "      <th>messages_included</th>\n",
       "      <th>mb_per_month_included</th>\n",
       "      <th>minutes_included</th>\n",
       "      <th>rub_monthly_fee</th>\n",
       "      <th>rub_per_gb</th>\n",
       "      <th>rub_per_message</th>\n",
       "      <th>rub_per_minute</th>\n",
       "      <th>revenue</th>\n",
       "    </tr>\n",
       "  </thead>\n",
       "  <tbody>\n",
       "    <tr>\n",
       "      <th>0</th>\n",
       "      <td>1000</td>\n",
       "      <td>2018-05-01</td>\n",
       "      <td>22.000</td>\n",
       "      <td>159.000</td>\n",
       "      <td>22.000</td>\n",
       "      <td>4.000</td>\n",
       "      <td>ultra</td>\n",
       "      <td>1000</td>\n",
       "      <td>30720</td>\n",
       "      <td>3000</td>\n",
       "      <td>1950</td>\n",
       "      <td>150</td>\n",
       "      <td>1</td>\n",
       "      <td>1</td>\n",
       "      <td>1950.000</td>\n",
       "    </tr>\n",
       "    <tr>\n",
       "      <th>1</th>\n",
       "      <td>1000</td>\n",
       "      <td>2018-06-01</td>\n",
       "      <td>43.000</td>\n",
       "      <td>172.000</td>\n",
       "      <td>60.000</td>\n",
       "      <td>49.000</td>\n",
       "      <td>ultra</td>\n",
       "      <td>1000</td>\n",
       "      <td>30720</td>\n",
       "      <td>3000</td>\n",
       "      <td>1950</td>\n",
       "      <td>150</td>\n",
       "      <td>1</td>\n",
       "      <td>1</td>\n",
       "      <td>4800.000</td>\n",
       "    </tr>\n",
       "    <tr>\n",
       "      <th>2</th>\n",
       "      <td>1000</td>\n",
       "      <td>2018-07-01</td>\n",
       "      <td>47.000</td>\n",
       "      <td>340.000</td>\n",
       "      <td>75.000</td>\n",
       "      <td>28.000</td>\n",
       "      <td>ultra</td>\n",
       "      <td>1000</td>\n",
       "      <td>30720</td>\n",
       "      <td>3000</td>\n",
       "      <td>1950</td>\n",
       "      <td>150</td>\n",
       "      <td>1</td>\n",
       "      <td>1</td>\n",
       "      <td>1950.000</td>\n",
       "    </tr>\n",
       "    <tr>\n",
       "      <th>3</th>\n",
       "      <td>1000</td>\n",
       "      <td>2018-08-01</td>\n",
       "      <td>52.000</td>\n",
       "      <td>408.000</td>\n",
       "      <td>81.000</td>\n",
       "      <td>27.000</td>\n",
       "      <td>ultra</td>\n",
       "      <td>1000</td>\n",
       "      <td>30720</td>\n",
       "      <td>3000</td>\n",
       "      <td>1950</td>\n",
       "      <td>150</td>\n",
       "      <td>1</td>\n",
       "      <td>1</td>\n",
       "      <td>1950.000</td>\n",
       "    </tr>\n",
       "    <tr>\n",
       "      <th>4</th>\n",
       "      <td>1000</td>\n",
       "      <td>2018-09-01</td>\n",
       "      <td>58.000</td>\n",
       "      <td>466.000</td>\n",
       "      <td>57.000</td>\n",
       "      <td>26.000</td>\n",
       "      <td>ultra</td>\n",
       "      <td>1000</td>\n",
       "      <td>30720</td>\n",
       "      <td>3000</td>\n",
       "      <td>1950</td>\n",
       "      <td>150</td>\n",
       "      <td>1</td>\n",
       "      <td>1</td>\n",
       "      <td>1950.000</td>\n",
       "    </tr>\n",
       "  </tbody>\n",
       "</table>\n",
       "</div>"
      ],
      "text/plain": [
       "   user_id      month  calls_count  calls_duration  messages_count  gb_count  \\\n",
       "0     1000 2018-05-01       22.000         159.000          22.000     4.000   \n",
       "1     1000 2018-06-01       43.000         172.000          60.000    49.000   \n",
       "2     1000 2018-07-01       47.000         340.000          75.000    28.000   \n",
       "3     1000 2018-08-01       52.000         408.000          81.000    27.000   \n",
       "4     1000 2018-09-01       58.000         466.000          57.000    26.000   \n",
       "\n",
       "  tariff  messages_included  mb_per_month_included  minutes_included  \\\n",
       "0  ultra               1000                  30720              3000   \n",
       "1  ultra               1000                  30720              3000   \n",
       "2  ultra               1000                  30720              3000   \n",
       "3  ultra               1000                  30720              3000   \n",
       "4  ultra               1000                  30720              3000   \n",
       "\n",
       "   rub_monthly_fee  rub_per_gb  rub_per_message  rub_per_minute  revenue  \n",
       "0             1950         150                1               1 1950.000  \n",
       "1             1950         150                1               1 4800.000  \n",
       "2             1950         150                1               1 1950.000  \n",
       "3             1950         150                1               1 1950.000  \n",
       "4             1950         150                1               1 1950.000  "
      ]
     },
     "execution_count": 37,
     "metadata": {},
     "output_type": "execute_result"
    }
   ],
   "source": [
    "data_merge.head(5)"
   ]
  },
  {
   "cell_type": "markdown",
   "id": "72746dba",
   "metadata": {},
   "source": [
    "Выручка расчитана."
   ]
  },
  {
   "cell_type": "markdown",
   "id": "2259b662",
   "metadata": {},
   "source": [
    "## Анализ данных"
   ]
  },
  {
   "cell_type": "markdown",
   "id": "5dead4f1",
   "metadata": {},
   "source": [
    "В данном разделе посмотрим на поведение клиентов оператора:\n",
    "- Сколько минут разговора, сколько сообщений и какой объём интернет-трафика требуется пользователям каждого тарифа в месяц? \n",
    "- Посчитаем среднее количество, дисперсию и стандартное отклонение. \n",
    "- Построем гистограммы и опишем распределения."
   ]
  },
  {
   "cell_type": "code",
   "execution_count": 38,
   "id": "a360bac3",
   "metadata": {},
   "outputs": [],
   "source": [
    "# Обозначение столбца с именем тарифа как индекс\n",
    "# Будет использован в функции ниже для обозначения включенных в тариф количества звонков, сообщений и гигабайт\n",
    "tariffs = tariffs.set_index('tariff')"
   ]
  },
  {
   "cell_type": "code",
   "execution_count": 39,
   "id": "49989aba",
   "metadata": {},
   "outputs": [],
   "source": [
    "# Перевод гигабайт в мегабайты\n",
    "tariffs['gb_per_month_included'] = tariffs['mb_per_month_included'] / 1024"
   ]
  },
  {
   "cell_type": "code",
   "execution_count": 40,
   "id": "8bfd06e2",
   "metadata": {},
   "outputs": [],
   "source": [
    "# Функция для построения гистограммы, диаграммы размаха и таблицы со статистиками по тарифам\n",
    "def hist_and_table_maker(data, characteristic, characteristic_included):\n",
    "    \n",
    "    # Создание группировки характеристики по тарифам\n",
    "    cd = data.groupby('tariff')[characteristic]\n",
    "    cd_desc = cd.describe(percentiles = [.01,.25,.75,.99])\n",
    "    # Оценка со смещением, т.к. выборка\n",
    "    cd_desc['var']= [np.var(cd.get_group('smart'), ddof=1), np.var(cd.get_group('ultra'), ddof=1)]\n",
    "    display(cd_desc)\n",
    "    \n",
    "    # Создание гистограммы\n",
    "    fig = plt.figure(figsize=(20,6))\n",
    "    sns.histplot(data=data_merge, x=characteristic, hue='tariff')\n",
    "    plt.axvline(cd_desc['mean'][0], color='orange', linestyle='dashed', linewidth=3, label='Mean smart: {:.2f}'.format(cd_desc['mean'][0]))\n",
    "    plt.axvline(cd_desc['mean'][1], color='blue', linestyle='dashed', linewidth=3, label='Mean ultra: {:.2f}'.format(cd_desc['mean'][1]))\n",
    "    plt.axvline(tariffs.at['ultra', characteristic_included], color='blue', linestyle='solid', linewidth=3, label='Included in tariff smart')\n",
    "    plt.axvline(tariffs.at['smart', characteristic_included], color='orange', linestyle='solid', linewidth=3, label='Included in tariff ultra')\n",
    "    plt.title('Histogramm {}'.format(characteristic))\n",
    "    fig.legend(loc='upper right', bbox_to_anchor=(0.85, 0.87))\n",
    "    \n",
    "    # Создание диаграммы размаха\n",
    "    plt.figure(figsize=(20,2))\n",
    "    sns.boxplot(data=data_merge, x=characteristic, y='tariff')\n",
    "    plt.title('Boxplot {}'.format(characteristic))"
   ]
  },
  {
   "cell_type": "markdown",
   "id": "df43e45c",
   "metadata": {},
   "source": [
    "### Звонки"
   ]
  },
  {
   "cell_type": "code",
   "execution_count": 41,
   "id": "1058fafd",
   "metadata": {},
   "outputs": [
    {
     "data": {
      "text/html": [
       "<div>\n",
       "<style scoped>\n",
       "    .dataframe tbody tr th:only-of-type {\n",
       "        vertical-align: middle;\n",
       "    }\n",
       "\n",
       "    .dataframe tbody tr th {\n",
       "        vertical-align: top;\n",
       "    }\n",
       "\n",
       "    .dataframe thead th {\n",
       "        text-align: right;\n",
       "    }\n",
       "</style>\n",
       "<table border=\"1\" class=\"dataframe\">\n",
       "  <thead>\n",
       "    <tr style=\"text-align: right;\">\n",
       "      <th></th>\n",
       "      <th>count</th>\n",
       "      <th>mean</th>\n",
       "      <th>std</th>\n",
       "      <th>min</th>\n",
       "      <th>1%</th>\n",
       "      <th>25%</th>\n",
       "      <th>50%</th>\n",
       "      <th>75%</th>\n",
       "      <th>99%</th>\n",
       "      <th>max</th>\n",
       "      <th>var</th>\n",
       "    </tr>\n",
       "    <tr>\n",
       "      <th>tariff</th>\n",
       "      <th></th>\n",
       "      <th></th>\n",
       "      <th></th>\n",
       "      <th></th>\n",
       "      <th></th>\n",
       "      <th></th>\n",
       "      <th></th>\n",
       "      <th></th>\n",
       "      <th></th>\n",
       "      <th></th>\n",
       "      <th></th>\n",
       "    </tr>\n",
       "  </thead>\n",
       "  <tbody>\n",
       "    <tr>\n",
       "      <th>smart</th>\n",
       "      <td>2229.000</td>\n",
       "      <td>417.935</td>\n",
       "      <td>190.314</td>\n",
       "      <td>0.000</td>\n",
       "      <td>15.280</td>\n",
       "      <td>282.000</td>\n",
       "      <td>422.000</td>\n",
       "      <td>545.000</td>\n",
       "      <td>872.720</td>\n",
       "      <td>1435.000</td>\n",
       "      <td>36219.316</td>\n",
       "    </tr>\n",
       "    <tr>\n",
       "      <th>ultra</th>\n",
       "      <td>985.000</td>\n",
       "      <td>526.623</td>\n",
       "      <td>317.606</td>\n",
       "      <td>0.000</td>\n",
       "      <td>0.000</td>\n",
       "      <td>284.000</td>\n",
       "      <td>518.000</td>\n",
       "      <td>752.000</td>\n",
       "      <td>1291.120</td>\n",
       "      <td>1673.000</td>\n",
       "      <td>100873.633</td>\n",
       "    </tr>\n",
       "  </tbody>\n",
       "</table>\n",
       "</div>"
      ],
      "text/plain": [
       "          count    mean     std   min     1%     25%     50%     75%      99%  \\\n",
       "tariff                                                                          \n",
       "smart  2229.000 417.935 190.314 0.000 15.280 282.000 422.000 545.000  872.720   \n",
       "ultra   985.000 526.623 317.606 0.000  0.000 284.000 518.000 752.000 1291.120   \n",
       "\n",
       "            max        var  \n",
       "tariff                      \n",
       "smart  1435.000  36219.316  \n",
       "ultra  1673.000 100873.633  "
      ]
     },
     "metadata": {},
     "output_type": "display_data"
    },
    {
     "data": {
      "image/png": "[encoded data removed]",
      "text/plain": [
       "<Figure size 1440x432 with 1 Axes>"
      ]
     },
     "metadata": {
      "needs_background": "light"
     },
     "output_type": "display_data"
    },
    {
     "data": {
      "image/png": "[encoded data removed]",
      "text/plain": [
       "<Figure size 1440x144 with 1 Axes>"
      ]
     },
     "metadata": {
      "needs_background": "light"
     },
     "output_type": "display_data"
    }
   ],
   "source": [
    "hist_and_table_maker(data_merge, 'calls_duration', 'minutes_included')"
   ]
  },
  {
   "cell_type": "markdown",
   "id": "7586b112",
   "metadata": {},
   "source": [
    "**Выводы**\n",
    "\n",
    "- Среднее значение длительности звонков в тарифе ультра больше;\n",
    "- Пользовтели тарифа ультра всегда укладываются в лимит;\n",
    "- Лимит минут тарифа смарт близок к медианному значению;\n",
    "- Дисперсия и стандартное отклонение тарифа ультра больше."
   ]
  },
  {
   "cell_type": "markdown",
   "id": "8351ecdc",
   "metadata": {},
   "source": [
    "### Сообщения"
   ]
  },
  {
   "cell_type": "code",
   "execution_count": 42,
   "id": "ff4ffd7a",
   "metadata": {},
   "outputs": [
    {
     "data": {
      "text/html": [
       "<div>\n",
       "<style scoped>\n",
       "    .dataframe tbody tr th:only-of-type {\n",
       "        vertical-align: middle;\n",
       "    }\n",
       "\n",
       "    .dataframe tbody tr th {\n",
       "        vertical-align: top;\n",
       "    }\n",
       "\n",
       "    .dataframe thead th {\n",
       "        text-align: right;\n",
       "    }\n",
       "</style>\n",
       "<table border=\"1\" class=\"dataframe\">\n",
       "  <thead>\n",
       "    <tr style=\"text-align: right;\">\n",
       "      <th></th>\n",
       "      <th>count</th>\n",
       "      <th>mean</th>\n",
       "      <th>std</th>\n",
       "      <th>min</th>\n",
       "      <th>1%</th>\n",
       "      <th>25%</th>\n",
       "      <th>50%</th>\n",
       "      <th>75%</th>\n",
       "      <th>99%</th>\n",
       "      <th>max</th>\n",
       "      <th>var</th>\n",
       "    </tr>\n",
       "    <tr>\n",
       "      <th>tariff</th>\n",
       "      <th></th>\n",
       "      <th></th>\n",
       "      <th></th>\n",
       "      <th></th>\n",
       "      <th></th>\n",
       "      <th></th>\n",
       "      <th></th>\n",
       "      <th></th>\n",
       "      <th></th>\n",
       "      <th></th>\n",
       "      <th></th>\n",
       "    </tr>\n",
       "  </thead>\n",
       "  <tbody>\n",
       "    <tr>\n",
       "      <th>smart</th>\n",
       "      <td>2229.000</td>\n",
       "      <td>33.384</td>\n",
       "      <td>28.228</td>\n",
       "      <td>0.000</td>\n",
       "      <td>0.000</td>\n",
       "      <td>10.000</td>\n",
       "      <td>28.000</td>\n",
       "      <td>51.000</td>\n",
       "      <td>108.000</td>\n",
       "      <td>143.000</td>\n",
       "      <td>796.813</td>\n",
       "    </tr>\n",
       "    <tr>\n",
       "      <th>ultra</th>\n",
       "      <td>985.000</td>\n",
       "      <td>49.363</td>\n",
       "      <td>47.804</td>\n",
       "      <td>0.000</td>\n",
       "      <td>0.000</td>\n",
       "      <td>6.000</td>\n",
       "      <td>38.000</td>\n",
       "      <td>79.000</td>\n",
       "      <td>183.320</td>\n",
       "      <td>224.000</td>\n",
       "      <td>2285.266</td>\n",
       "    </tr>\n",
       "  </tbody>\n",
       "</table>\n",
       "</div>"
      ],
      "text/plain": [
       "          count   mean    std   min    1%    25%    50%    75%     99%  \\\n",
       "tariff                                                                   \n",
       "smart  2229.000 33.384 28.228 0.000 0.000 10.000 28.000 51.000 108.000   \n",
       "ultra   985.000 49.363 47.804 0.000 0.000  6.000 38.000 79.000 183.320   \n",
       "\n",
       "           max      var  \n",
       "tariff                   \n",
       "smart  143.000  796.813  \n",
       "ultra  224.000 2285.266  "
      ]
     },
     "metadata": {},
     "output_type": "display_data"
    },
    {
     "data": {
      "image/png": "[encoded data removed]",
      "text/plain": [
       "<Figure size 1440x432 with 1 Axes>"
      ]
     },
     "metadata": {
      "needs_background": "light"
     },
     "output_type": "display_data"
    },
    {
     "data": {
      "image/png": "[encoded data removed]",
      "text/plain": [
       "<Figure size 1440x144 with 1 Axes>"
      ]
     },
     "metadata": {
      "needs_background": "light"
     },
     "output_type": "display_data"
    }
   ],
   "source": [
    "hist_and_table_maker(data_merge, 'messages_count', 'messages_included')"
   ]
  },
  {
   "cell_type": "markdown",
   "id": "a69e9247",
   "metadata": {},
   "source": [
    "**Выводы**\n",
    "\n",
    "- Значительная доля клиентов не пользуются сообщениями (много нулевых значений);\n",
    "- Среднее значение количества сообщений больше в тарифе ультра;\n",
    "- Дисперсия и среднеквадратическое отклонение больше в тарифе ультра;\n",
    "- Пользователи тарифа ультра всегда укладываются в бесплатный лимит количества сообщений."
   ]
  },
  {
   "cell_type": "markdown",
   "id": "d6960ec5",
   "metadata": {},
   "source": [
    "### Интернет"
   ]
  },
  {
   "cell_type": "code",
   "execution_count": 43,
   "id": "b11e6cfb",
   "metadata": {},
   "outputs": [
    {
     "data": {
      "text/html": [
       "<div>\n",
       "<style scoped>\n",
       "    .dataframe tbody tr th:only-of-type {\n",
       "        vertical-align: middle;\n",
       "    }\n",
       "\n",
       "    .dataframe tbody tr th {\n",
       "        vertical-align: top;\n",
       "    }\n",
       "\n",
       "    .dataframe thead th {\n",
       "        text-align: right;\n",
       "    }\n",
       "</style>\n",
       "<table border=\"1\" class=\"dataframe\">\n",
       "  <thead>\n",
       "    <tr style=\"text-align: right;\">\n",
       "      <th></th>\n",
       "      <th>count</th>\n",
       "      <th>mean</th>\n",
       "      <th>std</th>\n",
       "      <th>min</th>\n",
       "      <th>1%</th>\n",
       "      <th>25%</th>\n",
       "      <th>50%</th>\n",
       "      <th>75%</th>\n",
       "      <th>99%</th>\n",
       "      <th>max</th>\n",
       "      <th>var</th>\n",
       "    </tr>\n",
       "    <tr>\n",
       "      <th>tariff</th>\n",
       "      <th></th>\n",
       "      <th></th>\n",
       "      <th></th>\n",
       "      <th></th>\n",
       "      <th></th>\n",
       "      <th></th>\n",
       "      <th></th>\n",
       "      <th></th>\n",
       "      <th></th>\n",
       "      <th></th>\n",
       "      <th></th>\n",
       "    </tr>\n",
       "  </thead>\n",
       "  <tbody>\n",
       "    <tr>\n",
       "      <th>smart</th>\n",
       "      <td>2229.000</td>\n",
       "      <td>42.418</td>\n",
       "      <td>14.943</td>\n",
       "      <td>0.000</td>\n",
       "      <td>4.000</td>\n",
       "      <td>34.000</td>\n",
       "      <td>43.000</td>\n",
       "      <td>52.000</td>\n",
       "      <td>75.720</td>\n",
       "      <td>101.000</td>\n",
       "      <td>223.296</td>\n",
       "    </tr>\n",
       "    <tr>\n",
       "      <th>ultra</th>\n",
       "      <td>985.000</td>\n",
       "      <td>38.164</td>\n",
       "      <td>19.565</td>\n",
       "      <td>0.000</td>\n",
       "      <td>0.000</td>\n",
       "      <td>23.000</td>\n",
       "      <td>38.000</td>\n",
       "      <td>52.000</td>\n",
       "      <td>83.000</td>\n",
       "      <td>98.000</td>\n",
       "      <td>382.776</td>\n",
       "    </tr>\n",
       "  </tbody>\n",
       "</table>\n",
       "</div>"
      ],
      "text/plain": [
       "          count   mean    std   min    1%    25%    50%    75%    99%     max  \\\n",
       "tariff                                                                          \n",
       "smart  2229.000 42.418 14.943 0.000 4.000 34.000 43.000 52.000 75.720 101.000   \n",
       "ultra   985.000 38.164 19.565 0.000 0.000 23.000 38.000 52.000 83.000  98.000   \n",
       "\n",
       "           var  \n",
       "tariff          \n",
       "smart  223.296  \n",
       "ultra  382.776  "
      ]
     },
     "metadata": {},
     "output_type": "display_data"
    },
    {
     "data": {
      "image/png": "[encoded data removed]",
      "text/plain": [
       "<Figure size 1440x432 with 1 Axes>"
      ]
     },
     "metadata": {
      "needs_background": "light"
     },
     "output_type": "display_data"
    },
    {
     "data": {
      "image/png": "[encoded data removed]",
      "text/plain": [
       "<Figure size 1440x144 with 1 Axes>"
      ]
     },
     "metadata": {
      "needs_background": "light"
     },
     "output_type": "display_data"
    }
   ],
   "source": [
    "hist_and_table_maker(data_merge, 'gb_count', 'gb_per_month_included')"
   ]
  },
  {
   "cell_type": "markdown",
   "id": "8f2d8bbb",
   "metadata": {},
   "source": [
    "**Выводы**\n",
    "\n",
    "- Среднее значение смарта выше;\n",
    "- Дисперсия и среднеквадратическое отклонение выше у тарифа ультра;\n",
    "- Ни в тарифе смарт, ни в тарифе ультра клиенты не укладываются в лимиты;\n",
    "- В лимит смарта не укладывается болшая доля пользователей, чем в тарифе ультра."
   ]
  },
  {
   "cell_type": "markdown",
   "id": "b4860340",
   "metadata": {},
   "source": [
    "## Проверка гипотез"
   ]
  },
  {
   "cell_type": "markdown",
   "id": "b875de11",
   "metadata": {},
   "source": [
    "### Проверка равенства средней выручки пользователей тарифов «Ультра» и «Смарт»"
   ]
  },
  {
   "cell_type": "markdown",
   "id": "3adc09cd",
   "metadata": {},
   "source": [
    "H0 - среднее значение выручки тарифа ультра равно среднему значению тарифа смарт.\n",
    "\n",
    "H1 - среднее значение выручки тарифа ультра НЕ равно среднему значению тарифа смарт."
   ]
  },
  {
   "cell_type": "markdown",
   "id": "1f0426ee",
   "metadata": {},
   "source": [
    "Для сопоставления средних генеральных совокупностей по взятым из них независимым выборкам используется метод `scipy.stats.ttest_ind()`."
   ]
  },
  {
   "cell_type": "code",
   "execution_count": 44,
   "id": "4e3b2496",
   "metadata": {},
   "outputs": [],
   "source": [
    "# Категоризация\n",
    "revenue_ultra = data_merge[data_merge['tariff'] == 'ultra']['revenue']\n",
    "revenue_smart = data_merge[data_merge['tariff'] == 'smart']['revenue']"
   ]
  },
  {
   "cell_type": "code",
   "execution_count": 45,
   "id": "afba252f",
   "metadata": {},
   "outputs": [
    {
     "name": "stdout",
     "output_type": "stream",
     "text": [
      "Дисперсия для ultra 4687395.0\n",
      "Дисперсия для smart 8369844.0\n"
     ]
    }
   ],
   "source": [
    "# Расчет дисперсии\n",
    "print('Дисперсия для ultra', round(np.var(revenue_ultra), 0))\n",
    "print('Дисперсия для smart', round(np.var(revenue_smart), 0))"
   ]
  },
  {
   "cell_type": "markdown",
   "id": "48a336f0",
   "metadata": {},
   "source": [
    "Дисперсии отличаются достаточно сильно, поэтому equal_var поставлю равным False (дисперсия будет оценена по объедененному датасету из двух выборок)."
   ]
  },
  {
   "cell_type": "code",
   "execution_count": 46,
   "id": "13c20720",
   "metadata": {},
   "outputs": [
    {
     "name": "stdout",
     "output_type": "stream",
     "text": [
      "p_value: 3.366123216919074e-132\n",
      "Отвержение нулевой гипотезы\n"
     ]
    }
   ],
   "source": [
    "# t-test_ind\n",
    "alpha = .05\n",
    "results = st.ttest_ind(revenue_ultra, revenue_smart, equal_var = False)\n",
    "print('p_value:', results.pvalue)\n",
    "if results.pvalue < alpha:\n",
    "    print('Отвержение нулевой гипотезы')\n",
    "else:\n",
    "    print('Принятие нулевой гипотезы')"
   ]
  },
  {
   "cell_type": "code",
   "execution_count": 47,
   "id": "8ff138a1",
   "metadata": {},
   "outputs": [
    {
     "name": "stdout",
     "output_type": "stream",
     "text": [
      "revenue_ultra 3844.0\n",
      "revenue_smart 6247.0\n"
     ]
    }
   ],
   "source": [
    "print('revenue_ultra', round(revenue_ultra.mean(), 0))\n",
    "print('revenue_smart', round(revenue_smart.mean(), 0))"
   ]
  },
  {
   "cell_type": "markdown",
   "id": "9dcfc420",
   "metadata": {},
   "source": [
    "Средняя выручка пользователей тарифов «Ультра» и «Смарт» ИМЕЕТ статистически значимые различия."
   ]
  },
  {
   "cell_type": "code",
   "execution_count": 48,
   "id": "dd7f556b",
   "metadata": {},
   "outputs": [
    {
     "name": "stdout",
     "output_type": "stream",
     "text": [
      "revenue_ultra_sum 3786750.0\n",
      "revenue_smart_sum 13924751.0\n"
     ]
    }
   ],
   "source": [
    "print('revenue_ultra_sum', round(revenue_ultra.sum(), 0))\n",
    "print('revenue_smart_sum', round(revenue_smart.sum(), 0))"
   ]
  },
  {
   "cell_type": "markdown",
   "id": "a3140c90",
   "metadata": {},
   "source": [
    "### Проверка равенства средней выручки пользователей из Москвы и пользователей из других регионов"
   ]
  },
  {
   "cell_type": "code",
   "execution_count": 49,
   "id": "9425ef29",
   "metadata": {},
   "outputs": [
    {
     "data": {
      "text/html": [
       "<div>\n",
       "<style scoped>\n",
       "    .dataframe tbody tr th:only-of-type {\n",
       "        vertical-align: middle;\n",
       "    }\n",
       "\n",
       "    .dataframe tbody tr th {\n",
       "        vertical-align: top;\n",
       "    }\n",
       "\n",
       "    .dataframe thead th {\n",
       "        text-align: right;\n",
       "    }\n",
       "</style>\n",
       "<table border=\"1\" class=\"dataframe\">\n",
       "  <thead>\n",
       "    <tr style=\"text-align: right;\">\n",
       "      <th></th>\n",
       "      <th>user_id</th>\n",
       "      <th>revenue</th>\n",
       "      <th>city</th>\n",
       "    </tr>\n",
       "  </thead>\n",
       "  <tbody>\n",
       "    <tr>\n",
       "      <th>2523</th>\n",
       "      <td>1338</td>\n",
       "      <td>4750.000</td>\n",
       "      <td>Москва</td>\n",
       "    </tr>\n",
       "    <tr>\n",
       "      <th>2549</th>\n",
       "      <td>1345</td>\n",
       "      <td>7750.000</td>\n",
       "      <td>Москва</td>\n",
       "    </tr>\n",
       "    <tr>\n",
       "      <th>2920</th>\n",
       "      <td>1433</td>\n",
       "      <td>6488.000</td>\n",
       "      <td>Подольск</td>\n",
       "    </tr>\n",
       "    <tr>\n",
       "      <th>2675</th>\n",
       "      <td>1384</td>\n",
       "      <td>9061.000</td>\n",
       "      <td>Нижний Новгород</td>\n",
       "    </tr>\n",
       "    <tr>\n",
       "      <th>1568</th>\n",
       "      <td>1127</td>\n",
       "      <td>3637.000</td>\n",
       "      <td>Казань</td>\n",
       "    </tr>\n",
       "  </tbody>\n",
       "</table>\n",
       "</div>"
      ],
      "text/plain": [
       "      user_id  revenue             city\n",
       "2523     1338 4750.000           Москва\n",
       "2549     1345 7750.000           Москва\n",
       "2920     1433 6488.000         Подольск\n",
       "2675     1384 9061.000  Нижний Новгород\n",
       "1568     1127 3637.000           Казань"
      ]
     },
     "execution_count": 49,
     "metadata": {},
     "output_type": "execute_result"
    }
   ],
   "source": [
    "# Создание датасета с user_id, revenue и регионом\n",
    "data_region = pd.merge(data_merge[['user_id', 'revenue']], users[['user_id', 'city']],\n",
    "                       how='inner', on='user_id')\n",
    "data_region.sample(5)"
   ]
  },
  {
   "cell_type": "code",
   "execution_count": 50,
   "id": "5ceab06b",
   "metadata": {
    "code_folding": []
   },
   "outputs": [],
   "source": [
    "# Проверка на неявные дубликаты\n",
    "#sorted(list(data_region['city'].unique()))\n",
    "# Закоментил потому что вывод мешает"
   ]
  },
  {
   "cell_type": "markdown",
   "id": "f9f56b9f",
   "metadata": {},
   "source": [
    "Неявных дубликатов нет."
   ]
  },
  {
   "cell_type": "code",
   "execution_count": 51,
   "id": "c64fa422",
   "metadata": {},
   "outputs": [],
   "source": [
    "# Категоризация выручки\n",
    "data_moscow = data_region[data_region['city'] == 'Москва']['revenue']\n",
    "data_other = data_region[~(data_region['city'] == 'Москва')]['revenue']"
   ]
  },
  {
   "cell_type": "code",
   "execution_count": 52,
   "id": "618f6c85",
   "metadata": {},
   "outputs": [
    {
     "name": "stdout",
     "output_type": "stream",
     "text": [
      "Дисперсия для Москвы 7188012.0\n",
      "Дисперсия для других городов 8765039.0\n"
     ]
    }
   ],
   "source": [
    "# Расчет дисперсии\n",
    "print('Дисперсия для Москвы', round(np.var(data_moscow), 0))\n",
    "print('Дисперсия для других городов', round(np.var(data_other), 0))"
   ]
  },
  {
   "cell_type": "markdown",
   "id": "b11d0c22",
   "metadata": {},
   "source": [
    "Посчитаем долю различия дисперсий."
   ]
  },
  {
   "cell_type": "code",
   "execution_count": 53,
   "id": "186b8a2b",
   "metadata": {},
   "outputs": [
    {
     "data": {
      "text/plain": [
       "0.22"
      ]
     },
     "execution_count": 53,
     "metadata": {},
     "output_type": "execute_result"
    }
   ],
   "source": [
    "round(abs((np.var(data_moscow) - np.var(data_other))) / np.var(data_moscow), 2)"
   ]
  },
  {
   "cell_type": "markdown",
   "id": "bd15b53d",
   "metadata": {},
   "source": [
    "Дисперсии не сильно отличаются друг от друга, поэтому equal_var = True в t-test."
   ]
  },
  {
   "cell_type": "markdown",
   "id": "9e1bec2a",
   "metadata": {},
   "source": [
    "**Сформулируем гипотезы**\n",
    "\n",
    "H0 - среднее значение выручки в Москве равно среднему значению выручки в других городах.\n",
    "\n",
    "H1 - среднее значение выручки в Москве НЕ равно среднему значению выручки в дугих городах."
   ]
  },
  {
   "cell_type": "code",
   "execution_count": 54,
   "id": "c705c075",
   "metadata": {},
   "outputs": [
    {
     "name": "stdout",
     "output_type": "stream",
     "text": [
      "p_value: 0.28336464606572015\n",
      "Принятие нулевой гипотезы\n"
     ]
    }
   ],
   "source": [
    "# t-test_ind\n",
    "alpha = .05\n",
    "results = st.ttest_ind(data_moscow, data_other)\n",
    "print('p_value:', results.pvalue)\n",
    "if results.pvalue < alpha:\n",
    "    print('Отвержение нулевой гипотезы')\n",
    "else:\n",
    "    print('Принятие нулевой гипотезы')"
   ]
  },
  {
   "cell_type": "markdown",
   "id": "61b69e5a",
   "metadata": {},
   "source": [
    "Средняя выручка пользователей из Москвы и пользователей из других регионов НЕ имеет статистические значимые различия."
   ]
  },
  {
   "cell_type": "markdown",
   "id": "55137b86",
   "metadata": {},
   "source": [
    "## Выводы"
   ]
  },
  {
   "cell_type": "markdown",
   "id": "acdf3472",
   "metadata": {},
   "source": [
    "**Обработка и исследовательский анализ данных:**\n",
    "- Дубликы не были обнаружены.\n",
    "- Пропусков в данных, которые надо было заменять на предварительном этапе не обнаружено.\n",
    "- Выделены столбцы со значением календарного месяца (datetime) и номера месяца.\n",
    "- Выполнены необходимые преобразования в формате данных.\n",
    "- В большую сторону округлены минуты.\n",
    "- Мегабайты переведы в гигабайты с учетом условий тарифов.\n",
    "- Количество пользователей в данных по разным характеристикам несоответствовало их общему количеству в 500 пользователей, однако, в каждой таблице пользователи уникальны и имеются в списке клиентов `users`.\n",
    "- На гистограмме продолжительности звонков наблюдается большое количество нулевых значений и как сказано в описании это пропущенные звонки.\n",
    "- В датасете сообщений удалены клиенты с аномальным количеством сообщений в месяц.\n",
    "- На гистограмме использованных мегабайт интернета в день выдеяются нулевые значения, которые могут быть связаны с тем, что клиент не пользовался мобильным интернетом в этот день.\n",
    "- Устранены аномальные значения в таблице internet.\n",
    "- После удаления аномалий проведен перерасчет помесячных значений характеристик.\n",
    "- Рассчитана выручка.\n",
    "\n",
    "**Главные выводы**\n",
    "- Среднее значение длительности звонков и количества сообщений в тарифе ультра больше.\n",
    "- Пользовтели тарифа ультра всегда укладываются в лимит сообщейни и длительности звонков.\n",
    "- Значительная доля клиентов не пользуется сообщениями (много нулевых значений).\n",
    "- Среднее значение использованных гигабайт в тарифе смарт выше.\n",
    "- Дисперсия и среднеквадратическое отклонение у тарифа ультра больше по всем характеристикам.\n",
    "- Ни в тарифе смарт, ни в тарифе ультра клиенты не укладываются в лимиты предоставленных за основную стоимость гигабайт.\n",
    "- В лимит интернета смарта не укладывается бОлшая доля пользователей, чем в тарифе ультра.\n",
    "- Среднее значение выручки тарифов ультра и смарт ИМЕЕТ статистически значимое различие.\n",
    "- Средняя выручка пользователей из Москвы и пользователей из других регионов НЕ имеет статистически значимого различия.</span>\n",
    "- Тариф смарт выгоднее тарифа ультра.\n",
    "\n",
    "**Рекомендации**\n",
    "- Рассмотреть выручку по характеристикам (звонки, сообщения, интернет).\n",
    "- Рассмотреть выручку до лимитов и после - проверить насколько ощутима выручка с клиентов после исчерпания ими лимитов.\n",
    "- *Для тарифа ультра:*\n",
    "    -  Понизить лимит включенных в тариф количество минут до 1300 и сообщений до 160, а также повысить лимит включенных гигабайт до 80 (для удобства клиентов).\n",
    "- *Для тарифа смарт:*\n",
    "    -  Повысить лимит включенных в тариф количество минут до 900, сообщений до 110, гигабайт до 75 (для удобства клиентов).\n",
    "- Осуществить односторонние гипотезы. С целью проверки статистически значимых различий средней выручки до и после внесенных рекомендуемых измененией в тариф.\n",
    "- Осуществить анализ основных статистических характеристик тарифов и выручки по городам. Таких как среднее, медианное значение, различные перцентили, а также построение гистограмм с целью анализа различий между городами, оценки \"портрета\" регионального клиента, и возможной последующей корректировкой тарифов под регионы."
   ]
  }
 ],
 "metadata": {
  "ExecuteTimeLog": [
   {
    "duration": 1098,
    "start_time": "2022-04-13T17:18:48.190Z"
   },
   {
    "duration": 177,
    "start_time": "2022-04-13T17:18:49.290Z"
   },
   {
    "duration": 0,
    "start_time": "2022-04-13T17:18:49.470Z"
   },
   {
    "duration": 0,
    "start_time": "2022-04-13T17:18:49.470Z"
   },
   {
    "duration": 0,
    "start_time": "2022-04-13T17:18:49.471Z"
   },
   {
    "duration": 0,
    "start_time": "2022-04-13T17:18:49.472Z"
   },
   {
    "duration": 0,
    "start_time": "2022-04-13T17:18:49.473Z"
   },
   {
    "duration": 0,
    "start_time": "2022-04-13T17:18:49.474Z"
   },
   {
    "duration": 0,
    "start_time": "2022-04-13T17:18:49.475Z"
   },
   {
    "duration": 0,
    "start_time": "2022-04-13T17:18:49.476Z"
   },
   {
    "duration": 0,
    "start_time": "2022-04-13T17:18:49.477Z"
   },
   {
    "duration": 1,
    "start_time": "2022-04-13T17:18:49.477Z"
   },
   {
    "duration": 1,
    "start_time": "2022-04-13T17:18:49.478Z"
   },
   {
    "duration": 0,
    "start_time": "2022-04-13T17:18:49.480Z"
   },
   {
    "duration": 0,
    "start_time": "2022-04-13T17:18:49.480Z"
   },
   {
    "duration": 0,
    "start_time": "2022-04-13T17:18:49.481Z"
   },
   {
    "duration": 0,
    "start_time": "2022-04-13T17:18:49.482Z"
   },
   {
    "duration": 0,
    "start_time": "2022-04-13T17:18:49.483Z"
   },
   {
    "duration": 0,
    "start_time": "2022-04-13T17:18:49.484Z"
   },
   {
    "duration": 0,
    "start_time": "2022-04-13T17:18:49.485Z"
   },
   {
    "duration": 0,
    "start_time": "2022-04-13T17:18:49.486Z"
   },
   {
    "duration": 0,
    "start_time": "2022-04-13T17:18:49.487Z"
   },
   {
    "duration": 0,
    "start_time": "2022-04-13T17:18:49.488Z"
   },
   {
    "duration": 0,
    "start_time": "2022-04-13T17:18:49.489Z"
   },
   {
    "duration": 0,
    "start_time": "2022-04-13T17:18:49.490Z"
   },
   {
    "duration": 0,
    "start_time": "2022-04-13T17:18:49.490Z"
   },
   {
    "duration": 0,
    "start_time": "2022-04-13T17:18:49.491Z"
   },
   {
    "duration": 0,
    "start_time": "2022-04-13T17:18:49.492Z"
   },
   {
    "duration": 0,
    "start_time": "2022-04-13T17:18:49.493Z"
   },
   {
    "duration": 0,
    "start_time": "2022-04-13T17:18:49.525Z"
   },
   {
    "duration": 0,
    "start_time": "2022-04-13T17:18:49.526Z"
   },
   {
    "duration": 0,
    "start_time": "2022-04-13T17:18:49.527Z"
   },
   {
    "duration": 0,
    "start_time": "2022-04-13T17:18:49.528Z"
   },
   {
    "duration": 0,
    "start_time": "2022-04-13T17:18:49.529Z"
   },
   {
    "duration": 0,
    "start_time": "2022-04-13T17:18:49.530Z"
   },
   {
    "duration": 0,
    "start_time": "2022-04-13T17:18:49.530Z"
   },
   {
    "duration": 0,
    "start_time": "2022-04-13T17:18:49.531Z"
   },
   {
    "duration": 0,
    "start_time": "2022-04-13T17:18:49.532Z"
   },
   {
    "duration": 0,
    "start_time": "2022-04-13T17:18:49.533Z"
   },
   {
    "duration": 0,
    "start_time": "2022-04-13T17:18:49.534Z"
   },
   {
    "duration": 0,
    "start_time": "2022-04-13T17:18:49.535Z"
   },
   {
    "duration": 0,
    "start_time": "2022-04-13T17:18:49.536Z"
   },
   {
    "duration": 0,
    "start_time": "2022-04-13T17:18:49.537Z"
   },
   {
    "duration": 0,
    "start_time": "2022-04-13T17:18:49.538Z"
   },
   {
    "duration": 0,
    "start_time": "2022-04-13T17:18:49.539Z"
   },
   {
    "duration": 0,
    "start_time": "2022-04-13T17:18:49.541Z"
   },
   {
    "duration": 0,
    "start_time": "2022-04-13T17:18:49.541Z"
   },
   {
    "duration": 0,
    "start_time": "2022-04-13T17:18:49.542Z"
   },
   {
    "duration": 0,
    "start_time": "2022-04-13T17:18:49.543Z"
   },
   {
    "duration": 0,
    "start_time": "2022-04-13T17:18:49.544Z"
   },
   {
    "duration": 0,
    "start_time": "2022-04-13T17:18:49.545Z"
   },
   {
    "duration": 0,
    "start_time": "2022-04-13T17:18:49.546Z"
   },
   {
    "duration": 0,
    "start_time": "2022-04-13T17:18:49.547Z"
   },
   {
    "duration": 0,
    "start_time": "2022-04-13T17:18:49.548Z"
   },
   {
    "duration": 0,
    "start_time": "2022-04-13T17:18:49.549Z"
   },
   {
    "duration": 0,
    "start_time": "2022-04-13T17:18:49.550Z"
   },
   {
    "duration": 121,
    "start_time": "2022-04-13T17:29:19.470Z"
   },
   {
    "duration": 92,
    "start_time": "2022-04-13T17:29:49.987Z"
   },
   {
    "duration": 130,
    "start_time": "2022-04-13T17:35:43.138Z"
   },
   {
    "duration": 132,
    "start_time": "2022-04-13T17:50:46.244Z"
   },
   {
    "duration": 141,
    "start_time": "2022-04-13T18:08:05.311Z"
   },
   {
    "duration": 115,
    "start_time": "2022-04-13T18:10:56.253Z"
   },
   {
    "duration": 1876,
    "start_time": "2022-04-14T07:41:34.852Z"
   },
   {
    "duration": 550,
    "start_time": "2022-04-14T07:41:36.731Z"
   },
   {
    "duration": 7,
    "start_time": "2022-04-14T07:41:39.995Z"
   },
   {
    "duration": 53,
    "start_time": "2022-04-14T07:41:44.018Z"
   },
   {
    "duration": 206,
    "start_time": "2022-04-14T07:41:48.514Z"
   },
   {
    "duration": 115,
    "start_time": "2022-04-14T07:41:48.860Z"
   },
   {
    "duration": 169,
    "start_time": "2022-04-14T07:41:49.413Z"
   },
   {
    "duration": 12,
    "start_time": "2022-04-14T07:41:50.148Z"
   },
   {
    "duration": 47,
    "start_time": "2022-04-14T07:46:02.773Z"
   },
   {
    "duration": 20,
    "start_time": "2022-04-14T07:46:07.674Z"
   },
   {
    "duration": 114,
    "start_time": "2022-04-14T07:46:13.747Z"
   },
   {
    "duration": 8,
    "start_time": "2022-04-14T07:46:22.852Z"
   },
   {
    "duration": 777,
    "start_time": "2022-04-14T07:46:23.211Z"
   },
   {
    "duration": 74,
    "start_time": "2022-04-14T07:46:38.300Z"
   },
   {
    "duration": 38,
    "start_time": "2022-04-14T07:46:39.875Z"
   },
   {
    "duration": 699,
    "start_time": "2022-04-14T07:46:44.126Z"
   },
   {
    "duration": 9,
    "start_time": "2022-04-14T07:47:03.299Z"
   },
   {
    "duration": 10,
    "start_time": "2022-04-14T07:47:09.451Z"
   },
   {
    "duration": 14,
    "start_time": "2022-04-14T07:47:10.548Z"
   },
   {
    "duration": 208,
    "start_time": "2022-04-14T07:58:16.916Z"
   },
   {
    "duration": 768,
    "start_time": "2022-04-14T07:58:29.985Z"
   },
   {
    "duration": 10,
    "start_time": "2022-04-14T08:12:16.534Z"
   },
   {
    "duration": 16,
    "start_time": "2022-04-14T08:12:16.737Z"
   },
   {
    "duration": 46,
    "start_time": "2022-04-14T08:12:17.209Z"
   },
   {
    "duration": 788,
    "start_time": "2022-04-14T08:12:17.809Z"
   },
   {
    "duration": 18,
    "start_time": "2022-04-14T08:12:18.600Z"
   },
   {
    "duration": 7,
    "start_time": "2022-04-14T08:12:18.792Z"
   },
   {
    "duration": 16,
    "start_time": "2022-04-14T08:12:19.407Z"
   },
   {
    "duration": 61,
    "start_time": "2022-04-14T08:16:22.679Z"
   },
   {
    "duration": 45,
    "start_time": "2022-04-14T08:16:23.975Z"
   },
   {
    "duration": 44,
    "start_time": "2022-04-14T08:16:24.975Z"
   },
   {
    "duration": 34,
    "start_time": "2022-04-14T08:16:26.551Z"
   },
   {
    "duration": 16,
    "start_time": "2022-04-14T08:16:27.120Z"
   },
   {
    "duration": 9,
    "start_time": "2022-04-14T08:16:28.703Z"
   },
   {
    "duration": 9,
    "start_time": "2022-04-14T08:16:29.407Z"
   },
   {
    "duration": 8,
    "start_time": "2022-04-14T08:16:30.534Z"
   },
   {
    "duration": 24,
    "start_time": "2022-04-14T08:16:53.446Z"
   },
   {
    "duration": 23,
    "start_time": "2022-04-14T08:16:54.544Z"
   },
   {
    "duration": 6,
    "start_time": "2022-04-14T08:16:56.311Z"
   },
   {
    "duration": 192,
    "start_time": "2022-04-14T08:16:56.959Z"
   },
   {
    "duration": 20,
    "start_time": "2022-04-14T08:16:58.375Z"
   },
   {
    "duration": 5,
    "start_time": "2022-04-14T08:17:05.223Z"
   },
   {
    "duration": 6,
    "start_time": "2022-04-14T08:17:05.447Z"
   },
   {
    "duration": 11,
    "start_time": "2022-04-14T08:17:05.920Z"
   },
   {
    "duration": 1154,
    "start_time": "2022-04-14T08:17:06.687Z"
   },
   {
    "duration": 914,
    "start_time": "2022-04-14T08:17:09.494Z"
   },
   {
    "duration": 857,
    "start_time": "2022-04-14T08:17:11.008Z"
   },
   {
    "duration": 9,
    "start_time": "2022-04-14T08:17:15.575Z"
   },
   {
    "duration": 6,
    "start_time": "2022-04-14T08:17:16.143Z"
   },
   {
    "duration": 8,
    "start_time": "2022-04-14T08:17:16.687Z"
   },
   {
    "duration": 7,
    "start_time": "2022-04-14T08:17:17.094Z"
   },
   {
    "duration": 17,
    "start_time": "2022-04-14T08:26:21.713Z"
   },
   {
    "duration": 3,
    "start_time": "2022-04-14T08:26:21.938Z"
   },
   {
    "duration": 9,
    "start_time": "2022-04-14T08:26:22.549Z"
   },
   {
    "duration": 6,
    "start_time": "2022-04-14T08:26:22.895Z"
   },
   {
    "duration": 7,
    "start_time": "2022-04-14T08:26:23.254Z"
   },
   {
    "duration": 7,
    "start_time": "2022-04-14T08:26:45.497Z"
   },
   {
    "duration": 7,
    "start_time": "2022-04-14T08:27:15.167Z"
   },
   {
    "duration": 8,
    "start_time": "2022-04-14T08:27:18.359Z"
   },
   {
    "duration": 7,
    "start_time": "2022-04-14T08:27:38.098Z"
   },
   {
    "duration": 6,
    "start_time": "2022-04-14T08:27:49.239Z"
   },
   {
    "duration": 8,
    "start_time": "2022-04-14T08:48:56.995Z"
   },
   {
    "duration": 5,
    "start_time": "2022-04-14T08:58:13.102Z"
   },
   {
    "duration": 6,
    "start_time": "2022-04-14T08:58:52.422Z"
   },
   {
    "duration": 8,
    "start_time": "2022-04-14T09:54:17.424Z"
   },
   {
    "duration": 216,
    "start_time": "2022-04-14T09:54:22.304Z"
   },
   {
    "duration": 4,
    "start_time": "2022-04-14T09:54:43.363Z"
   },
   {
    "duration": 555,
    "start_time": "2022-04-14T09:54:43.371Z"
   },
   {
    "duration": 8,
    "start_time": "2022-04-14T09:54:43.929Z"
   },
   {
    "duration": 59,
    "start_time": "2022-04-14T09:54:43.940Z"
   },
   {
    "duration": 239,
    "start_time": "2022-04-14T09:54:44.003Z"
   },
   {
    "duration": 131,
    "start_time": "2022-04-14T09:54:44.244Z"
   },
   {
    "duration": 200,
    "start_time": "2022-04-14T09:54:44.377Z"
   },
   {
    "duration": 18,
    "start_time": "2022-04-14T09:54:44.580Z"
   },
   {
    "duration": 30,
    "start_time": "2022-04-14T09:54:44.600Z"
   },
   {
    "duration": 20,
    "start_time": "2022-04-14T09:54:44.632Z"
   },
   {
    "duration": 125,
    "start_time": "2022-04-14T09:54:44.693Z"
   },
   {
    "duration": 7,
    "start_time": "2022-04-14T09:54:44.820Z"
   },
   {
    "duration": 716,
    "start_time": "2022-04-14T09:54:44.829Z"
   },
   {
    "duration": 83,
    "start_time": "2022-04-14T09:54:45.547Z"
   },
   {
    "duration": 36,
    "start_time": "2022-04-14T09:54:45.632Z"
   },
   {
    "duration": 656,
    "start_time": "2022-04-14T09:54:45.670Z"
   },
   {
    "duration": 9,
    "start_time": "2022-04-14T09:54:46.328Z"
   },
   {
    "duration": 13,
    "start_time": "2022-04-14T09:54:46.339Z"
   },
   {
    "duration": 46,
    "start_time": "2022-04-14T09:54:46.354Z"
   },
   {
    "duration": 109,
    "start_time": "2022-04-14T09:54:51.793Z"
   },
   {
    "duration": 174,
    "start_time": "2022-04-14T09:55:08.759Z"
   },
   {
    "duration": 73,
    "start_time": "2022-04-14T09:55:18.356Z"
   },
   {
    "duration": 5,
    "start_time": "2022-04-14T09:55:34.481Z"
   },
   {
    "duration": 541,
    "start_time": "2022-04-14T09:55:34.489Z"
   },
   {
    "duration": 7,
    "start_time": "2022-04-14T09:55:35.033Z"
   },
   {
    "duration": 65,
    "start_time": "2022-04-14T09:55:35.042Z"
   },
   {
    "duration": 260,
    "start_time": "2022-04-14T09:55:35.110Z"
   },
   {
    "duration": 181,
    "start_time": "2022-04-14T09:55:35.372Z"
   },
   {
    "duration": 267,
    "start_time": "2022-04-14T09:55:35.556Z"
   },
   {
    "duration": 15,
    "start_time": "2022-04-14T09:55:35.825Z"
   },
   {
    "duration": 69,
    "start_time": "2022-04-14T09:55:35.843Z"
   },
   {
    "duration": 25,
    "start_time": "2022-04-14T09:55:35.915Z"
   },
   {
    "duration": 183,
    "start_time": "2022-04-14T09:55:35.945Z"
   },
   {
    "duration": 10,
    "start_time": "2022-04-14T09:55:36.131Z"
   },
   {
    "duration": 988,
    "start_time": "2022-04-14T09:55:36.144Z"
   },
   {
    "duration": 116,
    "start_time": "2022-04-14T09:55:37.135Z"
   },
   {
    "duration": 65,
    "start_time": "2022-04-14T09:55:37.254Z"
   },
   {
    "duration": 724,
    "start_time": "2022-04-14T09:55:37.322Z"
   },
   {
    "duration": 9,
    "start_time": "2022-04-14T09:55:38.048Z"
   },
   {
    "duration": 38,
    "start_time": "2022-04-14T09:55:38.061Z"
   },
   {
    "duration": 10,
    "start_time": "2022-04-14T09:55:38.102Z"
   },
   {
    "duration": 13,
    "start_time": "2022-04-14T09:55:38.958Z"
   },
   {
    "duration": 99,
    "start_time": "2022-04-14T09:55:44.478Z"
   },
   {
    "duration": 100,
    "start_time": "2022-04-14T09:55:52.343Z"
   },
   {
    "duration": 5,
    "start_time": "2022-04-14T09:55:56.741Z"
   },
   {
    "duration": 540,
    "start_time": "2022-04-14T09:55:56.749Z"
   },
   {
    "duration": 8,
    "start_time": "2022-04-14T09:55:57.292Z"
   },
   {
    "duration": 69,
    "start_time": "2022-04-14T09:55:57.303Z"
   },
   {
    "duration": 236,
    "start_time": "2022-04-14T09:55:57.393Z"
   },
   {
    "duration": 150,
    "start_time": "2022-04-14T09:55:57.631Z"
   },
   {
    "duration": 196,
    "start_time": "2022-04-14T09:55:57.794Z"
   },
   {
    "duration": 11,
    "start_time": "2022-04-14T09:55:57.993Z"
   },
   {
    "duration": 33,
    "start_time": "2022-04-14T09:55:58.006Z"
   },
   {
    "duration": 51,
    "start_time": "2022-04-14T09:55:58.041Z"
   },
   {
    "duration": 117,
    "start_time": "2022-04-14T09:55:58.096Z"
   },
   {
    "duration": 8,
    "start_time": "2022-04-14T09:55:58.215Z"
   },
   {
    "duration": 813,
    "start_time": "2022-04-14T09:55:58.226Z"
   },
   {
    "duration": 83,
    "start_time": "2022-04-14T09:55:59.041Z"
   },
   {
    "duration": 35,
    "start_time": "2022-04-14T09:55:59.126Z"
   },
   {
    "duration": 670,
    "start_time": "2022-04-14T09:55:59.163Z"
   },
   {
    "duration": 10,
    "start_time": "2022-04-14T09:55:59.835Z"
   },
   {
    "duration": 18,
    "start_time": "2022-04-14T09:55:59.847Z"
   },
   {
    "duration": 33,
    "start_time": "2022-04-14T09:55:59.867Z"
   },
   {
    "duration": 224,
    "start_time": "2022-04-14T09:56:02.037Z"
   },
   {
    "duration": 161,
    "start_time": "2022-04-14T09:59:23.223Z"
   },
   {
    "duration": 5,
    "start_time": "2022-04-14T09:59:27.300Z"
   },
   {
    "duration": 532,
    "start_time": "2022-04-14T09:59:27.308Z"
   },
   {
    "duration": 7,
    "start_time": "2022-04-14T09:59:27.843Z"
   },
   {
    "duration": 50,
    "start_time": "2022-04-14T09:59:27.852Z"
   },
   {
    "duration": 232,
    "start_time": "2022-04-14T09:59:27.905Z"
   },
   {
    "duration": 128,
    "start_time": "2022-04-14T09:59:28.139Z"
   },
   {
    "duration": 194,
    "start_time": "2022-04-14T09:59:28.269Z"
   },
   {
    "duration": 11,
    "start_time": "2022-04-14T09:59:28.465Z"
   },
   {
    "duration": 28,
    "start_time": "2022-04-14T09:59:28.493Z"
   },
   {
    "duration": 20,
    "start_time": "2022-04-14T09:59:28.523Z"
   },
   {
    "duration": 146,
    "start_time": "2022-04-14T09:59:28.547Z"
   },
   {
    "duration": 8,
    "start_time": "2022-04-14T09:59:28.695Z"
   },
   {
    "duration": 754,
    "start_time": "2022-04-14T09:59:28.705Z"
   },
   {
    "duration": 78,
    "start_time": "2022-04-14T09:59:29.462Z"
   },
   {
    "duration": 50,
    "start_time": "2022-04-14T09:59:29.542Z"
   },
   {
    "duration": 646,
    "start_time": "2022-04-14T09:59:29.595Z"
   },
   {
    "duration": 9,
    "start_time": "2022-04-14T09:59:30.243Z"
   },
   {
    "duration": 39,
    "start_time": "2022-04-14T09:59:30.254Z"
   },
   {
    "duration": 12,
    "start_time": "2022-04-14T09:59:30.295Z"
   },
   {
    "duration": 109,
    "start_time": "2022-04-14T09:59:32.358Z"
   },
   {
    "duration": 73,
    "start_time": "2022-04-14T09:59:41.653Z"
   },
   {
    "duration": 5,
    "start_time": "2022-04-14T09:59:44.397Z"
   },
   {
    "duration": 536,
    "start_time": "2022-04-14T09:59:44.405Z"
   },
   {
    "duration": 7,
    "start_time": "2022-04-14T09:59:44.943Z"
   },
   {
    "duration": 50,
    "start_time": "2022-04-14T09:59:44.954Z"
   },
   {
    "duration": 244,
    "start_time": "2022-04-14T09:59:45.007Z"
   },
   {
    "duration": 139,
    "start_time": "2022-04-14T09:59:45.253Z"
   },
   {
    "duration": 197,
    "start_time": "2022-04-14T09:59:45.395Z"
   },
   {
    "duration": 12,
    "start_time": "2022-04-14T09:59:45.595Z"
   },
   {
    "duration": 34,
    "start_time": "2022-04-14T09:59:45.611Z"
   },
   {
    "duration": 60,
    "start_time": "2022-04-14T09:59:45.647Z"
   },
   {
    "duration": 134,
    "start_time": "2022-04-14T09:59:45.709Z"
   },
   {
    "duration": 8,
    "start_time": "2022-04-14T09:59:45.846Z"
   },
   {
    "duration": 727,
    "start_time": "2022-04-14T09:59:45.855Z"
   },
   {
    "duration": 75,
    "start_time": "2022-04-14T09:59:46.584Z"
   },
   {
    "duration": 56,
    "start_time": "2022-04-14T09:59:46.661Z"
   },
   {
    "duration": 693,
    "start_time": "2022-04-14T09:59:46.719Z"
   },
   {
    "duration": 8,
    "start_time": "2022-04-14T09:59:47.414Z"
   },
   {
    "duration": 13,
    "start_time": "2022-04-14T09:59:47.424Z"
   },
   {
    "duration": 13,
    "start_time": "2022-04-14T09:59:47.439Z"
   },
   {
    "duration": 110,
    "start_time": "2022-04-14T10:00:01.822Z"
   },
   {
    "duration": 1098,
    "start_time": "2022-04-14T10:00:06.887Z"
   },
   {
    "duration": 14,
    "start_time": "2022-04-14T10:00:11.134Z"
   },
   {
    "duration": 16,
    "start_time": "2022-04-14T10:00:11.742Z"
   },
   {
    "duration": 61,
    "start_time": "2022-04-14T10:00:12.214Z"
   },
   {
    "duration": 1785,
    "start_time": "2022-04-14T10:00:25.372Z"
   },
   {
    "duration": 551,
    "start_time": "2022-04-14T10:00:27.160Z"
   },
   {
    "duration": 7,
    "start_time": "2022-04-14T10:00:27.713Z"
   },
   {
    "duration": 80,
    "start_time": "2022-04-14T10:00:27.725Z"
   },
   {
    "duration": 245,
    "start_time": "2022-04-14T10:00:27.811Z"
   },
   {
    "duration": 139,
    "start_time": "2022-04-14T10:00:28.058Z"
   },
   {
    "duration": 216,
    "start_time": "2022-04-14T10:00:28.200Z"
   },
   {
    "duration": 12,
    "start_time": "2022-04-14T10:00:28.419Z"
   },
   {
    "duration": 35,
    "start_time": "2022-04-14T10:00:28.434Z"
   },
   {
    "duration": 21,
    "start_time": "2022-04-14T10:00:28.494Z"
   },
   {
    "duration": 139,
    "start_time": "2022-04-14T10:00:28.517Z"
   },
   {
    "duration": 8,
    "start_time": "2022-04-14T10:00:28.658Z"
   },
   {
    "duration": 757,
    "start_time": "2022-04-14T10:00:28.669Z"
   },
   {
    "duration": 82,
    "start_time": "2022-04-14T10:00:29.429Z"
   },
   {
    "duration": 36,
    "start_time": "2022-04-14T10:00:29.513Z"
   },
   {
    "duration": 673,
    "start_time": "2022-04-14T10:00:29.551Z"
   },
   {
    "duration": 8,
    "start_time": "2022-04-14T10:00:30.226Z"
   },
   {
    "duration": 22,
    "start_time": "2022-04-14T10:00:30.236Z"
   },
   {
    "duration": 36,
    "start_time": "2022-04-14T10:00:30.261Z"
   },
   {
    "duration": 167,
    "start_time": "2022-04-14T10:00:30.300Z"
   },
   {
    "duration": 1004,
    "start_time": "2022-04-14T10:00:30.470Z"
   },
   {
    "duration": 17,
    "start_time": "2022-04-14T10:00:31.477Z"
   },
   {
    "duration": 19,
    "start_time": "2022-04-14T10:00:31.498Z"
   },
   {
    "duration": 86,
    "start_time": "2022-04-14T10:00:31.520Z"
   },
   {
    "duration": 1108,
    "start_time": "2022-04-14T10:00:31.609Z"
   },
   {
    "duration": 19,
    "start_time": "2022-04-14T10:00:32.720Z"
   },
   {
    "duration": 7,
    "start_time": "2022-04-14T10:00:32.741Z"
   },
   {
    "duration": 41,
    "start_time": "2022-04-14T10:00:32.754Z"
   },
   {
    "duration": 75,
    "start_time": "2022-04-14T10:00:32.797Z"
   },
   {
    "duration": 61,
    "start_time": "2022-04-14T10:00:32.875Z"
   },
   {
    "duration": 157,
    "start_time": "2022-04-14T10:00:32.938Z"
   },
   {
    "duration": 34,
    "start_time": "2022-04-14T10:00:33.097Z"
   },
   {
    "duration": 9,
    "start_time": "2022-04-14T10:00:33.133Z"
   },
   {
    "duration": 10,
    "start_time": "2022-04-14T10:00:33.144Z"
   },
   {
    "duration": 39,
    "start_time": "2022-04-14T10:00:33.156Z"
   },
   {
    "duration": 18,
    "start_time": "2022-04-14T10:00:33.197Z"
   },
   {
    "duration": 29,
    "start_time": "2022-04-14T10:00:33.217Z"
   },
   {
    "duration": 51,
    "start_time": "2022-04-14T10:00:33.248Z"
   },
   {
    "duration": 7,
    "start_time": "2022-04-14T10:00:33.301Z"
   },
   {
    "duration": 210,
    "start_time": "2022-04-14T10:00:33.310Z"
   },
   {
    "duration": 21,
    "start_time": "2022-04-14T10:00:33.522Z"
   },
   {
    "duration": 9,
    "start_time": "2022-04-14T10:00:33.546Z"
   },
   {
    "duration": 7,
    "start_time": "2022-04-14T10:00:33.557Z"
   },
   {
    "duration": 34,
    "start_time": "2022-04-14T10:00:33.566Z"
   },
   {
    "duration": 1023,
    "start_time": "2022-04-14T10:00:33.602Z"
   },
   {
    "duration": 956,
    "start_time": "2022-04-14T10:00:34.628Z"
   },
   {
    "duration": 890,
    "start_time": "2022-04-14T10:00:35.586Z"
   },
   {
    "duration": 17,
    "start_time": "2022-04-14T10:00:36.478Z"
   },
   {
    "duration": 9,
    "start_time": "2022-04-14T10:00:36.497Z"
   },
   {
    "duration": 8,
    "start_time": "2022-04-14T10:00:36.509Z"
   },
   {
    "duration": 9,
    "start_time": "2022-04-14T10:00:36.520Z"
   },
   {
    "duration": 9,
    "start_time": "2022-04-14T10:00:36.532Z"
   },
   {
    "duration": 61,
    "start_time": "2022-04-14T10:00:36.543Z"
   },
   {
    "duration": 3,
    "start_time": "2022-04-14T10:00:36.607Z"
   },
   {
    "duration": 11,
    "start_time": "2022-04-14T10:00:36.613Z"
   },
   {
    "duration": 8,
    "start_time": "2022-04-14T10:00:36.627Z"
   },
   {
    "duration": 9,
    "start_time": "2022-04-14T10:00:36.637Z"
   },
   {
    "duration": 46,
    "start_time": "2022-04-14T10:00:36.649Z"
   },
   {
    "duration": 1348,
    "start_time": "2022-04-14T11:51:01.312Z"
   },
   {
    "duration": 439,
    "start_time": "2022-04-14T11:51:02.662Z"
   },
   {
    "duration": 6,
    "start_time": "2022-04-14T11:51:03.103Z"
   },
   {
    "duration": 88,
    "start_time": "2022-04-14T11:51:03.111Z"
   },
   {
    "duration": 174,
    "start_time": "2022-04-14T11:51:03.201Z"
   },
   {
    "duration": 173,
    "start_time": "2022-04-14T11:51:03.378Z"
   },
   {
    "duration": 226,
    "start_time": "2022-04-14T11:51:03.554Z"
   },
   {
    "duration": 13,
    "start_time": "2022-04-14T11:51:03.782Z"
   },
   {
    "duration": 52,
    "start_time": "2022-04-14T11:51:03.798Z"
   },
   {
    "duration": 22,
    "start_time": "2022-04-14T11:51:03.854Z"
   },
   {
    "duration": 149,
    "start_time": "2022-04-14T11:51:03.878Z"
   },
   {
    "duration": 6,
    "start_time": "2022-04-14T11:51:04.029Z"
   },
   {
    "duration": 557,
    "start_time": "2022-04-14T11:51:04.037Z"
   },
   {
    "duration": 65,
    "start_time": "2022-04-14T11:51:04.596Z"
   },
   {
    "duration": 30,
    "start_time": "2022-04-14T11:51:04.663Z"
   },
   {
    "duration": 474,
    "start_time": "2022-04-14T11:51:04.696Z"
   },
   {
    "duration": 7,
    "start_time": "2022-04-14T11:51:05.172Z"
   },
   {
    "duration": 25,
    "start_time": "2022-04-14T11:51:05.181Z"
   },
   {
    "duration": 22,
    "start_time": "2022-04-14T11:51:05.208Z"
   },
   {
    "duration": 119,
    "start_time": "2022-04-14T11:51:05.232Z"
   },
   {
    "duration": 534,
    "start_time": "2022-04-14T11:51:05.352Z"
   },
   {
    "duration": 8,
    "start_time": "2022-04-14T11:51:05.888Z"
   },
   {
    "duration": 29,
    "start_time": "2022-04-14T11:51:05.898Z"
   },
   {
    "duration": 38,
    "start_time": "2022-04-14T11:51:05.929Z"
   },
   {
    "duration": 538,
    "start_time": "2022-04-14T11:51:05.968Z"
   },
   {
    "duration": 25,
    "start_time": "2022-04-14T11:51:06.508Z"
   },
   {
    "duration": 24,
    "start_time": "2022-04-14T11:51:06.535Z"
   },
   {
    "duration": 24,
    "start_time": "2022-04-14T11:51:06.564Z"
   },
   {
    "duration": 51,
    "start_time": "2022-04-14T11:51:06.590Z"
   },
   {
    "duration": 31,
    "start_time": "2022-04-14T11:51:06.643Z"
   },
   {
    "duration": 142,
    "start_time": "2022-04-14T11:51:06.676Z"
   },
   {
    "duration": 25,
    "start_time": "2022-04-14T11:51:06.820Z"
   },
   {
    "duration": 14,
    "start_time": "2022-04-14T11:51:06.847Z"
   },
   {
    "duration": 13,
    "start_time": "2022-04-14T11:51:06.863Z"
   },
   {
    "duration": 31,
    "start_time": "2022-04-14T11:51:06.878Z"
   },
   {
    "duration": 18,
    "start_time": "2022-04-14T11:51:06.911Z"
   },
   {
    "duration": 35,
    "start_time": "2022-04-14T11:51:06.931Z"
   },
   {
    "duration": 30,
    "start_time": "2022-04-14T11:51:06.967Z"
   },
   {
    "duration": 20,
    "start_time": "2022-04-14T11:51:06.999Z"
   },
   {
    "duration": 141,
    "start_time": "2022-04-14T11:51:07.021Z"
   },
   {
    "duration": 15,
    "start_time": "2022-04-14T11:51:07.164Z"
   },
   {
    "duration": 15,
    "start_time": "2022-04-14T11:51:07.181Z"
   },
   {
    "duration": 14,
    "start_time": "2022-04-14T11:51:07.198Z"
   },
   {
    "duration": 8,
    "start_time": "2022-04-14T11:51:07.218Z"
   },
   {
    "duration": 662,
    "start_time": "2022-04-14T11:51:07.228Z"
   },
   {
    "duration": 616,
    "start_time": "2022-04-14T11:51:07.892Z"
   },
   {
    "duration": 614,
    "start_time": "2022-04-14T11:51:08.518Z"
   },
   {
    "duration": 7,
    "start_time": "2022-04-14T11:51:09.134Z"
   },
   {
    "duration": 19,
    "start_time": "2022-04-14T11:51:09.142Z"
   },
   {
    "duration": 14,
    "start_time": "2022-04-14T11:51:09.163Z"
   },
   {
    "duration": 13,
    "start_time": "2022-04-14T11:51:09.179Z"
   },
   {
    "duration": 10,
    "start_time": "2022-04-14T11:51:09.194Z"
   },
   {
    "duration": 23,
    "start_time": "2022-04-14T11:51:09.205Z"
   },
   {
    "duration": 4,
    "start_time": "2022-04-14T11:51:09.229Z"
   },
   {
    "duration": 15,
    "start_time": "2022-04-14T11:51:09.234Z"
   },
   {
    "duration": 13,
    "start_time": "2022-04-14T11:51:09.250Z"
   },
   {
    "duration": 14,
    "start_time": "2022-04-14T11:51:09.265Z"
   },
   {
    "duration": 17,
    "start_time": "2022-04-14T11:51:09.281Z"
   },
   {
    "duration": 191,
    "start_time": "2022-04-14T12:17:10.570Z"
   },
   {
    "duration": 13,
    "start_time": "2022-04-14T12:36:27.412Z"
   },
   {
    "duration": 215,
    "start_time": "2022-04-14T12:45:04.720Z"
   },
   {
    "duration": 80,
    "start_time": "2022-04-15T16:11:29.062Z"
   },
   {
    "duration": 1798,
    "start_time": "2022-04-15T16:11:32.120Z"
   },
   {
    "duration": 470,
    "start_time": "2022-04-15T16:11:33.920Z"
   },
   {
    "duration": 6,
    "start_time": "2022-04-15T16:11:34.392Z"
   },
   {
    "duration": 90,
    "start_time": "2022-04-15T16:11:34.400Z"
   },
   {
    "duration": 199,
    "start_time": "2022-04-15T16:11:34.493Z"
   },
   {
    "duration": 141,
    "start_time": "2022-04-15T16:11:34.694Z"
   },
   {
    "duration": 142,
    "start_time": "2022-04-15T16:11:34.838Z"
   },
   {
    "duration": 20,
    "start_time": "2022-04-15T16:11:34.982Z"
   },
   {
    "duration": 59,
    "start_time": "2022-04-15T16:11:35.004Z"
   },
   {
    "duration": 15,
    "start_time": "2022-04-15T16:11:35.065Z"
   },
   {
    "duration": 110,
    "start_time": "2022-04-15T16:11:35.081Z"
   },
   {
    "duration": 9,
    "start_time": "2022-04-15T16:11:35.193Z"
   },
   {
    "duration": 648,
    "start_time": "2022-04-15T16:11:35.204Z"
   },
   {
    "duration": 72,
    "start_time": "2022-04-15T16:11:35.855Z"
   },
   {
    "duration": 32,
    "start_time": "2022-04-15T16:11:35.935Z"
   },
   {
    "duration": 500,
    "start_time": "2022-04-15T16:11:35.969Z"
   },
   {
    "duration": 6,
    "start_time": "2022-04-15T16:11:36.471Z"
   },
   {
    "duration": 7,
    "start_time": "2022-04-15T16:11:54.023Z"
   },
   {
    "duration": 6,
    "start_time": "2022-04-15T16:14:51.734Z"
   },
   {
    "duration": 6,
    "start_time": "2022-04-15T16:16:37.476Z"
   },
   {
    "duration": 31,
    "start_time": "2022-04-15T16:19:22.950Z"
   },
   {
    "duration": 27,
    "start_time": "2022-04-15T16:20:45.036Z"
   },
   {
    "duration": 7,
    "start_time": "2022-04-15T16:26:32.827Z"
   },
   {
    "duration": 6,
    "start_time": "2022-04-15T16:45:09.793Z"
   },
   {
    "duration": 578,
    "start_time": "2022-04-15T16:45:09.801Z"
   },
   {
    "duration": 6,
    "start_time": "2022-04-15T16:45:10.381Z"
   },
   {
    "duration": 75,
    "start_time": "2022-04-15T16:45:10.389Z"
   },
   {
    "duration": 211,
    "start_time": "2022-04-15T16:45:10.466Z"
   },
   {
    "duration": 158,
    "start_time": "2022-04-15T16:45:10.679Z"
   },
   {
    "duration": 143,
    "start_time": "2022-04-15T16:45:10.839Z"
   },
   {
    "duration": 17,
    "start_time": "2022-04-15T16:45:10.984Z"
   },
   {
    "duration": 42,
    "start_time": "2022-04-15T16:45:11.003Z"
   },
   {
    "duration": 25,
    "start_time": "2022-04-15T16:45:11.047Z"
   },
   {
    "duration": 138,
    "start_time": "2022-04-15T16:45:11.075Z"
   },
   {
    "duration": 10,
    "start_time": "2022-04-15T16:45:11.216Z"
   },
   {
    "duration": 717,
    "start_time": "2022-04-15T16:45:11.227Z"
   },
   {
    "duration": 83,
    "start_time": "2022-04-15T16:45:11.946Z"
   },
   {
    "duration": 47,
    "start_time": "2022-04-15T16:45:12.031Z"
   },
   {
    "duration": 595,
    "start_time": "2022-04-15T16:45:12.080Z"
   },
   {
    "duration": 28,
    "start_time": "2022-04-15T16:45:12.677Z"
   },
   {
    "duration": 36,
    "start_time": "2022-04-15T16:45:12.708Z"
   },
   {
    "duration": 11,
    "start_time": "2022-04-15T16:45:12.746Z"
   },
   {
    "duration": 11,
    "start_time": "2022-04-15T16:45:12.759Z"
   },
   {
    "duration": 122,
    "start_time": "2022-04-15T16:45:12.772Z"
   },
   {
    "duration": 552,
    "start_time": "2022-04-15T16:45:12.899Z"
   },
   {
    "duration": 49,
    "start_time": "2022-04-15T16:45:13.453Z"
   },
   {
    "duration": 11,
    "start_time": "2022-04-15T16:45:13.505Z"
   },
   {
    "duration": 30,
    "start_time": "2022-04-15T16:45:13.518Z"
   },
   {
    "duration": 30,
    "start_time": "2022-04-15T16:45:13.549Z"
   },
   {
    "duration": 570,
    "start_time": "2022-04-15T16:45:13.581Z"
   },
   {
    "duration": 15,
    "start_time": "2022-04-15T16:45:14.153Z"
   },
   {
    "duration": 21,
    "start_time": "2022-04-15T16:45:14.173Z"
   },
   {
    "duration": 54,
    "start_time": "2022-04-15T16:45:14.196Z"
   },
   {
    "duration": 62,
    "start_time": "2022-04-15T16:45:14.252Z"
   },
   {
    "duration": 46,
    "start_time": "2022-04-15T16:45:14.318Z"
   },
   {
    "duration": 58,
    "start_time": "2022-04-15T16:45:14.366Z"
   },
   {
    "duration": 38,
    "start_time": "2022-04-15T16:45:14.429Z"
   },
   {
    "duration": 9,
    "start_time": "2022-04-15T16:45:14.468Z"
   },
   {
    "duration": 17,
    "start_time": "2022-04-15T16:45:14.494Z"
   },
   {
    "duration": 32,
    "start_time": "2022-04-15T16:45:14.519Z"
   },
   {
    "duration": 10,
    "start_time": "2022-04-15T16:45:14.553Z"
   },
   {
    "duration": 23,
    "start_time": "2022-04-15T16:45:14.564Z"
   },
   {
    "duration": 32,
    "start_time": "2022-04-15T16:45:14.589Z"
   },
   {
    "duration": 22,
    "start_time": "2022-04-15T16:45:14.623Z"
   },
   {
    "duration": 212,
    "start_time": "2022-04-15T16:45:14.647Z"
   },
   {
    "duration": 14,
    "start_time": "2022-04-15T16:45:14.863Z"
   },
   {
    "duration": 5,
    "start_time": "2022-04-15T16:45:14.879Z"
   },
   {
    "duration": 5,
    "start_time": "2022-04-15T16:45:14.895Z"
   },
   {
    "duration": 43,
    "start_time": "2022-04-15T16:45:14.902Z"
   },
   {
    "duration": 1000,
    "start_time": "2022-04-15T16:45:14.948Z"
   },
   {
    "duration": 698,
    "start_time": "2022-04-15T16:45:15.950Z"
   },
   {
    "duration": 735,
    "start_time": "2022-04-15T16:45:16.650Z"
   },
   {
    "duration": 13,
    "start_time": "2022-04-15T16:45:17.386Z"
   },
   {
    "duration": 47,
    "start_time": "2022-04-15T16:45:17.401Z"
   },
   {
    "duration": 31,
    "start_time": "2022-04-15T16:45:17.449Z"
   },
   {
    "duration": 67,
    "start_time": "2022-04-15T16:45:17.485Z"
   },
   {
    "duration": 21,
    "start_time": "2022-04-15T16:45:17.554Z"
   },
   {
    "duration": 61,
    "start_time": "2022-04-15T16:45:17.577Z"
   },
   {
    "duration": 17,
    "start_time": "2022-04-15T16:45:17.641Z"
   },
   {
    "duration": 71,
    "start_time": "2022-04-15T16:45:17.660Z"
   },
   {
    "duration": 16,
    "start_time": "2022-04-15T16:45:17.736Z"
   },
   {
    "duration": 22,
    "start_time": "2022-04-15T16:45:17.754Z"
   },
   {
    "duration": 22,
    "start_time": "2022-04-15T16:45:17.778Z"
   },
   {
    "duration": 2169,
    "start_time": "2022-04-15T18:46:34.055Z"
   },
   {
    "duration": 788,
    "start_time": "2022-04-15T18:46:36.228Z"
   },
   {
    "duration": 10,
    "start_time": "2022-04-15T18:46:37.019Z"
   },
   {
    "duration": 93,
    "start_time": "2022-04-15T18:46:37.033Z"
   },
   {
    "duration": 243,
    "start_time": "2022-04-15T18:46:37.129Z"
   },
   {
    "duration": 129,
    "start_time": "2022-04-15T18:46:37.375Z"
   },
   {
    "duration": 208,
    "start_time": "2022-04-15T18:46:37.506Z"
   },
   {
    "duration": 16,
    "start_time": "2022-04-15T18:46:37.717Z"
   },
   {
    "duration": 32,
    "start_time": "2022-04-15T18:46:37.735Z"
   },
   {
    "duration": 21,
    "start_time": "2022-04-15T18:46:37.771Z"
   },
   {
    "duration": 123,
    "start_time": "2022-04-15T18:46:37.825Z"
   },
   {
    "duration": 8,
    "start_time": "2022-04-15T18:46:37.950Z"
   },
   {
    "duration": 749,
    "start_time": "2022-04-15T18:46:37.960Z"
   },
   {
    "duration": 82,
    "start_time": "2022-04-15T18:46:38.711Z"
   },
   {
    "duration": 55,
    "start_time": "2022-04-15T18:46:38.796Z"
   },
   {
    "duration": 680,
    "start_time": "2022-04-15T18:46:38.853Z"
   },
   {
    "duration": 9,
    "start_time": "2022-04-15T18:46:39.536Z"
   },
   {
    "duration": 10,
    "start_time": "2022-04-15T18:46:39.548Z"
   },
   {
    "duration": 11,
    "start_time": "2022-04-15T18:46:39.561Z"
   },
   {
    "duration": 51,
    "start_time": "2022-04-15T18:46:39.574Z"
   },
   {
    "duration": 120,
    "start_time": "2022-04-15T18:46:39.627Z"
   },
   {
    "duration": 722,
    "start_time": "2022-04-15T18:46:39.749Z"
   },
   {
    "duration": 28,
    "start_time": "2022-04-15T18:46:40.474Z"
   },
   {
    "duration": 27,
    "start_time": "2022-04-15T18:46:40.504Z"
   },
   {
    "duration": 14,
    "start_time": "2022-04-15T18:46:40.534Z"
   },
   {
    "duration": 77,
    "start_time": "2022-04-15T18:46:40.551Z"
   },
   {
    "duration": 775,
    "start_time": "2022-04-15T18:46:40.630Z"
   },
   {
    "duration": 27,
    "start_time": "2022-04-15T18:46:41.411Z"
   },
   {
    "duration": 8,
    "start_time": "2022-04-15T18:46:41.440Z"
   },
   {
    "duration": 21,
    "start_time": "2022-04-15T18:46:41.450Z"
   },
   {
    "duration": 78,
    "start_time": "2022-04-15T18:46:41.473Z"
   },
   {
    "duration": 145,
    "start_time": "2022-04-15T18:46:41.553Z"
   },
   {
    "duration": 59,
    "start_time": "2022-04-15T18:46:41.700Z"
   },
   {
    "duration": 34,
    "start_time": "2022-04-15T18:46:41.761Z"
   },
   {
    "duration": 36,
    "start_time": "2022-04-15T18:46:41.797Z"
   },
   {
    "duration": 12,
    "start_time": "2022-04-15T18:46:41.835Z"
   },
   {
    "duration": 17,
    "start_time": "2022-04-15T18:46:41.849Z"
   },
   {
    "duration": 8,
    "start_time": "2022-04-15T18:46:41.868Z"
   },
   {
    "duration": 63,
    "start_time": "2022-04-15T18:46:41.878Z"
   },
   {
    "duration": 25,
    "start_time": "2022-04-15T18:46:41.944Z"
   },
   {
    "duration": 9,
    "start_time": "2022-04-15T18:46:41.971Z"
   },
   {
    "duration": 235,
    "start_time": "2022-04-15T18:46:41.982Z"
   },
   {
    "duration": 20,
    "start_time": "2022-04-15T18:46:42.219Z"
   },
   {
    "duration": 7,
    "start_time": "2022-04-15T18:46:42.241Z"
   },
   {
    "duration": 10,
    "start_time": "2022-04-15T18:46:42.250Z"
   },
   {
    "duration": 12,
    "start_time": "2022-04-15T18:46:42.263Z"
   },
   {
    "duration": 1034,
    "start_time": "2022-04-15T18:46:42.278Z"
   },
   {
    "duration": 1403,
    "start_time": "2022-04-15T18:46:43.315Z"
   },
   {
    "duration": 893,
    "start_time": "2022-04-15T18:46:44.724Z"
   },
   {
    "duration": 8,
    "start_time": "2022-04-15T18:46:45.624Z"
   },
   {
    "duration": 8,
    "start_time": "2022-04-15T18:46:45.635Z"
   },
   {
    "duration": 7,
    "start_time": "2022-04-15T18:46:45.645Z"
   },
   {
    "duration": 9,
    "start_time": "2022-04-15T18:46:45.656Z"
   },
   {
    "duration": 59,
    "start_time": "2022-04-15T18:46:45.668Z"
   },
   {
    "duration": 26,
    "start_time": "2022-04-15T18:46:45.730Z"
   },
   {
    "duration": 3,
    "start_time": "2022-04-15T18:46:45.758Z"
   },
   {
    "duration": 11,
    "start_time": "2022-04-15T18:46:45.763Z"
   },
   {
    "duration": 51,
    "start_time": "2022-04-15T18:46:45.776Z"
   },
   {
    "duration": 10,
    "start_time": "2022-04-15T18:46:45.829Z"
   },
   {
    "duration": 8,
    "start_time": "2022-04-15T18:46:45.841Z"
   },
   {
    "duration": 128,
    "start_time": "2022-04-16T19:57:04.770Z"
   },
   {
    "duration": 1794,
    "start_time": "2022-04-16T19:57:12.884Z"
   },
   {
    "duration": 484,
    "start_time": "2022-04-16T19:57:14.681Z"
   },
   {
    "duration": 7,
    "start_time": "2022-04-16T19:57:18.958Z"
   },
   {
    "duration": 60,
    "start_time": "2022-04-16T19:57:20.811Z"
   },
   {
    "duration": 212,
    "start_time": "2022-04-16T19:57:21.292Z"
   },
   {
    "duration": 112,
    "start_time": "2022-04-16T19:57:21.725Z"
   },
   {
    "duration": 182,
    "start_time": "2022-04-16T19:57:22.074Z"
   },
   {
    "duration": 12,
    "start_time": "2022-04-16T19:57:22.507Z"
   },
   {
    "duration": 28,
    "start_time": "2022-04-16T19:57:24.675Z"
   },
   {
    "duration": 20,
    "start_time": "2022-04-16T19:57:25.402Z"
   },
   {
    "duration": 115,
    "start_time": "2022-04-16T19:57:25.988Z"
   },
   {
    "duration": 8,
    "start_time": "2022-04-16T19:57:26.381Z"
   },
   {
    "duration": 787,
    "start_time": "2022-04-16T19:57:26.567Z"
   },
   {
    "duration": 70,
    "start_time": "2022-04-16T19:57:27.357Z"
   },
   {
    "duration": 52,
    "start_time": "2022-04-16T19:57:27.429Z"
   },
   {
    "duration": 655,
    "start_time": "2022-04-16T19:57:27.785Z"
   },
   {
    "duration": 8,
    "start_time": "2022-04-16T19:57:33.188Z"
   },
   {
    "duration": 8,
    "start_time": "2022-04-16T19:57:34.845Z"
   },
   {
    "duration": 11,
    "start_time": "2022-04-16T19:57:36.011Z"
   },
   {
    "duration": 14,
    "start_time": "2022-04-16T19:57:36.137Z"
   },
   {
    "duration": 114,
    "start_time": "2022-04-16T19:57:38.452Z"
   },
   {
    "duration": 724,
    "start_time": "2022-04-16T19:57:39.819Z"
   },
   {
    "duration": 30,
    "start_time": "2022-04-16T19:57:46.169Z"
   },
   {
    "duration": 10,
    "start_time": "2022-04-16T19:57:47.987Z"
   },
   {
    "duration": 16,
    "start_time": "2022-04-16T19:57:48.211Z"
   },
   {
    "duration": 44,
    "start_time": "2022-04-16T19:57:48.414Z"
   },
   {
    "duration": 727,
    "start_time": "2022-04-16T19:57:48.711Z"
   },
   {
    "duration": 17,
    "start_time": "2022-04-16T19:57:53.476Z"
   },
   {
    "duration": 6,
    "start_time": "2022-04-16T19:57:54.177Z"
   },
   {
    "duration": 15,
    "start_time": "2022-04-16T19:57:54.433Z"
   },
   {
    "duration": 48,
    "start_time": "2022-04-16T19:58:04.332Z"
   },
   {
    "duration": 43,
    "start_time": "2022-04-16T19:58:06.010Z"
   },
   {
    "duration": 45,
    "start_time": "2022-04-16T19:58:07.413Z"
   },
   {
    "duration": 45,
    "start_time": "2022-04-16T19:58:09.800Z"
   },
   {
    "duration": 9,
    "start_time": "2022-04-16T19:58:10.933Z"
   },
   {
    "duration": 8,
    "start_time": "2022-04-16T19:58:27.265Z"
   },
   {
    "duration": 8,
    "start_time": "2022-04-16T19:58:27.749Z"
   },
   {
    "duration": 7,
    "start_time": "2022-04-16T19:58:29.099Z"
   },
   {
    "duration": 24,
    "start_time": "2022-04-16T19:58:36.705Z"
   },
   {
    "duration": 16,
    "start_time": "2022-04-16T19:58:37.389Z"
   },
   {
    "duration": 19,
    "start_time": "2022-04-16T20:00:38.763Z"
   },
   {
    "duration": 7,
    "start_time": "2022-04-16T20:23:19.974Z"
   },
   {
    "duration": 7,
    "start_time": "2022-04-16T20:23:26.926Z"
   },
   {
    "duration": 1790,
    "start_time": "2022-04-17T07:40:37.442Z"
   },
   {
    "duration": 526,
    "start_time": "2022-04-17T07:40:39.235Z"
   },
   {
    "duration": 7,
    "start_time": "2022-04-17T07:40:39.764Z"
   },
   {
    "duration": 54,
    "start_time": "2022-04-17T07:40:39.774Z"
   },
   {
    "duration": 221,
    "start_time": "2022-04-17T07:40:39.831Z"
   },
   {
    "duration": 124,
    "start_time": "2022-04-17T07:40:40.054Z"
   },
   {
    "duration": 187,
    "start_time": "2022-04-17T07:40:40.192Z"
   },
   {
    "duration": 19,
    "start_time": "2022-04-17T07:40:40.382Z"
   },
   {
    "duration": 31,
    "start_time": "2022-04-17T07:40:40.404Z"
   },
   {
    "duration": 19,
    "start_time": "2022-04-17T07:40:40.440Z"
   },
   {
    "duration": 122,
    "start_time": "2022-04-17T07:40:40.494Z"
   },
   {
    "duration": 8,
    "start_time": "2022-04-17T07:40:40.619Z"
   },
   {
    "duration": 744,
    "start_time": "2022-04-17T07:40:40.630Z"
   },
   {
    "duration": 70,
    "start_time": "2022-04-17T07:40:41.377Z"
   },
   {
    "duration": 52,
    "start_time": "2022-04-17T07:40:41.449Z"
   },
   {
    "duration": 677,
    "start_time": "2022-04-17T07:40:41.503Z"
   },
   {
    "duration": 15,
    "start_time": "2022-04-17T07:40:42.182Z"
   },
   {
    "duration": 3,
    "start_time": "2022-04-17T07:40:42.199Z"
   },
   {
    "duration": 5,
    "start_time": "2022-04-17T07:40:42.204Z"
   },
   {
    "duration": 10,
    "start_time": "2022-04-17T07:40:42.211Z"
   },
   {
    "duration": 231,
    "start_time": "2022-04-17T07:40:45.520Z"
   },
   {
    "duration": 74,
    "start_time": "2022-04-17T07:40:57.250Z"
   },
   {
    "duration": 4,
    "start_time": "2022-04-17T07:42:47.075Z"
   },
   {
    "duration": 512,
    "start_time": "2022-04-17T07:42:47.082Z"
   },
   {
    "duration": 6,
    "start_time": "2022-04-17T07:42:47.597Z"
   },
   {
    "duration": 47,
    "start_time": "2022-04-17T07:42:47.606Z"
   },
   {
    "duration": 251,
    "start_time": "2022-04-17T07:42:47.656Z"
   },
   {
    "duration": 131,
    "start_time": "2022-04-17T07:42:47.910Z"
   },
   {
    "duration": 181,
    "start_time": "2022-04-17T07:42:48.043Z"
   },
   {
    "duration": 11,
    "start_time": "2022-04-17T07:42:48.227Z"
   },
   {
    "duration": 29,
    "start_time": "2022-04-17T07:42:48.240Z"
   },
   {
    "duration": 19,
    "start_time": "2022-04-17T07:42:48.294Z"
   },
   {
    "duration": 125,
    "start_time": "2022-04-17T07:42:48.317Z"
   },
   {
    "duration": 8,
    "start_time": "2022-04-17T07:42:48.444Z"
   },
   {
    "duration": 683,
    "start_time": "2022-04-17T07:42:48.454Z"
   },
   {
    "duration": 80,
    "start_time": "2022-04-17T07:42:49.140Z"
   },
   {
    "duration": 37,
    "start_time": "2022-04-17T07:42:49.222Z"
   },
   {
    "duration": 707,
    "start_time": "2022-04-17T07:42:49.261Z"
   },
   {
    "duration": 8,
    "start_time": "2022-04-17T07:42:49.970Z"
   },
   {
    "duration": 14,
    "start_time": "2022-04-17T07:42:49.980Z"
   },
   {
    "duration": 6,
    "start_time": "2022-04-17T07:42:49.995Z"
   },
   {
    "duration": 12,
    "start_time": "2022-04-17T07:42:50.003Z"
   },
   {
    "duration": 115,
    "start_time": "2022-04-17T07:42:50.017Z"
   },
   {
    "duration": 4,
    "start_time": "2022-04-17T07:43:39.945Z"
   },
   {
    "duration": 488,
    "start_time": "2022-04-17T07:43:39.952Z"
   },
   {
    "duration": 8,
    "start_time": "2022-04-17T07:43:40.443Z"
   },
   {
    "duration": 52,
    "start_time": "2022-04-17T07:43:40.454Z"
   },
   {
    "duration": 236,
    "start_time": "2022-04-17T07:43:40.510Z"
   },
   {
    "duration": 129,
    "start_time": "2022-04-17T07:43:40.748Z"
   },
   {
    "duration": 187,
    "start_time": "2022-04-17T07:43:40.880Z"
   },
   {
    "duration": 10,
    "start_time": "2022-04-17T07:43:41.070Z"
   },
   {
    "duration": 30,
    "start_time": "2022-04-17T07:43:41.094Z"
   },
   {
    "duration": 19,
    "start_time": "2022-04-17T07:43:41.126Z"
   },
   {
    "duration": 135,
    "start_time": "2022-04-17T07:43:41.147Z"
   },
   {
    "duration": 12,
    "start_time": "2022-04-17T07:43:41.284Z"
   },
   {
    "duration": 697,
    "start_time": "2022-04-17T07:43:41.298Z"
   },
   {
    "duration": 69,
    "start_time": "2022-04-17T07:43:41.999Z"
   },
   {
    "duration": 50,
    "start_time": "2022-04-17T07:43:42.070Z"
   },
   {
    "duration": 646,
    "start_time": "2022-04-17T07:43:42.122Z"
   },
   {
    "duration": 8,
    "start_time": "2022-04-17T07:43:42.770Z"
   },
   {
    "duration": 3,
    "start_time": "2022-04-17T07:43:42.792Z"
   },
   {
    "duration": 6,
    "start_time": "2022-04-17T07:43:42.798Z"
   },
   {
    "duration": 9,
    "start_time": "2022-04-17T07:43:42.806Z"
   },
   {
    "duration": 121,
    "start_time": "2022-04-17T07:43:42.817Z"
   },
   {
    "duration": 4,
    "start_time": "2022-04-17T07:45:43.233Z"
   },
   {
    "duration": 522,
    "start_time": "2022-04-17T07:45:43.241Z"
   },
   {
    "duration": 7,
    "start_time": "2022-04-17T07:45:43.765Z"
   },
   {
    "duration": 50,
    "start_time": "2022-04-17T07:45:43.775Z"
   },
   {
    "duration": 239,
    "start_time": "2022-04-17T07:45:43.828Z"
   },
   {
    "duration": 144,
    "start_time": "2022-04-17T07:45:44.070Z"
   },
   {
    "duration": 194,
    "start_time": "2022-04-17T07:45:44.217Z"
   },
   {
    "duration": 12,
    "start_time": "2022-04-17T07:45:44.414Z"
   },
   {
    "duration": 32,
    "start_time": "2022-04-17T07:45:44.428Z"
   },
   {
    "duration": 47,
    "start_time": "2022-04-17T07:45:44.463Z"
   },
   {
    "duration": 127,
    "start_time": "2022-04-17T07:45:44.516Z"
   },
   {
    "duration": 8,
    "start_time": "2022-04-17T07:45:44.646Z"
   },
   {
    "duration": 682,
    "start_time": "2022-04-17T07:45:44.657Z"
   },
   {
    "duration": 80,
    "start_time": "2022-04-17T07:45:45.342Z"
   },
   {
    "duration": 37,
    "start_time": "2022-04-17T07:45:45.424Z"
   },
   {
    "duration": 638,
    "start_time": "2022-04-17T07:45:45.463Z"
   },
   {
    "duration": 8,
    "start_time": "2022-04-17T07:45:46.103Z"
   },
   {
    "duration": 6,
    "start_time": "2022-04-17T07:45:46.113Z"
   },
   {
    "duration": 6,
    "start_time": "2022-04-17T07:45:46.121Z"
   },
   {
    "duration": 8,
    "start_time": "2022-04-17T07:45:46.129Z"
   },
   {
    "duration": 126,
    "start_time": "2022-04-17T07:45:46.139Z"
   },
   {
    "duration": 673,
    "start_time": "2022-04-17T07:45:46.267Z"
   },
   {
    "duration": 28,
    "start_time": "2022-04-17T07:45:46.942Z"
   },
   {
    "duration": 21,
    "start_time": "2022-04-17T07:45:46.972Z"
   },
   {
    "duration": 5,
    "start_time": "2022-04-17T07:45:46.996Z"
   },
   {
    "duration": 6,
    "start_time": "2022-04-17T07:45:47.003Z"
   },
   {
    "duration": 12,
    "start_time": "2022-04-17T07:45:47.012Z"
   },
   {
    "duration": 0,
    "start_time": "2022-04-17T07:45:47.028Z"
   },
   {
    "duration": 0,
    "start_time": "2022-04-17T07:45:47.030Z"
   },
   {
    "duration": 0,
    "start_time": "2022-04-17T07:45:47.032Z"
   },
   {
    "duration": 0,
    "start_time": "2022-04-17T07:45:47.034Z"
   },
   {
    "duration": 0,
    "start_time": "2022-04-17T07:45:47.036Z"
   },
   {
    "duration": 0,
    "start_time": "2022-04-17T07:45:47.038Z"
   },
   {
    "duration": 0,
    "start_time": "2022-04-17T07:45:47.040Z"
   },
   {
    "duration": 0,
    "start_time": "2022-04-17T07:45:47.095Z"
   },
   {
    "duration": 0,
    "start_time": "2022-04-17T07:45:47.096Z"
   },
   {
    "duration": 0,
    "start_time": "2022-04-17T07:45:47.099Z"
   },
   {
    "duration": 0,
    "start_time": "2022-04-17T07:45:47.101Z"
   },
   {
    "duration": 35,
    "start_time": "2022-04-17T07:46:27.647Z"
   },
   {
    "duration": 868,
    "start_time": "2022-04-17T07:46:32.103Z"
   },
   {
    "duration": 49,
    "start_time": "2022-04-17T07:46:38.208Z"
   },
   {
    "duration": 36,
    "start_time": "2022-04-17T07:46:39.186Z"
   },
   {
    "duration": 32,
    "start_time": "2022-04-17T07:46:39.616Z"
   },
   {
    "duration": 32,
    "start_time": "2022-04-17T07:46:42.140Z"
   },
   {
    "duration": 9,
    "start_time": "2022-04-17T07:46:42.374Z"
   },
   {
    "duration": 213,
    "start_time": "2022-04-17T07:46:43.525Z"
   },
   {
    "duration": 10,
    "start_time": "2022-04-17T07:46:44.037Z"
   },
   {
    "duration": 9,
    "start_time": "2022-04-17T07:46:51.877Z"
   },
   {
    "duration": 8,
    "start_time": "2022-04-17T07:46:53.157Z"
   },
   {
    "duration": 4,
    "start_time": "2022-04-17T07:47:16.432Z"
   },
   {
    "duration": 25,
    "start_time": "2022-04-17T07:47:25.402Z"
   },
   {
    "duration": 7,
    "start_time": "2022-04-17T07:47:25.989Z"
   },
   {
    "duration": 22,
    "start_time": "2022-04-17T07:47:29.935Z"
   },
   {
    "duration": 5,
    "start_time": "2022-04-17T07:52:08.699Z"
   },
   {
    "duration": 556,
    "start_time": "2022-04-17T07:52:08.707Z"
   },
   {
    "duration": 7,
    "start_time": "2022-04-17T07:52:09.266Z"
   },
   {
    "duration": 47,
    "start_time": "2022-04-17T07:52:09.275Z"
   },
   {
    "duration": 247,
    "start_time": "2022-04-17T07:52:09.325Z"
   },
   {
    "duration": 132,
    "start_time": "2022-04-17T07:52:09.575Z"
   },
   {
    "duration": 183,
    "start_time": "2022-04-17T07:52:09.710Z"
   },
   {
    "duration": 12,
    "start_time": "2022-04-17T07:52:09.895Z"
   },
   {
    "duration": 34,
    "start_time": "2022-04-17T07:52:09.910Z"
   },
   {
    "duration": 54,
    "start_time": "2022-04-17T07:52:09.946Z"
   },
   {
    "duration": 126,
    "start_time": "2022-04-17T07:52:10.004Z"
   },
   {
    "duration": 8,
    "start_time": "2022-04-17T07:52:10.132Z"
   },
   {
    "duration": 713,
    "start_time": "2022-04-17T07:52:10.142Z"
   },
   {
    "duration": 79,
    "start_time": "2022-04-17T07:52:10.857Z"
   },
   {
    "duration": 34,
    "start_time": "2022-04-17T07:52:10.939Z"
   },
   {
    "duration": 665,
    "start_time": "2022-04-17T07:52:10.975Z"
   },
   {
    "duration": 7,
    "start_time": "2022-04-17T07:52:11.642Z"
   },
   {
    "duration": 7,
    "start_time": "2022-04-17T07:52:11.651Z"
   },
   {
    "duration": 5,
    "start_time": "2022-04-17T07:52:11.660Z"
   },
   {
    "duration": 31,
    "start_time": "2022-04-17T07:52:11.667Z"
   },
   {
    "duration": 113,
    "start_time": "2022-04-17T07:52:11.700Z"
   },
   {
    "duration": 717,
    "start_time": "2022-04-17T07:52:11.815Z"
   },
   {
    "duration": 31,
    "start_time": "2022-04-17T07:52:12.535Z"
   },
   {
    "duration": 4,
    "start_time": "2022-04-17T07:52:12.568Z"
   },
   {
    "duration": 3,
    "start_time": "2022-04-17T07:52:12.594Z"
   },
   {
    "duration": 40,
    "start_time": "2022-04-17T07:52:12.600Z"
   },
   {
    "duration": 805,
    "start_time": "2022-04-17T07:52:12.643Z"
   },
   {
    "duration": 4,
    "start_time": "2022-04-17T07:52:13.450Z"
   },
   {
    "duration": 3,
    "start_time": "2022-04-17T07:52:13.462Z"
   },
   {
    "duration": 31,
    "start_time": "2022-04-17T07:52:13.468Z"
   },
   {
    "duration": 94,
    "start_time": "2022-04-17T07:52:13.502Z"
   },
   {
    "duration": 39,
    "start_time": "2022-04-17T07:52:13.598Z"
   },
   {
    "duration": 64,
    "start_time": "2022-04-17T07:52:13.639Z"
   },
   {
    "duration": 32,
    "start_time": "2022-04-17T07:52:13.705Z"
   },
   {
    "duration": 9,
    "start_time": "2022-04-17T07:52:13.739Z"
   },
   {
    "duration": 6,
    "start_time": "2022-04-17T07:52:13.750Z"
   },
   {
    "duration": 38,
    "start_time": "2022-04-17T07:52:13.758Z"
   },
   {
    "duration": 7,
    "start_time": "2022-04-17T07:52:13.799Z"
   },
   {
    "duration": 23,
    "start_time": "2022-04-17T07:52:13.808Z"
   },
   {
    "duration": 6,
    "start_time": "2022-04-17T07:52:13.833Z"
   },
   {
    "duration": 63,
    "start_time": "2022-04-17T07:52:13.842Z"
   },
   {
    "duration": 6,
    "start_time": "2022-04-17T07:52:13.907Z"
   },
   {
    "duration": 206,
    "start_time": "2022-04-17T07:52:13.916Z"
   },
   {
    "duration": 17,
    "start_time": "2022-04-17T07:52:14.124Z"
   },
   {
    "duration": 7,
    "start_time": "2022-04-17T07:52:14.144Z"
   },
   {
    "duration": 10,
    "start_time": "2022-04-17T07:52:14.153Z"
   },
   {
    "duration": 31,
    "start_time": "2022-04-17T07:52:14.166Z"
   },
   {
    "duration": 1164,
    "start_time": "2022-04-17T07:52:16.278Z"
   },
   {
    "duration": 1067,
    "start_time": "2022-04-17T07:52:37.461Z"
   },
   {
    "duration": 943,
    "start_time": "2022-04-17T07:53:18.082Z"
   },
   {
    "duration": 9,
    "start_time": "2022-04-17T07:54:02.375Z"
   },
   {
    "duration": 7,
    "start_time": "2022-04-17T07:54:03.027Z"
   },
   {
    "duration": 7,
    "start_time": "2022-04-17T07:54:07.036Z"
   },
   {
    "duration": 6,
    "start_time": "2022-04-17T07:54:10.788Z"
   },
   {
    "duration": 6,
    "start_time": "2022-04-17T07:54:14.983Z"
   },
   {
    "duration": 5,
    "start_time": "2022-04-17T07:55:45.038Z"
   },
   {
    "duration": 509,
    "start_time": "2022-04-17T07:55:45.046Z"
   },
   {
    "duration": 7,
    "start_time": "2022-04-17T07:55:45.558Z"
   },
   {
    "duration": 46,
    "start_time": "2022-04-17T07:55:45.567Z"
   },
   {
    "duration": 221,
    "start_time": "2022-04-17T07:55:45.616Z"
   },
   {
    "duration": 130,
    "start_time": "2022-04-17T07:55:45.839Z"
   },
   {
    "duration": 190,
    "start_time": "2022-04-17T07:55:45.972Z"
   },
   {
    "duration": 11,
    "start_time": "2022-04-17T07:55:46.165Z"
   },
   {
    "duration": 28,
    "start_time": "2022-04-17T07:55:46.194Z"
   },
   {
    "duration": 19,
    "start_time": "2022-04-17T07:55:46.224Z"
   },
   {
    "duration": 130,
    "start_time": "2022-04-17T07:55:46.247Z"
   },
   {
    "duration": 15,
    "start_time": "2022-04-17T07:55:46.380Z"
   },
   {
    "duration": 734,
    "start_time": "2022-04-17T07:55:46.398Z"
   },
   {
    "duration": 77,
    "start_time": "2022-04-17T07:55:47.134Z"
   },
   {
    "duration": 35,
    "start_time": "2022-04-17T07:55:47.213Z"
   },
   {
    "duration": 677,
    "start_time": "2022-04-17T07:55:47.250Z"
   },
   {
    "duration": 8,
    "start_time": "2022-04-17T07:55:47.929Z"
   },
   {
    "duration": 6,
    "start_time": "2022-04-17T07:55:47.939Z"
   },
   {
    "duration": 5,
    "start_time": "2022-04-17T07:55:47.948Z"
   },
   {
    "duration": 8,
    "start_time": "2022-04-17T07:55:47.955Z"
   },
   {
    "duration": 130,
    "start_time": "2022-04-17T07:55:47.965Z"
   },
   {
    "duration": 844,
    "start_time": "2022-04-17T07:55:48.098Z"
   },
   {
    "duration": 30,
    "start_time": "2022-04-17T07:55:48.944Z"
   },
   {
    "duration": 3,
    "start_time": "2022-04-17T07:55:48.992Z"
   },
   {
    "duration": 9,
    "start_time": "2022-04-17T07:55:48.997Z"
   },
   {
    "duration": 40,
    "start_time": "2022-04-17T07:55:49.009Z"
   },
   {
    "duration": 772,
    "start_time": "2022-04-17T07:55:49.052Z"
   },
   {
    "duration": 4,
    "start_time": "2022-04-17T07:55:49.826Z"
   },
   {
    "duration": 5,
    "start_time": "2022-04-17T07:55:49.835Z"
   },
   {
    "duration": 10,
    "start_time": "2022-04-17T07:55:49.842Z"
   },
   {
    "duration": 68,
    "start_time": "2022-04-17T07:55:49.854Z"
   },
   {
    "duration": 35,
    "start_time": "2022-04-17T07:55:49.924Z"
   },
   {
    "duration": 51,
    "start_time": "2022-04-17T07:55:49.961Z"
   },
   {
    "duration": 11,
    "start_time": "2022-04-17T07:55:53.585Z"
   },
   {
    "duration": 7,
    "start_time": "2022-04-17T07:55:54.353Z"
   },
   {
    "duration": 13,
    "start_time": "2022-04-17T07:55:55.188Z"
   },
   {
    "duration": 7,
    "start_time": "2022-04-17T07:55:55.654Z"
   },
   {
    "duration": 6,
    "start_time": "2022-04-17T07:57:11.567Z"
   },
   {
    "duration": 5,
    "start_time": "2022-04-17T07:58:32.468Z"
   },
   {
    "duration": 515,
    "start_time": "2022-04-17T07:58:32.475Z"
   },
   {
    "duration": 7,
    "start_time": "2022-04-17T07:58:32.992Z"
   },
   {
    "duration": 47,
    "start_time": "2022-04-17T07:58:33.001Z"
   },
   {
    "duration": 244,
    "start_time": "2022-04-17T07:58:33.051Z"
   },
   {
    "duration": 124,
    "start_time": "2022-04-17T07:58:33.298Z"
   },
   {
    "duration": 184,
    "start_time": "2022-04-17T07:58:33.424Z"
   },
   {
    "duration": 12,
    "start_time": "2022-04-17T07:58:33.610Z"
   },
   {
    "duration": 30,
    "start_time": "2022-04-17T07:58:33.624Z"
   },
   {
    "duration": 49,
    "start_time": "2022-04-17T07:58:33.656Z"
   },
   {
    "duration": 119,
    "start_time": "2022-04-17T07:58:33.707Z"
   },
   {
    "duration": 8,
    "start_time": "2022-04-17T07:58:33.828Z"
   },
   {
    "duration": 693,
    "start_time": "2022-04-17T07:58:33.838Z"
   },
   {
    "duration": 17,
    "start_time": "2022-04-17T07:59:18.520Z"
   },
   {
    "duration": 14,
    "start_time": "2022-04-17T07:59:23.803Z"
   },
   {
    "duration": 14,
    "start_time": "2022-04-17T07:59:47.089Z"
   },
   {
    "duration": 5,
    "start_time": "2022-04-17T07:59:50.379Z"
   },
   {
    "duration": 544,
    "start_time": "2022-04-17T07:59:50.386Z"
   },
   {
    "duration": 8,
    "start_time": "2022-04-17T07:59:50.933Z"
   },
   {
    "duration": 56,
    "start_time": "2022-04-17T07:59:50.943Z"
   },
   {
    "duration": 229,
    "start_time": "2022-04-17T07:59:51.002Z"
   },
   {
    "duration": 124,
    "start_time": "2022-04-17T07:59:51.234Z"
   },
   {
    "duration": 182,
    "start_time": "2022-04-17T07:59:51.360Z"
   },
   {
    "duration": 12,
    "start_time": "2022-04-17T07:59:51.544Z"
   },
   {
    "duration": 51,
    "start_time": "2022-04-17T07:59:51.558Z"
   },
   {
    "duration": 19,
    "start_time": "2022-04-17T07:59:51.611Z"
   },
   {
    "duration": 129,
    "start_time": "2022-04-17T07:59:51.634Z"
   },
   {
    "duration": 8,
    "start_time": "2022-04-17T07:59:51.765Z"
   },
   {
    "duration": 708,
    "start_time": "2022-04-17T07:59:51.775Z"
   },
   {
    "duration": 18,
    "start_time": "2022-04-17T07:59:52.486Z"
   },
   {
    "duration": 87,
    "start_time": "2022-04-17T07:59:52.507Z"
   },
   {
    "duration": 35,
    "start_time": "2022-04-17T07:59:52.597Z"
   },
   {
    "duration": 653,
    "start_time": "2022-04-17T07:59:52.635Z"
   },
   {
    "duration": 8,
    "start_time": "2022-04-17T07:59:53.293Z"
   },
   {
    "duration": 12,
    "start_time": "2022-04-17T07:59:53.303Z"
   },
   {
    "duration": 13,
    "start_time": "2022-04-17T07:59:53.317Z"
   },
   {
    "duration": 9,
    "start_time": "2022-04-17T07:59:53.332Z"
   },
   {
    "duration": 15,
    "start_time": "2022-04-17T07:59:55.026Z"
   },
   {
    "duration": 6,
    "start_time": "2022-04-17T08:00:10.918Z"
   },
   {
    "duration": 526,
    "start_time": "2022-04-17T08:00:10.927Z"
   },
   {
    "duration": 7,
    "start_time": "2022-04-17T08:00:11.456Z"
   },
   {
    "duration": 47,
    "start_time": "2022-04-17T08:00:11.466Z"
   },
   {
    "duration": 229,
    "start_time": "2022-04-17T08:00:11.516Z"
   },
   {
    "duration": 127,
    "start_time": "2022-04-17T08:00:11.747Z"
   },
   {
    "duration": 182,
    "start_time": "2022-04-17T08:00:11.876Z"
   },
   {
    "duration": 11,
    "start_time": "2022-04-17T08:00:12.060Z"
   },
   {
    "duration": 43,
    "start_time": "2022-04-17T08:00:12.073Z"
   },
   {
    "duration": 19,
    "start_time": "2022-04-17T08:00:12.118Z"
   },
   {
    "duration": 130,
    "start_time": "2022-04-17T08:00:12.141Z"
   },
   {
    "duration": 8,
    "start_time": "2022-04-17T08:00:12.273Z"
   },
   {
    "duration": 739,
    "start_time": "2022-04-17T08:00:12.292Z"
   },
   {
    "duration": 14,
    "start_time": "2022-04-17T08:00:13.033Z"
   },
   {
    "duration": 92,
    "start_time": "2022-04-17T08:00:13.049Z"
   },
   {
    "duration": 53,
    "start_time": "2022-04-17T08:00:13.144Z"
   },
   {
    "duration": 766,
    "start_time": "2022-04-17T08:00:13.199Z"
   },
   {
    "duration": 7,
    "start_time": "2022-04-17T08:00:13.967Z"
   },
   {
    "duration": 18,
    "start_time": "2022-04-17T08:00:13.976Z"
   },
   {
    "duration": 6,
    "start_time": "2022-04-17T08:00:13.996Z"
   },
   {
    "duration": 5,
    "start_time": "2022-04-17T08:00:14.005Z"
   },
   {
    "duration": 16,
    "start_time": "2022-04-17T08:00:14.012Z"
   },
   {
    "duration": 131,
    "start_time": "2022-04-17T08:00:14.030Z"
   },
   {
    "duration": 688,
    "start_time": "2022-04-17T08:00:14.163Z"
   },
   {
    "duration": 41,
    "start_time": "2022-04-17T08:00:14.853Z"
   },
   {
    "duration": 3,
    "start_time": "2022-04-17T08:00:14.896Z"
   },
   {
    "duration": 10,
    "start_time": "2022-04-17T08:00:14.901Z"
   },
   {
    "duration": 34,
    "start_time": "2022-04-17T08:00:14.913Z"
   },
   {
    "duration": 810,
    "start_time": "2022-04-17T08:00:14.951Z"
   },
   {
    "duration": 3,
    "start_time": "2022-04-17T08:00:15.763Z"
   },
   {
    "duration": 6,
    "start_time": "2022-04-17T08:00:15.769Z"
   },
   {
    "duration": 17,
    "start_time": "2022-04-17T08:00:15.777Z"
   },
   {
    "duration": 14,
    "start_time": "2022-04-17T08:00:17.212Z"
   },
   {
    "duration": 12,
    "start_time": "2022-04-17T08:00:42.349Z"
   },
   {
    "duration": 5,
    "start_time": "2022-04-17T08:00:45.397Z"
   },
   {
    "duration": 522,
    "start_time": "2022-04-17T08:00:45.405Z"
   },
   {
    "duration": 8,
    "start_time": "2022-04-17T08:00:45.930Z"
   },
   {
    "duration": 57,
    "start_time": "2022-04-17T08:00:45.941Z"
   },
   {
    "duration": 249,
    "start_time": "2022-04-17T08:00:46.002Z"
   },
   {
    "duration": 124,
    "start_time": "2022-04-17T08:00:46.254Z"
   },
   {
    "duration": 188,
    "start_time": "2022-04-17T08:00:46.394Z"
   },
   {
    "duration": 17,
    "start_time": "2022-04-17T08:00:46.585Z"
   },
   {
    "duration": 28,
    "start_time": "2022-04-17T08:00:46.605Z"
   },
   {
    "duration": 20,
    "start_time": "2022-04-17T08:00:46.635Z"
   },
   {
    "duration": 116,
    "start_time": "2022-04-17T08:00:46.693Z"
   },
   {
    "duration": 8,
    "start_time": "2022-04-17T08:00:46.811Z"
   },
   {
    "duration": 701,
    "start_time": "2022-04-17T08:00:46.821Z"
   },
   {
    "duration": 14,
    "start_time": "2022-04-17T08:00:47.524Z"
   },
   {
    "duration": 89,
    "start_time": "2022-04-17T08:00:47.540Z"
   },
   {
    "duration": 35,
    "start_time": "2022-04-17T08:00:47.631Z"
   },
   {
    "duration": 630,
    "start_time": "2022-04-17T08:00:47.668Z"
   },
   {
    "duration": 7,
    "start_time": "2022-04-17T08:00:48.300Z"
   },
   {
    "duration": 7,
    "start_time": "2022-04-17T08:00:48.309Z"
   },
   {
    "duration": 16,
    "start_time": "2022-04-17T08:00:48.318Z"
   },
   {
    "duration": 13,
    "start_time": "2022-04-17T08:00:48.336Z"
   },
   {
    "duration": 19,
    "start_time": "2022-04-17T08:00:48.351Z"
   },
   {
    "duration": 125,
    "start_time": "2022-04-17T08:00:48.372Z"
   },
   {
    "duration": 819,
    "start_time": "2022-04-17T08:00:48.499Z"
   },
   {
    "duration": 30,
    "start_time": "2022-04-17T08:00:49.320Z"
   },
   {
    "duration": 3,
    "start_time": "2022-04-17T08:00:49.352Z"
   },
   {
    "duration": 35,
    "start_time": "2022-04-17T08:00:49.358Z"
   },
   {
    "duration": 33,
    "start_time": "2022-04-17T08:00:49.395Z"
   },
   {
    "duration": 763,
    "start_time": "2022-04-17T08:00:49.433Z"
   },
   {
    "duration": 4,
    "start_time": "2022-04-17T08:00:50.198Z"
   },
   {
    "duration": 12,
    "start_time": "2022-04-17T08:00:50.204Z"
   },
   {
    "duration": 8,
    "start_time": "2022-04-17T08:00:50.218Z"
   },
   {
    "duration": 19,
    "start_time": "2022-04-17T08:00:50.227Z"
   },
   {
    "duration": 73,
    "start_time": "2022-04-17T08:00:50.248Z"
   },
   {
    "duration": 35,
    "start_time": "2022-04-17T08:00:50.323Z"
   },
   {
    "duration": 51,
    "start_time": "2022-04-17T08:00:50.360Z"
   },
   {
    "duration": 32,
    "start_time": "2022-04-17T08:00:52.094Z"
   },
   {
    "duration": 13,
    "start_time": "2022-04-17T08:00:52.614Z"
   },
   {
    "duration": 11,
    "start_time": "2022-04-17T08:02:28.949Z"
   },
   {
    "duration": 6,
    "start_time": "2022-04-17T08:02:29.352Z"
   },
   {
    "duration": 9,
    "start_time": "2022-04-17T08:02:36.309Z"
   },
   {
    "duration": 7,
    "start_time": "2022-04-17T08:02:37.031Z"
   },
   {
    "duration": 12,
    "start_time": "2022-04-17T08:02:41.765Z"
   },
   {
    "duration": 5,
    "start_time": "2022-04-17T08:02:42.386Z"
   },
   {
    "duration": 28,
    "start_time": "2022-04-17T08:03:41.763Z"
   },
   {
    "duration": 8,
    "start_time": "2022-04-17T08:10:55.584Z"
   },
   {
    "duration": 1790,
    "start_time": "2022-04-17T08:12:03.066Z"
   },
   {
    "duration": 1750,
    "start_time": "2022-04-17T08:12:37.123Z"
   },
   {
    "duration": 2523,
    "start_time": "2022-04-17T08:12:38.876Z"
   },
   {
    "duration": 8,
    "start_time": "2022-04-17T08:12:41.401Z"
   },
   {
    "duration": 340,
    "start_time": "2022-04-17T08:12:41.411Z"
   },
   {
    "duration": 234,
    "start_time": "2022-04-17T08:12:41.753Z"
   },
   {
    "duration": 143,
    "start_time": "2022-04-17T08:12:41.993Z"
   },
   {
    "duration": 207,
    "start_time": "2022-04-17T08:12:42.139Z"
   },
   {
    "duration": 13,
    "start_time": "2022-04-17T08:12:42.349Z"
   },
   {
    "duration": 48,
    "start_time": "2022-04-17T08:12:42.364Z"
   },
   {
    "duration": 19,
    "start_time": "2022-04-17T08:12:42.416Z"
   },
   {
    "duration": 135,
    "start_time": "2022-04-17T08:12:42.437Z"
   },
   {
    "duration": 7,
    "start_time": "2022-04-17T08:12:42.574Z"
   },
   {
    "duration": 762,
    "start_time": "2022-04-17T08:12:42.583Z"
   },
   {
    "duration": 15,
    "start_time": "2022-04-17T08:12:43.347Z"
   },
   {
    "duration": 87,
    "start_time": "2022-04-17T08:12:43.364Z"
   },
   {
    "duration": 52,
    "start_time": "2022-04-17T08:12:43.453Z"
   },
   {
    "duration": 719,
    "start_time": "2022-04-17T08:12:43.507Z"
   },
   {
    "duration": 8,
    "start_time": "2022-04-17T08:12:44.228Z"
   },
   {
    "duration": 4,
    "start_time": "2022-04-17T08:12:44.238Z"
   },
   {
    "duration": 12,
    "start_time": "2022-04-17T08:12:44.244Z"
   },
   {
    "duration": 7,
    "start_time": "2022-04-17T08:12:44.259Z"
   },
   {
    "duration": 19,
    "start_time": "2022-04-17T08:12:44.294Z"
   },
   {
    "duration": 121,
    "start_time": "2022-04-17T08:12:44.315Z"
   },
   {
    "duration": 689,
    "start_time": "2022-04-17T08:12:44.438Z"
   },
   {
    "duration": 28,
    "start_time": "2022-04-17T08:12:45.129Z"
   },
   {
    "duration": 3,
    "start_time": "2022-04-17T08:12:45.159Z"
   },
   {
    "duration": 9,
    "start_time": "2022-04-17T08:12:45.164Z"
   },
   {
    "duration": 38,
    "start_time": "2022-04-17T08:12:45.196Z"
   },
   {
    "duration": 773,
    "start_time": "2022-04-17T08:12:45.237Z"
   },
   {
    "duration": 3,
    "start_time": "2022-04-17T08:12:46.013Z"
   },
   {
    "duration": 10,
    "start_time": "2022-04-17T08:12:46.018Z"
   },
   {
    "duration": 6,
    "start_time": "2022-04-17T08:12:46.030Z"
   },
   {
    "duration": 21,
    "start_time": "2022-04-17T08:12:46.038Z"
   },
   {
    "duration": 84,
    "start_time": "2022-04-17T08:12:46.061Z"
   },
   {
    "duration": 61,
    "start_time": "2022-04-17T08:12:46.147Z"
   },
   {
    "duration": 36,
    "start_time": "2022-04-17T08:12:46.211Z"
   },
   {
    "duration": 8,
    "start_time": "2022-04-17T08:12:46.250Z"
   },
   {
    "duration": 220,
    "start_time": "2022-04-17T08:24:18.691Z"
   },
   {
    "duration": 1514,
    "start_time": "2022-04-17T08:53:22.683Z"
   },
   {
    "duration": 511,
    "start_time": "2022-04-17T08:53:24.200Z"
   },
   {
    "duration": 7,
    "start_time": "2022-04-17T08:53:24.714Z"
   },
   {
    "duration": 51,
    "start_time": "2022-04-17T08:53:24.723Z"
   },
   {
    "duration": 232,
    "start_time": "2022-04-17T08:53:24.776Z"
   },
   {
    "duration": 133,
    "start_time": "2022-04-17T08:53:25.010Z"
   },
   {
    "duration": 183,
    "start_time": "2022-04-17T08:53:25.145Z"
   },
   {
    "duration": 12,
    "start_time": "2022-04-17T08:53:25.330Z"
   },
   {
    "duration": 49,
    "start_time": "2022-04-17T08:53:25.344Z"
   },
   {
    "duration": 19,
    "start_time": "2022-04-17T08:53:25.397Z"
   },
   {
    "duration": 127,
    "start_time": "2022-04-17T08:53:25.419Z"
   },
   {
    "duration": 7,
    "start_time": "2022-04-17T08:53:25.548Z"
   },
   {
    "duration": 680,
    "start_time": "2022-04-17T08:53:25.557Z"
   },
   {
    "duration": 15,
    "start_time": "2022-04-17T08:53:26.239Z"
   },
   {
    "duration": 89,
    "start_time": "2022-04-17T08:53:26.256Z"
   },
   {
    "duration": 53,
    "start_time": "2022-04-17T08:53:26.347Z"
   },
   {
    "duration": 700,
    "start_time": "2022-04-17T08:53:26.402Z"
   },
   {
    "duration": 8,
    "start_time": "2022-04-17T08:53:27.103Z"
   },
   {
    "duration": 6,
    "start_time": "2022-04-17T08:53:27.113Z"
   },
   {
    "duration": 9,
    "start_time": "2022-04-17T08:53:27.121Z"
   },
   {
    "duration": 7,
    "start_time": "2022-04-17T08:53:27.132Z"
   },
   {
    "duration": 16,
    "start_time": "2022-04-17T08:53:27.141Z"
   },
   {
    "duration": 141,
    "start_time": "2022-04-17T08:53:27.159Z"
   },
   {
    "duration": 738,
    "start_time": "2022-04-17T08:53:27.302Z"
   },
   {
    "duration": 30,
    "start_time": "2022-04-17T08:53:28.042Z"
   },
   {
    "duration": 20,
    "start_time": "2022-04-17T08:53:28.074Z"
   },
   {
    "duration": 13,
    "start_time": "2022-04-17T08:53:28.097Z"
   },
   {
    "duration": 38,
    "start_time": "2022-04-17T08:53:28.116Z"
   },
   {
    "duration": 789,
    "start_time": "2022-04-17T08:53:28.156Z"
   },
   {
    "duration": 3,
    "start_time": "2022-04-17T08:53:28.947Z"
   },
   {
    "duration": 10,
    "start_time": "2022-04-17T08:53:28.952Z"
   },
   {
    "duration": 7,
    "start_time": "2022-04-17T08:53:28.965Z"
   },
   {
    "duration": 28,
    "start_time": "2022-04-17T08:53:28.974Z"
   },
   {
    "duration": 53,
    "start_time": "2022-04-17T08:53:29.004Z"
   },
   {
    "duration": 62,
    "start_time": "2022-04-17T08:53:29.059Z"
   },
   {
    "duration": 35,
    "start_time": "2022-04-17T08:53:29.123Z"
   },
   {
    "duration": 34,
    "start_time": "2022-04-17T08:53:29.160Z"
   },
   {
    "duration": 123,
    "start_time": "2022-04-17T08:53:29.197Z"
   },
   {
    "duration": 9,
    "start_time": "2022-04-17T08:53:29.322Z"
   },
   {
    "duration": 18,
    "start_time": "2022-04-17T08:53:29.333Z"
   },
   {
    "duration": 18,
    "start_time": "2022-04-17T08:53:29.353Z"
   },
   {
    "duration": 24,
    "start_time": "2022-04-17T08:53:29.373Z"
   },
   {
    "duration": 29,
    "start_time": "2022-04-17T08:53:29.399Z"
   },
   {
    "duration": 5,
    "start_time": "2022-04-17T08:53:29.430Z"
   },
   {
    "duration": 25,
    "start_time": "2022-04-17T08:53:29.437Z"
   },
   {
    "duration": 6,
    "start_time": "2022-04-17T08:53:29.492Z"
   },
   {
    "duration": 206,
    "start_time": "2022-04-17T08:53:29.500Z"
   },
   {
    "duration": 17,
    "start_time": "2022-04-17T08:53:29.709Z"
   },
   {
    "duration": 17,
    "start_time": "2022-04-17T08:53:29.728Z"
   },
   {
    "duration": 11,
    "start_time": "2022-04-17T08:53:29.747Z"
   },
   {
    "duration": 12,
    "start_time": "2022-04-17T08:53:29.761Z"
   },
   {
    "duration": 985,
    "start_time": "2022-04-17T08:53:29.776Z"
   },
   {
    "duration": 861,
    "start_time": "2022-04-17T08:53:30.764Z"
   },
   {
    "duration": 901,
    "start_time": "2022-04-17T08:53:31.628Z"
   },
   {
    "duration": 9,
    "start_time": "2022-04-17T08:53:32.532Z"
   },
   {
    "duration": 17,
    "start_time": "2022-04-17T08:53:32.543Z"
   },
   {
    "duration": 7,
    "start_time": "2022-04-17T08:53:32.562Z"
   },
   {
    "duration": 25,
    "start_time": "2022-04-17T08:53:32.571Z"
   },
   {
    "duration": 6,
    "start_time": "2022-04-17T08:53:32.598Z"
   },
   {
    "duration": 21,
    "start_time": "2022-04-17T08:53:32.606Z"
   },
   {
    "duration": 3,
    "start_time": "2022-04-17T08:53:32.629Z"
   },
   {
    "duration": 11,
    "start_time": "2022-04-17T08:53:32.634Z"
   },
   {
    "duration": 48,
    "start_time": "2022-04-17T08:53:32.647Z"
   },
   {
    "duration": 7,
    "start_time": "2022-04-17T08:53:32.697Z"
   },
   {
    "duration": 10,
    "start_time": "2022-04-17T08:53:32.707Z"
   },
   {
    "duration": 4,
    "start_time": "2022-04-17T08:58:22.998Z"
   },
   {
    "duration": 73,
    "start_time": "2022-04-17T19:23:18.593Z"
   },
   {
    "duration": 1521,
    "start_time": "2022-04-17T19:23:24.363Z"
   },
   {
    "duration": 525,
    "start_time": "2022-04-17T19:23:25.887Z"
   },
   {
    "duration": 8,
    "start_time": "2022-04-17T19:23:26.414Z"
   },
   {
    "duration": 56,
    "start_time": "2022-04-17T19:23:26.426Z"
   },
   {
    "duration": 281,
    "start_time": "2022-04-17T19:23:26.485Z"
   },
   {
    "duration": 141,
    "start_time": "2022-04-17T19:23:26.768Z"
   },
   {
    "duration": 228,
    "start_time": "2022-04-17T19:23:26.912Z"
   },
   {
    "duration": 12,
    "start_time": "2022-04-17T19:23:27.143Z"
   },
   {
    "duration": 31,
    "start_time": "2022-04-17T19:23:27.158Z"
   },
   {
    "duration": 47,
    "start_time": "2022-04-17T19:23:27.193Z"
   },
   {
    "duration": 136,
    "start_time": "2022-04-17T19:23:27.242Z"
   },
   {
    "duration": 10,
    "start_time": "2022-04-17T19:23:27.380Z"
   },
   {
    "duration": 751,
    "start_time": "2022-04-17T19:23:27.393Z"
   },
   {
    "duration": 16,
    "start_time": "2022-04-17T19:23:28.146Z"
   },
   {
    "duration": 95,
    "start_time": "2022-04-17T19:23:28.164Z"
   },
   {
    "duration": 39,
    "start_time": "2022-04-17T19:23:28.261Z"
   },
   {
    "duration": 659,
    "start_time": "2022-04-17T19:23:28.303Z"
   },
   {
    "duration": 8,
    "start_time": "2022-04-17T19:23:28.964Z"
   },
   {
    "duration": 8,
    "start_time": "2022-04-17T19:23:28.974Z"
   },
   {
    "duration": 8,
    "start_time": "2022-04-17T19:23:28.984Z"
   },
   {
    "duration": 7,
    "start_time": "2022-04-17T19:23:28.994Z"
   },
   {
    "duration": 13,
    "start_time": "2022-04-17T19:23:29.025Z"
   },
   {
    "duration": 124,
    "start_time": "2022-04-17T19:23:29.040Z"
   },
   {
    "duration": 721,
    "start_time": "2022-04-17T19:23:29.166Z"
   },
   {
    "duration": 38,
    "start_time": "2022-04-17T19:23:29.889Z"
   },
   {
    "duration": 3,
    "start_time": "2022-04-17T19:23:29.929Z"
   },
   {
    "duration": 6,
    "start_time": "2022-04-17T19:23:29.934Z"
   },
   {
    "duration": 39,
    "start_time": "2022-04-17T19:23:29.946Z"
   },
   {
    "duration": 818,
    "start_time": "2022-04-17T19:23:29.987Z"
   },
   {
    "duration": 4,
    "start_time": "2022-04-17T19:23:30.808Z"
   },
   {
    "duration": 33,
    "start_time": "2022-04-17T19:23:30.825Z"
   },
   {
    "duration": 17,
    "start_time": "2022-04-17T19:23:30.861Z"
   },
   {
    "duration": 39,
    "start_time": "2022-04-17T19:23:30.880Z"
   },
   {
    "duration": 58,
    "start_time": "2022-04-17T19:23:30.922Z"
   },
   {
    "duration": 48,
    "start_time": "2022-04-17T19:23:30.982Z"
   },
   {
    "duration": 35,
    "start_time": "2022-04-17T19:23:31.032Z"
   },
   {
    "duration": 8,
    "start_time": "2022-04-17T19:23:31.070Z"
   },
   {
    "duration": 169,
    "start_time": "2022-04-17T19:23:31.080Z"
   },
   {
    "duration": 10,
    "start_time": "2022-04-17T19:23:31.252Z"
   },
   {
    "duration": 37,
    "start_time": "2022-04-17T19:23:31.265Z"
   },
   {
    "duration": 29,
    "start_time": "2022-04-17T19:23:31.304Z"
   },
   {
    "duration": 28,
    "start_time": "2022-04-17T19:23:31.336Z"
   },
   {
    "duration": 29,
    "start_time": "2022-04-17T19:23:31.366Z"
   },
   {
    "duration": 8,
    "start_time": "2022-04-17T19:23:31.397Z"
   },
   {
    "duration": 168,
    "start_time": "2022-04-17T19:23:31.408Z"
   },
   {
    "duration": 0,
    "start_time": "2022-04-17T19:23:31.579Z"
   },
   {
    "duration": 0,
    "start_time": "2022-04-17T19:23:31.582Z"
   },
   {
    "duration": 0,
    "start_time": "2022-04-17T19:23:31.585Z"
   },
   {
    "duration": 0,
    "start_time": "2022-04-17T19:23:31.587Z"
   },
   {
    "duration": 1,
    "start_time": "2022-04-17T19:23:31.589Z"
   },
   {
    "duration": 0,
    "start_time": "2022-04-17T19:23:31.592Z"
   },
   {
    "duration": 0,
    "start_time": "2022-04-17T19:23:31.594Z"
   },
   {
    "duration": 0,
    "start_time": "2022-04-17T19:23:31.623Z"
   },
   {
    "duration": 0,
    "start_time": "2022-04-17T19:23:31.626Z"
   },
   {
    "duration": 0,
    "start_time": "2022-04-17T19:23:31.628Z"
   },
   {
    "duration": 0,
    "start_time": "2022-04-17T19:23:31.630Z"
   },
   {
    "duration": 0,
    "start_time": "2022-04-17T19:23:31.633Z"
   },
   {
    "duration": 0,
    "start_time": "2022-04-17T19:23:31.635Z"
   },
   {
    "duration": 0,
    "start_time": "2022-04-17T19:23:31.637Z"
   },
   {
    "duration": 0,
    "start_time": "2022-04-17T19:23:31.639Z"
   },
   {
    "duration": 0,
    "start_time": "2022-04-17T19:23:31.641Z"
   },
   {
    "duration": 0,
    "start_time": "2022-04-17T19:23:31.643Z"
   },
   {
    "duration": 0,
    "start_time": "2022-04-17T19:23:31.645Z"
   },
   {
    "duration": 0,
    "start_time": "2022-04-17T19:23:31.647Z"
   },
   {
    "duration": 0,
    "start_time": "2022-04-17T19:23:31.650Z"
   },
   {
    "duration": 0,
    "start_time": "2022-04-17T19:23:31.652Z"
   },
   {
    "duration": 12,
    "start_time": "2022-04-17T19:33:08.855Z"
   },
   {
    "duration": 19,
    "start_time": "2022-04-17T19:34:04.108Z"
   },
   {
    "duration": 1898,
    "start_time": "2022-04-18T06:15:32.884Z"
   },
   {
    "duration": 528,
    "start_time": "2022-04-18T06:15:34.784Z"
   },
   {
    "duration": 7,
    "start_time": "2022-04-18T06:15:35.314Z"
   },
   {
    "duration": 63,
    "start_time": "2022-04-18T06:15:35.326Z"
   },
   {
    "duration": 287,
    "start_time": "2022-04-18T06:15:35.391Z"
   },
   {
    "duration": 162,
    "start_time": "2022-04-18T06:15:35.680Z"
   },
   {
    "duration": 230,
    "start_time": "2022-04-18T06:15:35.844Z"
   },
   {
    "duration": 13,
    "start_time": "2022-04-18T06:15:36.076Z"
   },
   {
    "duration": 59,
    "start_time": "2022-04-18T06:15:36.091Z"
   },
   {
    "duration": 22,
    "start_time": "2022-04-18T06:15:36.154Z"
   },
   {
    "duration": 158,
    "start_time": "2022-04-18T06:15:36.179Z"
   },
   {
    "duration": 7,
    "start_time": "2022-04-18T06:15:36.340Z"
   },
   {
    "duration": 833,
    "start_time": "2022-04-18T06:15:36.349Z"
   },
   {
    "duration": 14,
    "start_time": "2022-04-18T06:15:37.184Z"
   },
   {
    "duration": 93,
    "start_time": "2022-04-18T06:15:37.200Z"
   },
   {
    "duration": 68,
    "start_time": "2022-04-18T06:15:37.295Z"
   },
   {
    "duration": 740,
    "start_time": "2022-04-18T06:15:37.366Z"
   },
   {
    "duration": 24,
    "start_time": "2022-04-18T06:15:38.108Z"
   },
   {
    "duration": 15,
    "start_time": "2022-04-18T06:15:38.135Z"
   },
   {
    "duration": 6,
    "start_time": "2022-04-18T06:15:38.153Z"
   },
   {
    "duration": 11,
    "start_time": "2022-04-18T06:15:38.161Z"
   },
   {
    "duration": 17,
    "start_time": "2022-04-18T06:15:38.174Z"
   },
   {
    "duration": 154,
    "start_time": "2022-04-18T06:15:38.194Z"
   },
   {
    "duration": 759,
    "start_time": "2022-04-18T06:15:38.351Z"
   },
   {
    "duration": 45,
    "start_time": "2022-04-18T06:15:39.113Z"
   },
   {
    "duration": 3,
    "start_time": "2022-04-18T06:15:39.160Z"
   },
   {
    "duration": 6,
    "start_time": "2022-04-18T06:15:39.165Z"
   },
   {
    "duration": 73,
    "start_time": "2022-04-18T06:15:39.176Z"
   },
   {
    "duration": 832,
    "start_time": "2022-04-18T06:15:39.251Z"
   },
   {
    "duration": 4,
    "start_time": "2022-04-18T06:15:40.086Z"
   },
   {
    "duration": 22,
    "start_time": "2022-04-18T06:15:40.093Z"
   },
   {
    "duration": 42,
    "start_time": "2022-04-18T06:15:40.117Z"
   },
   {
    "duration": 20,
    "start_time": "2022-04-18T06:15:40.161Z"
   },
   {
    "duration": 64,
    "start_time": "2022-04-18T06:15:40.183Z"
   },
   {
    "duration": 38,
    "start_time": "2022-04-18T06:15:40.250Z"
   },
   {
    "duration": 58,
    "start_time": "2022-04-18T06:15:40.290Z"
   },
   {
    "duration": 10,
    "start_time": "2022-04-18T06:15:40.350Z"
   },
   {
    "duration": 182,
    "start_time": "2022-04-18T06:15:40.362Z"
   },
   {
    "duration": 10,
    "start_time": "2022-04-18T06:15:40.547Z"
   },
   {
    "duration": 21,
    "start_time": "2022-04-18T06:15:40.560Z"
   },
   {
    "duration": 29,
    "start_time": "2022-04-18T06:15:40.584Z"
   },
   {
    "duration": 20,
    "start_time": "2022-04-18T06:15:40.615Z"
   },
   {
    "duration": 31,
    "start_time": "2022-04-18T06:15:40.638Z"
   },
   {
    "duration": 6,
    "start_time": "2022-04-18T06:15:40.672Z"
   },
   {
    "duration": 32,
    "start_time": "2022-04-18T06:15:40.680Z"
   },
   {
    "duration": 166,
    "start_time": "2022-04-18T06:17:33.937Z"
   },
   {
    "duration": 18,
    "start_time": "2022-04-18T06:17:58.103Z"
   },
   {
    "duration": 31,
    "start_time": "2022-04-18T06:19:09.017Z"
   },
   {
    "duration": 20,
    "start_time": "2022-04-18T06:19:29.069Z"
   },
   {
    "duration": 20,
    "start_time": "2022-04-18T06:19:51.098Z"
   },
   {
    "duration": 5,
    "start_time": "2022-04-18T06:25:31.600Z"
   },
   {
    "duration": 579,
    "start_time": "2022-04-18T06:25:31.608Z"
   },
   {
    "duration": 7,
    "start_time": "2022-04-18T06:25:32.190Z"
   },
   {
    "duration": 80,
    "start_time": "2022-04-18T06:25:32.199Z"
   },
   {
    "duration": 235,
    "start_time": "2022-04-18T06:25:32.282Z"
   },
   {
    "duration": 152,
    "start_time": "2022-04-18T06:25:32.524Z"
   },
   {
    "duration": 224,
    "start_time": "2022-04-18T06:25:32.679Z"
   },
   {
    "duration": 24,
    "start_time": "2022-04-18T06:25:32.905Z"
   },
   {
    "duration": 37,
    "start_time": "2022-04-18T06:25:32.931Z"
   },
   {
    "duration": 19,
    "start_time": "2022-04-18T06:25:32.971Z"
   },
   {
    "duration": 151,
    "start_time": "2022-04-18T06:25:32.996Z"
   },
   {
    "duration": 9,
    "start_time": "2022-04-18T06:25:33.150Z"
   },
   {
    "duration": 890,
    "start_time": "2022-04-18T06:25:33.162Z"
   },
   {
    "duration": 14,
    "start_time": "2022-04-18T06:25:34.054Z"
   },
   {
    "duration": 103,
    "start_time": "2022-04-18T06:25:34.072Z"
   },
   {
    "duration": 49,
    "start_time": "2022-04-18T06:25:34.177Z"
   },
   {
    "duration": 771,
    "start_time": "2022-04-18T06:25:34.228Z"
   },
   {
    "duration": 8,
    "start_time": "2022-04-18T06:25:35.001Z"
   },
   {
    "duration": 15,
    "start_time": "2022-04-18T06:25:35.011Z"
   },
   {
    "duration": 24,
    "start_time": "2022-04-18T06:25:35.029Z"
   },
   {
    "duration": 25,
    "start_time": "2022-04-18T06:25:35.056Z"
   },
   {
    "duration": 23,
    "start_time": "2022-04-18T06:25:35.083Z"
   },
   {
    "duration": 111,
    "start_time": "2022-04-18T06:25:35.108Z"
   },
   {
    "duration": 802,
    "start_time": "2022-04-18T06:25:35.222Z"
   },
   {
    "duration": 35,
    "start_time": "2022-04-18T06:25:36.026Z"
   },
   {
    "duration": 6,
    "start_time": "2022-04-18T06:25:36.064Z"
   },
   {
    "duration": 71,
    "start_time": "2022-04-18T06:25:36.073Z"
   },
   {
    "duration": 64,
    "start_time": "2022-04-18T06:25:36.147Z"
   },
   {
    "duration": 809,
    "start_time": "2022-04-18T06:25:36.216Z"
   },
   {
    "duration": 4,
    "start_time": "2022-04-18T06:25:37.027Z"
   },
   {
    "duration": 20,
    "start_time": "2022-04-18T06:25:37.033Z"
   },
   {
    "duration": 15,
    "start_time": "2022-04-18T06:25:37.055Z"
   },
   {
    "duration": 32,
    "start_time": "2022-04-18T06:25:37.073Z"
   },
   {
    "duration": 53,
    "start_time": "2022-04-18T06:25:37.108Z"
   },
   {
    "duration": 42,
    "start_time": "2022-04-18T06:25:37.163Z"
   },
   {
    "duration": 38,
    "start_time": "2022-04-18T06:25:37.224Z"
   },
   {
    "duration": 12,
    "start_time": "2022-04-18T06:25:37.264Z"
   },
   {
    "duration": 61,
    "start_time": "2022-04-18T06:25:37.278Z"
   },
   {
    "duration": 11,
    "start_time": "2022-04-18T06:25:37.342Z"
   },
   {
    "duration": 19,
    "start_time": "2022-04-18T06:25:37.356Z"
   },
   {
    "duration": 13,
    "start_time": "2022-04-18T06:25:37.378Z"
   },
   {
    "duration": 33,
    "start_time": "2022-04-18T06:25:37.393Z"
   },
   {
    "duration": 40,
    "start_time": "2022-04-18T06:25:37.429Z"
   },
   {
    "duration": 44,
    "start_time": "2022-04-18T06:25:37.472Z"
   },
   {
    "duration": 22,
    "start_time": "2022-04-18T06:25:37.518Z"
   },
   {
    "duration": 24,
    "start_time": "2022-04-18T06:25:37.542Z"
   },
   {
    "duration": 27,
    "start_time": "2022-04-18T06:25:37.568Z"
   },
   {
    "duration": 42,
    "start_time": "2022-04-18T06:25:37.597Z"
   },
   {
    "duration": 29,
    "start_time": "2022-04-18T06:25:37.642Z"
   },
   {
    "duration": 6,
    "start_time": "2022-04-18T06:25:37.674Z"
   },
   {
    "duration": 232,
    "start_time": "2022-04-18T06:25:37.682Z"
   },
   {
    "duration": 24,
    "start_time": "2022-04-18T06:25:37.916Z"
   },
   {
    "duration": 31,
    "start_time": "2022-04-18T06:25:37.942Z"
   },
   {
    "duration": 20,
    "start_time": "2022-04-18T06:25:37.976Z"
   },
   {
    "duration": 20,
    "start_time": "2022-04-18T06:25:37.998Z"
   },
   {
    "duration": 1163,
    "start_time": "2022-04-18T06:25:38.020Z"
   },
   {
    "duration": 963,
    "start_time": "2022-04-18T06:25:39.186Z"
   },
   {
    "duration": 1089,
    "start_time": "2022-04-18T06:25:40.152Z"
   },
   {
    "duration": 10,
    "start_time": "2022-04-18T06:25:41.243Z"
   },
   {
    "duration": 17,
    "start_time": "2022-04-18T06:25:41.255Z"
   },
   {
    "duration": 10,
    "start_time": "2022-04-18T06:25:41.324Z"
   },
   {
    "duration": 15,
    "start_time": "2022-04-18T06:25:41.336Z"
   },
   {
    "duration": 11,
    "start_time": "2022-04-18T06:25:41.354Z"
   },
   {
    "duration": 78,
    "start_time": "2022-04-18T06:25:41.368Z"
   },
   {
    "duration": 4,
    "start_time": "2022-04-18T06:25:41.448Z"
   },
   {
    "duration": 10,
    "start_time": "2022-04-18T06:25:41.454Z"
   },
   {
    "duration": 61,
    "start_time": "2022-04-18T06:25:41.467Z"
   },
   {
    "duration": 9,
    "start_time": "2022-04-18T06:25:41.533Z"
   },
   {
    "duration": 14,
    "start_time": "2022-04-18T06:25:41.545Z"
   },
   {
    "duration": 1310,
    "start_time": "2022-05-29T16:34:30.685Z"
   },
   {
    "duration": 915,
    "start_time": "2022-05-29T16:34:31.997Z"
   },
   {
    "duration": 4,
    "start_time": "2022-05-29T16:34:32.914Z"
   },
   {
    "duration": 32,
    "start_time": "2022-05-29T16:34:32.921Z"
   },
   {
    "duration": 154,
    "start_time": "2022-05-29T16:34:32.955Z"
   },
   {
    "duration": 78,
    "start_time": "2022-05-29T16:34:33.111Z"
   },
   {
    "duration": 138,
    "start_time": "2022-05-29T16:34:33.191Z"
   },
   {
    "duration": 8,
    "start_time": "2022-05-29T16:34:33.331Z"
   },
   {
    "duration": 22,
    "start_time": "2022-05-29T16:34:33.341Z"
   },
   {
    "duration": 13,
    "start_time": "2022-05-29T16:34:33.366Z"
   },
   {
    "duration": 113,
    "start_time": "2022-05-29T16:34:33.381Z"
   },
   {
    "duration": 4,
    "start_time": "2022-05-29T16:34:33.496Z"
   },
   {
    "duration": 572,
    "start_time": "2022-05-29T16:34:33.502Z"
   },
   {
    "duration": 10,
    "start_time": "2022-05-29T16:34:34.075Z"
   },
   {
    "duration": 59,
    "start_time": "2022-05-29T16:34:34.087Z"
   },
   {
    "duration": 24,
    "start_time": "2022-05-29T16:34:34.148Z"
   },
   {
    "duration": 454,
    "start_time": "2022-05-29T16:34:34.173Z"
   },
   {
    "duration": 5,
    "start_time": "2022-05-29T16:34:34.629Z"
   },
   {
    "duration": 4,
    "start_time": "2022-05-29T16:34:34.635Z"
   },
   {
    "duration": 7,
    "start_time": "2022-05-29T16:34:34.641Z"
   },
   {
    "duration": 5,
    "start_time": "2022-05-29T16:34:34.649Z"
   },
   {
    "duration": 12,
    "start_time": "2022-05-29T16:34:34.655Z"
   },
   {
    "duration": 89,
    "start_time": "2022-05-29T16:34:34.669Z"
   },
   {
    "duration": 506,
    "start_time": "2022-05-29T16:34:34.759Z"
   },
   {
    "duration": 20,
    "start_time": "2022-05-29T16:34:35.266Z"
   },
   {
    "duration": 2,
    "start_time": "2022-05-29T16:34:35.288Z"
   },
   {
    "duration": 11,
    "start_time": "2022-05-29T16:34:35.291Z"
   },
   {
    "duration": 37,
    "start_time": "2022-05-29T16:34:35.305Z"
   },
   {
    "duration": 484,
    "start_time": "2022-05-29T16:34:35.343Z"
   },
   {
    "duration": 2,
    "start_time": "2022-05-29T16:34:35.829Z"
   },
   {
    "duration": 13,
    "start_time": "2022-05-29T16:34:35.832Z"
   },
   {
    "duration": 4,
    "start_time": "2022-05-29T16:34:35.847Z"
   },
   {
    "duration": 14,
    "start_time": "2022-05-29T16:34:35.852Z"
   },
   {
    "duration": 35,
    "start_time": "2022-05-29T16:34:35.868Z"
   },
   {
    "duration": 49,
    "start_time": "2022-05-29T16:34:35.905Z"
   },
   {
    "duration": 25,
    "start_time": "2022-05-29T16:34:35.956Z"
   },
   {
    "duration": 7,
    "start_time": "2022-05-29T16:34:35.983Z"
   },
   {
    "duration": 48,
    "start_time": "2022-05-29T16:34:35.994Z"
   },
   {
    "duration": 6,
    "start_time": "2022-05-29T16:34:36.044Z"
   },
   {
    "duration": 20,
    "start_time": "2022-05-29T16:34:36.052Z"
   },
   {
    "duration": 15,
    "start_time": "2022-05-29T16:34:36.073Z"
   },
   {
    "duration": 5,
    "start_time": "2022-05-29T16:34:36.090Z"
   },
   {
    "duration": 27,
    "start_time": "2022-05-29T16:34:36.097Z"
   },
   {
    "duration": 5,
    "start_time": "2022-05-29T16:34:36.126Z"
   },
   {
    "duration": 13,
    "start_time": "2022-05-29T16:34:36.133Z"
   },
   {
    "duration": 15,
    "start_time": "2022-05-29T16:34:36.148Z"
   },
   {
    "duration": 20,
    "start_time": "2022-05-29T16:34:36.164Z"
   },
   {
    "duration": 43,
    "start_time": "2022-05-29T16:34:36.186Z"
   },
   {
    "duration": 16,
    "start_time": "2022-05-29T16:34:36.231Z"
   },
   {
    "duration": 4,
    "start_time": "2022-05-29T16:34:36.249Z"
   },
   {
    "duration": 127,
    "start_time": "2022-05-29T16:34:36.255Z"
   },
   {
    "duration": 12,
    "start_time": "2022-05-29T16:34:36.383Z"
   },
   {
    "duration": 5,
    "start_time": "2022-05-29T16:34:36.397Z"
   },
   {
    "duration": 20,
    "start_time": "2022-05-29T16:34:36.403Z"
   },
   {
    "duration": 8,
    "start_time": "2022-05-29T16:34:36.424Z"
   },
   {
    "duration": 625,
    "start_time": "2022-05-29T16:34:36.434Z"
   },
   {
    "duration": 706,
    "start_time": "2022-05-29T16:34:37.060Z"
   },
   {
    "duration": 612,
    "start_time": "2022-05-29T16:34:37.768Z"
   },
   {
    "duration": 6,
    "start_time": "2022-05-29T16:34:38.382Z"
   },
   {
    "duration": 9,
    "start_time": "2022-05-29T16:34:38.389Z"
   },
   {
    "duration": 5,
    "start_time": "2022-05-29T16:34:38.399Z"
   },
   {
    "duration": 6,
    "start_time": "2022-05-29T16:34:38.422Z"
   },
   {
    "duration": 6,
    "start_time": "2022-05-29T16:34:38.430Z"
   },
   {
    "duration": 13,
    "start_time": "2022-05-29T16:34:38.437Z"
   },
   {
    "duration": 2,
    "start_time": "2022-05-29T16:34:38.451Z"
   },
   {
    "duration": 6,
    "start_time": "2022-05-29T16:34:38.455Z"
   },
   {
    "duration": 6,
    "start_time": "2022-05-29T16:34:38.462Z"
   },
   {
    "duration": 6,
    "start_time": "2022-05-29T16:34:38.469Z"
   },
   {
    "duration": 6,
    "start_time": "2022-05-29T16:34:38.477Z"
   }
  ],
  "kernelspec": {
   "display_name": "Python 3 (ipykernel)",
   "language": "python",
   "name": "python3"
  },
  "language_info": {
   "codemirror_mode": {
    "name": "ipython",
    "version": 3
   },
   "file_extension": ".py",
   "mimetype": "text/x-python",
   "name": "python",
   "nbconvert_exporter": "python",
   "pygments_lexer": "ipython3",
   "version": "3.9.13"
  },
  "toc": {
   "base_numbering": 1,
   "nav_menu": {},
   "number_sections": true,
   "sideBar": true,
   "skip_h1_title": true,
   "title_cell": "Table of Contents",
   "title_sidebar": "Contents",
   "toc_cell": false,
   "toc_position": {
    "height": "calc(100% - 180px)",
    "left": "10px",
    "top": "150px",
    "width": "260px"
   },
   "toc_section_display": true,
   "toc_window_display": true
  }
 },
 "nbformat": 4,
 "nbformat_minor": 5
}
