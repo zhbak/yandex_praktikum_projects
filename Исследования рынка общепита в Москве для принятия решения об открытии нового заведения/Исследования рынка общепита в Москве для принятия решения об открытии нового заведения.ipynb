{
 "cells": [
  {
   "cell_type": "markdown",
   "metadata": {
    "toc": true
   },
   "source": [
    "<h1>Table of Contents<span class=\"tocSkip\"></span></h1>\n",
    "<div class=\"toc\"><ul class=\"toc-item\"><li><span><a href=\"#Обзор-данных\" data-toc-modified-id=\"Обзор-данных-1\"><span class=\"toc-item-num\">1&nbsp;&nbsp;</span>Обзор данных</a></span><ul class=\"toc-item\"><li><span><a href=\"#Анлиз-неявных-дубликатов\" data-toc-modified-id=\"Анлиз-неявных-дубликатов-1.1\"><span class=\"toc-item-num\">1.1&nbsp;&nbsp;</span>Анлиз неявных дубликатов</a></span></li></ul></li><li><span><a href=\"#Анализ-данных\" data-toc-modified-id=\"Анализ-данных-2\"><span class=\"toc-item-num\">2&nbsp;&nbsp;</span>Анализ данных</a></span><ul class=\"toc-item\"><li><span><a href=\"#Cоотношение-видов-объектов-общественного-питания-по-количеству\" data-toc-modified-id=\"Cоотношение-видов-объектов-общественного-питания-по-количеству-2.1\"><span class=\"toc-item-num\">2.1&nbsp;&nbsp;</span>Cоотношение видов объектов общественного питания по количеству</a></span></li><li><span><a href=\"#Соотношение-сетевых-и-несетевых-заведений-по-количеству\" data-toc-modified-id=\"Соотношение-сетевых-и-несетевых-заведений-по-количеству-2.2\"><span class=\"toc-item-num\">2.2&nbsp;&nbsp;</span>Соотношение сетевых и несетевых заведений по количеству</a></span></li><li><span><a href=\"#Обзор-сетевых-заведений\" data-toc-modified-id=\"Обзор-сетевых-заведений-2.3\"><span class=\"toc-item-num\">2.3&nbsp;&nbsp;</span>Обзор сетевых заведений</a></span></li><li><span><a href=\"#Среднее-количество-посадочных-мест\" data-toc-modified-id=\"Среднее-количество-посадочных-мест-2.4\"><span class=\"toc-item-num\">2.4&nbsp;&nbsp;</span>Среднее количество посадочных мест</a></span></li><li><span><a href=\"#Выделение-улицы\" data-toc-modified-id=\"Выделение-улицы-2.5\"><span class=\"toc-item-num\">2.5&nbsp;&nbsp;</span>Выделение улицы</a></span></li><li><span><a href=\"#Постройте-график-топ-10-улиц-по-количеству-объектов-общественного-питания\" data-toc-modified-id=\"Постройте-график-топ-10-улиц-по-количеству-объектов-общественного-питания-2.6\"><span class=\"toc-item-num\">2.6&nbsp;&nbsp;</span>Постройте график топ-10 улиц по количеству объектов общественного питания</a></span><ul class=\"toc-item\"><li><span><a href=\"#Районы-в-которых-распологаются-улицы\" data-toc-modified-id=\"Районы-в-которых-распологаются-улицы-2.6.1\"><span class=\"toc-item-num\">2.6.1&nbsp;&nbsp;</span>Районы в которых распологаются улицы</a></span></li></ul></li><li><span><a href=\"#Найдите-число-улиц-с-одним-объектом-общественного-питания\" data-toc-modified-id=\"Найдите-число-улиц-с-одним-объектом-общественного-питания-2.7\"><span class=\"toc-item-num\">2.7&nbsp;&nbsp;</span>Найдите число улиц с одним объектом общественного питания</a></span></li></ul></li><li><span><a href=\"#Выводы-и-рекомендации\" data-toc-modified-id=\"Выводы-и-рекомендации-3\"><span class=\"toc-item-num\">3&nbsp;&nbsp;</span>Выводы и рекомендации</a></span><ul class=\"toc-item\"><li><span><a href=\"#Выводы\" data-toc-modified-id=\"Выводы-3.1\"><span class=\"toc-item-num\">3.1&nbsp;&nbsp;</span>Выводы</a></span></li><li><span><a href=\"#Главные-выводы-и-рекомендации\" data-toc-modified-id=\"Главные-выводы-и-рекомендации-3.2\"><span class=\"toc-item-num\">3.2&nbsp;&nbsp;</span>Главные выводы и рекомендации</a></span></li></ul></li></ul></div>"
   ]
  },
  {
   "cell_type": "markdown",
   "metadata": {},
   "source": [
    "# Исследования рынка общепита в Москве для принятия решения об открытии нового заведения"
   ]
  },
  {
   "cell_type": "markdown",
   "metadata": {},
   "source": [
    "**Цель** - предоставление рекомендаций для открытия кафе.\n",
    "\n",
    "**Задачи:**\n",
    "1. Обзор данных;\n",
    "2. Анализ данных;\n",
    "3. Выводы и рекомендации;\n",
    "4. Подготовка [презентации](https://github.com/zhbak/yandex_praktikum_projects/blob/main/Исследования%20рынка%20общепита%20в%20Москве%20для%20принятия%20решения%20об%20открытии%20нового%20заведения/Жбаков_К_Исследования%20рынка%20общепита%20в%20Москве%20для%20принятия%20решения%20об%20открытии%20нового%20заведения.pdf).\n",
    "\n",
    "**Описание данных**\n",
    "**rest_data:**\n",
    "\n",
    "- id — идентификатор объекта;\n",
    "\n",
    "- object_name — название объекта общественного питания;\n",
    "\n",
    "- chain — сетевой ресторан;\n",
    "\n",
    "- object_type — тип объекта общественного питания;\n",
    "\n",
    "- address — адрес;\n",
    "\n",
    "- number — количество посадочных мест."
   ]
  },
  {
   "cell_type": "markdown",
   "metadata": {},
   "source": [
    "## Обзор данных"
   ]
  },
  {
   "cell_type": "code",
   "execution_count": 1,
   "metadata": {},
   "outputs": [],
   "source": [
    "# Импорт библиотек\n",
    "import pandas as pd\n",
    "import numpy as np\n",
    "import datetime as dt\n",
    "from matplotlib import pyplot as plt\n",
    "import seaborn as sns\n",
    "import warnings\n",
    "warnings.simplefilter(action='ignore', category=FutureWarning)"
   ]
  },
  {
   "cell_type": "code",
   "execution_count": 2,
   "metadata": {},
   "outputs": [],
   "source": [
    "# Загрузка данных\n",
    "try:\n",
    "    rest_data = pd.read_csv('/datasets/rest_data.csv')\n",
    "\n",
    "except: \n",
    "    rest_data = pd.read_csv('rest_data.csv')"
   ]
  },
  {
   "cell_type": "code",
   "execution_count": 3,
   "metadata": {},
   "outputs": [],
   "source": [
    "# Функция обзора данных\n",
    "def first_look(df):\n",
    "    print('----------Первые 5 строк----------')\n",
    "    display(df.head())\n",
    "    print('\\n')\n",
    "    print('----------Тип данных----------')\n",
    "    display(df.info())\n",
    "    print('----------Пропуски в данных----------')\n",
    "    df_isna = df.isna().sum()\n",
    "    if df_isna.sum() > 0:\n",
    "        print(df_isna)\n",
    "    else: print('Пропусков нет')\n",
    "    print()\n",
    "    print('-----Количество явных дубликатов-----')\n",
    "    print(df.duplicated().sum())"
   ]
  },
  {
   "cell_type": "code",
   "execution_count": 4,
   "metadata": {},
   "outputs": [
    {
     "name": "stdout",
     "output_type": "stream",
     "text": [
      "----------Первые 5 строк----------\n"
     ]
    },
    {
     "data": {
      "text/html": [
       "<div>\n",
       "<style scoped>\n",
       "    .dataframe tbody tr th:only-of-type {\n",
       "        vertical-align: middle;\n",
       "    }\n",
       "\n",
       "    .dataframe tbody tr th {\n",
       "        vertical-align: top;\n",
       "    }\n",
       "\n",
       "    .dataframe thead th {\n",
       "        text-align: right;\n",
       "    }\n",
       "</style>\n",
       "<table border=\"1\" class=\"dataframe\">\n",
       "  <thead>\n",
       "    <tr style=\"text-align: right;\">\n",
       "      <th></th>\n",
       "      <th>id</th>\n",
       "      <th>object_name</th>\n",
       "      <th>chain</th>\n",
       "      <th>object_type</th>\n",
       "      <th>address</th>\n",
       "      <th>number</th>\n",
       "    </tr>\n",
       "  </thead>\n",
       "  <tbody>\n",
       "    <tr>\n",
       "      <th>0</th>\n",
       "      <td>151635</td>\n",
       "      <td>СМЕТАНА</td>\n",
       "      <td>нет</td>\n",
       "      <td>кафе</td>\n",
       "      <td>город Москва, улица Егора Абакумова, дом 9</td>\n",
       "      <td>48</td>\n",
       "    </tr>\n",
       "    <tr>\n",
       "      <th>1</th>\n",
       "      <td>77874</td>\n",
       "      <td>Родник</td>\n",
       "      <td>нет</td>\n",
       "      <td>кафе</td>\n",
       "      <td>город Москва, улица Талалихина, дом 2/1, корпус 1</td>\n",
       "      <td>35</td>\n",
       "    </tr>\n",
       "    <tr>\n",
       "      <th>2</th>\n",
       "      <td>24309</td>\n",
       "      <td>Кафе «Академия»</td>\n",
       "      <td>нет</td>\n",
       "      <td>кафе</td>\n",
       "      <td>город Москва, Абельмановская улица, дом 6</td>\n",
       "      <td>95</td>\n",
       "    </tr>\n",
       "    <tr>\n",
       "      <th>3</th>\n",
       "      <td>21894</td>\n",
       "      <td>ПИЦЦЕТОРИЯ</td>\n",
       "      <td>да</td>\n",
       "      <td>кафе</td>\n",
       "      <td>город Москва, Абрамцевская улица, дом 1</td>\n",
       "      <td>40</td>\n",
       "    </tr>\n",
       "    <tr>\n",
       "      <th>4</th>\n",
       "      <td>119365</td>\n",
       "      <td>Кафе «Вишневая метель»</td>\n",
       "      <td>нет</td>\n",
       "      <td>кафе</td>\n",
       "      <td>город Москва, Абрамцевская улица, дом 9, корпус 1</td>\n",
       "      <td>50</td>\n",
       "    </tr>\n",
       "  </tbody>\n",
       "</table>\n",
       "</div>"
      ],
      "text/plain": [
       "       id             object_name chain object_type  \\\n",
       "0  151635                 СМЕТАНА   нет        кафе   \n",
       "1   77874                  Родник   нет        кафе   \n",
       "2   24309         Кафе «Академия»   нет        кафе   \n",
       "3   21894              ПИЦЦЕТОРИЯ    да        кафе   \n",
       "4  119365  Кафе «Вишневая метель»   нет        кафе   \n",
       "\n",
       "                                             address  number  \n",
       "0         город Москва, улица Егора Абакумова, дом 9      48  \n",
       "1  город Москва, улица Талалихина, дом 2/1, корпус 1      35  \n",
       "2          город Москва, Абельмановская улица, дом 6      95  \n",
       "3            город Москва, Абрамцевская улица, дом 1      40  \n",
       "4  город Москва, Абрамцевская улица, дом 9, корпус 1      50  "
      ]
     },
     "metadata": {},
     "output_type": "display_data"
    },
    {
     "name": "stdout",
     "output_type": "stream",
     "text": [
      "\n",
      "\n",
      "----------Тип данных----------\n",
      "<class 'pandas.core.frame.DataFrame'>\n",
      "RangeIndex: 15366 entries, 0 to 15365\n",
      "Data columns (total 6 columns):\n",
      " #   Column       Non-Null Count  Dtype \n",
      "---  ------       --------------  ----- \n",
      " 0   id           15366 non-null  int64 \n",
      " 1   object_name  15366 non-null  object\n",
      " 2   chain        15366 non-null  object\n",
      " 3   object_type  15366 non-null  object\n",
      " 4   address      15366 non-null  object\n",
      " 5   number       15366 non-null  int64 \n",
      "dtypes: int64(2), object(4)\n",
      "memory usage: 720.4+ KB\n"
     ]
    },
    {
     "data": {
      "text/plain": [
       "None"
      ]
     },
     "metadata": {},
     "output_type": "display_data"
    },
    {
     "name": "stdout",
     "output_type": "stream",
     "text": [
      "----------Пропуски в данных----------\n",
      "Пропусков нет\n",
      "\n",
      "-----Количество явных дубликатов-----\n",
      "0\n"
     ]
    }
   ],
   "source": [
    "first_look(rest_data)"
   ]
  },
  {
   "cell_type": "markdown",
   "metadata": {},
   "source": [
    "### Анлиз неявных дубликатов"
   ]
  },
  {
   "cell_type": "markdown",
   "metadata": {},
   "source": [
    "Взглянем на количество уникальных значений в каждом столбце."
   ]
  },
  {
   "cell_type": "code",
   "execution_count": 5,
   "metadata": {},
   "outputs": [
    {
     "data": {
      "text/plain": [
       "id             15366\n",
       "object_name    10393\n",
       "chain              2\n",
       "object_type        9\n",
       "address         9108\n",
       "number           315\n",
       "dtype: int64"
      ]
     },
     "execution_count": 5,
     "metadata": {},
     "output_type": "execute_result"
    }
   ],
   "source": [
    "unique_count = rest_data.nunique()\n",
    "unique_count"
   ]
  },
  {
   "cell_type": "markdown",
   "metadata": {},
   "source": [
    "Можно с уверенностью сказать, что только в столбце `id` нет дубликатов, т.к. количество уникальных значений столбца `id` равно количеству строк в датасете. \n",
    "\n",
    "Посмотрим на количество дубликатов без столбца id."
   ]
  },
  {
   "cell_type": "code",
   "execution_count": 6,
   "metadata": {},
   "outputs": [
    {
     "data": {
      "text/plain": [
       "82"
      ]
     },
     "execution_count": 6,
     "metadata": {},
     "output_type": "execute_result"
    }
   ],
   "source": [
    "rest_data[['object_name', 'chain', 'object_type', 'address', 'number']].duplicated().sum()"
   ]
  },
  {
   "cell_type": "markdown",
   "metadata": {},
   "source": [
    "Теперь количество дубликатов возросло до 82-x. Придётся их удалить."
   ]
  },
  {
   "cell_type": "code",
   "execution_count": 7,
   "metadata": {},
   "outputs": [],
   "source": [
    "rest_data = rest_data.drop_duplicates(subset=['object_name', 'chain', 'object_type', 'address', 'number'])"
   ]
  },
  {
   "cell_type": "markdown",
   "metadata": {},
   "source": [
    "Возвращаясь к таблице уникальных значений можно сказать, что встолбце object_name количество уникальных значений меньше общего количества строк. Это может быть связано с различием в регистрах, а также тем, что в датасете есть сетевые заведения - у них названия одинковые. Различие в регистрах на мой взгляд допустимы. Написать название капс локом могут вполне осознанно. Однако, обнаружилось, что в наименованиях встречаются нарицательные существительные (кафе, ресторан и т.п.) и как правило названия заведения при этом указываются в кавычках. Выделим название в кавычках и уберем нарицательные существительные."
   ]
  },
  {
   "cell_type": "code",
   "execution_count": 8,
   "metadata": {},
   "outputs": [],
   "source": [
    "# функция для выделения именных названий \n",
    "def name_extraction(string):\n",
    "    if string.find('»') > 0:\n",
    "        return string[string.find('«') + 1: string.find('»')]\n",
    "    else: return string"
   ]
  },
  {
   "cell_type": "code",
   "execution_count": 9,
   "metadata": {},
   "outputs": [],
   "source": [
    "# применение функции\n",
    "rest_data['object_name'] = rest_data['object_name'].apply(name_extraction)"
   ]
  },
  {
   "cell_type": "markdown",
   "metadata": {},
   "source": [
    "После применения функции стоит проверить еще наличие дубликатов."
   ]
  },
  {
   "cell_type": "code",
   "execution_count": 10,
   "metadata": {},
   "outputs": [
    {
     "data": {
      "text/plain": [
       "1"
      ]
     },
     "execution_count": 10,
     "metadata": {},
     "output_type": "execute_result"
    }
   ],
   "source": [
    "rest_data[['object_name', 'chain', 'object_type', 'address', 'number']].duplicated().sum()"
   ]
  },
  {
   "cell_type": "markdown",
   "metadata": {},
   "source": [
    "Нашёлся один дубликат. Удалим его."
   ]
  },
  {
   "cell_type": "code",
   "execution_count": 11,
   "metadata": {},
   "outputs": [],
   "source": [
    "rest_data = rest_data.drop_duplicates(subset=['object_name', 'chain', 'object_type', 'address', 'number'])"
   ]
  },
  {
   "cell_type": "markdown",
   "metadata": {},
   "source": [
    "В столбце chain два уникальных значения - да и нет. С помощью него можно посмотреть в сети заведение или нет. В object type - 9 уникальных наименования:"
   ]
  },
  {
   "cell_type": "code",
   "execution_count": 12,
   "metadata": {},
   "outputs": [
    {
     "data": {
      "text/plain": [
       "array(['кафе', 'столовая', 'закусочная',\n",
       "       'предприятие быстрого обслуживания', 'ресторан', 'кафетерий',\n",
       "       'буфет', 'бар', 'магазин (отдел кулинарии)'], dtype=object)"
      ]
     },
     "execution_count": 12,
     "metadata": {},
     "output_type": "execute_result"
    }
   ],
   "source": [
    "rest_data['object_type'].unique()"
   ]
  },
  {
   "cell_type": "markdown",
   "metadata": {},
   "source": [
    "В столбце с адресами также есть дубликаты. Это вполне логично, ведь заведения общепита могут распологаться по одному и тому же адресу. К примеру, фудкорты в ТЦ расположены в пределах одного строения. \n",
    "\n",
    "В столбце number количество уникальных значений невелико. Диапазон количества посадочных мест ограничен."
   ]
  },
  {
   "cell_type": "markdown",
   "metadata": {},
   "source": [
    "## Анализ данных"
   ]
  },
  {
   "cell_type": "markdown",
   "metadata": {},
   "source": [
    "### Cоотношение видов объектов общественного питания по количеству"
   ]
  },
  {
   "cell_type": "code",
   "execution_count": 13,
   "metadata": {},
   "outputs": [
    {
     "data": {
      "text/plain": [
       "object_type\n",
       "кафе                                 6070\n",
       "столовая                             2584\n",
       "ресторан                             2282\n",
       "предприятие быстрого обслуживания    1898\n",
       "бар                                   855\n",
       "буфет                                 577\n",
       "кафетерий                             395\n",
       "закусочная                            349\n",
       "магазин (отдел кулинарии)             273\n",
       "Name: object_type, dtype: int64"
      ]
     },
     "execution_count": 13,
     "metadata": {},
     "output_type": "execute_result"
    }
   ],
   "source": [
    "# таблица с количеством видов объектов\n",
    "type_count = rest_data.groupby(by='object_type')['object_type'].count().sort_values(ascending=False)\n",
    "type_count"
   ]
  },
  {
   "cell_type": "code",
   "execution_count": 14,
   "metadata": {},
   "outputs": [],
   "source": [
    "# присоеденим данные о количестве заведений в типе объектов к основному датасету\n",
    "rest_data = rest_data.merge(type_count.rename('type_count'), on='object_type')"
   ]
  },
  {
   "cell_type": "code",
   "execution_count": 15,
   "metadata": {},
   "outputs": [
    {
     "data": {
      "image/png": "[encoded data removed]",
      "text/plain": [
       "<Figure size 720x504 with 1 Axes>"
      ]
     },
     "metadata": {
      "needs_background": "light"
     },
     "output_type": "display_data"
    }
   ],
   "source": [
    "# построение графика соотношения видов объектов по количеству\n",
    "plt.figure(figsize=(10, 7))\n",
    "sns.set_style(\"darkgrid\")\n",
    "g = sns.histplot(data=rest_data.sort_values(by='type_count', ascending=False), \n",
    "                 y=\"object_type\", multiple=\"dodge\", color='#BD4291')\n",
    "g.set_title('Cоотношение видов объектов общественного питания по количеству')\n",
    "g.set_xlabel('Количество')\n",
    "g.set_ylabel('');"
   ]
  },
  {
   "cell_type": "markdown",
   "metadata": {},
   "source": [
    "Рассмотрим соотношение сетевых и несетевых заведений по количеству."
   ]
  },
  {
   "cell_type": "code",
   "execution_count": 16,
   "metadata": {},
   "outputs": [
    {
     "data": {
      "text/plain": [
       "нет    0.81\n",
       "да     0.19\n",
       "Name: chain, dtype: float64"
      ]
     },
     "execution_count": 16,
     "metadata": {},
     "output_type": "execute_result"
    }
   ],
   "source": [
    "round(rest_data['chain'].value_counts(normalize=True), 2)"
   ]
  },
  {
   "cell_type": "code",
   "execution_count": 17,
   "metadata": {},
   "outputs": [
    {
     "data": {
      "image/png": "[encoded data removed]",
      "text/plain": [
       "<Figure size 936x216 with 1 Axes>"
      ]
     },
     "metadata": {},
     "output_type": "display_data"
    }
   ],
   "source": [
    "plt.figure(figsize=(13, 3))\n",
    "g = sns.histplot(data=rest_data, y=\"chain\", multiple=\"dodge\", color='#BD4291')\n",
    "g.set_title('Cоотношение сетевых и несетевых заведений по количеству')\n",
    "g.set_xlabel('Количество')\n",
    "g.set_ylabel('');"
   ]
  },
  {
   "cell_type": "markdown",
   "metadata": {},
   "source": [
    "- Наибольшее количество заведений это кафе - чуть более 6000;\n",
    "- Далее идут столовые, предприятия быстрого питания и рестораны;\n",
    "- Остальные типы заведений занимают меньшие доли;\n",
    "- Несетевых заведений гораздо больше - 81% от всех заведений."
   ]
  },
  {
   "cell_type": "markdown",
   "metadata": {},
   "source": [
    "### Соотношение сетевых и несетевых заведений по количеству "
   ]
  },
  {
   "cell_type": "markdown",
   "metadata": {},
   "source": [
    "Можно посмотреть на распределение сетевых и несетвых заведенией по типу."
   ]
  },
  {
   "cell_type": "code",
   "execution_count": 18,
   "metadata": {},
   "outputs": [
    {
     "data": {
      "text/html": [
       "<style type=\"text/css\">\n",
       "</style>\n",
       "<table id=\"T_22b82\">\n",
       "  <thead>\n",
       "    <tr>\n",
       "      <th class=\"blank level0\" >&nbsp;</th>\n",
       "      <th id=\"T_22b82_level0_col0\" class=\"col_heading level0 col0\" >Количество сетевых заведений</th>\n",
       "      <th id=\"T_22b82_level0_col1\" class=\"col_heading level0 col1\" >Количество несетевых заведений</th>\n",
       "      <th id=\"T_22b82_level0_col2\" class=\"col_heading level0 col2\" >Доля сетевых заведений, %</th>\n",
       "    </tr>\n",
       "    <tr>\n",
       "      <th class=\"index_name level0\" >object_type</th>\n",
       "      <th class=\"blank col0\" >&nbsp;</th>\n",
       "      <th class=\"blank col1\" >&nbsp;</th>\n",
       "      <th class=\"blank col2\" >&nbsp;</th>\n",
       "    </tr>\n",
       "  </thead>\n",
       "  <tbody>\n",
       "    <tr>\n",
       "      <th id=\"T_22b82_level0_row0\" class=\"row_heading level0 row0\" >столовая</th>\n",
       "      <td id=\"T_22b82_row0_col0\" class=\"data row0 col0\" >3</td>\n",
       "      <td id=\"T_22b82_row0_col1\" class=\"data row0 col1\" >2581</td>\n",
       "      <td id=\"T_22b82_row0_col2\" class=\"data row0 col2\" >0.12%</td>\n",
       "    </tr>\n",
       "    <tr>\n",
       "      <th id=\"T_22b82_level0_row1\" class=\"row_heading level0 row1\" >буфет</th>\n",
       "      <td id=\"T_22b82_row1_col0\" class=\"data row1 col0\" >11</td>\n",
       "      <td id=\"T_22b82_row1_col1\" class=\"data row1 col1\" >566</td>\n",
       "      <td id=\"T_22b82_row1_col2\" class=\"data row1 col2\" >1.91%</td>\n",
       "    </tr>\n",
       "    <tr>\n",
       "      <th id=\"T_22b82_level0_row2\" class=\"row_heading level0 row2\" >бар</th>\n",
       "      <td id=\"T_22b82_row2_col0\" class=\"data row2 col0\" >37</td>\n",
       "      <td id=\"T_22b82_row2_col1\" class=\"data row2 col1\" >818</td>\n",
       "      <td id=\"T_22b82_row2_col2\" class=\"data row2 col2\" >4.33%</td>\n",
       "    </tr>\n",
       "    <tr>\n",
       "      <th id=\"T_22b82_level0_row3\" class=\"row_heading level0 row3\" >кафетерий</th>\n",
       "      <td id=\"T_22b82_row3_col0\" class=\"data row3 col0\" >52</td>\n",
       "      <td id=\"T_22b82_row3_col1\" class=\"data row3 col1\" >343</td>\n",
       "      <td id=\"T_22b82_row3_col2\" class=\"data row3 col2\" >13.16%</td>\n",
       "    </tr>\n",
       "    <tr>\n",
       "      <th id=\"T_22b82_level0_row4\" class=\"row_heading level0 row4\" >закусочная</th>\n",
       "      <td id=\"T_22b82_row4_col0\" class=\"data row4 col0\" >56</td>\n",
       "      <td id=\"T_22b82_row4_col1\" class=\"data row4 col1\" >293</td>\n",
       "      <td id=\"T_22b82_row4_col2\" class=\"data row4 col2\" >16.05%</td>\n",
       "    </tr>\n",
       "    <tr>\n",
       "      <th id=\"T_22b82_level0_row5\" class=\"row_heading level0 row5\" >кафе</th>\n",
       "      <td id=\"T_22b82_row5_col0\" class=\"data row5 col0\" >1396</td>\n",
       "      <td id=\"T_22b82_row5_col1\" class=\"data row5 col1\" >4674</td>\n",
       "      <td id=\"T_22b82_row5_col2\" class=\"data row5 col2\" >23.00%</td>\n",
       "    </tr>\n",
       "    <tr>\n",
       "      <th id=\"T_22b82_level0_row6\" class=\"row_heading level0 row6\" >ресторан</th>\n",
       "      <td id=\"T_22b82_row6_col0\" class=\"data row6 col0\" >543</td>\n",
       "      <td id=\"T_22b82_row6_col1\" class=\"data row6 col1\" >1739</td>\n",
       "      <td id=\"T_22b82_row6_col2\" class=\"data row6 col2\" >23.79%</td>\n",
       "    </tr>\n",
       "    <tr>\n",
       "      <th id=\"T_22b82_level0_row7\" class=\"row_heading level0 row7\" >магазин (отдел кулинарии)</th>\n",
       "      <td id=\"T_22b82_row7_col0\" class=\"data row7 col0\" >78</td>\n",
       "      <td id=\"T_22b82_row7_col1\" class=\"data row7 col1\" >195</td>\n",
       "      <td id=\"T_22b82_row7_col2\" class=\"data row7 col2\" >28.57%</td>\n",
       "    </tr>\n",
       "    <tr>\n",
       "      <th id=\"T_22b82_level0_row8\" class=\"row_heading level0 row8\" >предприятие быстрого обслуживания</th>\n",
       "      <td id=\"T_22b82_row8_col0\" class=\"data row8 col0\" >788</td>\n",
       "      <td id=\"T_22b82_row8_col1\" class=\"data row8 col1\" >1110</td>\n",
       "      <td id=\"T_22b82_row8_col2\" class=\"data row8 col2\" >41.52%</td>\n",
       "    </tr>\n",
       "  </tbody>\n",
       "</table>\n"
      ],
      "text/plain": [
       "<pandas.io.formats.style.Styler at 0x1b3d4a50cd0>"
      ]
     },
     "execution_count": 18,
     "metadata": {},
     "output_type": "execute_result"
    }
   ],
   "source": [
    "# таблица с количеством и отношением сетевых и несетевых заведений\n",
    "object_type_grouped_net = rest_data[rest_data['chain'] == 'да'].groupby(by=['object_type'])['id'].count()\n",
    "object_type_grouped_not_net = rest_data[rest_data['chain'] == 'нет'].groupby(by=['object_type'])['id'].count()\n",
    "object_type_grouped = pd.merge(object_type_grouped_net, object_type_grouped_not_net, on='object_type')\n",
    "object_type_grouped.columns = ['Количество сетевых заведений', 'Количество несетевых заведений']\n",
    "object_type_grouped['Доля сетевых заведений, %'] = (object_type_grouped['Количество сетевых заведений']\n",
    "                                                    / (object_type_grouped['Количество несетевых заведений']\n",
    "                                                    + object_type_grouped['Количество сетевых заведений']))\n",
    "object_type_grouped.sort_values(by='Доля сетевых заведений, %').style.format({'Доля сетевых заведений, %':'{:.2%}'})"
   ]
  },
  {
   "cell_type": "code",
   "execution_count": 19,
   "metadata": {},
   "outputs": [
    {
     "data": {
      "image/png": "[encoded data removed]",
      "text/plain": [
       "<Figure size 504x504 with 1 Axes>"
      ]
     },
     "metadata": {},
     "output_type": "display_data"
    }
   ],
   "source": [
    "# построение графика\n",
    "plt.figure(figsize=(7, 7))\n",
    "g = sns.histplot(rest_data.sort_values(by='type_count', ascending=False), \n",
    "                 y=\"object_type\", multiple=\"dodge\", hue='chain', palette='PuRd',  shrink=.8)\n",
    "g.set_title('Cоотношение видов объектов общественного питания\\nпо количеству с разделением на сетевые и несетевые')\n",
    "g.set_xlabel('Количество')\n",
    "g.set_ylabel('');"
   ]
  },
  {
   "cell_type": "markdown",
   "metadata": {},
   "source": [
    "- Несетевых заведений в разы больше во всех типах объектов, кроме предприятия быстрого обслуживания;\n",
    "- Несетевых кафе примерно в два раза больше;\n",
    "- Сетевых столовых очень мало;\n",
    "- Абсолютные лидеры по доле несетевых это бары, буфеты и столовые."
   ]
  },
  {
   "cell_type": "markdown",
   "metadata": {},
   "source": [
    "### Обзор сетевых заведений "
   ]
  },
  {
   "cell_type": "markdown",
   "metadata": {},
   "source": [
    "Посмотрим на топ-5 сетей по количеству заведений."
   ]
  },
  {
   "cell_type": "code",
   "execution_count": 20,
   "metadata": {},
   "outputs": [
    {
     "data": {
      "text/plain": [
       "object_name\n",
       "KFC            172\n",
       "Шоколадница    161\n",
       "Макдоналдс     138\n",
       "Бургер Кинг    133\n",
       "Теремок         97\n",
       "Name: object_name, dtype: int64"
      ]
     },
     "execution_count": 20,
     "metadata": {},
     "output_type": "execute_result"
    }
   ],
   "source": [
    "# расчет количества заведний в сети\n",
    "object_name_count = rest_data[rest_data['chain'] == 'да'].groupby(by='object_name')['object_name'].count().sort_values(ascending=False)\n",
    "object_name_count[:5]"
   ]
  },
  {
   "cell_type": "markdown",
   "metadata": {},
   "source": [
    "Расчитаем статистику по количеству посадочных мест."
   ]
  },
  {
   "cell_type": "code",
   "execution_count": 21,
   "metadata": {},
   "outputs": [],
   "source": [
    "count_objects_number_seats = rest_data[rest_data['chain'] == 'да'].groupby(by='object_name').agg({'object_name' : 'count', 'number': 'mean', 'object_type': 'first'})\n",
    "count_objects_number_seats.columns = ['Количество объектов в сети', 'Суммарное число посадочных мест', 'Тип объекта']"
   ]
  },
  {
   "cell_type": "code",
   "execution_count": 22,
   "metadata": {},
   "outputs": [
    {
     "data": {
      "text/plain": [
       "Text(0, 0.5, 'Число посадочных мест')"
      ]
     },
     "execution_count": 22,
     "metadata": {},
     "output_type": "execute_result"
    },
    {
     "data": {
      "image/png": "[encoded data removed]",
      "text/plain": [
       "<Figure size 720x504 with 1 Axes>"
      ]
     },
     "metadata": {},
     "output_type": "display_data"
    }
   ],
   "source": [
    "# построение графика\n",
    "plt.figure(figsize=(10, 7))\n",
    "g = sns.scatterplot(data=count_objects_number_seats, x='Количество объектов в сети',\n",
    "                    y='Суммарное число посадочных мест', color='#BD4291')\n",
    "g.set_title('Точечный график между количеством посадочных мест и числом заведений в сети')\n",
    "g.set_xlabel('Количество объектов в сети')\n",
    "g.set_ylabel('Число посадочных мест')"
   ]
  },
  {
   "cell_type": "markdown",
   "metadata": {},
   "source": [
    "Таким образом, при рассмотрении графика можно утверждать, что для сетевых заведений характерно мало заведений с большим числом посадочных мест."
   ]
  },
  {
   "cell_type": "markdown",
   "metadata": {},
   "source": [
    "Для дальнейшего анализа удалим аномальные сети - с большим количеством посадочных мест и большим количеством заведений. Для этого расчитаем 95 и 99 перцентили. "
   ]
  },
  {
   "cell_type": "code",
   "execution_count": 23,
   "metadata": {},
   "outputs": [
    {
     "data": {
      "text/plain": [
       "array([170. , 256.4])"
      ]
     },
     "execution_count": 23,
     "metadata": {},
     "output_type": "execute_result"
    }
   ],
   "source": [
    "# перцентили количества посадочных мест\n",
    "np.percentile(count_objects_number_seats['Суммарное число посадочных мест'], [95, 99])"
   ]
  },
  {
   "cell_type": "markdown",
   "metadata": {},
   "source": [
    "Выберем порог в 256.4 посадочных мест."
   ]
  },
  {
   "cell_type": "code",
   "execution_count": 24,
   "metadata": {},
   "outputs": [
    {
     "data": {
      "text/plain": [
       "array([19. , 90.4])"
      ]
     },
     "execution_count": 24,
     "metadata": {},
     "output_type": "execute_result"
    }
   ],
   "source": [
    "# перцентили количество объектов в сети\n",
    "np.percentile(count_objects_number_seats['Количество объектов в сети'], [95, 99])"
   ]
  },
  {
   "cell_type": "markdown",
   "metadata": {},
   "source": [
    "Выберем порог в 90.4 объектов"
   ]
  },
  {
   "cell_type": "code",
   "execution_count": 25,
   "metadata": {},
   "outputs": [],
   "source": [
    "count_objects_number_seats = count_objects_number_seats[count_objects_number_seats['Суммарное число посадочных мест'] < 256.4]\n",
    "count_objects_number_seats = count_objects_number_seats[count_objects_number_seats['Количество объектов в сети'] < 90.4]"
   ]
  },
  {
   "cell_type": "markdown",
   "metadata": {},
   "source": [
    "Посмотрим на график без аномальных значений."
   ]
  },
  {
   "cell_type": "code",
   "execution_count": 26,
   "metadata": {},
   "outputs": [
    {
     "data": {
      "image/png": "[encoded data removed]",
      "text/plain": [
       "<Figure size 720x504 with 1 Axes>"
      ]
     },
     "metadata": {},
     "output_type": "display_data"
    }
   ],
   "source": [
    "# построение графика\n",
    "plt.figure(figsize=(10, 7))\n",
    "g = sns.scatterplot(data=count_objects_number_seats, x='Количество объектов в сети',\n",
    "                    y='Суммарное число посадочных мест', color='#BD4291')\n",
    "g.set_title('Точечный график между количеством посадочных мест и числом заведений в сети')\n",
    "g.set_xlabel('Количество объектов в сети')\n",
    "g.set_ylabel('Число посадочных мест');"
   ]
  },
  {
   "cell_type": "markdown",
   "metadata": {},
   "source": [
    "- Выброс аномалий не поменял картину;\n",
    "- Для сетей характерно мало заведений с большим числом посадочных мест;\n",
    "- Топ 5 по количеству заведений:\n",
    "    - KFC\n",
    "    - Шоколадница\n",
    "    - Макдональдс\n",
    "    - Бургер Кинг\n",
    "    - Теремок"
   ]
  },
  {
   "cell_type": "markdown",
   "metadata": {},
   "source": [
    "### Среднее количество посадочных мест "
   ]
  },
  {
   "cell_type": "code",
   "execution_count": 27,
   "metadata": {},
   "outputs": [
    {
     "data": {
      "text/html": [
       "<style type=\"text/css\">\n",
       "</style>\n",
       "<table id=\"T_90a8a\">\n",
       "  <thead>\n",
       "    <tr>\n",
       "      <th class=\"blank level0\" >&nbsp;</th>\n",
       "      <th id=\"T_90a8a_level0_col0\" class=\"col_heading level0 col0\" >Тип</th>\n",
       "      <th id=\"T_90a8a_level0_col1\" class=\"col_heading level0 col1\" >Категория</th>\n",
       "      <th id=\"T_90a8a_level0_col2\" class=\"col_heading level0 col2\" >Среднее число посадочных мест</th>\n",
       "    </tr>\n",
       "  </thead>\n",
       "  <tbody>\n",
       "    <tr>\n",
       "      <th id=\"T_90a8a_level0_row0\" class=\"row_heading level0 row0\" >0</th>\n",
       "      <td id=\"T_90a8a_row0_col0\" class=\"data row0 col0\" >бар</td>\n",
       "      <td id=\"T_90a8a_row0_col1\" class=\"data row0 col1\" >да</td>\n",
       "      <td id=\"T_90a8a_row0_col2\" class=\"data row0 col2\" >53</td>\n",
       "    </tr>\n",
       "    <tr>\n",
       "      <th id=\"T_90a8a_level0_row1\" class=\"row_heading level0 row1\" >1</th>\n",
       "      <td id=\"T_90a8a_row1_col0\" class=\"data row1 col0\" >бар</td>\n",
       "      <td id=\"T_90a8a_row1_col1\" class=\"data row1 col1\" >нет</td>\n",
       "      <td id=\"T_90a8a_row1_col2\" class=\"data row1 col2\" >43</td>\n",
       "    </tr>\n",
       "    <tr>\n",
       "      <th id=\"T_90a8a_level0_row2\" class=\"row_heading level0 row2\" >2</th>\n",
       "      <td id=\"T_90a8a_row2_col0\" class=\"data row2 col0\" >буфет</td>\n",
       "      <td id=\"T_90a8a_row2_col1\" class=\"data row2 col1\" >да</td>\n",
       "      <td id=\"T_90a8a_row2_col2\" class=\"data row2 col2\" >13</td>\n",
       "    </tr>\n",
       "    <tr>\n",
       "      <th id=\"T_90a8a_level0_row3\" class=\"row_heading level0 row3\" >3</th>\n",
       "      <td id=\"T_90a8a_row3_col0\" class=\"data row3 col0\" >буфет</td>\n",
       "      <td id=\"T_90a8a_row3_col1\" class=\"data row3 col1\" >нет</td>\n",
       "      <td id=\"T_90a8a_row3_col2\" class=\"data row3 col2\" >52</td>\n",
       "    </tr>\n",
       "    <tr>\n",
       "      <th id=\"T_90a8a_level0_row4\" class=\"row_heading level0 row4\" >4</th>\n",
       "      <td id=\"T_90a8a_row4_col0\" class=\"data row4 col0\" >закусочная</td>\n",
       "      <td id=\"T_90a8a_row4_col1\" class=\"data row4 col1\" >да</td>\n",
       "      <td id=\"T_90a8a_row4_col2\" class=\"data row4 col2\" >14</td>\n",
       "    </tr>\n",
       "    <tr>\n",
       "      <th id=\"T_90a8a_level0_row5\" class=\"row_heading level0 row5\" >5</th>\n",
       "      <td id=\"T_90a8a_row5_col0\" class=\"data row5 col0\" >закусочная</td>\n",
       "      <td id=\"T_90a8a_row5_col1\" class=\"data row5 col1\" >нет</td>\n",
       "      <td id=\"T_90a8a_row5_col2\" class=\"data row5 col2\" >7</td>\n",
       "    </tr>\n",
       "    <tr>\n",
       "      <th id=\"T_90a8a_level0_row6\" class=\"row_heading level0 row6\" >6</th>\n",
       "      <td id=\"T_90a8a_row6_col0\" class=\"data row6 col0\" >кафе</td>\n",
       "      <td id=\"T_90a8a_row6_col1\" class=\"data row6 col1\" >да</td>\n",
       "      <td id=\"T_90a8a_row6_col2\" class=\"data row6 col2\" >47</td>\n",
       "    </tr>\n",
       "    <tr>\n",
       "      <th id=\"T_90a8a_level0_row7\" class=\"row_heading level0 row7\" >7</th>\n",
       "      <td id=\"T_90a8a_row7_col0\" class=\"data row7 col0\" >кафе</td>\n",
       "      <td id=\"T_90a8a_row7_col1\" class=\"data row7 col1\" >нет</td>\n",
       "      <td id=\"T_90a8a_row7_col2\" class=\"data row7 col2\" >38</td>\n",
       "    </tr>\n",
       "    <tr>\n",
       "      <th id=\"T_90a8a_level0_row8\" class=\"row_heading level0 row8\" >8</th>\n",
       "      <td id=\"T_90a8a_row8_col0\" class=\"data row8 col0\" >кафетерий</td>\n",
       "      <td id=\"T_90a8a_row8_col1\" class=\"data row8 col1\" >да</td>\n",
       "      <td id=\"T_90a8a_row8_col2\" class=\"data row8 col2\" >12</td>\n",
       "    </tr>\n",
       "    <tr>\n",
       "      <th id=\"T_90a8a_level0_row9\" class=\"row_heading level0 row9\" >9</th>\n",
       "      <td id=\"T_90a8a_row9_col0\" class=\"data row9 col0\" >кафетерий</td>\n",
       "      <td id=\"T_90a8a_row9_col1\" class=\"data row9 col1\" >нет</td>\n",
       "      <td id=\"T_90a8a_row9_col2\" class=\"data row9 col2\" >9</td>\n",
       "    </tr>\n",
       "    <tr>\n",
       "      <th id=\"T_90a8a_level0_row10\" class=\"row_heading level0 row10\" >10</th>\n",
       "      <td id=\"T_90a8a_row10_col0\" class=\"data row10 col0\" >магазин (отдел кулинарии)</td>\n",
       "      <td id=\"T_90a8a_row10_col1\" class=\"data row10 col1\" >да</td>\n",
       "      <td id=\"T_90a8a_row10_col2\" class=\"data row10 col2\" >9</td>\n",
       "    </tr>\n",
       "    <tr>\n",
       "      <th id=\"T_90a8a_level0_row11\" class=\"row_heading level0 row11\" >11</th>\n",
       "      <td id=\"T_90a8a_row11_col0\" class=\"data row11 col0\" >магазин (отдел кулинарии)</td>\n",
       "      <td id=\"T_90a8a_row11_col1\" class=\"data row11 col1\" >нет</td>\n",
       "      <td id=\"T_90a8a_row11_col2\" class=\"data row11 col2\" >4</td>\n",
       "    </tr>\n",
       "    <tr>\n",
       "      <th id=\"T_90a8a_level0_row12\" class=\"row_heading level0 row12\" >12</th>\n",
       "      <td id=\"T_90a8a_row12_col0\" class=\"data row12 col0\" >предприятие быстрого обслуживания</td>\n",
       "      <td id=\"T_90a8a_row12_col1\" class=\"data row12 col1\" >да</td>\n",
       "      <td id=\"T_90a8a_row12_col2\" class=\"data row12 col2\" >40</td>\n",
       "    </tr>\n",
       "    <tr>\n",
       "      <th id=\"T_90a8a_level0_row13\" class=\"row_heading level0 row13\" >13</th>\n",
       "      <td id=\"T_90a8a_row13_col0\" class=\"data row13 col0\" >предприятие быстрого обслуживания</td>\n",
       "      <td id=\"T_90a8a_row13_col1\" class=\"data row13 col1\" >нет</td>\n",
       "      <td id=\"T_90a8a_row13_col2\" class=\"data row13 col2\" >7</td>\n",
       "    </tr>\n",
       "    <tr>\n",
       "      <th id=\"T_90a8a_level0_row14\" class=\"row_heading level0 row14\" >14</th>\n",
       "      <td id=\"T_90a8a_row14_col0\" class=\"data row14 col0\" >ресторан</td>\n",
       "      <td id=\"T_90a8a_row14_col1\" class=\"data row14 col1\" >да</td>\n",
       "      <td id=\"T_90a8a_row14_col2\" class=\"data row14 col2\" >100</td>\n",
       "    </tr>\n",
       "    <tr>\n",
       "      <th id=\"T_90a8a_level0_row15\" class=\"row_heading level0 row15\" >15</th>\n",
       "      <td id=\"T_90a8a_row15_col0\" class=\"data row15 col0\" >ресторан</td>\n",
       "      <td id=\"T_90a8a_row15_col1\" class=\"data row15 col1\" >нет</td>\n",
       "      <td id=\"T_90a8a_row15_col2\" class=\"data row15 col2\" >96</td>\n",
       "    </tr>\n",
       "    <tr>\n",
       "      <th id=\"T_90a8a_level0_row16\" class=\"row_heading level0 row16\" >16</th>\n",
       "      <td id=\"T_90a8a_row16_col0\" class=\"data row16 col0\" >столовая</td>\n",
       "      <td id=\"T_90a8a_row16_col1\" class=\"data row16 col1\" >да</td>\n",
       "      <td id=\"T_90a8a_row16_col2\" class=\"data row16 col2\" >112</td>\n",
       "    </tr>\n",
       "    <tr>\n",
       "      <th id=\"T_90a8a_level0_row17\" class=\"row_heading level0 row17\" >17</th>\n",
       "      <td id=\"T_90a8a_row17_col0\" class=\"data row17 col0\" >столовая</td>\n",
       "      <td id=\"T_90a8a_row17_col1\" class=\"data row17 col1\" >нет</td>\n",
       "      <td id=\"T_90a8a_row17_col2\" class=\"data row17 col2\" >130</td>\n",
       "    </tr>\n",
       "  </tbody>\n",
       "</table>\n"
      ],
      "text/plain": [
       "<pandas.io.formats.style.Styler at 0x1b3d5908e50>"
      ]
     },
     "execution_count": 27,
     "metadata": {},
     "output_type": "execute_result"
    }
   ],
   "source": [
    "# сводная таблица со средним количеством посадочных мест\n",
    "rest_number = rest_data.groupby(by=['object_type', 'chain'])['number'].mean().reset_index()\n",
    "rest_number.columns = ['Тип', 'Категория', 'Среднее число посадочных мест']\n",
    "rest_number.style.format({'Среднее число посадочных мест' : '{:.0f}'})"
   ]
  },
  {
   "cell_type": "code",
   "execution_count": 28,
   "metadata": {},
   "outputs": [
    {
     "data": {
      "image/png": "[encoded data removed]",
      "text/plain": [
       "<Figure size 936x720 with 1 Axes>"
      ]
     },
     "metadata": {},
     "output_type": "display_data"
    }
   ],
   "source": [
    "# построеие графика\n",
    "plt.figure(figsize=(13, 10))\n",
    "g = sns.boxplot(x=\"number\", y=\"object_type\", hue='chain',\n",
    "                 data=rest_data, palette='PuRd', orient='h', showfliers = False)\n",
    "g.set_title('Распределения числа посадочных мест в зависимости от типа заведения')\n",
    "g.set_xlabel('Число посадочных мест')\n",
    "g.set_ylabel('');"
   ]
  },
  {
   "cell_type": "markdown",
   "metadata": {},
   "source": [
    "**Выводы**\n",
    "- Число посадочных мест больше всего в столовых и составляет 130 для несетевых и 112 для сетевых. \n",
    "\n",
    "- Достаточно много посадочных мест в ресторанах.\n",
    "\n",
    "- В несетевых предприятиях быстрого питания и магазинах в среднем количество посадочных мест около нуля.\n",
    "\n",
    "- Кафе имеют похоже распределение посадочных мест между сетевыми и несетевыми заведениями."
   ]
  },
  {
   "cell_type": "markdown",
   "metadata": {},
   "source": [
    "### Выделение улицы"
   ]
  },
  {
   "cell_type": "markdown",
   "metadata": {},
   "source": [
    "Напишем функцияю, которая будет выделять улицу в зависимости от ключевых слов."
   ]
  },
  {
   "cell_type": "code",
   "execution_count": 29,
   "metadata": {},
   "outputs": [],
   "source": [
    "def street_extraction(string):\n",
    "    road_objects = ['улица', 'проспект', 'бульвар', 'аллея', 'набережная', 'территория', 'Бульвар',\n",
    "                    'шоссе', 'площадь', 'проезд', 'переулок', 'линия', 'тупик', 'километр']\n",
    "    string_objects = string.split(', ')\n",
    "    for string_object in string_objects:\n",
    "        for road_object in road_objects:\n",
    "            if  road_object in string_object:\n",
    "                return string_object\n",
    "            else: pass"
   ]
  },
  {
   "cell_type": "code",
   "execution_count": 30,
   "metadata": {},
   "outputs": [],
   "source": [
    "# применение функции\n",
    "rest_data['street'] = rest_data['address'].apply(street_extraction)"
   ]
  },
  {
   "cell_type": "code",
   "execution_count": 31,
   "metadata": {},
   "outputs": [
    {
     "data": {
      "text/plain": [
       "331"
      ]
     },
     "execution_count": 31,
     "metadata": {},
     "output_type": "execute_result"
    }
   ],
   "source": [
    "# Количество образовавшихся пропусков в столбце с улицами \n",
    "rest_data['street'].isna().sum()"
   ]
  },
  {
   "cell_type": "code",
   "execution_count": 32,
   "metadata": {},
   "outputs": [],
   "source": [
    "# удлинним вывод строк\n",
    "pd.options.display.max_colwidth = 100"
   ]
  },
  {
   "cell_type": "markdown",
   "metadata": {},
   "source": [
    "Рассмотрим примеры адресов в строках с пропусками в столбце street."
   ]
  },
  {
   "cell_type": "code",
   "execution_count": 33,
   "metadata": {},
   "outputs": [
    {
     "data": {
      "text/plain": [
       "5244                                                         город Москва, 2-й квартал Капотня, дом 2\n",
       "3028    город Москва, поселение Михайлово-Ярцевское, посёлок Шишкин Лес, домовладение 51Б, строение 1\n",
       "9174                                          город Москва, микрорайон Северное Чертаново, корпус 823\n",
       "9128                                     город Москва, поселение Внуковское, деревня Пыхтино, дом 46А\n",
       "8377                                        город Москва, поселение Щаповское, посёлок Щапово, дом 21\n",
       "Name: address, dtype: object"
      ]
     },
     "execution_count": 33,
     "metadata": {},
     "output_type": "execute_result"
    }
   ],
   "source": [
    "rest_data[rest_data['street'].isna()]['address'].sample(5)"
   ]
  },
  {
   "cell_type": "markdown",
   "metadata": {},
   "source": [
    "- Проведено выделение улицы в отдельный столбец street;\n",
    "- Образовался 331 пропуск, который связан с особенностью адресов в небольших городах и поселениях, где адрес формируется без названий линейных дорожных объектов. Примеры - г. Зеленоград, посёлок Шишкин лес, село Красная Пахра и т.д.\n",
    "- Строки с пропускми можно удалить, чтобы далее в анализе они не появлялись - их немного и на статистические характеристики это удаление не должно повлиять. А ешё лучше всё же попытаться выделить из адреса город, поселение, село и т.д. и проанализировать полученную категрию отдельно. Возможно, благодаря этому можно будет выявить какие-либо особенности."
   ]
  },
  {
   "cell_type": "markdown",
   "metadata": {},
   "source": [
    "### Постройте график топ-10 улиц по количеству объектов общественного питания"
   ]
  },
  {
   "cell_type": "code",
   "execution_count": 34,
   "metadata": {},
   "outputs": [],
   "source": [
    "# топ-10 улиц по количеству заведений\n",
    "objects_street_count = rest_data.groupby(by='street')['object_name'].count()\n",
    "objects_street_count_10 = objects_street_count.sort_values(ascending=False)[:10].reset_index()\n",
    "objects_street_count_10.columns = ['street', 'count_of_objects']"
   ]
  },
  {
   "cell_type": "code",
   "execution_count": 35,
   "metadata": {},
   "outputs": [
    {
     "data": {
      "text/html": [
       "<div>\n",
       "<style scoped>\n",
       "    .dataframe tbody tr th:only-of-type {\n",
       "        vertical-align: middle;\n",
       "    }\n",
       "\n",
       "    .dataframe tbody tr th {\n",
       "        vertical-align: top;\n",
       "    }\n",
       "\n",
       "    .dataframe thead th {\n",
       "        text-align: right;\n",
       "    }\n",
       "</style>\n",
       "<table border=\"1\" class=\"dataframe\">\n",
       "  <thead>\n",
       "    <tr style=\"text-align: right;\">\n",
       "      <th></th>\n",
       "      <th>street</th>\n",
       "      <th>count_of_objects</th>\n",
       "    </tr>\n",
       "  </thead>\n",
       "  <tbody>\n",
       "    <tr>\n",
       "      <th>0</th>\n",
       "      <td>проспект Мира</td>\n",
       "      <td>204</td>\n",
       "    </tr>\n",
       "    <tr>\n",
       "      <th>1</th>\n",
       "      <td>Профсоюзная улица</td>\n",
       "      <td>182</td>\n",
       "    </tr>\n",
       "    <tr>\n",
       "      <th>2</th>\n",
       "      <td>Ленинградский проспект</td>\n",
       "      <td>172</td>\n",
       "    </tr>\n",
       "    <tr>\n",
       "      <th>3</th>\n",
       "      <td>Пресненская набережная</td>\n",
       "      <td>167</td>\n",
       "    </tr>\n",
       "    <tr>\n",
       "      <th>4</th>\n",
       "      <td>Варшавское шоссе</td>\n",
       "      <td>165</td>\n",
       "    </tr>\n",
       "    <tr>\n",
       "      <th>5</th>\n",
       "      <td>Ленинский проспект</td>\n",
       "      <td>148</td>\n",
       "    </tr>\n",
       "    <tr>\n",
       "      <th>6</th>\n",
       "      <td>проспект Вернадского</td>\n",
       "      <td>128</td>\n",
       "    </tr>\n",
       "    <tr>\n",
       "      <th>7</th>\n",
       "      <td>Кутузовский проспект</td>\n",
       "      <td>114</td>\n",
       "    </tr>\n",
       "    <tr>\n",
       "      <th>8</th>\n",
       "      <td>Каширское шоссе</td>\n",
       "      <td>111</td>\n",
       "    </tr>\n",
       "    <tr>\n",
       "      <th>9</th>\n",
       "      <td>Кировоградская улица</td>\n",
       "      <td>108</td>\n",
       "    </tr>\n",
       "  </tbody>\n",
       "</table>\n",
       "</div>"
      ],
      "text/plain": [
       "                   street  count_of_objects\n",
       "0           проспект Мира               204\n",
       "1       Профсоюзная улица               182\n",
       "2  Ленинградский проспект               172\n",
       "3  Пресненская набережная               167\n",
       "4        Варшавское шоссе               165\n",
       "5      Ленинский проспект               148\n",
       "6    проспект Вернадского               128\n",
       "7    Кутузовский проспект               114\n",
       "8         Каширское шоссе               111\n",
       "9    Кировоградская улица               108"
      ]
     },
     "execution_count": 35,
     "metadata": {},
     "output_type": "execute_result"
    }
   ],
   "source": [
    "objects_street_count_10"
   ]
  },
  {
   "cell_type": "code",
   "execution_count": 36,
   "metadata": {},
   "outputs": [
    {
     "data": {
      "image/png": "[encoded data removed]",
      "text/plain": [
       "<Figure size 720x504 with 1 Axes>"
      ]
     },
     "metadata": {},
     "output_type": "display_data"
    }
   ],
   "source": [
    "# построение графика\n",
    "plt.figure(figsize=(10, 7))\n",
    "g = sns.barplot(data = objects_street_count_10, y = 'street', x='count_of_objects', palette='PuRd')\n",
    "g.set_title('Распределение количества объектов питания по улицам')\n",
    "g.set_xlabel('Количество объектов питания')\n",
    "g.set_ylabel('');"
   ]
  },
  {
   "cell_type": "markdown",
   "metadata": {},
   "source": [
    "- Количество, расположенных объектов на улицах, в некоторой степени зависит от их протяженности. Большинство рассматриваемых  линейных дорожных объектов достаточно протяженные и  пересекают несколько районов. \n",
    "- Одним исключением является Пресненская набережная. Адрес этой набережной имеют небоскребы Москоу-сити."
   ]
  },
  {
   "cell_type": "markdown",
   "metadata": {},
   "source": [
    "#### Районы в которых распологаются улицы"
   ]
  },
  {
   "cell_type": "markdown",
   "metadata": {},
   "source": [
    "С целью сопоставления районов и улиц я обратился к источнику внешенй информации - OpenStreetMap через API сервис Overpass API через домен mail.ru <https://maps.mail.ru/osm/tools/overpass/>. Немецкий домен <https://overpass-api.de> имеет ряд ограничений на количество запросов, время их выполнения и их память. Overpass API — это серверное ПО с открытым исходным кодом, созданное для обработки пространственных запросов к данным OpenStreetMap. Хорошая статья об этом API с разбором примерв: https://habr.com/ru/company/vk/blog/591879/ (сохраняю для себя).\n",
    "\n",
    "Код, связанный с запросами в API Overpass я закоментировал, т.к. он требут достаточно много времени для его выполнения. А полученные данные будут подгружены из облачного хранилища."
   ]
  },
  {
   "cell_type": "code",
   "execution_count": 37,
   "metadata": {},
   "outputs": [],
   "source": [
    "# библиотека для работы с Overpass API в python\n",
    "#!pip install overpy"
   ]
  },
  {
   "cell_type": "code",
   "execution_count": 38,
   "metadata": {},
   "outputs": [],
   "source": [
    "# имортируем библиотеки и задаем url API\n",
    "import overpy\n",
    "api = overpy.Overpass(url='https://maps.mail.ru/osm/tools/overpass/api/interpreter')"
   ]
  },
  {
   "cell_type": "code",
   "execution_count": 39,
   "metadata": {},
   "outputs": [],
   "source": [
    "# задаем функцию для выгрузки списка районов Москвы\n",
    "def get_regions():\n",
    "    regions = []\n",
    "    try:\n",
    "        # строка запроса\n",
    "        result = api.query('''area[admin_level=4][name=\"Москва\"] -> .moscow;\n",
    "                              nwr[admin_level=8](area.moscow);\n",
    "                              out geom;\n",
    "                              ''')\n",
    "        # выгрузка из полученного результата названий районов\n",
    "        for relation in result.relations:\n",
    "            regions.append(relation.tags.get(\"name\"))\n",
    "        return regions\n",
    "    except: pass"
   ]
  },
  {
   "cell_type": "code",
   "execution_count": 40,
   "metadata": {},
   "outputs": [],
   "source": [
    "# применяем функцию\n",
    "regions = get_regions();"
   ]
  },
  {
   "cell_type": "code",
   "execution_count": 41,
   "metadata": {},
   "outputs": [],
   "source": [
    "# задаем функцию для получения наименования районов по улицам\n",
    "def region_from_street(street):\n",
    "    regions_over_street = []\n",
    "    #print(street)\n",
    "    \n",
    "    try:\n",
    "        # строка запроса для тех улиц, которые пересекают несколько районов - \n",
    "        # данный запрос работает достаточно быстро\n",
    "        result = api.query('''area[place=city][name=\"Москва\"] -> .moscow;\n",
    "                              way[name=\"{}\"](area.moscow);\n",
    "                              nwr[admin_level=8](around:1);\n",
    "                              out geom;\n",
    "                              '''.format(street))\n",
    "    except: pass\n",
    "    # записываем результат, если он есть\n",
    "    if len(result.ways) > 0:\n",
    "        for relation in result.relations:\n",
    "            regions_over_street.append(relation.tags.get(\"name\"))\n",
    "    # если районов, которых улица пересекает не найдено, то осуществляем цикл \n",
    "    # с переобором районов, который ищит расположена ли искомая улица в его пределах\n",
    "    elif len(result.ways) == 0:\n",
    "        for region in regions:\n",
    "            try:\n",
    "                result = api.query('''area[admin_level=4][name=\"Москва\"] -> .moscow;\n",
    "                                              area[admin_level=8][name=\"{}\"] -> .region;\n",
    "                                              way[name=\"{}\"](area.moscow)(area.region);\n",
    "                                              out geom;\n",
    "                                              '''.format(region, street))\n",
    "            except: pass\n",
    "            if len(result.ways) > 0:\n",
    "                regions_over_street.append(region)\n",
    "    return regions_over_street      "
   ]
  },
  {
   "cell_type": "code",
   "execution_count": 42,
   "metadata": {},
   "outputs": [],
   "source": [
    "# применим функцию\n",
    "objects_street_count_10['regions'] = objects_street_count_10['street'].apply(region_from_street)"
   ]
  },
  {
   "cell_type": "code",
   "execution_count": 43,
   "metadata": {
    "scrolled": false
   },
   "outputs": [
    {
     "data": {
      "text/html": [
       "<div>\n",
       "<style scoped>\n",
       "    .dataframe tbody tr th:only-of-type {\n",
       "        vertical-align: middle;\n",
       "    }\n",
       "\n",
       "    .dataframe tbody tr th {\n",
       "        vertical-align: top;\n",
       "    }\n",
       "\n",
       "    .dataframe thead th {\n",
       "        text-align: right;\n",
       "    }\n",
       "</style>\n",
       "<table border=\"1\" class=\"dataframe\">\n",
       "  <thead>\n",
       "    <tr style=\"text-align: right;\">\n",
       "      <th></th>\n",
       "      <th>street</th>\n",
       "      <th>count_of_objects</th>\n",
       "      <th>regions</th>\n",
       "    </tr>\n",
       "  </thead>\n",
       "  <tbody>\n",
       "    <tr>\n",
       "      <th>0</th>\n",
       "      <td>проспект Мира</td>\n",
       "      <td>204</td>\n",
       "      <td>['Мещанский район', 'Ярославский район', 'район Ростокино', 'Алексеевский район', 'район Свиблово', 'Останкинский район', 'район Марьина Роща']</td>\n",
       "    </tr>\n",
       "    <tr>\n",
       "      <th>1</th>\n",
       "      <td>Профсоюзная улица</td>\n",
       "      <td>182</td>\n",
       "      <td>['район Ясенево', 'район Тёплый Стан', 'район Коньково', 'Академический район', 'район Черёмушки', 'Обручевский район']</td>\n",
       "    </tr>\n",
       "    <tr>\n",
       "      <th>2</th>\n",
       "      <td>Ленинградский проспект</td>\n",
       "      <td>172</td>\n",
       "      <td>['район Сокол', 'район Беговой', 'Хорошёвский район', 'район Аэропорт']</td>\n",
       "    </tr>\n",
       "    <tr>\n",
       "      <th>3</th>\n",
       "      <td>Пресненская набережная</td>\n",
       "      <td>167</td>\n",
       "      <td>['Пресненский район']</td>\n",
       "    </tr>\n",
       "    <tr>\n",
       "      <th>4</th>\n",
       "      <td>Варшавское шоссе</td>\n",
       "      <td>165</td>\n",
       "      <td>['Донской район', 'район Нагатино-Садовники', 'Нагорный район', 'район Чертаново Северное', 'район Чертаново Южное', 'район Чертаново Центральное', 'район Южное Бутово', 'район Северное Бутово']</td>\n",
       "    </tr>\n",
       "    <tr>\n",
       "      <th>5</th>\n",
       "      <td>Ленинский проспект</td>\n",
       "      <td>148</td>\n",
       "      <td>['Донской район', 'район Тёплый Стан', 'район Якиманка', 'Гагаринский район', 'Ломоносовский район', 'Обручевский район', 'район Проспект Вернадского', 'Тропарёво-Никулино']</td>\n",
       "    </tr>\n",
       "    <tr>\n",
       "      <th>6</th>\n",
       "      <td>проспект Вернадского</td>\n",
       "      <td>128</td>\n",
       "      <td>['район Раменки', 'Гагаринский район', 'Ломоносовский район', 'район Проспект Вернадского', 'Тропарёво-Никулино']</td>\n",
       "    </tr>\n",
       "    <tr>\n",
       "      <th>7</th>\n",
       "      <td>Кутузовский проспект</td>\n",
       "      <td>114</td>\n",
       "      <td>['район Фили-Давыдково', 'район Дорогомилово']</td>\n",
       "    </tr>\n",
       "    <tr>\n",
       "      <th>8</th>\n",
       "      <td>Каширское шоссе</td>\n",
       "      <td>111</td>\n",
       "      <td>['район Нагатинский Затон', 'район Москворечье-Сабурово', 'район Орехово-Борисово Северное', 'район Орехово-Борисово Южное', 'район Нагатино-Садовники', 'Нагорный район']</td>\n",
       "    </tr>\n",
       "    <tr>\n",
       "      <th>9</th>\n",
       "      <td>Кировоградская улица</td>\n",
       "      <td>108</td>\n",
       "      <td>['район Чертаново Северное', 'район Чертаново Южное', 'район Чертаново Центральное']</td>\n",
       "    </tr>\n",
       "  </tbody>\n",
       "</table>\n",
       "</div>"
      ],
      "text/plain": [
       "                   street  count_of_objects  \\\n",
       "0  проспект Мира           204                \n",
       "1  Профсоюзная улица       182                \n",
       "2  Ленинградский проспект  172                \n",
       "3  Пресненская набережная  167                \n",
       "4  Варшавское шоссе        165                \n",
       "5  Ленинский проспект      148                \n",
       "6  проспект Вернадского    128                \n",
       "7  Кутузовский проспект    114                \n",
       "8  Каширское шоссе         111                \n",
       "9  Кировоградская улица    108                \n",
       "\n",
       "                                                                                                                                                                                              regions  \n",
       "0  ['Мещанский район', 'Ярославский район', 'район Ростокино', 'Алексеевский район', 'район Свиблово', 'Останкинский район', 'район Марьина Роща']                                                     \n",
       "1  ['район Ясенево', 'район Тёплый Стан', 'район Коньково', 'Академический район', 'район Черёмушки', 'Обручевский район']                                                                             \n",
       "2  ['район Сокол', 'район Беговой', 'Хорошёвский район', 'район Аэропорт']                                                                                                                             \n",
       "3  ['Пресненский район']                                                                                                                                                                               \n",
       "4  ['Донской район', 'район Нагатино-Садовники', 'Нагорный район', 'район Чертаново Северное', 'район Чертаново Южное', 'район Чертаново Центральное', 'район Южное Бутово', 'район Северное Бутово']  \n",
       "5  ['Донской район', 'район Тёплый Стан', 'район Якиманка', 'Гагаринский район', 'Ломоносовский район', 'Обручевский район', 'район Проспект Вернадского', 'Тропарёво-Никулино']                       \n",
       "6  ['район Раменки', 'Гагаринский район', 'Ломоносовский район', 'район Проспект Вернадского', 'Тропарёво-Никулино']                                                                                   \n",
       "7  ['район Фили-Давыдково', 'район Дорогомилово']                                                                                                                                                      \n",
       "8  ['район Нагатинский Затон', 'район Москворечье-Сабурово', 'район Орехово-Борисово Северное', 'район Орехово-Борисово Южное', 'район Нагатино-Садовники', 'Нагорный район']                          \n",
       "9  ['район Чертаново Северное', 'район Чертаново Южное', 'район Чертаново Центральное']                                                                                                                "
      ]
     },
     "execution_count": 43,
     "metadata": {},
     "output_type": "execute_result"
    }
   ],
   "source": [
    "# импорт подготовленного файла\n",
    "from io import BytesIO\n",
    "import requests\n",
    "pd.set_option('display.max_colwidth', 0)\n",
    "spreadsheet_id = '1V_3vMy01DZAl8gPoZkeOvZ7kDGoDr0f4fdzsvnDL4ec'\n",
    "file_name = 'https://docs.google.com/spreadsheets/d/{}/export?format=csv'.format(spreadsheet_id)\n",
    "r = requests.get(file_name)\n",
    "top_10 = pd.read_csv(BytesIO(r.content))\n",
    "top_10"
   ]
  },
  {
   "cell_type": "markdown",
   "metadata": {},
   "source": [
    "Выведем список районов, в которых расположены топ-10 улиц."
   ]
  },
  {
   "cell_type": "code",
   "execution_count": 44,
   "metadata": {
    "scrolled": true
   },
   "outputs": [
    {
     "data": {
      "text/plain": [
       "['Мещанский район',\n",
       " ' Ярославский район',\n",
       " ' район Ростокино',\n",
       " ' Алексеевский район',\n",
       " ' район Свиблово',\n",
       " ' Останкинский район',\n",
       " ' район Марьина Роща',\n",
       " ' район Ясенево',\n",
       " ' район Тёплый Стан',\n",
       " ' район Коньково',\n",
       " ' Академический район',\n",
       " ' район Черёмушки',\n",
       " ' Обручевский район',\n",
       " ' район Сокол',\n",
       " ' район Беговой',\n",
       " ' Хорошёвский район',\n",
       " ' район Аэропорт',\n",
       " ' Пресненский район',\n",
       " ' Донской район',\n",
       " ' район Нагатино-Садовники',\n",
       " ' Нагорный район',\n",
       " ' район Чертаново Северное',\n",
       " ' район Чертаново Южное',\n",
       " ' район Чертаново Центральное',\n",
       " ' район Южное Бутово',\n",
       " ' район Северное Бутово',\n",
       " ' Донской район',\n",
       " ' район Тёплый Стан',\n",
       " ' район Якиманка',\n",
       " ' Гагаринский район',\n",
       " ' Ломоносовский район',\n",
       " ' Обручевский район',\n",
       " ' район Проспект Вернадского',\n",
       " ' Тропарёво-Никулино',\n",
       " ' район Раменки',\n",
       " ' Гагаринский район',\n",
       " ' Ломоносовский район',\n",
       " ' район Проспект Вернадского',\n",
       " ' Тропарёво-Никулино',\n",
       " ' район Фили-Давыдково',\n",
       " ' район Дорогомилово',\n",
       " ' район Нагатинский Затон',\n",
       " ' район Москворечье-Сабурово',\n",
       " ' район Орехово-Борисово Северное',\n",
       " ' район Орехово-Борисово Южное',\n",
       " ' район Нагатино-Садовники',\n",
       " ' Нагорный район',\n",
       " ' район Чертаново Северное',\n",
       " ' район Чертаново Южное',\n",
       " ' район Чертаново Центральное']"
      ]
     },
     "execution_count": 44,
     "metadata": {},
     "output_type": "execute_result"
    }
   ],
   "source": [
    "# форматирование столбца region для подсчета частоты встречаемости района\n",
    "top_10_list = top_10['regions'].tolist()\n",
    "top_10_list = ''.join(top_10_list)\n",
    "top_10_list = top_10_list.replace(\"[]\",\"\").replace(\"']['\",\", \").replace(\" '\",\" \").replace(\"',\",\",\").replace(\"['\",\"\").replace(\"']\",\"\")\n",
    "top_10_list = top_10_list.split(\",\")\n",
    "top_10_list"
   ]
  },
  {
   "cell_type": "markdown",
   "metadata": {},
   "source": [
    "- Выполнена выгрузка информации о расположении улиц по районам из Open Street Map с помощью сервиса Overpass API;\n",
    "- Анализ показал, что районы, в которых находятся топ 10 улиц расположены преимущественно вне центра, но внутри МКАДа."
   ]
  },
  {
   "cell_type": "markdown",
   "metadata": {},
   "source": [
    "### Найдите число улиц с одним объектом общественного питания"
   ]
  },
  {
   "cell_type": "markdown",
   "metadata": {},
   "source": [
    "Для улиц с одним заведением была также применена функция `region_from_street`. Загрузим данные:"
   ]
  },
  {
   "cell_type": "code",
   "execution_count": 45,
   "metadata": {},
   "outputs": [
    {
     "data": {
      "text/html": [
       "<div>\n",
       "<style scoped>\n",
       "    .dataframe tbody tr th:only-of-type {\n",
       "        vertical-align: middle;\n",
       "    }\n",
       "\n",
       "    .dataframe tbody tr th {\n",
       "        vertical-align: top;\n",
       "    }\n",
       "\n",
       "    .dataframe thead th {\n",
       "        text-align: right;\n",
       "    }\n",
       "</style>\n",
       "<table border=\"1\" class=\"dataframe\">\n",
       "  <thead>\n",
       "    <tr style=\"text-align: right;\">\n",
       "      <th></th>\n",
       "      <th>street</th>\n",
       "      <th>count_of_objects</th>\n",
       "      <th>regions</th>\n",
       "    </tr>\n",
       "  </thead>\n",
       "  <tbody>\n",
       "    <tr>\n",
       "      <th>223</th>\n",
       "      <td>Калибровская улица</td>\n",
       "      <td>1</td>\n",
       "      <td>['Останкинский район']</td>\n",
       "    </tr>\n",
       "    <tr>\n",
       "      <th>505</th>\n",
       "      <td>улица Константинова</td>\n",
       "      <td>1</td>\n",
       "      <td>['Алексеевский район']</td>\n",
       "    </tr>\n",
       "    <tr>\n",
       "      <th>210</th>\n",
       "      <td>Звонарский переулок</td>\n",
       "      <td>1</td>\n",
       "      <td>['Мещанский район', 'Тверской район']</td>\n",
       "    </tr>\n",
       "    <tr>\n",
       "      <th>91</th>\n",
       "      <td>3-я Черепковская улица</td>\n",
       "      <td>1</td>\n",
       "      <td>['район Кунцево']</td>\n",
       "    </tr>\n",
       "    <tr>\n",
       "      <th>525</th>\n",
       "      <td>улица Недорубова</td>\n",
       "      <td>1</td>\n",
       "      <td>['район Косино-Ухтомский', 'район Некрасовка']</td>\n",
       "    </tr>\n",
       "  </tbody>\n",
       "</table>\n",
       "</div>"
      ],
      "text/plain": [
       "                     street  count_of_objects  \\\n",
       "223  Калибровская улица      1                  \n",
       "505  улица Константинова     1                  \n",
       "210  Звонарский переулок     1                  \n",
       "91   3-я Черепковская улица  1                  \n",
       "525  улица Недорубова        1                  \n",
       "\n",
       "                                            regions  \n",
       "223  ['Останкинский район']                          \n",
       "505  ['Алексеевский район']                          \n",
       "210  ['Мещанский район', 'Тверской район']           \n",
       "91   ['район Кунцево']                               \n",
       "525  ['район Косино-Ухтомский', 'район Некрасовка']  "
      ]
     },
     "execution_count": 45,
     "metadata": {},
     "output_type": "execute_result"
    }
   ],
   "source": [
    "spreadsheet_id = '145Ck3PS0JyEZToIlZUZ6MNsO5XER4NGOpYkiMgyjl28'\n",
    "file_name = 'https://docs.google.com/spreadsheets/d/{}/export?format=csv'.format(spreadsheet_id)\n",
    "r = requests.get(file_name)\n",
    "only_one = pd.read_csv(BytesIO(r.content))\n",
    "only_one.sample(5)"
   ]
  },
  {
   "cell_type": "markdown",
   "metadata": {},
   "source": [
    "Количество улиц с одним заведением:"
   ]
  },
  {
   "cell_type": "code",
   "execution_count": 46,
   "metadata": {},
   "outputs": [
    {
     "data": {
      "text/plain": [
       "564"
      ]
     },
     "execution_count": 46,
     "metadata": {},
     "output_type": "execute_result"
    }
   ],
   "source": [
    "len(only_one)"
   ]
  },
  {
   "cell_type": "code",
   "execution_count": 47,
   "metadata": {},
   "outputs": [],
   "source": [
    "# функция для расчета количества районов (требуется в дальнешем для расчета частоты)\n",
    "def count_of_regions(region):\n",
    "    return len(region.replace(\"['\", '').replace(\"']\", '').replace(\"',\", '').replace(\" '\", \", \").split(\",\"))\n",
    "\n",
    "only_one['count_of_regions'] = only_one['regions'].apply(count_of_regions)"
   ]
  },
  {
   "cell_type": "markdown",
   "metadata": {},
   "source": [
    "Улицы можно разбить на три категории:\n",
    "1. Улица расположена в пределах одного района;\n",
    "2. Улица пересекает одну границу района и, таким образом, расположена в двух районах;\n",
    "3. Название улицы имееют несколько улиц в разных несоприкасающихся районах;\n",
    "4. Наблюдаются улицы без районов, что может быть связано со специфичным названием, котого нет в базе OSM, к примеру n-ый км МКАД.\n",
    "\n",
    "Для дальнешего анализа частоты встречаемости районов, было принято решение об изъятии улиц с количеством районов более двух, чтобы не попасть на категории 3, 4."
   ]
  },
  {
   "cell_type": "markdown",
   "metadata": {},
   "source": [
    "Отформатрием столбец с регионами для подсчёта частоты встречаемости районов. "
   ]
  },
  {
   "cell_type": "code",
   "execution_count": 48,
   "metadata": {},
   "outputs": [],
   "source": [
    "only_one = only_one.query('count_of_regions < 3')"
   ]
  },
  {
   "cell_type": "code",
   "execution_count": 49,
   "metadata": {},
   "outputs": [],
   "source": [
    "only_one_list = only_one['regions'].tolist()\n",
    "only_one_list = ''.join(only_one_list)\n",
    "only_one_list = only_one_list.replace(\"[]\",\"\").replace(\"']['\",\", \").replace(\" '\",\" \").replace(\"',\",\",\").replace(\"['\",\"\").replace(\"']\",\"\")\n",
    "only_one_list = only_one_list.split(\",\")\n",
    "only_one_regions = pd.Series(only_one_list)\n",
    "only_one_regions_counts = only_one_regions.value_counts()"
   ]
  },
  {
   "cell_type": "code",
   "execution_count": 50,
   "metadata": {},
   "outputs": [
    {
     "data": {
      "image/png": "[encoded data removed]",
      "text/plain": [
       "<Figure size 720x504 with 1 Axes>"
      ]
     },
     "metadata": {},
     "output_type": "display_data"
    }
   ],
   "source": [
    "# построение графика\n",
    "plt.figure(figsize=(10, 7))\n",
    "g = sns.barplot(only_one_regions_counts.values[:10], only_one_regions_counts[:10].index, palette='PuRd_r')\n",
    "g.set_title('Распределение количества объектов питания по районам, гдн только одно заведение на улице')\n",
    "g.set_xlabel('Количество объектов питания')\n",
    "g.set_ylabel('');"
   ]
  },
  {
   "cell_type": "markdown",
   "metadata": {},
   "source": [
    "- 564 улицы имеют один единственный объект общественного питания.\n",
    "- Улицы с одним объектом преимущественно расположены в центральных районах.\n",
    "- Топ-3 района по количеству заведений, расположенных на одной улице:\n",
    "    - Тагански район;\n",
    "    - Район Хамовники;\n",
    "    - Басманный район."
   ]
  },
  {
   "cell_type": "markdown",
   "metadata": {},
   "source": [
    "## Выводы и рекомендации"
   ]
  },
  {
   "cell_type": "markdown",
   "metadata": {},
   "source": [
    "### Выводы"
   ]
  },
  {
   "cell_type": "markdown",
   "metadata": {},
   "source": [
    "Соотношение видов объектов питания по количеству:\n",
    "- Наибольшее количество заведений это кафе - чуть более 6000;\n",
    "- Далее идут столовые, предприятия быстрого питания и рестораны;\n",
    "- Остальные типы заведений занимают меньшие доли.\n",
    "\n",
    "Соотношение сетевых и несетевых заведений:\n",
    "- Несетевых заведений гораздо больше - 81% от всех заведений;\n",
    "- Несетевых заведений в разы больше во всех типах объектов, кроме предприятия быстрого обслуживания;\n",
    "- Несетевых кафе примерно в два раза больше;\n",
    "- Сетевых столовых очень мало;\n",
    "- Абсолютные лидеры по доле несетевых это бары, буфеты и столовые.\n",
    "\n",
    "Анализ сетевых заведений:\n",
    "- Для сетей характерно много заведений с небольшим числом посадочных мест;\n",
    "- Топ 5 по количеству заведений:\n",
    "    - KFC\n",
    "    - Шоколадница\n",
    "    - Макдональдс\n",
    "    - Бургер Кинг\n",
    "    - Теремок\n",
    "    \n",
    "Посадочные места:\n",
    "- Число посадочных мест больше всего в столовых и составляет 130 для несетевых и 112 для сетевых.\n",
    "- Достаточно много посадочных мест в ресторанах.\n",
    "- В несетевых предприятиях быстрого питания и магазинах в среднем количество посадочных мест около нуля.\n",
    "- Кафе имеют похоже распределение посадочных мест между сетевыми и несетевыми заведениями.\n",
    "\n",
    "Анализ улиц и районов по количеству объектов питания:\n",
    "- Из строки с адресом выделено название улиц в отдельный столбец street;\n",
    "- Образовался 331 пропуск, которые сязаны с особенностью адресов в небольших городах и поселениях, где адрес формируется без названий линейных дорожных объектов. Примеры - г. Зеленоград, посёлок Шишкин лес, село Красная Пахра и т.д.\n",
    "- Количество, расположенных объектов на улицах, в некоторой степени зависит от их протяженности. Большинство рассматриваемых линейных дорожных объектов достаточно протяженные и пересекают несколько районов.\n",
    "- Одним исключением является Пресненская набережная. Адрес этой набережной имеют небоскребы Москоу-сити.\n",
    "- Выполнена выгрузка информации о расположении улиц по районам из Open Street Map с помощью сервиса Overpass API;\n",
    "- Анализ показал, что районы, в которых находятся топ 10 улиц по количеству заведений расположены преимущественно вне центра, но внутри МКАДа.\n",
    "- 543 улицы имеют один единственный объект общественного питания.\n",
    "- Улицы с одним объектом преимущественно расположены в центральных районах.\n",
    "- Выделено топ-3 района по количеству заведений, расположенных на одной улице:\n",
    "    - Тагански район;\n",
    "    - Район Хамовники;\n",
    "    - Басманный район."
   ]
  },
  {
   "cell_type": "markdown",
   "metadata": {},
   "source": [
    "### Главные выводы и рекомендации"
   ]
  },
  {
   "cell_type": "markdown",
   "metadata": {},
   "source": [
    "Достаточно сложно что либо рекомендовать исходя из данных предоставленного датасета. Было бы неплохо изучить проходимость, конверсию, цены на аренду недвижимости и т.д. Если исходить из того, что инновация нового заведения это роботы официанты, преиущество которых отсутствие усталости и круглосуточная работа, то логично было бы сделвть заведение с большим количеством посадочных мест. Большое количество посадочных мест характерно для несетевых заведений или малых сетей, для столовых (однако, обычно в столовой официанты не нужны) и ресторанов. В рамках проекта был выделел топ-10 улиц по количеству заведений. Большое количество заведений на них может косвенно указывать на их популярность для посетилей. Здесь выделяется Пресненская набережная, котроая несмотря на свою небольшую протяженность имеет приличное число заведений питания из-за, расположенного на ней Москоу сити. Анализ расположения улиц с одним заведением по районам косвенно указывает на плотность заведений. Здесь лидируют три района: Таганский, Хамовники, Бассманный и все они центральные. Таким образом, рекомендуется придерживтся следующих позиций для открытия кафе с роботами официантами:\n",
    "- Заведение должно относится к несетевым или малым сетям.\n",
    "- Предпочтение отдается столовым и ресторанам.\n",
    "- Размещение желательно производить на крупных магистральных улицах/проспектах (проспект Мира, Профсоюзная улица) или в центральных районах, таких как, Таганский, Хамовники, Басманный."
   ]
  }
 ],
 "metadata": {
  "ExecuteTimeLog": [
   {
    "duration": 1361,
    "start_time": "2022-06-09T11:39:03.151Z"
   },
   {
    "duration": 313,
    "start_time": "2022-06-09T11:39:05.136Z"
   },
   {
    "duration": 4,
    "start_time": "2022-06-09T11:39:06.256Z"
   },
   {
    "duration": 55,
    "start_time": "2022-06-09T11:39:07.546Z"
   },
   {
    "duration": 99,
    "start_time": "2022-06-09T11:45:42.304Z"
   },
   {
    "duration": 13,
    "start_time": "2022-06-09T11:45:48.270Z"
   },
   {
    "duration": 534,
    "start_time": "2022-06-09T11:46:40.687Z"
   },
   {
    "duration": 500,
    "start_time": "2022-06-09T11:49:34.911Z"
   },
   {
    "duration": 10,
    "start_time": "2022-06-09T11:52:47.313Z"
   },
   {
    "duration": 502,
    "start_time": "2022-06-09T11:52:53.974Z"
   },
   {
    "duration": 473,
    "start_time": "2022-06-09T11:53:06.014Z"
   },
   {
    "duration": 476,
    "start_time": "2022-06-09T11:54:58.261Z"
   },
   {
    "duration": 494,
    "start_time": "2022-06-09T11:56:14.887Z"
   },
   {
    "duration": 38,
    "start_time": "2022-06-09T11:56:27.247Z"
   },
   {
    "duration": 514,
    "start_time": "2022-06-09T12:02:46.364Z"
   },
   {
    "duration": 488,
    "start_time": "2022-06-09T12:03:22.830Z"
   },
   {
    "duration": 574,
    "start_time": "2022-06-09T12:03:29.956Z"
   },
   {
    "duration": 458,
    "start_time": "2022-06-09T12:03:40.149Z"
   },
   {
    "duration": 480,
    "start_time": "2022-06-09T12:03:44.541Z"
   },
   {
    "duration": 3,
    "start_time": "2022-06-09T12:04:54.044Z"
   },
   {
    "duration": 473,
    "start_time": "2022-06-09T12:04:56.222Z"
   },
   {
    "duration": 465,
    "start_time": "2022-06-09T12:05:58.391Z"
   },
   {
    "duration": 473,
    "start_time": "2022-06-09T12:06:05.789Z"
   },
   {
    "duration": 488,
    "start_time": "2022-06-09T12:07:31.329Z"
   },
   {
    "duration": 457,
    "start_time": "2022-06-09T12:07:40.356Z"
   },
   {
    "duration": 520,
    "start_time": "2022-06-09T12:08:00.447Z"
   },
   {
    "duration": 27,
    "start_time": "2022-06-09T12:08:07.364Z"
   },
   {
    "duration": 25,
    "start_time": "2022-06-09T12:08:18.254Z"
   },
   {
    "duration": 506,
    "start_time": "2022-06-09T12:09:21.549Z"
   },
   {
    "duration": 479,
    "start_time": "2022-06-09T12:09:39.820Z"
   },
   {
    "duration": 18,
    "start_time": "2022-06-09T12:10:14.740Z"
   },
   {
    "duration": 569,
    "start_time": "2022-06-09T12:10:24.700Z"
   },
   {
    "duration": 15,
    "start_time": "2022-06-09T12:10:46.260Z"
   },
   {
    "duration": 499,
    "start_time": "2022-06-09T12:10:51.764Z"
   },
   {
    "duration": 29,
    "start_time": "2022-06-09T12:12:16.153Z"
   },
   {
    "duration": 27,
    "start_time": "2022-06-09T12:12:20.484Z"
   },
   {
    "duration": 466,
    "start_time": "2022-06-09T12:13:03.343Z"
   },
   {
    "duration": 496,
    "start_time": "2022-06-09T12:14:11.484Z"
   },
   {
    "duration": 27,
    "start_time": "2022-06-09T12:14:14.396Z"
   },
   {
    "duration": 497,
    "start_time": "2022-06-09T12:14:44.797Z"
   },
   {
    "duration": 52,
    "start_time": "2022-06-09T12:18:35.014Z"
   },
   {
    "duration": 524,
    "start_time": "2022-06-09T12:18:43.708Z"
   },
   {
    "duration": 527,
    "start_time": "2022-06-09T12:23:37.591Z"
   },
   {
    "duration": 502,
    "start_time": "2022-06-09T12:23:45.861Z"
   },
   {
    "duration": 538,
    "start_time": "2022-06-09T12:24:01.983Z"
   },
   {
    "duration": 500,
    "start_time": "2022-06-09T12:24:32.948Z"
   },
   {
    "duration": 498,
    "start_time": "2022-06-09T12:24:42.346Z"
   },
   {
    "duration": 648,
    "start_time": "2022-06-09T12:38:36.508Z"
   },
   {
    "duration": 534,
    "start_time": "2022-06-09T12:38:48.019Z"
   },
   {
    "duration": 540,
    "start_time": "2022-06-09T12:39:23.118Z"
   },
   {
    "duration": 5,
    "start_time": "2022-06-09T12:40:23.973Z"
   },
   {
    "duration": 11,
    "start_time": "2022-06-09T12:40:55.959Z"
   },
   {
    "duration": 12,
    "start_time": "2022-06-09T12:41:18.458Z"
   },
   {
    "duration": 22,
    "start_time": "2022-06-09T12:41:22.455Z"
   },
   {
    "duration": 9,
    "start_time": "2022-06-09T12:41:24.604Z"
   },
   {
    "duration": 9,
    "start_time": "2022-06-09T12:41:41.390Z"
   },
   {
    "duration": 7,
    "start_time": "2022-06-09T12:42:10.854Z"
   },
   {
    "duration": 10,
    "start_time": "2022-06-09T12:42:18.299Z"
   },
   {
    "duration": 13,
    "start_time": "2022-06-09T12:43:12.597Z"
   },
   {
    "duration": 23,
    "start_time": "2022-06-09T12:43:18.759Z"
   },
   {
    "duration": 1771,
    "start_time": "2022-06-09T12:43:24.187Z"
   },
   {
    "duration": 23,
    "start_time": "2022-06-09T12:44:09.967Z"
   },
   {
    "duration": 1710,
    "start_time": "2022-06-09T12:44:20.371Z"
   },
   {
    "duration": 1835,
    "start_time": "2022-06-09T12:44:34.270Z"
   },
   {
    "duration": 1750,
    "start_time": "2022-06-09T12:45:01.068Z"
   },
   {
    "duration": 34,
    "start_time": "2022-06-09T12:47:59.316Z"
   },
   {
    "duration": 17,
    "start_time": "2022-06-09T12:48:07.873Z"
   },
   {
    "duration": 27,
    "start_time": "2022-06-09T12:48:12.923Z"
   },
   {
    "duration": 17,
    "start_time": "2022-06-09T12:48:20.272Z"
   },
   {
    "duration": 10,
    "start_time": "2022-06-09T12:49:13.371Z"
   },
   {
    "duration": 18,
    "start_time": "2022-06-09T12:49:20.179Z"
   },
   {
    "duration": 19,
    "start_time": "2022-06-09T12:49:58.363Z"
   },
   {
    "duration": 18,
    "start_time": "2022-06-09T13:30:26.648Z"
   },
   {
    "duration": 17,
    "start_time": "2022-06-09T13:30:42.167Z"
   },
   {
    "duration": 4,
    "start_time": "2022-06-09T13:30:57.656Z"
   },
   {
    "duration": 101,
    "start_time": "2022-06-09T13:30:57.662Z"
   },
   {
    "duration": 5,
    "start_time": "2022-06-09T13:30:57.765Z"
   },
   {
    "duration": 68,
    "start_time": "2022-06-09T13:30:57.771Z"
   },
   {
    "duration": 21,
    "start_time": "2022-06-09T13:30:57.842Z"
   },
   {
    "duration": 11,
    "start_time": "2022-06-09T13:30:57.865Z"
   },
   {
    "duration": 9,
    "start_time": "2022-06-09T13:31:00.543Z"
   },
   {
    "duration": 1793,
    "start_time": "2022-06-09T13:31:12.541Z"
   },
   {
    "duration": 20,
    "start_time": "2022-06-09T13:36:11.303Z"
   },
   {
    "duration": 9,
    "start_time": "2022-06-09T14:33:34.654Z"
   },
   {
    "duration": 4,
    "start_time": "2022-06-09T14:33:41.107Z"
   },
   {
    "duration": 10,
    "start_time": "2022-06-09T14:33:41.460Z"
   },
   {
    "duration": 16,
    "start_time": "2022-06-09T14:41:59.848Z"
   },
   {
    "duration": 15,
    "start_time": "2022-06-09T14:42:10.547Z"
   },
   {
    "duration": 15,
    "start_time": "2022-06-09T14:42:26.049Z"
   },
   {
    "duration": 4,
    "start_time": "2022-06-09T14:42:34.201Z"
   },
   {
    "duration": 12,
    "start_time": "2022-06-09T14:43:33.197Z"
   },
   {
    "duration": 25,
    "start_time": "2022-06-09T14:43:41.444Z"
   },
   {
    "duration": 13,
    "start_time": "2022-06-09T14:43:55.180Z"
   },
   {
    "duration": 5,
    "start_time": "2022-06-09T14:44:25.256Z"
   },
   {
    "duration": 14,
    "start_time": "2022-06-09T14:53:16.334Z"
   },
   {
    "duration": 5,
    "start_time": "2022-06-09T14:53:17.903Z"
   },
   {
    "duration": 2,
    "start_time": "2022-06-09T14:53:31.498Z"
   },
   {
    "duration": 130,
    "start_time": "2022-06-09T14:53:31.502Z"
   },
   {
    "duration": 7,
    "start_time": "2022-06-09T14:53:31.635Z"
   },
   {
    "duration": 55,
    "start_time": "2022-06-09T14:53:31.643Z"
   },
   {
    "duration": 43,
    "start_time": "2022-06-09T14:53:31.700Z"
   },
   {
    "duration": 4,
    "start_time": "2022-06-09T14:53:31.744Z"
   },
   {
    "duration": 17,
    "start_time": "2022-06-09T14:53:35.367Z"
   },
   {
    "duration": 380,
    "start_time": "2022-06-09T14:53:36.641Z"
   },
   {
    "duration": 13,
    "start_time": "2022-06-09T14:53:45.561Z"
   },
   {
    "duration": 19,
    "start_time": "2022-06-09T14:53:51.001Z"
   },
   {
    "duration": 3,
    "start_time": "2022-06-09T14:55:38.447Z"
   },
   {
    "duration": 87,
    "start_time": "2022-06-09T14:55:38.452Z"
   },
   {
    "duration": 4,
    "start_time": "2022-06-09T14:55:38.542Z"
   },
   {
    "duration": 51,
    "start_time": "2022-06-09T14:55:38.548Z"
   },
   {
    "duration": 45,
    "start_time": "2022-06-09T14:55:38.601Z"
   },
   {
    "duration": 6,
    "start_time": "2022-06-09T14:55:38.648Z"
   },
   {
    "duration": 9,
    "start_time": "2022-06-09T14:55:40.889Z"
   },
   {
    "duration": 24,
    "start_time": "2022-06-09T14:55:41.607Z"
   },
   {
    "duration": 18,
    "start_time": "2022-06-09T14:55:47.265Z"
   },
   {
    "duration": 3,
    "start_time": "2022-06-09T14:58:17.567Z"
   },
   {
    "duration": 82,
    "start_time": "2022-06-09T14:58:17.572Z"
   },
   {
    "duration": 4,
    "start_time": "2022-06-09T14:58:17.655Z"
   },
   {
    "duration": 47,
    "start_time": "2022-06-09T14:58:17.661Z"
   },
   {
    "duration": 25,
    "start_time": "2022-06-09T14:58:17.726Z"
   },
   {
    "duration": 4,
    "start_time": "2022-06-09T14:58:17.752Z"
   },
   {
    "duration": 8,
    "start_time": "2022-06-09T14:58:20.402Z"
   },
   {
    "duration": 5,
    "start_time": "2022-06-09T14:58:21.848Z"
   },
   {
    "duration": 23,
    "start_time": "2022-06-09T14:58:26.448Z"
   },
   {
    "duration": 18,
    "start_time": "2022-06-09T14:59:41.617Z"
   },
   {
    "duration": 10,
    "start_time": "2022-06-09T15:00:07.699Z"
   },
   {
    "duration": 5,
    "start_time": "2022-06-09T15:00:17.886Z"
   },
   {
    "duration": 3,
    "start_time": "2022-06-09T15:00:50.085Z"
   },
   {
    "duration": 87,
    "start_time": "2022-06-09T15:00:50.093Z"
   },
   {
    "duration": 4,
    "start_time": "2022-06-09T15:00:50.182Z"
   },
   {
    "duration": 56,
    "start_time": "2022-06-09T15:00:50.187Z"
   },
   {
    "duration": 20,
    "start_time": "2022-06-09T15:00:50.246Z"
   },
   {
    "duration": 16,
    "start_time": "2022-06-09T15:00:53.690Z"
   },
   {
    "duration": 29,
    "start_time": "2022-06-09T15:00:55.122Z"
   },
   {
    "duration": 3,
    "start_time": "2022-06-09T15:01:32.363Z"
   },
   {
    "duration": 118,
    "start_time": "2022-06-09T15:01:32.368Z"
   },
   {
    "duration": 4,
    "start_time": "2022-06-09T15:01:32.488Z"
   },
   {
    "duration": 65,
    "start_time": "2022-06-09T15:01:32.494Z"
   },
   {
    "duration": 17,
    "start_time": "2022-06-09T15:01:32.561Z"
   },
   {
    "duration": 15,
    "start_time": "2022-06-09T15:01:32.580Z"
   },
   {
    "duration": 16,
    "start_time": "2022-06-09T15:01:34.980Z"
   },
   {
    "duration": 21,
    "start_time": "2022-06-09T15:01:35.962Z"
   },
   {
    "duration": 5,
    "start_time": "2022-06-09T15:01:52.338Z"
   },
   {
    "duration": 4,
    "start_time": "2022-06-09T15:02:00.072Z"
   },
   {
    "duration": 4,
    "start_time": "2022-06-09T15:02:04.109Z"
   },
   {
    "duration": 5,
    "start_time": "2022-06-09T15:02:10.657Z"
   },
   {
    "duration": 4,
    "start_time": "2022-06-09T15:02:13.168Z"
   },
   {
    "duration": 5,
    "start_time": "2022-06-09T15:03:09.441Z"
   },
   {
    "duration": 4,
    "start_time": "2022-06-09T15:03:12.865Z"
   },
   {
    "duration": 5,
    "start_time": "2022-06-09T15:03:16.706Z"
   },
   {
    "duration": 4,
    "start_time": "2022-06-09T15:03:25.994Z"
   },
   {
    "duration": 5,
    "start_time": "2022-06-09T15:03:30.933Z"
   },
   {
    "duration": 5,
    "start_time": "2022-06-09T15:03:37.454Z"
   },
   {
    "duration": 17,
    "start_time": "2022-06-09T15:03:39.842Z"
   },
   {
    "duration": 15,
    "start_time": "2022-06-09T15:03:41.544Z"
   },
   {
    "duration": 17,
    "start_time": "2022-06-09T15:03:57.954Z"
   },
   {
    "duration": 21,
    "start_time": "2022-06-09T15:03:58.375Z"
   },
   {
    "duration": 19,
    "start_time": "2022-06-09T15:04:05.214Z"
   },
   {
    "duration": 20,
    "start_time": "2022-06-09T15:04:05.551Z"
   },
   {
    "duration": 3,
    "start_time": "2022-06-09T15:04:16.310Z"
   },
   {
    "duration": 78,
    "start_time": "2022-06-09T15:04:16.316Z"
   },
   {
    "duration": 4,
    "start_time": "2022-06-09T15:04:16.395Z"
   },
   {
    "duration": 66,
    "start_time": "2022-06-09T15:04:16.401Z"
   },
   {
    "duration": 24,
    "start_time": "2022-06-09T15:04:16.469Z"
   },
   {
    "duration": 25,
    "start_time": "2022-06-09T15:04:18.921Z"
   },
   {
    "duration": 27,
    "start_time": "2022-06-09T15:04:19.415Z"
   },
   {
    "duration": 3,
    "start_time": "2022-06-09T15:05:12.412Z"
   },
   {
    "duration": 83,
    "start_time": "2022-06-09T15:05:12.417Z"
   },
   {
    "duration": 5,
    "start_time": "2022-06-09T15:05:12.502Z"
   },
   {
    "duration": 61,
    "start_time": "2022-06-09T15:05:12.508Z"
   },
   {
    "duration": 18,
    "start_time": "2022-06-09T15:05:12.571Z"
   },
   {
    "duration": 4,
    "start_time": "2022-06-09T15:05:14.098Z"
   },
   {
    "duration": 3,
    "start_time": "2022-06-09T15:05:18.175Z"
   },
   {
    "duration": 4,
    "start_time": "2022-06-09T15:05:25.209Z"
   },
   {
    "duration": 4,
    "start_time": "2022-06-09T15:05:25.599Z"
   },
   {
    "duration": 16,
    "start_time": "2022-06-09T15:05:32.391Z"
   },
   {
    "duration": 25,
    "start_time": "2022-06-09T15:05:33.025Z"
   },
   {
    "duration": 4,
    "start_time": "2022-06-09T15:05:37.248Z"
   },
   {
    "duration": 16,
    "start_time": "2022-06-09T15:05:57.896Z"
   },
   {
    "duration": 25,
    "start_time": "2022-06-09T15:05:58.400Z"
   },
   {
    "duration": 16,
    "start_time": "2022-06-09T15:06:00.643Z"
   },
   {
    "duration": 21,
    "start_time": "2022-06-09T15:06:01.002Z"
   },
   {
    "duration": 19,
    "start_time": "2022-06-09T15:06:03.031Z"
   },
   {
    "duration": 20,
    "start_time": "2022-06-09T15:06:03.392Z"
   },
   {
    "duration": 32,
    "start_time": "2022-06-09T15:06:18.608Z"
   },
   {
    "duration": 22,
    "start_time": "2022-06-09T15:06:18.976Z"
   },
   {
    "duration": 3,
    "start_time": "2022-06-09T15:06:22.960Z"
   },
   {
    "duration": 80,
    "start_time": "2022-06-09T15:06:22.965Z"
   },
   {
    "duration": 4,
    "start_time": "2022-06-09T15:06:23.047Z"
   },
   {
    "duration": 47,
    "start_time": "2022-06-09T15:06:23.053Z"
   },
   {
    "duration": 49,
    "start_time": "2022-06-09T15:06:23.102Z"
   },
   {
    "duration": 6,
    "start_time": "2022-06-09T15:06:23.152Z"
   },
   {
    "duration": 8,
    "start_time": "2022-06-09T15:06:23.160Z"
   },
   {
    "duration": 19,
    "start_time": "2022-06-09T15:06:23.169Z"
   },
   {
    "duration": 21,
    "start_time": "2022-06-09T15:06:25.760Z"
   },
   {
    "duration": 13,
    "start_time": "2022-06-09T15:06:26.896Z"
   },
   {
    "duration": 1270,
    "start_time": "2022-06-10T07:26:58.759Z"
   },
   {
    "duration": 168,
    "start_time": "2022-06-10T07:27:00.030Z"
   },
   {
    "duration": 4,
    "start_time": "2022-06-10T07:27:00.553Z"
   },
   {
    "duration": 38,
    "start_time": "2022-06-10T07:27:01.722Z"
   },
   {
    "duration": 26,
    "start_time": "2022-06-10T07:27:03.169Z"
   },
   {
    "duration": 3,
    "start_time": "2022-06-10T07:27:06.522Z"
   },
   {
    "duration": 4,
    "start_time": "2022-06-10T07:27:08.138Z"
   },
   {
    "duration": 111,
    "start_time": "2022-06-10T07:27:11.522Z"
   },
   {
    "duration": 33,
    "start_time": "2022-06-10T07:27:38.762Z"
   },
   {
    "duration": 26,
    "start_time": "2022-06-10T07:27:49.437Z"
   },
   {
    "duration": 23,
    "start_time": "2022-06-10T07:27:50.947Z"
   },
   {
    "duration": 4,
    "start_time": "2022-06-10T07:49:40.827Z"
   },
   {
    "duration": 80,
    "start_time": "2022-06-10T07:49:41.036Z"
   },
   {
    "duration": 5,
    "start_time": "2022-06-10T07:49:41.210Z"
   },
   {
    "duration": 42,
    "start_time": "2022-06-10T07:49:41.416Z"
   },
   {
    "duration": 15,
    "start_time": "2022-06-10T07:49:43.917Z"
   },
   {
    "duration": 4,
    "start_time": "2022-06-10T07:49:45.400Z"
   },
   {
    "duration": 2,
    "start_time": "2022-06-10T07:49:46.503Z"
   },
   {
    "duration": 2,
    "start_time": "2022-06-10T07:49:53.613Z"
   },
   {
    "duration": 4,
    "start_time": "2022-06-10T07:50:00.638Z"
   },
   {
    "duration": 3,
    "start_time": "2022-06-10T07:50:01.053Z"
   },
   {
    "duration": 13,
    "start_time": "2022-06-10T07:50:05.925Z"
   },
   {
    "duration": 16,
    "start_time": "2022-06-10T07:50:06.213Z"
   },
   {
    "duration": 12,
    "start_time": "2022-06-10T07:50:09.557Z"
   },
   {
    "duration": 16,
    "start_time": "2022-06-10T07:57:24.163Z"
   },
   {
    "duration": 14,
    "start_time": "2022-06-10T08:33:43.102Z"
   },
   {
    "duration": 76,
    "start_time": "2022-06-10T08:33:43.420Z"
   },
   {
    "duration": 4,
    "start_time": "2022-06-10T08:33:43.672Z"
   },
   {
    "duration": 34,
    "start_time": "2022-06-10T08:33:44.240Z"
   },
   {
    "duration": 30,
    "start_time": "2022-06-10T08:33:45.673Z"
   },
   {
    "duration": 31,
    "start_time": "2022-06-10T08:34:26.872Z"
   },
   {
    "duration": 55,
    "start_time": "2022-06-10T08:34:55.258Z"
   },
   {
    "duration": 6,
    "start_time": "2022-06-10T08:34:59.832Z"
   },
   {
    "duration": 10,
    "start_time": "2022-06-10T08:36:09.810Z"
   },
   {
    "duration": 5,
    "start_time": "2022-06-10T08:36:14.825Z"
   },
   {
    "duration": 18,
    "start_time": "2022-06-10T08:36:24.768Z"
   },
   {
    "duration": 6,
    "start_time": "2022-06-10T08:36:36.914Z"
   },
   {
    "duration": 4,
    "start_time": "2022-06-10T08:36:37.865Z"
   },
   {
    "duration": 12,
    "start_time": "2022-06-10T09:04:20.718Z"
   },
   {
    "duration": 4,
    "start_time": "2022-06-10T09:04:37.625Z"
   },
   {
    "duration": 3,
    "start_time": "2022-06-10T09:10:13.952Z"
   },
   {
    "duration": 35,
    "start_time": "2022-06-10T09:10:28.177Z"
   },
   {
    "duration": 7,
    "start_time": "2022-06-10T09:10:32.306Z"
   },
   {
    "duration": 13,
    "start_time": "2022-06-10T09:10:34.000Z"
   },
   {
    "duration": 1047,
    "start_time": "2022-06-10T09:11:29.699Z"
   },
   {
    "duration": 3,
    "start_time": "2022-06-10T09:13:36.023Z"
   },
   {
    "duration": 691,
    "start_time": "2022-06-10T09:13:36.723Z"
   },
   {
    "duration": 6,
    "start_time": "2022-06-10T09:14:24.205Z"
   },
   {
    "duration": 1200,
    "start_time": "2022-06-10T09:14:46.044Z"
   },
   {
    "duration": 4,
    "start_time": "2022-06-10T09:14:54.044Z"
   },
   {
    "duration": 47,
    "start_time": "2022-06-10T09:15:16.560Z"
   },
   {
    "duration": 12,
    "start_time": "2022-06-10T09:15:17.410Z"
   },
   {
    "duration": 4,
    "start_time": "2022-06-10T09:15:22.249Z"
   },
   {
    "duration": 10,
    "start_time": "2022-06-10T09:15:22.714Z"
   },
   {
    "duration": 81,
    "start_time": "2022-06-10T09:15:23.318Z"
   },
   {
    "duration": 5,
    "start_time": "2022-06-10T09:15:29.074Z"
   },
   {
    "duration": 229,
    "start_time": "2022-06-10T09:17:02.444Z"
   },
   {
    "duration": 225,
    "start_time": "2022-06-10T09:17:19.329Z"
   },
   {
    "duration": 231,
    "start_time": "2022-06-10T09:18:28.669Z"
   },
   {
    "duration": 9,
    "start_time": "2022-06-10T09:19:26.521Z"
   },
   {
    "duration": 8,
    "start_time": "2022-06-10T09:19:41.225Z"
   },
   {
    "duration": 210,
    "start_time": "2022-06-10T09:19:49.865Z"
   },
   {
    "duration": 242,
    "start_time": "2022-06-10T09:19:54.962Z"
   },
   {
    "duration": 207,
    "start_time": "2022-06-10T09:20:09.153Z"
   },
   {
    "duration": 246,
    "start_time": "2022-06-10T09:20:17.268Z"
   },
   {
    "duration": 222,
    "start_time": "2022-06-10T09:20:23.347Z"
   },
   {
    "duration": 9,
    "start_time": "2022-06-10T09:21:49.946Z"
   },
   {
    "duration": 8,
    "start_time": "2022-06-10T09:21:53.025Z"
   },
   {
    "duration": 13,
    "start_time": "2022-06-10T09:22:06.902Z"
   },
   {
    "duration": 3,
    "start_time": "2022-06-10T09:22:26.329Z"
   },
   {
    "duration": 114,
    "start_time": "2022-06-10T09:22:26.754Z"
   },
   {
    "duration": 6,
    "start_time": "2022-06-10T09:22:26.976Z"
   },
   {
    "duration": 37,
    "start_time": "2022-06-10T09:22:27.408Z"
   },
   {
    "duration": 9,
    "start_time": "2022-06-10T09:22:28.323Z"
   },
   {
    "duration": 9,
    "start_time": "2022-06-10T09:22:30.232Z"
   },
   {
    "duration": 10,
    "start_time": "2022-06-10T09:23:09.006Z"
   },
   {
    "duration": 3,
    "start_time": "2022-06-10T09:24:26.225Z"
   },
   {
    "duration": 4,
    "start_time": "2022-06-10T09:24:30.377Z"
   },
   {
    "duration": 64,
    "start_time": "2022-06-10T09:24:34.322Z"
   },
   {
    "duration": 3,
    "start_time": "2022-06-10T09:24:34.641Z"
   },
   {
    "duration": 37,
    "start_time": "2022-06-10T09:24:34.906Z"
   },
   {
    "duration": 13,
    "start_time": "2022-06-10T09:24:35.701Z"
   },
   {
    "duration": 223,
    "start_time": "2022-06-10T09:24:37.265Z"
   },
   {
    "duration": 72,
    "start_time": "2022-06-10T09:24:47.695Z"
   },
   {
    "duration": 32,
    "start_time": "2022-06-10T09:24:53.434Z"
   },
   {
    "duration": 325,
    "start_time": "2022-06-10T09:24:58.089Z"
   },
   {
    "duration": 222,
    "start_time": "2022-06-10T09:25:03.513Z"
   },
   {
    "duration": 203,
    "start_time": "2022-06-10T09:36:49.375Z"
   },
   {
    "duration": 205,
    "start_time": "2022-06-10T09:36:56.491Z"
   },
   {
    "duration": 215,
    "start_time": "2022-06-10T09:37:01.031Z"
   },
   {
    "duration": 219,
    "start_time": "2022-06-10T09:37:22.791Z"
   },
   {
    "duration": 198,
    "start_time": "2022-06-10T09:37:31.711Z"
   },
   {
    "duration": 258,
    "start_time": "2022-06-10T09:37:47.590Z"
   },
   {
    "duration": 211,
    "start_time": "2022-06-10T09:37:59.238Z"
   },
   {
    "duration": 158,
    "start_time": "2022-06-10T09:38:46.950Z"
   },
   {
    "duration": 172,
    "start_time": "2022-06-10T09:40:06.751Z"
   },
   {
    "duration": 321,
    "start_time": "2022-06-10T09:40:26.776Z"
   },
   {
    "duration": 1676,
    "start_time": "2022-06-10T09:41:02.249Z"
   },
   {
    "duration": 34,
    "start_time": "2022-06-10T09:42:07.327Z"
   },
   {
    "duration": 282,
    "start_time": "2022-06-10T09:42:15.022Z"
   },
   {
    "duration": 242,
    "start_time": "2022-06-10T09:46:35.191Z"
   },
   {
    "duration": 242,
    "start_time": "2022-06-10T09:46:41.506Z"
   },
   {
    "duration": 221,
    "start_time": "2022-06-10T09:46:44.639Z"
   },
   {
    "duration": 287,
    "start_time": "2022-06-10T09:48:44.248Z"
   },
   {
    "duration": 22,
    "start_time": "2022-06-10T09:54:29.122Z"
   },
   {
    "duration": 22,
    "start_time": "2022-06-10T09:54:45.120Z"
   },
   {
    "duration": 334,
    "start_time": "2022-06-10T09:54:51.215Z"
   },
   {
    "duration": 22,
    "start_time": "2022-06-10T09:55:01.193Z"
   },
   {
    "duration": 25,
    "start_time": "2022-06-10T09:55:08.713Z"
   },
   {
    "duration": 4,
    "start_time": "2022-06-10T09:55:13.670Z"
   },
   {
    "duration": 228,
    "start_time": "2022-06-10T09:55:13.676Z"
   },
   {
    "duration": 12,
    "start_time": "2022-06-10T09:55:13.909Z"
   },
   {
    "duration": 98,
    "start_time": "2022-06-10T09:55:13.927Z"
   },
   {
    "duration": 61,
    "start_time": "2022-06-10T09:55:14.027Z"
   },
   {
    "duration": 369,
    "start_time": "2022-06-10T09:55:14.091Z"
   },
   {
    "duration": 2197,
    "start_time": "2022-06-10T09:55:14.461Z"
   },
   {
    "duration": 8,
    "start_time": "2022-06-10T09:55:16.659Z"
   },
   {
    "duration": 78,
    "start_time": "2022-06-10T09:55:16.678Z"
   },
   {
    "duration": 12,
    "start_time": "2022-06-10T09:55:16.758Z"
   },
   {
    "duration": 81,
    "start_time": "2022-06-10T09:55:16.771Z"
   },
   {
    "duration": 83,
    "start_time": "2022-06-10T09:55:16.854Z"
   },
   {
    "duration": 452,
    "start_time": "2022-06-10T09:55:19.830Z"
   },
   {
    "duration": 385,
    "start_time": "2022-06-10T09:56:00.541Z"
   },
   {
    "duration": 365,
    "start_time": "2022-06-10T09:57:01.512Z"
   },
   {
    "duration": 363,
    "start_time": "2022-06-10T09:57:06.794Z"
   },
   {
    "duration": 372,
    "start_time": "2022-06-10T09:57:10.438Z"
   },
   {
    "duration": 381,
    "start_time": "2022-06-10T09:57:16.469Z"
   },
   {
    "duration": 411,
    "start_time": "2022-06-10T09:57:20.522Z"
   },
   {
    "duration": 35,
    "start_time": "2022-06-10T09:57:46.439Z"
   },
   {
    "duration": 198,
    "start_time": "2022-06-10T09:57:49.349Z"
   },
   {
    "duration": 182,
    "start_time": "2022-06-10T09:58:31.704Z"
   },
   {
    "duration": 170,
    "start_time": "2022-06-10T09:59:52.622Z"
   },
   {
    "duration": 361,
    "start_time": "2022-06-10T10:01:36.867Z"
   },
   {
    "duration": 12,
    "start_time": "2022-06-10T13:15:26.354Z"
   },
   {
    "duration": 10,
    "start_time": "2022-06-10T13:15:33.250Z"
   },
   {
    "duration": 13,
    "start_time": "2022-06-10T13:19:48.234Z"
   },
   {
    "duration": 8,
    "start_time": "2022-06-10T13:19:56.793Z"
   },
   {
    "duration": 11,
    "start_time": "2022-06-10T13:20:19.234Z"
   },
   {
    "duration": 63,
    "start_time": "2022-06-10T13:20:38.851Z"
   },
   {
    "duration": 8,
    "start_time": "2022-06-10T13:20:41.962Z"
   },
   {
    "duration": 50,
    "start_time": "2022-06-10T13:24:00.919Z"
   },
   {
    "duration": 6,
    "start_time": "2022-06-10T13:24:07.132Z"
   },
   {
    "duration": 3,
    "start_time": "2022-06-10T13:24:32.201Z"
   },
   {
    "duration": 118,
    "start_time": "2022-06-10T13:24:32.206Z"
   },
   {
    "duration": 5,
    "start_time": "2022-06-10T13:24:32.325Z"
   },
   {
    "duration": 53,
    "start_time": "2022-06-10T13:24:32.331Z"
   },
   {
    "duration": 113,
    "start_time": "2022-06-10T13:24:32.387Z"
   },
   {
    "duration": 233,
    "start_time": "2022-06-10T13:24:32.501Z"
   },
   {
    "duration": 18,
    "start_time": "2022-06-10T13:24:32.736Z"
   },
   {
    "duration": 4,
    "start_time": "2022-06-10T13:24:32.755Z"
   },
   {
    "duration": 3,
    "start_time": "2022-06-10T13:24:32.777Z"
   },
   {
    "duration": 50,
    "start_time": "2022-06-10T13:24:32.782Z"
   },
   {
    "duration": 277,
    "start_time": "2022-06-10T13:24:32.834Z"
   },
   {
    "duration": 53,
    "start_time": "2022-06-10T13:24:39.138Z"
   },
   {
    "duration": 436,
    "start_time": "2022-06-10T13:24:39.984Z"
   },
   {
    "duration": 5,
    "start_time": "2022-06-10T13:24:45.393Z"
   },
   {
    "duration": 15,
    "start_time": "2022-06-10T13:24:49.634Z"
   },
   {
    "duration": 141,
    "start_time": "2022-06-10T13:26:07.656Z"
   },
   {
    "duration": 128,
    "start_time": "2022-06-10T13:26:18.089Z"
   },
   {
    "duration": 31701,
    "start_time": "2022-06-10T13:26:30.897Z"
   },
   {
    "duration": 187,
    "start_time": "2022-06-10T13:30:26.800Z"
   },
   {
    "duration": 5,
    "start_time": "2022-06-10T13:41:19.797Z"
   },
   {
    "duration": 184,
    "start_time": "2022-06-10T13:41:23.793Z"
   },
   {
    "duration": 199,
    "start_time": "2022-06-10T13:44:08.730Z"
   },
   {
    "duration": 207,
    "start_time": "2022-06-10T13:44:13.313Z"
   },
   {
    "duration": 829,
    "start_time": "2022-06-10T13:45:03.449Z"
   },
   {
    "duration": 779,
    "start_time": "2022-06-10T13:45:15.449Z"
   },
   {
    "duration": 946,
    "start_time": "2022-06-10T13:45:22.864Z"
   },
   {
    "duration": 212,
    "start_time": "2022-06-10T13:45:36.279Z"
   },
   {
    "duration": 204,
    "start_time": "2022-06-10T13:45:39.100Z"
   },
   {
    "duration": 203,
    "start_time": "2022-06-10T13:45:42.529Z"
   },
   {
    "duration": 5,
    "start_time": "2022-06-10T13:46:02.833Z"
   },
   {
    "duration": 243,
    "start_time": "2022-06-10T13:46:03.272Z"
   },
   {
    "duration": 351,
    "start_time": "2022-06-10T14:01:58.252Z"
   },
   {
    "duration": 396,
    "start_time": "2022-06-10T14:02:06.579Z"
   },
   {
    "duration": 17,
    "start_time": "2022-06-10T14:02:21.777Z"
   },
   {
    "duration": 10,
    "start_time": "2022-06-10T14:02:25.888Z"
   },
   {
    "duration": 16,
    "start_time": "2022-06-10T14:02:45.113Z"
   },
   {
    "duration": 419,
    "start_time": "2022-06-10T14:03:03.592Z"
   },
   {
    "duration": 530,
    "start_time": "2022-06-10T14:03:37.527Z"
   },
   {
    "duration": 620,
    "start_time": "2022-06-10T14:03:45.071Z"
   },
   {
    "duration": 456,
    "start_time": "2022-06-10T14:03:49.313Z"
   },
   {
    "duration": 427,
    "start_time": "2022-06-10T14:03:53.118Z"
   },
   {
    "duration": 410,
    "start_time": "2022-06-10T14:06:20.840Z"
   },
   {
    "duration": 399,
    "start_time": "2022-06-10T14:06:30.559Z"
   },
   {
    "duration": 392,
    "start_time": "2022-06-10T14:08:17.760Z"
   },
   {
    "duration": 1418,
    "start_time": "2022-06-13T19:31:38.032Z"
   },
   {
    "duration": 568,
    "start_time": "2022-06-13T19:31:39.452Z"
   },
   {
    "duration": 5,
    "start_time": "2022-06-13T19:31:40.021Z"
   },
   {
    "duration": 58,
    "start_time": "2022-06-13T19:31:40.029Z"
   },
   {
    "duration": 10,
    "start_time": "2022-06-13T19:31:40.089Z"
   },
   {
    "duration": 13,
    "start_time": "2022-06-13T19:31:40.101Z"
   },
   {
    "duration": 300,
    "start_time": "2022-06-13T19:31:40.116Z"
   },
   {
    "duration": 18,
    "start_time": "2022-06-13T19:31:40.418Z"
   },
   {
    "duration": 4,
    "start_time": "2022-06-13T19:31:40.437Z"
   },
   {
    "duration": 5,
    "start_time": "2022-06-13T19:31:40.464Z"
   },
   {
    "duration": 81,
    "start_time": "2022-06-13T19:31:40.470Z"
   },
   {
    "duration": 33,
    "start_time": "2022-06-13T19:31:40.553Z"
   },
   {
    "duration": 340,
    "start_time": "2022-06-13T19:31:40.588Z"
   },
   {
    "duration": 230,
    "start_time": "2022-06-13T19:31:40.930Z"
   },
   {
    "duration": 23,
    "start_time": "2022-06-13T19:31:41.161Z"
   },
   {
    "duration": 245,
    "start_time": "2022-06-13T19:31:41.186Z"
   },
   {
    "duration": 9,
    "start_time": "2022-06-13T19:31:41.433Z"
   },
   {
    "duration": 13,
    "start_time": "2022-06-13T19:31:41.468Z"
   },
   {
    "duration": 8,
    "start_time": "2022-06-13T19:31:41.482Z"
   },
   {
    "duration": 306,
    "start_time": "2022-06-13T19:31:41.491Z"
   },
   {
    "duration": 85,
    "start_time": "2022-06-13T19:31:41.799Z"
   },
   {
    "duration": 504,
    "start_time": "2022-06-13T19:31:41.887Z"
   },
   {
    "duration": 7,
    "start_time": "2022-06-13T19:31:42.393Z"
   },
   {
    "duration": 102,
    "start_time": "2022-06-13T19:31:42.402Z"
   },
   {
    "duration": 15,
    "start_time": "2022-06-13T19:31:42.506Z"
   },
   {
    "duration": 289,
    "start_time": "2022-06-13T19:31:42.522Z"
   },
   {
    "duration": 6,
    "start_time": "2022-06-13T19:31:42.813Z"
   },
   {
    "duration": 12,
    "start_time": "2022-06-13T19:31:42.822Z"
   },
   {
    "duration": 1228,
    "start_time": "2022-06-14T11:55:31.840Z"
   },
   {
    "duration": 77,
    "start_time": "2022-06-14T11:55:33.070Z"
   },
   {
    "duration": 4,
    "start_time": "2022-06-14T11:55:33.149Z"
   },
   {
    "duration": 83,
    "start_time": "2022-06-14T11:55:33.155Z"
   },
   {
    "duration": 15,
    "start_time": "2022-06-14T11:55:33.241Z"
   },
   {
    "duration": 32,
    "start_time": "2022-06-14T11:55:33.258Z"
   },
   {
    "duration": 312,
    "start_time": "2022-06-14T11:55:33.291Z"
   },
   {
    "duration": 20,
    "start_time": "2022-06-14T11:55:33.604Z"
   },
   {
    "duration": 15,
    "start_time": "2022-06-14T11:55:33.638Z"
   },
   {
    "duration": 8,
    "start_time": "2022-06-14T11:55:33.655Z"
   },
   {
    "duration": 75,
    "start_time": "2022-06-14T11:55:33.664Z"
   },
   {
    "duration": 28,
    "start_time": "2022-06-14T11:55:33.741Z"
   },
   {
    "duration": 372,
    "start_time": "2022-06-14T11:55:33.771Z"
   },
   {
    "duration": 213,
    "start_time": "2022-06-14T11:55:34.145Z"
   },
   {
    "duration": 21,
    "start_time": "2022-06-14T11:55:34.360Z"
   },
   {
    "duration": 318,
    "start_time": "2022-06-14T11:55:34.383Z"
   },
   {
    "duration": 9,
    "start_time": "2022-06-14T11:55:34.703Z"
   },
   {
    "duration": 38,
    "start_time": "2022-06-14T11:55:34.714Z"
   },
   {
    "duration": 29,
    "start_time": "2022-06-14T11:55:34.753Z"
   },
   {
    "duration": 297,
    "start_time": "2022-06-14T11:55:34.784Z"
   },
   {
    "duration": 56,
    "start_time": "2022-06-14T11:55:35.084Z"
   },
   {
    "duration": 524,
    "start_time": "2022-06-14T11:55:35.143Z"
   },
   {
    "duration": 5,
    "start_time": "2022-06-14T11:55:35.670Z"
   },
   {
    "duration": 91,
    "start_time": "2022-06-14T11:55:35.677Z"
   },
   {
    "duration": 13,
    "start_time": "2022-06-14T11:55:35.770Z"
   },
   {
    "duration": 285,
    "start_time": "2022-06-14T11:55:35.785Z"
   },
   {
    "duration": 6,
    "start_time": "2022-06-14T11:55:36.071Z"
   },
   {
    "duration": 33,
    "start_time": "2022-06-14T11:55:36.079Z"
   },
   {
    "duration": 4,
    "start_time": "2022-06-14T12:46:26.365Z"
   },
   {
    "duration": 4,
    "start_time": "2022-06-14T12:46:33.668Z"
   },
   {
    "duration": 5,
    "start_time": "2022-06-14T12:46:57.781Z"
   },
   {
    "duration": 21,
    "start_time": "2022-06-14T12:47:23.114Z"
   },
   {
    "duration": 9,
    "start_time": "2022-06-14T12:47:42.539Z"
   },
   {
    "duration": 12,
    "start_time": "2022-06-14T12:47:55.232Z"
   },
   {
    "duration": 5,
    "start_time": "2022-06-14T12:52:20.001Z"
   },
   {
    "duration": 5,
    "start_time": "2022-06-14T12:54:58.065Z"
   },
   {
    "duration": 32,
    "start_time": "2022-06-14T12:55:08.742Z"
   },
   {
    "duration": 5,
    "start_time": "2022-06-14T12:55:26.596Z"
   },
   {
    "duration": 22,
    "start_time": "2022-06-14T12:55:47.218Z"
   },
   {
    "duration": 18,
    "start_time": "2022-06-14T12:55:59.883Z"
   },
   {
    "duration": 18,
    "start_time": "2022-06-14T12:57:19.151Z"
   },
   {
    "duration": 39,
    "start_time": "2022-06-14T13:01:49.869Z"
   },
   {
    "duration": 102,
    "start_time": "2022-06-14T13:06:40.655Z"
   },
   {
    "duration": 466,
    "start_time": "2022-06-14T13:07:27.930Z"
   },
   {
    "duration": 7,
    "start_time": "2022-06-14T13:07:40.493Z"
   },
   {
    "duration": 5,
    "start_time": "2022-06-14T13:08:15.847Z"
   },
   {
    "duration": 109,
    "start_time": "2022-06-14T13:21:07.653Z"
   },
   {
    "duration": 16,
    "start_time": "2022-06-14T13:27:10.986Z"
   },
   {
    "duration": 13,
    "start_time": "2022-06-14T13:27:22.814Z"
   },
   {
    "duration": 5,
    "start_time": "2022-06-14T13:27:43.137Z"
   },
   {
    "duration": 15,
    "start_time": "2022-06-14T13:28:11.449Z"
   },
   {
    "duration": 55,
    "start_time": "2022-06-14T14:33:37.850Z"
   },
   {
    "duration": 1266,
    "start_time": "2022-06-14T14:33:41.011Z"
   },
   {
    "duration": 270,
    "start_time": "2022-06-14T14:33:42.280Z"
   },
   {
    "duration": 4,
    "start_time": "2022-06-14T14:33:42.552Z"
   },
   {
    "duration": 66,
    "start_time": "2022-06-14T14:33:42.558Z"
   },
   {
    "duration": 11,
    "start_time": "2022-06-14T14:33:42.626Z"
   },
   {
    "duration": 11,
    "start_time": "2022-06-14T14:33:44.996Z"
   },
   {
    "duration": 21,
    "start_time": "2022-06-14T14:33:51.368Z"
   },
   {
    "duration": 4,
    "start_time": "2022-06-14T14:36:22.494Z"
   },
   {
    "duration": 64,
    "start_time": "2022-06-14T14:36:46.156Z"
   },
   {
    "duration": 4,
    "start_time": "2022-06-14T14:36:51.990Z"
   },
   {
    "duration": 4,
    "start_time": "2022-06-14T14:37:01.099Z"
   },
   {
    "duration": 14,
    "start_time": "2022-06-14T14:37:07.499Z"
   },
   {
    "duration": 6,
    "start_time": "2022-06-14T14:38:35.295Z"
   },
   {
    "duration": 22,
    "start_time": "2022-06-14T14:38:52.988Z"
   },
   {
    "duration": 19,
    "start_time": "2022-06-14T14:41:45.388Z"
   },
   {
    "duration": 18,
    "start_time": "2022-06-14T14:42:43.174Z"
   },
   {
    "duration": 3,
    "start_time": "2022-06-14T14:44:05.803Z"
   },
   {
    "duration": 76,
    "start_time": "2022-06-14T14:44:05.808Z"
   },
   {
    "duration": 4,
    "start_time": "2022-06-14T14:44:05.886Z"
   },
   {
    "duration": 57,
    "start_time": "2022-06-14T14:44:05.892Z"
   },
   {
    "duration": 26,
    "start_time": "2022-06-14T14:44:05.952Z"
   },
   {
    "duration": 12,
    "start_time": "2022-06-14T14:53:20.419Z"
   },
   {
    "duration": 21,
    "start_time": "2022-06-14T14:53:36.643Z"
   },
   {
    "duration": 6,
    "start_time": "2022-06-14T14:55:44.745Z"
   },
   {
    "duration": 16,
    "start_time": "2022-06-14T14:56:09.794Z"
   },
   {
    "duration": 23,
    "start_time": "2022-06-14T14:56:11.726Z"
   },
   {
    "duration": 5,
    "start_time": "2022-06-14T15:10:05.074Z"
   },
   {
    "duration": 19,
    "start_time": "2022-06-14T15:10:13.537Z"
   },
   {
    "duration": 17,
    "start_time": "2022-06-14T15:10:18.724Z"
   },
   {
    "duration": 27,
    "start_time": "2022-06-14T15:11:04.743Z"
   },
   {
    "duration": 4,
    "start_time": "2022-06-14T15:14:16.539Z"
   },
   {
    "duration": 20,
    "start_time": "2022-06-14T15:14:33.875Z"
   },
   {
    "duration": 19,
    "start_time": "2022-06-14T15:14:52.571Z"
   },
   {
    "duration": 24,
    "start_time": "2022-06-14T15:38:33.571Z"
   },
   {
    "duration": 18,
    "start_time": "2022-06-14T15:38:39.020Z"
   },
   {
    "duration": 20,
    "start_time": "2022-06-14T15:38:49.465Z"
   },
   {
    "duration": 18,
    "start_time": "2022-06-14T15:38:52.673Z"
   },
   {
    "duration": 288,
    "start_time": "2022-06-14T15:43:23.123Z"
   },
   {
    "duration": 252,
    "start_time": "2022-06-14T15:43:31.186Z"
   },
   {
    "duration": 225,
    "start_time": "2022-06-14T15:43:47.878Z"
   },
   {
    "duration": 9,
    "start_time": "2022-06-14T15:44:58.019Z"
   },
   {
    "duration": 9,
    "start_time": "2022-06-14T15:45:01.342Z"
   },
   {
    "duration": 5,
    "start_time": "2022-06-14T15:45:01.776Z"
   },
   {
    "duration": 193,
    "start_time": "2022-06-14T15:45:14.942Z"
   },
   {
    "duration": 224,
    "start_time": "2022-06-14T15:48:23.163Z"
   },
   {
    "duration": 225,
    "start_time": "2022-06-14T15:49:07.922Z"
   },
   {
    "duration": 14,
    "start_time": "2022-06-14T15:50:24.595Z"
   },
   {
    "duration": 8,
    "start_time": "2022-06-14T15:51:01.609Z"
   },
   {
    "duration": 11,
    "start_time": "2022-06-14T15:51:10.957Z"
   },
   {
    "duration": 19,
    "start_time": "2022-06-14T15:53:55.037Z"
   },
   {
    "duration": 13,
    "start_time": "2022-06-14T15:54:13.745Z"
   },
   {
    "duration": 7,
    "start_time": "2022-06-14T16:00:28.328Z"
   },
   {
    "duration": 6,
    "start_time": "2022-06-14T16:00:37.526Z"
   },
   {
    "duration": 8,
    "start_time": "2022-06-14T16:02:24.487Z"
   },
   {
    "duration": 6,
    "start_time": "2022-06-14T16:02:29.803Z"
   },
   {
    "duration": 5,
    "start_time": "2022-06-14T16:02:44.359Z"
   },
   {
    "duration": 4,
    "start_time": "2022-06-14T16:02:50.673Z"
   },
   {
    "duration": 7,
    "start_time": "2022-06-14T16:02:56.149Z"
   },
   {
    "duration": 9,
    "start_time": "2022-06-14T16:04:16.794Z"
   },
   {
    "duration": 16,
    "start_time": "2022-06-14T16:04:22.776Z"
   },
   {
    "duration": 3,
    "start_time": "2022-06-14T16:04:51.263Z"
   },
   {
    "duration": 102,
    "start_time": "2022-06-14T16:04:51.268Z"
   },
   {
    "duration": 4,
    "start_time": "2022-06-14T16:04:51.372Z"
   },
   {
    "duration": 43,
    "start_time": "2022-06-14T16:04:51.378Z"
   },
   {
    "duration": 44,
    "start_time": "2022-06-14T16:04:51.423Z"
   },
   {
    "duration": 99,
    "start_time": "2022-06-14T16:04:51.469Z"
   },
   {
    "duration": 14,
    "start_time": "2022-06-14T16:04:51.569Z"
   },
   {
    "duration": 5,
    "start_time": "2022-06-14T16:04:51.584Z"
   },
   {
    "duration": 13,
    "start_time": "2022-06-14T16:04:51.591Z"
   },
   {
    "duration": 8,
    "start_time": "2022-06-14T16:04:53.446Z"
   },
   {
    "duration": 12,
    "start_time": "2022-06-14T16:04:54.286Z"
   },
   {
    "duration": 13,
    "start_time": "2022-06-14T16:04:54.719Z"
   },
   {
    "duration": 3,
    "start_time": "2022-06-14T16:05:14.600Z"
   },
   {
    "duration": 76,
    "start_time": "2022-06-14T16:05:14.942Z"
   },
   {
    "duration": 4,
    "start_time": "2022-06-14T16:05:15.198Z"
   },
   {
    "duration": 40,
    "start_time": "2022-06-14T16:05:16.392Z"
   },
   {
    "duration": 25,
    "start_time": "2022-06-14T16:05:18.574Z"
   },
   {
    "duration": 17,
    "start_time": "2022-06-14T16:05:23.042Z"
   },
   {
    "duration": 15,
    "start_time": "2022-06-14T16:05:39.502Z"
   },
   {
    "duration": 17,
    "start_time": "2022-06-14T16:05:42.317Z"
   },
   {
    "duration": 15,
    "start_time": "2022-06-14T16:05:43.407Z"
   },
   {
    "duration": 5,
    "start_time": "2022-06-14T16:05:44.534Z"
   },
   {
    "duration": 7,
    "start_time": "2022-06-14T16:05:47.094Z"
   },
   {
    "duration": 13,
    "start_time": "2022-06-14T16:06:10.362Z"
   },
   {
    "duration": 10,
    "start_time": "2022-06-14T16:06:21.066Z"
   },
   {
    "duration": 9,
    "start_time": "2022-06-14T16:06:22.823Z"
   },
   {
    "duration": 8,
    "start_time": "2022-06-14T16:06:23.855Z"
   },
   {
    "duration": 211,
    "start_time": "2022-06-14T16:06:24.919Z"
   },
   {
    "duration": 229,
    "start_time": "2022-06-14T16:06:35.537Z"
   },
   {
    "duration": 277,
    "start_time": "2022-06-14T16:06:59.046Z"
   },
   {
    "duration": 21,
    "start_time": "2022-06-14T16:07:23.680Z"
   },
   {
    "duration": 258,
    "start_time": "2022-06-14T16:07:28.054Z"
   },
   {
    "duration": 274,
    "start_time": "2022-06-14T16:08:15.593Z"
   },
   {
    "duration": 288,
    "start_time": "2022-06-14T16:08:23.407Z"
   },
   {
    "duration": 277,
    "start_time": "2022-06-14T16:08:29.215Z"
   },
   {
    "duration": 7,
    "start_time": "2022-06-14T16:11:00.868Z"
   },
   {
    "duration": 9,
    "start_time": "2022-06-14T16:11:12.822Z"
   },
   {
    "duration": 7,
    "start_time": "2022-06-14T16:11:36.911Z"
   },
   {
    "duration": 8,
    "start_time": "2022-06-14T16:11:51.669Z"
   },
   {
    "duration": 244,
    "start_time": "2022-06-14T16:12:43.283Z"
   },
   {
    "duration": 193,
    "start_time": "2022-06-14T16:12:54.551Z"
   },
   {
    "duration": 284,
    "start_time": "2022-06-14T16:13:38.846Z"
   },
   {
    "duration": 337,
    "start_time": "2022-06-14T16:13:58.630Z"
   },
   {
    "duration": 157,
    "start_time": "2022-06-14T16:16:18.018Z"
   },
   {
    "duration": 223,
    "start_time": "2022-06-14T16:16:22.149Z"
   },
   {
    "duration": 19,
    "start_time": "2022-06-14T16:29:45.771Z"
   },
   {
    "duration": 4,
    "start_time": "2022-06-14T16:29:46.360Z"
   },
   {
    "duration": 3,
    "start_time": "2022-06-14T16:29:46.864Z"
   },
   {
    "duration": 55,
    "start_time": "2022-06-14T16:29:47.920Z"
   },
   {
    "duration": 7,
    "start_time": "2022-06-14T16:29:57.160Z"
   },
   {
    "duration": 1365,
    "start_time": "2022-06-14T19:36:00.006Z"
   },
   {
    "duration": 246,
    "start_time": "2022-06-14T19:36:01.373Z"
   },
   {
    "duration": 3,
    "start_time": "2022-06-14T19:36:01.621Z"
   },
   {
    "duration": 73,
    "start_time": "2022-06-14T19:36:01.627Z"
   },
   {
    "duration": 20,
    "start_time": "2022-06-14T19:36:01.702Z"
   },
   {
    "duration": 18,
    "start_time": "2022-06-14T19:36:01.724Z"
   },
   {
    "duration": 24,
    "start_time": "2022-06-14T19:36:01.764Z"
   },
   {
    "duration": 17,
    "start_time": "2022-06-14T19:36:01.790Z"
   },
   {
    "duration": 15,
    "start_time": "2022-06-14T19:36:01.809Z"
   },
   {
    "duration": 19,
    "start_time": "2022-06-14T19:36:01.827Z"
   },
   {
    "duration": 301,
    "start_time": "2022-06-14T19:36:01.847Z"
   },
   {
    "duration": 15,
    "start_time": "2022-06-14T19:36:02.150Z"
   },
   {
    "duration": 21,
    "start_time": "2022-06-14T19:36:02.167Z"
   },
   {
    "duration": 4,
    "start_time": "2022-06-14T19:36:02.191Z"
   },
   {
    "duration": 4,
    "start_time": "2022-06-14T19:36:04.695Z"
   },
   {
    "duration": 3,
    "start_time": "2022-06-14T19:36:06.815Z"
   },
   {
    "duration": 67,
    "start_time": "2022-06-14T19:36:08.566Z"
   },
   {
    "duration": 8,
    "start_time": "2022-06-14T19:36:09.123Z"
   },
   {
    "duration": 2,
    "start_time": "2022-06-14T19:36:15.816Z"
   },
   {
    "duration": 69,
    "start_time": "2022-06-14T19:36:16.522Z"
   },
   {
    "duration": 7,
    "start_time": "2022-06-14T19:36:16.837Z"
   },
   {
    "duration": 4,
    "start_time": "2022-06-14T19:36:28.874Z"
   },
   {
    "duration": 76,
    "start_time": "2022-06-14T19:36:29.539Z"
   },
   {
    "duration": 8,
    "start_time": "2022-06-14T19:36:29.946Z"
   },
   {
    "duration": 5,
    "start_time": "2022-06-14T19:36:39.272Z"
   },
   {
    "duration": 58,
    "start_time": "2022-06-14T19:36:40.123Z"
   },
   {
    "duration": 6,
    "start_time": "2022-06-14T19:36:40.415Z"
   },
   {
    "duration": 3,
    "start_time": "2022-06-14T19:36:46.658Z"
   },
   {
    "duration": 63,
    "start_time": "2022-06-14T19:36:47.334Z"
   },
   {
    "duration": 7,
    "start_time": "2022-06-14T19:36:47.662Z"
   },
   {
    "duration": 3,
    "start_time": "2022-06-14T19:36:53.734Z"
   },
   {
    "duration": 59,
    "start_time": "2022-06-14T19:36:54.523Z"
   },
   {
    "duration": 8,
    "start_time": "2022-06-14T19:36:54.849Z"
   },
   {
    "duration": 33,
    "start_time": "2022-06-14T19:38:30.077Z"
   },
   {
    "duration": 24,
    "start_time": "2022-06-14T19:39:22.594Z"
   },
   {
    "duration": 3,
    "start_time": "2022-06-14T19:39:28.148Z"
   },
   {
    "duration": 4,
    "start_time": "2022-06-14T19:39:30.903Z"
   },
   {
    "duration": 3,
    "start_time": "2022-06-14T19:39:31.228Z"
   },
   {
    "duration": 49,
    "start_time": "2022-06-14T19:39:32.037Z"
   },
   {
    "duration": 7,
    "start_time": "2022-06-14T19:39:32.310Z"
   },
   {
    "duration": 28,
    "start_time": "2022-06-14T19:40:41.891Z"
   },
   {
    "duration": 29,
    "start_time": "2022-06-14T19:40:49.572Z"
   },
   {
    "duration": 40,
    "start_time": "2022-06-14T19:40:56.063Z"
   },
   {
    "duration": 36,
    "start_time": "2022-06-14T19:41:23.278Z"
   },
   {
    "duration": 30,
    "start_time": "2022-06-14T19:41:30.287Z"
   },
   {
    "duration": 2,
    "start_time": "2022-06-14T19:42:08.305Z"
   },
   {
    "duration": 49,
    "start_time": "2022-06-14T19:42:09.489Z"
   },
   {
    "duration": 7,
    "start_time": "2022-06-14T19:42:09.815Z"
   },
   {
    "duration": 2,
    "start_time": "2022-06-14T19:42:18.515Z"
   },
   {
    "duration": 78,
    "start_time": "2022-06-14T19:42:19.340Z"
   },
   {
    "duration": 12,
    "start_time": "2022-06-14T19:42:19.875Z"
   },
   {
    "duration": 3,
    "start_time": "2022-06-14T19:42:26.201Z"
   },
   {
    "duration": 46,
    "start_time": "2022-06-14T19:42:26.892Z"
   },
   {
    "duration": 14,
    "start_time": "2022-06-14T19:42:27.165Z"
   },
   {
    "duration": 3,
    "start_time": "2022-06-14T19:43:09.923Z"
   },
   {
    "duration": 54,
    "start_time": "2022-06-14T19:43:10.695Z"
   },
   {
    "duration": 18,
    "start_time": "2022-06-14T19:43:11.083Z"
   },
   {
    "duration": 9,
    "start_time": "2022-06-14T19:43:30.260Z"
   },
   {
    "duration": 24,
    "start_time": "2022-06-14T19:43:31.031Z"
   },
   {
    "duration": 12,
    "start_time": "2022-06-14T19:43:31.386Z"
   },
   {
    "duration": 5,
    "start_time": "2022-06-14T19:43:42.060Z"
   },
   {
    "duration": 4,
    "start_time": "2022-06-14T19:43:42.392Z"
   },
   {
    "duration": 13,
    "start_time": "2022-06-14T19:43:42.912Z"
   },
   {
    "duration": 8,
    "start_time": "2022-06-14T19:43:43.389Z"
   },
   {
    "duration": 3,
    "start_time": "2022-06-14T19:44:23.749Z"
   },
   {
    "duration": 26,
    "start_time": "2022-06-14T19:44:24.345Z"
   },
   {
    "duration": 9,
    "start_time": "2022-06-14T19:44:24.638Z"
   },
   {
    "duration": 4,
    "start_time": "2022-06-14T19:44:27.853Z"
   },
   {
    "duration": 23,
    "start_time": "2022-06-14T19:44:28.339Z"
   },
   {
    "duration": 12,
    "start_time": "2022-06-14T19:44:28.592Z"
   },
   {
    "duration": 2,
    "start_time": "2022-06-14T19:45:20.012Z"
   },
   {
    "duration": 10,
    "start_time": "2022-06-14T19:45:20.611Z"
   },
   {
    "duration": 7,
    "start_time": "2022-06-14T19:45:20.906Z"
   },
   {
    "duration": 5,
    "start_time": "2022-06-14T19:46:31.643Z"
   },
   {
    "duration": 64,
    "start_time": "2022-06-14T19:46:32.294Z"
   },
   {
    "duration": 9,
    "start_time": "2022-06-14T19:46:32.710Z"
   },
   {
    "duration": 5,
    "start_time": "2022-06-14T19:46:46.186Z"
   },
   {
    "duration": 47,
    "start_time": "2022-06-14T19:46:46.801Z"
   },
   {
    "duration": 7,
    "start_time": "2022-06-14T19:46:47.112Z"
   },
   {
    "duration": 4,
    "start_time": "2022-06-14T19:47:59.792Z"
   },
   {
    "duration": 52,
    "start_time": "2022-06-14T19:48:00.403Z"
   },
   {
    "duration": 8,
    "start_time": "2022-06-14T19:48:00.706Z"
   },
   {
    "duration": 4,
    "start_time": "2022-06-14T19:48:05.452Z"
   },
   {
    "duration": 70,
    "start_time": "2022-06-14T19:48:05.959Z"
   },
   {
    "duration": 10,
    "start_time": "2022-06-14T19:48:06.242Z"
   },
   {
    "duration": 6,
    "start_time": "2022-06-14T19:48:49.909Z"
   },
   {
    "duration": 10,
    "start_time": "2022-06-14T19:48:53.961Z"
   },
   {
    "duration": 5,
    "start_time": "2022-06-14T19:49:27.492Z"
   },
   {
    "duration": 56,
    "start_time": "2022-06-14T19:49:28.220Z"
   },
   {
    "duration": 7,
    "start_time": "2022-06-14T19:49:28.514Z"
   },
   {
    "duration": 4,
    "start_time": "2022-06-14T19:49:46.213Z"
   },
   {
    "duration": 50,
    "start_time": "2022-06-14T19:49:46.910Z"
   },
   {
    "duration": 7,
    "start_time": "2022-06-14T19:49:48.611Z"
   },
   {
    "duration": 4,
    "start_time": "2022-06-14T19:50:30.787Z"
   },
   {
    "duration": 28,
    "start_time": "2022-06-14T19:50:31.662Z"
   },
   {
    "duration": 10,
    "start_time": "2022-06-14T19:50:32.085Z"
   },
   {
    "duration": 3,
    "start_time": "2022-06-14T19:50:51.445Z"
   },
   {
    "duration": 50,
    "start_time": "2022-06-14T19:50:52.014Z"
   },
   {
    "duration": 9,
    "start_time": "2022-06-14T19:50:52.245Z"
   },
   {
    "duration": 3,
    "start_time": "2022-06-14T19:51:33.300Z"
   },
   {
    "duration": 73,
    "start_time": "2022-06-14T19:51:34.028Z"
   },
   {
    "duration": 7,
    "start_time": "2022-06-14T19:51:34.303Z"
   },
   {
    "duration": 3,
    "start_time": "2022-06-14T19:52:24.661Z"
   },
   {
    "duration": 51,
    "start_time": "2022-06-14T19:52:25.188Z"
   },
   {
    "duration": 7,
    "start_time": "2022-06-14T19:52:25.439Z"
   },
   {
    "duration": 4,
    "start_time": "2022-06-14T19:53:12.862Z"
   },
   {
    "duration": 70,
    "start_time": "2022-06-14T19:53:13.836Z"
   },
   {
    "duration": 11,
    "start_time": "2022-06-14T19:53:14.467Z"
   },
   {
    "duration": 3,
    "start_time": "2022-06-14T19:53:36.615Z"
   },
   {
    "duration": 50,
    "start_time": "2022-06-14T19:53:37.193Z"
   },
   {
    "duration": 14,
    "start_time": "2022-06-14T19:53:37.457Z"
   },
   {
    "duration": 59,
    "start_time": "2022-06-14T19:56:29.665Z"
   },
   {
    "duration": 25,
    "start_time": "2022-06-14T19:57:30.893Z"
   },
   {
    "duration": 3,
    "start_time": "2022-06-14T19:57:36.055Z"
   },
   {
    "duration": 271,
    "start_time": "2022-06-14T19:57:36.060Z"
   },
   {
    "duration": 4,
    "start_time": "2022-06-14T19:57:36.332Z"
   },
   {
    "duration": 59,
    "start_time": "2022-06-14T19:57:36.338Z"
   },
   {
    "duration": 20,
    "start_time": "2022-06-14T19:57:36.401Z"
   },
   {
    "duration": 16,
    "start_time": "2022-06-14T19:57:36.423Z"
   },
   {
    "duration": 49,
    "start_time": "2022-06-14T19:57:36.441Z"
   },
   {
    "duration": 10,
    "start_time": "2022-06-14T19:57:36.496Z"
   },
   {
    "duration": 8,
    "start_time": "2022-06-14T19:57:36.508Z"
   },
   {
    "duration": 8,
    "start_time": "2022-06-14T19:57:36.517Z"
   },
   {
    "duration": 277,
    "start_time": "2022-06-14T19:57:36.527Z"
   },
   {
    "duration": 7,
    "start_time": "2022-06-14T19:57:36.806Z"
   },
   {
    "duration": 7,
    "start_time": "2022-06-14T19:57:36.815Z"
   },
   {
    "duration": 6,
    "start_time": "2022-06-14T19:57:36.823Z"
   },
   {
    "duration": 25,
    "start_time": "2022-06-14T19:57:36.831Z"
   },
   {
    "duration": 0,
    "start_time": "2022-06-14T19:57:36.869Z"
   },
   {
    "duration": 20,
    "start_time": "2022-06-14T19:57:43.104Z"
   },
   {
    "duration": 119,
    "start_time": "2022-06-14T19:57:48.405Z"
   },
   {
    "duration": 327,
    "start_time": "2022-06-14T19:57:57.118Z"
   },
   {
    "duration": 20,
    "start_time": "2022-06-14T19:58:38.522Z"
   },
   {
    "duration": 415,
    "start_time": "2022-06-14T19:58:42.817Z"
   },
   {
    "duration": 320,
    "start_time": "2022-06-14T19:58:59.394Z"
   },
   {
    "duration": 278,
    "start_time": "2022-06-14T20:02:16.401Z"
   },
   {
    "duration": 332,
    "start_time": "2022-06-14T20:03:09.418Z"
   },
   {
    "duration": 446,
    "start_time": "2022-06-14T20:03:26.150Z"
   },
   {
    "duration": 2,
    "start_time": "2022-06-14T20:03:53.923Z"
   },
   {
    "duration": 75,
    "start_time": "2022-06-14T20:03:53.927Z"
   },
   {
    "duration": 5,
    "start_time": "2022-06-14T20:03:54.004Z"
   },
   {
    "duration": 54,
    "start_time": "2022-06-14T20:03:54.011Z"
   },
   {
    "duration": 24,
    "start_time": "2022-06-14T20:03:54.067Z"
   },
   {
    "duration": 19,
    "start_time": "2022-06-14T20:03:54.093Z"
   },
   {
    "duration": 23,
    "start_time": "2022-06-14T20:03:54.114Z"
   },
   {
    "duration": 29,
    "start_time": "2022-06-14T20:03:54.139Z"
   },
   {
    "duration": 22,
    "start_time": "2022-06-14T20:03:54.170Z"
   },
   {
    "duration": 7,
    "start_time": "2022-06-14T20:03:54.196Z"
   },
   {
    "duration": 239,
    "start_time": "2022-06-14T20:03:54.205Z"
   },
   {
    "duration": 17,
    "start_time": "2022-06-14T20:03:54.447Z"
   },
   {
    "duration": 8,
    "start_time": "2022-06-14T20:03:54.467Z"
   },
   {
    "duration": 7,
    "start_time": "2022-06-14T20:03:54.477Z"
   },
   {
    "duration": 28,
    "start_time": "2022-06-14T20:03:54.486Z"
   },
   {
    "duration": 0,
    "start_time": "2022-06-14T20:03:54.515Z"
   },
   {
    "duration": 0,
    "start_time": "2022-06-14T20:03:54.517Z"
   },
   {
    "duration": 0,
    "start_time": "2022-06-14T20:03:54.518Z"
   },
   {
    "duration": 410,
    "start_time": "2022-06-14T20:04:05.986Z"
   },
   {
    "duration": 30,
    "start_time": "2022-06-14T20:05:23.740Z"
   },
   {
    "duration": 25,
    "start_time": "2022-06-14T20:05:42.094Z"
   },
   {
    "duration": 172,
    "start_time": "2022-06-14T20:05:42.887Z"
   },
   {
    "duration": 19,
    "start_time": "2022-06-14T20:05:46.923Z"
   },
   {
    "duration": 326,
    "start_time": "2022-06-14T20:10:31.605Z"
   },
   {
    "duration": 26,
    "start_time": "2022-06-14T20:10:43.630Z"
   },
   {
    "duration": 14,
    "start_time": "2022-06-14T20:11:07.030Z"
   },
   {
    "duration": 13,
    "start_time": "2022-06-14T20:13:00.951Z"
   },
   {
    "duration": 18,
    "start_time": "2022-06-14T20:14:08.522Z"
   },
   {
    "duration": 14,
    "start_time": "2022-06-14T20:15:23.825Z"
   },
   {
    "duration": 26,
    "start_time": "2022-06-14T20:17:50.586Z"
   },
   {
    "duration": 17,
    "start_time": "2022-06-14T20:18:12.428Z"
   },
   {
    "duration": 19,
    "start_time": "2022-06-14T20:19:11.543Z"
   },
   {
    "duration": 21,
    "start_time": "2022-06-14T20:19:34.416Z"
   },
   {
    "duration": 34,
    "start_time": "2022-06-14T20:19:53.646Z"
   },
   {
    "duration": 16,
    "start_time": "2022-06-14T20:20:43.883Z"
   },
   {
    "duration": 15,
    "start_time": "2022-06-14T20:20:48.502Z"
   },
   {
    "duration": 18,
    "start_time": "2022-06-14T20:20:54.689Z"
   },
   {
    "duration": 27,
    "start_time": "2022-06-14T20:21:01.368Z"
   },
   {
    "duration": 13,
    "start_time": "2022-06-14T20:21:06.413Z"
   },
   {
    "duration": 22,
    "start_time": "2022-06-14T20:21:10.258Z"
   },
   {
    "duration": 44,
    "start_time": "2022-06-14T20:49:03.483Z"
   },
   {
    "duration": 7,
    "start_time": "2022-06-14T20:49:18.610Z"
   },
   {
    "duration": 4,
    "start_time": "2022-06-14T20:49:18.958Z"
   },
   {
    "duration": 8,
    "start_time": "2022-06-14T20:49:29.875Z"
   },
   {
    "duration": 3,
    "start_time": "2022-06-14T20:49:30.250Z"
   },
   {
    "duration": 5,
    "start_time": "2022-06-14T20:49:35.527Z"
   },
   {
    "duration": 17,
    "start_time": "2022-06-14T20:50:20.745Z"
   },
   {
    "duration": 3,
    "start_time": "2022-06-14T20:50:31.320Z"
   },
   {
    "duration": 4,
    "start_time": "2022-06-14T20:50:33.238Z"
   },
   {
    "duration": 4,
    "start_time": "2022-06-14T20:50:37.623Z"
   },
   {
    "duration": 5,
    "start_time": "2022-06-14T20:50:38.055Z"
   },
   {
    "duration": 7,
    "start_time": "2022-06-14T20:51:05.384Z"
   },
   {
    "duration": 4,
    "start_time": "2022-06-14T20:51:05.738Z"
   },
   {
    "duration": 4,
    "start_time": "2022-06-14T20:51:06.335Z"
   },
   {
    "duration": 4,
    "start_time": "2022-06-14T20:52:04.636Z"
   },
   {
    "duration": 7,
    "start_time": "2022-06-14T20:52:05.277Z"
   },
   {
    "duration": 5,
    "start_time": "2022-06-14T20:52:08.108Z"
   },
   {
    "duration": 3,
    "start_time": "2022-06-14T20:52:08.424Z"
   },
   {
    "duration": 7,
    "start_time": "2022-06-14T20:52:08.817Z"
   },
   {
    "duration": 3,
    "start_time": "2022-06-14T20:52:24.087Z"
   },
   {
    "duration": 6,
    "start_time": "2022-06-14T20:52:24.491Z"
   },
   {
    "duration": 3,
    "start_time": "2022-06-14T20:52:27.558Z"
   },
   {
    "duration": 11,
    "start_time": "2022-06-14T20:52:27.861Z"
   },
   {
    "duration": 2,
    "start_time": "2022-06-14T20:52:28.226Z"
   },
   {
    "duration": 6,
    "start_time": "2022-06-14T20:52:35.084Z"
   },
   {
    "duration": 4,
    "start_time": "2022-06-14T20:52:35.436Z"
   },
   {
    "duration": 18,
    "start_time": "2022-06-14T20:52:59.519Z"
   },
   {
    "duration": 20,
    "start_time": "2022-06-14T20:53:13.246Z"
   },
   {
    "duration": 15,
    "start_time": "2022-06-14T20:53:14.339Z"
   },
   {
    "duration": 26,
    "start_time": "2022-06-14T20:53:46.764Z"
   },
   {
    "duration": 19,
    "start_time": "2022-06-14T20:55:11.603Z"
   },
   {
    "duration": 30,
    "start_time": "2022-06-14T20:55:16.212Z"
   },
   {
    "duration": 7,
    "start_time": "2022-06-14T20:55:28.062Z"
   },
   {
    "duration": 3,
    "start_time": "2022-06-14T20:56:07.225Z"
   },
   {
    "duration": 96,
    "start_time": "2022-06-14T20:56:07.230Z"
   },
   {
    "duration": 3,
    "start_time": "2022-06-14T20:56:07.330Z"
   },
   {
    "duration": 71,
    "start_time": "2022-06-14T20:56:07.335Z"
   },
   {
    "duration": 26,
    "start_time": "2022-06-14T20:56:07.411Z"
   },
   {
    "duration": 59,
    "start_time": "2022-06-14T20:56:07.438Z"
   },
   {
    "duration": 18,
    "start_time": "2022-06-14T20:56:07.501Z"
   },
   {
    "duration": 4,
    "start_time": "2022-06-14T20:56:07.522Z"
   },
   {
    "duration": 4,
    "start_time": "2022-06-14T20:56:12.347Z"
   },
   {
    "duration": 14,
    "start_time": "2022-06-14T20:56:12.898Z"
   },
   {
    "duration": 4,
    "start_time": "2022-06-14T20:56:13.736Z"
   },
   {
    "duration": 22,
    "start_time": "2022-06-14T20:56:18.459Z"
   },
   {
    "duration": 4,
    "start_time": "2022-06-14T20:56:19.417Z"
   },
   {
    "duration": 14,
    "start_time": "2022-06-14T20:56:19.830Z"
   },
   {
    "duration": 4,
    "start_time": "2022-06-14T20:56:20.609Z"
   },
   {
    "duration": 34,
    "start_time": "2022-06-14T20:56:27.985Z"
   },
   {
    "duration": 25,
    "start_time": "2022-06-14T20:56:28.895Z"
   },
   {
    "duration": 4,
    "start_time": "2022-06-14T20:56:32.494Z"
   },
   {
    "duration": 93,
    "start_time": "2022-06-14T20:56:32.500Z"
   },
   {
    "duration": 5,
    "start_time": "2022-06-14T20:56:32.595Z"
   },
   {
    "duration": 48,
    "start_time": "2022-06-14T20:56:32.602Z"
   },
   {
    "duration": 37,
    "start_time": "2022-06-14T20:56:32.652Z"
   },
   {
    "duration": 22,
    "start_time": "2022-06-14T20:56:35.405Z"
   },
   {
    "duration": 28,
    "start_time": "2022-06-14T20:56:37.661Z"
   },
   {
    "duration": 5,
    "start_time": "2022-06-14T20:56:39.593Z"
   },
   {
    "duration": 12,
    "start_time": "2022-06-14T20:56:41.740Z"
   },
   {
    "duration": 4,
    "start_time": "2022-06-14T20:56:46.523Z"
   },
   {
    "duration": 18,
    "start_time": "2022-06-14T20:57:00.441Z"
   },
   {
    "duration": 17,
    "start_time": "2022-06-14T20:57:03.105Z"
   },
   {
    "duration": 4,
    "start_time": "2022-06-14T20:57:20.911Z"
   },
   {
    "duration": 94,
    "start_time": "2022-06-14T20:57:20.916Z"
   },
   {
    "duration": 6,
    "start_time": "2022-06-14T20:57:21.012Z"
   },
   {
    "duration": 67,
    "start_time": "2022-06-14T20:57:21.020Z"
   },
   {
    "duration": 28,
    "start_time": "2022-06-14T20:57:21.098Z"
   },
   {
    "duration": 19,
    "start_time": "2022-06-14T20:57:21.127Z"
   },
   {
    "duration": 39,
    "start_time": "2022-06-14T20:57:21.147Z"
   },
   {
    "duration": 10,
    "start_time": "2022-06-14T20:57:21.189Z"
   },
   {
    "duration": 27,
    "start_time": "2022-06-14T20:57:21.202Z"
   },
   {
    "duration": 22,
    "start_time": "2022-06-14T20:57:21.230Z"
   },
   {
    "duration": 24,
    "start_time": "2022-06-14T20:57:21.253Z"
   },
   {
    "duration": 37,
    "start_time": "2022-06-14T20:57:21.279Z"
   },
   {
    "duration": 13,
    "start_time": "2022-06-14T20:57:21.318Z"
   },
   {
    "duration": 20,
    "start_time": "2022-06-14T20:57:21.332Z"
   },
   {
    "duration": 270,
    "start_time": "2022-06-14T20:57:21.354Z"
   },
   {
    "duration": 8,
    "start_time": "2022-06-14T20:57:21.626Z"
   },
   {
    "duration": 8,
    "start_time": "2022-06-14T20:57:21.636Z"
   },
   {
    "duration": 21,
    "start_time": "2022-06-14T20:57:21.646Z"
   },
   {
    "duration": 57,
    "start_time": "2022-06-14T20:57:21.668Z"
   },
   {
    "duration": 0,
    "start_time": "2022-06-14T20:57:21.727Z"
   },
   {
    "duration": 0,
    "start_time": "2022-06-14T20:57:21.728Z"
   },
   {
    "duration": 0,
    "start_time": "2022-06-14T20:57:21.729Z"
   },
   {
    "duration": 0,
    "start_time": "2022-06-14T20:57:21.730Z"
   },
   {
    "duration": 0,
    "start_time": "2022-06-14T20:57:21.731Z"
   },
   {
    "duration": 0,
    "start_time": "2022-06-14T20:57:21.732Z"
   },
   {
    "duration": 0,
    "start_time": "2022-06-14T20:57:21.734Z"
   },
   {
    "duration": 0,
    "start_time": "2022-06-14T20:57:21.735Z"
   },
   {
    "duration": 3,
    "start_time": "2022-06-14T20:57:51.841Z"
   },
   {
    "duration": 94,
    "start_time": "2022-06-14T20:57:51.846Z"
   },
   {
    "duration": 4,
    "start_time": "2022-06-14T20:57:51.942Z"
   },
   {
    "duration": 60,
    "start_time": "2022-06-14T20:57:51.948Z"
   },
   {
    "duration": 27,
    "start_time": "2022-06-14T20:57:52.010Z"
   },
   {
    "duration": 30,
    "start_time": "2022-06-14T20:57:52.039Z"
   },
   {
    "duration": 37,
    "start_time": "2022-06-14T20:57:52.070Z"
   },
   {
    "duration": 8,
    "start_time": "2022-06-14T20:57:52.111Z"
   },
   {
    "duration": 18,
    "start_time": "2022-06-14T20:57:52.121Z"
   },
   {
    "duration": 19,
    "start_time": "2022-06-14T20:57:52.141Z"
   },
   {
    "duration": 32,
    "start_time": "2022-06-14T20:57:52.162Z"
   },
   {
    "duration": 11,
    "start_time": "2022-06-14T20:57:52.196Z"
   },
   {
    "duration": 14,
    "start_time": "2022-06-14T20:57:52.209Z"
   },
   {
    "duration": 8,
    "start_time": "2022-06-14T20:57:52.225Z"
   },
   {
    "duration": 267,
    "start_time": "2022-06-14T20:57:52.234Z"
   },
   {
    "duration": 10,
    "start_time": "2022-06-14T20:57:52.506Z"
   },
   {
    "duration": 6,
    "start_time": "2022-06-14T20:57:52.517Z"
   },
   {
    "duration": 5,
    "start_time": "2022-06-14T20:57:52.525Z"
   },
   {
    "duration": 7,
    "start_time": "2022-06-14T20:57:52.532Z"
   },
   {
    "duration": 7,
    "start_time": "2022-06-14T20:57:52.540Z"
   },
   {
    "duration": 80,
    "start_time": "2022-06-14T20:57:52.548Z"
   },
   {
    "duration": 324,
    "start_time": "2022-06-14T20:57:52.630Z"
   },
   {
    "duration": 46,
    "start_time": "2022-06-14T20:57:52.955Z"
   },
   {
    "duration": 219,
    "start_time": "2022-06-14T20:57:53.003Z"
   },
   {
    "duration": 18,
    "start_time": "2022-06-14T20:57:53.224Z"
   },
   {
    "duration": 34,
    "start_time": "2022-06-14T20:57:53.243Z"
   },
   {
    "duration": 45,
    "start_time": "2022-06-14T20:57:53.282Z"
   },
   {
    "duration": 17,
    "start_time": "2022-06-14T20:58:08.108Z"
   },
   {
    "duration": 14,
    "start_time": "2022-06-14T21:00:05.324Z"
   },
   {
    "duration": 31,
    "start_time": "2022-06-14T21:00:12.588Z"
   },
   {
    "duration": 25,
    "start_time": "2022-06-14T21:00:29.211Z"
   },
   {
    "duration": 40,
    "start_time": "2022-06-14T21:00:52.285Z"
   },
   {
    "duration": 24,
    "start_time": "2022-06-14T21:01:01.027Z"
   },
   {
    "duration": 228,
    "start_time": "2022-06-14T21:01:05.174Z"
   },
   {
    "duration": 15,
    "start_time": "2022-06-14T21:03:20.292Z"
   },
   {
    "duration": 17,
    "start_time": "2022-06-14T21:04:06.701Z"
   },
   {
    "duration": 18,
    "start_time": "2022-06-14T21:04:21.903Z"
   },
   {
    "duration": 20,
    "start_time": "2022-06-14T21:04:35.690Z"
   },
   {
    "duration": 26,
    "start_time": "2022-06-14T21:04:41.255Z"
   },
   {
    "duration": 23,
    "start_time": "2022-06-14T21:04:49.291Z"
   },
   {
    "duration": 23,
    "start_time": "2022-06-14T21:07:06.792Z"
   },
   {
    "duration": 26,
    "start_time": "2022-06-14T21:07:16.304Z"
   },
   {
    "duration": 513,
    "start_time": "2022-06-14T21:07:50.717Z"
   },
   {
    "duration": 17,
    "start_time": "2022-06-14T21:08:00.491Z"
   },
   {
    "duration": 27,
    "start_time": "2022-06-14T21:08:11.079Z"
   },
   {
    "duration": 14,
    "start_time": "2022-06-14T21:08:23.320Z"
   },
   {
    "duration": 26,
    "start_time": "2022-06-14T21:09:47.292Z"
   },
   {
    "duration": 128,
    "start_time": "2022-06-14T21:10:21.323Z"
   },
   {
    "duration": 14,
    "start_time": "2022-06-14T21:10:35.443Z"
   },
   {
    "duration": 118,
    "start_time": "2022-06-14T21:10:35.931Z"
   },
   {
    "duration": 16,
    "start_time": "2022-06-14T21:10:46.493Z"
   },
   {
    "duration": 28,
    "start_time": "2022-06-14T21:12:11.934Z"
   },
   {
    "duration": 25,
    "start_time": "2022-06-14T21:12:27.631Z"
   },
   {
    "duration": 20,
    "start_time": "2022-06-14T21:12:37.019Z"
   },
   {
    "duration": 31,
    "start_time": "2022-06-14T21:12:37.554Z"
   },
   {
    "duration": 18,
    "start_time": "2022-06-14T21:12:52.394Z"
   },
   {
    "duration": 17,
    "start_time": "2022-06-14T21:13:08.338Z"
   },
   {
    "duration": 24,
    "start_time": "2022-06-14T21:13:16.832Z"
   },
   {
    "duration": 21,
    "start_time": "2022-06-14T21:13:24.620Z"
   },
   {
    "duration": 24,
    "start_time": "2022-06-14T21:13:43.838Z"
   },
   {
    "duration": 19,
    "start_time": "2022-06-14T21:13:56.050Z"
   },
   {
    "duration": 15,
    "start_time": "2022-06-14T21:16:03.929Z"
   },
   {
    "duration": 15,
    "start_time": "2022-06-14T21:16:17.837Z"
   },
   {
    "duration": 28,
    "start_time": "2022-06-14T21:16:46.931Z"
   },
   {
    "duration": 27,
    "start_time": "2022-06-14T21:17:04.359Z"
   },
   {
    "duration": 36,
    "start_time": "2022-06-14T21:17:34.861Z"
   },
   {
    "duration": 432,
    "start_time": "2022-06-14T21:17:43.312Z"
   },
   {
    "duration": 444,
    "start_time": "2022-06-14T21:18:13.286Z"
   },
   {
    "duration": 627,
    "start_time": "2022-06-14T21:18:19.316Z"
   },
   {
    "duration": 443,
    "start_time": "2022-06-14T21:18:31.554Z"
   },
   {
    "duration": 6,
    "start_time": "2022-06-14T21:21:46.227Z"
   },
   {
    "duration": 8,
    "start_time": "2022-06-14T21:22:35.093Z"
   },
   {
    "duration": 5,
    "start_time": "2022-06-14T21:23:27.392Z"
   },
   {
    "duration": 4,
    "start_time": "2022-06-14T21:23:35.393Z"
   },
   {
    "duration": 5,
    "start_time": "2022-06-14T21:24:52.919Z"
   },
   {
    "duration": 453,
    "start_time": "2022-06-14T21:25:00.133Z"
   },
   {
    "duration": 1539,
    "start_time": "2022-06-15T14:12:00.670Z"
   },
   {
    "duration": 258,
    "start_time": "2022-06-15T14:12:02.211Z"
   },
   {
    "duration": 5,
    "start_time": "2022-06-15T14:12:02.471Z"
   },
   {
    "duration": 79,
    "start_time": "2022-06-15T14:12:02.478Z"
   },
   {
    "duration": 20,
    "start_time": "2022-06-15T14:12:02.559Z"
   },
   {
    "duration": 21,
    "start_time": "2022-06-15T14:12:02.581Z"
   },
   {
    "duration": 17,
    "start_time": "2022-06-15T14:12:02.625Z"
   },
   {
    "duration": 53,
    "start_time": "2022-06-15T14:12:02.644Z"
   },
   {
    "duration": 89,
    "start_time": "2022-06-15T14:12:02.699Z"
   },
   {
    "duration": 71,
    "start_time": "2022-06-15T14:12:02.791Z"
   },
   {
    "duration": 59,
    "start_time": "2022-06-15T14:12:02.865Z"
   },
   {
    "duration": 30,
    "start_time": "2022-06-15T14:12:02.926Z"
   },
   {
    "duration": 125,
    "start_time": "2022-06-15T14:12:02.959Z"
   },
   {
    "duration": 34,
    "start_time": "2022-06-15T14:12:03.086Z"
   },
   {
    "duration": 299,
    "start_time": "2022-06-15T14:12:03.122Z"
   },
   {
    "duration": 11,
    "start_time": "2022-06-15T14:12:03.422Z"
   },
   {
    "duration": 22,
    "start_time": "2022-06-15T14:12:03.435Z"
   },
   {
    "duration": 19,
    "start_time": "2022-06-15T14:12:03.459Z"
   },
   {
    "duration": 22,
    "start_time": "2022-06-15T14:12:03.480Z"
   },
   {
    "duration": 31,
    "start_time": "2022-06-15T14:12:03.504Z"
   },
   {
    "duration": 39,
    "start_time": "2022-06-15T14:12:03.537Z"
   },
   {
    "duration": 342,
    "start_time": "2022-06-15T14:12:03.578Z"
   },
   {
    "duration": 21,
    "start_time": "2022-06-15T14:12:03.922Z"
   },
   {
    "duration": 201,
    "start_time": "2022-06-15T14:12:03.945Z"
   },
   {
    "duration": 23,
    "start_time": "2022-06-15T14:12:04.148Z"
   },
   {
    "duration": 24,
    "start_time": "2022-06-15T14:12:05.950Z"
   },
   {
    "duration": 505,
    "start_time": "2022-06-15T14:12:08.468Z"
   },
   {
    "duration": 7,
    "start_time": "2022-06-15T14:12:19.382Z"
   },
   {
    "duration": 6,
    "start_time": "2022-06-15T14:12:27.853Z"
   },
   {
    "duration": 6,
    "start_time": "2022-06-15T14:12:33.454Z"
   },
   {
    "duration": 548,
    "start_time": "2022-06-15T14:12:34.245Z"
   },
   {
    "duration": 8,
    "start_time": "2022-06-15T14:14:21.724Z"
   },
   {
    "duration": 459,
    "start_time": "2022-06-15T14:14:22.405Z"
   },
   {
    "duration": 5,
    "start_time": "2022-06-15T14:14:32.718Z"
   },
   {
    "duration": 119,
    "start_time": "2022-06-15T14:14:32.726Z"
   },
   {
    "duration": 7,
    "start_time": "2022-06-15T14:14:32.847Z"
   },
   {
    "duration": 96,
    "start_time": "2022-06-15T14:14:32.858Z"
   },
   {
    "duration": 30,
    "start_time": "2022-06-15T14:14:32.959Z"
   },
   {
    "duration": 47,
    "start_time": "2022-06-15T14:14:32.991Z"
   },
   {
    "duration": 29,
    "start_time": "2022-06-15T14:14:33.041Z"
   },
   {
    "duration": 6,
    "start_time": "2022-06-15T14:14:33.073Z"
   },
   {
    "duration": 55,
    "start_time": "2022-06-15T14:14:33.082Z"
   },
   {
    "duration": 35,
    "start_time": "2022-06-15T14:14:33.142Z"
   },
   {
    "duration": 27,
    "start_time": "2022-06-15T14:14:33.180Z"
   },
   {
    "duration": 23,
    "start_time": "2022-06-15T14:14:33.209Z"
   },
   {
    "duration": 23,
    "start_time": "2022-06-15T14:14:33.235Z"
   },
   {
    "duration": 20,
    "start_time": "2022-06-15T14:14:33.268Z"
   },
   {
    "duration": 298,
    "start_time": "2022-06-15T14:14:33.292Z"
   },
   {
    "duration": 10,
    "start_time": "2022-06-15T14:14:33.592Z"
   },
   {
    "duration": 21,
    "start_time": "2022-06-15T14:14:33.605Z"
   },
   {
    "duration": 6,
    "start_time": "2022-06-15T14:14:33.628Z"
   },
   {
    "duration": 13,
    "start_time": "2022-06-15T14:14:33.636Z"
   },
   {
    "duration": 14,
    "start_time": "2022-06-15T14:14:33.652Z"
   },
   {
    "duration": 44,
    "start_time": "2022-06-15T14:14:33.668Z"
   },
   {
    "duration": 430,
    "start_time": "2022-06-15T14:14:33.715Z"
   },
   {
    "duration": 23,
    "start_time": "2022-06-15T14:14:34.147Z"
   },
   {
    "duration": 268,
    "start_time": "2022-06-15T14:14:34.171Z"
   },
   {
    "duration": 25,
    "start_time": "2022-06-15T14:14:34.444Z"
   },
   {
    "duration": 30,
    "start_time": "2022-06-15T14:14:34.471Z"
   },
   {
    "duration": 571,
    "start_time": "2022-06-15T14:14:34.504Z"
   },
   {
    "duration": 8,
    "start_time": "2022-06-15T14:14:35.080Z"
   },
   {
    "duration": 10,
    "start_time": "2022-06-15T14:14:35.090Z"
   },
   {
    "duration": 25,
    "start_time": "2022-06-15T14:14:35.102Z"
   },
   {
    "duration": 528,
    "start_time": "2022-06-15T14:14:36.332Z"
   },
   {
    "duration": 195,
    "start_time": "2022-06-15T14:15:13.302Z"
   },
   {
    "duration": 197,
    "start_time": "2022-06-15T14:15:19.389Z"
   },
   {
    "duration": 3,
    "start_time": "2022-06-15T14:16:12.395Z"
   },
   {
    "duration": 94,
    "start_time": "2022-06-15T14:16:12.401Z"
   },
   {
    "duration": 6,
    "start_time": "2022-06-15T14:16:12.498Z"
   },
   {
    "duration": 75,
    "start_time": "2022-06-15T14:16:12.506Z"
   },
   {
    "duration": 46,
    "start_time": "2022-06-15T14:16:12.583Z"
   },
   {
    "duration": 21,
    "start_time": "2022-06-15T14:16:12.631Z"
   },
   {
    "duration": 17,
    "start_time": "2022-06-15T14:16:12.654Z"
   },
   {
    "duration": 4,
    "start_time": "2022-06-15T14:16:12.673Z"
   },
   {
    "duration": 16,
    "start_time": "2022-06-15T14:16:12.678Z"
   },
   {
    "duration": 55,
    "start_time": "2022-06-15T14:16:12.697Z"
   },
   {
    "duration": 24,
    "start_time": "2022-06-15T14:16:12.756Z"
   },
   {
    "duration": 7,
    "start_time": "2022-06-15T14:16:12.783Z"
   },
   {
    "duration": 39,
    "start_time": "2022-06-15T14:16:12.792Z"
   },
   {
    "duration": 11,
    "start_time": "2022-06-15T14:16:12.834Z"
   },
   {
    "duration": 253,
    "start_time": "2022-06-15T14:16:12.847Z"
   },
   {
    "duration": 8,
    "start_time": "2022-06-15T14:16:13.102Z"
   },
   {
    "duration": 5,
    "start_time": "2022-06-15T14:16:13.125Z"
   },
   {
    "duration": 15,
    "start_time": "2022-06-15T14:16:13.132Z"
   },
   {
    "duration": 15,
    "start_time": "2022-06-15T14:16:13.149Z"
   },
   {
    "duration": 13,
    "start_time": "2022-06-15T14:16:13.166Z"
   },
   {
    "duration": 38,
    "start_time": "2022-06-15T14:16:13.181Z"
   },
   {
    "duration": 321,
    "start_time": "2022-06-15T14:16:13.221Z"
   },
   {
    "duration": 21,
    "start_time": "2022-06-15T14:16:13.543Z"
   },
   {
    "duration": 200,
    "start_time": "2022-06-15T14:16:13.566Z"
   },
   {
    "duration": 29,
    "start_time": "2022-06-15T14:16:13.768Z"
   },
   {
    "duration": 40,
    "start_time": "2022-06-15T14:16:13.799Z"
   },
   {
    "duration": 23,
    "start_time": "2022-06-15T14:16:26.598Z"
   },
   {
    "duration": 233,
    "start_time": "2022-06-15T14:16:28.902Z"
   },
   {
    "duration": 4,
    "start_time": "2022-06-15T14:19:04.411Z"
   },
   {
    "duration": 120,
    "start_time": "2022-06-15T14:19:04.417Z"
   },
   {
    "duration": 6,
    "start_time": "2022-06-15T14:19:04.540Z"
   },
   {
    "duration": 88,
    "start_time": "2022-06-15T14:19:04.548Z"
   },
   {
    "duration": 38,
    "start_time": "2022-06-15T14:19:04.639Z"
   },
   {
    "duration": 28,
    "start_time": "2022-06-15T14:19:04.681Z"
   },
   {
    "duration": 46,
    "start_time": "2022-06-15T14:19:04.712Z"
   },
   {
    "duration": 17,
    "start_time": "2022-06-15T14:19:04.761Z"
   },
   {
    "duration": 25,
    "start_time": "2022-06-15T14:19:04.780Z"
   },
   {
    "duration": 21,
    "start_time": "2022-06-15T14:19:04.807Z"
   },
   {
    "duration": 24,
    "start_time": "2022-06-15T14:19:04.830Z"
   },
   {
    "duration": 7,
    "start_time": "2022-06-15T14:19:04.856Z"
   },
   {
    "duration": 15,
    "start_time": "2022-06-15T14:19:04.864Z"
   },
   {
    "duration": 10,
    "start_time": "2022-06-15T14:19:04.882Z"
   },
   {
    "duration": 313,
    "start_time": "2022-06-15T14:19:04.895Z"
   },
   {
    "duration": 9,
    "start_time": "2022-06-15T14:19:05.210Z"
   },
   {
    "duration": 25,
    "start_time": "2022-06-15T14:19:05.227Z"
   },
   {
    "duration": 9,
    "start_time": "2022-06-15T14:19:05.254Z"
   },
   {
    "duration": 9,
    "start_time": "2022-06-15T14:19:05.265Z"
   },
   {
    "duration": 16,
    "start_time": "2022-06-15T14:19:05.277Z"
   },
   {
    "duration": 31,
    "start_time": "2022-06-15T14:19:05.295Z"
   },
   {
    "duration": 384,
    "start_time": "2022-06-15T14:19:05.328Z"
   },
   {
    "duration": 11,
    "start_time": "2022-06-15T14:19:07.668Z"
   },
   {
    "duration": 190,
    "start_time": "2022-06-15T14:19:16.237Z"
   },
   {
    "duration": 21,
    "start_time": "2022-06-15T14:19:17.675Z"
   },
   {
    "duration": 17,
    "start_time": "2022-06-15T14:19:19.590Z"
   },
   {
    "duration": 236,
    "start_time": "2022-06-15T14:19:21.021Z"
   },
   {
    "duration": 6,
    "start_time": "2022-06-15T14:19:23.077Z"
   },
   {
    "duration": 154,
    "start_time": "2022-06-15T14:26:16.242Z"
   },
   {
    "duration": 24,
    "start_time": "2022-06-15T14:26:16.527Z"
   },
   {
    "duration": 711,
    "start_time": "2022-06-15T14:26:26.885Z"
   },
   {
    "duration": 94,
    "start_time": "2022-06-15T14:28:24.501Z"
   },
   {
    "duration": 501,
    "start_time": "2022-06-15T14:28:25.979Z"
   },
   {
    "duration": 252,
    "start_time": "2022-06-15T14:33:26.143Z"
   },
   {
    "duration": 4,
    "start_time": "2022-06-15T14:50:34.730Z"
   },
   {
    "duration": 14,
    "start_time": "2022-06-15T14:53:02.888Z"
   },
   {
    "duration": 15,
    "start_time": "2022-06-15T14:53:54.049Z"
   },
   {
    "duration": 13,
    "start_time": "2022-06-15T14:53:56.453Z"
   },
   {
    "duration": 15,
    "start_time": "2022-06-15T14:53:58.645Z"
   },
   {
    "duration": 18,
    "start_time": "2022-06-15T14:54:00.139Z"
   },
   {
    "duration": 13,
    "start_time": "2022-06-15T14:54:01.881Z"
   },
   {
    "duration": 16,
    "start_time": "2022-06-15T14:54:02.860Z"
   },
   {
    "duration": 14,
    "start_time": "2022-06-15T14:54:04.305Z"
   },
   {
    "duration": 15,
    "start_time": "2022-06-15T14:54:05.282Z"
   },
   {
    "duration": 10,
    "start_time": "2022-06-15T14:54:06.682Z"
   },
   {
    "duration": 11,
    "start_time": "2022-06-15T14:54:07.609Z"
   },
   {
    "duration": 10,
    "start_time": "2022-06-15T14:54:08.697Z"
   },
   {
    "duration": 11,
    "start_time": "2022-06-15T14:54:10.163Z"
   },
   {
    "duration": 12,
    "start_time": "2022-06-15T14:54:11.268Z"
   },
   {
    "duration": 13,
    "start_time": "2022-06-15T14:54:12.258Z"
   },
   {
    "duration": 18,
    "start_time": "2022-06-15T14:54:13.971Z"
   },
   {
    "duration": 15,
    "start_time": "2022-06-15T14:54:15.162Z"
   },
   {
    "duration": 11,
    "start_time": "2022-06-15T14:54:16.050Z"
   },
   {
    "duration": 12,
    "start_time": "2022-06-15T14:54:16.890Z"
   },
   {
    "duration": 8,
    "start_time": "2022-06-15T14:54:25.828Z"
   },
   {
    "duration": 13,
    "start_time": "2022-06-15T14:54:27.748Z"
   },
   {
    "duration": 13,
    "start_time": "2022-06-15T14:54:28.996Z"
   },
   {
    "duration": 26,
    "start_time": "2022-06-15T14:54:30.457Z"
   },
   {
    "duration": 10,
    "start_time": "2022-06-15T14:54:31.458Z"
   },
   {
    "duration": 11,
    "start_time": "2022-06-15T14:54:32.845Z"
   },
   {
    "duration": 12,
    "start_time": "2022-06-15T14:54:33.617Z"
   },
   {
    "duration": 17,
    "start_time": "2022-06-15T14:54:34.370Z"
   },
   {
    "duration": 11,
    "start_time": "2022-06-15T14:54:35.153Z"
   },
   {
    "duration": 11,
    "start_time": "2022-06-15T14:54:36.065Z"
   },
   {
    "duration": 11,
    "start_time": "2022-06-15T14:54:36.953Z"
   },
   {
    "duration": 10,
    "start_time": "2022-06-15T14:54:37.743Z"
   },
   {
    "duration": 14,
    "start_time": "2022-06-15T14:54:41.497Z"
   },
   {
    "duration": 11,
    "start_time": "2022-06-15T14:54:42.905Z"
   },
   {
    "duration": 12,
    "start_time": "2022-06-15T14:54:44.353Z"
   },
   {
    "duration": 11,
    "start_time": "2022-06-15T14:54:45.714Z"
   },
   {
    "duration": 14,
    "start_time": "2022-06-15T14:54:46.656Z"
   },
   {
    "duration": 11,
    "start_time": "2022-06-15T14:54:47.386Z"
   },
   {
    "duration": 11,
    "start_time": "2022-06-15T14:54:47.881Z"
   },
   {
    "duration": 12,
    "start_time": "2022-06-15T14:54:48.770Z"
   },
   {
    "duration": 12,
    "start_time": "2022-06-15T14:54:49.225Z"
   },
   {
    "duration": 10,
    "start_time": "2022-06-15T14:54:49.705Z"
   },
   {
    "duration": 11,
    "start_time": "2022-06-15T14:54:50.245Z"
   },
   {
    "duration": 11,
    "start_time": "2022-06-15T14:54:50.850Z"
   },
   {
    "duration": 12,
    "start_time": "2022-06-15T14:54:51.555Z"
   },
   {
    "duration": 14,
    "start_time": "2022-06-15T14:54:53.297Z"
   },
   {
    "duration": 10,
    "start_time": "2022-06-15T14:54:54.249Z"
   },
   {
    "duration": 13,
    "start_time": "2022-06-15T14:54:54.995Z"
   },
   {
    "duration": 15,
    "start_time": "2022-06-15T14:54:55.647Z"
   },
   {
    "duration": 12,
    "start_time": "2022-06-15T14:54:56.433Z"
   },
   {
    "duration": 10,
    "start_time": "2022-06-15T14:55:13.385Z"
   },
   {
    "duration": 10,
    "start_time": "2022-06-15T14:55:15.314Z"
   },
   {
    "duration": 10,
    "start_time": "2022-06-15T14:55:16.785Z"
   },
   {
    "duration": 10,
    "start_time": "2022-06-15T14:55:17.690Z"
   },
   {
    "duration": 10,
    "start_time": "2022-06-15T14:55:18.372Z"
   },
   {
    "duration": 10,
    "start_time": "2022-06-15T14:55:19.403Z"
   },
   {
    "duration": 12,
    "start_time": "2022-06-15T14:55:21.049Z"
   },
   {
    "duration": 10,
    "start_time": "2022-06-15T14:55:22.242Z"
   },
   {
    "duration": 11,
    "start_time": "2022-06-15T14:55:23.892Z"
   },
   {
    "duration": 10,
    "start_time": "2022-06-15T14:55:26.914Z"
   },
   {
    "duration": 11,
    "start_time": "2022-06-15T14:55:28.065Z"
   },
   {
    "duration": 13,
    "start_time": "2022-06-15T14:55:28.865Z"
   },
   {
    "duration": 12,
    "start_time": "2022-06-15T14:55:29.954Z"
   },
   {
    "duration": 12,
    "start_time": "2022-06-15T14:55:30.547Z"
   },
   {
    "duration": 13,
    "start_time": "2022-06-15T14:55:31.273Z"
   },
   {
    "duration": 15,
    "start_time": "2022-06-15T14:55:31.950Z"
   },
   {
    "duration": 13,
    "start_time": "2022-06-15T14:55:33.609Z"
   },
   {
    "duration": 17,
    "start_time": "2022-06-15T14:55:34.453Z"
   },
   {
    "duration": 10,
    "start_time": "2022-06-15T14:55:35.443Z"
   },
   {
    "duration": 10,
    "start_time": "2022-06-15T14:55:36.350Z"
   },
   {
    "duration": 10,
    "start_time": "2022-06-15T14:55:37.257Z"
   },
   {
    "duration": 11,
    "start_time": "2022-06-15T14:55:38.153Z"
   },
   {
    "duration": 17,
    "start_time": "2022-06-15T14:55:38.817Z"
   },
   {
    "duration": 15,
    "start_time": "2022-06-15T14:55:40.258Z"
   },
   {
    "duration": 10,
    "start_time": "2022-06-15T14:55:41.370Z"
   },
   {
    "duration": 18,
    "start_time": "2022-06-15T14:55:42.176Z"
   },
   {
    "duration": 10,
    "start_time": "2022-06-15T14:55:42.745Z"
   },
   {
    "duration": 12,
    "start_time": "2022-06-15T14:55:43.305Z"
   },
   {
    "duration": 9,
    "start_time": "2022-06-15T14:55:43.818Z"
   },
   {
    "duration": 14,
    "start_time": "2022-06-15T14:55:45.563Z"
   },
   {
    "duration": 13,
    "start_time": "2022-06-15T14:55:46.866Z"
   },
   {
    "duration": 15,
    "start_time": "2022-06-15T14:55:48.251Z"
   },
   {
    "duration": 14,
    "start_time": "2022-06-15T14:55:49.171Z"
   },
   {
    "duration": 17,
    "start_time": "2022-06-15T14:56:00.625Z"
   },
   {
    "duration": 11,
    "start_time": "2022-06-15T14:56:01.403Z"
   },
   {
    "duration": 11,
    "start_time": "2022-06-15T14:56:01.897Z"
   },
   {
    "duration": 13,
    "start_time": "2022-06-15T14:56:02.866Z"
   },
   {
    "duration": 15,
    "start_time": "2022-06-15T14:56:06.258Z"
   },
   {
    "duration": 12,
    "start_time": "2022-06-15T14:56:08.177Z"
   },
   {
    "duration": 10,
    "start_time": "2022-06-15T14:56:09.147Z"
   },
   {
    "duration": 11,
    "start_time": "2022-06-15T14:56:09.882Z"
   },
   {
    "duration": 12,
    "start_time": "2022-06-15T14:56:11.065Z"
   },
   {
    "duration": 16,
    "start_time": "2022-06-15T14:56:12.474Z"
   },
   {
    "duration": 17,
    "start_time": "2022-06-15T14:56:13.549Z"
   },
   {
    "duration": 11,
    "start_time": "2022-06-15T14:56:14.463Z"
   },
   {
    "duration": 28,
    "start_time": "2022-06-15T14:56:15.713Z"
   },
   {
    "duration": 11,
    "start_time": "2022-06-15T14:56:16.411Z"
   },
   {
    "duration": 12,
    "start_time": "2022-06-15T14:56:17.922Z"
   },
   {
    "duration": 10,
    "start_time": "2022-06-15T14:56:18.849Z"
   },
   {
    "duration": 32,
    "start_time": "2022-06-15T14:59:27.087Z"
   },
   {
    "duration": 14,
    "start_time": "2022-06-15T14:59:44.437Z"
   },
   {
    "duration": 11,
    "start_time": "2022-06-15T14:59:47.290Z"
   },
   {
    "duration": 3,
    "start_time": "2022-06-15T15:00:09.589Z"
   },
   {
    "duration": 5,
    "start_time": "2022-06-15T15:00:10.308Z"
   },
   {
    "duration": 6,
    "start_time": "2022-06-15T15:00:39.034Z"
   },
   {
    "duration": 22,
    "start_time": "2022-06-15T15:00:39.555Z"
   },
   {
    "duration": 5,
    "start_time": "2022-06-15T15:00:51.676Z"
   },
   {
    "duration": 21,
    "start_time": "2022-06-15T15:01:42.205Z"
   },
   {
    "duration": 6,
    "start_time": "2022-06-15T15:01:42.549Z"
   },
   {
    "duration": 11,
    "start_time": "2022-06-15T15:01:46.125Z"
   },
   {
    "duration": 4,
    "start_time": "2022-06-15T15:01:46.654Z"
   },
   {
    "duration": 4,
    "start_time": "2022-06-15T15:02:59.710Z"
   },
   {
    "duration": 1512,
    "start_time": "2022-06-15T15:03:07.364Z"
   },
   {
    "duration": 132,
    "start_time": "2022-06-15T15:03:23.751Z"
   },
   {
    "duration": 1639,
    "start_time": "2022-06-15T15:03:32.562Z"
   },
   {
    "duration": 4,
    "start_time": "2022-06-15T15:03:56.061Z"
   },
   {
    "duration": 23,
    "start_time": "2022-06-15T15:03:56.459Z"
   },
   {
    "duration": 26,
    "start_time": "2022-06-15T15:04:03.910Z"
   },
   {
    "duration": 21,
    "start_time": "2022-06-15T15:05:14.994Z"
   },
   {
    "duration": 28,
    "start_time": "2022-06-15T15:05:44.136Z"
   },
   {
    "duration": 19,
    "start_time": "2022-06-15T15:05:50.190Z"
   },
   {
    "duration": 20,
    "start_time": "2022-06-15T15:06:02.729Z"
   },
   {
    "duration": 20,
    "start_time": "2022-06-15T15:06:09.094Z"
   },
   {
    "duration": 8,
    "start_time": "2022-06-15T15:06:20.109Z"
   },
   {
    "duration": 4,
    "start_time": "2022-06-15T15:07:53.615Z"
   },
   {
    "duration": 2,
    "start_time": "2022-06-15T15:07:58.767Z"
   },
   {
    "duration": 14,
    "start_time": "2022-06-15T15:07:59.118Z"
   },
   {
    "duration": 8,
    "start_time": "2022-06-15T15:08:26.214Z"
   },
   {
    "duration": 10,
    "start_time": "2022-06-15T15:08:44.153Z"
   },
   {
    "duration": 7,
    "start_time": "2022-06-15T15:09:25.693Z"
   },
   {
    "duration": 9,
    "start_time": "2022-06-15T15:09:59.456Z"
   },
   {
    "duration": 8,
    "start_time": "2022-06-15T15:10:06.878Z"
   },
   {
    "duration": 14,
    "start_time": "2022-06-15T15:10:15.926Z"
   },
   {
    "duration": 8,
    "start_time": "2022-06-15T15:10:24.365Z"
   },
   {
    "duration": 8,
    "start_time": "2022-06-15T15:10:28.155Z"
   },
   {
    "duration": 13,
    "start_time": "2022-06-15T15:10:33.723Z"
   },
   {
    "duration": 10,
    "start_time": "2022-06-15T15:10:38.292Z"
   },
   {
    "duration": 13,
    "start_time": "2022-06-15T15:10:41.422Z"
   },
   {
    "duration": 5,
    "start_time": "2022-06-15T15:10:45.513Z"
   },
   {
    "duration": 32,
    "start_time": "2022-06-15T15:10:45.956Z"
   },
   {
    "duration": 11,
    "start_time": "2022-06-15T15:10:46.462Z"
   },
   {
    "duration": 3,
    "start_time": "2022-06-15T15:10:46.918Z"
   },
   {
    "duration": 8,
    "start_time": "2022-06-15T15:10:47.989Z"
   },
   {
    "duration": 7,
    "start_time": "2022-06-15T15:10:57.814Z"
   },
   {
    "duration": 6,
    "start_time": "2022-06-15T15:11:05.158Z"
   },
   {
    "duration": 9,
    "start_time": "2022-06-15T15:11:07.388Z"
   },
   {
    "duration": 14,
    "start_time": "2022-06-15T15:11:11.139Z"
   },
   {
    "duration": 18,
    "start_time": "2022-06-15T15:11:13.124Z"
   },
   {
    "duration": 8,
    "start_time": "2022-06-15T15:11:16.958Z"
   },
   {
    "duration": 10,
    "start_time": "2022-06-15T15:11:20.189Z"
   },
   {
    "duration": 3,
    "start_time": "2022-06-15T15:11:41.463Z"
   },
   {
    "duration": 46,
    "start_time": "2022-06-15T15:11:41.702Z"
   },
   {
    "duration": 12,
    "start_time": "2022-06-15T15:11:41.910Z"
   },
   {
    "duration": 5,
    "start_time": "2022-06-15T15:11:42.133Z"
   },
   {
    "duration": 6,
    "start_time": "2022-06-15T15:11:42.486Z"
   },
   {
    "duration": 10,
    "start_time": "2022-06-15T15:11:42.759Z"
   },
   {
    "duration": 7,
    "start_time": "2022-06-15T15:11:46.556Z"
   },
   {
    "duration": 9,
    "start_time": "2022-06-15T15:11:49.406Z"
   },
   {
    "duration": 10,
    "start_time": "2022-06-15T15:13:17.727Z"
   },
   {
    "duration": 3,
    "start_time": "2022-06-15T15:13:18.182Z"
   },
   {
    "duration": 27,
    "start_time": "2022-06-15T15:14:08.288Z"
   },
   {
    "duration": 14,
    "start_time": "2022-06-15T15:18:10.399Z"
   },
   {
    "duration": 261,
    "start_time": "2022-06-15T15:18:15.555Z"
   },
   {
    "duration": 33,
    "start_time": "2022-06-15T15:40:30.131Z"
   },
   {
    "duration": 6119,
    "start_time": "2022-06-15T15:40:54.830Z"
   },
   {
    "duration": 11,
    "start_time": "2022-06-15T15:41:08.014Z"
   },
   {
    "duration": 47,
    "start_time": "2022-06-15T19:20:52.171Z"
   },
   {
    "duration": 101,
    "start_time": "2022-06-15T19:22:03.512Z"
   },
   {
    "duration": 1237,
    "start_time": "2022-06-15T19:22:10.040Z"
   },
   {
    "duration": 137,
    "start_time": "2022-06-15T19:22:11.278Z"
   },
   {
    "duration": 4,
    "start_time": "2022-06-15T19:22:11.417Z"
   },
   {
    "duration": 66,
    "start_time": "2022-06-15T19:22:11.423Z"
   },
   {
    "duration": 26,
    "start_time": "2022-06-15T19:22:11.491Z"
   },
   {
    "duration": 52,
    "start_time": "2022-06-15T19:22:11.519Z"
   },
   {
    "duration": 15,
    "start_time": "2022-06-15T19:22:11.573Z"
   },
   {
    "duration": 4,
    "start_time": "2022-06-15T19:22:11.589Z"
   },
   {
    "duration": 47,
    "start_time": "2022-06-15T19:22:11.595Z"
   },
   {
    "duration": 19,
    "start_time": "2022-06-15T19:22:11.645Z"
   },
   {
    "duration": 25,
    "start_time": "2022-06-15T19:22:11.666Z"
   },
   {
    "duration": 32,
    "start_time": "2022-06-15T19:22:11.693Z"
   },
   {
    "duration": 17,
    "start_time": "2022-06-15T19:22:11.727Z"
   },
   {
    "duration": 10,
    "start_time": "2022-06-15T19:22:11.746Z"
   },
   {
    "duration": 251,
    "start_time": "2022-06-15T19:22:11.758Z"
   },
   {
    "duration": 12,
    "start_time": "2022-06-15T19:22:12.013Z"
   },
   {
    "duration": 11,
    "start_time": "2022-06-15T19:22:12.027Z"
   },
   {
    "duration": 7,
    "start_time": "2022-06-15T19:22:12.040Z"
   },
   {
    "duration": 10,
    "start_time": "2022-06-15T19:22:12.049Z"
   },
   {
    "duration": 7,
    "start_time": "2022-06-15T19:22:12.061Z"
   },
   {
    "duration": 34,
    "start_time": "2022-06-15T19:22:12.069Z"
   },
   {
    "duration": 280,
    "start_time": "2022-06-15T19:22:12.104Z"
   },
   {
    "duration": 14,
    "start_time": "2022-06-15T19:22:12.386Z"
   },
   {
    "duration": 181,
    "start_time": "2022-06-15T19:22:12.401Z"
   },
   {
    "duration": 32,
    "start_time": "2022-06-15T19:22:12.583Z"
   },
   {
    "duration": 16,
    "start_time": "2022-06-15T19:22:12.617Z"
   },
   {
    "duration": 226,
    "start_time": "2022-06-15T19:22:12.634Z"
   },
   {
    "duration": 5,
    "start_time": "2022-06-15T19:22:12.863Z"
   },
   {
    "duration": 8,
    "start_time": "2022-06-15T19:22:12.869Z"
   },
   {
    "duration": 19,
    "start_time": "2022-06-15T19:22:12.879Z"
   },
   {
    "duration": 186,
    "start_time": "2022-06-15T19:22:12.900Z"
   },
   {
    "duration": 54,
    "start_time": "2022-06-15T19:22:13.094Z"
   },
   {
    "duration": 432,
    "start_time": "2022-06-15T19:22:13.149Z"
   },
   {
    "duration": 3,
    "start_time": "2022-06-15T19:22:13.582Z"
   },
   {
    "duration": 44,
    "start_time": "2022-06-15T19:22:13.587Z"
   },
   {
    "duration": 4,
    "start_time": "2022-06-15T19:22:13.633Z"
   },
   {
    "duration": 5,
    "start_time": "2022-06-15T19:22:13.639Z"
   },
   {
    "duration": 9,
    "start_time": "2022-06-15T19:22:13.646Z"
   },
   {
    "duration": 13,
    "start_time": "2022-06-15T19:22:13.656Z"
   },
   {
    "duration": 310,
    "start_time": "2022-06-15T19:22:13.671Z"
   },
   {
    "duration": 4491,
    "start_time": "2022-06-15T19:22:13.982Z"
   },
   {
    "duration": 1868,
    "start_time": "2022-06-15T19:22:19.916Z"
   },
   {
    "duration": 2108,
    "start_time": "2022-06-15T19:22:21.786Z"
   },
   {
    "duration": 1306,
    "start_time": "2022-06-15T19:22:42.949Z"
   },
   {
    "duration": 1250,
    "start_time": "2022-06-15T19:23:29.171Z"
   },
   {
    "duration": 1026,
    "start_time": "2022-06-15T19:23:46.519Z"
   },
   {
    "duration": 714,
    "start_time": "2022-06-15T19:23:55.641Z"
   },
   {
    "duration": 1061,
    "start_time": "2022-06-15T19:46:35.355Z"
   },
   {
    "duration": 4,
    "start_time": "2022-06-15T19:46:48.019Z"
   },
   {
    "duration": 595,
    "start_time": "2022-06-15T19:48:34.500Z"
   },
   {
    "duration": 2983,
    "start_time": "2022-06-15T19:52:47.851Z"
   },
   {
    "duration": 3,
    "start_time": "2022-06-15T19:52:51.964Z"
   },
   {
    "duration": 1396,
    "start_time": "2022-06-15T19:53:06.468Z"
   },
   {
    "duration": 1330,
    "start_time": "2022-06-15T19:54:13.526Z"
   },
   {
    "duration": 39,
    "start_time": "2022-06-15T19:54:14.857Z"
   },
   {
    "duration": 72,
    "start_time": "2022-06-15T20:03:55.148Z"
   },
   {
    "duration": 385,
    "start_time": "2022-06-15T20:04:05.011Z"
   },
   {
    "duration": 2094,
    "start_time": "2022-06-15T20:04:13.952Z"
   },
   {
    "duration": 2,
    "start_time": "2022-06-15T20:04:18.874Z"
   },
   {
    "duration": 7,
    "start_time": "2022-06-15T20:04:19.236Z"
   },
   {
    "duration": 31,
    "start_time": "2022-06-15T20:08:17.787Z"
   },
   {
    "duration": 13,
    "start_time": "2022-06-15T20:08:23.451Z"
   },
   {
    "duration": 21,
    "start_time": "2022-06-15T20:09:44.957Z"
   },
   {
    "duration": 2723,
    "start_time": "2022-06-15T20:09:54.233Z"
   },
   {
    "duration": 61,
    "start_time": "2022-06-15T20:09:57.000Z"
   },
   {
    "duration": 3254,
    "start_time": "2022-06-15T20:10:01.098Z"
   },
   {
    "duration": 39,
    "start_time": "2022-06-15T20:12:00.445Z"
   },
   {
    "duration": 6052,
    "start_time": "2022-06-15T20:12:10.564Z"
   },
   {
    "duration": 53,
    "start_time": "2022-06-15T20:12:16.618Z"
   },
   {
    "duration": 16,
    "start_time": "2022-06-15T20:12:32.643Z"
   },
   {
    "duration": 1738,
    "start_time": "2022-06-15T20:12:50.525Z"
   },
   {
    "duration": 14,
    "start_time": "2022-06-15T20:13:00.516Z"
   },
   {
    "duration": 465,
    "start_time": "2022-06-15T20:27:39.499Z"
   },
   {
    "duration": 4,
    "start_time": "2022-06-15T20:27:51.283Z"
   },
   {
    "duration": 9,
    "start_time": "2022-06-15T20:27:59.705Z"
   },
   {
    "duration": 30,
    "start_time": "2022-06-15T20:34:16.875Z"
   },
   {
    "duration": 14832,
    "start_time": "2022-06-15T20:34:28.887Z"
   },
   {
    "duration": 1816,
    "start_time": "2022-06-15T20:34:53.843Z"
   },
   {
    "duration": 400,
    "start_time": "2022-06-15T20:34:58.495Z"
   },
   {
    "duration": 3,
    "start_time": "2022-06-15T20:35:19.394Z"
   },
   {
    "duration": 82586,
    "start_time": "2022-06-15T20:35:26.387Z"
   },
   {
    "duration": 0,
    "start_time": "2022-06-15T20:36:48.975Z"
   },
   {
    "duration": 0,
    "start_time": "2022-06-15T20:36:48.976Z"
   },
   {
    "duration": 787,
    "start_time": "2022-06-15T20:52:59.142Z"
   },
   {
    "duration": 604,
    "start_time": "2022-06-15T20:53:15.397Z"
   },
   {
    "duration": 127,
    "start_time": "2022-06-15T20:54:14.762Z"
   },
   {
    "duration": 128,
    "start_time": "2022-06-15T20:54:38.523Z"
   },
   {
    "duration": 141,
    "start_time": "2022-06-15T20:54:56.544Z"
   },
   {
    "duration": 124,
    "start_time": "2022-06-15T20:55:31.434Z"
   },
   {
    "duration": 123,
    "start_time": "2022-06-15T20:56:54.103Z"
   },
   {
    "duration": 1403,
    "start_time": "2022-06-15T21:00:21.992Z"
   },
   {
    "duration": 4,
    "start_time": "2022-06-15T21:00:32.311Z"
   },
   {
    "duration": 670,
    "start_time": "2022-06-15T21:00:44.714Z"
   },
   {
    "duration": 3,
    "start_time": "2022-06-15T21:00:45.391Z"
   },
   {
    "duration": 2995,
    "start_time": "2022-06-15T21:01:08.998Z"
   },
   {
    "duration": 4,
    "start_time": "2022-06-15T21:01:11.995Z"
   },
   {
    "duration": 152,
    "start_time": "2022-06-15T21:03:22.056Z"
   },
   {
    "duration": 140,
    "start_time": "2022-06-15T21:03:36.762Z"
   },
   {
    "duration": 327,
    "start_time": "2022-06-15T21:04:46.488Z"
   },
   {
    "duration": 4,
    "start_time": "2022-06-15T21:04:48.894Z"
   },
   {
    "duration": 374,
    "start_time": "2022-06-15T21:05:04.392Z"
   },
   {
    "duration": 1101,
    "start_time": "2022-06-15T21:05:15.191Z"
   },
   {
    "duration": 350,
    "start_time": "2022-06-15T21:09:41.745Z"
   },
   {
    "duration": 4,
    "start_time": "2022-06-15T21:09:43.406Z"
   },
   {
    "duration": 304,
    "start_time": "2022-06-15T21:09:57.427Z"
   },
   {
    "duration": 3,
    "start_time": "2022-06-15T21:09:58.131Z"
   },
   {
    "duration": 466,
    "start_time": "2022-06-15T21:10:03.467Z"
   },
   {
    "duration": 3,
    "start_time": "2022-06-15T21:10:04.590Z"
   },
   {
    "duration": 458,
    "start_time": "2022-06-15T21:10:10.715Z"
   },
   {
    "duration": 3,
    "start_time": "2022-06-15T21:10:11.175Z"
   },
   {
    "duration": 720,
    "start_time": "2022-06-15T21:10:34.885Z"
   },
   {
    "duration": 3,
    "start_time": "2022-06-15T21:10:36.972Z"
   },
   {
    "duration": 306,
    "start_time": "2022-06-15T21:10:47.306Z"
   },
   {
    "duration": 3,
    "start_time": "2022-06-15T21:10:48.359Z"
   },
   {
    "duration": 562,
    "start_time": "2022-06-15T21:10:55.806Z"
   },
   {
    "duration": 3,
    "start_time": "2022-06-15T21:10:56.370Z"
   },
   {
    "duration": 405,
    "start_time": "2022-06-15T21:11:06.176Z"
   },
   {
    "duration": 359,
    "start_time": "2022-06-15T21:11:13.221Z"
   },
   {
    "duration": 334,
    "start_time": "2022-06-15T21:11:17.128Z"
   },
   {
    "duration": 3,
    "start_time": "2022-06-15T21:11:18.133Z"
   },
   {
    "duration": 248,
    "start_time": "2022-06-15T21:14:43.995Z"
   },
   {
    "duration": 245,
    "start_time": "2022-06-15T21:15:00.551Z"
   },
   {
    "duration": 1127,
    "start_time": "2022-06-15T21:20:38.868Z"
   },
   {
    "duration": 351,
    "start_time": "2022-06-15T21:20:53.420Z"
   },
   {
    "duration": 144,
    "start_time": "2022-06-15T21:24:02.129Z"
   },
   {
    "duration": 131,
    "start_time": "2022-06-15T21:24:17.297Z"
   },
   {
    "duration": 810,
    "start_time": "2022-06-15T21:24:24.678Z"
   },
   {
    "duration": 1553,
    "start_time": "2022-06-15T21:25:01.924Z"
   },
   {
    "duration": 1171,
    "start_time": "2022-06-15T21:25:14.193Z"
   },
   {
    "duration": 10445,
    "start_time": "2022-06-15T21:39:01.412Z"
   },
   {
    "duration": 3,
    "start_time": "2022-06-15T21:40:36.833Z"
   },
   {
    "duration": 52,
    "start_time": "2022-06-16T06:08:28.967Z"
   },
   {
    "duration": 4878,
    "start_time": "2022-06-16T06:08:34.997Z"
   },
   {
    "duration": 22,
    "start_time": "2022-06-16T06:08:52.648Z"
   },
   {
    "duration": 167,
    "start_time": "2022-06-16T06:08:53.692Z"
   },
   {
    "duration": 177,
    "start_time": "2022-06-16T06:09:08.776Z"
   },
   {
    "duration": 114481,
    "start_time": "2022-06-16T06:09:36.515Z"
   },
   {
    "duration": 0,
    "start_time": "2022-06-16T06:13:17.174Z"
   },
   {
    "duration": 126022,
    "start_time": "2022-06-16T06:13:23.154Z"
   },
   {
    "duration": 0,
    "start_time": "2022-06-16T06:15:29.177Z"
   },
   {
    "duration": 0,
    "start_time": "2022-06-16T06:15:29.178Z"
   },
   {
    "duration": 3230,
    "start_time": "2022-06-16T06:15:38.737Z"
   },
   {
    "duration": 244,
    "start_time": "2022-06-16T06:15:41.969Z"
   },
   {
    "duration": 53961,
    "start_time": "2022-06-16T06:16:09.126Z"
   },
   {
    "duration": 3223,
    "start_time": "2022-06-16T06:19:23.724Z"
   },
   {
    "duration": 10,
    "start_time": "2022-06-16T06:19:30.401Z"
   },
   {
    "duration": 8,
    "start_time": "2022-06-16T06:22:07.356Z"
   },
   {
    "duration": 7,
    "start_time": "2022-06-16T06:22:23.721Z"
   },
   {
    "duration": 3,
    "start_time": "2022-06-16T06:22:42.569Z"
   },
   {
    "duration": 2,
    "start_time": "2022-06-16T06:24:25.145Z"
   },
   {
    "duration": 11,
    "start_time": "2022-06-16T06:24:34.876Z"
   },
   {
    "duration": 3,
    "start_time": "2022-06-16T06:24:40.426Z"
   },
   {
    "duration": 3,
    "start_time": "2022-06-16T06:24:58.038Z"
   },
   {
    "duration": 8,
    "start_time": "2022-06-16T06:25:57.141Z"
   },
   {
    "duration": 3,
    "start_time": "2022-06-16T06:26:02.145Z"
   },
   {
    "duration": 5,
    "start_time": "2022-06-16T06:26:21.090Z"
   },
   {
    "duration": 7,
    "start_time": "2022-06-16T06:27:31.055Z"
   },
   {
    "duration": 4,
    "start_time": "2022-06-16T06:27:39.671Z"
   },
   {
    "duration": 4,
    "start_time": "2022-06-16T06:27:48.834Z"
   },
   {
    "duration": 4,
    "start_time": "2022-06-16T06:28:13.349Z"
   },
   {
    "duration": 3,
    "start_time": "2022-06-16T06:37:21.463Z"
   },
   {
    "duration": 3,
    "start_time": "2022-06-16T06:53:01.362Z"
   },
   {
    "duration": 3113,
    "start_time": "2022-06-16T06:53:25.893Z"
   },
   {
    "duration": 3,
    "start_time": "2022-06-16T06:53:32.252Z"
   },
   {
    "duration": 5,
    "start_time": "2022-06-16T07:53:11.730Z"
   },
   {
    "duration": 585,
    "start_time": "2022-06-16T07:53:36.747Z"
   },
   {
    "duration": 2,
    "start_time": "2022-06-16T07:53:40.621Z"
   },
   {
    "duration": 7,
    "start_time": "2022-06-16T07:53:57.656Z"
   },
   {
    "duration": 6,
    "start_time": "2022-06-16T07:54:01.946Z"
   },
   {
    "duration": 11,
    "start_time": "2022-06-16T07:54:06.879Z"
   },
   {
    "duration": 3,
    "start_time": "2022-06-16T07:54:16.148Z"
   },
   {
    "duration": 27,
    "start_time": "2022-06-16T07:56:19.294Z"
   },
   {
    "duration": 3,
    "start_time": "2022-06-16T07:56:31.319Z"
   },
   {
    "duration": 7,
    "start_time": "2022-06-16T07:57:14.225Z"
   },
   {
    "duration": 1239,
    "start_time": "2022-06-16T07:57:24.164Z"
   },
   {
    "duration": 127,
    "start_time": "2022-06-16T07:57:25.405Z"
   },
   {
    "duration": 4,
    "start_time": "2022-06-16T07:57:25.533Z"
   },
   {
    "duration": 44,
    "start_time": "2022-06-16T07:57:25.538Z"
   },
   {
    "duration": 20,
    "start_time": "2022-06-16T07:57:25.584Z"
   },
   {
    "duration": 15,
    "start_time": "2022-06-16T07:57:25.605Z"
   },
   {
    "duration": 12,
    "start_time": "2022-06-16T07:57:25.622Z"
   },
   {
    "duration": 3,
    "start_time": "2022-06-16T07:57:25.636Z"
   },
   {
    "duration": 37,
    "start_time": "2022-06-16T07:57:25.641Z"
   },
   {
    "duration": 21,
    "start_time": "2022-06-16T07:57:25.682Z"
   },
   {
    "duration": 13,
    "start_time": "2022-06-16T07:57:25.705Z"
   },
   {
    "duration": 5,
    "start_time": "2022-06-16T07:57:25.720Z"
   },
   {
    "duration": 10,
    "start_time": "2022-06-16T07:57:25.726Z"
   },
   {
    "duration": 7,
    "start_time": "2022-06-16T07:57:25.737Z"
   },
   {
    "duration": 278,
    "start_time": "2022-06-16T07:57:25.747Z"
   },
   {
    "duration": 8,
    "start_time": "2022-06-16T07:57:26.027Z"
   },
   {
    "duration": 9,
    "start_time": "2022-06-16T07:57:26.037Z"
   },
   {
    "duration": 7,
    "start_time": "2022-06-16T07:57:26.047Z"
   },
   {
    "duration": 6,
    "start_time": "2022-06-16T07:57:26.056Z"
   },
   {
    "duration": 5,
    "start_time": "2022-06-16T07:57:26.077Z"
   },
   {
    "duration": 36,
    "start_time": "2022-06-16T07:57:26.083Z"
   },
   {
    "duration": 291,
    "start_time": "2022-06-16T07:57:26.121Z"
   },
   {
    "duration": 8,
    "start_time": "2022-06-16T07:57:26.413Z"
   },
   {
    "duration": 169,
    "start_time": "2022-06-16T07:57:26.423Z"
   },
   {
    "duration": 17,
    "start_time": "2022-06-16T07:57:26.594Z"
   },
   {
    "duration": 16,
    "start_time": "2022-06-16T07:57:26.612Z"
   },
   {
    "duration": 229,
    "start_time": "2022-06-16T07:57:26.630Z"
   },
   {
    "duration": 5,
    "start_time": "2022-06-16T07:57:26.861Z"
   },
   {
    "duration": 6,
    "start_time": "2022-06-16T07:57:26.879Z"
   },
   {
    "duration": 19,
    "start_time": "2022-06-16T07:57:26.886Z"
   },
   {
    "duration": 191,
    "start_time": "2022-06-16T07:57:26.906Z"
   },
   {
    "duration": 63,
    "start_time": "2022-06-16T07:57:27.099Z"
   },
   {
    "duration": 551,
    "start_time": "2022-06-16T07:57:27.164Z"
   },
   {
    "duration": 4,
    "start_time": "2022-06-16T07:57:27.717Z"
   },
   {
    "duration": 35,
    "start_time": "2022-06-16T07:57:27.723Z"
   },
   {
    "duration": 5,
    "start_time": "2022-06-16T07:57:27.760Z"
   },
   {
    "duration": 13,
    "start_time": "2022-06-16T07:57:27.767Z"
   },
   {
    "duration": 27,
    "start_time": "2022-06-16T07:57:27.782Z"
   },
   {
    "duration": 14,
    "start_time": "2022-06-16T07:57:27.811Z"
   },
   {
    "duration": 266,
    "start_time": "2022-06-16T07:57:27.826Z"
   },
   {
    "duration": 3,
    "start_time": "2022-06-16T07:57:28.093Z"
   },
   {
    "duration": 9,
    "start_time": "2022-06-16T07:57:28.097Z"
   },
   {
    "duration": 1888,
    "start_time": "2022-06-16T07:57:28.107Z"
   },
   {
    "duration": 3,
    "start_time": "2022-06-16T07:57:29.997Z"
   },
   {
    "duration": 16,
    "start_time": "2022-06-16T07:57:30.001Z"
   },
   {
    "duration": 5,
    "start_time": "2022-06-16T07:57:33.554Z"
   },
   {
    "duration": 9,
    "start_time": "2022-06-16T07:57:38.809Z"
   },
   {
    "duration": 5,
    "start_time": "2022-06-16T07:58:15.704Z"
   },
   {
    "duration": 11,
    "start_time": "2022-06-16T07:58:21.532Z"
   },
   {
    "duration": 56,
    "start_time": "2022-06-16T07:59:17.109Z"
   },
   {
    "duration": 3,
    "start_time": "2022-06-16T07:59:21.493Z"
   },
   {
    "duration": 327,
    "start_time": "2022-06-16T07:59:23.778Z"
   },
   {
    "duration": 3,
    "start_time": "2022-06-16T08:00:42.588Z"
   },
   {
    "duration": 432,
    "start_time": "2022-06-16T08:00:45.047Z"
   },
   {
    "duration": 51,
    "start_time": "2022-06-16T08:02:02.172Z"
   },
   {
    "duration": 30,
    "start_time": "2022-06-16T08:02:09.628Z"
   },
   {
    "duration": 3,
    "start_time": "2022-06-16T08:02:24.561Z"
   },
   {
    "duration": 28,
    "start_time": "2022-06-16T08:02:31.229Z"
   },
   {
    "duration": 29,
    "start_time": "2022-06-16T08:03:12.513Z"
   },
   {
    "duration": 201,
    "start_time": "2022-06-16T08:03:38.947Z"
   },
   {
    "duration": 2682,
    "start_time": "2022-06-16T08:04:12.367Z"
   },
   {
    "duration": 4,
    "start_time": "2022-06-16T08:04:16.150Z"
   },
   {
    "duration": 171,
    "start_time": "2022-06-16T08:04:27.666Z"
   },
   {
    "duration": 248,
    "start_time": "2022-06-16T08:04:50.521Z"
   },
   {
    "duration": 175,
    "start_time": "2022-06-16T08:05:30.717Z"
   },
   {
    "duration": 27,
    "start_time": "2022-06-16T08:06:30.423Z"
   },
   {
    "duration": 29,
    "start_time": "2022-06-16T08:06:36.361Z"
   },
   {
    "duration": 4,
    "start_time": "2022-06-16T08:06:41.592Z"
   },
   {
    "duration": 3,
    "start_time": "2022-06-16T08:07:19.265Z"
   },
   {
    "duration": 57,
    "start_time": "2022-06-16T08:07:41.137Z"
   },
   {
    "duration": 1236,
    "start_time": "2022-06-16T08:07:47.865Z"
   },
   {
    "duration": 3,
    "start_time": "2022-06-16T08:07:49.102Z"
   },
   {
    "duration": 4,
    "start_time": "2022-06-16T08:07:51.494Z"
   },
   {
    "duration": 1547,
    "start_time": "2022-06-16T08:07:53.982Z"
   },
   {
    "duration": 633,
    "start_time": "2022-06-16T08:08:48.613Z"
   },
   {
    "duration": 7,
    "start_time": "2022-06-16T08:08:55.720Z"
   },
   {
    "duration": 621,
    "start_time": "2022-06-16T08:09:04.415Z"
   },
   {
    "duration": 445,
    "start_time": "2022-06-16T08:09:10.731Z"
   },
   {
    "duration": 4,
    "start_time": "2022-06-16T08:09:16.908Z"
   },
   {
    "duration": 3,
    "start_time": "2022-06-16T08:09:19.955Z"
   },
   {
    "duration": 4,
    "start_time": "2022-06-16T08:09:22.425Z"
   },
   {
    "duration": 2078,
    "start_time": "2022-06-16T08:09:32.883Z"
   },
   {
    "duration": 4,
    "start_time": "2022-06-16T08:09:35.766Z"
   },
   {
    "duration": 25,
    "start_time": "2022-06-16T08:10:32.893Z"
   },
   {
    "duration": 28,
    "start_time": "2022-06-16T08:11:05.286Z"
   },
   {
    "duration": 27,
    "start_time": "2022-06-16T08:11:13.935Z"
   },
   {
    "duration": 3,
    "start_time": "2022-06-16T08:11:23.281Z"
   },
   {
    "duration": 34280,
    "start_time": "2022-06-16T08:11:25.415Z"
   },
   {
    "duration": 491,
    "start_time": "2022-06-16T08:12:18.923Z"
   },
   {
    "duration": 6,
    "start_time": "2022-06-16T08:12:24.255Z"
   },
   {
    "duration": 11,
    "start_time": "2022-06-16T08:12:36.907Z"
   },
   {
    "duration": 3670,
    "start_time": "2022-06-16T08:12:44.012Z"
   },
   {
    "duration": 8,
    "start_time": "2022-06-16T08:12:59.966Z"
   },
   {
    "duration": 3,
    "start_time": "2022-06-16T08:13:23.863Z"
   },
   {
    "duration": 7378,
    "start_time": "2022-06-16T08:13:26.621Z"
   },
   {
    "duration": 6,
    "start_time": "2022-06-16T08:13:35.454Z"
   },
   {
    "duration": 623,
    "start_time": "2022-06-16T08:14:33.148Z"
   },
   {
    "duration": 4,
    "start_time": "2022-06-16T08:15:03.320Z"
   },
   {
    "duration": 3539,
    "start_time": "2022-06-16T08:15:03.739Z"
   },
   {
    "duration": 3,
    "start_time": "2022-06-16T08:15:18.427Z"
   },
   {
    "duration": 1519,
    "start_time": "2022-06-16T08:15:18.783Z"
   },
   {
    "duration": 10,
    "start_time": "2022-06-16T08:15:22.438Z"
   },
   {
    "duration": 4,
    "start_time": "2022-06-16T08:16:17.585Z"
   },
   {
    "duration": 4848,
    "start_time": "2022-06-16T08:16:18.279Z"
   },
   {
    "duration": 9,
    "start_time": "2022-06-16T08:16:23.920Z"
   },
   {
    "duration": 2,
    "start_time": "2022-06-16T08:16:34.610Z"
   },
   {
    "duration": 3,
    "start_time": "2022-06-16T08:16:36.998Z"
   },
   {
    "duration": 3,
    "start_time": "2022-06-16T08:16:39.248Z"
   },
   {
    "duration": 13235,
    "start_time": "2022-06-16T08:16:40.001Z"
   },
   {
    "duration": 4,
    "start_time": "2022-06-16T08:16:55.164Z"
   },
   {
    "duration": 3154,
    "start_time": "2022-06-16T08:17:33.915Z"
   },
   {
    "duration": 2,
    "start_time": "2022-06-16T08:17:39.608Z"
   },
   {
    "duration": 5,
    "start_time": "2022-06-16T08:17:46.927Z"
   },
   {
    "duration": 4,
    "start_time": "2022-06-16T08:18:05.655Z"
   },
   {
    "duration": 1806,
    "start_time": "2022-06-16T08:18:06.237Z"
   },
   {
    "duration": 4,
    "start_time": "2022-06-16T08:18:08.784Z"
   },
   {
    "duration": 8,
    "start_time": "2022-06-16T08:18:13.268Z"
   },
   {
    "duration": 6021,
    "start_time": "2022-06-16T08:18:14.182Z"
   },
   {
    "duration": 6,
    "start_time": "2022-06-16T08:18:21.792Z"
   },
   {
    "duration": 3,
    "start_time": "2022-06-16T08:18:40.068Z"
   },
   {
    "duration": 1146,
    "start_time": "2022-06-16T08:18:40.916Z"
   },
   {
    "duration": 4,
    "start_time": "2022-06-16T08:18:42.665Z"
   },
   {
    "duration": 4126,
    "start_time": "2022-06-16T08:19:01.831Z"
   },
   {
    "duration": 4,
    "start_time": "2022-06-16T08:19:06.634Z"
   },
   {
    "duration": 3,
    "start_time": "2022-06-16T08:19:34.095Z"
   },
   {
    "duration": 2109,
    "start_time": "2022-06-16T08:19:34.464Z"
   },
   {
    "duration": 4,
    "start_time": "2022-06-16T08:19:37.271Z"
   },
   {
    "duration": 1181,
    "start_time": "2022-06-16T08:21:42.913Z"
   },
   {
    "duration": 4,
    "start_time": "2022-06-16T08:21:45.098Z"
   },
   {
    "duration": 4,
    "start_time": "2022-06-16T08:22:01.895Z"
   },
   {
    "duration": 5453,
    "start_time": "2022-06-16T08:22:02.965Z"
   },
   {
    "duration": 4,
    "start_time": "2022-06-16T08:22:10.099Z"
   },
   {
    "duration": 3,
    "start_time": "2022-06-16T08:22:40.165Z"
   },
   {
    "duration": 4202,
    "start_time": "2022-06-16T08:22:42.816Z"
   },
   {
    "duration": 3,
    "start_time": "2022-06-16T08:23:47.446Z"
   },
   {
    "duration": 3044,
    "start_time": "2022-06-16T08:23:48.201Z"
   },
   {
    "duration": 3,
    "start_time": "2022-06-16T08:24:14.361Z"
   },
   {
    "duration": 3688,
    "start_time": "2022-06-16T08:24:15.466Z"
   },
   {
    "duration": 3,
    "start_time": "2022-06-16T08:24:19.156Z"
   },
   {
    "duration": 3,
    "start_time": "2022-06-16T08:24:32.335Z"
   },
   {
    "duration": 10,
    "start_time": "2022-06-16T08:24:39.267Z"
   },
   {
    "duration": 2743,
    "start_time": "2022-06-16T08:24:42.189Z"
   },
   {
    "duration": 8,
    "start_time": "2022-06-16T08:24:45.304Z"
   },
   {
    "duration": 1751,
    "start_time": "2022-06-16T08:26:55.457Z"
   },
   {
    "duration": 3,
    "start_time": "2022-06-16T08:26:57.210Z"
   },
   {
    "duration": 3,
    "start_time": "2022-06-16T08:32:08.734Z"
   },
   {
    "duration": 3,
    "start_time": "2022-06-16T08:32:29.808Z"
   },
   {
    "duration": 3,
    "start_time": "2022-06-16T08:32:48.167Z"
   },
   {
    "duration": 4,
    "start_time": "2022-06-16T08:32:53.953Z"
   },
   {
    "duration": 4,
    "start_time": "2022-06-16T08:33:00.754Z"
   },
   {
    "duration": 3,
    "start_time": "2022-06-16T08:33:46.349Z"
   },
   {
    "duration": 3089,
    "start_time": "2022-06-16T08:33:49.181Z"
   },
   {
    "duration": 3,
    "start_time": "2022-06-16T08:33:52.948Z"
   },
   {
    "duration": 1257,
    "start_time": "2022-06-16T09:44:15.086Z"
   },
   {
    "duration": 109,
    "start_time": "2022-06-16T09:44:16.345Z"
   },
   {
    "duration": 4,
    "start_time": "2022-06-16T09:44:16.456Z"
   },
   {
    "duration": 44,
    "start_time": "2022-06-16T09:44:16.462Z"
   },
   {
    "duration": 20,
    "start_time": "2022-06-16T09:44:16.508Z"
   },
   {
    "duration": 15,
    "start_time": "2022-06-16T09:44:16.530Z"
   },
   {
    "duration": 12,
    "start_time": "2022-06-16T09:44:16.546Z"
   },
   {
    "duration": 5,
    "start_time": "2022-06-16T09:44:16.560Z"
   },
   {
    "duration": 31,
    "start_time": "2022-06-16T09:44:16.567Z"
   },
   {
    "duration": 25,
    "start_time": "2022-06-16T09:44:16.600Z"
   },
   {
    "duration": 17,
    "start_time": "2022-06-16T09:44:16.627Z"
   },
   {
    "duration": 5,
    "start_time": "2022-06-16T09:44:16.646Z"
   },
   {
    "duration": 16,
    "start_time": "2022-06-16T09:44:16.653Z"
   },
   {
    "duration": 28,
    "start_time": "2022-06-16T09:44:16.670Z"
   },
   {
    "duration": 218,
    "start_time": "2022-06-16T09:44:16.700Z"
   },
   {
    "duration": 7,
    "start_time": "2022-06-16T09:44:16.919Z"
   },
   {
    "duration": 6,
    "start_time": "2022-06-16T09:44:16.927Z"
   },
   {
    "duration": 8,
    "start_time": "2022-06-16T09:44:16.934Z"
   },
   {
    "duration": 7,
    "start_time": "2022-06-16T09:44:16.943Z"
   },
   {
    "duration": 8,
    "start_time": "2022-06-16T09:44:16.951Z"
   },
   {
    "duration": 47,
    "start_time": "2022-06-16T09:44:16.960Z"
   },
   {
    "duration": 266,
    "start_time": "2022-06-16T09:44:17.009Z"
   },
   {
    "duration": 16,
    "start_time": "2022-06-16T09:44:17.277Z"
   },
   {
    "duration": 155,
    "start_time": "2022-06-16T09:44:17.295Z"
   },
   {
    "duration": 16,
    "start_time": "2022-06-16T09:44:17.452Z"
   },
   {
    "duration": 25,
    "start_time": "2022-06-16T09:44:17.469Z"
   },
   {
    "duration": 186,
    "start_time": "2022-06-16T09:44:17.496Z"
   },
   {
    "duration": 4,
    "start_time": "2022-06-16T09:44:17.693Z"
   },
   {
    "duration": 10,
    "start_time": "2022-06-16T09:44:17.698Z"
   },
   {
    "duration": 9,
    "start_time": "2022-06-16T09:44:17.709Z"
   },
   {
    "duration": 164,
    "start_time": "2022-06-16T09:44:17.719Z"
   },
   {
    "duration": 49,
    "start_time": "2022-06-16T09:44:17.884Z"
   },
   {
    "duration": 382,
    "start_time": "2022-06-16T09:44:17.934Z"
   },
   {
    "duration": 3,
    "start_time": "2022-06-16T09:44:18.318Z"
   },
   {
    "duration": 28,
    "start_time": "2022-06-16T09:44:18.323Z"
   },
   {
    "duration": 4,
    "start_time": "2022-06-16T09:44:18.353Z"
   },
   {
    "duration": 6,
    "start_time": "2022-06-16T09:44:18.359Z"
   },
   {
    "duration": 26,
    "start_time": "2022-06-16T09:44:18.366Z"
   },
   {
    "duration": 11,
    "start_time": "2022-06-16T09:44:18.393Z"
   },
   {
    "duration": 205,
    "start_time": "2022-06-16T09:44:18.405Z"
   },
   {
    "duration": 3,
    "start_time": "2022-06-16T09:44:18.612Z"
   },
   {
    "duration": 96,
    "start_time": "2022-06-16T09:44:18.617Z"
   },
   {
    "duration": 0,
    "start_time": "2022-06-16T09:44:18.715Z"
   },
   {
    "duration": 0,
    "start_time": "2022-06-16T09:44:18.716Z"
   },
   {
    "duration": 0,
    "start_time": "2022-06-16T09:44:18.717Z"
   },
   {
    "duration": 0,
    "start_time": "2022-06-16T09:44:18.719Z"
   },
   {
    "duration": 0,
    "start_time": "2022-06-16T09:44:18.720Z"
   },
   {
    "duration": 0,
    "start_time": "2022-06-16T09:44:18.721Z"
   },
   {
    "duration": 8,
    "start_time": "2022-06-16T09:44:34.484Z"
   },
   {
    "duration": 3949,
    "start_time": "2022-06-16T09:44:44.916Z"
   },
   {
    "duration": 86,
    "start_time": "2022-06-16T09:44:48.867Z"
   },
   {
    "duration": 2,
    "start_time": "2022-06-16T09:44:48.954Z"
   },
   {
    "duration": 6,
    "start_time": "2022-06-16T09:44:48.958Z"
   },
   {
    "duration": 2994,
    "start_time": "2022-06-16T09:45:00.813Z"
   },
   {
    "duration": 9,
    "start_time": "2022-06-16T09:45:04.794Z"
   },
   {
    "duration": 3,
    "start_time": "2022-06-16T09:45:17.869Z"
   },
   {
    "duration": 3,
    "start_time": "2022-06-16T09:45:18.653Z"
   },
   {
    "duration": 3573,
    "start_time": "2022-06-16T09:45:20.126Z"
   },
   {
    "duration": 4,
    "start_time": "2022-06-16T09:45:24.577Z"
   },
   {
    "duration": 3,
    "start_time": "2022-06-16T09:45:57.956Z"
   },
   {
    "duration": 2233,
    "start_time": "2022-06-16T09:45:58.576Z"
   },
   {
    "duration": 3,
    "start_time": "2022-06-16T09:46:02.334Z"
   },
   {
    "duration": 8,
    "start_time": "2022-06-16T09:46:11.241Z"
   },
   {
    "duration": 11105,
    "start_time": "2022-06-16T09:46:12.179Z"
   },
   {
    "duration": 6,
    "start_time": "2022-06-16T09:46:25.341Z"
   },
   {
    "duration": 2,
    "start_time": "2022-06-16T09:46:54.995Z"
   },
   {
    "duration": 14815,
    "start_time": "2022-06-16T09:46:55.685Z"
   },
   {
    "duration": 0,
    "start_time": "2022-06-16T09:47:10.501Z"
   },
   {
    "duration": 0,
    "start_time": "2022-06-16T09:47:10.502Z"
   },
   {
    "duration": 0,
    "start_time": "2022-06-16T09:47:10.503Z"
   },
   {
    "duration": 0,
    "start_time": "2022-06-16T09:47:10.504Z"
   },
   {
    "duration": 2956,
    "start_time": "2022-06-16T09:47:16.228Z"
   },
   {
    "duration": 4,
    "start_time": "2022-06-16T09:47:20.462Z"
   },
   {
    "duration": 8,
    "start_time": "2022-06-16T09:47:21.241Z"
   },
   {
    "duration": 9746,
    "start_time": "2022-06-16T09:47:21.893Z"
   },
   {
    "duration": 7,
    "start_time": "2022-06-16T09:47:31.641Z"
   },
   {
    "duration": 3,
    "start_time": "2022-06-16T09:53:56.541Z"
   },
   {
    "duration": 3446,
    "start_time": "2022-06-16T09:53:57.232Z"
   },
   {
    "duration": 3,
    "start_time": "2022-06-16T09:54:00.680Z"
   },
   {
    "duration": 4,
    "start_time": "2022-06-16T09:54:22.241Z"
   },
   {
    "duration": 3,
    "start_time": "2022-06-16T09:54:27.925Z"
   },
   {
    "duration": 2825,
    "start_time": "2022-06-16T09:54:28.326Z"
   },
   {
    "duration": 4,
    "start_time": "2022-06-16T09:54:36.550Z"
   },
   {
    "duration": 31,
    "start_time": "2022-06-16T09:57:09.835Z"
   },
   {
    "duration": 3,
    "start_time": "2022-06-16T09:57:13.295Z"
   },
   {
    "duration": 2979,
    "start_time": "2022-06-16T09:57:14.396Z"
   },
   {
    "duration": 3,
    "start_time": "2022-06-16T10:04:12.692Z"
   },
   {
    "duration": 3,
    "start_time": "2022-06-16T10:04:15.860Z"
   },
   {
    "duration": 3524,
    "start_time": "2022-06-16T10:04:16.287Z"
   },
   {
    "duration": 3,
    "start_time": "2022-06-16T11:57:36.834Z"
   },
   {
    "duration": 2185,
    "start_time": "2022-06-16T11:57:37.601Z"
   },
   {
    "duration": 4,
    "start_time": "2022-06-16T11:57:40.554Z"
   },
   {
    "duration": 8,
    "start_time": "2022-06-16T11:57:50.386Z"
   },
   {
    "duration": 3,
    "start_time": "2022-06-16T11:57:53.033Z"
   },
   {
    "duration": 2150,
    "start_time": "2022-06-16T11:57:53.505Z"
   },
   {
    "duration": 8,
    "start_time": "2022-06-16T11:57:55.657Z"
   },
   {
    "duration": 3,
    "start_time": "2022-06-16T11:58:16.538Z"
   },
   {
    "duration": 2605,
    "start_time": "2022-06-16T11:58:17.272Z"
   },
   {
    "duration": 1805,
    "start_time": "2022-06-16T11:58:31.472Z"
   },
   {
    "duration": 9,
    "start_time": "2022-06-16T11:58:38.193Z"
   },
   {
    "duration": 8245,
    "start_time": "2022-06-16T11:58:39.441Z"
   },
   {
    "duration": 7,
    "start_time": "2022-06-16T11:58:49.170Z"
   },
   {
    "duration": 7,
    "start_time": "2022-06-16T11:59:22.245Z"
   },
   {
    "duration": 15166,
    "start_time": "2022-06-16T11:59:23.381Z"
   },
   {
    "duration": 0,
    "start_time": "2022-06-16T11:59:38.549Z"
   },
   {
    "duration": 5280,
    "start_time": "2022-06-16T11:59:45.969Z"
   },
   {
    "duration": 8,
    "start_time": "2022-06-16T11:59:54.803Z"
   },
   {
    "duration": 7947,
    "start_time": "2022-06-16T12:00:39.433Z"
   },
   {
    "duration": 7,
    "start_time": "2022-06-16T12:00:48.905Z"
   },
   {
    "duration": 21739,
    "start_time": "2022-06-16T12:00:49.770Z"
   },
   {
    "duration": 19255,
    "start_time": "2022-06-16T12:01:15.604Z"
   },
   {
    "duration": 4424,
    "start_time": "2022-06-16T12:03:04.653Z"
   },
   {
    "duration": 1001,
    "start_time": "2022-06-16T12:03:23.563Z"
   },
   {
    "duration": 62,
    "start_time": "2022-06-16T12:03:24.567Z"
   },
   {
    "duration": 4,
    "start_time": "2022-06-16T12:03:24.631Z"
   },
   {
    "duration": 54,
    "start_time": "2022-06-16T12:03:24.636Z"
   },
   {
    "duration": 16,
    "start_time": "2022-06-16T12:03:24.691Z"
   },
   {
    "duration": 13,
    "start_time": "2022-06-16T12:03:24.708Z"
   },
   {
    "duration": 13,
    "start_time": "2022-06-16T12:03:24.722Z"
   },
   {
    "duration": 20,
    "start_time": "2022-06-16T12:03:24.736Z"
   },
   {
    "duration": 21,
    "start_time": "2022-06-16T12:03:24.757Z"
   },
   {
    "duration": 23,
    "start_time": "2022-06-16T12:03:24.781Z"
   },
   {
    "duration": 24,
    "start_time": "2022-06-16T12:03:24.805Z"
   },
   {
    "duration": 12,
    "start_time": "2022-06-16T12:03:24.830Z"
   },
   {
    "duration": 23,
    "start_time": "2022-06-16T12:03:24.843Z"
   },
   {
    "duration": 32,
    "start_time": "2022-06-16T12:03:24.868Z"
   },
   {
    "duration": 222,
    "start_time": "2022-06-16T12:03:24.901Z"
   },
   {
    "duration": 6,
    "start_time": "2022-06-16T12:03:25.125Z"
   },
   {
    "duration": 24,
    "start_time": "2022-06-16T12:03:25.133Z"
   },
   {
    "duration": 15,
    "start_time": "2022-06-16T12:03:25.159Z"
   },
   {
    "duration": 12,
    "start_time": "2022-06-16T12:03:25.175Z"
   },
   {
    "duration": 18,
    "start_time": "2022-06-16T12:03:25.189Z"
   },
   {
    "duration": 29,
    "start_time": "2022-06-16T12:03:25.208Z"
   },
   {
    "duration": 260,
    "start_time": "2022-06-16T12:03:25.239Z"
   },
   {
    "duration": 12,
    "start_time": "2022-06-16T12:03:25.501Z"
   },
   {
    "duration": 205,
    "start_time": "2022-06-16T12:03:25.515Z"
   },
   {
    "duration": 15,
    "start_time": "2022-06-16T12:03:25.721Z"
   },
   {
    "duration": 30,
    "start_time": "2022-06-16T12:03:25.737Z"
   },
   {
    "duration": 182,
    "start_time": "2022-06-16T12:03:25.769Z"
   },
   {
    "duration": 4,
    "start_time": "2022-06-16T12:03:25.954Z"
   },
   {
    "duration": 29,
    "start_time": "2022-06-16T12:03:25.959Z"
   },
   {
    "duration": 21,
    "start_time": "2022-06-16T12:03:25.990Z"
   },
   {
    "duration": 190,
    "start_time": "2022-06-16T12:03:26.012Z"
   },
   {
    "duration": 43,
    "start_time": "2022-06-16T12:03:26.204Z"
   },
   {
    "duration": 416,
    "start_time": "2022-06-16T12:03:26.249Z"
   },
   {
    "duration": 3,
    "start_time": "2022-06-16T12:03:26.667Z"
   },
   {
    "duration": 41,
    "start_time": "2022-06-16T12:03:26.671Z"
   },
   {
    "duration": 11,
    "start_time": "2022-06-16T12:03:26.714Z"
   },
   {
    "duration": 14,
    "start_time": "2022-06-16T12:03:26.726Z"
   },
   {
    "duration": 26,
    "start_time": "2022-06-16T12:03:26.741Z"
   },
   {
    "duration": 22,
    "start_time": "2022-06-16T12:03:26.768Z"
   },
   {
    "duration": 265,
    "start_time": "2022-06-16T12:03:26.791Z"
   },
   {
    "duration": 1616,
    "start_time": "2022-06-16T12:03:27.058Z"
   },
   {
    "duration": 74,
    "start_time": "2022-06-16T12:03:28.676Z"
   },
   {
    "duration": 3,
    "start_time": "2022-06-16T12:03:28.751Z"
   },
   {
    "duration": 5244,
    "start_time": "2022-06-16T12:03:28.755Z"
   },
   {
    "duration": 8,
    "start_time": "2022-06-16T12:03:34.001Z"
   },
   {
    "duration": 91,
    "start_time": "2022-06-16T12:03:34.010Z"
   },
   {
    "duration": 0,
    "start_time": "2022-06-16T12:03:34.102Z"
   },
   {
    "duration": 2,
    "start_time": "2022-06-16T12:03:52.302Z"
   },
   {
    "duration": 63,
    "start_time": "2022-06-16T12:03:52.306Z"
   },
   {
    "duration": 4,
    "start_time": "2022-06-16T12:03:52.370Z"
   },
   {
    "duration": 34,
    "start_time": "2022-06-16T12:03:52.375Z"
   },
   {
    "duration": 15,
    "start_time": "2022-06-16T12:03:52.411Z"
   },
   {
    "duration": 14,
    "start_time": "2022-06-16T12:03:52.427Z"
   },
   {
    "duration": 11,
    "start_time": "2022-06-16T12:03:52.442Z"
   },
   {
    "duration": 2,
    "start_time": "2022-06-16T12:03:52.455Z"
   },
   {
    "duration": 37,
    "start_time": "2022-06-16T12:03:52.459Z"
   },
   {
    "duration": 16,
    "start_time": "2022-06-16T12:03:52.497Z"
   },
   {
    "duration": 12,
    "start_time": "2022-06-16T12:03:52.514Z"
   },
   {
    "duration": 4,
    "start_time": "2022-06-16T12:03:52.527Z"
   },
   {
    "duration": 7,
    "start_time": "2022-06-16T12:03:52.532Z"
   },
   {
    "duration": 6,
    "start_time": "2022-06-16T12:03:52.540Z"
   },
   {
    "duration": 208,
    "start_time": "2022-06-16T12:03:52.548Z"
   },
   {
    "duration": 7,
    "start_time": "2022-06-16T12:03:52.757Z"
   },
   {
    "duration": 5,
    "start_time": "2022-06-16T12:03:52.765Z"
   },
   {
    "duration": 6,
    "start_time": "2022-06-16T12:03:52.771Z"
   },
   {
    "duration": 4,
    "start_time": "2022-06-16T12:03:52.791Z"
   },
   {
    "duration": 6,
    "start_time": "2022-06-16T12:03:52.796Z"
   },
   {
    "duration": 23,
    "start_time": "2022-06-16T12:03:52.803Z"
   },
   {
    "duration": 254,
    "start_time": "2022-06-16T12:03:52.828Z"
   },
   {
    "duration": 13,
    "start_time": "2022-06-16T12:03:53.083Z"
   },
   {
    "duration": 147,
    "start_time": "2022-06-16T12:03:53.099Z"
   },
   {
    "duration": 15,
    "start_time": "2022-06-16T12:03:53.247Z"
   },
   {
    "duration": 13,
    "start_time": "2022-06-16T12:03:53.264Z"
   },
   {
    "duration": 197,
    "start_time": "2022-06-16T12:03:53.278Z"
   },
   {
    "duration": 4,
    "start_time": "2022-06-16T12:03:53.476Z"
   },
   {
    "duration": 12,
    "start_time": "2022-06-16T12:03:53.481Z"
   },
   {
    "duration": 6,
    "start_time": "2022-06-16T12:03:53.495Z"
   },
   {
    "duration": 165,
    "start_time": "2022-06-16T12:03:53.502Z"
   },
   {
    "duration": 13,
    "start_time": "2022-06-16T12:03:53.669Z"
   },
   {
    "duration": 374,
    "start_time": "2022-06-16T12:03:53.691Z"
   },
   {
    "duration": 4,
    "start_time": "2022-06-16T12:03:54.066Z"
   },
   {
    "duration": 33,
    "start_time": "2022-06-16T12:03:54.072Z"
   },
   {
    "duration": 5,
    "start_time": "2022-06-16T12:03:54.107Z"
   },
   {
    "duration": 5,
    "start_time": "2022-06-16T12:03:54.113Z"
   },
   {
    "duration": 10,
    "start_time": "2022-06-16T12:03:54.119Z"
   },
   {
    "duration": 8,
    "start_time": "2022-06-16T12:03:54.131Z"
   },
   {
    "duration": 215,
    "start_time": "2022-06-16T12:03:54.141Z"
   },
   {
    "duration": 1644,
    "start_time": "2022-06-16T12:03:54.357Z"
   },
   {
    "duration": 3,
    "start_time": "2022-06-16T12:03:56.003Z"
   },
   {
    "duration": 8,
    "start_time": "2022-06-16T12:03:56.007Z"
   },
   {
    "duration": 13,
    "start_time": "2022-06-16T12:03:56.017Z"
   },
   {
    "duration": 20527,
    "start_time": "2022-06-16T12:03:56.031Z"
   },
   {
    "duration": 0,
    "start_time": "2022-06-16T12:04:16.560Z"
   },
   {
    "duration": 15377,
    "start_time": "2022-06-16T12:04:20.149Z"
   },
   {
    "duration": 36248,
    "start_time": "2022-06-16T12:06:18.371Z"
   },
   {
    "duration": 981,
    "start_time": "2022-06-16T12:07:51.068Z"
   },
   {
    "duration": 61,
    "start_time": "2022-06-16T12:07:52.051Z"
   },
   {
    "duration": 5,
    "start_time": "2022-06-16T12:07:52.113Z"
   },
   {
    "duration": 50,
    "start_time": "2022-06-16T12:07:52.120Z"
   },
   {
    "duration": 34,
    "start_time": "2022-06-16T12:07:52.171Z"
   },
   {
    "duration": 18,
    "start_time": "2022-06-16T12:07:52.207Z"
   },
   {
    "duration": 21,
    "start_time": "2022-06-16T12:07:52.227Z"
   },
   {
    "duration": 16,
    "start_time": "2022-06-16T12:07:52.250Z"
   },
   {
    "duration": 17,
    "start_time": "2022-06-16T12:07:52.268Z"
   },
   {
    "duration": 15,
    "start_time": "2022-06-16T12:07:52.292Z"
   },
   {
    "duration": 12,
    "start_time": "2022-06-16T12:07:52.309Z"
   },
   {
    "duration": 5,
    "start_time": "2022-06-16T12:07:52.323Z"
   },
   {
    "duration": 11,
    "start_time": "2022-06-16T12:07:52.330Z"
   },
   {
    "duration": 8,
    "start_time": "2022-06-16T12:07:52.343Z"
   },
   {
    "duration": 248,
    "start_time": "2022-06-16T12:07:52.352Z"
   },
   {
    "duration": 10,
    "start_time": "2022-06-16T12:07:52.602Z"
   },
   {
    "duration": 8,
    "start_time": "2022-06-16T12:07:52.613Z"
   },
   {
    "duration": 12,
    "start_time": "2022-06-16T12:07:52.622Z"
   },
   {
    "duration": 11,
    "start_time": "2022-06-16T12:07:52.636Z"
   },
   {
    "duration": 8,
    "start_time": "2022-06-16T12:07:52.649Z"
   },
   {
    "duration": 43,
    "start_time": "2022-06-16T12:07:52.659Z"
   },
   {
    "duration": 278,
    "start_time": "2022-06-16T12:07:52.704Z"
   },
   {
    "duration": 9,
    "start_time": "2022-06-16T12:07:52.991Z"
   },
   {
    "duration": 162,
    "start_time": "2022-06-16T12:07:53.001Z"
   },
   {
    "duration": 14,
    "start_time": "2022-06-16T12:07:53.165Z"
   },
   {
    "duration": 22,
    "start_time": "2022-06-16T12:07:53.180Z"
   },
   {
    "duration": 203,
    "start_time": "2022-06-16T12:07:53.203Z"
   },
   {
    "duration": 6,
    "start_time": "2022-06-16T12:07:53.409Z"
   },
   {
    "duration": 6,
    "start_time": "2022-06-16T12:07:53.416Z"
   },
   {
    "duration": 10,
    "start_time": "2022-06-16T12:07:53.423Z"
   },
   {
    "duration": 199,
    "start_time": "2022-06-16T12:07:53.435Z"
   },
   {
    "duration": 46,
    "start_time": "2022-06-16T12:07:53.636Z"
   },
   {
    "duration": 543,
    "start_time": "2022-06-16T12:07:53.692Z"
   },
   {
    "duration": 4,
    "start_time": "2022-06-16T12:07:54.237Z"
   },
   {
    "duration": 54,
    "start_time": "2022-06-16T12:07:54.243Z"
   },
   {
    "duration": 6,
    "start_time": "2022-06-16T12:07:54.299Z"
   },
   {
    "duration": 10,
    "start_time": "2022-06-16T12:07:54.308Z"
   },
   {
    "duration": 11,
    "start_time": "2022-06-16T12:07:54.319Z"
   },
   {
    "duration": 17,
    "start_time": "2022-06-16T12:07:54.332Z"
   },
   {
    "duration": 338,
    "start_time": "2022-06-16T12:07:54.350Z"
   },
   {
    "duration": 1805,
    "start_time": "2022-06-16T12:07:54.691Z"
   },
   {
    "duration": 95,
    "start_time": "2022-06-16T12:07:56.499Z"
   },
   {
    "duration": 4,
    "start_time": "2022-06-16T12:07:56.596Z"
   },
   {
    "duration": 21,
    "start_time": "2022-06-16T12:07:56.602Z"
   },
   {
    "duration": 75091,
    "start_time": "2022-06-16T12:07:56.625Z"
   },
   {
    "duration": 0,
    "start_time": "2022-06-16T12:09:11.718Z"
   },
   {
    "duration": 4,
    "start_time": "2022-06-16T12:10:00.584Z"
   },
   {
    "duration": 10,
    "start_time": "2022-06-16T12:10:01.030Z"
   },
   {
    "duration": 4609,
    "start_time": "2022-06-16T12:10:01.679Z"
   },
   {
    "duration": 3,
    "start_time": "2022-06-16T12:10:25.232Z"
   },
   {
    "duration": 4,
    "start_time": "2022-06-16T12:10:25.788Z"
   },
   {
    "duration": 9,
    "start_time": "2022-06-16T12:10:26.159Z"
   },
   {
    "duration": 57131,
    "start_time": "2022-06-16T12:10:26.708Z"
   },
   {
    "duration": 0,
    "start_time": "2022-06-16T12:11:23.841Z"
   },
   {
    "duration": 3,
    "start_time": "2022-06-16T12:12:52.309Z"
   },
   {
    "duration": 4,
    "start_time": "2022-06-16T12:12:53.033Z"
   },
   {
    "duration": 8,
    "start_time": "2022-06-16T12:12:53.938Z"
   },
   {
    "duration": 144667,
    "start_time": "2022-06-16T12:12:54.695Z"
   },
   {
    "duration": 0,
    "start_time": "2022-06-16T12:15:19.363Z"
   },
   {
    "duration": 1164,
    "start_time": "2022-06-16T12:15:20.486Z"
   },
   {
    "duration": 3,
    "start_time": "2022-06-16T12:15:29.003Z"
   },
   {
    "duration": 41652,
    "start_time": "2022-06-16T12:15:45.994Z"
   },
   {
    "duration": 24017,
    "start_time": "2022-06-16T12:16:43.150Z"
   },
   {
    "duration": 3,
    "start_time": "2022-06-16T12:17:09.998Z"
   },
   {
    "duration": 3,
    "start_time": "2022-06-16T12:17:10.681Z"
   },
   {
    "duration": 9,
    "start_time": "2022-06-16T12:17:14.786Z"
   },
   {
    "duration": 17840,
    "start_time": "2022-06-16T12:17:15.438Z"
   },
   {
    "duration": 9,
    "start_time": "2022-06-16T12:18:13.998Z"
   },
   {
    "duration": 10,
    "start_time": "2022-06-16T12:20:38.191Z"
   },
   {
    "duration": 4,
    "start_time": "2022-06-16T12:21:29.977Z"
   },
   {
    "duration": 421,
    "start_time": "2022-06-16T12:22:10.708Z"
   },
   {
    "duration": 28,
    "start_time": "2022-06-16T12:22:24.984Z"
   },
   {
    "duration": 6,
    "start_time": "2022-06-16T12:22:39.267Z"
   },
   {
    "duration": 10,
    "start_time": "2022-06-16T12:22:53.669Z"
   },
   {
    "duration": 173,
    "start_time": "2022-06-16T12:22:58.353Z"
   },
   {
    "duration": 14,
    "start_time": "2022-06-16T12:23:17.070Z"
   },
   {
    "duration": 13,
    "start_time": "2022-06-16T12:23:27.974Z"
   },
   {
    "duration": 11,
    "start_time": "2022-06-16T12:23:39.872Z"
   },
   {
    "duration": 532610,
    "start_time": "2022-06-16T12:24:08.648Z"
   },
   {
    "duration": 529175,
    "start_time": "2022-06-16T12:42:40.781Z"
   },
   {
    "duration": 236,
    "start_time": "2022-06-16T13:21:30.015Z"
   },
   {
    "duration": 192,
    "start_time": "2022-06-16T13:21:46.262Z"
   },
   {
    "duration": 13,
    "start_time": "2022-06-16T13:22:05.430Z"
   },
   {
    "duration": 11,
    "start_time": "2022-06-16T13:22:08.898Z"
   },
   {
    "duration": 3,
    "start_time": "2022-06-16T13:22:26.054Z"
   },
   {
    "duration": 19762,
    "start_time": "2022-06-16T13:22:36.046Z"
   },
   {
    "duration": 3,
    "start_time": "2022-06-16T13:23:29.246Z"
   },
   {
    "duration": 893,
    "start_time": "2022-06-16T13:23:40.241Z"
   },
   {
    "duration": 4,
    "start_time": "2022-06-16T13:23:50.536Z"
   },
   {
    "duration": 654398,
    "start_time": "2022-06-16T13:23:55.468Z"
   },
   {
    "duration": 12,
    "start_time": "2022-06-16T13:55:03.350Z"
   },
   {
    "duration": 11,
    "start_time": "2022-06-16T13:55:15.838Z"
   },
   {
    "duration": 11,
    "start_time": "2022-06-16T13:55:21.643Z"
   },
   {
    "duration": 8,
    "start_time": "2022-06-16T13:55:25.315Z"
   },
   {
    "duration": 8,
    "start_time": "2022-06-16T13:55:26.586Z"
   },
   {
    "duration": 7,
    "start_time": "2022-06-16T13:55:27.704Z"
   },
   {
    "duration": 7,
    "start_time": "2022-06-16T13:55:28.483Z"
   },
   {
    "duration": 8,
    "start_time": "2022-06-16T13:55:29.282Z"
   },
   {
    "duration": 8,
    "start_time": "2022-06-16T13:55:30.578Z"
   },
   {
    "duration": 9,
    "start_time": "2022-06-16T13:55:31.935Z"
   },
   {
    "duration": 11,
    "start_time": "2022-06-16T13:55:33.208Z"
   },
   {
    "duration": 8,
    "start_time": "2022-06-16T13:55:34.388Z"
   },
   {
    "duration": 867,
    "start_time": "2022-06-16T13:56:09.176Z"
   },
   {
    "duration": 1187,
    "start_time": "2022-06-16T13:56:12.618Z"
   },
   {
    "duration": 7,
    "start_time": "2022-06-16T13:56:18.662Z"
   },
   {
    "duration": 1334,
    "start_time": "2022-06-16T13:56:29.306Z"
   },
   {
    "duration": 1168,
    "start_time": "2022-06-16T13:58:46.363Z"
   },
   {
    "duration": 883,
    "start_time": "2022-06-16T13:58:51.468Z"
   },
   {
    "duration": 2,
    "start_time": "2022-06-16T13:59:02.689Z"
   },
   {
    "duration": 4,
    "start_time": "2022-06-16T13:59:03.854Z"
   },
   {
    "duration": 1998,
    "start_time": "2022-06-16T13:59:04.750Z"
   },
   {
    "duration": 52,
    "start_time": "2022-06-16T13:59:27.442Z"
   },
   {
    "duration": 2253,
    "start_time": "2022-06-16T13:59:27.758Z"
   },
   {
    "duration": 3,
    "start_time": "2022-06-16T13:59:59.299Z"
   },
   {
    "duration": 1778,
    "start_time": "2022-06-16T13:59:59.950Z"
   },
   {
    "duration": 3,
    "start_time": "2022-06-16T14:07:58.454Z"
   },
   {
    "duration": 8,
    "start_time": "2022-06-16T15:15:02.845Z"
   },
   {
    "duration": 11,
    "start_time": "2022-06-16T15:26:38.090Z"
   },
   {
    "duration": 8,
    "start_time": "2022-06-16T15:26:39.507Z"
   },
   {
    "duration": 7,
    "start_time": "2022-06-16T15:26:40.578Z"
   },
   {
    "duration": 9,
    "start_time": "2022-06-16T15:26:41.565Z"
   },
   {
    "duration": 7,
    "start_time": "2022-06-16T15:26:42.142Z"
   },
   {
    "duration": 9,
    "start_time": "2022-06-16T15:26:43.805Z"
   },
   {
    "duration": 9,
    "start_time": "2022-06-16T15:26:44.701Z"
   },
   {
    "duration": 9,
    "start_time": "2022-06-16T15:26:45.279Z"
   },
   {
    "duration": 8,
    "start_time": "2022-06-16T15:26:46.103Z"
   },
   {
    "duration": 9,
    "start_time": "2022-06-16T15:26:46.882Z"
   },
   {
    "duration": 8,
    "start_time": "2022-06-16T15:26:48.034Z"
   },
   {
    "duration": 8,
    "start_time": "2022-06-16T15:26:49.346Z"
   },
   {
    "duration": 7,
    "start_time": "2022-06-16T15:26:50.141Z"
   },
   {
    "duration": 7,
    "start_time": "2022-06-16T15:26:51.677Z"
   },
   {
    "duration": 7,
    "start_time": "2022-06-16T15:26:52.549Z"
   },
   {
    "duration": 8,
    "start_time": "2022-06-16T15:26:53.306Z"
   },
   {
    "duration": 10,
    "start_time": "2022-06-16T15:26:53.877Z"
   },
   {
    "duration": 8,
    "start_time": "2022-06-16T15:26:54.402Z"
   },
   {
    "duration": 7,
    "start_time": "2022-06-16T15:26:55.054Z"
   },
   {
    "duration": 7,
    "start_time": "2022-06-16T15:26:55.819Z"
   },
   {
    "duration": 7,
    "start_time": "2022-06-16T15:26:57.831Z"
   },
   {
    "duration": 8,
    "start_time": "2022-06-16T15:26:59.103Z"
   },
   {
    "duration": 8,
    "start_time": "2022-06-16T15:27:00.077Z"
   },
   {
    "duration": 8,
    "start_time": "2022-06-16T15:27:00.811Z"
   },
   {
    "duration": 8,
    "start_time": "2022-06-16T15:27:02.341Z"
   },
   {
    "duration": 8,
    "start_time": "2022-06-16T15:27:03.367Z"
   },
   {
    "duration": 7,
    "start_time": "2022-06-16T15:27:04.270Z"
   },
   {
    "duration": 7,
    "start_time": "2022-06-16T15:27:04.982Z"
   },
   {
    "duration": 9,
    "start_time": "2022-06-16T15:27:05.471Z"
   },
   {
    "duration": 1273,
    "start_time": "2022-06-17T08:29:50.431Z"
   },
   {
    "duration": 214,
    "start_time": "2022-06-17T08:29:51.706Z"
   },
   {
    "duration": 5,
    "start_time": "2022-06-17T08:29:51.921Z"
   },
   {
    "duration": 45,
    "start_time": "2022-06-17T08:29:51.928Z"
   },
   {
    "duration": 25,
    "start_time": "2022-06-17T08:29:51.974Z"
   },
   {
    "duration": 15,
    "start_time": "2022-06-17T08:29:52.001Z"
   },
   {
    "duration": 17,
    "start_time": "2022-06-17T08:29:52.018Z"
   },
   {
    "duration": 3,
    "start_time": "2022-06-17T08:29:52.037Z"
   },
   {
    "duration": 33,
    "start_time": "2022-06-17T08:29:52.042Z"
   },
   {
    "duration": 28,
    "start_time": "2022-06-17T08:29:52.079Z"
   },
   {
    "duration": 13,
    "start_time": "2022-06-17T08:29:52.109Z"
   },
   {
    "duration": 4,
    "start_time": "2022-06-17T08:29:52.124Z"
   },
   {
    "duration": 10,
    "start_time": "2022-06-17T08:29:52.129Z"
   },
   {
    "duration": 7,
    "start_time": "2022-06-17T08:29:52.141Z"
   },
   {
    "duration": 279,
    "start_time": "2022-06-17T08:29:52.150Z"
   },
   {
    "duration": 10,
    "start_time": "2022-06-17T08:29:52.431Z"
   },
   {
    "duration": 18,
    "start_time": "2022-06-17T08:29:52.443Z"
   },
   {
    "duration": 8,
    "start_time": "2022-06-17T08:29:52.463Z"
   },
   {
    "duration": 23,
    "start_time": "2022-06-17T08:29:52.473Z"
   },
   {
    "duration": 24,
    "start_time": "2022-06-17T08:29:52.498Z"
   },
   {
    "duration": 27,
    "start_time": "2022-06-17T08:29:52.524Z"
   },
   {
    "duration": 293,
    "start_time": "2022-06-17T08:29:52.553Z"
   },
   {
    "duration": 9,
    "start_time": "2022-06-17T08:29:52.848Z"
   },
   {
    "duration": 164,
    "start_time": "2022-06-17T08:29:52.860Z"
   },
   {
    "duration": 15,
    "start_time": "2022-06-17T08:29:53.026Z"
   },
   {
    "duration": 14,
    "start_time": "2022-06-17T08:29:53.043Z"
   },
   {
    "duration": 228,
    "start_time": "2022-06-17T08:29:53.059Z"
   },
   {
    "duration": 6,
    "start_time": "2022-06-17T08:29:53.295Z"
   },
   {
    "duration": 10,
    "start_time": "2022-06-17T08:29:53.302Z"
   },
   {
    "duration": 8,
    "start_time": "2022-06-17T08:29:53.313Z"
   },
   {
    "duration": 200,
    "start_time": "2022-06-17T08:29:53.323Z"
   },
   {
    "duration": 45,
    "start_time": "2022-06-17T08:29:53.524Z"
   },
   {
    "duration": 432,
    "start_time": "2022-06-17T08:29:53.571Z"
   },
   {
    "duration": 6,
    "start_time": "2022-06-17T08:29:54.005Z"
   },
   {
    "duration": 38,
    "start_time": "2022-06-17T08:29:54.013Z"
   },
   {
    "duration": 5,
    "start_time": "2022-06-17T08:29:54.053Z"
   },
   {
    "duration": 12,
    "start_time": "2022-06-17T08:29:54.060Z"
   },
   {
    "duration": 13,
    "start_time": "2022-06-17T08:29:54.074Z"
   },
   {
    "duration": 12,
    "start_time": "2022-06-17T08:29:54.094Z"
   },
   {
    "duration": 236,
    "start_time": "2022-06-17T08:29:54.107Z"
   },
   {
    "duration": 4190,
    "start_time": "2022-06-17T08:29:54.345Z"
   },
   {
    "duration": 103,
    "start_time": "2022-06-17T08:29:58.537Z"
   },
   {
    "duration": 7480,
    "start_time": "2022-06-17T08:30:01.797Z"
   },
   {
    "duration": 3,
    "start_time": "2022-06-17T08:30:19.970Z"
   },
   {
    "duration": 111,
    "start_time": "2022-06-17T08:30:31.945Z"
   },
   {
    "duration": 5829,
    "start_time": "2022-06-17T08:30:40.496Z"
   },
   {
    "duration": 1072,
    "start_time": "2022-06-17T08:31:39.396Z"
   },
   {
    "duration": 4,
    "start_time": "2022-06-17T08:35:48.119Z"
   },
   {
    "duration": 9,
    "start_time": "2022-06-17T08:36:00.985Z"
   },
   {
    "duration": 5758,
    "start_time": "2022-06-17T08:36:15.095Z"
   },
   {
    "duration": 4,
    "start_time": "2022-06-17T08:36:22.586Z"
   },
   {
    "duration": 109,
    "start_time": "2022-06-17T08:36:24.328Z"
   },
   {
    "duration": 3,
    "start_time": "2022-06-17T08:36:51.802Z"
   },
   {
    "duration": 58,
    "start_time": "2022-06-17T08:36:53.383Z"
   },
   {
    "duration": 6,
    "start_time": "2022-06-17T08:37:07.160Z"
   },
   {
    "duration": 131,
    "start_time": "2022-06-17T08:37:44.690Z"
   },
   {
    "duration": 4,
    "start_time": "2022-06-17T08:37:53.931Z"
   },
   {
    "duration": 85,
    "start_time": "2022-06-17T08:37:55.945Z"
   },
   {
    "duration": 93,
    "start_time": "2022-06-17T08:39:21.844Z"
   },
   {
    "duration": 80,
    "start_time": "2022-06-17T08:40:36.978Z"
   },
   {
    "duration": 1161,
    "start_time": "2022-06-17T08:41:20.112Z"
   },
   {
    "duration": 5,
    "start_time": "2022-06-17T08:42:11.914Z"
   },
   {
    "duration": 8766,
    "start_time": "2022-06-17T08:42:14.249Z"
   },
   {
    "duration": 6886,
    "start_time": "2022-06-17T08:43:04.938Z"
   },
   {
    "duration": 1020,
    "start_time": "2022-06-17T08:43:40.545Z"
   },
   {
    "duration": 4,
    "start_time": "2022-06-17T08:46:17.229Z"
   },
   {
    "duration": 6852,
    "start_time": "2022-06-17T08:46:19.377Z"
   },
   {
    "duration": 4,
    "start_time": "2022-06-17T08:48:02.004Z"
   },
   {
    "duration": 42,
    "start_time": "2022-06-17T08:48:10.055Z"
   },
   {
    "duration": 29,
    "start_time": "2022-06-17T08:49:52.748Z"
   },
   {
    "duration": 3,
    "start_time": "2022-06-17T08:50:12.993Z"
   },
   {
    "duration": 167317,
    "start_time": "2022-06-17T08:50:15.487Z"
   },
   {
    "duration": 4,
    "start_time": "2022-06-17T08:54:23.750Z"
   },
   {
    "duration": 10,
    "start_time": "2022-06-17T08:54:29.687Z"
   },
   {
    "duration": 191,
    "start_time": "2022-06-17T08:54:42.181Z"
   },
   {
    "duration": 9,
    "start_time": "2022-06-17T08:55:00.515Z"
   },
   {
    "duration": 5,
    "start_time": "2022-06-17T08:56:09.340Z"
   },
   {
    "duration": 10,
    "start_time": "2022-06-17T08:56:13.853Z"
   },
   {
    "duration": 1174,
    "start_time": "2022-06-17T08:56:58.716Z"
   },
   {
    "duration": 68,
    "start_time": "2022-06-17T08:56:59.892Z"
   },
   {
    "duration": 4,
    "start_time": "2022-06-17T08:56:59.962Z"
   },
   {
    "duration": 48,
    "start_time": "2022-06-17T08:56:59.968Z"
   },
   {
    "duration": 23,
    "start_time": "2022-06-17T08:57:00.018Z"
   },
   {
    "duration": 29,
    "start_time": "2022-06-17T08:57:00.043Z"
   },
   {
    "duration": 40,
    "start_time": "2022-06-17T08:57:00.074Z"
   },
   {
    "duration": 13,
    "start_time": "2022-06-17T08:57:00.116Z"
   },
   {
    "duration": 37,
    "start_time": "2022-06-17T08:57:00.131Z"
   },
   {
    "duration": 35,
    "start_time": "2022-06-17T08:57:00.172Z"
   },
   {
    "duration": 37,
    "start_time": "2022-06-17T08:57:00.209Z"
   },
   {
    "duration": 8,
    "start_time": "2022-06-17T08:57:00.247Z"
   },
   {
    "duration": 28,
    "start_time": "2022-06-17T08:57:00.257Z"
   },
   {
    "duration": 23,
    "start_time": "2022-06-17T08:57:00.286Z"
   },
   {
    "duration": 265,
    "start_time": "2022-06-17T08:57:00.312Z"
   },
   {
    "duration": 8,
    "start_time": "2022-06-17T08:57:00.579Z"
   },
   {
    "duration": 22,
    "start_time": "2022-06-17T08:57:00.594Z"
   },
   {
    "duration": 28,
    "start_time": "2022-06-17T08:57:00.618Z"
   },
   {
    "duration": 9,
    "start_time": "2022-06-17T08:57:00.648Z"
   },
   {
    "duration": 25,
    "start_time": "2022-06-17T08:57:00.659Z"
   },
   {
    "duration": 37,
    "start_time": "2022-06-17T08:57:00.686Z"
   },
   {
    "duration": 325,
    "start_time": "2022-06-17T08:57:00.725Z"
   },
   {
    "duration": 10,
    "start_time": "2022-06-17T08:57:01.052Z"
   },
   {
    "duration": 185,
    "start_time": "2022-06-17T08:57:01.064Z"
   },
   {
    "duration": 18,
    "start_time": "2022-06-17T08:57:01.250Z"
   },
   {
    "duration": 29,
    "start_time": "2022-06-17T08:57:01.269Z"
   },
   {
    "duration": 256,
    "start_time": "2022-06-17T08:57:01.300Z"
   },
   {
    "duration": 5,
    "start_time": "2022-06-17T08:57:01.559Z"
   },
   {
    "duration": 19,
    "start_time": "2022-06-17T08:57:01.567Z"
   },
   {
    "duration": 16,
    "start_time": "2022-06-17T08:57:01.588Z"
   },
   {
    "duration": 220,
    "start_time": "2022-06-17T08:57:01.606Z"
   },
   {
    "duration": 66,
    "start_time": "2022-06-17T08:57:01.828Z"
   },
   {
    "duration": 500,
    "start_time": "2022-06-17T08:57:01.897Z"
   },
   {
    "duration": 4,
    "start_time": "2022-06-17T08:57:02.399Z"
   },
   {
    "duration": 40,
    "start_time": "2022-06-17T08:57:02.405Z"
   },
   {
    "duration": 7,
    "start_time": "2022-06-17T08:57:02.447Z"
   },
   {
    "duration": 17,
    "start_time": "2022-06-17T08:57:02.455Z"
   },
   {
    "duration": 20,
    "start_time": "2022-06-17T08:57:02.475Z"
   },
   {
    "duration": 14,
    "start_time": "2022-06-17T08:57:02.497Z"
   },
   {
    "duration": 269,
    "start_time": "2022-06-17T08:57:02.513Z"
   },
   {
    "duration": 2246,
    "start_time": "2022-06-17T08:57:02.784Z"
   },
   {
    "duration": 116,
    "start_time": "2022-06-17T08:57:05.032Z"
   },
   {
    "duration": 1392,
    "start_time": "2022-06-17T08:57:05.150Z"
   },
   {
    "duration": 4,
    "start_time": "2022-06-17T08:57:06.544Z"
   },
   {
    "duration": 6264,
    "start_time": "2022-06-17T08:57:06.550Z"
   },
   {
    "duration": 4,
    "start_time": "2022-06-17T08:57:12.816Z"
   },
   {
    "duration": 0,
    "start_time": "2022-06-17T08:57:12.822Z"
   },
   {
    "duration": 0,
    "start_time": "2022-06-17T08:57:12.823Z"
   },
   {
    "duration": 0,
    "start_time": "2022-06-17T08:57:12.824Z"
   },
   {
    "duration": 0,
    "start_time": "2022-06-17T08:57:12.826Z"
   },
   {
    "duration": 0,
    "start_time": "2022-06-17T08:57:12.827Z"
   },
   {
    "duration": 5,
    "start_time": "2022-06-17T08:57:23.702Z"
   },
   {
    "duration": 10,
    "start_time": "2022-06-17T08:57:25.829Z"
   },
   {
    "duration": 13,
    "start_time": "2022-06-17T09:04:49.752Z"
   },
   {
    "duration": 65,
    "start_time": "2022-06-17T09:06:07.677Z"
   },
   {
    "duration": 40,
    "start_time": "2022-06-17T09:07:07.481Z"
   },
   {
    "duration": 4,
    "start_time": "2022-06-17T09:07:12.745Z"
   },
   {
    "duration": 72,
    "start_time": "2022-06-17T09:07:26.863Z"
   },
   {
    "duration": 5,
    "start_time": "2022-06-17T09:09:09.138Z"
   },
   {
    "duration": 4,
    "start_time": "2022-06-17T09:09:11.135Z"
   },
   {
    "duration": 1254,
    "start_time": "2022-06-17T09:09:34.052Z"
   },
   {
    "duration": 69,
    "start_time": "2022-06-17T09:09:35.308Z"
   },
   {
    "duration": 4,
    "start_time": "2022-06-17T09:09:35.379Z"
   },
   {
    "duration": 68,
    "start_time": "2022-06-17T09:09:35.386Z"
   },
   {
    "duration": 20,
    "start_time": "2022-06-17T09:09:35.456Z"
   },
   {
    "duration": 36,
    "start_time": "2022-06-17T09:09:35.479Z"
   },
   {
    "duration": 17,
    "start_time": "2022-06-17T09:09:35.517Z"
   },
   {
    "duration": 4,
    "start_time": "2022-06-17T09:09:35.536Z"
   },
   {
    "duration": 17,
    "start_time": "2022-06-17T09:09:35.542Z"
   },
   {
    "duration": 52,
    "start_time": "2022-06-17T09:09:35.564Z"
   },
   {
    "duration": 25,
    "start_time": "2022-06-17T09:09:35.619Z"
   },
   {
    "duration": 7,
    "start_time": "2022-06-17T09:09:35.646Z"
   },
   {
    "duration": 40,
    "start_time": "2022-06-17T09:09:35.655Z"
   },
   {
    "duration": 9,
    "start_time": "2022-06-17T09:09:35.698Z"
   },
   {
    "duration": 274,
    "start_time": "2022-06-17T09:09:35.709Z"
   },
   {
    "duration": 14,
    "start_time": "2022-06-17T09:09:35.985Z"
   },
   {
    "duration": 6,
    "start_time": "2022-06-17T09:09:36.001Z"
   },
   {
    "duration": 8,
    "start_time": "2022-06-17T09:09:36.009Z"
   },
   {
    "duration": 11,
    "start_time": "2022-06-17T09:09:36.018Z"
   },
   {
    "duration": 9,
    "start_time": "2022-06-17T09:09:36.031Z"
   },
   {
    "duration": 29,
    "start_time": "2022-06-17T09:09:36.041Z"
   },
   {
    "duration": 351,
    "start_time": "2022-06-17T09:09:36.072Z"
   },
   {
    "duration": 11,
    "start_time": "2022-06-17T09:09:36.425Z"
   },
   {
    "duration": 188,
    "start_time": "2022-06-17T09:09:36.438Z"
   },
   {
    "duration": 19,
    "start_time": "2022-06-17T09:09:36.628Z"
   },
   {
    "duration": 16,
    "start_time": "2022-06-17T09:09:36.649Z"
   },
   {
    "duration": 266,
    "start_time": "2022-06-17T09:09:36.667Z"
   },
   {
    "duration": 5,
    "start_time": "2022-06-17T09:09:36.936Z"
   },
   {
    "duration": 9,
    "start_time": "2022-06-17T09:09:36.943Z"
   },
   {
    "duration": 8,
    "start_time": "2022-06-17T09:09:36.953Z"
   },
   {
    "duration": 220,
    "start_time": "2022-06-17T09:09:36.963Z"
   },
   {
    "duration": 55,
    "start_time": "2022-06-17T09:09:37.186Z"
   },
   {
    "duration": 478,
    "start_time": "2022-06-17T09:09:37.242Z"
   },
   {
    "duration": 6,
    "start_time": "2022-06-17T09:09:37.722Z"
   },
   {
    "duration": 31,
    "start_time": "2022-06-17T09:09:37.730Z"
   },
   {
    "duration": 6,
    "start_time": "2022-06-17T09:09:37.763Z"
   },
   {
    "duration": 23,
    "start_time": "2022-06-17T09:09:37.772Z"
   },
   {
    "duration": 15,
    "start_time": "2022-06-17T09:09:37.797Z"
   },
   {
    "duration": 19,
    "start_time": "2022-06-17T09:09:37.814Z"
   },
   {
    "duration": 292,
    "start_time": "2022-06-17T09:09:37.836Z"
   },
   {
    "duration": 2296,
    "start_time": "2022-06-17T09:09:38.130Z"
   },
   {
    "duration": 146,
    "start_time": "2022-06-17T09:09:40.429Z"
   },
   {
    "duration": 938,
    "start_time": "2022-06-17T09:09:40.578Z"
   },
   {
    "duration": 4,
    "start_time": "2022-06-17T09:09:41.518Z"
   },
   {
    "duration": 5974,
    "start_time": "2022-06-17T09:09:41.524Z"
   },
   {
    "duration": 6,
    "start_time": "2022-06-17T09:10:47.362Z"
   },
   {
    "duration": 2276,
    "start_time": "2022-06-17T09:10:48.968Z"
   },
   {
    "duration": 11,
    "start_time": "2022-06-17T09:10:56.797Z"
   },
   {
    "duration": 26186,
    "start_time": "2022-06-17T09:10:58.053Z"
   },
   {
    "duration": 12,
    "start_time": "2022-06-17T09:11:30.487Z"
   },
   {
    "duration": 6,
    "start_time": "2022-06-17T09:14:28.114Z"
   },
   {
    "duration": 12130,
    "start_time": "2022-06-17T09:14:44.182Z"
   },
   {
    "duration": 38,
    "start_time": "2022-06-17T09:16:39.546Z"
   },
   {
    "duration": 43,
    "start_time": "2022-06-17T09:16:43.285Z"
   },
   {
    "duration": 5,
    "start_time": "2022-06-17T09:17:04.463Z"
   },
   {
    "duration": 8993,
    "start_time": "2022-06-17T09:17:06.296Z"
   },
   {
    "duration": 5,
    "start_time": "2022-06-17T09:23:44.476Z"
   },
   {
    "duration": 178305,
    "start_time": "2022-06-17T09:23:46.332Z"
   },
   {
    "duration": 12,
    "start_time": "2022-06-17T09:43:49.666Z"
   },
   {
    "duration": 197377,
    "start_time": "2022-06-17T09:43:50.150Z"
   },
   {
    "duration": 10,
    "start_time": "2022-06-17T09:47:07.530Z"
   },
   {
    "duration": 5,
    "start_time": "2022-06-17T09:48:47.120Z"
   },
   {
    "duration": 7,
    "start_time": "2022-06-17T09:48:48.633Z"
   },
   {
    "duration": 12,
    "start_time": "2022-06-17T09:48:49.901Z"
   },
   {
    "duration": 3,
    "start_time": "2022-06-17T09:48:56.789Z"
   },
   {
    "duration": 10,
    "start_time": "2022-06-17T11:06:00.141Z"
   },
   {
    "duration": 4,
    "start_time": "2022-06-17T11:06:11.106Z"
   },
   {
    "duration": 43,
    "start_time": "2022-06-17T11:06:18.414Z"
   },
   {
    "duration": 1225,
    "start_time": "2022-06-19T08:23:13.361Z"
   },
   {
    "duration": 224,
    "start_time": "2022-06-19T08:23:14.588Z"
   },
   {
    "duration": 3,
    "start_time": "2022-06-19T08:23:14.814Z"
   },
   {
    "duration": 45,
    "start_time": "2022-06-19T08:23:14.819Z"
   },
   {
    "duration": 18,
    "start_time": "2022-06-19T08:23:14.866Z"
   },
   {
    "duration": 15,
    "start_time": "2022-06-19T08:23:14.886Z"
   },
   {
    "duration": 31,
    "start_time": "2022-06-19T08:23:14.902Z"
   },
   {
    "duration": 3,
    "start_time": "2022-06-19T08:23:14.935Z"
   },
   {
    "duration": 11,
    "start_time": "2022-06-19T08:23:14.939Z"
   },
   {
    "duration": 14,
    "start_time": "2022-06-19T08:23:14.952Z"
   },
   {
    "duration": 22,
    "start_time": "2022-06-19T08:23:14.968Z"
   },
   {
    "duration": 8,
    "start_time": "2022-06-19T08:23:14.992Z"
   },
   {
    "duration": 8,
    "start_time": "2022-06-19T08:23:15.023Z"
   },
   {
    "duration": 11,
    "start_time": "2022-06-19T08:23:15.034Z"
   },
   {
    "duration": 235,
    "start_time": "2022-06-19T08:23:15.047Z"
   },
   {
    "duration": 7,
    "start_time": "2022-06-19T08:23:15.284Z"
   },
   {
    "duration": 8,
    "start_time": "2022-06-19T08:23:15.293Z"
   },
   {
    "duration": 7,
    "start_time": "2022-06-19T08:23:15.303Z"
   },
   {
    "duration": 13,
    "start_time": "2022-06-19T08:23:15.312Z"
   },
   {
    "duration": 9,
    "start_time": "2022-06-19T08:23:15.326Z"
   },
   {
    "duration": 22,
    "start_time": "2022-06-19T08:23:15.336Z"
   },
   {
    "duration": 275,
    "start_time": "2022-06-19T08:23:15.360Z"
   },
   {
    "duration": 11,
    "start_time": "2022-06-19T08:23:15.636Z"
   },
   {
    "duration": 11,
    "start_time": "2022-06-19T08:23:15.649Z"
   },
   {
    "duration": 219,
    "start_time": "2022-06-19T08:23:15.662Z"
   },
   {
    "duration": 5,
    "start_time": "2022-06-19T08:23:15.883Z"
   },
   {
    "duration": 9,
    "start_time": "2022-06-19T08:23:15.889Z"
   },
   {
    "duration": 10,
    "start_time": "2022-06-19T08:23:15.900Z"
   },
   {
    "duration": 193,
    "start_time": "2022-06-19T08:23:15.911Z"
   },
   {
    "duration": 52,
    "start_time": "2022-06-19T08:23:16.105Z"
   },
   {
    "duration": 415,
    "start_time": "2022-06-19T08:23:16.159Z"
   },
   {
    "duration": 4,
    "start_time": "2022-06-19T08:23:16.576Z"
   },
   {
    "duration": 31,
    "start_time": "2022-06-19T08:23:16.581Z"
   },
   {
    "duration": 12,
    "start_time": "2022-06-19T08:23:16.613Z"
   },
   {
    "duration": 10,
    "start_time": "2022-06-19T08:23:16.626Z"
   },
   {
    "duration": 13,
    "start_time": "2022-06-19T08:23:16.638Z"
   },
   {
    "duration": 11,
    "start_time": "2022-06-19T08:23:16.652Z"
   },
   {
    "duration": 304,
    "start_time": "2022-06-19T08:23:16.664Z"
   },
   {
    "duration": 2,
    "start_time": "2022-06-19T08:23:16.971Z"
   },
   {
    "duration": 7,
    "start_time": "2022-06-19T08:23:16.975Z"
   },
   {
    "duration": 6,
    "start_time": "2022-06-19T08:23:16.987Z"
   },
   {
    "duration": 5,
    "start_time": "2022-06-19T08:23:16.994Z"
   },
   {
    "duration": 6,
    "start_time": "2022-06-19T08:23:17.000Z"
   },
   {
    "duration": 6,
    "start_time": "2022-06-19T08:23:17.024Z"
   },
   {
    "duration": 1022,
    "start_time": "2022-06-19T08:23:17.032Z"
   },
   {
    "duration": 6,
    "start_time": "2022-06-19T08:23:18.055Z"
   },
   {
    "duration": 221,
    "start_time": "2022-06-19T08:23:18.063Z"
   },
   {
    "duration": 1174,
    "start_time": "2022-06-19T08:23:18.285Z"
   },
   {
    "duration": 3,
    "start_time": "2022-06-19T08:23:19.461Z"
   },
   {
    "duration": 9,
    "start_time": "2022-06-19T08:23:19.466Z"
   },
   {
    "duration": 9,
    "start_time": "2022-06-19T08:23:19.477Z"
   },
   {
    "duration": 7,
    "start_time": "2022-06-19T08:23:19.488Z"
   },
   {
    "duration": 226,
    "start_time": "2022-06-19T08:23:19.496Z"
   },
   {
    "duration": 6,
    "start_time": "2022-06-19T08:23:28.982Z"
   },
   {
    "duration": 96,
    "start_time": "2022-06-19T08:23:28.993Z"
   },
   {
    "duration": 4,
    "start_time": "2022-06-19T08:23:29.091Z"
   },
   {
    "duration": 84,
    "start_time": "2022-06-19T08:23:29.097Z"
   },
   {
    "duration": 43,
    "start_time": "2022-06-19T08:23:29.183Z"
   },
   {
    "duration": 25,
    "start_time": "2022-06-19T08:23:29.229Z"
   },
   {
    "duration": 18,
    "start_time": "2022-06-19T08:23:29.256Z"
   },
   {
    "duration": 3,
    "start_time": "2022-06-19T08:23:29.276Z"
   },
   {
    "duration": 12,
    "start_time": "2022-06-19T08:23:29.282Z"
   },
   {
    "duration": 38,
    "start_time": "2022-06-19T08:23:29.322Z"
   },
   {
    "duration": 19,
    "start_time": "2022-06-19T08:23:29.362Z"
   },
   {
    "duration": 5,
    "start_time": "2022-06-19T08:23:29.383Z"
   },
   {
    "duration": 9,
    "start_time": "2022-06-19T08:23:29.390Z"
   },
   {
    "duration": 28,
    "start_time": "2022-06-19T08:23:29.401Z"
   },
   {
    "duration": 263,
    "start_time": "2022-06-19T08:23:29.433Z"
   },
   {
    "duration": 7,
    "start_time": "2022-06-19T08:23:29.698Z"
   },
   {
    "duration": 17,
    "start_time": "2022-06-19T08:23:29.707Z"
   },
   {
    "duration": 5,
    "start_time": "2022-06-19T08:23:29.725Z"
   },
   {
    "duration": 7,
    "start_time": "2022-06-19T08:23:29.732Z"
   },
   {
    "duration": 5,
    "start_time": "2022-06-19T08:23:29.741Z"
   },
   {
    "duration": 21,
    "start_time": "2022-06-19T08:23:29.748Z"
   },
   {
    "duration": 325,
    "start_time": "2022-06-19T08:23:29.771Z"
   },
   {
    "duration": 10,
    "start_time": "2022-06-19T08:23:30.098Z"
   },
   {
    "duration": 12,
    "start_time": "2022-06-19T08:23:30.123Z"
   },
   {
    "duration": 219,
    "start_time": "2022-06-19T08:23:30.136Z"
   },
   {
    "duration": 5,
    "start_time": "2022-06-19T08:23:30.357Z"
   },
   {
    "duration": 15,
    "start_time": "2022-06-19T08:23:30.364Z"
   },
   {
    "duration": 14,
    "start_time": "2022-06-19T08:23:30.380Z"
   },
   {
    "duration": 187,
    "start_time": "2022-06-19T08:23:30.396Z"
   },
   {
    "duration": 15,
    "start_time": "2022-06-19T08:23:30.585Z"
   },
   {
    "duration": 498,
    "start_time": "2022-06-19T08:23:30.602Z"
   },
   {
    "duration": 5,
    "start_time": "2022-06-19T08:23:31.102Z"
   },
   {
    "duration": 63,
    "start_time": "2022-06-19T08:23:31.109Z"
   },
   {
    "duration": 18,
    "start_time": "2022-06-19T08:23:31.174Z"
   },
   {
    "duration": 14,
    "start_time": "2022-06-19T08:23:31.194Z"
   },
   {
    "duration": 23,
    "start_time": "2022-06-19T08:23:31.210Z"
   },
   {
    "duration": 16,
    "start_time": "2022-06-19T08:23:31.235Z"
   },
   {
    "duration": 227,
    "start_time": "2022-06-19T08:23:31.253Z"
   },
   {
    "duration": 3,
    "start_time": "2022-06-19T08:23:31.482Z"
   },
   {
    "duration": 8,
    "start_time": "2022-06-19T08:23:31.487Z"
   },
   {
    "duration": 9,
    "start_time": "2022-06-19T08:23:31.497Z"
   },
   {
    "duration": 19,
    "start_time": "2022-06-19T08:23:31.509Z"
   },
   {
    "duration": 9,
    "start_time": "2022-06-19T08:23:31.530Z"
   },
   {
    "duration": 11,
    "start_time": "2022-06-19T08:23:31.540Z"
   },
   {
    "duration": 717,
    "start_time": "2022-06-19T08:23:31.553Z"
   },
   {
    "duration": 5,
    "start_time": "2022-06-19T08:23:32.272Z"
   },
   {
    "duration": 394,
    "start_time": "2022-06-19T08:23:32.278Z"
   },
   {
    "duration": 899,
    "start_time": "2022-06-19T08:23:32.674Z"
   },
   {
    "duration": 3,
    "start_time": "2022-06-19T08:23:33.575Z"
   },
   {
    "duration": 6,
    "start_time": "2022-06-19T08:23:33.580Z"
   },
   {
    "duration": 7,
    "start_time": "2022-06-19T08:23:33.587Z"
   },
   {
    "duration": 6,
    "start_time": "2022-06-19T08:23:33.596Z"
   },
   {
    "duration": 215,
    "start_time": "2022-06-19T08:23:33.603Z"
   },
   {
    "duration": 1170,
    "start_time": "2022-06-20T01:49:59.644Z"
   },
   {
    "duration": 74,
    "start_time": "2022-06-20T01:50:00.816Z"
   },
   {
    "duration": 6,
    "start_time": "2022-06-20T01:50:00.893Z"
   },
   {
    "duration": 103,
    "start_time": "2022-06-20T01:50:00.900Z"
   },
   {
    "duration": 22,
    "start_time": "2022-06-20T01:50:01.006Z"
   },
   {
    "duration": 35,
    "start_time": "2022-06-20T01:50:01.033Z"
   },
   {
    "duration": 13,
    "start_time": "2022-06-20T01:50:01.070Z"
   },
   {
    "duration": 21,
    "start_time": "2022-06-20T01:50:01.085Z"
   },
   {
    "duration": 39,
    "start_time": "2022-06-20T01:50:01.108Z"
   },
   {
    "duration": 30,
    "start_time": "2022-06-20T01:50:01.149Z"
   },
   {
    "duration": 52,
    "start_time": "2022-06-20T01:50:01.181Z"
   },
   {
    "duration": 30,
    "start_time": "2022-06-20T01:50:01.235Z"
   },
   {
    "duration": 50,
    "start_time": "2022-06-20T01:50:01.267Z"
   },
   {
    "duration": 74,
    "start_time": "2022-06-20T01:50:01.321Z"
   },
   {
    "duration": 358,
    "start_time": "2022-06-20T01:50:01.397Z"
   },
   {
    "duration": 8,
    "start_time": "2022-06-20T01:50:01.757Z"
   },
   {
    "duration": 33,
    "start_time": "2022-06-20T01:50:01.767Z"
   },
   {
    "duration": 47,
    "start_time": "2022-06-20T01:50:01.802Z"
   },
   {
    "duration": 53,
    "start_time": "2022-06-20T01:50:01.851Z"
   },
   {
    "duration": 56,
    "start_time": "2022-06-20T01:50:01.906Z"
   },
   {
    "duration": 39,
    "start_time": "2022-06-20T01:50:01.963Z"
   },
   {
    "duration": 298,
    "start_time": "2022-06-20T01:50:02.004Z"
   },
   {
    "duration": 10,
    "start_time": "2022-06-20T01:50:02.304Z"
   },
   {
    "duration": 43,
    "start_time": "2022-06-20T01:50:02.326Z"
   },
   {
    "duration": 282,
    "start_time": "2022-06-20T01:50:02.370Z"
   },
   {
    "duration": 6,
    "start_time": "2022-06-20T01:50:02.653Z"
   },
   {
    "duration": 60,
    "start_time": "2022-06-20T01:50:02.660Z"
   },
   {
    "duration": 38,
    "start_time": "2022-06-20T01:50:02.721Z"
   },
   {
    "duration": 212,
    "start_time": "2022-06-20T01:50:02.761Z"
   },
   {
    "duration": 68,
    "start_time": "2022-06-20T01:50:02.975Z"
   },
   {
    "duration": 444,
    "start_time": "2022-06-20T01:50:03.045Z"
   },
   {
    "duration": 3,
    "start_time": "2022-06-20T01:50:03.491Z"
   },
   {
    "duration": 48,
    "start_time": "2022-06-20T01:50:03.496Z"
   },
   {
    "duration": 24,
    "start_time": "2022-06-20T01:50:03.546Z"
   },
   {
    "duration": 7,
    "start_time": "2022-06-20T01:50:03.572Z"
   },
   {
    "duration": 35,
    "start_time": "2022-06-20T01:50:03.580Z"
   },
   {
    "duration": 22,
    "start_time": "2022-06-20T01:50:03.617Z"
   },
   {
    "duration": 274,
    "start_time": "2022-06-20T01:50:03.641Z"
   },
   {
    "duration": 10,
    "start_time": "2022-06-20T01:50:03.917Z"
   },
   {
    "duration": 29,
    "start_time": "2022-06-20T01:50:03.935Z"
   },
   {
    "duration": 36,
    "start_time": "2022-06-20T01:50:03.969Z"
   },
   {
    "duration": 51,
    "start_time": "2022-06-20T01:50:04.006Z"
   },
   {
    "duration": 25,
    "start_time": "2022-06-20T01:50:04.059Z"
   },
   {
    "duration": 39,
    "start_time": "2022-06-20T01:50:04.086Z"
   },
   {
    "duration": 1226,
    "start_time": "2022-06-20T01:50:04.131Z"
   },
   {
    "duration": 5,
    "start_time": "2022-06-20T01:50:05.359Z"
   },
   {
    "duration": 270,
    "start_time": "2022-06-20T01:50:05.366Z"
   },
   {
    "duration": 1041,
    "start_time": "2022-06-20T01:50:05.644Z"
   },
   {
    "duration": 5,
    "start_time": "2022-06-20T01:50:06.686Z"
   },
   {
    "duration": 16,
    "start_time": "2022-06-20T01:50:06.693Z"
   },
   {
    "duration": 38,
    "start_time": "2022-06-20T01:50:06.711Z"
   },
   {
    "duration": 23,
    "start_time": "2022-06-20T01:50:06.751Z"
   },
   {
    "duration": 261,
    "start_time": "2022-06-20T01:50:06.775Z"
   },
   {
    "duration": 126,
    "start_time": "2022-06-20T01:54:12.714Z"
   },
   {
    "duration": 5,
    "start_time": "2022-06-20T02:11:58.669Z"
   },
   {
    "duration": 47,
    "start_time": "2022-06-20T08:29:33.396Z"
   },
   {
    "duration": 1171,
    "start_time": "2022-06-20T08:29:38.563Z"
   },
   {
    "duration": 236,
    "start_time": "2022-06-20T08:29:39.735Z"
   },
   {
    "duration": 4,
    "start_time": "2022-06-20T08:29:39.973Z"
   },
   {
    "duration": 44,
    "start_time": "2022-06-20T08:29:39.978Z"
   },
   {
    "duration": 18,
    "start_time": "2022-06-20T08:29:40.024Z"
   },
   {
    "duration": 29,
    "start_time": "2022-06-20T08:29:40.043Z"
   },
   {
    "duration": 13,
    "start_time": "2022-06-20T08:29:40.074Z"
   },
   {
    "duration": 4,
    "start_time": "2022-06-20T08:29:40.089Z"
   },
   {
    "duration": 11,
    "start_time": "2022-06-20T08:29:40.094Z"
   },
   {
    "duration": 15,
    "start_time": "2022-06-20T08:29:40.108Z"
   },
   {
    "duration": 45,
    "start_time": "2022-06-20T08:29:40.124Z"
   },
   {
    "duration": 6,
    "start_time": "2022-06-20T08:29:40.171Z"
   },
   {
    "duration": 9,
    "start_time": "2022-06-20T08:29:40.178Z"
   },
   {
    "duration": 9,
    "start_time": "2022-06-20T08:29:40.189Z"
   },
   {
    "duration": 232,
    "start_time": "2022-06-20T08:29:40.199Z"
   },
   {
    "duration": 7,
    "start_time": "2022-06-20T08:29:40.432Z"
   },
   {
    "duration": 47,
    "start_time": "2022-06-20T08:30:45.354Z"
   },
   {
    "duration": 63,
    "start_time": "2022-06-20T08:30:56.704Z"
   },
   {
    "duration": 59,
    "start_time": "2022-06-20T08:31:20.262Z"
   },
   {
    "duration": 47,
    "start_time": "2022-06-20T08:31:30.120Z"
   },
   {
    "duration": 149,
    "start_time": "2022-06-20T08:31:42.318Z"
   },
   {
    "duration": 139,
    "start_time": "2022-06-20T08:31:54.798Z"
   },
   {
    "duration": 140,
    "start_time": "2022-06-20T08:32:56.242Z"
   },
   {
    "duration": 71,
    "start_time": "2022-06-20T08:36:43.062Z"
   },
   {
    "duration": 22,
    "start_time": "2022-06-20T08:36:57.898Z"
   },
   {
    "duration": 21,
    "start_time": "2022-06-20T08:37:13.943Z"
   },
   {
    "duration": 53,
    "start_time": "2022-06-20T08:38:00.483Z"
   },
   {
    "duration": 20,
    "start_time": "2022-06-20T08:38:11.142Z"
   },
   {
    "duration": 24,
    "start_time": "2022-06-20T08:39:23.184Z"
   },
   {
    "duration": 33,
    "start_time": "2022-06-20T08:39:40.642Z"
   },
   {
    "duration": 20,
    "start_time": "2022-06-20T08:40:02.042Z"
   },
   {
    "duration": 2,
    "start_time": "2022-06-20T08:51:24.627Z"
   },
   {
    "duration": 76,
    "start_time": "2022-06-20T08:51:24.633Z"
   },
   {
    "duration": 4,
    "start_time": "2022-06-20T08:51:24.711Z"
   },
   {
    "duration": 57,
    "start_time": "2022-06-20T08:51:24.717Z"
   },
   {
    "duration": 19,
    "start_time": "2022-06-20T08:51:24.777Z"
   },
   {
    "duration": 15,
    "start_time": "2022-06-20T08:51:24.799Z"
   },
   {
    "duration": 46,
    "start_time": "2022-06-20T08:51:24.816Z"
   },
   {
    "duration": 3,
    "start_time": "2022-06-20T08:51:24.864Z"
   },
   {
    "duration": 11,
    "start_time": "2022-06-20T08:51:24.869Z"
   },
   {
    "duration": 14,
    "start_time": "2022-06-20T08:51:24.882Z"
   },
   {
    "duration": 13,
    "start_time": "2022-06-20T08:51:24.899Z"
   },
   {
    "duration": 4,
    "start_time": "2022-06-20T08:51:24.913Z"
   },
   {
    "duration": 9,
    "start_time": "2022-06-20T08:51:24.918Z"
   },
   {
    "duration": 37,
    "start_time": "2022-06-20T08:51:24.928Z"
   },
   {
    "duration": 223,
    "start_time": "2022-06-20T08:51:24.968Z"
   },
   {
    "duration": 7,
    "start_time": "2022-06-20T08:51:25.193Z"
   },
   {
    "duration": 152,
    "start_time": "2022-06-20T08:51:25.202Z"
   },
   {
    "duration": 5,
    "start_time": "2022-06-20T08:51:25.355Z"
   },
   {
    "duration": 5,
    "start_time": "2022-06-20T08:51:25.361Z"
   },
   {
    "duration": 5,
    "start_time": "2022-06-20T08:51:25.368Z"
   },
   {
    "duration": 6,
    "start_time": "2022-06-20T08:51:25.375Z"
   },
   {
    "duration": 23,
    "start_time": "2022-06-20T08:51:25.382Z"
   },
   {
    "duration": 295,
    "start_time": "2022-06-20T08:51:25.406Z"
   },
   {
    "duration": 9,
    "start_time": "2022-06-20T08:51:25.703Z"
   },
   {
    "duration": 12,
    "start_time": "2022-06-20T08:51:25.713Z"
   },
   {
    "duration": 282,
    "start_time": "2022-06-20T08:51:25.727Z"
   },
   {
    "duration": 6,
    "start_time": "2022-06-20T08:51:26.011Z"
   },
   {
    "duration": 14,
    "start_time": "2022-06-20T08:51:26.018Z"
   },
   {
    "duration": 13,
    "start_time": "2022-06-20T08:51:26.036Z"
   },
   {
    "duration": 179,
    "start_time": "2022-06-20T08:51:26.051Z"
   },
   {
    "duration": 13,
    "start_time": "2022-06-20T08:51:26.231Z"
   },
   {
    "duration": 422,
    "start_time": "2022-06-20T08:51:26.246Z"
   },
   {
    "duration": 3,
    "start_time": "2022-06-20T08:51:26.670Z"
   },
   {
    "duration": 32,
    "start_time": "2022-06-20T08:51:26.675Z"
   },
   {
    "duration": 5,
    "start_time": "2022-06-20T08:51:26.709Z"
   },
   {
    "duration": 5,
    "start_time": "2022-06-20T08:51:26.715Z"
   },
   {
    "duration": 11,
    "start_time": "2022-06-20T08:51:26.721Z"
   },
   {
    "duration": 1152,
    "start_time": "2022-06-20T10:55:40.489Z"
   },
   {
    "duration": 104,
    "start_time": "2022-06-20T10:55:41.643Z"
   },
   {
    "duration": 4,
    "start_time": "2022-06-20T10:55:41.748Z"
   },
   {
    "duration": 40,
    "start_time": "2022-06-20T10:55:41.753Z"
   },
   {
    "duration": 16,
    "start_time": "2022-06-20T10:55:41.795Z"
   },
   {
    "duration": 14,
    "start_time": "2022-06-20T10:55:41.812Z"
   },
   {
    "duration": 11,
    "start_time": "2022-06-20T10:55:41.827Z"
   },
   {
    "duration": 2,
    "start_time": "2022-06-20T10:55:41.839Z"
   },
   {
    "duration": 12,
    "start_time": "2022-06-20T10:55:41.843Z"
   },
   {
    "duration": 41,
    "start_time": "2022-06-20T10:55:41.857Z"
   },
   {
    "duration": 12,
    "start_time": "2022-06-20T10:55:41.899Z"
   },
   {
    "duration": 4,
    "start_time": "2022-06-20T10:55:41.913Z"
   },
   {
    "duration": 7,
    "start_time": "2022-06-20T10:55:41.918Z"
   },
   {
    "duration": 6,
    "start_time": "2022-06-20T10:55:41.928Z"
   },
   {
    "duration": 222,
    "start_time": "2022-06-20T10:55:41.936Z"
   },
   {
    "duration": 7,
    "start_time": "2022-06-20T10:55:42.159Z"
   },
   {
    "duration": 137,
    "start_time": "2022-06-20T10:55:42.167Z"
   },
   {
    "duration": 3,
    "start_time": "2022-06-20T10:55:42.306Z"
   },
   {
    "duration": 6,
    "start_time": "2022-06-20T10:55:42.311Z"
   },
   {
    "duration": 6,
    "start_time": "2022-06-20T10:55:42.318Z"
   },
   {
    "duration": 6,
    "start_time": "2022-06-20T10:55:42.325Z"
   },
   {
    "duration": 65,
    "start_time": "2022-06-20T10:55:42.332Z"
   },
   {
    "duration": 243,
    "start_time": "2022-06-20T10:55:42.398Z"
   },
   {
    "duration": 8,
    "start_time": "2022-06-20T10:55:42.643Z"
   },
   {
    "duration": 12,
    "start_time": "2022-06-20T10:55:42.653Z"
   },
   {
    "duration": 199,
    "start_time": "2022-06-20T10:55:42.667Z"
   },
   {
    "duration": 5,
    "start_time": "2022-06-20T10:55:42.867Z"
   },
   {
    "duration": 18,
    "start_time": "2022-06-20T10:55:42.874Z"
   },
   {
    "duration": 4,
    "start_time": "2022-06-20T10:55:42.893Z"
   },
   {
    "duration": 166,
    "start_time": "2022-06-20T10:55:42.898Z"
   },
   {
    "duration": 13,
    "start_time": "2022-06-20T10:55:43.066Z"
   },
   {
    "duration": 377,
    "start_time": "2022-06-20T10:55:43.080Z"
   },
   {
    "duration": 3,
    "start_time": "2022-06-20T10:55:43.459Z"
   },
   {
    "duration": 36,
    "start_time": "2022-06-20T10:55:43.464Z"
   },
   {
    "duration": 7,
    "start_time": "2022-06-20T10:55:43.501Z"
   },
   {
    "duration": 6,
    "start_time": "2022-06-20T10:55:43.509Z"
   },
   {
    "duration": 12,
    "start_time": "2022-06-20T10:55:43.517Z"
   },
   {
    "duration": 9,
    "start_time": "2022-06-20T10:55:43.530Z"
   },
   {
    "duration": 286,
    "start_time": "2022-06-20T10:55:43.540Z"
   },
   {
    "duration": 2,
    "start_time": "2022-06-20T10:55:43.827Z"
   },
   {
    "duration": 4,
    "start_time": "2022-06-20T10:55:43.832Z"
   },
   {
    "duration": 5,
    "start_time": "2022-06-20T10:55:43.838Z"
   },
   {
    "duration": 5,
    "start_time": "2022-06-20T10:55:43.845Z"
   },
   {
    "duration": 6,
    "start_time": "2022-06-20T10:55:43.852Z"
   },
   {
    "duration": 8,
    "start_time": "2022-06-20T10:55:43.859Z"
   },
   {
    "duration": 1144,
    "start_time": "2022-06-20T10:55:43.868Z"
   },
   {
    "duration": 5,
    "start_time": "2022-06-20T10:55:45.013Z"
   },
   {
    "duration": 7,
    "start_time": "2022-06-20T10:55:58.735Z"
   },
   {
    "duration": 9,
    "start_time": "2022-06-20T10:58:21.727Z"
   },
   {
    "duration": 6,
    "start_time": "2022-06-20T10:58:40.444Z"
   },
   {
    "duration": 191,
    "start_time": "2022-06-20T11:02:51.367Z"
   },
   {
    "duration": 250,
    "start_time": "2022-06-20T11:03:14.794Z"
   },
   {
    "duration": 237,
    "start_time": "2022-06-20T11:03:36.531Z"
   },
   {
    "duration": 240,
    "start_time": "2022-06-20T11:04:01.957Z"
   },
   {
    "duration": 139,
    "start_time": "2022-06-20T11:04:39.316Z"
   },
   {
    "duration": 132,
    "start_time": "2022-06-20T11:04:48.500Z"
   },
   {
    "duration": 140,
    "start_time": "2022-06-20T11:04:55.019Z"
   },
   {
    "duration": 131,
    "start_time": "2022-06-20T11:07:10.298Z"
   },
   {
    "duration": 115,
    "start_time": "2022-06-20T11:09:32.436Z"
   },
   {
    "duration": 3,
    "start_time": "2022-06-20T11:09:44.614Z"
   },
   {
    "duration": 68,
    "start_time": "2022-06-20T11:09:44.623Z"
   },
   {
    "duration": 4,
    "start_time": "2022-06-20T11:09:44.692Z"
   },
   {
    "duration": 34,
    "start_time": "2022-06-20T11:09:44.698Z"
   },
   {
    "duration": 17,
    "start_time": "2022-06-20T11:09:44.733Z"
   },
   {
    "duration": 41,
    "start_time": "2022-06-20T11:09:44.751Z"
   },
   {
    "duration": 12,
    "start_time": "2022-06-20T11:09:44.794Z"
   },
   {
    "duration": 3,
    "start_time": "2022-06-20T11:09:44.807Z"
   },
   {
    "duration": 10,
    "start_time": "2022-06-20T11:09:44.812Z"
   },
   {
    "duration": 14,
    "start_time": "2022-06-20T11:09:44.823Z"
   },
   {
    "duration": 12,
    "start_time": "2022-06-20T11:09:44.839Z"
   },
   {
    "duration": 4,
    "start_time": "2022-06-20T11:09:44.853Z"
   },
   {
    "duration": 7,
    "start_time": "2022-06-20T11:09:44.891Z"
   },
   {
    "duration": 7,
    "start_time": "2022-06-20T11:09:44.900Z"
   },
   {
    "duration": 225,
    "start_time": "2022-06-20T11:09:44.908Z"
   },
   {
    "duration": 7,
    "start_time": "2022-06-20T11:09:45.135Z"
   },
   {
    "duration": 231,
    "start_time": "2022-06-20T11:09:45.143Z"
   },
   {
    "duration": 4,
    "start_time": "2022-06-20T11:09:45.375Z"
   },
   {
    "duration": 11,
    "start_time": "2022-06-20T11:09:45.381Z"
   },
   {
    "duration": 9,
    "start_time": "2022-06-20T11:09:45.393Z"
   },
   {
    "duration": 4,
    "start_time": "2022-06-20T11:09:45.404Z"
   },
   {
    "duration": 24,
    "start_time": "2022-06-20T11:09:45.409Z"
   },
   {
    "duration": 286,
    "start_time": "2022-06-20T11:09:45.436Z"
   },
   {
    "duration": 9,
    "start_time": "2022-06-20T11:09:45.724Z"
   },
   {
    "duration": 9,
    "start_time": "2022-06-20T11:09:45.735Z"
   },
   {
    "duration": 208,
    "start_time": "2022-06-20T11:09:45.746Z"
   },
   {
    "duration": 4,
    "start_time": "2022-06-20T11:09:45.956Z"
   },
   {
    "duration": 6,
    "start_time": "2022-06-20T11:09:45.961Z"
   },
   {
    "duration": 4,
    "start_time": "2022-06-20T11:09:45.970Z"
   },
   {
    "duration": 161,
    "start_time": "2022-06-20T11:09:45.991Z"
   },
   {
    "duration": 12,
    "start_time": "2022-06-20T11:09:46.153Z"
   },
   {
    "duration": 412,
    "start_time": "2022-06-20T11:09:46.166Z"
   },
   {
    "duration": 3,
    "start_time": "2022-06-20T11:09:46.580Z"
   },
   {
    "duration": 33,
    "start_time": "2022-06-20T11:09:46.584Z"
   },
   {
    "duration": 7,
    "start_time": "2022-06-20T11:09:46.619Z"
   },
   {
    "duration": 7,
    "start_time": "2022-06-20T11:09:46.627Z"
   },
   {
    "duration": 11,
    "start_time": "2022-06-20T11:09:46.635Z"
   },
   {
    "duration": 9,
    "start_time": "2022-06-20T11:09:46.648Z"
   },
   {
    "duration": 205,
    "start_time": "2022-06-20T11:09:46.658Z"
   },
   {
    "duration": 2,
    "start_time": "2022-06-20T11:09:46.865Z"
   },
   {
    "duration": 5,
    "start_time": "2022-06-20T11:09:46.868Z"
   },
   {
    "duration": 7,
    "start_time": "2022-06-20T11:09:46.874Z"
   },
   {
    "duration": 2,
    "start_time": "2022-06-20T11:09:46.892Z"
   },
   {
    "duration": 5,
    "start_time": "2022-06-20T11:09:46.895Z"
   },
   {
    "duration": 6,
    "start_time": "2022-06-20T11:09:46.902Z"
   },
   {
    "duration": 1089,
    "start_time": "2022-06-20T11:09:46.909Z"
   },
   {
    "duration": 4,
    "start_time": "2022-06-20T11:09:48.000Z"
   },
   {
    "duration": 973,
    "start_time": "2022-06-20T11:09:48.006Z"
   },
   {
    "duration": 4,
    "start_time": "2022-06-20T11:09:48.981Z"
   },
   {
    "duration": 8,
    "start_time": "2022-06-20T11:09:48.986Z"
   },
   {
    "duration": 8,
    "start_time": "2022-06-20T11:09:48.995Z"
   },
   {
    "duration": 8,
    "start_time": "2022-06-20T11:09:49.005Z"
   },
   {
    "duration": 229,
    "start_time": "2022-06-20T11:09:49.014Z"
   },
   {
    "duration": 1371,
    "start_time": "2022-06-21T09:33:42.993Z"
   },
   {
    "duration": 232,
    "start_time": "2022-06-21T09:33:44.375Z"
   },
   {
    "duration": 3,
    "start_time": "2022-06-21T09:33:44.609Z"
   },
   {
    "duration": 60,
    "start_time": "2022-06-21T09:33:44.614Z"
   },
   {
    "duration": 18,
    "start_time": "2022-06-21T09:33:44.677Z"
   },
   {
    "duration": 16,
    "start_time": "2022-06-21T09:33:44.697Z"
   },
   {
    "duration": 12,
    "start_time": "2022-06-21T09:33:44.714Z"
   },
   {
    "duration": 7,
    "start_time": "2022-06-21T09:33:44.728Z"
   },
   {
    "duration": 55,
    "start_time": "2022-06-21T09:33:44.737Z"
   },
   {
    "duration": 24,
    "start_time": "2022-06-21T09:33:44.794Z"
   },
   {
    "duration": 18,
    "start_time": "2022-06-21T09:33:44.820Z"
   },
   {
    "duration": 6,
    "start_time": "2022-06-21T09:33:44.839Z"
   },
   {
    "duration": 41,
    "start_time": "2022-06-21T09:33:44.847Z"
   },
   {
    "duration": 21,
    "start_time": "2022-06-21T09:33:44.891Z"
   },
   {
    "duration": 270,
    "start_time": "2022-06-21T09:33:44.913Z"
   },
   {
    "duration": 8,
    "start_time": "2022-06-21T09:33:45.184Z"
   },
   {
    "duration": 197,
    "start_time": "2022-06-21T09:33:45.193Z"
   },
   {
    "duration": 3,
    "start_time": "2022-06-21T09:33:45.392Z"
   },
   {
    "duration": 22,
    "start_time": "2022-06-21T09:33:45.397Z"
   },
   {
    "duration": 65,
    "start_time": "2022-06-21T09:33:45.421Z"
   },
   {
    "duration": 42,
    "start_time": "2022-06-21T09:33:45.488Z"
   },
   {
    "duration": 77,
    "start_time": "2022-06-21T09:33:45.532Z"
   },
   {
    "duration": 298,
    "start_time": "2022-06-21T09:33:45.611Z"
   },
   {
    "duration": 11,
    "start_time": "2022-06-21T09:33:45.910Z"
   },
   {
    "duration": 59,
    "start_time": "2022-06-21T09:33:45.922Z"
   },
   {
    "duration": 241,
    "start_time": "2022-06-21T09:33:45.982Z"
   },
   {
    "duration": 6,
    "start_time": "2022-06-21T09:33:46.224Z"
   },
   {
    "duration": 49,
    "start_time": "2022-06-21T09:33:46.231Z"
   },
   {
    "duration": 38,
    "start_time": "2022-06-21T09:33:46.281Z"
   },
   {
    "duration": 253,
    "start_time": "2022-06-21T09:33:46.321Z"
   },
   {
    "duration": 15,
    "start_time": "2022-06-21T09:33:46.576Z"
   },
   {
    "duration": 484,
    "start_time": "2022-06-21T09:33:46.593Z"
   },
   {
    "duration": 4,
    "start_time": "2022-06-21T09:33:47.078Z"
   },
   {
    "duration": 64,
    "start_time": "2022-06-21T09:33:47.084Z"
   },
   {
    "duration": 34,
    "start_time": "2022-06-21T09:33:47.150Z"
   },
   {
    "duration": 34,
    "start_time": "2022-06-21T09:33:47.186Z"
   },
   {
    "duration": 40,
    "start_time": "2022-06-21T09:33:47.222Z"
   },
   {
    "duration": 61,
    "start_time": "2022-06-21T09:33:47.267Z"
   },
   {
    "duration": 436,
    "start_time": "2022-06-21T09:33:47.331Z"
   },
   {
    "duration": 3,
    "start_time": "2022-06-21T09:33:47.771Z"
   },
   {
    "duration": 51,
    "start_time": "2022-06-21T09:33:47.778Z"
   },
   {
    "duration": 21,
    "start_time": "2022-06-21T09:33:47.831Z"
   },
   {
    "duration": 47,
    "start_time": "2022-06-21T09:33:47.854Z"
   },
   {
    "duration": 34,
    "start_time": "2022-06-21T09:33:47.903Z"
   },
   {
    "duration": 50,
    "start_time": "2022-06-21T09:33:47.939Z"
   },
   {
    "duration": 1095,
    "start_time": "2022-06-21T09:33:47.990Z"
   },
   {
    "duration": 104,
    "start_time": "2022-06-21T09:33:49.086Z"
   },
   {
    "duration": 0,
    "start_time": "2022-06-21T09:33:49.191Z"
   },
   {
    "duration": 0,
    "start_time": "2022-06-21T09:33:49.193Z"
   },
   {
    "duration": 0,
    "start_time": "2022-06-21T09:33:49.194Z"
   },
   {
    "duration": 0,
    "start_time": "2022-06-21T09:33:49.197Z"
   },
   {
    "duration": 0,
    "start_time": "2022-06-21T09:33:49.198Z"
   },
   {
    "duration": 0,
    "start_time": "2022-06-21T09:33:49.199Z"
   },
   {
    "duration": 977,
    "start_time": "2022-06-21T09:34:39.142Z"
   },
   {
    "duration": 4,
    "start_time": "2022-06-21T09:34:40.121Z"
   },
   {
    "duration": 15,
    "start_time": "2022-06-21T09:34:40.126Z"
   },
   {
    "duration": 15,
    "start_time": "2022-06-21T09:34:40.143Z"
   },
   {
    "duration": 20,
    "start_time": "2022-06-21T09:34:40.160Z"
   },
   {
    "duration": 224,
    "start_time": "2022-06-21T09:34:40.182Z"
   },
   {
    "duration": 3,
    "start_time": "2022-06-21T09:39:00.216Z"
   },
   {
    "duration": 900,
    "start_time": "2022-06-21T09:39:07.598Z"
   }
  ],
  "kernelspec": {
   "display_name": "Python 3 (ipykernel)",
   "language": "python",
   "name": "python3"
  },
  "language_info": {
   "codemirror_mode": {
    "name": "ipython",
    "version": 3
   },
   "file_extension": ".py",
   "mimetype": "text/x-python",
   "name": "python",
   "nbconvert_exporter": "python",
   "pygments_lexer": "ipython3",
   "version": "3.9.13"
  },
  "toc": {
   "base_numbering": 1,
   "nav_menu": {},
   "number_sections": true,
   "sideBar": true,
   "skip_h1_title": true,
   "title_cell": "Table of Contents",
   "title_sidebar": "Contents",
   "toc_cell": true,
   "toc_position": {},
   "toc_section_display": true,
   "toc_window_display": false
  }
 },
 "nbformat": 4,
 "nbformat_minor": 2
}
