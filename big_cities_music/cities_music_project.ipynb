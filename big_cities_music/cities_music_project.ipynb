{
 "cells": [
  {
   "cell_type": "markdown",
   "metadata": {
    "toc": true
   },
   "source": [
    "<h1>Содержание<span class=\"tocSkip\"></span></h1>\n",
    "<div class=\"toc\"><ul class=\"toc-item\"><li><span><a href=\"#Обзор-данных\" data-toc-modified-id=\"Обзор-данных-1\"><span class=\"toc-item-num\">1&nbsp;&nbsp;</span>Обзор данных</a></span></li><li><span><a href=\"#Предобработка-данных\" data-toc-modified-id=\"Предобработка-данных-2\"><span class=\"toc-item-num\">2&nbsp;&nbsp;</span>Предобработка данных</a></span><ul class=\"toc-item\"><li><span><a href=\"#Стиль-заголовков\" data-toc-modified-id=\"Стиль-заголовков-2.1\"><span class=\"toc-item-num\">2.1&nbsp;&nbsp;</span>Стиль заголовков</a></span></li><li><span><a href=\"#Пропуски-значений\" data-toc-modified-id=\"Пропуски-значений-2.2\"><span class=\"toc-item-num\">2.2&nbsp;&nbsp;</span>Пропуски значений</a></span></li><li><span><a href=\"#Дубликаты\" data-toc-modified-id=\"Дубликаты-2.3\"><span class=\"toc-item-num\">2.3&nbsp;&nbsp;</span>Дубликаты</a></span></li></ul></li><li><span><a href=\"#Проверка-гипотез\" data-toc-modified-id=\"Проверка-гипотез-3\"><span class=\"toc-item-num\">3&nbsp;&nbsp;</span>Проверка гипотез</a></span><ul class=\"toc-item\"><li><span><a href=\"#Сравнение-поведения-пользователей-двух-столиц\" data-toc-modified-id=\"Сравнение-поведения-пользователей-двух-столиц-3.1\"><span class=\"toc-item-num\">3.1&nbsp;&nbsp;</span>Сравнение поведения пользователей двух столиц</a></span></li><li><span><a href=\"#Музыка-в-начале-и-в-конце-недели\" data-toc-modified-id=\"Музыка-в-начале-и-в-конце-недели-3.2\"><span class=\"toc-item-num\">3.2&nbsp;&nbsp;</span>Музыка в начале и в конце недели</a></span></li><li><span><a href=\"#Жанровые-предпочтения-в-Москве-и-Петербурге\" data-toc-modified-id=\"Жанровые-предпочтения-в-Москве-и-Петербурге-3.3\"><span class=\"toc-item-num\">3.3&nbsp;&nbsp;</span>Жанровые предпочтения в Москве и Петербурге</a></span></li></ul></li><li><span><a href=\"#Итоги-исследования\" data-toc-modified-id=\"Итоги-исследования-4\"><span class=\"toc-item-num\">4&nbsp;&nbsp;</span>Итоги исследования</a></span></li></ul></div>"
   ]
  },
  {
   "cell_type": "markdown",
   "metadata": {
    "id": "E0vqbgi9ay0H"
   },
   "source": [
    "# Музыка больших городов"
   ]
  },
  {
   "cell_type": "markdown",
   "metadata": {
    "id": "Ml1hmfXC_Zcs"
   },
   "source": [
    "## Обзор данных\n",
    "\n",
    "Составим первое представление о данных. Импортируем библиотеку `pandas`."
   ]
  },
  {
   "cell_type": "code",
   "execution_count": 54,
   "metadata": {
    "id": "AXN7PHPN_Zcs"
   },
   "outputs": [],
   "source": [
    "import pandas as pd # импорт библиотеки pandas"
   ]
  },
  {
   "cell_type": "markdown",
   "metadata": {
    "id": "SG23P8tt_Zcs"
   },
   "source": [
    "Прочитайтем файл `yandex_music_project.csv` и сохраним его в переменной `df`:"
   ]
  },
  {
   "cell_type": "code",
   "execution_count": 55,
   "metadata": {
    "id": "fFVu7vqh_Zct"
   },
   "outputs": [],
   "source": [
    "df = pd.read_csv('yandex_music_project.csv') # чтение файла с данными и сохранение в df"
   ]
  },
  {
   "cell_type": "markdown",
   "metadata": {
    "id": "rDoOMd3uTqnZ"
   },
   "source": [
    "Выведем на экран первые десять строк таблицы:"
   ]
  },
  {
   "cell_type": "code",
   "execution_count": 56,
   "metadata": {
    "id": "oWTVX3gW_Zct"
   },
   "outputs": [
    {
     "data": {
      "text/html": [
       "<div>\n",
       "<style scoped>\n",
       "    .dataframe tbody tr th:only-of-type {\n",
       "        vertical-align: middle;\n",
       "    }\n",
       "\n",
       "    .dataframe tbody tr th {\n",
       "        vertical-align: top;\n",
       "    }\n",
       "\n",
       "    .dataframe thead th {\n",
       "        text-align: right;\n",
       "    }\n",
       "</style>\n",
       "<table border=\"1\" class=\"dataframe\">\n",
       "  <thead>\n",
       "    <tr style=\"text-align: right;\">\n",
       "      <th></th>\n",
       "      <th>userID</th>\n",
       "      <th>Track</th>\n",
       "      <th>artist</th>\n",
       "      <th>genre</th>\n",
       "      <th>City</th>\n",
       "      <th>time</th>\n",
       "      <th>Day</th>\n",
       "    </tr>\n",
       "  </thead>\n",
       "  <tbody>\n",
       "    <tr>\n",
       "      <th>0</th>\n",
       "      <td>FFB692EC</td>\n",
       "      <td>Kamigata To Boots</td>\n",
       "      <td>The Mass Missile</td>\n",
       "      <td>rock</td>\n",
       "      <td>Saint-Petersburg</td>\n",
       "      <td>20:28:33</td>\n",
       "      <td>Wednesday</td>\n",
       "    </tr>\n",
       "    <tr>\n",
       "      <th>1</th>\n",
       "      <td>55204538</td>\n",
       "      <td>Delayed Because of Accident</td>\n",
       "      <td>Andreas Rönnberg</td>\n",
       "      <td>rock</td>\n",
       "      <td>Moscow</td>\n",
       "      <td>14:07:09</td>\n",
       "      <td>Friday</td>\n",
       "    </tr>\n",
       "    <tr>\n",
       "      <th>2</th>\n",
       "      <td>20EC38</td>\n",
       "      <td>Funiculì funiculà</td>\n",
       "      <td>Mario Lanza</td>\n",
       "      <td>pop</td>\n",
       "      <td>Saint-Petersburg</td>\n",
       "      <td>20:58:07</td>\n",
       "      <td>Wednesday</td>\n",
       "    </tr>\n",
       "    <tr>\n",
       "      <th>3</th>\n",
       "      <td>A3DD03C9</td>\n",
       "      <td>Dragons in the Sunset</td>\n",
       "      <td>Fire + Ice</td>\n",
       "      <td>folk</td>\n",
       "      <td>Saint-Petersburg</td>\n",
       "      <td>08:37:09</td>\n",
       "      <td>Monday</td>\n",
       "    </tr>\n",
       "    <tr>\n",
       "      <th>4</th>\n",
       "      <td>E2DC1FAE</td>\n",
       "      <td>Soul People</td>\n",
       "      <td>Space Echo</td>\n",
       "      <td>dance</td>\n",
       "      <td>Moscow</td>\n",
       "      <td>08:34:34</td>\n",
       "      <td>Monday</td>\n",
       "    </tr>\n",
       "    <tr>\n",
       "      <th>5</th>\n",
       "      <td>842029A1</td>\n",
       "      <td>Преданная</td>\n",
       "      <td>IMPERVTOR</td>\n",
       "      <td>rusrap</td>\n",
       "      <td>Saint-Petersburg</td>\n",
       "      <td>13:09:41</td>\n",
       "      <td>Friday</td>\n",
       "    </tr>\n",
       "    <tr>\n",
       "      <th>6</th>\n",
       "      <td>4CB90AA5</td>\n",
       "      <td>True</td>\n",
       "      <td>Roman Messer</td>\n",
       "      <td>dance</td>\n",
       "      <td>Moscow</td>\n",
       "      <td>13:00:07</td>\n",
       "      <td>Wednesday</td>\n",
       "    </tr>\n",
       "    <tr>\n",
       "      <th>7</th>\n",
       "      <td>F03E1C1F</td>\n",
       "      <td>Feeling This Way</td>\n",
       "      <td>Polina Griffith</td>\n",
       "      <td>dance</td>\n",
       "      <td>Moscow</td>\n",
       "      <td>20:47:49</td>\n",
       "      <td>Wednesday</td>\n",
       "    </tr>\n",
       "    <tr>\n",
       "      <th>8</th>\n",
       "      <td>8FA1D3BE</td>\n",
       "      <td>И вновь продолжается бой</td>\n",
       "      <td>NaN</td>\n",
       "      <td>ruspop</td>\n",
       "      <td>Moscow</td>\n",
       "      <td>09:17:40</td>\n",
       "      <td>Friday</td>\n",
       "    </tr>\n",
       "    <tr>\n",
       "      <th>9</th>\n",
       "      <td>E772D5C0</td>\n",
       "      <td>Pessimist</td>\n",
       "      <td>NaN</td>\n",
       "      <td>dance</td>\n",
       "      <td>Saint-Petersburg</td>\n",
       "      <td>21:20:49</td>\n",
       "      <td>Wednesday</td>\n",
       "    </tr>\n",
       "  </tbody>\n",
       "</table>\n",
       "</div>"
      ],
      "text/plain": [
       "     userID                        Track            artist   genre  \\\n",
       "0  FFB692EC            Kamigata To Boots  The Mass Missile    rock   \n",
       "1  55204538  Delayed Because of Accident  Andreas Rönnberg    rock   \n",
       "2    20EC38            Funiculì funiculà       Mario Lanza     pop   \n",
       "3  A3DD03C9        Dragons in the Sunset        Fire + Ice    folk   \n",
       "4  E2DC1FAE                  Soul People        Space Echo   dance   \n",
       "5  842029A1                    Преданная         IMPERVTOR  rusrap   \n",
       "6  4CB90AA5                         True      Roman Messer   dance   \n",
       "7  F03E1C1F             Feeling This Way   Polina Griffith   dance   \n",
       "8  8FA1D3BE     И вновь продолжается бой               NaN  ruspop   \n",
       "9  E772D5C0                    Pessimist               NaN   dance   \n",
       "\n",
       "             City        time        Day  \n",
       "0  Saint-Petersburg  20:28:33  Wednesday  \n",
       "1            Moscow  14:07:09     Friday  \n",
       "2  Saint-Petersburg  20:58:07  Wednesday  \n",
       "3  Saint-Petersburg  08:37:09     Monday  \n",
       "4            Moscow  08:34:34     Monday  \n",
       "5  Saint-Petersburg  13:09:41     Friday  \n",
       "6            Moscow  13:00:07  Wednesday  \n",
       "7            Moscow  20:47:49  Wednesday  \n",
       "8            Moscow  09:17:40     Friday  \n",
       "9  Saint-Petersburg  21:20:49  Wednesday  "
      ]
     },
     "execution_count": 56,
     "metadata": {},
     "output_type": "execute_result"
    }
   ],
   "source": [
    "df.head(10) # получение первых 10 строк таблицы df"
   ]
  },
  {
   "cell_type": "markdown",
   "metadata": {},
   "source": [
    "Выведем на экран последние десять строк таблицы:"
   ]
  },
  {
   "cell_type": "code",
   "execution_count": 57,
   "metadata": {},
   "outputs": [
    {
     "data": {
      "text/html": [
       "<div>\n",
       "<style scoped>\n",
       "    .dataframe tbody tr th:only-of-type {\n",
       "        vertical-align: middle;\n",
       "    }\n",
       "\n",
       "    .dataframe tbody tr th {\n",
       "        vertical-align: top;\n",
       "    }\n",
       "\n",
       "    .dataframe thead th {\n",
       "        text-align: right;\n",
       "    }\n",
       "</style>\n",
       "<table border=\"1\" class=\"dataframe\">\n",
       "  <thead>\n",
       "    <tr style=\"text-align: right;\">\n",
       "      <th></th>\n",
       "      <th>userID</th>\n",
       "      <th>Track</th>\n",
       "      <th>artist</th>\n",
       "      <th>genre</th>\n",
       "      <th>City</th>\n",
       "      <th>time</th>\n",
       "      <th>Day</th>\n",
       "    </tr>\n",
       "  </thead>\n",
       "  <tbody>\n",
       "    <tr>\n",
       "      <th>65069</th>\n",
       "      <td>BE1AAD74</td>\n",
       "      <td>Waterwalk</td>\n",
       "      <td>Eduardo Gonzales</td>\n",
       "      <td>electronic</td>\n",
       "      <td>Moscow</td>\n",
       "      <td>20:38:59</td>\n",
       "      <td>Monday</td>\n",
       "    </tr>\n",
       "    <tr>\n",
       "      <th>65070</th>\n",
       "      <td>49F35D53</td>\n",
       "      <td>Ass Up</td>\n",
       "      <td>Rameez</td>\n",
       "      <td>dance</td>\n",
       "      <td>Moscow</td>\n",
       "      <td>14:08:58</td>\n",
       "      <td>Friday</td>\n",
       "    </tr>\n",
       "    <tr>\n",
       "      <th>65071</th>\n",
       "      <td>92378E24</td>\n",
       "      <td>Swing it Like You Mean it</td>\n",
       "      <td>OJOJOJ</td>\n",
       "      <td>techno</td>\n",
       "      <td>Moscow</td>\n",
       "      <td>21:12:56</td>\n",
       "      <td>Friday</td>\n",
       "    </tr>\n",
       "    <tr>\n",
       "      <th>65072</th>\n",
       "      <td>C532021D</td>\n",
       "      <td>We Can Not Be Silenced</td>\n",
       "      <td>Pänzer</td>\n",
       "      <td>extrememetal</td>\n",
       "      <td>Moscow</td>\n",
       "      <td>08:38:24</td>\n",
       "      <td>Friday</td>\n",
       "    </tr>\n",
       "    <tr>\n",
       "      <th>65073</th>\n",
       "      <td>83A474E7</td>\n",
       "      <td>I Worship Only What You Bleed</td>\n",
       "      <td>The Black Dahlia Murder</td>\n",
       "      <td>extrememetal</td>\n",
       "      <td>Moscow</td>\n",
       "      <td>21:07:12</td>\n",
       "      <td>Monday</td>\n",
       "    </tr>\n",
       "    <tr>\n",
       "      <th>65074</th>\n",
       "      <td>729CBB09</td>\n",
       "      <td>My Name</td>\n",
       "      <td>McLean</td>\n",
       "      <td>rnb</td>\n",
       "      <td>Moscow</td>\n",
       "      <td>13:32:28</td>\n",
       "      <td>Wednesday</td>\n",
       "    </tr>\n",
       "    <tr>\n",
       "      <th>65075</th>\n",
       "      <td>D08D4A55</td>\n",
       "      <td>Maybe One Day (feat. Black Spade)</td>\n",
       "      <td>Blu &amp; Exile</td>\n",
       "      <td>hip</td>\n",
       "      <td>Saint-Petersburg</td>\n",
       "      <td>10:00:00</td>\n",
       "      <td>Monday</td>\n",
       "    </tr>\n",
       "    <tr>\n",
       "      <th>65076</th>\n",
       "      <td>C5E3A0D5</td>\n",
       "      <td>Jalopiina</td>\n",
       "      <td>NaN</td>\n",
       "      <td>industrial</td>\n",
       "      <td>Moscow</td>\n",
       "      <td>20:09:26</td>\n",
       "      <td>Friday</td>\n",
       "    </tr>\n",
       "    <tr>\n",
       "      <th>65077</th>\n",
       "      <td>321D0506</td>\n",
       "      <td>Freight Train</td>\n",
       "      <td>Chas McDevitt</td>\n",
       "      <td>rock</td>\n",
       "      <td>Moscow</td>\n",
       "      <td>21:43:59</td>\n",
       "      <td>Friday</td>\n",
       "    </tr>\n",
       "    <tr>\n",
       "      <th>65078</th>\n",
       "      <td>3A64EF84</td>\n",
       "      <td>Tell Me Sweet Little Lies</td>\n",
       "      <td>Monica Lopez</td>\n",
       "      <td>country</td>\n",
       "      <td>Moscow</td>\n",
       "      <td>21:59:46</td>\n",
       "      <td>Friday</td>\n",
       "    </tr>\n",
       "  </tbody>\n",
       "</table>\n",
       "</div>"
      ],
      "text/plain": [
       "         userID                              Track                   artist  \\\n",
       "65069  BE1AAD74                          Waterwalk         Eduardo Gonzales   \n",
       "65070  49F35D53                             Ass Up                   Rameez   \n",
       "65071  92378E24          Swing it Like You Mean it                   OJOJOJ   \n",
       "65072  C532021D             We Can Not Be Silenced                   Pänzer   \n",
       "65073  83A474E7      I Worship Only What You Bleed  The Black Dahlia Murder   \n",
       "65074  729CBB09                            My Name                   McLean   \n",
       "65075  D08D4A55  Maybe One Day (feat. Black Spade)              Blu & Exile   \n",
       "65076  C5E3A0D5                          Jalopiina                      NaN   \n",
       "65077  321D0506                      Freight Train            Chas McDevitt   \n",
       "65078  3A64EF84          Tell Me Sweet Little Lies             Monica Lopez   \n",
       "\n",
       "              genre            City        time        Day  \n",
       "65069    electronic            Moscow  20:38:59     Monday  \n",
       "65070         dance            Moscow  14:08:58     Friday  \n",
       "65071        techno            Moscow  21:12:56     Friday  \n",
       "65072  extrememetal            Moscow  08:38:24     Friday  \n",
       "65073  extrememetal            Moscow  21:07:12     Monday  \n",
       "65074           rnb            Moscow  13:32:28  Wednesday  \n",
       "65075           hip  Saint-Petersburg  10:00:00     Monday  \n",
       "65076    industrial            Moscow  20:09:26     Friday  \n",
       "65077          rock            Moscow  21:43:59     Friday  \n",
       "65078       country            Moscow  21:59:46     Friday  "
      ]
     },
     "execution_count": 57,
     "metadata": {},
     "output_type": "execute_result"
    }
   ],
   "source": [
    "df.tail(10) # вывод последних 10 строк таблицы df"
   ]
  },
  {
   "cell_type": "markdown",
   "metadata": {
    "id": "EO73Kwic_Zct"
   },
   "source": [
    "Получение общей информации о таблице:"
   ]
  },
  {
   "cell_type": "code",
   "execution_count": 58,
   "metadata": {
    "id": "DSf2kIb-_Zct"
   },
   "outputs": [
    {
     "name": "stdout",
     "output_type": "stream",
     "text": [
      "<class 'pandas.core.frame.DataFrame'>\n",
      "RangeIndex: 65079 entries, 0 to 65078\n",
      "Data columns (total 7 columns):\n",
      " #   Column    Non-Null Count  Dtype \n",
      "---  ------    --------------  ----- \n",
      " 0     userID  65079 non-null  object\n",
      " 1   Track     63848 non-null  object\n",
      " 2   artist    57876 non-null  object\n",
      " 3   genre     63881 non-null  object\n",
      " 4     City    65079 non-null  object\n",
      " 5   time      65079 non-null  object\n",
      " 6   Day       65079 non-null  object\n",
      "dtypes: object(7)\n",
      "memory usage: 3.5+ MB\n"
     ]
    }
   ],
   "source": [
    "df.info() # получение общей информации о данных в таблице df"
   ]
  },
  {
   "cell_type": "markdown",
   "metadata": {
    "id": "TaQ2Iwbr_Zct"
   },
   "source": [
    "Итак, в таблице семь столбцов. Тип данных во всех столбцах — `object`.\n",
    "\n",
    "Согласно документации к данным:\n",
    "* `userID` — идентификатор пользователя;\n",
    "* `Track` — название трека;  \n",
    "* `artist` — имя исполнителя;\n",
    "* `genre` — название жанра;\n",
    "* `City` — город пользователя;\n",
    "* `time` — время начала прослушивания;\n",
    "* `Day` — день недели.\n",
    "\n",
    "В названиях колонок видны три нарушения стиля:\n",
    "1. Строчные буквы сочетаются с прописными.\n",
    "2. Встречаются пробелы.\n",
    "3. Наблюдается верблюжий регистр.\n",
    "\n",
    "\n",
    "\n",
    "Количество значений в столбцах различается. Значит, в данных есть пропущенные значения.\n"
   ]
  },
  {
   "cell_type": "markdown",
   "metadata": {
    "id": "MCB6-dXG_Zct"
   },
   "source": [
    "**Выводы**\n",
    "\n",
    "В каждой строке таблицы — данные о прослушанном треке. Часть колонок описывает саму композицию: название, исполнителя и жанр. Остальные данные рассказывают о пользователе: из какого он города, когда он слушал музыку. \n",
    "\n",
    "Предварительно можно утверждать, что данных достаточно для проверки гипотез. Но встречаются пропуски в данных, а в названиях колонок — расхождения с хорошим стилем.\n",
    "\n",
    "Чтобы двигаться дальше, нужно устранить проблемы в данных."
   ]
  },
  {
   "cell_type": "markdown",
   "metadata": {
    "id": "SjYF6Ub9_Zct"
   },
   "source": [
    "## Предобработка данных\n",
    "Исправим стиль в заголовках столбцов, исключим пропуски. Затем проверим данные на дубликаты."
   ]
  },
  {
   "cell_type": "markdown",
   "metadata": {
    "id": "dIaKXr29_Zct"
   },
   "source": [
    "### Стиль заголовков\n",
    "Выведем на экран названия столбцов:"
   ]
  },
  {
   "cell_type": "code",
   "execution_count": 59,
   "metadata": {
    "id": "oKOTdF_Q_Zct"
   },
   "outputs": [
    {
     "data": {
      "text/plain": [
       "Index(['  userID', 'Track', 'artist', 'genre', '  City  ', 'time', 'Day'], dtype='object')"
      ]
     },
     "execution_count": 59,
     "metadata": {},
     "output_type": "execute_result"
    }
   ],
   "source": [
    "df.columns # перечень названий столбцов таблицы df"
   ]
  },
  {
   "cell_type": "markdown",
   "metadata": {
    "id": "zj5534cv_Zct"
   },
   "source": [
    "Приведём названия в соответствие с \"хорошим\" стилем:\n",
    "* несколько слов в названии запишем в «змеином_регистре»,\n",
    "* все символы сделаем строчными,\n",
    "* устраним пробелы.\n",
    "\n",
    "Для этого переименуем колонки так:\n",
    "* `'  userID'` → `'user_id'`;\n",
    "* `'Track'` → `'track'`;\n",
    "* `'  City  '` → `'city'`;\n",
    "* `'Day'` → `'day'`."
   ]
  },
  {
   "cell_type": "code",
   "execution_count": 60,
   "metadata": {
    "id": "ISlFqs5y_Zct"
   },
   "outputs": [],
   "source": [
    "df = df.rename(\n",
    "               columns={\n",
    "               '  userID' : 'user_id',\n",
    "               'Track' : 'track',\n",
    "               '  City  ' : 'city',\n",
    "               'Day' : 'day'\n",
    "               }\n",
    ") # переименование столбцов"
   ]
  },
  {
   "cell_type": "markdown",
   "metadata": {
    "id": "1dqbh00J_Zct"
   },
   "source": [
    "Проверим результат."
   ]
  },
  {
   "cell_type": "code",
   "execution_count": 61,
   "metadata": {
    "id": "d4NOAmTW_Zct"
   },
   "outputs": [
    {
     "data": {
      "text/plain": [
       "Index(['user_id', 'track', 'artist', 'genre', 'city', 'time', 'day'], dtype='object')"
      ]
     },
     "execution_count": 61,
     "metadata": {},
     "output_type": "execute_result"
    }
   ],
   "source": [
    "df.columns # проверка результатов - перечень названий столбцов"
   ]
  },
  {
   "cell_type": "markdown",
   "metadata": {},
   "source": [
    "Замена призошла корректно."
   ]
  },
  {
   "cell_type": "markdown",
   "metadata": {
    "id": "5ISfbcfY_Zct"
   },
   "source": [
    "### Пропуски значений\n",
    "Посчитаем, сколько в таблице пропущенных значений."
   ]
  },
  {
   "cell_type": "code",
   "execution_count": 62,
   "metadata": {
    "id": "RskX29qr_Zct"
   },
   "outputs": [
    {
     "data": {
      "text/plain": [
       "user_id       0\n",
       "track      1231\n",
       "artist     7203\n",
       "genre      1198\n",
       "city          0\n",
       "time          0\n",
       "day           0\n",
       "dtype: int64"
      ]
     },
     "execution_count": 62,
     "metadata": {},
     "output_type": "execute_result"
    }
   ],
   "source": [
    "df.isna().sum() # подсчёт пропусков"
   ]
  },
  {
   "cell_type": "markdown",
   "metadata": {
    "id": "qubhgnlO_Zct"
   },
   "source": [
    "Не все пропущенные значения влияют на исследование. Так в `track` и `artist` пропуски не важны для вашей работы. Достаточно заменить их явными обозначениями.\n",
    "\n",
    "Но пропуски в `genre` могут помешать сравнению музыкальных вкусов в Москве и Санкт-Петербурге. На практике было бы правильно установить причину пропусков и восстановить данные. Такой возможности в данном случае нет. Поэтому их также придется заполнить явным обозначением, к примеру, `unknown`.\n",
    "\n",
    "Заменим пропущенные значения в столбцах `track`, `artist` и `genre` на строку `'unknown'`. Для этого создадим список `columns_to_replace`, переберём его элементы циклом `for` и для каждого столбца выполним замену пропущенных значений:"
   ]
  },
  {
   "cell_type": "code",
   "execution_count": 63,
   "metadata": {
    "id": "KplB5qWs_Zct"
   },
   "outputs": [],
   "source": [
    "# перебор названий столбцов в цикле и замена пропущенных значений на 'unknown'\n",
    "columns_to_replace = ['track', 'artist', 'genre']\n",
    "\n",
    "for column in columns_to_replace:\n",
    "    df[column] = df[column].fillna('unknown')"
   ]
  },
  {
   "cell_type": "markdown",
   "metadata": {
    "id": "Ilsm-MZo_Zct"
   },
   "source": [
    "Убедимся, что в таблице не осталось пропусков."
   ]
  },
  {
   "cell_type": "code",
   "execution_count": 64,
   "metadata": {
    "id": "Tq4nYRX4_Zct"
   },
   "outputs": [
    {
     "data": {
      "text/plain": [
       "user_id    0\n",
       "track      0\n",
       "artist     0\n",
       "genre      0\n",
       "city       0\n",
       "time       0\n",
       "day        0\n",
       "dtype: int64"
      ]
     },
     "execution_count": 64,
     "metadata": {},
     "output_type": "execute_result"
    }
   ],
   "source": [
    "# подсчёт пропусков\n",
    "df.isna().sum()"
   ]
  },
  {
   "cell_type": "markdown",
   "metadata": {
    "id": "BWKRtBJ3_Zct"
   },
   "source": [
    "### Дубликаты\n",
    "Посчитаем явные дубликаты в таблице:"
   ]
  },
  {
   "cell_type": "code",
   "execution_count": 65,
   "metadata": {
    "id": "36eES_S0_Zct"
   },
   "outputs": [
    {
     "data": {
      "text/plain": [
       "3826"
      ]
     },
     "execution_count": 65,
     "metadata": {},
     "output_type": "execute_result"
    }
   ],
   "source": [
    "# подсчёт явных дубликатов\n",
    "df.duplicated().sum()"
   ]
  },
  {
   "cell_type": "markdown",
   "metadata": {
    "id": "Ot25h6XR_Zct"
   },
   "source": [
    "Удалим явные дубликаты:"
   ]
  },
  {
   "cell_type": "code",
   "execution_count": 66,
   "metadata": {
    "id": "exFHq6tt_Zct"
   },
   "outputs": [],
   "source": [
    "# удаление явных дубликатов (с удалением старых индексов и формированием новых)\n",
    "df = df.drop_duplicates().reset_index(drop=True)"
   ]
  },
  {
   "cell_type": "markdown",
   "metadata": {
    "id": "Im2YwBEG_Zct"
   },
   "source": [
    "Для проверки ещё раз посчитаем явные дубликаты в таблице:"
   ]
  },
  {
   "cell_type": "code",
   "execution_count": 67,
   "metadata": {
    "id": "-8PuNWQ0_Zct"
   },
   "outputs": [
    {
     "data": {
      "text/plain": [
       "0"
      ]
     },
     "execution_count": 67,
     "metadata": {},
     "output_type": "execute_result"
    }
   ],
   "source": [
    "# проверка на отсутствие дубликатов\n",
    "df.duplicated().sum()"
   ]
  },
  {
   "cell_type": "markdown",
   "metadata": {
    "id": "eSjWwsOh_Zct"
   },
   "source": [
    "Теперь избавимся от неявных дубликатов в колонке `genre`. Например, название одного и того же жанра может быть записано немного по-разному. Такие ошибки тоже повлияют на результат исследования.\n",
    "\n",
    "Выведем на экран список уникальных названий жанров, отсортированный в алфавитном порядке. Для этого:\n",
    "* извлечём нужный столбец датафрейма, \n",
    "* применим к нему метод сортировки,\n",
    "* для отсортированного столбца вызовем метод, который вернёт уникальные значения из столбца."
   ]
  },
  {
   "cell_type": "code",
   "execution_count": 68,
   "metadata": {
    "id": "JIUcqzZN_Zct"
   },
   "outputs": [
    {
     "data": {
      "text/plain": [
       "array(['acid', 'acoustic', 'action', 'adult', 'africa', 'afrikaans',\n",
       "       'alternative', 'alternativepunk', 'ambient', 'americana',\n",
       "       'animated', 'anime', 'arabesk', 'arabic', 'arena',\n",
       "       'argentinetango', 'art', 'audiobook', 'author', 'avantgarde',\n",
       "       'axé', 'baile', 'balkan', 'beats', 'bigroom', 'black', 'bluegrass',\n",
       "       'blues', 'bollywood', 'bossa', 'brazilian', 'breakbeat', 'breaks',\n",
       "       'broadway', 'cantautori', 'cantopop', 'canzone', 'caribbean',\n",
       "       'caucasian', 'celtic', 'chamber', 'chanson', 'children', 'chill',\n",
       "       'chinese', 'choral', 'christian', 'christmas', 'classical',\n",
       "       'classicmetal', 'club', 'colombian', 'comedy', 'conjazz',\n",
       "       'contemporary', 'country', 'cuban', 'dance', 'dancehall',\n",
       "       'dancepop', 'dark', 'death', 'deep', 'deutschrock', 'deutschspr',\n",
       "       'dirty', 'disco', 'dnb', 'documentary', 'downbeat', 'downtempo',\n",
       "       'drum', 'dub', 'dubstep', 'eastern', 'easy', 'electronic',\n",
       "       'electropop', 'emo', 'entehno', 'epicmetal', 'estrada', 'ethnic',\n",
       "       'eurofolk', 'european', 'experimental', 'extrememetal', 'fado',\n",
       "       'fairytail', 'film', 'fitness', 'flamenco', 'folk', 'folklore',\n",
       "       'folkmetal', 'folkrock', 'folktronica', 'forró', 'frankreich',\n",
       "       'französisch', 'french', 'funk', 'future', 'gangsta', 'garage',\n",
       "       'german', 'ghazal', 'gitarre', 'glitch', 'gospel', 'gothic',\n",
       "       'grime', 'grunge', 'gypsy', 'handsup', \"hard'n'heavy\", 'hardcore',\n",
       "       'hardstyle', 'hardtechno', 'hip', 'hip-hop', 'hiphop',\n",
       "       'historisch', 'holiday', 'hop', 'horror', 'house', 'hymn', 'idm',\n",
       "       'independent', 'indian', 'indie', 'indipop', 'industrial',\n",
       "       'inspirational', 'instrumental', 'international', 'irish', 'jam',\n",
       "       'japanese', 'jazz', 'jewish', 'jpop', 'jungle', 'k-pop',\n",
       "       'karadeniz', 'karaoke', 'kayokyoku', 'korean', 'laiko', 'latin',\n",
       "       'latino', 'leftfield', 'local', 'lounge', 'loungeelectronic',\n",
       "       'lovers', 'malaysian', 'mandopop', 'marschmusik', 'meditative',\n",
       "       'mediterranean', 'melodic', 'metal', 'metalcore', 'mexican',\n",
       "       'middle', 'minimal', 'miscellaneous', 'modern', 'mood', 'mpb',\n",
       "       'muslim', 'native', 'neoklassik', 'neue', 'new', 'newage',\n",
       "       'newwave', 'nu', 'nujazz', 'numetal', 'oceania', 'old', 'opera',\n",
       "       'orchestral', 'other', 'piano', 'podcasts', 'pop', 'popdance',\n",
       "       'popelectronic', 'popeurodance', 'poprussian', 'post',\n",
       "       'posthardcore', 'postrock', 'power', 'progmetal', 'progressive',\n",
       "       'psychedelic', 'punjabi', 'punk', 'quebecois', 'ragga', 'ram',\n",
       "       'rancheras', 'rap', 'rave', 'reggae', 'reggaeton', 'regional',\n",
       "       'relax', 'religious', 'retro', 'rhythm', 'rnb', 'rnr', 'rock',\n",
       "       'rockabilly', 'rockalternative', 'rockindie', 'rockother',\n",
       "       'romance', 'roots', 'ruspop', 'rusrap', 'rusrock', 'russian',\n",
       "       'salsa', 'samba', 'scenic', 'schlager', 'self', 'sertanejo',\n",
       "       'shanson', 'shoegazing', 'showtunes', 'singer', 'ska', 'skarock',\n",
       "       'slow', 'smooth', 'soft', 'soul', 'soulful', 'sound', 'soundtrack',\n",
       "       'southern', 'specialty', 'speech', 'spiritual', 'sport',\n",
       "       'stonerrock', 'surf', 'swing', 'synthpop', 'synthrock',\n",
       "       'sängerportrait', 'tango', 'tanzorchester', 'taraftar', 'tatar',\n",
       "       'tech', 'techno', 'teen', 'thrash', 'top', 'traditional',\n",
       "       'tradjazz', 'trance', 'tribal', 'trip', 'triphop', 'tropical',\n",
       "       'türk', 'türkçe', 'ukrrock', 'unknown', 'urban', 'uzbek',\n",
       "       'variété', 'vi', 'videogame', 'vocal', 'western', 'world',\n",
       "       'worldbeat', 'ïîï', 'электроника'], dtype=object)"
      ]
     },
     "execution_count": 68,
     "metadata": {},
     "output_type": "execute_result"
    }
   ],
   "source": [
    "# Просмотр уникальных названий жанров\n",
    "df['genre'].sort_values().unique()"
   ]
  },
  {
   "cell_type": "markdown",
   "metadata": {
    "id": "qej-Qmuo_Zct"
   },
   "source": [
    "Обноружены следующие неявные дубликаты:\n",
    "* *hip*,\n",
    "* *hop*,\n",
    "* *hip-hop*,\n",
    "* *электроника*,\n",
    "* *electronic*.\n",
    "\n",
    "Чтобы очистить от них таблицу, напишем функцию `replace_wrong_genres()` с двумя параметрами: \n",
    "* `wrong_genres` — список дубликатов,\n",
    "* `correct_genre` — строка с правильным значением.\n",
    "\n",
    "Функция должна исправить колонку `genre` в таблице `df`: заменить каждое значение из списка `wrong_genres` на значение из `correct_genre`."
   ]
  },
  {
   "cell_type": "code",
   "execution_count": 69,
   "metadata": {
    "id": "ErNDkmns_Zct"
   },
   "outputs": [],
   "source": [
    "# Функция для замены неявных дубликатов\n",
    "def replace_wrong_genres(wrong_genres, correct_genre):\n",
    "    for wrong_genre in wrong_genres:\n",
    "        df['genre'] = df['genre'].replace(wrong_genre, correct_genre)"
   ]
  },
  {
   "cell_type": "markdown",
   "metadata": {
    "id": "aDoBJxbA_Zct"
   },
   "source": [
    "Вызовем `replace_wrong_genres()` и передадим ей такие аргументы, чтобы она устранила неявные дубликаты: вместо `hip`, `hop` и `hip-hop` в таблице должно быть значение `hiphop`, а вместо `электроника` – `electronic`:"
   ]
  },
  {
   "cell_type": "code",
   "execution_count": 70,
   "metadata": {
    "id": "YN5i2hpmSo09"
   },
   "outputs": [],
   "source": [
    "# Устранение неявных дубликатов\n",
    "wrong_hiphop_genres = ['hip', 'hop', 'hip-hop']\n",
    "\n",
    "replace_wrong_genres(wrong_hiphop_genres, 'hiphop')\n",
    "\n",
    "wrong_electronic_genres = ['электроника']\n",
    "\n",
    "replace_wrong_genres(wrong_electronic_genres, 'electronic')"
   ]
  },
  {
   "cell_type": "markdown",
   "metadata": {
    "id": "zQKF16_RG15m"
   },
   "source": [
    "Проверим, что заменили неправильные названия. Выведите отсортированный список уникальных значений столбца `genre`."
   ]
  },
  {
   "cell_type": "code",
   "execution_count": 71,
   "metadata": {
    "id": "wvixALnFG15m"
   },
   "outputs": [
    {
     "data": {
      "text/plain": [
       "array(['acid', 'acoustic', 'action', 'adult', 'africa', 'afrikaans',\n",
       "       'alternative', 'alternativepunk', 'ambient', 'americana',\n",
       "       'animated', 'anime', 'arabesk', 'arabic', 'arena',\n",
       "       'argentinetango', 'art', 'audiobook', 'author', 'avantgarde',\n",
       "       'axé', 'baile', 'balkan', 'beats', 'bigroom', 'black', 'bluegrass',\n",
       "       'blues', 'bollywood', 'bossa', 'brazilian', 'breakbeat', 'breaks',\n",
       "       'broadway', 'cantautori', 'cantopop', 'canzone', 'caribbean',\n",
       "       'caucasian', 'celtic', 'chamber', 'chanson', 'children', 'chill',\n",
       "       'chinese', 'choral', 'christian', 'christmas', 'classical',\n",
       "       'classicmetal', 'club', 'colombian', 'comedy', 'conjazz',\n",
       "       'contemporary', 'country', 'cuban', 'dance', 'dancehall',\n",
       "       'dancepop', 'dark', 'death', 'deep', 'deutschrock', 'deutschspr',\n",
       "       'dirty', 'disco', 'dnb', 'documentary', 'downbeat', 'downtempo',\n",
       "       'drum', 'dub', 'dubstep', 'eastern', 'easy', 'electronic',\n",
       "       'electropop', 'emo', 'entehno', 'epicmetal', 'estrada', 'ethnic',\n",
       "       'eurofolk', 'european', 'experimental', 'extrememetal', 'fado',\n",
       "       'fairytail', 'film', 'fitness', 'flamenco', 'folk', 'folklore',\n",
       "       'folkmetal', 'folkrock', 'folktronica', 'forró', 'frankreich',\n",
       "       'französisch', 'french', 'funk', 'future', 'gangsta', 'garage',\n",
       "       'german', 'ghazal', 'gitarre', 'glitch', 'gospel', 'gothic',\n",
       "       'grime', 'grunge', 'gypsy', 'handsup', \"hard'n'heavy\", 'hardcore',\n",
       "       'hardstyle', 'hardtechno', 'hiphop', 'historisch', 'holiday',\n",
       "       'horror', 'house', 'hymn', 'idm', 'independent', 'indian', 'indie',\n",
       "       'indipop', 'industrial', 'inspirational', 'instrumental',\n",
       "       'international', 'irish', 'jam', 'japanese', 'jazz', 'jewish',\n",
       "       'jpop', 'jungle', 'k-pop', 'karadeniz', 'karaoke', 'kayokyoku',\n",
       "       'korean', 'laiko', 'latin', 'latino', 'leftfield', 'local',\n",
       "       'lounge', 'loungeelectronic', 'lovers', 'malaysian', 'mandopop',\n",
       "       'marschmusik', 'meditative', 'mediterranean', 'melodic', 'metal',\n",
       "       'metalcore', 'mexican', 'middle', 'minimal', 'miscellaneous',\n",
       "       'modern', 'mood', 'mpb', 'muslim', 'native', 'neoklassik', 'neue',\n",
       "       'new', 'newage', 'newwave', 'nu', 'nujazz', 'numetal', 'oceania',\n",
       "       'old', 'opera', 'orchestral', 'other', 'piano', 'podcasts', 'pop',\n",
       "       'popdance', 'popelectronic', 'popeurodance', 'poprussian', 'post',\n",
       "       'posthardcore', 'postrock', 'power', 'progmetal', 'progressive',\n",
       "       'psychedelic', 'punjabi', 'punk', 'quebecois', 'ragga', 'ram',\n",
       "       'rancheras', 'rap', 'rave', 'reggae', 'reggaeton', 'regional',\n",
       "       'relax', 'religious', 'retro', 'rhythm', 'rnb', 'rnr', 'rock',\n",
       "       'rockabilly', 'rockalternative', 'rockindie', 'rockother',\n",
       "       'romance', 'roots', 'ruspop', 'rusrap', 'rusrock', 'russian',\n",
       "       'salsa', 'samba', 'scenic', 'schlager', 'self', 'sertanejo',\n",
       "       'shanson', 'shoegazing', 'showtunes', 'singer', 'ska', 'skarock',\n",
       "       'slow', 'smooth', 'soft', 'soul', 'soulful', 'sound', 'soundtrack',\n",
       "       'southern', 'specialty', 'speech', 'spiritual', 'sport',\n",
       "       'stonerrock', 'surf', 'swing', 'synthpop', 'synthrock',\n",
       "       'sängerportrait', 'tango', 'tanzorchester', 'taraftar', 'tatar',\n",
       "       'tech', 'techno', 'teen', 'thrash', 'top', 'traditional',\n",
       "       'tradjazz', 'trance', 'tribal', 'trip', 'triphop', 'tropical',\n",
       "       'türk', 'türkçe', 'ukrrock', 'unknown', 'urban', 'uzbek',\n",
       "       'variété', 'vi', 'videogame', 'vocal', 'western', 'world',\n",
       "       'worldbeat', 'ïîï'], dtype=object)"
      ]
     },
     "execution_count": 71,
     "metadata": {},
     "output_type": "execute_result"
    }
   ],
   "source": [
    "df['genre'].sort_values().unique() # Проверка на неявные дубликаты"
   ]
  },
  {
   "cell_type": "markdown",
   "metadata": {
    "id": "jz6a9-7HQUDd"
   },
   "source": [
    "**Выводы**\n",
    "\n",
    "Предобработка обнаружила три проблемы в данных, которые были исправлены:\n",
    "\n",
    "- нарушения в стиле заголовков,\n",
    "- пропущенные значения,\n",
    "- дубликаты — явные и неявные.\n",
    "\n",
    "Теперь можно перейти к проверке гипотез. "
   ]
  },
  {
   "cell_type": "markdown",
   "metadata": {
    "id": "WttZHXH0SqKk"
   },
   "source": [
    "## Проверка гипотез"
   ]
  },
  {
   "cell_type": "markdown",
   "metadata": {
    "id": "Im936VVi_Zcu"
   },
   "source": [
    "### Сравнение поведения пользователей двух столиц"
   ]
  },
  {
   "cell_type": "markdown",
   "metadata": {
    "id": "nwt_MuaL_Zcu"
   },
   "source": [
    "Первая гипотеза утверждает, что пользователи по-разному слушают музыку в Москве и Санкт-Петербурге. Проверим это предположение по данным о трёх днях недели — понедельнике, среде и пятнице. Для этого:\n",
    "\n",
    "* Разделим пользователей Москвы и Санкт-Петербурга;\n",
    "* Сравним, сколько треков послушала каждая группа пользователей в понедельник, среду и пятницу.\n",
    "\n",
    "Оценим активность пользователей в каждом городе. Сгруппируем данные по городу и посчитаем прослушивания в каждой группе."
   ]
  },
  {
   "cell_type": "code",
   "execution_count": 38,
   "metadata": {
    "id": "0_Qs96oh_Zcu"
   },
   "outputs": [
    {
     "name": "stdout",
     "output_type": "stream",
     "text": [
      "Количество прослушиваний в Москве: 42741\n",
      "Количество прослушиваний в СП: 18512\n"
     ]
    }
   ],
   "source": [
    "# Подсчёт прослушиваний в каждом городе\n",
    "moscow_users_count = df[df['city'] == 'Moscow']['user_id'].count()\n",
    "spb_users_count = df[df['city'] == 'Saint-Petersburg']['user_id'].count()\n",
    "print('Количество прослушиваний в Москве:', moscow_users_count)\n",
    "print('Количество прослушиваний в СП:', spb_users_count)"
   ]
  },
  {
   "cell_type": "markdown",
   "metadata": {
    "id": "dzli3w8o_Zcu"
   },
   "source": [
    "В Москве прослушиваний больше, чем в Петербурге. Из этого не следует, что московские пользователи чаще слушают музыку. Просто самих пользователей в Москве больше.\n",
    "\n",
    "Теперь сгруппируем данные по дню недели и подсчитаем прослушивания в понедельник, среду и пятницу."
   ]
  },
  {
   "cell_type": "code",
   "execution_count": 39,
   "metadata": {
    "id": "uZMKjiJz_Zcu"
   },
   "outputs": [
    {
     "name": "stdout",
     "output_type": "stream",
     "text": [
      "Количество прослушиваний в понедельник: 21354\n",
      "Количество прослушиваний в среду: 18059\n",
      "Количество прослушиваний в пятницу: 21840\n"
     ]
    }
   ],
   "source": [
    "# Подсчёт прослушиваний в каждый из трёх дней\n",
    "monday_plays_count = df[df['day'] == 'Monday']['day'].count()\n",
    "wednesday_plays_count = df[df['day'] == 'Wednesday']['day'].count()\n",
    "friday_plays_count = df[df['day'] == 'Friday']['day'].count()\n",
    "print('Количество прослушиваний в понедельник:', monday_plays_count)\n",
    "print('Количество прослушиваний в среду:', wednesday_plays_count)\n",
    "print('Количество прослушиваний в пятницу:', friday_plays_count)"
   ]
  },
  {
   "cell_type": "markdown",
   "metadata": {
    "id": "POzs8bGa_Zcu"
   },
   "source": [
    "В среднем пользователи из двух городов менее активны по средам. Но картина может измениться, если рассмотреть каждый город в отдельности.\n",
    "\n",
    "Напишем функцию, которая объединит, и группировку по городу, и группировку по дням недели.\n",
    "\n",
    "Создадим функцию `number_tracks()`, которая посчитает прослушивания для заданного дня и города. В ней будут два параметра:\n",
    "* день недели,\n",
    "* название города.\n",
    "\n",
    "В функции сохраним в переменную строки исходной таблицы, у которых значение:\n",
    "* в колонке `day` равно параметру `day`,\n",
    "* в колонке `city` равно параметру `city`.\n",
    "\n",
    "Для этого применим последовательную фильтрацию с логической индексацией.\n",
    "\n",
    "Затем посчитаем значения в столбце `user_id` получившейся таблицы. Результат сохраним в новую переменную. Вернём эту переменную из функции."
   ]
  },
  {
   "cell_type": "code",
   "execution_count": 41,
   "metadata": {
    "id": "Nz3GdQB1_Zcu"
   },
   "outputs": [],
   "source": [
    "# <создание функции number_tracks()>\n",
    "# Объявляется функция с двумя параметрами: day, city.\n",
    "# В переменной track_list сохраняются те строки таблицы df, для которых \n",
    "# значение в столбце 'day' равно параметру day и одновременно значение\n",
    "# в столбце 'city' равно параметру city (используйте последовательную фильтрацию\n",
    "# с помощью логической индексации).\n",
    "# В переменной track_list_count сохраняется число значений столбца 'user_id',\n",
    "# рассчитанное методом count() для таблицы track_list.\n",
    "# Функция возвращает число - значение track_list_count.\n",
    "\n",
    "def number_tracks(day, city): \n",
    "    track_list = df[df['day'] == day]\n",
    "    track_list = track_list[df['city'] == city]\n",
    "    track_list_count = track_list['user_id'].count()\n",
    "    return track_list_count\n",
    "\n",
    "# Функция для подсчёта прослушиваний для конкретного города и дня.\n",
    "# С помощью последовательной фильтрации с логической индексацией она \n",
    "# сначала получит из исходной таблицы строки с нужным днём,\n",
    "# затем из результата отфильтрует строки с нужным городом,\n",
    "# методом count() посчитает количество значений в колонке user_id. \n",
    "# Это количество функция вернёт в качестве результата"
   ]
  },
  {
   "cell_type": "markdown",
   "metadata": {
    "id": "7QXffbO-_Zcu"
   },
   "source": [
    "Создадим c помощью конструктора `pd.DataFrame` таблицу, где\n",
    "* названия колонок — `['city', 'monday', 'wednesday', 'friday']`;\n",
    "* данные будут получены с помощью вызова `number_tracks`."
   ]
  },
  {
   "cell_type": "code",
   "execution_count": 42,
   "metadata": {
    "id": "APAcLpOr_Zcu"
   },
   "outputs": [
    {
     "name": "stderr",
     "output_type": "stream",
     "text": [
      "C:\\Users\\Zhbak\\anaconda3\\lib\\site-packages\\ipykernel_launcher.py:13: UserWarning: Boolean Series key will be reindexed to match DataFrame index.\n",
      "  del sys.path[0]\n"
     ]
    },
    {
     "data": {
      "text/html": [
       "<div>\n",
       "<style scoped>\n",
       "    .dataframe tbody tr th:only-of-type {\n",
       "        vertical-align: middle;\n",
       "    }\n",
       "\n",
       "    .dataframe tbody tr th {\n",
       "        vertical-align: top;\n",
       "    }\n",
       "\n",
       "    .dataframe thead th {\n",
       "        text-align: right;\n",
       "    }\n",
       "</style>\n",
       "<table border=\"1\" class=\"dataframe\">\n",
       "  <thead>\n",
       "    <tr style=\"text-align: right;\">\n",
       "      <th></th>\n",
       "      <th>city</th>\n",
       "      <th>monday</th>\n",
       "      <th>wednesday</th>\n",
       "      <th>friday</th>\n",
       "    </tr>\n",
       "  </thead>\n",
       "  <tbody>\n",
       "    <tr>\n",
       "      <th>0</th>\n",
       "      <td>Moscow</td>\n",
       "      <td>15740.0</td>\n",
       "      <td>11056.0</td>\n",
       "      <td>15945.0</td>\n",
       "    </tr>\n",
       "    <tr>\n",
       "      <th>1</th>\n",
       "      <td>Saint-Petersburg</td>\n",
       "      <td>5614.0</td>\n",
       "      <td>7003.0</td>\n",
       "      <td>5895.0</td>\n",
       "    </tr>\n",
       "  </tbody>\n",
       "</table>\n",
       "</div>"
      ],
      "text/plain": [
       "               city   monday  wednesday   friday\n",
       "0            Moscow  15740.0    11056.0  15945.0\n",
       "1  Saint-Petersburg   5614.0     7003.0   5895.0"
      ]
     },
     "execution_count": 42,
     "metadata": {},
     "output_type": "execute_result"
    }
   ],
   "source": [
    "# Таблица с результатами\n",
    "# Создаем пустой датафрейм\n",
    "number_tracks_result = pd.DataFrame()\n",
    "\n",
    "# Создаем списки с необходимыми городами и днями\n",
    "days = ['Monday', 'Wednesday', 'Friday']\n",
    "cities = ['Moscow', 'Saint-Petersburg']\n",
    "\n",
    "# Создаем цикл, который записывает города в датафрейм\n",
    "# number_tracks_result и рассчитывает количество треков\n",
    "for index in range(len(cities)):\n",
    "    number_tracks_result.loc[index, 'city'] = cities[index]\n",
    "    # Цикл перебирающий дни\n",
    "    for day in days:\n",
    "        number_tracks_result.loc[index, day] = number_tracks(day, cities[index])\n",
    "        \n",
    "# Переименование столбцов. Изначально цикл создает столбцы с именами \n",
    "# из списка days, а они начианаются с большой буквы как в df.day\n",
    "number_tracks_result = number_tracks_result.rename(\n",
    "                                                   columns={\n",
    "                                                   'Monday' : 'monday',\n",
    "                                                   'Wednesday' : 'wednesday',\n",
    "                                                   'Friday' : 'friday',\n",
    "                                                    }\n",
    "                                                    )\n",
    "\n",
    "# Выводим итоговую таблицу\n",
    "number_tracks_result"
   ]
  },
  {
   "cell_type": "markdown",
   "metadata": {
    "id": "-EgPIHYu_Zcu"
   },
   "source": [
    "**Выводы**\n",
    "\n",
    "Данные показывают разницу поведения пользователей:\n",
    "\n",
    "- В Москве пик прослушиваний приходится на понедельник и пятницу, а в среду заметен спад.\n",
    "- В Петербурге, наоборот, больше слушают музыку по средам. Активность в понедельник и пятницу здесь почти в равной мере уступает среде.\n",
    "\n",
    "Значит, данные говорят в пользу подтверждения первой гипотезы - пользователи из Москвы и СПБ по-разному слушают музыку."
   ]
  },
  {
   "cell_type": "markdown",
   "metadata": {
    "id": "atZAxtq4_Zcu"
   },
   "source": [
    "### Музыка в начале и в конце недели"
   ]
  },
  {
   "cell_type": "markdown",
   "metadata": {
    "id": "eXrQqXFH_Zcu"
   },
   "source": [
    "Согласно второй гипотезе, утром в понедельник в Москве преобладают одни жанры, а в Петербурге — другие. Так же и вечером пятницы преобладают разные жанры — в зависимости от города.\n",
    "\n",
    "Сохраним таблицы с данными в две переменные:\n",
    "* по Москве — в `moscow_general`;\n",
    "* по Санкт-Петербургу — в `spb_general`."
   ]
  },
  {
   "cell_type": "code",
   "execution_count": 43,
   "metadata": {
    "id": "qeaFfM_P_Zcu"
   },
   "outputs": [
    {
     "data": {
      "text/html": [
       "<div>\n",
       "<style scoped>\n",
       "    .dataframe tbody tr th:only-of-type {\n",
       "        vertical-align: middle;\n",
       "    }\n",
       "\n",
       "    .dataframe tbody tr th {\n",
       "        vertical-align: top;\n",
       "    }\n",
       "\n",
       "    .dataframe thead th {\n",
       "        text-align: right;\n",
       "    }\n",
       "</style>\n",
       "<table border=\"1\" class=\"dataframe\">\n",
       "  <thead>\n",
       "    <tr style=\"text-align: right;\">\n",
       "      <th></th>\n",
       "      <th>user_id</th>\n",
       "      <th>track</th>\n",
       "      <th>artist</th>\n",
       "      <th>genre</th>\n",
       "      <th>city</th>\n",
       "      <th>time</th>\n",
       "      <th>day</th>\n",
       "    </tr>\n",
       "  </thead>\n",
       "  <tbody>\n",
       "    <tr>\n",
       "      <th>1</th>\n",
       "      <td>55204538</td>\n",
       "      <td>Delayed Because of Accident</td>\n",
       "      <td>Andreas Rönnberg</td>\n",
       "      <td>rock</td>\n",
       "      <td>Moscow</td>\n",
       "      <td>14:07:09</td>\n",
       "      <td>Friday</td>\n",
       "    </tr>\n",
       "    <tr>\n",
       "      <th>4</th>\n",
       "      <td>E2DC1FAE</td>\n",
       "      <td>Soul People</td>\n",
       "      <td>Space Echo</td>\n",
       "      <td>dance</td>\n",
       "      <td>Moscow</td>\n",
       "      <td>08:34:34</td>\n",
       "      <td>Monday</td>\n",
       "    </tr>\n",
       "    <tr>\n",
       "      <th>6</th>\n",
       "      <td>4CB90AA5</td>\n",
       "      <td>True</td>\n",
       "      <td>Roman Messer</td>\n",
       "      <td>dance</td>\n",
       "      <td>Moscow</td>\n",
       "      <td>13:00:07</td>\n",
       "      <td>Wednesday</td>\n",
       "    </tr>\n",
       "    <tr>\n",
       "      <th>7</th>\n",
       "      <td>F03E1C1F</td>\n",
       "      <td>Feeling This Way</td>\n",
       "      <td>Polina Griffith</td>\n",
       "      <td>dance</td>\n",
       "      <td>Moscow</td>\n",
       "      <td>20:47:49</td>\n",
       "      <td>Wednesday</td>\n",
       "    </tr>\n",
       "    <tr>\n",
       "      <th>8</th>\n",
       "      <td>8FA1D3BE</td>\n",
       "      <td>И вновь продолжается бой</td>\n",
       "      <td>unknown</td>\n",
       "      <td>ruspop</td>\n",
       "      <td>Moscow</td>\n",
       "      <td>09:17:40</td>\n",
       "      <td>Friday</td>\n",
       "    </tr>\n",
       "  </tbody>\n",
       "</table>\n",
       "</div>"
      ],
      "text/plain": [
       "    user_id                        track            artist   genre    city  \\\n",
       "1  55204538  Delayed Because of Accident  Andreas Rönnberg    rock  Moscow   \n",
       "4  E2DC1FAE                  Soul People        Space Echo   dance  Moscow   \n",
       "6  4CB90AA5                         True      Roman Messer   dance  Moscow   \n",
       "7  F03E1C1F             Feeling This Way   Polina Griffith   dance  Moscow   \n",
       "8  8FA1D3BE     И вновь продолжается бой           unknown  ruspop  Moscow   \n",
       "\n",
       "       time        day  \n",
       "1  14:07:09     Friday  \n",
       "4  08:34:34     Monday  \n",
       "6  13:00:07  Wednesday  \n",
       "7  20:47:49  Wednesday  \n",
       "8  09:17:40     Friday  "
      ]
     },
     "execution_count": 43,
     "metadata": {},
     "output_type": "execute_result"
    }
   ],
   "source": [
    "# получение таблицы moscow_general из тех строк таблицы df, \n",
    "# для которых значение в столбце 'city' равно 'Moscow'\n",
    "moscow_general = df[df['city'] == 'Moscow']\n",
    "moscow_general.head()"
   ]
  },
  {
   "cell_type": "code",
   "execution_count": 44,
   "metadata": {
    "id": "ORaVRKto_Zcu"
   },
   "outputs": [
    {
     "data": {
      "text/html": [
       "<div>\n",
       "<style scoped>\n",
       "    .dataframe tbody tr th:only-of-type {\n",
       "        vertical-align: middle;\n",
       "    }\n",
       "\n",
       "    .dataframe tbody tr th {\n",
       "        vertical-align: top;\n",
       "    }\n",
       "\n",
       "    .dataframe thead th {\n",
       "        text-align: right;\n",
       "    }\n",
       "</style>\n",
       "<table border=\"1\" class=\"dataframe\">\n",
       "  <thead>\n",
       "    <tr style=\"text-align: right;\">\n",
       "      <th></th>\n",
       "      <th>user_id</th>\n",
       "      <th>track</th>\n",
       "      <th>artist</th>\n",
       "      <th>genre</th>\n",
       "      <th>city</th>\n",
       "      <th>time</th>\n",
       "      <th>day</th>\n",
       "    </tr>\n",
       "  </thead>\n",
       "  <tbody>\n",
       "    <tr>\n",
       "      <th>0</th>\n",
       "      <td>FFB692EC</td>\n",
       "      <td>Kamigata To Boots</td>\n",
       "      <td>The Mass Missile</td>\n",
       "      <td>rock</td>\n",
       "      <td>Saint-Petersburg</td>\n",
       "      <td>20:28:33</td>\n",
       "      <td>Wednesday</td>\n",
       "    </tr>\n",
       "    <tr>\n",
       "      <th>2</th>\n",
       "      <td>20EC38</td>\n",
       "      <td>Funiculì funiculà</td>\n",
       "      <td>Mario Lanza</td>\n",
       "      <td>pop</td>\n",
       "      <td>Saint-Petersburg</td>\n",
       "      <td>20:58:07</td>\n",
       "      <td>Wednesday</td>\n",
       "    </tr>\n",
       "    <tr>\n",
       "      <th>3</th>\n",
       "      <td>A3DD03C9</td>\n",
       "      <td>Dragons in the Sunset</td>\n",
       "      <td>Fire + Ice</td>\n",
       "      <td>folk</td>\n",
       "      <td>Saint-Petersburg</td>\n",
       "      <td>08:37:09</td>\n",
       "      <td>Monday</td>\n",
       "    </tr>\n",
       "    <tr>\n",
       "      <th>5</th>\n",
       "      <td>842029A1</td>\n",
       "      <td>Преданная</td>\n",
       "      <td>IMPERVTOR</td>\n",
       "      <td>rusrap</td>\n",
       "      <td>Saint-Petersburg</td>\n",
       "      <td>13:09:41</td>\n",
       "      <td>Friday</td>\n",
       "    </tr>\n",
       "    <tr>\n",
       "      <th>9</th>\n",
       "      <td>E772D5C0</td>\n",
       "      <td>Pessimist</td>\n",
       "      <td>unknown</td>\n",
       "      <td>dance</td>\n",
       "      <td>Saint-Petersburg</td>\n",
       "      <td>21:20:49</td>\n",
       "      <td>Wednesday</td>\n",
       "    </tr>\n",
       "  </tbody>\n",
       "</table>\n",
       "</div>"
      ],
      "text/plain": [
       "    user_id                  track            artist   genre  \\\n",
       "0  FFB692EC      Kamigata To Boots  The Mass Missile    rock   \n",
       "2    20EC38      Funiculì funiculà       Mario Lanza     pop   \n",
       "3  A3DD03C9  Dragons in the Sunset        Fire + Ice    folk   \n",
       "5  842029A1              Преданная         IMPERVTOR  rusrap   \n",
       "9  E772D5C0              Pessimist           unknown   dance   \n",
       "\n",
       "               city      time        day  \n",
       "0  Saint-Petersburg  20:28:33  Wednesday  \n",
       "2  Saint-Petersburg  20:58:07  Wednesday  \n",
       "3  Saint-Petersburg  08:37:09     Monday  \n",
       "5  Saint-Petersburg  13:09:41     Friday  \n",
       "9  Saint-Petersburg  21:20:49  Wednesday  "
      ]
     },
     "execution_count": 44,
     "metadata": {},
     "output_type": "execute_result"
    }
   ],
   "source": [
    "# получение таблицы spb_general из тех строк таблицы df,\n",
    "# для которых значение в столбце 'city' равно 'Saint-Petersburg'\n",
    "spb_general = df[df['city'] == 'Saint-Petersburg']\n",
    "spb_general.head()"
   ]
  },
  {
   "cell_type": "markdown",
   "metadata": {
    "id": "MEJV-CX2_Zcu"
   },
   "source": [
    "Создадим функцию `genre_weekday()` с четырьмя параметрами:\n",
    "* таблица (датафрейм) с данными,\n",
    "* день недели,\n",
    "* начальная временная метка в формате 'hh:mm', \n",
    "* последняя временная метка в формате 'hh:mm'.\n",
    "\n",
    "Функция возвращает информацию о топ-10 жанров тех треков, которые прослушивали в указанный день, в промежутке между двумя отметками времени."
   ]
  },
  {
   "cell_type": "code",
   "execution_count": 45,
   "metadata": {
    "id": "laJT9BYl_Zcu"
   },
   "outputs": [],
   "source": [
    "# Объявление функции genre_weekday() с параметрами table, day, time1, time2,\n",
    "# которая возвращает информацию о самых популярных жанрах в указанный день в\n",
    "# заданное время.\n",
    "\n",
    "def genre_weekday(table, day, time1, time2):\n",
    "    genre_df = table[table['day'] == day]\n",
    "    genre_df = genre_df[genre_df['time'] >= time1]\n",
    "    genre_df = genre_df[genre_df['time'] <= time2]\n",
    "    genre_df_count = genre_df.groupby('genre')['user_id'].count()\n",
    "    genre_df_sorted = genre_df_count.sort_values(ascending=False)\n",
    "    return genre_df_sorted[:10]"
   ]
  },
  {
   "cell_type": "markdown",
   "metadata": {
    "id": "la2s2_PF_Zcu"
   },
   "source": [
    "Cравним результаты функции `genre_weekday()` для Москвы и Санкт-Петербурга в понедельник утром (с 7:00 до 11:00) и в пятницу вечером (с 17:00 до 23:00):"
   ]
  },
  {
   "cell_type": "code",
   "execution_count": 46,
   "metadata": {
    "id": "yz7itPUQ_Zcu"
   },
   "outputs": [
    {
     "data": {
      "text/plain": [
       "genre\n",
       "pop            781\n",
       "dance          549\n",
       "electronic     480\n",
       "rock           474\n",
       "hiphop         286\n",
       "ruspop         186\n",
       "world          181\n",
       "rusrap         175\n",
       "alternative    164\n",
       "unknown        161\n",
       "Name: user_id, dtype: int64"
      ]
     },
     "execution_count": 46,
     "metadata": {},
     "output_type": "execute_result"
    }
   ],
   "source": [
    "# вызов функции для утра понедельника в Москве (вместо df — таблица moscow_general)\n",
    "# объекты, хранящие время, являются строками и сравниваются как строки\n",
    "# пример вызова: genre_weekday(moscow_general, 'Monday', '07:00', '11:00')\n",
    "genre_weekday(moscow_general, 'Monday', '07:00', '11:00')"
   ]
  },
  {
   "cell_type": "code",
   "execution_count": 47,
   "metadata": {
    "id": "kwUcHPdy_Zcu"
   },
   "outputs": [
    {
     "data": {
      "text/plain": [
       "genre\n",
       "pop            218\n",
       "dance          182\n",
       "rock           162\n",
       "electronic     147\n",
       "hiphop          80\n",
       "ruspop          64\n",
       "alternative     58\n",
       "rusrap          55\n",
       "jazz            44\n",
       "classical       40\n",
       "Name: user_id, dtype: int64"
      ]
     },
     "execution_count": 47,
     "metadata": {},
     "output_type": "execute_result"
    }
   ],
   "source": [
    "# вызов функции для утра понедельника в Петербурге (вместо df — таблица spb_general)\n",
    "genre_weekday(spb_general, 'Monday', '07:00', '11:00')"
   ]
  },
  {
   "cell_type": "code",
   "execution_count": 48,
   "metadata": {
    "id": "EzXVRE1o_Zcu"
   },
   "outputs": [
    {
     "data": {
      "text/plain": [
       "genre\n",
       "pop            713\n",
       "rock           517\n",
       "dance          495\n",
       "electronic     482\n",
       "hiphop         273\n",
       "world          208\n",
       "ruspop         170\n",
       "alternative    163\n",
       "classical      163\n",
       "rusrap         142\n",
       "Name: user_id, dtype: int64"
      ]
     },
     "execution_count": 48,
     "metadata": {},
     "output_type": "execute_result"
    }
   ],
   "source": [
    "# вызов функции для вечера пятницы в Москве\n",
    "genre_weekday(moscow_general, 'Friday', '17:00', '23:00')"
   ]
  },
  {
   "cell_type": "code",
   "execution_count": 49,
   "metadata": {
    "id": "JZaEKu5v_Zcu"
   },
   "outputs": [
    {
     "data": {
      "text/plain": [
       "genre\n",
       "pop            256\n",
       "electronic     216\n",
       "rock           216\n",
       "dance          210\n",
       "hiphop          97\n",
       "alternative     63\n",
       "jazz            61\n",
       "classical       60\n",
       "rusrap          59\n",
       "world           54\n",
       "Name: user_id, dtype: int64"
      ]
     },
     "execution_count": 49,
     "metadata": {},
     "output_type": "execute_result"
    }
   ],
   "source": [
    "# вызов функции для вечера пятницы в Петербурге\n",
    "genre_weekday(spb_general, 'Friday', '17:00', '23:00')"
   ]
  },
  {
   "cell_type": "markdown",
   "metadata": {
    "id": "wrCe4MNX_Zcu"
   },
   "source": [
    "**Выводы**\n",
    "\n",
    "Если сравнить топ-10 жанров в понедельник утром, можно сделать такие выводы:\n",
    "\n",
    "1. В Москве и Петербурге слушают похожую музыку. Единственное отличие — в московский рейтинг вошёл жанр “world”, а в петербургский — джаз и классика.\n",
    "\n",
    "2. В Москве пропущенных значений оказалось так много, что значение `'unknown'` заняло десятое место среди самых популярных жанров. Значит, пропущенные значения занимают существенную долю в данных и угрожают достоверности исследования.\n",
    "\n",
    "Вечер пятницы не меняет эту картину. Некоторые жанры поднимаются немного выше, другие спускаются, но в целом топ-10 остаётся тем же самым.\n",
    "\n",
    "Таким образом, вторая гипотеза подтвердилась лишь частично:\n",
    "* Пользователи слушают похожую музыку в начале недели и в конце.\n",
    "* Разница между Москвой и Петербургом не слишком выражена. В Москве чаще слушают русскую популярную музыку, в Петербурге — джаз.\n",
    "\n",
    "Однако пропуски в данных ставят под сомнение этот результат. В Москве их так много, что рейтинг топ-10 мог бы выглядеть иначе, если бы не утерянные  данные о жанрах."
   ]
  },
  {
   "cell_type": "markdown",
   "metadata": {
    "id": "JolODAqr_Zcu"
   },
   "source": [
    "### Жанровые предпочтения в Москве и Петербурге\n",
    "\n",
    "Гипотеза: Петербург — столица рэпа, музыку этого жанра там слушают чаще, чем в Москве.  А Москва — город контрастов, в котором, тем не менее, преобладает поп-музыка.\n",
    "\n",
    "Сгруппируем таблицу `moscow_general` по жанру и посчитаем прослушивания треков каждого жанра методом `count()`. Затем отсортируем результат в порядке убывания и сохраним его в таблице `moscow_genres`."
   ]
  },
  {
   "cell_type": "code",
   "execution_count": 50,
   "metadata": {
    "id": "r19lIPke_Zcu"
   },
   "outputs": [],
   "source": [
    "moscow_genres = moscow_general.groupby('genre')['user_id'].count().sort_values(ascending=False)"
   ]
  },
  {
   "cell_type": "markdown",
   "metadata": {
    "id": "6kMuomxTiIr8"
   },
   "source": [
    "Выведем на экран первые десять строк `moscow_genres`:"
   ]
  },
  {
   "cell_type": "code",
   "execution_count": 51,
   "metadata": {
    "id": "WhCSooF8_Zcv"
   },
   "outputs": [
    {
     "data": {
      "text/plain": [
       "genre\n",
       "pop            5892\n",
       "dance          4435\n",
       "rock           3965\n",
       "electronic     3786\n",
       "hiphop         2096\n",
       "classical      1616\n",
       "world          1432\n",
       "alternative    1379\n",
       "ruspop         1372\n",
       "rusrap         1161\n",
       "Name: user_id, dtype: int64"
      ]
     },
     "execution_count": 51,
     "metadata": {},
     "output_type": "execute_result"
    }
   ],
   "source": [
    "# просмотр первых 10 строк moscow_genres\n",
    "moscow_genres[:10]"
   ]
  },
  {
   "cell_type": "markdown",
   "metadata": {
    "id": "cnPG2vnN_Zcv"
   },
   "source": [
    "Теперь повторим то же и для Петербурга.\n",
    "\n",
    "Сгруппируем таблицу `spb_general` по жанру. Посчитаем прослушивания треков каждого жанра. Результат отсортируем в порядке убывания и сохраним в таблице `spb_genres`:"
   ]
  },
  {
   "cell_type": "code",
   "execution_count": 52,
   "metadata": {
    "id": "gluLIpE7_Zcv"
   },
   "outputs": [],
   "source": [
    "spb_genres = spb_general.groupby('genre')['user_id'].count().sort_values(ascending=False)"
   ]
  },
  {
   "cell_type": "markdown",
   "metadata": {
    "id": "5Doha_ODgyQ8"
   },
   "source": [
    "Выведем на экран первые десять строк `spb_genres`:"
   ]
  },
  {
   "cell_type": "code",
   "execution_count": 53,
   "metadata": {
    "id": "uaGJHjVU_Zcv"
   },
   "outputs": [
    {
     "data": {
      "text/plain": [
       "genre\n",
       "pop            2431\n",
       "dance          1932\n",
       "rock           1879\n",
       "electronic     1736\n",
       "hiphop          960\n",
       "alternative     649\n",
       "classical       646\n",
       "rusrap          564\n",
       "ruspop          538\n",
       "world           515\n",
       "Name: user_id, dtype: int64"
      ]
     },
     "execution_count": 53,
     "metadata": {},
     "output_type": "execute_result"
    }
   ],
   "source": [
    "# просмотр первых 10 строк spb_genres\n",
    "spb_genres[:10]"
   ]
  },
  {
   "cell_type": "markdown",
   "metadata": {
    "id": "RY51YJYu_Zcv"
   },
   "source": [
    "**Выводы**"
   ]
  },
  {
   "cell_type": "markdown",
   "metadata": {
    "id": "nVhnJEm__Zcv"
   },
   "source": [
    "Гипотеза частично подтвердилась:\n",
    "* Поп-музыка — самый популярный жанр в Москве, как и предполагала гипотеза. Более того, в топ-10 жанров встречается близкий жанр — русская популярная музыка.\n",
    "* Вопреки ожиданиям, попса одинаково популярена в Москве и Петербурге. "
   ]
  },
  {
   "cell_type": "markdown",
   "metadata": {
    "id": "ykKQ0N65_Zcv"
   },
   "source": [
    "## Итоги исследования"
   ]
  },
  {
   "cell_type": "markdown",
   "metadata": {
    "id": "tjUwbHb3_Zcv"
   },
   "source": [
    "Вы проверили три гипотезы и установили:\n",
    "\n",
    "1. День недели по-разному влияет на активность пользователей в Москве и Петербурге. \n",
    "\n",
    "\n",
    "2. Музыкальные предпочтения не сильно меняются в течение недели — будь то Москва или Петербург. Небольшие различия заметны в начале недели, по понедельникам:\n",
    "* в Москве слушают музыку жанра “world”,\n",
    "* в Петербурге — джаз и классику.\n",
    "\n",
    "3. Во вкусах пользователей Москвы и Петербурга больше общего чем различий. Вопреки ожиданиям, предпочтения жанров в Петербурге напоминают московские.\n",
    "\n",
    "Первая гипотеза полностью подтвердилась.\n",
    "Вторая гипотеза подтвердилась лишь отчасти. Этот результат мог оказаться иным, если бы не пропуски в данных.\n",
    "Третья гипотеза не подтвердилась. Если различия в предпочтениях и существуют, на основной массе пользователей они незаметны."
   ]
  }
 ],
 "metadata": {
  "ExecuteTimeLog": [
   {
    "duration": 581,
    "start_time": "2022-02-13T12:17:14.733Z"
   },
   {
    "duration": 131,
    "start_time": "2022-02-13T12:17:56.469Z"
   },
   {
    "duration": 16,
    "start_time": "2022-02-13T12:18:10.192Z"
   },
   {
    "duration": 9,
    "start_time": "2022-02-13T12:18:25.872Z"
   },
   {
    "duration": 26,
    "start_time": "2022-02-13T12:19:00.314Z"
   },
   {
    "duration": 433,
    "start_time": "2022-02-13T15:40:44.519Z"
   },
   {
    "duration": 766,
    "start_time": "2022-02-13T15:40:51.522Z"
   },
   {
    "duration": 191,
    "start_time": "2022-02-13T15:40:52.290Z"
   },
   {
    "duration": 25,
    "start_time": "2022-02-13T15:40:52.747Z"
   },
   {
    "duration": 32,
    "start_time": "2022-02-13T15:40:54.536Z"
   },
   {
    "duration": 6,
    "start_time": "2022-02-13T15:40:55.359Z"
   },
   {
    "duration": 226,
    "start_time": "2022-02-13T15:44:17.835Z"
   },
   {
    "duration": 25,
    "start_time": "2022-02-13T15:44:27.908Z"
   },
   {
    "duration": 6,
    "start_time": "2022-02-13T15:44:45.501Z"
   },
   {
    "duration": 32,
    "start_time": "2022-02-13T15:45:30.569Z"
   },
   {
    "duration": 3957,
    "start_time": "2022-02-13T15:48:44.502Z"
   },
   {
    "duration": 4207,
    "start_time": "2022-02-13T15:49:29.098Z"
   },
   {
    "duration": 8675,
    "start_time": "2022-02-13T15:50:36.282Z"
   },
   {
    "duration": 633,
    "start_time": "2022-02-13T15:51:07.675Z"
   },
   {
    "duration": 176,
    "start_time": "2022-02-13T15:51:22.433Z"
   },
   {
    "duration": 15,
    "start_time": "2022-02-13T15:51:23.800Z"
   },
   {
    "duration": 30,
    "start_time": "2022-02-13T15:51:24.439Z"
   },
   {
    "duration": 6,
    "start_time": "2022-02-13T15:51:25.815Z"
   },
   {
    "duration": 26,
    "start_time": "2022-02-13T15:51:28.483Z"
   },
   {
    "duration": 7,
    "start_time": "2022-02-13T15:51:29.749Z"
   },
   {
    "duration": 29,
    "start_time": "2022-02-13T15:51:31.401Z"
   },
   {
    "duration": 6,
    "start_time": "2022-02-13T15:51:34.925Z"
   },
   {
    "duration": 23,
    "start_time": "2022-02-13T15:51:37.651Z"
   },
   {
    "duration": 30,
    "start_time": "2022-02-13T15:52:40.295Z"
   },
   {
    "duration": 661,
    "start_time": "2022-02-13T15:53:17.659Z"
   },
   {
    "duration": 119,
    "start_time": "2022-02-13T15:53:22.177Z"
   },
   {
    "duration": 152,
    "start_time": "2022-02-13T15:54:22.159Z"
   },
   {
    "duration": 276,
    "start_time": "2022-02-13T15:54:39.252Z"
   },
   {
    "duration": 77,
    "start_time": "2022-02-13T15:54:45.959Z"
   },
   {
    "duration": 87,
    "start_time": "2022-02-13T15:55:04.444Z"
   },
   {
    "duration": 76,
    "start_time": "2022-02-13T15:55:06.906Z"
   },
   {
    "duration": 62,
    "start_time": "2022-02-13T15:56:47.376Z"
   },
   {
    "duration": 5,
    "start_time": "2022-02-13T16:14:21.216Z"
   },
   {
    "duration": 747,
    "start_time": "2022-02-13T16:16:19.738Z"
   },
   {
    "duration": 15,
    "start_time": "2022-02-13T16:16:26.534Z"
   },
   {
    "duration": 58,
    "start_time": "2022-02-13T16:17:08.994Z"
   },
   {
    "duration": 5,
    "start_time": "2022-02-13T16:17:32.276Z"
   },
   {
    "duration": 14,
    "start_time": "2022-02-13T16:17:33.298Z"
   },
   {
    "duration": 95,
    "start_time": "2022-02-13T16:17:34.192Z"
   },
   {
    "duration": 41,
    "start_time": "2022-02-13T16:26:00.666Z"
   },
   {
    "duration": 38,
    "start_time": "2022-02-13T16:26:09.071Z"
   },
   {
    "duration": 28,
    "start_time": "2022-02-13T16:26:24.694Z"
   },
   {
    "duration": 36,
    "start_time": "2022-02-13T16:28:57.493Z"
   },
   {
    "duration": 35,
    "start_time": "2022-02-13T16:29:18.711Z"
   },
   {
    "duration": 10626,
    "start_time": "2022-02-13T16:35:03.108Z"
   },
   {
    "duration": 7748,
    "start_time": "2022-02-13T16:35:28.365Z"
   },
   {
    "duration": 41,
    "start_time": "2022-02-13T16:35:37.326Z"
   },
   {
    "duration": 5,
    "start_time": "2022-02-13T16:52:39.991Z"
   },
   {
    "duration": 8,
    "start_time": "2022-02-13T17:01:29.350Z"
   },
   {
    "duration": 9,
    "start_time": "2022-02-13T17:01:35.605Z"
   },
   {
    "duration": 299,
    "start_time": "2022-02-13T17:13:02.463Z"
   },
   {
    "duration": 14,
    "start_time": "2022-02-13T17:13:36.935Z"
   },
   {
    "duration": 414,
    "start_time": "2022-02-14T09:50:47.086Z"
   },
   {
    "duration": 785,
    "start_time": "2022-02-14T09:50:59.982Z"
   },
   {
    "duration": 191,
    "start_time": "2022-02-14T09:51:00.770Z"
   },
   {
    "duration": 29,
    "start_time": "2022-02-14T09:51:00.965Z"
   },
   {
    "duration": 54,
    "start_time": "2022-02-14T09:51:00.996Z"
   },
   {
    "duration": 20,
    "start_time": "2022-02-14T09:51:01.052Z"
   },
   {
    "duration": 40,
    "start_time": "2022-02-14T09:51:01.074Z"
   },
   {
    "duration": 18,
    "start_time": "2022-02-14T09:51:01.117Z"
   },
   {
    "duration": 49,
    "start_time": "2022-02-14T09:51:01.138Z"
   },
   {
    "duration": 34,
    "start_time": "2022-02-14T09:51:01.190Z"
   },
   {
    "duration": 31,
    "start_time": "2022-02-14T09:51:01.227Z"
   },
   {
    "duration": 107,
    "start_time": "2022-02-14T09:51:01.261Z"
   },
   {
    "duration": 112,
    "start_time": "2022-02-14T09:51:01.370Z"
   },
   {
    "duration": 87,
    "start_time": "2022-02-14T09:51:01.484Z"
   },
   {
    "duration": 63,
    "start_time": "2022-02-14T09:51:01.573Z"
   },
   {
    "duration": 5,
    "start_time": "2022-02-14T09:51:01.638Z"
   },
   {
    "duration": 22,
    "start_time": "2022-02-14T09:51:01.645Z"
   },
   {
    "duration": 120,
    "start_time": "2022-02-14T09:51:01.669Z"
   },
   {
    "duration": 53,
    "start_time": "2022-02-14T09:51:01.792Z"
   },
   {
    "duration": 77,
    "start_time": "2022-02-14T09:51:01.848Z"
   },
   {
    "duration": 5,
    "start_time": "2022-02-14T09:51:01.929Z"
   },
   {
    "duration": 17,
    "start_time": "2022-02-14T09:51:01.937Z"
   },
   {
    "duration": 7,
    "start_time": "2022-02-14T09:51:01.957Z"
   },
   {
    "duration": 4,
    "start_time": "2022-02-14T09:51:01.969Z"
   },
   {
    "duration": 9,
    "start_time": "2022-02-14T09:51:01.976Z"
   },
   {
    "duration": 35,
    "start_time": "2022-02-14T09:51:01.988Z"
   },
   {
    "duration": 3,
    "start_time": "2022-02-14T09:51:02.026Z"
   },
   {
    "duration": 332,
    "start_time": "2022-02-14T09:51:04.688Z"
   },
   {
    "duration": 290,
    "start_time": "2022-02-14T09:51:44.620Z"
   },
   {
    "duration": 10,
    "start_time": "2022-02-14T09:52:36.118Z"
   },
   {
    "duration": 302,
    "start_time": "2022-02-14T09:55:39.464Z"
   },
   {
    "duration": 24,
    "start_time": "2022-02-14T09:57:04.060Z"
   },
   {
    "duration": 988,
    "start_time": "2022-02-14T09:58:00.775Z"
   },
   {
    "duration": 5,
    "start_time": "2022-02-14T09:58:22.520Z"
   },
   {
    "duration": 304,
    "start_time": "2022-02-14T09:58:25.263Z"
   },
   {
    "duration": 476,
    "start_time": "2022-02-14T09:59:00.523Z"
   },
   {
    "duration": 9,
    "start_time": "2022-02-14T10:00:01.201Z"
   },
   {
    "duration": 641,
    "start_time": "2022-02-14T10:01:00.679Z"
   },
   {
    "duration": 23,
    "start_time": "2022-02-14T10:01:37.042Z"
   },
   {
    "duration": 298,
    "start_time": "2022-02-14T10:01:51.429Z"
   },
   {
    "duration": 361,
    "start_time": "2022-02-14T10:02:21.282Z"
   },
   {
    "duration": 111,
    "start_time": "2022-02-14T10:03:13.110Z"
   },
   {
    "duration": 23,
    "start_time": "2022-02-14T10:03:19.869Z"
   },
   {
    "duration": 37,
    "start_time": "2022-02-14T10:03:26.384Z"
   },
   {
    "duration": 336,
    "start_time": "2022-02-14T10:03:54.445Z"
   },
   {
    "duration": 1010,
    "start_time": "2022-02-14T10:08:08.212Z"
   },
   {
    "duration": 322,
    "start_time": "2022-02-14T10:08:09.226Z"
   },
   {
    "duration": 40,
    "start_time": "2022-02-14T10:08:09.554Z"
   },
   {
    "duration": 65,
    "start_time": "2022-02-14T10:08:09.598Z"
   },
   {
    "duration": 8,
    "start_time": "2022-02-14T10:08:09.666Z"
   },
   {
    "duration": 49,
    "start_time": "2022-02-14T10:08:09.676Z"
   },
   {
    "duration": 7,
    "start_time": "2022-02-14T10:08:09.728Z"
   },
   {
    "duration": 52,
    "start_time": "2022-02-14T10:08:09.740Z"
   },
   {
    "duration": 59,
    "start_time": "2022-02-14T10:08:09.796Z"
   },
   {
    "duration": 74,
    "start_time": "2022-02-14T10:08:09.858Z"
   },
   {
    "duration": 127,
    "start_time": "2022-02-14T10:08:09.935Z"
   },
   {
    "duration": 129,
    "start_time": "2022-02-14T10:08:10.065Z"
   },
   {
    "duration": 102,
    "start_time": "2022-02-14T10:08:10.197Z"
   },
   {
    "duration": 66,
    "start_time": "2022-02-14T10:08:10.302Z"
   },
   {
    "duration": 5,
    "start_time": "2022-02-14T10:08:10.371Z"
   },
   {
    "duration": 33,
    "start_time": "2022-02-14T10:08:10.379Z"
   },
   {
    "duration": 89,
    "start_time": "2022-02-14T10:08:10.415Z"
   },
   {
    "duration": 51,
    "start_time": "2022-02-14T10:08:10.507Z"
   },
   {
    "duration": 46,
    "start_time": "2022-02-14T10:08:10.561Z"
   },
   {
    "duration": 4,
    "start_time": "2022-02-14T10:08:10.609Z"
   },
   {
    "duration": 10,
    "start_time": "2022-02-14T10:08:10.615Z"
   },
   {
    "duration": 6,
    "start_time": "2022-02-14T10:08:10.628Z"
   },
   {
    "duration": 6,
    "start_time": "2022-02-14T10:08:10.639Z"
   },
   {
    "duration": 7,
    "start_time": "2022-02-14T10:08:10.647Z"
   },
   {
    "duration": 7,
    "start_time": "2022-02-14T10:08:10.657Z"
   },
   {
    "duration": 4,
    "start_time": "2022-02-14T10:08:10.666Z"
   },
   {
    "duration": 27,
    "start_time": "2022-02-14T10:08:10.673Z"
   },
   {
    "duration": 28,
    "start_time": "2022-02-14T10:08:15.426Z"
   },
   {
    "duration": 9,
    "start_time": "2022-02-14T10:08:20.774Z"
   },
   {
    "duration": 479,
    "start_time": "2022-02-14T10:08:21.442Z"
   },
   {
    "duration": 141,
    "start_time": "2022-02-14T10:08:22.122Z"
   },
   {
    "duration": 26,
    "start_time": "2022-02-14T10:09:25.009Z"
   },
   {
    "duration": 28,
    "start_time": "2022-02-14T10:09:34.792Z"
   },
   {
    "duration": 4,
    "start_time": "2022-02-14T10:09:53.941Z"
   },
   {
    "duration": 205,
    "start_time": "2022-02-14T10:09:53.948Z"
   },
   {
    "duration": 16,
    "start_time": "2022-02-14T10:09:54.157Z"
   },
   {
    "duration": 60,
    "start_time": "2022-02-14T10:09:54.176Z"
   },
   {
    "duration": 7,
    "start_time": "2022-02-14T10:09:54.240Z"
   },
   {
    "duration": 28,
    "start_time": "2022-02-14T10:09:54.250Z"
   },
   {
    "duration": 43,
    "start_time": "2022-02-14T10:09:54.282Z"
   },
   {
    "duration": 33,
    "start_time": "2022-02-14T10:09:54.330Z"
   },
   {
    "duration": 57,
    "start_time": "2022-02-14T10:09:54.366Z"
   },
   {
    "duration": 37,
    "start_time": "2022-02-14T10:09:54.427Z"
   },
   {
    "duration": 126,
    "start_time": "2022-02-14T10:09:54.469Z"
   },
   {
    "duration": 99,
    "start_time": "2022-02-14T10:09:54.598Z"
   },
   {
    "duration": 86,
    "start_time": "2022-02-14T10:09:54.699Z"
   },
   {
    "duration": 71,
    "start_time": "2022-02-14T10:09:54.788Z"
   },
   {
    "duration": 5,
    "start_time": "2022-02-14T10:09:54.862Z"
   },
   {
    "duration": 16,
    "start_time": "2022-02-14T10:09:54.870Z"
   },
   {
    "duration": 92,
    "start_time": "2022-02-14T10:09:54.888Z"
   },
   {
    "duration": 57,
    "start_time": "2022-02-14T10:09:54.984Z"
   },
   {
    "duration": 47,
    "start_time": "2022-02-14T10:09:55.044Z"
   },
   {
    "duration": 5,
    "start_time": "2022-02-14T10:09:55.093Z"
   },
   {
    "duration": 9,
    "start_time": "2022-02-14T10:09:55.124Z"
   },
   {
    "duration": 5,
    "start_time": "2022-02-14T10:09:55.137Z"
   },
   {
    "duration": 5,
    "start_time": "2022-02-14T10:09:55.147Z"
   },
   {
    "duration": 18,
    "start_time": "2022-02-14T10:09:55.155Z"
   },
   {
    "duration": 7,
    "start_time": "2022-02-14T10:09:55.176Z"
   },
   {
    "duration": 6,
    "start_time": "2022-02-14T10:09:55.186Z"
   },
   {
    "duration": 130,
    "start_time": "2022-02-14T10:09:58.077Z"
   },
   {
    "duration": 24,
    "start_time": "2022-02-14T10:10:54.578Z"
   },
   {
    "duration": 5,
    "start_time": "2022-02-14T10:11:23.548Z"
   },
   {
    "duration": 84,
    "start_time": "2022-02-14T10:11:26.462Z"
   },
   {
    "duration": 24,
    "start_time": "2022-02-14T10:11:34.123Z"
   },
   {
    "duration": 727,
    "start_time": "2022-02-14T10:11:59.276Z"
   },
   {
    "duration": 182,
    "start_time": "2022-02-14T10:12:00.006Z"
   },
   {
    "duration": 34,
    "start_time": "2022-02-14T10:12:00.191Z"
   },
   {
    "duration": 33,
    "start_time": "2022-02-14T10:12:00.227Z"
   },
   {
    "duration": 5,
    "start_time": "2022-02-14T10:12:00.263Z"
   },
   {
    "duration": 62,
    "start_time": "2022-02-14T10:12:00.270Z"
   },
   {
    "duration": 8,
    "start_time": "2022-02-14T10:12:00.334Z"
   },
   {
    "duration": 30,
    "start_time": "2022-02-14T10:12:00.346Z"
   },
   {
    "duration": 52,
    "start_time": "2022-02-14T10:12:00.379Z"
   },
   {
    "duration": 29,
    "start_time": "2022-02-14T10:12:00.434Z"
   },
   {
    "duration": 109,
    "start_time": "2022-02-14T10:12:00.465Z"
   },
   {
    "duration": 118,
    "start_time": "2022-02-14T10:12:00.577Z"
   },
   {
    "duration": 86,
    "start_time": "2022-02-14T10:12:00.698Z"
   },
   {
    "duration": 61,
    "start_time": "2022-02-14T10:12:00.786Z"
   },
   {
    "duration": 4,
    "start_time": "2022-02-14T10:12:00.850Z"
   },
   {
    "duration": 18,
    "start_time": "2022-02-14T10:12:00.856Z"
   },
   {
    "duration": 84,
    "start_time": "2022-02-14T10:12:00.877Z"
   },
   {
    "duration": 35,
    "start_time": "2022-02-14T10:12:00.964Z"
   },
   {
    "duration": 59,
    "start_time": "2022-02-14T10:12:01.025Z"
   },
   {
    "duration": 6,
    "start_time": "2022-02-14T10:12:01.086Z"
   },
   {
    "duration": 19,
    "start_time": "2022-02-14T10:12:04.212Z"
   },
   {
    "duration": 20,
    "start_time": "2022-02-14T10:13:02.144Z"
   },
   {
    "duration": 19,
    "start_time": "2022-02-14T10:13:18.886Z"
   },
   {
    "duration": 12,
    "start_time": "2022-02-14T10:13:28.636Z"
   },
   {
    "duration": 4,
    "start_time": "2022-02-14T10:13:39.561Z"
   },
   {
    "duration": 184,
    "start_time": "2022-02-14T10:13:39.567Z"
   },
   {
    "duration": 17,
    "start_time": "2022-02-14T10:13:39.755Z"
   },
   {
    "duration": 53,
    "start_time": "2022-02-14T10:13:39.774Z"
   },
   {
    "duration": 6,
    "start_time": "2022-02-14T10:13:39.830Z"
   },
   {
    "duration": 22,
    "start_time": "2022-02-14T10:13:39.839Z"
   },
   {
    "duration": 6,
    "start_time": "2022-02-14T10:13:39.865Z"
   },
   {
    "duration": 68,
    "start_time": "2022-02-14T10:13:39.875Z"
   },
   {
    "duration": 25,
    "start_time": "2022-02-14T10:13:39.946Z"
   },
   {
    "duration": 60,
    "start_time": "2022-02-14T10:13:39.973Z"
   },
   {
    "duration": 100,
    "start_time": "2022-02-14T10:13:40.036Z"
   },
   {
    "duration": 106,
    "start_time": "2022-02-14T10:13:40.139Z"
   },
   {
    "duration": 85,
    "start_time": "2022-02-14T10:13:40.247Z"
   },
   {
    "duration": 68,
    "start_time": "2022-02-14T10:13:40.335Z"
   },
   {
    "duration": 21,
    "start_time": "2022-02-14T10:13:40.406Z"
   },
   {
    "duration": 38,
    "start_time": "2022-02-14T10:13:40.430Z"
   },
   {
    "duration": 63,
    "start_time": "2022-02-14T10:13:40.471Z"
   },
   {
    "duration": 36,
    "start_time": "2022-02-14T10:13:40.537Z"
   },
   {
    "duration": 73,
    "start_time": "2022-02-14T10:13:40.578Z"
   },
   {
    "duration": 4,
    "start_time": "2022-02-14T10:13:40.654Z"
   },
   {
    "duration": 25,
    "start_time": "2022-02-14T10:13:40.661Z"
   },
   {
    "duration": 11,
    "start_time": "2022-02-14T10:13:42.451Z"
   },
   {
    "duration": 27,
    "start_time": "2022-02-14T10:13:53.292Z"
   },
   {
    "duration": 138,
    "start_time": "2022-02-14T10:14:08.141Z"
   },
   {
    "duration": 578,
    "start_time": "2022-02-14T10:18:16.990Z"
   },
   {
    "duration": 121,
    "start_time": "2022-02-14T10:18:28.437Z"
   },
   {
    "duration": 3,
    "start_time": "2022-02-14T10:18:39.114Z"
   },
   {
    "duration": 208,
    "start_time": "2022-02-14T10:18:39.120Z"
   },
   {
    "duration": 25,
    "start_time": "2022-02-14T10:18:39.332Z"
   },
   {
    "duration": 38,
    "start_time": "2022-02-14T10:18:39.360Z"
   },
   {
    "duration": 7,
    "start_time": "2022-02-14T10:18:39.424Z"
   },
   {
    "duration": 19,
    "start_time": "2022-02-14T10:18:39.433Z"
   },
   {
    "duration": 6,
    "start_time": "2022-02-14T10:18:39.455Z"
   },
   {
    "duration": 60,
    "start_time": "2022-02-14T10:18:39.463Z"
   },
   {
    "duration": 22,
    "start_time": "2022-02-14T10:18:39.525Z"
   },
   {
    "duration": 30,
    "start_time": "2022-02-14T10:18:39.549Z"
   },
   {
    "duration": 104,
    "start_time": "2022-02-14T10:18:39.582Z"
   },
   {
    "duration": 100,
    "start_time": "2022-02-14T10:18:39.688Z"
   },
   {
    "duration": 83,
    "start_time": "2022-02-14T10:18:39.791Z"
   },
   {
    "duration": 66,
    "start_time": "2022-02-14T10:18:39.876Z"
   },
   {
    "duration": 4,
    "start_time": "2022-02-14T10:18:39.945Z"
   },
   {
    "duration": 17,
    "start_time": "2022-02-14T10:18:39.951Z"
   },
   {
    "duration": 83,
    "start_time": "2022-02-14T10:18:39.970Z"
   },
   {
    "duration": 31,
    "start_time": "2022-02-14T10:18:40.055Z"
   },
   {
    "duration": 63,
    "start_time": "2022-02-14T10:18:40.090Z"
   },
   {
    "duration": 6,
    "start_time": "2022-02-14T10:18:40.156Z"
   },
   {
    "duration": 28,
    "start_time": "2022-02-14T10:18:40.164Z"
   },
   {
    "duration": 55,
    "start_time": "2022-02-14T10:18:40.194Z"
   },
   {
    "duration": 3,
    "start_time": "2022-02-14T10:18:40.252Z"
   },
   {
    "duration": 9,
    "start_time": "2022-02-14T10:18:40.258Z"
   },
   {
    "duration": 8,
    "start_time": "2022-02-14T10:18:40.269Z"
   },
   {
    "duration": 45,
    "start_time": "2022-02-14T10:18:40.279Z"
   },
   {
    "duration": 5,
    "start_time": "2022-02-14T10:18:40.327Z"
   },
   {
    "duration": 5,
    "start_time": "2022-02-14T10:18:40.334Z"
   },
   {
    "duration": 128,
    "start_time": "2022-02-14T10:18:43.923Z"
   },
   {
    "duration": 826,
    "start_time": "2022-02-14T10:19:23.353Z"
   },
   {
    "duration": 183,
    "start_time": "2022-02-14T10:19:24.183Z"
   },
   {
    "duration": 28,
    "start_time": "2022-02-14T10:19:24.369Z"
   },
   {
    "duration": 49,
    "start_time": "2022-02-14T10:19:24.400Z"
   },
   {
    "duration": 7,
    "start_time": "2022-02-14T10:19:24.452Z"
   },
   {
    "duration": 30,
    "start_time": "2022-02-14T10:19:24.462Z"
   },
   {
    "duration": 31,
    "start_time": "2022-02-14T10:19:24.495Z"
   },
   {
    "duration": 37,
    "start_time": "2022-02-14T10:19:24.532Z"
   },
   {
    "duration": 53,
    "start_time": "2022-02-14T10:19:24.573Z"
   },
   {
    "duration": 34,
    "start_time": "2022-02-14T10:19:24.629Z"
   },
   {
    "duration": 108,
    "start_time": "2022-02-14T10:19:24.665Z"
   },
   {
    "duration": 177,
    "start_time": "2022-02-14T10:19:24.777Z"
   },
   {
    "duration": 122,
    "start_time": "2022-02-14T10:19:24.958Z"
   },
   {
    "duration": 107,
    "start_time": "2022-02-14T10:19:25.083Z"
   },
   {
    "duration": 5,
    "start_time": "2022-02-14T10:19:25.194Z"
   },
   {
    "duration": 34,
    "start_time": "2022-02-14T10:19:25.202Z"
   },
   {
    "duration": 88,
    "start_time": "2022-02-14T10:19:25.239Z"
   },
   {
    "duration": 45,
    "start_time": "2022-02-14T10:19:25.330Z"
   },
   {
    "duration": 93,
    "start_time": "2022-02-14T10:19:25.378Z"
   },
   {
    "duration": 5,
    "start_time": "2022-02-14T10:19:25.473Z"
   },
   {
    "duration": 8,
    "start_time": "2022-02-14T10:19:25.480Z"
   },
   {
    "duration": 9,
    "start_time": "2022-02-14T10:19:25.490Z"
   },
   {
    "duration": 6,
    "start_time": "2022-02-14T10:19:25.503Z"
   },
   {
    "duration": 3,
    "start_time": "2022-02-14T10:19:25.525Z"
   },
   {
    "duration": 7,
    "start_time": "2022-02-14T10:19:25.531Z"
   },
   {
    "duration": 5,
    "start_time": "2022-02-14T10:19:25.541Z"
   },
   {
    "duration": 366,
    "start_time": "2022-02-14T10:19:29.520Z"
   },
   {
    "duration": 136,
    "start_time": "2022-02-14T10:19:46.757Z"
   },
   {
    "duration": 132,
    "start_time": "2022-02-14T10:19:55.779Z"
   },
   {
    "duration": 27,
    "start_time": "2022-02-14T10:22:17.133Z"
   },
   {
    "duration": 5,
    "start_time": "2022-02-14T10:24:36.629Z"
   },
   {
    "duration": 26,
    "start_time": "2022-02-14T10:24:38.544Z"
   },
   {
    "duration": 5,
    "start_time": "2022-02-14T10:24:43.991Z"
   },
   {
    "duration": 29,
    "start_time": "2022-02-14T10:24:45.816Z"
   },
   {
    "duration": 38,
    "start_time": "2022-02-14T10:25:25.786Z"
   },
   {
    "duration": 128,
    "start_time": "2022-02-14T10:27:59.574Z"
   },
   {
    "duration": 492,
    "start_time": "2022-02-14T10:31:48.995Z"
   },
   {
    "duration": 23,
    "start_time": "2022-02-14T10:32:00.755Z"
   },
   {
    "duration": 195,
    "start_time": "2022-02-14T10:32:08.441Z"
   },
   {
    "duration": 198,
    "start_time": "2022-02-14T10:37:30.386Z"
   },
   {
    "duration": 132,
    "start_time": "2022-02-14T10:40:07.337Z"
   },
   {
    "duration": 122,
    "start_time": "2022-02-14T10:40:54.948Z"
   },
   {
    "duration": 140,
    "start_time": "2022-02-14T10:41:01.298Z"
   },
   {
    "duration": 3,
    "start_time": "2022-02-14T10:42:32.553Z"
   },
   {
    "duration": 187,
    "start_time": "2022-02-14T10:42:32.559Z"
   },
   {
    "duration": 16,
    "start_time": "2022-02-14T10:42:32.749Z"
   },
   {
    "duration": 55,
    "start_time": "2022-02-14T10:42:32.768Z"
   },
   {
    "duration": 7,
    "start_time": "2022-02-14T10:42:32.825Z"
   },
   {
    "duration": 35,
    "start_time": "2022-02-14T10:42:32.834Z"
   },
   {
    "duration": 6,
    "start_time": "2022-02-14T10:42:32.872Z"
   },
   {
    "duration": 53,
    "start_time": "2022-02-14T10:42:32.881Z"
   },
   {
    "duration": 26,
    "start_time": "2022-02-14T10:42:32.938Z"
   },
   {
    "duration": 29,
    "start_time": "2022-02-14T10:42:32.967Z"
   },
   {
    "duration": 105,
    "start_time": "2022-02-14T10:42:32.999Z"
   },
   {
    "duration": 106,
    "start_time": "2022-02-14T10:42:33.106Z"
   },
   {
    "duration": 86,
    "start_time": "2022-02-14T10:42:33.215Z"
   },
   {
    "duration": 76,
    "start_time": "2022-02-14T10:42:33.304Z"
   },
   {
    "duration": 7,
    "start_time": "2022-02-14T10:42:33.382Z"
   },
   {
    "duration": 48,
    "start_time": "2022-02-14T10:42:33.391Z"
   },
   {
    "duration": 110,
    "start_time": "2022-02-14T10:42:33.442Z"
   },
   {
    "duration": 68,
    "start_time": "2022-02-14T10:42:33.555Z"
   },
   {
    "duration": 41,
    "start_time": "2022-02-14T10:42:33.625Z"
   },
   {
    "duration": 4,
    "start_time": "2022-02-14T10:42:33.668Z"
   },
   {
    "duration": 48,
    "start_time": "2022-02-14T10:42:33.675Z"
   },
   {
    "duration": 12,
    "start_time": "2022-02-14T10:42:33.725Z"
   },
   {
    "duration": 8,
    "start_time": "2022-02-14T10:42:33.742Z"
   },
   {
    "duration": 27,
    "start_time": "2022-02-14T10:42:33.752Z"
   },
   {
    "duration": 11,
    "start_time": "2022-02-14T10:42:33.781Z"
   },
   {
    "duration": 13,
    "start_time": "2022-02-14T10:42:33.796Z"
   },
   {
    "duration": 158,
    "start_time": "2022-02-14T10:42:33.811Z"
   },
   {
    "duration": 14,
    "start_time": "2022-02-14T11:25:50.050Z"
   },
   {
    "duration": 8,
    "start_time": "2022-02-14T11:26:30.167Z"
   },
   {
    "duration": 313,
    "start_time": "2022-02-14T11:46:17.540Z"
   },
   {
    "duration": 6,
    "start_time": "2022-02-14T11:46:25.260Z"
   },
   {
    "duration": 7686,
    "start_time": "2022-02-14T11:46:27.697Z"
   },
   {
    "duration": 7315,
    "start_time": "2022-02-14T11:46:48.403Z"
   },
   {
    "duration": 7302,
    "start_time": "2022-02-14T11:47:02.798Z"
   },
   {
    "duration": 11,
    "start_time": "2022-02-14T11:47:14.730Z"
   },
   {
    "duration": 9,
    "start_time": "2022-02-14T11:47:37.397Z"
   },
   {
    "duration": 8,
    "start_time": "2022-02-14T11:47:46.364Z"
   },
   {
    "duration": 10,
    "start_time": "2022-02-14T11:47:50.292Z"
   },
   {
    "duration": 11,
    "start_time": "2022-02-14T11:47:52.680Z"
   },
   {
    "duration": 16,
    "start_time": "2022-02-14T11:48:11.116Z"
   },
   {
    "duration": 16,
    "start_time": "2022-02-14T11:48:17.749Z"
   },
   {
    "duration": 125,
    "start_time": "2022-02-14T11:49:11.040Z"
   },
   {
    "duration": 135,
    "start_time": "2022-02-14T11:49:39.179Z"
   },
   {
    "duration": 4,
    "start_time": "2022-02-14T11:50:36.894Z"
   },
   {
    "duration": 203,
    "start_time": "2022-02-14T11:50:36.900Z"
   },
   {
    "duration": 22,
    "start_time": "2022-02-14T11:50:37.106Z"
   },
   {
    "duration": 33,
    "start_time": "2022-02-14T11:50:37.131Z"
   },
   {
    "duration": 5,
    "start_time": "2022-02-14T11:50:37.167Z"
   },
   {
    "duration": 61,
    "start_time": "2022-02-14T11:50:37.176Z"
   },
   {
    "duration": 8,
    "start_time": "2022-02-14T11:50:37.244Z"
   },
   {
    "duration": 77,
    "start_time": "2022-02-14T11:50:37.258Z"
   },
   {
    "duration": 46,
    "start_time": "2022-02-14T11:50:37.339Z"
   },
   {
    "duration": 72,
    "start_time": "2022-02-14T11:50:37.389Z"
   },
   {
    "duration": 96,
    "start_time": "2022-02-14T11:50:37.464Z"
   },
   {
    "duration": 101,
    "start_time": "2022-02-14T11:50:37.563Z"
   },
   {
    "duration": 87,
    "start_time": "2022-02-14T11:50:37.666Z"
   },
   {
    "duration": 69,
    "start_time": "2022-02-14T11:50:37.755Z"
   },
   {
    "duration": 7,
    "start_time": "2022-02-14T11:50:37.827Z"
   },
   {
    "duration": 20,
    "start_time": "2022-02-14T11:50:37.836Z"
   },
   {
    "duration": 71,
    "start_time": "2022-02-14T11:50:37.858Z"
   },
   {
    "duration": 34,
    "start_time": "2022-02-14T11:50:37.931Z"
   },
   {
    "duration": 67,
    "start_time": "2022-02-14T11:50:37.969Z"
   },
   {
    "duration": 4,
    "start_time": "2022-02-14T11:50:38.039Z"
   },
   {
    "duration": 10,
    "start_time": "2022-02-14T11:50:38.046Z"
   },
   {
    "duration": 6,
    "start_time": "2022-02-14T11:50:38.059Z"
   },
   {
    "duration": 7,
    "start_time": "2022-02-14T11:50:38.068Z"
   },
   {
    "duration": 8,
    "start_time": "2022-02-14T11:50:38.078Z"
   },
   {
    "duration": 34,
    "start_time": "2022-02-14T11:50:38.089Z"
   },
   {
    "duration": 4,
    "start_time": "2022-02-14T11:50:38.126Z"
   },
   {
    "duration": 124,
    "start_time": "2022-02-14T11:50:56.095Z"
   },
   {
    "duration": 27,
    "start_time": "2022-02-14T11:50:59.831Z"
   },
   {
    "duration": 17,
    "start_time": "2022-02-14T11:52:03.187Z"
   },
   {
    "duration": 32,
    "start_time": "2022-02-14T11:52:32.786Z"
   },
   {
    "duration": 133,
    "start_time": "2022-02-14T11:53:02.303Z"
   },
   {
    "duration": 132,
    "start_time": "2022-02-14T11:53:18.961Z"
   },
   {
    "duration": 4,
    "start_time": "2022-02-14T11:56:14.580Z"
   },
   {
    "duration": 7068,
    "start_time": "2022-02-14T11:56:56.470Z"
   },
   {
    "duration": 14,
    "start_time": "2022-02-14T11:57:36.658Z"
   },
   {
    "duration": 13,
    "start_time": "2022-02-14T11:57:43.703Z"
   },
   {
    "duration": 3,
    "start_time": "2022-02-14T11:57:57.701Z"
   },
   {
    "duration": 207,
    "start_time": "2022-02-14T11:57:57.708Z"
   },
   {
    "duration": 17,
    "start_time": "2022-02-14T11:57:57.919Z"
   },
   {
    "duration": 36,
    "start_time": "2022-02-14T11:57:57.939Z"
   },
   {
    "duration": 6,
    "start_time": "2022-02-14T11:57:57.978Z"
   },
   {
    "duration": 66,
    "start_time": "2022-02-14T11:57:57.987Z"
   },
   {
    "duration": 7,
    "start_time": "2022-02-14T11:57:58.058Z"
   },
   {
    "duration": 65,
    "start_time": "2022-02-14T11:57:58.068Z"
   },
   {
    "duration": 34,
    "start_time": "2022-02-14T11:57:58.136Z"
   },
   {
    "duration": 67,
    "start_time": "2022-02-14T11:57:58.173Z"
   },
   {
    "duration": 144,
    "start_time": "2022-02-14T11:57:58.244Z"
   },
   {
    "duration": 120,
    "start_time": "2022-02-14T11:57:58.392Z"
   },
   {
    "duration": 83,
    "start_time": "2022-02-14T11:57:58.515Z"
   },
   {
    "duration": 83,
    "start_time": "2022-02-14T11:57:58.601Z"
   },
   {
    "duration": 3,
    "start_time": "2022-02-14T11:57:58.688Z"
   },
   {
    "duration": 37,
    "start_time": "2022-02-14T11:57:58.694Z"
   },
   {
    "duration": 64,
    "start_time": "2022-02-14T11:57:58.734Z"
   },
   {
    "duration": 53,
    "start_time": "2022-02-14T11:57:58.801Z"
   },
   {
    "duration": 67,
    "start_time": "2022-02-14T11:57:58.858Z"
   },
   {
    "duration": 4,
    "start_time": "2022-02-14T11:57:58.928Z"
   },
   {
    "duration": 9,
    "start_time": "2022-02-14T11:57:58.935Z"
   },
   {
    "duration": 8,
    "start_time": "2022-02-14T11:57:58.946Z"
   },
   {
    "duration": 5,
    "start_time": "2022-02-14T11:57:58.957Z"
   },
   {
    "duration": 8,
    "start_time": "2022-02-14T11:57:58.964Z"
   },
   {
    "duration": 5,
    "start_time": "2022-02-14T11:57:58.975Z"
   },
   {
    "duration": 4,
    "start_time": "2022-02-14T11:57:59.022Z"
   },
   {
    "duration": 155,
    "start_time": "2022-02-14T11:57:59.029Z"
   },
   {
    "duration": 13,
    "start_time": "2022-02-14T11:57:59.187Z"
   },
   {
    "duration": 41,
    "start_time": "2022-02-14T11:57:59.202Z"
   },
   {
    "duration": 9,
    "start_time": "2022-02-14T11:57:59.246Z"
   },
   {
    "duration": 9077,
    "start_time": "2022-02-14T11:58:05.490Z"
   },
   {
    "duration": 6,
    "start_time": "2022-02-14T11:59:14.308Z"
   },
   {
    "duration": 4116,
    "start_time": "2022-02-14T11:59:16.670Z"
   },
   {
    "duration": 28,
    "start_time": "2022-02-14T12:46:12.110Z"
   },
   {
    "duration": 29,
    "start_time": "2022-02-14T12:46:12.431Z"
   },
   {
    "duration": 15,
    "start_time": "2022-02-14T12:46:18.440Z"
   },
   {
    "duration": 13,
    "start_time": "2022-02-14T12:46:21.930Z"
   },
   {
    "duration": 8806,
    "start_time": "2022-02-14T12:46:27.327Z"
   },
   {
    "duration": 31,
    "start_time": "2022-02-14T12:47:12.425Z"
   },
   {
    "duration": 6,
    "start_time": "2022-02-14T12:47:40.888Z"
   },
   {
    "duration": 6,
    "start_time": "2022-02-14T12:47:42.511Z"
   },
   {
    "duration": 611,
    "start_time": "2022-02-14T12:47:43.474Z"
   },
   {
    "duration": 5,
    "start_time": "2022-02-14T12:48:01.259Z"
   },
   {
    "duration": 536,
    "start_time": "2022-02-14T12:48:01.978Z"
   },
   {
    "duration": 87,
    "start_time": "2022-02-14T12:49:06.426Z"
   },
   {
    "duration": 5,
    "start_time": "2022-02-14T12:49:09.980Z"
   },
   {
    "duration": 5,
    "start_time": "2022-02-14T12:49:20.601Z"
   },
   {
    "duration": 26,
    "start_time": "2022-02-14T12:49:21.301Z"
   },
   {
    "duration": 6,
    "start_time": "2022-02-14T12:49:52.690Z"
   },
   {
    "duration": 25,
    "start_time": "2022-02-14T12:49:53.437Z"
   },
   {
    "duration": 16,
    "start_time": "2022-02-14T12:50:09.401Z"
   },
   {
    "duration": 19,
    "start_time": "2022-02-14T12:50:35.166Z"
   },
   {
    "duration": 321,
    "start_time": "2022-02-14T12:51:38.598Z"
   },
   {
    "duration": 270,
    "start_time": "2022-02-14T12:51:46.708Z"
   },
   {
    "duration": 36,
    "start_time": "2022-02-14T12:51:51.409Z"
   },
   {
    "duration": 20,
    "start_time": "2022-02-14T12:52:40.362Z"
   },
   {
    "duration": 15,
    "start_time": "2022-02-14T12:55:23.178Z"
   },
   {
    "duration": 6,
    "start_time": "2022-02-14T12:55:47.562Z"
   },
   {
    "duration": 291,
    "start_time": "2022-02-14T12:56:53.404Z"
   },
   {
    "duration": 297,
    "start_time": "2022-02-14T12:57:12.313Z"
   },
   {
    "duration": 9,
    "start_time": "2022-02-14T12:57:34.342Z"
   },
   {
    "duration": 9,
    "start_time": "2022-02-14T12:57:44.063Z"
   },
   {
    "duration": 1211,
    "start_time": "2022-02-14T12:57:49.478Z"
   },
   {
    "duration": 7,
    "start_time": "2022-02-14T12:57:54.963Z"
   },
   {
    "duration": 767,
    "start_time": "2022-02-14T13:01:49.262Z"
   },
   {
    "duration": 254,
    "start_time": "2022-02-14T13:01:50.033Z"
   },
   {
    "duration": 41,
    "start_time": "2022-02-14T13:01:50.291Z"
   },
   {
    "duration": 43,
    "start_time": "2022-02-14T13:01:50.336Z"
   },
   {
    "duration": 12,
    "start_time": "2022-02-14T13:01:50.382Z"
   },
   {
    "duration": 46,
    "start_time": "2022-02-14T13:01:50.396Z"
   },
   {
    "duration": 8,
    "start_time": "2022-02-14T13:01:50.445Z"
   },
   {
    "duration": 34,
    "start_time": "2022-02-14T13:01:50.458Z"
   },
   {
    "duration": 48,
    "start_time": "2022-02-14T13:01:50.498Z"
   },
   {
    "duration": 35,
    "start_time": "2022-02-14T13:01:50.549Z"
   },
   {
    "duration": 112,
    "start_time": "2022-02-14T13:01:50.588Z"
   },
   {
    "duration": 120,
    "start_time": "2022-02-14T13:01:50.703Z"
   },
   {
    "duration": 76,
    "start_time": "2022-02-14T13:01:50.826Z"
   },
   {
    "duration": 73,
    "start_time": "2022-02-14T13:01:50.905Z"
   },
   {
    "duration": 4,
    "start_time": "2022-02-14T13:01:50.980Z"
   },
   {
    "duration": 39,
    "start_time": "2022-02-14T13:01:50.987Z"
   },
   {
    "duration": 60,
    "start_time": "2022-02-14T13:01:51.028Z"
   },
   {
    "duration": 64,
    "start_time": "2022-02-14T13:01:51.091Z"
   },
   {
    "duration": 69,
    "start_time": "2022-02-14T13:01:51.158Z"
   },
   {
    "duration": 5,
    "start_time": "2022-02-14T13:01:51.229Z"
   },
   {
    "duration": 14,
    "start_time": "2022-02-14T13:01:51.236Z"
   },
   {
    "duration": 6,
    "start_time": "2022-02-14T13:01:51.253Z"
   },
   {
    "duration": 6,
    "start_time": "2022-02-14T13:01:51.264Z"
   },
   {
    "duration": 9,
    "start_time": "2022-02-14T13:01:51.272Z"
   },
   {
    "duration": 8,
    "start_time": "2022-02-14T13:01:51.284Z"
   },
   {
    "duration": 40,
    "start_time": "2022-02-14T13:01:51.294Z"
   },
   {
    "duration": 145,
    "start_time": "2022-02-14T13:01:51.336Z"
   },
   {
    "duration": 21,
    "start_time": "2022-02-14T13:01:51.484Z"
   },
   {
    "duration": 18,
    "start_time": "2022-02-14T13:01:51.525Z"
   },
   {
    "duration": 11,
    "start_time": "2022-02-14T13:01:51.545Z"
   },
   {
    "duration": 42,
    "start_time": "2022-02-14T13:01:51.560Z"
   },
   {
    "duration": 34,
    "start_time": "2022-02-14T13:01:51.604Z"
   },
   {
    "duration": 23,
    "start_time": "2022-02-14T13:01:51.641Z"
   },
   {
    "duration": 58,
    "start_time": "2022-02-14T13:01:51.668Z"
   },
   {
    "duration": 17,
    "start_time": "2022-02-14T13:01:51.729Z"
   },
   {
    "duration": 8,
    "start_time": "2022-02-14T13:01:51.748Z"
   },
   {
    "duration": 14,
    "start_time": "2022-02-14T13:01:51.759Z"
   },
   {
    "duration": 50,
    "start_time": "2022-02-14T13:01:51.775Z"
   },
   {
    "duration": 223,
    "start_time": "2022-02-14T13:02:30.281Z"
   },
   {
    "duration": 664,
    "start_time": "2022-02-21T12:18:47.252Z"
   },
   {
    "duration": 204,
    "start_time": "2022-02-21T12:18:47.919Z"
   },
   {
    "duration": 27,
    "start_time": "2022-02-21T12:18:48.127Z"
   },
   {
    "duration": 62,
    "start_time": "2022-02-21T12:18:48.157Z"
   },
   {
    "duration": 19,
    "start_time": "2022-02-21T12:18:48.221Z"
   },
   {
    "duration": 29,
    "start_time": "2022-02-21T12:18:48.243Z"
   },
   {
    "duration": 15,
    "start_time": "2022-02-21T12:18:48.275Z"
   },
   {
    "duration": 64,
    "start_time": "2022-02-21T12:18:48.292Z"
   },
   {
    "duration": 41,
    "start_time": "2022-02-21T12:18:48.360Z"
   },
   {
    "duration": 34,
    "start_time": "2022-02-21T12:18:48.405Z"
   },
   {
    "duration": 118,
    "start_time": "2022-02-21T12:18:48.441Z"
   },
   {
    "duration": 111,
    "start_time": "2022-02-21T12:18:48.562Z"
   },
   {
    "duration": 93,
    "start_time": "2022-02-21T12:18:48.675Z"
   },
   {
    "duration": 69,
    "start_time": "2022-02-21T12:18:48.770Z"
   },
   {
    "duration": 4,
    "start_time": "2022-02-21T12:18:48.841Z"
   },
   {
    "duration": 24,
    "start_time": "2022-02-21T12:18:48.847Z"
   },
   {
    "duration": 78,
    "start_time": "2022-02-21T12:18:48.873Z"
   },
   {
    "duration": 36,
    "start_time": "2022-02-21T12:18:48.954Z"
   },
   {
    "duration": 71,
    "start_time": "2022-02-21T12:18:48.992Z"
   },
   {
    "duration": 5,
    "start_time": "2022-02-21T12:18:49.065Z"
   },
   {
    "duration": 34,
    "start_time": "2022-02-21T12:18:49.072Z"
   },
   {
    "duration": 19,
    "start_time": "2022-02-21T12:18:49.108Z"
   },
   {
    "duration": 20,
    "start_time": "2022-02-21T12:18:49.129Z"
   },
   {
    "duration": 23,
    "start_time": "2022-02-21T12:18:49.152Z"
   },
   {
    "duration": 18,
    "start_time": "2022-02-21T12:18:49.178Z"
   },
   {
    "duration": 37,
    "start_time": "2022-02-21T12:18:49.199Z"
   },
   {
    "duration": 154,
    "start_time": "2022-02-21T12:18:49.242Z"
   },
   {
    "duration": 33,
    "start_time": "2022-02-21T12:18:49.399Z"
   },
   {
    "duration": 17,
    "start_time": "2022-02-21T12:18:49.435Z"
   },
   {
    "duration": 34,
    "start_time": "2022-02-21T12:18:49.455Z"
   },
   {
    "duration": 33,
    "start_time": "2022-02-21T12:18:49.492Z"
   },
   {
    "duration": 17,
    "start_time": "2022-02-21T12:18:49.527Z"
   },
   {
    "duration": 22,
    "start_time": "2022-02-21T12:18:49.546Z"
   },
   {
    "duration": 16,
    "start_time": "2022-02-21T12:18:49.571Z"
   },
   {
    "duration": 46,
    "start_time": "2022-02-21T12:18:49.589Z"
   },
   {
    "duration": 6,
    "start_time": "2022-02-21T12:18:49.638Z"
   },
   {
    "duration": 10,
    "start_time": "2022-02-21T12:18:49.646Z"
   },
   {
    "duration": 9,
    "start_time": "2022-02-21T12:18:49.658Z"
   },
   {
    "duration": 15,
    "start_time": "2022-02-21T12:21:25.502Z"
   },
   {
    "duration": 794,
    "start_time": "2022-02-21T16:26:14.483Z"
   },
   {
    "duration": 195,
    "start_time": "2022-02-21T16:26:15.280Z"
   },
   {
    "duration": 129,
    "start_time": "2022-02-21T16:26:15.479Z"
   },
   {
    "duration": 398,
    "start_time": "2022-02-21T16:26:15.611Z"
   },
   {
    "duration": 332,
    "start_time": "2022-02-21T16:26:16.011Z"
   },
   {
    "duration": 266,
    "start_time": "2022-02-21T16:26:16.346Z"
   },
   {
    "duration": 274,
    "start_time": "2022-02-21T16:26:16.615Z"
   },
   {
    "duration": 233,
    "start_time": "2022-02-21T16:26:16.894Z"
   },
   {
    "duration": 234,
    "start_time": "2022-02-21T16:26:17.130Z"
   },
   {
    "duration": 288,
    "start_time": "2022-02-21T16:26:17.367Z"
   },
   {
    "duration": 301,
    "start_time": "2022-02-21T16:26:17.658Z"
   },
   {
    "duration": 351,
    "start_time": "2022-02-21T16:26:17.962Z"
   },
   {
    "duration": 286,
    "start_time": "2022-02-21T16:26:18.315Z"
   },
   {
    "duration": 255,
    "start_time": "2022-02-21T16:26:18.604Z"
   },
   {
    "duration": 312,
    "start_time": "2022-02-21T16:26:18.862Z"
   },
   {
    "duration": 294,
    "start_time": "2022-02-21T16:26:19.176Z"
   },
   {
    "duration": 271,
    "start_time": "2022-02-21T16:26:19.472Z"
   },
   {
    "duration": 426,
    "start_time": "2022-02-21T16:26:19.746Z"
   },
   {
    "duration": 39,
    "start_time": "2022-02-21T16:26:27.521Z"
   },
   {
    "duration": 38,
    "start_time": "2022-02-21T16:40:07.815Z"
   },
   {
    "duration": 390,
    "start_time": "2022-02-21T16:41:31.870Z"
   },
   {
    "duration": 38,
    "start_time": "2022-02-21T16:41:46.317Z"
   },
   {
    "duration": 5,
    "start_time": "2022-02-21T16:41:47.106Z"
   },
   {
    "duration": 4,
    "start_time": "2022-02-21T16:41:48.055Z"
   },
   {
    "duration": 3,
    "start_time": "2022-02-21T16:41:48.261Z"
   },
   {
    "duration": 11,
    "start_time": "2022-02-21T16:41:48.502Z"
   },
   {
    "duration": 98,
    "start_time": "2022-02-21T16:41:48.726Z"
   },
   {
    "duration": 194,
    "start_time": "2022-02-21T16:41:48.978Z"
   },
   {
    "duration": 115,
    "start_time": "2022-02-21T16:41:49.305Z"
   },
   {
    "duration": 127,
    "start_time": "2022-02-21T16:41:50.714Z"
   },
   {
    "duration": 153,
    "start_time": "2022-02-21T16:42:02.424Z"
   },
   {
    "duration": 142,
    "start_time": "2022-02-21T16:42:07.612Z"
   },
   {
    "duration": 104,
    "start_time": "2022-02-21T16:43:13.370Z"
   },
   {
    "duration": 7177,
    "start_time": "2022-02-21T16:43:16.533Z"
   },
   {
    "duration": 8263,
    "start_time": "2022-02-21T16:43:52.104Z"
   },
   {
    "duration": 7760,
    "start_time": "2022-02-21T16:44:01.504Z"
   },
   {
    "duration": 19,
    "start_time": "2022-02-21T16:54:44.027Z"
   },
   {
    "duration": 109,
    "start_time": "2022-02-21T16:55:12.550Z"
   },
   {
    "duration": 150,
    "start_time": "2022-02-21T16:55:20.265Z"
   },
   {
    "duration": 27,
    "start_time": "2022-02-21T16:55:56.754Z"
   },
   {
    "duration": 40,
    "start_time": "2022-02-21T16:57:25.267Z"
   },
   {
    "duration": 26,
    "start_time": "2022-02-21T16:57:25.844Z"
   },
   {
    "duration": 27,
    "start_time": "2022-02-21T16:57:26.728Z"
   },
   {
    "duration": 24,
    "start_time": "2022-02-21T16:57:27.245Z"
   },
   {
    "duration": 28,
    "start_time": "2022-02-21T16:57:28.025Z"
   },
   {
    "duration": 30,
    "start_time": "2022-02-21T16:57:28.600Z"
   },
   {
    "duration": 26,
    "start_time": "2022-02-21T16:57:29.159Z"
   },
   {
    "duration": 33,
    "start_time": "2022-02-21T16:57:31.149Z"
   },
   {
    "duration": 144,
    "start_time": "2022-02-21T16:57:38.471Z"
   },
   {
    "duration": 893,
    "start_time": "2022-02-21T16:58:26.823Z"
   },
   {
    "duration": 200,
    "start_time": "2022-02-21T16:58:27.718Z"
   },
   {
    "duration": 125,
    "start_time": "2022-02-21T16:58:27.922Z"
   },
   {
    "duration": 329,
    "start_time": "2022-02-21T16:58:28.051Z"
   },
   {
    "duration": 304,
    "start_time": "2022-02-21T16:58:28.383Z"
   },
   {
    "duration": 370,
    "start_time": "2022-02-21T16:58:28.689Z"
   },
   {
    "duration": 206,
    "start_time": "2022-02-21T16:58:29.062Z"
   },
   {
    "duration": 299,
    "start_time": "2022-02-21T16:58:29.271Z"
   },
   {
    "duration": 355,
    "start_time": "2022-02-21T16:58:29.576Z"
   },
   {
    "duration": 294,
    "start_time": "2022-02-21T16:58:29.935Z"
   },
   {
    "duration": 304,
    "start_time": "2022-02-21T16:58:30.232Z"
   },
   {
    "duration": 364,
    "start_time": "2022-02-21T16:58:30.539Z"
   },
   {
    "duration": 385,
    "start_time": "2022-02-21T16:58:30.905Z"
   },
   {
    "duration": 267,
    "start_time": "2022-02-21T16:58:31.293Z"
   },
   {
    "duration": 242,
    "start_time": "2022-02-21T16:58:31.562Z"
   },
   {
    "duration": 271,
    "start_time": "2022-02-21T16:58:31.807Z"
   },
   {
    "duration": 282,
    "start_time": "2022-02-21T16:58:32.080Z"
   },
   {
    "duration": 358,
    "start_time": "2022-02-21T16:58:32.365Z"
   },
   {
    "duration": 266,
    "start_time": "2022-02-21T16:58:32.727Z"
   },
   {
    "duration": 374,
    "start_time": "2022-02-21T16:58:32.996Z"
   },
   {
    "duration": 232,
    "start_time": "2022-02-21T16:58:33.373Z"
   },
   {
    "duration": 333,
    "start_time": "2022-02-21T16:58:33.609Z"
   },
   {
    "duration": 251,
    "start_time": "2022-02-21T16:58:33.946Z"
   },
   {
    "duration": 309,
    "start_time": "2022-02-21T16:58:34.199Z"
   },
   {
    "duration": 266,
    "start_time": "2022-02-21T16:58:34.511Z"
   },
   {
    "duration": 230,
    "start_time": "2022-02-21T16:58:34.780Z"
   },
   {
    "duration": 243,
    "start_time": "2022-02-21T16:58:35.015Z"
   },
   {
    "duration": 386,
    "start_time": "2022-02-21T16:58:35.261Z"
   },
   {
    "duration": 133,
    "start_time": "2022-02-21T17:01:36.768Z"
   },
   {
    "duration": 140,
    "start_time": "2022-02-21T17:01:41.531Z"
   },
   {
    "duration": 140,
    "start_time": "2022-02-21T17:01:46.957Z"
   },
   {
    "duration": 30,
    "start_time": "2022-02-21T17:02:22.175Z"
   },
   {
    "duration": 28,
    "start_time": "2022-02-21T17:02:38.078Z"
   },
   {
    "duration": 26,
    "start_time": "2022-02-21T17:02:39.901Z"
   },
   {
    "duration": 13,
    "start_time": "2022-02-21T17:02:40.493Z"
   },
   {
    "duration": 24,
    "start_time": "2022-02-21T17:02:46.645Z"
   },
   {
    "duration": 25,
    "start_time": "2022-02-21T17:03:42.419Z"
   },
   {
    "duration": 6,
    "start_time": "2022-02-21T17:04:20.666Z"
   },
   {
    "duration": 26,
    "start_time": "2022-02-21T17:04:28.617Z"
   },
   {
    "duration": 6,
    "start_time": "2022-02-21T17:04:40.436Z"
   },
   {
    "duration": 6,
    "start_time": "2022-02-21T17:04:41.787Z"
   },
   {
    "duration": 26,
    "start_time": "2022-02-21T17:04:42.961Z"
   },
   {
    "duration": 20,
    "start_time": "2022-02-21T17:04:45.593Z"
   },
   {
    "duration": 782,
    "start_time": "2022-02-21T17:13:38.598Z"
   },
   {
    "duration": 194,
    "start_time": "2022-02-21T17:13:39.383Z"
   },
   {
    "duration": 121,
    "start_time": "2022-02-21T17:13:39.581Z"
   },
   {
    "duration": 322,
    "start_time": "2022-02-21T17:13:39.706Z"
   },
   {
    "duration": 317,
    "start_time": "2022-02-21T17:13:40.031Z"
   },
   {
    "duration": 332,
    "start_time": "2022-02-21T17:13:40.350Z"
   },
   {
    "duration": 322,
    "start_time": "2022-02-21T17:13:40.684Z"
   },
   {
    "duration": 314,
    "start_time": "2022-02-21T17:13:41.011Z"
   },
   {
    "duration": 303,
    "start_time": "2022-02-21T17:13:41.328Z"
   },
   {
    "duration": 279,
    "start_time": "2022-02-21T17:13:41.633Z"
   },
   {
    "duration": 286,
    "start_time": "2022-02-21T17:13:41.914Z"
   },
   {
    "duration": 360,
    "start_time": "2022-02-21T17:13:42.203Z"
   },
   {
    "duration": 341,
    "start_time": "2022-02-21T17:13:42.566Z"
   },
   {
    "duration": 327,
    "start_time": "2022-02-21T17:13:42.910Z"
   },
   {
    "duration": 196,
    "start_time": "2022-02-21T17:13:43.240Z"
   },
   {
    "duration": 248,
    "start_time": "2022-02-21T17:13:43.439Z"
   },
   {
    "duration": 288,
    "start_time": "2022-02-21T17:13:43.689Z"
   },
   {
    "duration": 327,
    "start_time": "2022-02-21T17:13:43.980Z"
   },
   {
    "duration": 302,
    "start_time": "2022-02-21T17:13:44.309Z"
   },
   {
    "duration": 286,
    "start_time": "2022-02-21T17:13:44.613Z"
   },
   {
    "duration": 183,
    "start_time": "2022-02-21T17:13:44.901Z"
   },
   {
    "duration": 256,
    "start_time": "2022-02-21T17:13:45.086Z"
   },
   {
    "duration": 186,
    "start_time": "2022-02-21T17:13:45.347Z"
   },
   {
    "duration": 236,
    "start_time": "2022-02-21T17:13:45.536Z"
   },
   {
    "duration": 202,
    "start_time": "2022-02-21T17:13:45.775Z"
   },
   {
    "duration": 208,
    "start_time": "2022-02-21T17:13:45.980Z"
   },
   {
    "duration": 259,
    "start_time": "2022-02-21T17:13:46.191Z"
   },
   {
    "duration": 282,
    "start_time": "2022-02-21T17:13:46.453Z"
   },
   {
    "duration": 135,
    "start_time": "2022-02-21T17:13:46.738Z"
   },
   {
    "duration": 172,
    "start_time": "2022-02-21T17:13:46.876Z"
   },
   {
    "duration": 237,
    "start_time": "2022-02-21T17:13:47.051Z"
   },
   {
    "duration": 251,
    "start_time": "2022-02-21T17:13:47.291Z"
   },
   {
    "duration": 210,
    "start_time": "2022-02-21T17:13:47.544Z"
   },
   {
    "duration": 230,
    "start_time": "2022-02-21T17:13:47.757Z"
   },
   {
    "duration": 197,
    "start_time": "2022-02-21T17:13:47.990Z"
   },
   {
    "duration": 173,
    "start_time": "2022-02-21T17:13:48.190Z"
   },
   {
    "duration": 227,
    "start_time": "2022-02-21T17:13:48.365Z"
   },
   {
    "duration": 261,
    "start_time": "2022-02-21T17:13:48.594Z"
   },
   {
    "duration": 203,
    "start_time": "2022-02-21T17:13:48.858Z"
   },
   {
    "duration": 753,
    "start_time": "2022-02-21T23:33:00.072Z"
   },
   {
    "duration": 194,
    "start_time": "2022-02-21T23:33:00.827Z"
   },
   {
    "duration": 26,
    "start_time": "2022-02-21T23:33:01.028Z"
   },
   {
    "duration": 38,
    "start_time": "2022-02-21T23:33:01.057Z"
   },
   {
    "duration": 45,
    "start_time": "2022-02-21T23:33:01.098Z"
   },
   {
    "duration": 6,
    "start_time": "2022-02-21T23:33:01.146Z"
   },
   {
    "duration": 43,
    "start_time": "2022-02-21T23:33:01.155Z"
   },
   {
    "duration": 13,
    "start_time": "2022-02-21T23:33:01.201Z"
   },
   {
    "duration": 46,
    "start_time": "2022-02-21T23:33:01.217Z"
   },
   {
    "duration": 29,
    "start_time": "2022-02-21T23:33:01.265Z"
   },
   {
    "duration": 28,
    "start_time": "2022-02-21T23:33:01.296Z"
   },
   {
    "duration": 100,
    "start_time": "2022-02-21T23:33:01.327Z"
   },
   {
    "duration": 120,
    "start_time": "2022-02-21T23:33:01.429Z"
   },
   {
    "duration": 88,
    "start_time": "2022-02-21T23:33:01.551Z"
   },
   {
    "duration": 69,
    "start_time": "2022-02-21T23:33:01.641Z"
   },
   {
    "duration": 17,
    "start_time": "2022-02-21T23:33:01.712Z"
   },
   {
    "duration": 24,
    "start_time": "2022-02-21T23:33:01.731Z"
   },
   {
    "duration": 76,
    "start_time": "2022-02-21T23:33:01.757Z"
   },
   {
    "duration": 44,
    "start_time": "2022-02-21T23:33:01.835Z"
   },
   {
    "duration": 91,
    "start_time": "2022-02-21T23:33:01.881Z"
   },
   {
    "duration": 5,
    "start_time": "2022-02-21T23:33:01.974Z"
   },
   {
    "duration": 49,
    "start_time": "2022-02-21T23:33:01.984Z"
   },
   {
    "duration": 27,
    "start_time": "2022-02-21T23:33:02.036Z"
   },
   {
    "duration": 37,
    "start_time": "2022-02-21T23:33:02.066Z"
   },
   {
    "duration": 23,
    "start_time": "2022-02-21T23:33:02.106Z"
   },
   {
    "duration": 30,
    "start_time": "2022-02-21T23:33:02.132Z"
   },
   {
    "duration": 50,
    "start_time": "2022-02-21T23:33:02.165Z"
   },
   {
    "duration": 168,
    "start_time": "2022-02-21T23:33:02.217Z"
   },
   {
    "duration": 26,
    "start_time": "2022-02-21T23:33:02.393Z"
   },
   {
    "duration": 25,
    "start_time": "2022-02-21T23:33:02.422Z"
   },
   {
    "duration": 7,
    "start_time": "2022-02-21T23:33:02.450Z"
   },
   {
    "duration": 28,
    "start_time": "2022-02-21T23:33:02.494Z"
   },
   {
    "duration": 20,
    "start_time": "2022-02-21T23:33:02.524Z"
   },
   {
    "duration": 50,
    "start_time": "2022-02-21T23:33:02.546Z"
   },
   {
    "duration": 16,
    "start_time": "2022-02-21T23:33:02.598Z"
   },
   {
    "duration": 16,
    "start_time": "2022-02-21T23:33:02.617Z"
   },
   {
    "duration": 5,
    "start_time": "2022-02-21T23:33:02.636Z"
   },
   {
    "duration": 13,
    "start_time": "2022-02-21T23:33:02.644Z"
   },
   {
    "duration": 37,
    "start_time": "2022-02-21T23:33:02.659Z"
   }
  ],
  "colab": {
   "collapsed_sections": [
    "E0vqbgi9ay0H",
    "VUC88oWjTJw2"
   ],
   "name": "yandex_music_project_2021.2.ipynb",
   "provenance": []
  },
  "kernelspec": {
   "display_name": "Python 3 (ipykernel)",
   "language": "python",
   "name": "python3"
  },
  "language_info": {
   "codemirror_mode": {
    "name": "ipython",
    "version": 3
   },
   "file_extension": ".py",
   "mimetype": "text/x-python",
   "name": "python",
   "nbconvert_exporter": "python",
   "pygments_lexer": "ipython3",
   "version": "3.7.12"
  },
  "toc": {
   "base_numbering": 1,
   "nav_menu": {},
   "number_sections": true,
   "sideBar": true,
   "skip_h1_title": true,
   "title_cell": "Содержание",
   "title_sidebar": "Contents",
   "toc_cell": true,
   "toc_position": {},
   "toc_section_display": true,
   "toc_window_display": true
  }
 },
 "nbformat": 4,
 "nbformat_minor": 1
}
