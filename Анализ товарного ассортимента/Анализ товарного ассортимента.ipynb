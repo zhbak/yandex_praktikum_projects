{
 "cells": [
  {
   "cell_type": "markdown",
   "id": "57089fed",
   "metadata": {},
   "source": [
    "# Анализ товарного асcортимента"
   ]
  },
  {
   "cell_type": "markdown",
   "id": "e13476a3",
   "metadata": {},
   "source": [
    "# Материалы"
   ]
  },
  {
   "cell_type": "markdown",
   "id": "529735cd",
   "metadata": {},
   "source": [
    "[Презентация](https://github.com/zhbak/yandex_praktikum_projects/blob/main/Анализ%20товарного%20ассортимента/Презентация_анализ_товарного_асортимента.pdf)\n",
    "\n",
    "[Дашборд](https://public.tableau.com/views/____ya_prak/Dashboard1?:language=en-US&publish=yes&:display_count=n&:origin=viz_share_link)"
   ]
  },
  {
   "cell_type": "markdown",
   "id": "bb44d0a6",
   "metadata": {},
   "source": [
    "**Цель** – предоставление рекомендаций покупателям по товарным предложениям.\n",
    "\n",
    "**Задачи:**\n",
    "- обзор данных;\n",
    "- предобработка данных;\n",
    "- исследовательский анализ данных;\n",
    "- статистические гипотезы;\n",
    "- составление презентации.\n",
    "\n",
    "\n",
    "**Обзор данных:**\n",
    "- вывод данных для обзора;\n",
    "- рассмотрение типов значений в столбцах;\n",
    "- определение пропущенных значений;\n",
    "- осуществление поиска явных и неявных дубликатов.\n",
    "\n",
    "**Предобработка данных:**\n",
    "- переименование столбцов;\n",
    "- заполнение или удаление пропущенных значений;\n",
    "- изменение типов данных;\n",
    "- удаление или замена дубликатов.\n",
    "\n",
    "**Исследовательский анализ данных:**\n",
    "- анализ полноты данных; \n",
    "- изучение распределения количества товаров по заказам и покупателям. \n",
    "- исключение выдающихся значений;\n",
    "- категоризация товаров;\n",
    "- анализ выручки каждой категории:\n",
    "\t- какие категории самые популярные;\n",
    "\t- какие категории приносят наибольшую выручку;\n",
    "\t- зависит ли цена заказа от количества товаров.\n",
    "- составление характерных портретов пользователей:\n",
    "\t- какие товары покупают;\n",
    "\t- как часто;\n",
    "\t- сезонность и время совершения заказов.\n",
    "    \n",
    "**Статистические гипотезы:**\n",
    "- Проверка сезонности доли товаров в популярной категории;\n",
    "- Проверка сезонности средней выручки товаров в популярной категории;\n",
    "- Проверка статистической значимости различия средней выручки заказов с одним товаром со средней выручки заказов, в которых товаров больше одного.\n",
    "\n",
    "**Описание данных:**\n",
    "- `date` — дата заказа;\n",
    "- `customer_id` — идентификатор покупателя;\n",
    "- `order_id` — идентификатор заказа;\n",
    "- `product` — наименование товара;\n",
    "- `quantity` — количество товара в заказе;\n",
    "- `price` — цена товара."
   ]
  },
  {
   "cell_type": "code",
   "execution_count": 1,
   "id": "1573a831",
   "metadata": {},
   "outputs": [],
   "source": [
    "# импорт библиотек\n",
    "import pandas as pd\n",
    "import numpy as np\n",
    "import seaborn as sns\n",
    "import pymorphy2\n",
    "import math as mth\n",
    "import warnings\n",
    "warnings.filterwarnings(\"ignore\")\n",
    "from matplotlib import pyplot as plt\n",
    "from datetime import datetime, timedelta\n",
    "from scipy import stats as st"
   ]
  },
  {
   "cell_type": "code",
   "execution_count": 2,
   "id": "bd9ca842",
   "metadata": {},
   "outputs": [],
   "source": [
    "# загрузка данных\n",
    "try:\n",
    "    logs = pd.read_csv(r'C:\\Users\\Zhbak\\OneDrive\\Образование\\2022_Yandex_аналитик_данных\\01_Проекты\\13_Сборный_проект\\ecommerce_dataset.csv')\n",
    "except:\n",
    "    import requests\n",
    "    import json\n",
    "    from urllib.parse import urlencode\n",
    "\n",
    "    base_url = 'https://cloud-api.yandex.net/v1/disk/public/resources/download?'\n",
    "    public_key = 'https://disk.yandex.ru/d/kJwc3szk7vzv_g'  # Необходимая ссылка на файл\n",
    "\n",
    "    # Получаем загрузочную ссылку\n",
    "    final_url = base_url + urlencode(dict(public_key=public_key))\n",
    "    response = requests.get(final_url)\n",
    "    download_url = json.loads(response.text)['href']\n",
    "\n",
    "    logs = pd.read_csv(download_url, sep=',') "
   ]
  },
  {
   "cell_type": "markdown",
   "id": "493b3892",
   "metadata": {},
   "source": [
    "## Обзор данных"
   ]
  },
  {
   "cell_type": "code",
   "execution_count": 3,
   "id": "41d94a26",
   "metadata": {},
   "outputs": [],
   "source": [
    "# Функция обзора данных\n",
    "def first_look(df):\n",
    "    print('----------Первые 5 строк----------')\n",
    "    display(df.head())\n",
    "    print('\\n')\n",
    "    print('----------Тип данных----------')\n",
    "    display(df.info())\n",
    "    print('----------Пропуски в данных----------')\n",
    "    df_isna = df.isna().sum()\n",
    "    if df_isna.sum() > 0:\n",
    "        print(df_isna)\n",
    "    else: print('Пропусков нет')\n",
    "    print()\n",
    "    print('----------Количество явных дубликатов----------')\n",
    "    print(df.duplicated().sum())"
   ]
  },
  {
   "cell_type": "code",
   "execution_count": 4,
   "id": "29a13e73",
   "metadata": {},
   "outputs": [
    {
     "name": "stdout",
     "output_type": "stream",
     "text": [
      "----------Первые 5 строк----------\n"
     ]
    },
    {
     "data": {
      "text/html": [
       "<div>\n",
       "<style scoped>\n",
       "    .dataframe tbody tr th:only-of-type {\n",
       "        vertical-align: middle;\n",
       "    }\n",
       "\n",
       "    .dataframe tbody tr th {\n",
       "        vertical-align: top;\n",
       "    }\n",
       "\n",
       "    .dataframe thead th {\n",
       "        text-align: right;\n",
       "    }\n",
       "</style>\n",
       "<table border=\"1\" class=\"dataframe\">\n",
       "  <thead>\n",
       "    <tr style=\"text-align: right;\">\n",
       "      <th></th>\n",
       "      <th>date</th>\n",
       "      <th>customer_id</th>\n",
       "      <th>order_id</th>\n",
       "      <th>product</th>\n",
       "      <th>quantity</th>\n",
       "      <th>price</th>\n",
       "    </tr>\n",
       "  </thead>\n",
       "  <tbody>\n",
       "    <tr>\n",
       "      <th>0</th>\n",
       "      <td>2018100100</td>\n",
       "      <td>ee47d746-6d2f-4d3c-9622-c31412542920</td>\n",
       "      <td>68477</td>\n",
       "      <td>Комнатное растение в горшке Алое Вера, d12, h30</td>\n",
       "      <td>1</td>\n",
       "      <td>142.0</td>\n",
       "    </tr>\n",
       "    <tr>\n",
       "      <th>1</th>\n",
       "      <td>2018100100</td>\n",
       "      <td>ee47d746-6d2f-4d3c-9622-c31412542920</td>\n",
       "      <td>68477</td>\n",
       "      <td>Комнатное растение в горшке Кофе Арабика, d12,...</td>\n",
       "      <td>1</td>\n",
       "      <td>194.0</td>\n",
       "    </tr>\n",
       "    <tr>\n",
       "      <th>2</th>\n",
       "      <td>2018100100</td>\n",
       "      <td>ee47d746-6d2f-4d3c-9622-c31412542920</td>\n",
       "      <td>68477</td>\n",
       "      <td>Радермахера d-12 см h-20 см</td>\n",
       "      <td>1</td>\n",
       "      <td>112.0</td>\n",
       "    </tr>\n",
       "    <tr>\n",
       "      <th>3</th>\n",
       "      <td>2018100100</td>\n",
       "      <td>ee47d746-6d2f-4d3c-9622-c31412542920</td>\n",
       "      <td>68477</td>\n",
       "      <td>Хризолидокарпус Лутесценс d-9 см</td>\n",
       "      <td>1</td>\n",
       "      <td>179.0</td>\n",
       "    </tr>\n",
       "    <tr>\n",
       "      <th>4</th>\n",
       "      <td>2018100100</td>\n",
       "      <td>ee47d746-6d2f-4d3c-9622-c31412542920</td>\n",
       "      <td>68477</td>\n",
       "      <td>Циперус Зумула d-12 см h-25 см</td>\n",
       "      <td>1</td>\n",
       "      <td>112.0</td>\n",
       "    </tr>\n",
       "  </tbody>\n",
       "</table>\n",
       "</div>"
      ],
      "text/plain": [
       "         date                           customer_id  order_id  \\\n",
       "0  2018100100  ee47d746-6d2f-4d3c-9622-c31412542920     68477   \n",
       "1  2018100100  ee47d746-6d2f-4d3c-9622-c31412542920     68477   \n",
       "2  2018100100  ee47d746-6d2f-4d3c-9622-c31412542920     68477   \n",
       "3  2018100100  ee47d746-6d2f-4d3c-9622-c31412542920     68477   \n",
       "4  2018100100  ee47d746-6d2f-4d3c-9622-c31412542920     68477   \n",
       "\n",
       "                                             product  quantity  price  \n",
       "0    Комнатное растение в горшке Алое Вера, d12, h30         1  142.0  \n",
       "1  Комнатное растение в горшке Кофе Арабика, d12,...         1  194.0  \n",
       "2                        Радермахера d-12 см h-20 см         1  112.0  \n",
       "3                   Хризолидокарпус Лутесценс d-9 см         1  179.0  \n",
       "4                     Циперус Зумула d-12 см h-25 см         1  112.0  "
      ]
     },
     "metadata": {},
     "output_type": "display_data"
    },
    {
     "name": "stdout",
     "output_type": "stream",
     "text": [
      "\n",
      "\n",
      "----------Тип данных----------\n",
      "<class 'pandas.core.frame.DataFrame'>\n",
      "RangeIndex: 6737 entries, 0 to 6736\n",
      "Data columns (total 6 columns):\n",
      " #   Column       Non-Null Count  Dtype  \n",
      "---  ------       --------------  -----  \n",
      " 0   date         6737 non-null   int64  \n",
      " 1   customer_id  6737 non-null   object \n",
      " 2   order_id     6737 non-null   int64  \n",
      " 3   product      6737 non-null   object \n",
      " 4   quantity     6737 non-null   int64  \n",
      " 5   price        6737 non-null   float64\n",
      "dtypes: float64(1), int64(3), object(2)\n",
      "memory usage: 315.9+ KB\n"
     ]
    },
    {
     "data": {
      "text/plain": [
       "None"
      ]
     },
     "metadata": {},
     "output_type": "display_data"
    },
    {
     "name": "stdout",
     "output_type": "stream",
     "text": [
      "----------Пропуски в данных----------\n",
      "Пропусков нет\n",
      "\n",
      "----------Количество явных дубликатов----------\n",
      "0\n"
     ]
    }
   ],
   "source": [
    "first_look(logs)"
   ]
  },
  {
   "cell_type": "markdown",
   "id": "d1a15fcd",
   "metadata": {},
   "source": [
    "- Все столбцы присутствуют;\n",
    "- Необходимо обработать формат даты;\n",
    "- В таблице 6737 логов."
   ]
  },
  {
   "cell_type": "markdown",
   "id": "38080b39",
   "metadata": {},
   "source": [
    "## Предобработка данных"
   ]
  },
  {
   "cell_type": "markdown",
   "id": "1a1c40bb",
   "metadata": {},
   "source": [
    "### Изменение типов данных "
   ]
  },
  {
   "cell_type": "code",
   "execution_count": 5,
   "id": "f9c22094",
   "metadata": {},
   "outputs": [],
   "source": [
    "# Приведение даты в читаемый формат\n",
    "logs['date'] = pd.to_datetime(logs['date'], format='%Y%m%d%H')"
   ]
  },
  {
   "cell_type": "markdown",
   "id": "f716b43f",
   "metadata": {},
   "source": [
    "### Явные дубликаты "
   ]
  },
  {
   "cell_type": "code",
   "execution_count": 6,
   "id": "a46957ab",
   "metadata": {},
   "outputs": [
    {
     "data": {
      "text/plain": [
       "0"
      ]
     },
     "execution_count": 6,
     "metadata": {},
     "output_type": "execute_result"
    }
   ],
   "source": [
    "logs[['customer_id', 'date', 'order_id', 'product', 'quantity', 'price']].duplicated().sum()"
   ]
  },
  {
   "cell_type": "markdown",
   "id": "04041cc4",
   "metadata": {},
   "source": [
    "Дубликатов не обнаружено."
   ]
  },
  {
   "cell_type": "markdown",
   "id": "55f9149a",
   "metadata": {},
   "source": [
    "### Неявные дубликаты "
   ]
  },
  {
   "cell_type": "markdown",
   "id": "b35ff6df",
   "metadata": {},
   "source": [
    "#### Неявные дубликаты в названии продукта "
   ]
  },
  {
   "cell_type": "markdown",
   "id": "657e551a",
   "metadata": {},
   "source": [
    "В поиске неявных дубликатов остановимся только на наименованиях продуктов. Посмотрим на список уникальных названий."
   ]
  },
  {
   "cell_type": "code",
   "execution_count": 7,
   "id": "0999e9fe",
   "metadata": {},
   "outputs": [
    {
     "data": {
      "text/plain": [
       "Рассада Кабачка сорт Зебра кассета 6 шт E6                              79\n",
       "Рассада Кабачка сорт Золотинка кассета 6 шт E6                          78\n",
       "Рассада Кабачка сорт Белогор кассета 6 шт E6                            77\n",
       "Рассада Огурца сорт Каролина кассета 6 шт E6                            76\n",
       "Пеларгония розебудная Red Pandora укорененный черенок                   76\n",
       "Рассада Кабачка сорт Горный, кассета по 6шт                             76\n",
       "Тагетис крупноцветковый рассада однолетних цветов в кассете по 10 шт    76\n",
       "Рассада Огурец Фараон ячейки по 6 шт Е6                                 76\n",
       "Рассада Кабачка сорт Аэронавт, кассета по 6шт                           76\n",
       "Рассада Патиссона сорт НЛО Белый, кассета по 6шт                        75\n",
       "Рассада Кабачка сорт Сосновский, кассета по 6шт                         75\n",
       "Рассада Огурец Кристина ячейки по 6 шт Е6                               74\n",
       "Рассада Патиссона сорт Диск, кассета по 6шт                             74\n",
       "Сумка-тележка 2-х колесная Gimi Argo красная                            70\n",
       "Пеларгония розебудная Prins Nikolai укорененный черенок                 66\n",
       "Сумка-тележка 2-х колесная Gimi Argo синяя                              61\n",
       "Пеларгония зональная диам. 12 см сиреневый полумахровый                 58\n",
       "Пеларгония розебудная Mary укорененный черенок                          41\n",
       "Пеларгония розебудная Margaretha укорененный черенок                    35\n",
       "Пеларгония розебудная Queen Ingrid укорененный черенок                  33\n",
       "Name: product, dtype: int64"
      ]
     },
     "execution_count": 7,
     "metadata": {},
     "output_type": "execute_result"
    }
   ],
   "source": [
    "logs['product'].value_counts()[:20]"
   ]
  },
  {
   "cell_type": "markdown",
   "id": "3decbe8a",
   "metadata": {},
   "source": [
    "Обнаружено, что слово термокружка написано с латинской \"T\". Это нужно исправить. Также, часто в одних и тех же словах встречается разное написание буквы \"ё\". Её могут написать как \"е\".\n",
    "\n",
    "Поищем слова с буквой \"ё\"."
   ]
  },
  {
   "cell_type": "code",
   "execution_count": 8,
   "id": "d406cdb2",
   "metadata": {},
   "outputs": [],
   "source": [
    "# устраним заглавные буквы\n",
    "logs['product'] = logs['product'].str.lower()"
   ]
  },
  {
   "cell_type": "code",
   "execution_count": 9,
   "id": "e3672312",
   "metadata": {},
   "outputs": [],
   "source": [
    "# функция для составления списка со словами, где есть буква \"ё\"\n",
    "def io_search(text, list_of_words_io):\n",
    "    for word in text.split():\n",
    "        if 'ё' in list(word):\n",
    "            list_of_words_io.append(word)"
   ]
  },
  {
   "cell_type": "code",
   "execution_count": 10,
   "id": "0c46d3ad",
   "metadata": {},
   "outputs": [
    {
     "data": {
      "text/plain": [
       "['белый/чёрный',\n",
       " 'зелёный/белый,',\n",
       " 'ковёр',\n",
       " 'конёк',\n",
       " 'тёмно-коричневая',\n",
       " 'тёмно-розовый',\n",
       " 'чёрный',\n",
       " 'щётка',\n",
       " 'ёрш']"
      ]
     },
     "execution_count": 10,
     "metadata": {},
     "output_type": "execute_result"
    }
   ],
   "source": [
    "# ищем\n",
    "list_of_words_io = []\n",
    "logs.apply(lambda x: io_search(x['product'], list_of_words_io), axis=1)\n",
    "sorted(set(list_of_words_io))"
   ]
  },
  {
   "cell_type": "markdown",
   "id": "bf55aa11",
   "metadata": {},
   "source": [
    "Нашлось 9 слов с буквой \"ё\". Составим словарь для замены, не забыв про термокружку."
   ]
  },
  {
   "cell_type": "code",
   "execution_count": 11,
   "id": "ded5d063",
   "metadata": {},
   "outputs": [],
   "source": [
    "dict_change = {\n",
    "    'ёрш':'ерш',\n",
    "    'щётка': 'щетка',\n",
    "    'конёк': 'конек',\n",
    "    'ковёр': 'ковер',\n",
    "    'белый/чёрный': 'белый/черный',\n",
    "    'зелёный/белый,': 'зеленый/белый,',\n",
    "    'тёмно-коричневая':'темно-коричневая',\n",
    "    'тёмно-розовый': 'темно-розовый',\n",
    "    'чёрный': 'черный',\n",
    "    'tермокружка': 'термокружка',\n",
    "}"
   ]
  },
  {
   "cell_type": "code",
   "execution_count": 12,
   "id": "5961a410",
   "metadata": {},
   "outputs": [],
   "source": [
    "# функция для замены слов с буквой \"ё\" на основе словаря dict_change\n",
    "def change(text):\n",
    "    for word in text.split():\n",
    "        if word in dict_change:\n",
    "            text = text.replace(word, dict_change[word])\n",
    "    return text"
   ]
  },
  {
   "cell_type": "code",
   "execution_count": 13,
   "id": "5add9676",
   "metadata": {},
   "outputs": [],
   "source": [
    "# применям функцию\n",
    "logs['product'] = logs.apply(lambda x:change(x['product']), axis=1);"
   ]
  },
  {
   "cell_type": "markdown",
   "id": "cc09bc8e",
   "metadata": {},
   "source": [
    "#### Проверка неявных дубликатов с исключением столбца date "
   ]
  },
  {
   "cell_type": "markdown",
   "id": "8ba1e92d",
   "metadata": {},
   "source": [
    "Также проверим дубликаты с исключением столбца даты."
   ]
  },
  {
   "cell_type": "code",
   "execution_count": 14,
   "id": "be7c7ceb",
   "metadata": {},
   "outputs": [
    {
     "data": {
      "text/plain": [
       "1864"
      ]
     },
     "execution_count": 14,
     "metadata": {},
     "output_type": "execute_result"
    }
   ],
   "source": [
    "logs[['customer_id', 'order_id', 'product', 'quantity', 'price']].duplicated().sum()"
   ]
  },
  {
   "cell_type": "markdown",
   "id": "a79d788c",
   "metadata": {},
   "source": [
    "Нашли 1864 дубликата."
   ]
  },
  {
   "cell_type": "code",
   "execution_count": 15,
   "id": "6911a6e3",
   "metadata": {},
   "outputs": [],
   "source": [
    "logs_duplicated = logs[logs[['customer_id', 'order_id', 'product', 'quantity', 'price']].duplicated()]"
   ]
  },
  {
   "cell_type": "markdown",
   "id": "efee120c",
   "metadata": {},
   "source": [
    "Взглянем на их распределение по времени."
   ]
  },
  {
   "cell_type": "code",
   "execution_count": 16,
   "id": "c4fc3551",
   "metadata": {},
   "outputs": [
    {
     "data": {
      "image/png": "[encoded data removed]",
      "text/plain": [
       "<Figure size 1152x216 with 1 Axes>"
      ]
     },
     "metadata": {
      "needs_background": "light"
     },
     "output_type": "display_data"
    }
   ],
   "source": [
    "plt.figure(figsize=(16, 3))\n",
    "logs_duplicated['date'].hist(bins=100)\n",
    "plt.xlabel('Дата')\n",
    "plt.ylabel('Кол-во логов');"
   ]
  },
  {
   "cell_type": "markdown",
   "id": "ebf3df47",
   "metadata": {},
   "source": [
    "Увеличение их количества наблюдается в июне. Посмотрим что там."
   ]
  },
  {
   "cell_type": "code",
   "execution_count": 17,
   "id": "748d211d",
   "metadata": {},
   "outputs": [
    {
     "data": {
      "text/html": [
       "<div>\n",
       "<style scoped>\n",
       "    .dataframe tbody tr th:only-of-type {\n",
       "        vertical-align: middle;\n",
       "    }\n",
       "\n",
       "    .dataframe tbody tr th {\n",
       "        vertical-align: top;\n",
       "    }\n",
       "\n",
       "    .dataframe thead th {\n",
       "        text-align: right;\n",
       "    }\n",
       "</style>\n",
       "<table border=\"1\" class=\"dataframe\">\n",
       "  <thead>\n",
       "    <tr style=\"text-align: right;\">\n",
       "      <th></th>\n",
       "      <th>date</th>\n",
       "      <th>customer_id</th>\n",
       "      <th>order_id</th>\n",
       "      <th>product</th>\n",
       "      <th>quantity</th>\n",
       "      <th>price</th>\n",
       "    </tr>\n",
       "  </thead>\n",
       "  <tbody>\n",
       "    <tr>\n",
       "      <th>4578</th>\n",
       "      <td>2019-06-05 09:00:00</td>\n",
       "      <td>7d5d5657-5fdc-40d1-b7b6-bb04ede92b53</td>\n",
       "      <td>14848</td>\n",
       "      <td>аквилегия махровая тауэр смесь окрасок объем 1 л</td>\n",
       "      <td>1</td>\n",
       "      <td>97.0</td>\n",
       "    </tr>\n",
       "    <tr>\n",
       "      <th>4579</th>\n",
       "      <td>2019-06-05 09:00:00</td>\n",
       "      <td>7d5d5657-5fdc-40d1-b7b6-bb04ede92b53</td>\n",
       "      <td>14848</td>\n",
       "      <td>алиссум скальный желтый объем 1 л</td>\n",
       "      <td>1</td>\n",
       "      <td>105.0</td>\n",
       "    </tr>\n",
       "    <tr>\n",
       "      <th>4754</th>\n",
       "      <td>2019-06-07 08:00:00</td>\n",
       "      <td>6a86cc77-ef15-496f-b5d3-89005597ee5d</td>\n",
       "      <td>14856</td>\n",
       "      <td>алиссум скальный желтый объем 1 л</td>\n",
       "      <td>1</td>\n",
       "      <td>105.0</td>\n",
       "    </tr>\n",
       "    <tr>\n",
       "      <th>4729</th>\n",
       "      <td>2019-06-06 16:00:00</td>\n",
       "      <td>6a86cc77-ef15-496f-b5d3-89005597ee5d</td>\n",
       "      <td>14856</td>\n",
       "      <td>алиссум скальный желтый объем 1 л</td>\n",
       "      <td>1</td>\n",
       "      <td>105.0</td>\n",
       "    </tr>\n",
       "    <tr>\n",
       "      <th>4818</th>\n",
       "      <td>2019-06-07 21:00:00</td>\n",
       "      <td>4723417a-8c73-4502-9600-75187124fb5c</td>\n",
       "      <td>71638</td>\n",
       "      <td>антинакипин для утюгов ампулы 10 мл по 5 шт un...</td>\n",
       "      <td>1</td>\n",
       "      <td>164.0</td>\n",
       "    </tr>\n",
       "    <tr>\n",
       "      <th>4817</th>\n",
       "      <td>2019-06-07 17:00:00</td>\n",
       "      <td>4723417a-8c73-4502-9600-75187124fb5c</td>\n",
       "      <td>71638</td>\n",
       "      <td>антинакипин для утюгов ампулы 10 мл по 5 шт un...</td>\n",
       "      <td>1</td>\n",
       "      <td>164.0</td>\n",
       "    </tr>\n",
       "    <tr>\n",
       "      <th>5593</th>\n",
       "      <td>2019-06-26 08:00:00</td>\n",
       "      <td>193ab3dd-4bbf-4937-956d-410485230137</td>\n",
       "      <td>71803</td>\n",
       "      <td>антуриум тропик найт нидерланды 1 штука в упак...</td>\n",
       "      <td>1</td>\n",
       "      <td>262.0</td>\n",
       "    </tr>\n",
       "    <tr>\n",
       "      <th>5592</th>\n",
       "      <td>2019-06-26 07:00:00</td>\n",
       "      <td>193ab3dd-4bbf-4937-956d-410485230137</td>\n",
       "      <td>71803</td>\n",
       "      <td>антуриум тропик найт нидерланды 1 штука в упак...</td>\n",
       "      <td>1</td>\n",
       "      <td>262.0</td>\n",
       "    </tr>\n",
       "    <tr>\n",
       "      <th>4580</th>\n",
       "      <td>2019-06-05 09:00:00</td>\n",
       "      <td>7d5d5657-5fdc-40d1-b7b6-bb04ede92b53</td>\n",
       "      <td>14848</td>\n",
       "      <td>астра альпийская микс объем 1 л</td>\n",
       "      <td>1</td>\n",
       "      <td>97.0</td>\n",
       "    </tr>\n",
       "    <tr>\n",
       "      <th>4755</th>\n",
       "      <td>2019-06-07 08:00:00</td>\n",
       "      <td>6a86cc77-ef15-496f-b5d3-89005597ee5d</td>\n",
       "      <td>14856</td>\n",
       "      <td>бадан сердцелистный красная звезда красный объ...</td>\n",
       "      <td>1</td>\n",
       "      <td>150.0</td>\n",
       "    </tr>\n",
       "    <tr>\n",
       "      <th>4730</th>\n",
       "      <td>2019-06-06 16:00:00</td>\n",
       "      <td>6a86cc77-ef15-496f-b5d3-89005597ee5d</td>\n",
       "      <td>14856</td>\n",
       "      <td>бадан сердцелистный красная звезда красный объ...</td>\n",
       "      <td>1</td>\n",
       "      <td>150.0</td>\n",
       "    </tr>\n",
       "    <tr>\n",
       "      <th>4739</th>\n",
       "      <td>2019-06-06 20:00:00</td>\n",
       "      <td>cab090a5-b8dd-442d-a206-0ef3bf5fc1d8</td>\n",
       "      <td>71634</td>\n",
       "      <td>базилик овощной арарат d-7 см</td>\n",
       "      <td>1</td>\n",
       "      <td>14.0</td>\n",
       "    </tr>\n",
       "    <tr>\n",
       "      <th>4831</th>\n",
       "      <td>2019-06-07 22:00:00</td>\n",
       "      <td>db77c238-3c80-4032-9e3c-c30a43f4a650</td>\n",
       "      <td>14835</td>\n",
       "      <td>бакопа ампельная махровая белая махровая объем...</td>\n",
       "      <td>1</td>\n",
       "      <td>90.0</td>\n",
       "    </tr>\n",
       "    <tr>\n",
       "      <th>4501</th>\n",
       "      <td>2019-06-04 18:00:00</td>\n",
       "      <td>db77c238-3c80-4032-9e3c-c30a43f4a650</td>\n",
       "      <td>14835</td>\n",
       "      <td>бакопа ампельная махровая белая махровая объем...</td>\n",
       "      <td>1</td>\n",
       "      <td>90.0</td>\n",
       "    </tr>\n",
       "    <tr>\n",
       "      <th>4530</th>\n",
       "      <td>2019-06-04 19:00:00</td>\n",
       "      <td>db77c238-3c80-4032-9e3c-c30a43f4a650</td>\n",
       "      <td>14835</td>\n",
       "      <td>бакопа ампельная махровая белая махровая объем...</td>\n",
       "      <td>1</td>\n",
       "      <td>90.0</td>\n",
       "    </tr>\n",
       "    <tr>\n",
       "      <th>4788</th>\n",
       "      <td>2019-06-07 16:00:00</td>\n",
       "      <td>db77c238-3c80-4032-9e3c-c30a43f4a650</td>\n",
       "      <td>14835</td>\n",
       "      <td>бакопа ампельная махровая белая махровая объем...</td>\n",
       "      <td>1</td>\n",
       "      <td>90.0</td>\n",
       "    </tr>\n",
       "    <tr>\n",
       "      <th>4675</th>\n",
       "      <td>2019-06-06 08:00:00</td>\n",
       "      <td>db77c238-3c80-4032-9e3c-c30a43f4a650</td>\n",
       "      <td>14835</td>\n",
       "      <td>бакопа ампельная махровая белая махровая объем...</td>\n",
       "      <td>1</td>\n",
       "      <td>90.0</td>\n",
       "    </tr>\n",
       "    <tr>\n",
       "      <th>4861</th>\n",
       "      <td>2019-06-08 08:00:00</td>\n",
       "      <td>db77c238-3c80-4032-9e3c-c30a43f4a650</td>\n",
       "      <td>14835</td>\n",
       "      <td>бакопа ампельная махровая белая махровая объем...</td>\n",
       "      <td>1</td>\n",
       "      <td>90.0</td>\n",
       "    </tr>\n",
       "    <tr>\n",
       "      <th>4862</th>\n",
       "      <td>2019-06-08 08:00:00</td>\n",
       "      <td>db77c238-3c80-4032-9e3c-c30a43f4a650</td>\n",
       "      <td>14835</td>\n",
       "      <td>бакопа ампельная махровая сиреневая махровая о...</td>\n",
       "      <td>1</td>\n",
       "      <td>90.0</td>\n",
       "    </tr>\n",
       "    <tr>\n",
       "      <th>4832</th>\n",
       "      <td>2019-06-07 22:00:00</td>\n",
       "      <td>db77c238-3c80-4032-9e3c-c30a43f4a650</td>\n",
       "      <td>14835</td>\n",
       "      <td>бакопа ампельная махровая сиреневая махровая о...</td>\n",
       "      <td>1</td>\n",
       "      <td>90.0</td>\n",
       "    </tr>\n",
       "    <tr>\n",
       "      <th>5581</th>\n",
       "      <td>2019-06-25 20:00:00</td>\n",
       "      <td>48294bee-94cc-4eed-a7c0-7c6848b349fe</td>\n",
       "      <td>14878</td>\n",
       "      <td>бакопа ампельная махровая сиреневая махровая о...</td>\n",
       "      <td>1</td>\n",
       "      <td>90.0</td>\n",
       "    </tr>\n",
       "    <tr>\n",
       "      <th>4789</th>\n",
       "      <td>2019-06-07 16:00:00</td>\n",
       "      <td>db77c238-3c80-4032-9e3c-c30a43f4a650</td>\n",
       "      <td>14835</td>\n",
       "      <td>бакопа ампельная махровая сиреневая махровая о...</td>\n",
       "      <td>1</td>\n",
       "      <td>90.0</td>\n",
       "    </tr>\n",
       "    <tr>\n",
       "      <th>4604</th>\n",
       "      <td>2019-06-05 09:00:00</td>\n",
       "      <td>d9619a55-3171-495f-954d-e184d8f52d43</td>\n",
       "      <td>14849</td>\n",
       "      <td>бакопа ампельная махровая сиреневая махровая о...</td>\n",
       "      <td>1</td>\n",
       "      <td>90.0</td>\n",
       "    </tr>\n",
       "    <tr>\n",
       "      <th>4502</th>\n",
       "      <td>2019-06-04 18:00:00</td>\n",
       "      <td>db77c238-3c80-4032-9e3c-c30a43f4a650</td>\n",
       "      <td>14835</td>\n",
       "      <td>бакопа ампельная махровая сиреневая махровая о...</td>\n",
       "      <td>1</td>\n",
       "      <td>90.0</td>\n",
       "    </tr>\n",
       "    <tr>\n",
       "      <th>4676</th>\n",
       "      <td>2019-06-06 08:00:00</td>\n",
       "      <td>db77c238-3c80-4032-9e3c-c30a43f4a650</td>\n",
       "      <td>14835</td>\n",
       "      <td>бакопа ампельная махровая сиреневая махровая о...</td>\n",
       "      <td>1</td>\n",
       "      <td>90.0</td>\n",
       "    </tr>\n",
       "    <tr>\n",
       "      <th>4531</th>\n",
       "      <td>2019-06-04 19:00:00</td>\n",
       "      <td>db77c238-3c80-4032-9e3c-c30a43f4a650</td>\n",
       "      <td>14835</td>\n",
       "      <td>бакопа ампельная махровая сиреневая махровая о...</td>\n",
       "      <td>1</td>\n",
       "      <td>90.0</td>\n",
       "    </tr>\n",
       "    <tr>\n",
       "      <th>4863</th>\n",
       "      <td>2019-06-08 08:00:00</td>\n",
       "      <td>db77c238-3c80-4032-9e3c-c30a43f4a650</td>\n",
       "      <td>14835</td>\n",
       "      <td>бакопа ампельная махровая фиолетовая махровая ...</td>\n",
       "      <td>1</td>\n",
       "      <td>90.0</td>\n",
       "    </tr>\n",
       "    <tr>\n",
       "      <th>4532</th>\n",
       "      <td>2019-06-04 19:00:00</td>\n",
       "      <td>db77c238-3c80-4032-9e3c-c30a43f4a650</td>\n",
       "      <td>14835</td>\n",
       "      <td>бакопа ампельная махровая фиолетовая махровая ...</td>\n",
       "      <td>1</td>\n",
       "      <td>90.0</td>\n",
       "    </tr>\n",
       "    <tr>\n",
       "      <th>4677</th>\n",
       "      <td>2019-06-06 08:00:00</td>\n",
       "      <td>db77c238-3c80-4032-9e3c-c30a43f4a650</td>\n",
       "      <td>14835</td>\n",
       "      <td>бакопа ампельная махровая фиолетовая махровая ...</td>\n",
       "      <td>1</td>\n",
       "      <td>90.0</td>\n",
       "    </tr>\n",
       "    <tr>\n",
       "      <th>4833</th>\n",
       "      <td>2019-06-07 22:00:00</td>\n",
       "      <td>db77c238-3c80-4032-9e3c-c30a43f4a650</td>\n",
       "      <td>14835</td>\n",
       "      <td>бакопа ампельная махровая фиолетовая махровая ...</td>\n",
       "      <td>1</td>\n",
       "      <td>90.0</td>\n",
       "    </tr>\n",
       "    <tr>\n",
       "      <th>4503</th>\n",
       "      <td>2019-06-04 18:00:00</td>\n",
       "      <td>db77c238-3c80-4032-9e3c-c30a43f4a650</td>\n",
       "      <td>14835</td>\n",
       "      <td>бакопа ампельная махровая фиолетовая махровая ...</td>\n",
       "      <td>1</td>\n",
       "      <td>90.0</td>\n",
       "    </tr>\n",
       "    <tr>\n",
       "      <th>4790</th>\n",
       "      <td>2019-06-07 16:00:00</td>\n",
       "      <td>db77c238-3c80-4032-9e3c-c30a43f4a650</td>\n",
       "      <td>14835</td>\n",
       "      <td>бакопа ампельная махровая фиолетовая махровая ...</td>\n",
       "      <td>1</td>\n",
       "      <td>90.0</td>\n",
       "    </tr>\n",
       "    <tr>\n",
       "      <th>4533</th>\n",
       "      <td>2019-06-04 19:00:00</td>\n",
       "      <td>db77c238-3c80-4032-9e3c-c30a43f4a650</td>\n",
       "      <td>14835</td>\n",
       "      <td>бакопа ампельная мега-крупная белая объем 0,5 л</td>\n",
       "      <td>1</td>\n",
       "      <td>90.0</td>\n",
       "    </tr>\n",
       "    <tr>\n",
       "      <th>4605</th>\n",
       "      <td>2019-06-05 09:00:00</td>\n",
       "      <td>d9619a55-3171-495f-954d-e184d8f52d43</td>\n",
       "      <td>14849</td>\n",
       "      <td>бакопа ампельная мега-крупная белая объем 0,5 л</td>\n",
       "      <td>2</td>\n",
       "      <td>90.0</td>\n",
       "    </tr>\n",
       "    <tr>\n",
       "      <th>4678</th>\n",
       "      <td>2019-06-06 08:00:00</td>\n",
       "      <td>db77c238-3c80-4032-9e3c-c30a43f4a650</td>\n",
       "      <td>14835</td>\n",
       "      <td>бакопа ампельная мега-крупная белая объем 0,5 л</td>\n",
       "      <td>1</td>\n",
       "      <td>90.0</td>\n",
       "    </tr>\n",
       "    <tr>\n",
       "      <th>4834</th>\n",
       "      <td>2019-06-07 22:00:00</td>\n",
       "      <td>db77c238-3c80-4032-9e3c-c30a43f4a650</td>\n",
       "      <td>14835</td>\n",
       "      <td>бакопа ампельная мега-крупная белая объем 0,5 л</td>\n",
       "      <td>1</td>\n",
       "      <td>90.0</td>\n",
       "    </tr>\n",
       "    <tr>\n",
       "      <th>5582</th>\n",
       "      <td>2019-06-25 20:00:00</td>\n",
       "      <td>48294bee-94cc-4eed-a7c0-7c6848b349fe</td>\n",
       "      <td>14878</td>\n",
       "      <td>бакопа ампельная мега-крупная белая объем 0,5 л</td>\n",
       "      <td>1</td>\n",
       "      <td>90.0</td>\n",
       "    </tr>\n",
       "    <tr>\n",
       "      <th>4504</th>\n",
       "      <td>2019-06-04 18:00:00</td>\n",
       "      <td>db77c238-3c80-4032-9e3c-c30a43f4a650</td>\n",
       "      <td>14835</td>\n",
       "      <td>бакопа ампельная мега-крупная белая объем 0,5 л</td>\n",
       "      <td>1</td>\n",
       "      <td>90.0</td>\n",
       "    </tr>\n",
       "    <tr>\n",
       "      <th>5482</th>\n",
       "      <td>2019-06-19 09:00:00</td>\n",
       "      <td>b15b220e-395a-4b57-980c-0f16fd2e6bbb</td>\n",
       "      <td>14868</td>\n",
       "      <td>бакопа ампельная мега-крупная белая объем 0,5 л</td>\n",
       "      <td>1</td>\n",
       "      <td>90.0</td>\n",
       "    </tr>\n",
       "    <tr>\n",
       "      <th>4791</th>\n",
       "      <td>2019-06-07 16:00:00</td>\n",
       "      <td>db77c238-3c80-4032-9e3c-c30a43f4a650</td>\n",
       "      <td>14835</td>\n",
       "      <td>бакопа ампельная мега-крупная белая объем 0,5 л</td>\n",
       "      <td>1</td>\n",
       "      <td>90.0</td>\n",
       "    </tr>\n",
       "    <tr>\n",
       "      <th>4864</th>\n",
       "      <td>2019-06-08 08:00:00</td>\n",
       "      <td>db77c238-3c80-4032-9e3c-c30a43f4a650</td>\n",
       "      <td>14835</td>\n",
       "      <td>бакопа ампельная мега-крупная белая объем 0,5 л</td>\n",
       "      <td>1</td>\n",
       "      <td>90.0</td>\n",
       "    </tr>\n",
       "    <tr>\n",
       "      <th>4865</th>\n",
       "      <td>2019-06-08 08:00:00</td>\n",
       "      <td>db77c238-3c80-4032-9e3c-c30a43f4a650</td>\n",
       "      <td>14835</td>\n",
       "      <td>бакопа ампельная мега-крупная розовая объем 0,5 л</td>\n",
       "      <td>1</td>\n",
       "      <td>90.0</td>\n",
       "    </tr>\n",
       "    <tr>\n",
       "      <th>4679</th>\n",
       "      <td>2019-06-06 08:00:00</td>\n",
       "      <td>db77c238-3c80-4032-9e3c-c30a43f4a650</td>\n",
       "      <td>14835</td>\n",
       "      <td>бакопа ампельная мега-крупная розовая объем 0,5 л</td>\n",
       "      <td>1</td>\n",
       "      <td>90.0</td>\n",
       "    </tr>\n",
       "    <tr>\n",
       "      <th>4534</th>\n",
       "      <td>2019-06-04 19:00:00</td>\n",
       "      <td>db77c238-3c80-4032-9e3c-c30a43f4a650</td>\n",
       "      <td>14835</td>\n",
       "      <td>бакопа ампельная мега-крупная розовая объем 0,5 л</td>\n",
       "      <td>1</td>\n",
       "      <td>90.0</td>\n",
       "    </tr>\n",
       "    <tr>\n",
       "      <th>5583</th>\n",
       "      <td>2019-06-25 20:00:00</td>\n",
       "      <td>48294bee-94cc-4eed-a7c0-7c6848b349fe</td>\n",
       "      <td>14878</td>\n",
       "      <td>бакопа ампельная мега-крупная розовая объем 0,5 л</td>\n",
       "      <td>1</td>\n",
       "      <td>90.0</td>\n",
       "    </tr>\n",
       "    <tr>\n",
       "      <th>4792</th>\n",
       "      <td>2019-06-07 16:00:00</td>\n",
       "      <td>db77c238-3c80-4032-9e3c-c30a43f4a650</td>\n",
       "      <td>14835</td>\n",
       "      <td>бакопа ампельная мега-крупная розовая объем 0,5 л</td>\n",
       "      <td>1</td>\n",
       "      <td>90.0</td>\n",
       "    </tr>\n",
       "    <tr>\n",
       "      <th>4835</th>\n",
       "      <td>2019-06-07 22:00:00</td>\n",
       "      <td>db77c238-3c80-4032-9e3c-c30a43f4a650</td>\n",
       "      <td>14835</td>\n",
       "      <td>бакопа ампельная мега-крупная розовая объем 0,5 л</td>\n",
       "      <td>1</td>\n",
       "      <td>90.0</td>\n",
       "    </tr>\n",
       "    <tr>\n",
       "      <th>4505</th>\n",
       "      <td>2019-06-04 18:00:00</td>\n",
       "      <td>db77c238-3c80-4032-9e3c-c30a43f4a650</td>\n",
       "      <td>14835</td>\n",
       "      <td>бакопа ампельная мега-крупная розовая объем 0,5 л</td>\n",
       "      <td>1</td>\n",
       "      <td>90.0</td>\n",
       "    </tr>\n",
       "    <tr>\n",
       "      <th>4836</th>\n",
       "      <td>2019-06-07 22:00:00</td>\n",
       "      <td>db77c238-3c80-4032-9e3c-c30a43f4a650</td>\n",
       "      <td>14835</td>\n",
       "      <td>бакопа ампельная мега-крупная синяя объем 0,5 л</td>\n",
       "      <td>1</td>\n",
       "      <td>90.0</td>\n",
       "    </tr>\n",
       "    <tr>\n",
       "      <th>4506</th>\n",
       "      <td>2019-06-04 18:00:00</td>\n",
       "      <td>db77c238-3c80-4032-9e3c-c30a43f4a650</td>\n",
       "      <td>14835</td>\n",
       "      <td>бакопа ампельная мега-крупная синяя объем 0,5 л</td>\n",
       "      <td>1</td>\n",
       "      <td>90.0</td>\n",
       "    </tr>\n",
       "  </tbody>\n",
       "</table>\n",
       "</div>"
      ],
      "text/plain": [
       "                    date                           customer_id  order_id  \\\n",
       "4578 2019-06-05 09:00:00  7d5d5657-5fdc-40d1-b7b6-bb04ede92b53     14848   \n",
       "4579 2019-06-05 09:00:00  7d5d5657-5fdc-40d1-b7b6-bb04ede92b53     14848   \n",
       "4754 2019-06-07 08:00:00  6a86cc77-ef15-496f-b5d3-89005597ee5d     14856   \n",
       "4729 2019-06-06 16:00:00  6a86cc77-ef15-496f-b5d3-89005597ee5d     14856   \n",
       "4818 2019-06-07 21:00:00  4723417a-8c73-4502-9600-75187124fb5c     71638   \n",
       "4817 2019-06-07 17:00:00  4723417a-8c73-4502-9600-75187124fb5c     71638   \n",
       "5593 2019-06-26 08:00:00  193ab3dd-4bbf-4937-956d-410485230137     71803   \n",
       "5592 2019-06-26 07:00:00  193ab3dd-4bbf-4937-956d-410485230137     71803   \n",
       "4580 2019-06-05 09:00:00  7d5d5657-5fdc-40d1-b7b6-bb04ede92b53     14848   \n",
       "4755 2019-06-07 08:00:00  6a86cc77-ef15-496f-b5d3-89005597ee5d     14856   \n",
       "4730 2019-06-06 16:00:00  6a86cc77-ef15-496f-b5d3-89005597ee5d     14856   \n",
       "4739 2019-06-06 20:00:00  cab090a5-b8dd-442d-a206-0ef3bf5fc1d8     71634   \n",
       "4831 2019-06-07 22:00:00  db77c238-3c80-4032-9e3c-c30a43f4a650     14835   \n",
       "4501 2019-06-04 18:00:00  db77c238-3c80-4032-9e3c-c30a43f4a650     14835   \n",
       "4530 2019-06-04 19:00:00  db77c238-3c80-4032-9e3c-c30a43f4a650     14835   \n",
       "4788 2019-06-07 16:00:00  db77c238-3c80-4032-9e3c-c30a43f4a650     14835   \n",
       "4675 2019-06-06 08:00:00  db77c238-3c80-4032-9e3c-c30a43f4a650     14835   \n",
       "4861 2019-06-08 08:00:00  db77c238-3c80-4032-9e3c-c30a43f4a650     14835   \n",
       "4862 2019-06-08 08:00:00  db77c238-3c80-4032-9e3c-c30a43f4a650     14835   \n",
       "4832 2019-06-07 22:00:00  db77c238-3c80-4032-9e3c-c30a43f4a650     14835   \n",
       "5581 2019-06-25 20:00:00  48294bee-94cc-4eed-a7c0-7c6848b349fe     14878   \n",
       "4789 2019-06-07 16:00:00  db77c238-3c80-4032-9e3c-c30a43f4a650     14835   \n",
       "4604 2019-06-05 09:00:00  d9619a55-3171-495f-954d-e184d8f52d43     14849   \n",
       "4502 2019-06-04 18:00:00  db77c238-3c80-4032-9e3c-c30a43f4a650     14835   \n",
       "4676 2019-06-06 08:00:00  db77c238-3c80-4032-9e3c-c30a43f4a650     14835   \n",
       "4531 2019-06-04 19:00:00  db77c238-3c80-4032-9e3c-c30a43f4a650     14835   \n",
       "4863 2019-06-08 08:00:00  db77c238-3c80-4032-9e3c-c30a43f4a650     14835   \n",
       "4532 2019-06-04 19:00:00  db77c238-3c80-4032-9e3c-c30a43f4a650     14835   \n",
       "4677 2019-06-06 08:00:00  db77c238-3c80-4032-9e3c-c30a43f4a650     14835   \n",
       "4833 2019-06-07 22:00:00  db77c238-3c80-4032-9e3c-c30a43f4a650     14835   \n",
       "4503 2019-06-04 18:00:00  db77c238-3c80-4032-9e3c-c30a43f4a650     14835   \n",
       "4790 2019-06-07 16:00:00  db77c238-3c80-4032-9e3c-c30a43f4a650     14835   \n",
       "4533 2019-06-04 19:00:00  db77c238-3c80-4032-9e3c-c30a43f4a650     14835   \n",
       "4605 2019-06-05 09:00:00  d9619a55-3171-495f-954d-e184d8f52d43     14849   \n",
       "4678 2019-06-06 08:00:00  db77c238-3c80-4032-9e3c-c30a43f4a650     14835   \n",
       "4834 2019-06-07 22:00:00  db77c238-3c80-4032-9e3c-c30a43f4a650     14835   \n",
       "5582 2019-06-25 20:00:00  48294bee-94cc-4eed-a7c0-7c6848b349fe     14878   \n",
       "4504 2019-06-04 18:00:00  db77c238-3c80-4032-9e3c-c30a43f4a650     14835   \n",
       "5482 2019-06-19 09:00:00  b15b220e-395a-4b57-980c-0f16fd2e6bbb     14868   \n",
       "4791 2019-06-07 16:00:00  db77c238-3c80-4032-9e3c-c30a43f4a650     14835   \n",
       "4864 2019-06-08 08:00:00  db77c238-3c80-4032-9e3c-c30a43f4a650     14835   \n",
       "4865 2019-06-08 08:00:00  db77c238-3c80-4032-9e3c-c30a43f4a650     14835   \n",
       "4679 2019-06-06 08:00:00  db77c238-3c80-4032-9e3c-c30a43f4a650     14835   \n",
       "4534 2019-06-04 19:00:00  db77c238-3c80-4032-9e3c-c30a43f4a650     14835   \n",
       "5583 2019-06-25 20:00:00  48294bee-94cc-4eed-a7c0-7c6848b349fe     14878   \n",
       "4792 2019-06-07 16:00:00  db77c238-3c80-4032-9e3c-c30a43f4a650     14835   \n",
       "4835 2019-06-07 22:00:00  db77c238-3c80-4032-9e3c-c30a43f4a650     14835   \n",
       "4505 2019-06-04 18:00:00  db77c238-3c80-4032-9e3c-c30a43f4a650     14835   \n",
       "4836 2019-06-07 22:00:00  db77c238-3c80-4032-9e3c-c30a43f4a650     14835   \n",
       "4506 2019-06-04 18:00:00  db77c238-3c80-4032-9e3c-c30a43f4a650     14835   \n",
       "\n",
       "                                                product  quantity  price  \n",
       "4578   аквилегия махровая тауэр смесь окрасок объем 1 л         1   97.0  \n",
       "4579                  алиссум скальный желтый объем 1 л         1  105.0  \n",
       "4754                  алиссум скальный желтый объем 1 л         1  105.0  \n",
       "4729                  алиссум скальный желтый объем 1 л         1  105.0  \n",
       "4818  антинакипин для утюгов ампулы 10 мл по 5 шт un...         1  164.0  \n",
       "4817  антинакипин для утюгов ампулы 10 мл по 5 шт un...         1  164.0  \n",
       "5593  антуриум тропик найт нидерланды 1 штука в упак...         1  262.0  \n",
       "5592  антуриум тропик найт нидерланды 1 штука в упак...         1  262.0  \n",
       "4580                    астра альпийская микс объем 1 л         1   97.0  \n",
       "4755  бадан сердцелистный красная звезда красный объ...         1  150.0  \n",
       "4730  бадан сердцелистный красная звезда красный объ...         1  150.0  \n",
       "4739                      базилик овощной арарат d-7 см         1   14.0  \n",
       "4831  бакопа ампельная махровая белая махровая объем...         1   90.0  \n",
       "4501  бакопа ампельная махровая белая махровая объем...         1   90.0  \n",
       "4530  бакопа ампельная махровая белая махровая объем...         1   90.0  \n",
       "4788  бакопа ампельная махровая белая махровая объем...         1   90.0  \n",
       "4675  бакопа ампельная махровая белая махровая объем...         1   90.0  \n",
       "4861  бакопа ампельная махровая белая махровая объем...         1   90.0  \n",
       "4862  бакопа ампельная махровая сиреневая махровая о...         1   90.0  \n",
       "4832  бакопа ампельная махровая сиреневая махровая о...         1   90.0  \n",
       "5581  бакопа ампельная махровая сиреневая махровая о...         1   90.0  \n",
       "4789  бакопа ампельная махровая сиреневая махровая о...         1   90.0  \n",
       "4604  бакопа ампельная махровая сиреневая махровая о...         1   90.0  \n",
       "4502  бакопа ампельная махровая сиреневая махровая о...         1   90.0  \n",
       "4676  бакопа ампельная махровая сиреневая махровая о...         1   90.0  \n",
       "4531  бакопа ампельная махровая сиреневая махровая о...         1   90.0  \n",
       "4863  бакопа ампельная махровая фиолетовая махровая ...         1   90.0  \n",
       "4532  бакопа ампельная махровая фиолетовая махровая ...         1   90.0  \n",
       "4677  бакопа ампельная махровая фиолетовая махровая ...         1   90.0  \n",
       "4833  бакопа ампельная махровая фиолетовая махровая ...         1   90.0  \n",
       "4503  бакопа ампельная махровая фиолетовая махровая ...         1   90.0  \n",
       "4790  бакопа ампельная махровая фиолетовая махровая ...         1   90.0  \n",
       "4533    бакопа ампельная мега-крупная белая объем 0,5 л         1   90.0  \n",
       "4605    бакопа ампельная мега-крупная белая объем 0,5 л         2   90.0  \n",
       "4678    бакопа ампельная мега-крупная белая объем 0,5 л         1   90.0  \n",
       "4834    бакопа ампельная мега-крупная белая объем 0,5 л         1   90.0  \n",
       "5582    бакопа ампельная мега-крупная белая объем 0,5 л         1   90.0  \n",
       "4504    бакопа ампельная мега-крупная белая объем 0,5 л         1   90.0  \n",
       "5482    бакопа ампельная мега-крупная белая объем 0,5 л         1   90.0  \n",
       "4791    бакопа ампельная мега-крупная белая объем 0,5 л         1   90.0  \n",
       "4864    бакопа ампельная мега-крупная белая объем 0,5 л         1   90.0  \n",
       "4865  бакопа ампельная мега-крупная розовая объем 0,5 л         1   90.0  \n",
       "4679  бакопа ампельная мега-крупная розовая объем 0,5 л         1   90.0  \n",
       "4534  бакопа ампельная мега-крупная розовая объем 0,5 л         1   90.0  \n",
       "5583  бакопа ампельная мега-крупная розовая объем 0,5 л         1   90.0  \n",
       "4792  бакопа ампельная мега-крупная розовая объем 0,5 л         1   90.0  \n",
       "4835  бакопа ампельная мега-крупная розовая объем 0,5 л         1   90.0  \n",
       "4505  бакопа ампельная мега-крупная розовая объем 0,5 л         1   90.0  \n",
       "4836    бакопа ампельная мега-крупная синяя объем 0,5 л         1   90.0  \n",
       "4506    бакопа ампельная мега-крупная синяя объем 0,5 л         1   90.0  "
      ]
     },
     "execution_count": 17,
     "metadata": {},
     "output_type": "execute_result"
    }
   ],
   "source": [
    "logs[(logs['date'] > '2019-06-01 00:00:00') & (logs['date'] < '2019-07-01 00:00:00')].sort_values(by='product')[0:50]"
   ]
  },
  {
   "cell_type": "markdown",
   "id": "93560d02",
   "metadata": {},
   "source": [
    "Наблдается множество записей с одинаковыми наименованиями продуктов в количестве одной штуки в разное время, но сделанными одим покупателем, но в рамках одного заказа. Достаточно сложно сказать почему так произошло, но вот возможные причины:\n",
    "1. Сбой в системе сбора данных;\n",
    "2. Дозаказ покупателем в течение короткого срока (вопрос с какой целью);\n",
    "3. Постепенное формирование заказа со стороны поставщика (зафисит от алгоритма записи в базу данных) и т.д.\n",
    "\n",
    "На мой взгляд, оптимальным вариантом обработки дубликатов является их группировка по номеру покупателя, продукту, заказу с суммированием их количества, с выбором первой цены и даты первой записи."
   ]
  },
  {
   "cell_type": "code",
   "execution_count": 18,
   "id": "007f2708",
   "metadata": {},
   "outputs": [],
   "source": [
    "logs = logs.groupby(['customer_id', 'order_id', 'product']).agg({'quantity' : 'sum',\n",
    "                                                            'price': 'first',\n",
    "                                                            'date': 'first'}).reset_index()"
   ]
  },
  {
   "cell_type": "code",
   "execution_count": 19,
   "id": "2e46cbdc",
   "metadata": {},
   "outputs": [
    {
     "data": {
      "text/plain": [
       "0"
      ]
     },
     "execution_count": 19,
     "metadata": {},
     "output_type": "execute_result"
    }
   ],
   "source": [
    "logs[['customer_id', 'order_id', 'product', 'quantity', 'price']].duplicated().sum()"
   ]
  },
  {
   "cell_type": "markdown",
   "id": "17a5a2cd",
   "metadata": {},
   "source": [
    "Теперь неяных дубликатов нет."
   ]
  },
  {
   "cell_type": "markdown",
   "id": "dc5f74dc",
   "metadata": {},
   "source": [
    "## Исследовательский анализ данных "
   ]
  },
  {
   "cell_type": "markdown",
   "id": "27dd2750",
   "metadata": {},
   "source": [
    "### Анализ полноты данных"
   ]
  },
  {
   "cell_type": "code",
   "execution_count": 20,
   "id": "715d576a",
   "metadata": {},
   "outputs": [],
   "source": [
    "# Создадим столбцы с часами и месяцами\n",
    "logs['hour'] = logs['date'].dt.hour\n",
    "logs['month'] = logs['date'].dt.month"
   ]
  },
  {
   "cell_type": "markdown",
   "id": "33a084a5",
   "metadata": {},
   "source": [
    "Рассмотрим дипазон дат."
   ]
  },
  {
   "cell_type": "code",
   "execution_count": 21,
   "id": "973b096b",
   "metadata": {},
   "outputs": [
    {
     "name": "stdout",
     "output_type": "stream",
     "text": [
      "Данные собраны с 2018-10-01 00:00:00 по 2019-10-31 14:00:00\n"
     ]
    }
   ],
   "source": [
    "# Минимальная и максимальные даты\n",
    "max_date = logs['date'].max()\n",
    "min_date = logs['date'].min()\n",
    "print('Данные собраны с {} по {}'.format(min_date, max_date))"
   ]
  },
  {
   "cell_type": "code",
   "execution_count": 22,
   "id": "eeec7bcc",
   "metadata": {},
   "outputs": [],
   "source": [
    "# Удаление лишнего 2018-10-01 - 2018-10-31\n",
    "logs = logs[(logs['date'] > '2018-10-31 00:00:00')]\n",
    "logs_count = len(logs)"
   ]
  },
  {
   "cell_type": "code",
   "execution_count": 23,
   "id": "b34c3b6f",
   "metadata": {},
   "outputs": [
    {
     "data": {
      "image/png": "[encoded data removed]",
      "text/plain": [
       "<Figure size 1152x216 with 1 Axes>"
      ]
     },
     "metadata": {
      "needs_background": "light"
     },
     "output_type": "display_data"
    }
   ],
   "source": [
    "# Гистограмма количества логов по времения\n",
    "plt.figure(figsize=(16, 3))\n",
    "logs['date'].hist(bins=100)\n",
    "plt.xlabel('Дата')\n",
    "plt.ylabel('Кол-во логов');"
   ]
  },
  {
   "cell_type": "markdown",
   "id": "e89420f6",
   "metadata": {},
   "source": [
    "Данные полные. В мае и июне наблюдается повышенное количество логов."
   ]
  },
  {
   "cell_type": "markdown",
   "id": "27a9c925",
   "metadata": {},
   "source": [
    "### Основные характеристики датасета "
   ]
  },
  {
   "cell_type": "markdown",
   "id": "a257cf13",
   "metadata": {},
   "source": [
    "Рассмотрим основные характеристики датасета."
   ]
  },
  {
   "cell_type": "code",
   "execution_count": 24,
   "id": "24aacaed",
   "metadata": {},
   "outputs": [
    {
     "name": "stdout",
     "output_type": "stream",
     "text": [
      "Всего 2279 покупателей/я\n",
      "Всего 2552 заказа/ов\n",
      "Среднее количество заказов на покупателя: 1.12\n",
      "Среднее количество товаров в заказе 5.80\n"
     ]
    }
   ],
   "source": [
    "customer_count = logs['customer_id'].nunique()\n",
    "print('Всего', customer_count, 'покупателей/я')\n",
    "orders_count = logs['order_id'].nunique()\n",
    "print('Всего', orders_count, 'заказа/ов')\n",
    "orders_per_customer = orders_count / customer_count\n",
    "print('Среднее количество заказов на покупателя: {:.2f}'.format(orders_per_customer))\n",
    "products_per_order = logs.groupby('order_id')['quantity'].sum().mean()\n",
    "print('Среднее количество товаров в заказе {:.2f}'.format(products_per_order))"
   ]
  },
  {
   "cell_type": "markdown",
   "id": "58a8c21f",
   "metadata": {},
   "source": [
    "### Количество заказов на покупателя "
   ]
  },
  {
   "cell_type": "markdown",
   "id": "2be1739f",
   "metadata": {},
   "source": [
    "#### Распределение количества заказов на покупателя"
   ]
  },
  {
   "cell_type": "markdown",
   "id": "b8119396",
   "metadata": {},
   "source": [
    "Посмотрим на распределение количества заказов по покупателям."
   ]
  },
  {
   "cell_type": "code",
   "execution_count": 25,
   "id": "0bb39d71",
   "metadata": {},
   "outputs": [
    {
     "data": {
      "text/plain": [
       "customer_id\n",
       "c971fb21-d54c-4134-938f-16b62ee86d3b    106\n",
       "73d1cd35-5e5f-4629-8cf2-3fda829d4e58     17\n",
       "b7b865ab-0735-407f-8d0c-31f74d2806cc      7\n",
       "0184f535-b60a-4914-a982-231e3f615206      5\n",
       "498f12a4-6a62-4725-8516-cf5dc9ab8a3a      4\n",
       "e0535076-6270-4df2-8621-cb06264a94fa      4\n",
       "bea7a833-2074-42db-bc49-4457abd3c930      4\n",
       "d16fbc13-50a6-4dea-aafc-bc197aafc9e4      3\n",
       "dfbcfde5-21de-4504-aff4-453e617d81c1      3\n",
       "d02429ab-22e0-4ff2-9465-3082befde444      3\n",
       "Name: order_id, dtype: int64"
      ]
     },
     "execution_count": 25,
     "metadata": {},
     "output_type": "execute_result"
    }
   ],
   "source": [
    "orders_per_customer = logs.groupby(by = ['customer_id'])['order_id'].nunique()\n",
    "orders_per_customer.sort_values(ascending=False)[:10]"
   ]
  },
  {
   "cell_type": "markdown",
   "id": "b4e316f2",
   "metadata": {},
   "source": [
    "В датасете наблюдается несколько пользователей с аномально большим количеством заказов. Лидер - пользователь c971fb21-d54c-4134-938f-16b62ee86d3b со 106-ю заказами."
   ]
  },
  {
   "cell_type": "code",
   "execution_count": 26,
   "id": "e1f7a191",
   "metadata": {},
   "outputs": [
    {
     "data": {
      "image/png": "[encoded data removed]",
      "text/plain": [
       "<Figure size 432x288 with 1 Axes>"
      ]
     },
     "metadata": {
      "needs_background": "light"
     },
     "output_type": "display_data"
    }
   ],
   "source": [
    "# диаграмма распределения\n",
    "orders_per_customer.hist(bins=10, range=(0, 10))\n",
    "plt.xlabel('Кол-во заказов на покупателя')\n",
    "plt.ylabel('Кол-во покупателей');"
   ]
  },
  {
   "cell_type": "markdown",
   "id": "19f7dd95",
   "metadata": {},
   "source": [
    "Количество заказов на поупателя распределено в диапазоне от одного до 106. При этом основная масса покупателей сделала заказ только один заказ."
   ]
  },
  {
   "cell_type": "markdown",
   "id": "4ea560ea",
   "metadata": {},
   "source": [
    "#### Распределение количества товаров в заказе"
   ]
  },
  {
   "cell_type": "markdown",
   "id": "30901dd2",
   "metadata": {},
   "source": [
    "Посмотрим на распределение количества товаров по заказам."
   ]
  },
  {
   "cell_type": "code",
   "execution_count": 27,
   "id": "e786d975",
   "metadata": {},
   "outputs": [
    {
     "data": {
      "text/plain": [
       "order_id\n",
       "71743    1000\n",
       "14833     900\n",
       "71668     334\n",
       "71478     300\n",
       "14835     224\n",
       "69289     200\n",
       "68815     170\n",
       "72845     160\n",
       "70841     150\n",
       "68831     140\n",
       "Name: quantity, dtype: int64"
      ]
     },
     "execution_count": 27,
     "metadata": {},
     "output_type": "execute_result"
    }
   ],
   "source": [
    "product_per_order = logs.groupby(['order_id'])['quantity'].sum()\n",
    "product_per_order.sort_values(ascending=False)[:10]"
   ]
  },
  {
   "cell_type": "code",
   "execution_count": 28,
   "id": "1a18cf80",
   "metadata": {},
   "outputs": [
    {
     "data": {
      "image/png": "[encoded data removed]",
      "text/plain": [
       "<Figure size 432x288 with 1 Axes>"
      ]
     },
     "metadata": {
      "needs_background": "light"
     },
     "output_type": "display_data"
    }
   ],
   "source": [
    "# диаграмма распределения\n",
    "product_per_order.hist(bins=10, range=(0, 10))\n",
    "plt.xlabel('Кол-во товаров')\n",
    "plt.ylabel('Кол-во заказов');"
   ]
  },
  {
   "cell_type": "markdown",
   "id": "8e57e629",
   "metadata": {},
   "source": [
    "Количество товаров в заказе распределено в диапазоне от одного до 1000.  У основной массы покупателей имеется лишь один товар в заказе. "
   ]
  },
  {
   "cell_type": "markdown",
   "id": "a64dbd2d",
   "metadata": {},
   "source": [
    "### Обработка аномальных значений "
   ]
  },
  {
   "cell_type": "markdown",
   "id": "a05b832b",
   "metadata": {},
   "source": [
    "#### Аномалии количества заказов на покупателя "
   ]
  },
  {
   "cell_type": "markdown",
   "id": "e54a1ea6",
   "metadata": {},
   "source": [
    "Посчитаем прецентили 95% и 99%."
   ]
  },
  {
   "cell_type": "code",
   "execution_count": 29,
   "id": "66ab9759",
   "metadata": {},
   "outputs": [
    {
     "data": {
      "text/plain": [
       "0.95    2.0\n",
       "0.99    3.0\n",
       "Name: order_id, dtype: float64"
      ]
     },
     "execution_count": 29,
     "metadata": {},
     "output_type": "execute_result"
    }
   ],
   "source": [
    "orders_per_customer.quantile([0.95, 0.99])"
   ]
  },
  {
   "cell_type": "markdown",
   "id": "db2b37a4",
   "metadata": {},
   "source": [
    "Удалим покупателей с количеством заказов > 3."
   ]
  },
  {
   "cell_type": "code",
   "execution_count": 30,
   "id": "5c2d7956",
   "metadata": {},
   "outputs": [
    {
     "name": "stdout",
     "output_type": "stream",
     "text": [
      "Суммарно удалено 4.7%\n"
     ]
    }
   ],
   "source": [
    "customers_id_for_drop = list(orders_per_customer[orders_per_customer > 3].index)\n",
    "logs = logs[~logs['customer_id'].isin(customers_id_for_drop)]\n",
    "print('Суммарно удалено {:.1%}'.format(1-len(logs)/logs_count))"
   ]
  },
  {
   "cell_type": "markdown",
   "id": "f26a043c",
   "metadata": {},
   "source": [
    "#### Аномалии количества товаров в заказе "
   ]
  },
  {
   "cell_type": "markdown",
   "id": "e49c8019",
   "metadata": {},
   "source": [
    "Посчитаем прецентили 95% и 99%."
   ]
  },
  {
   "cell_type": "code",
   "execution_count": 31,
   "id": "798c51c8",
   "metadata": {},
   "outputs": [
    {
     "data": {
      "text/plain": [
       "0.95    20.0\n",
       "0.99    60.0\n",
       "Name: quantity, dtype: float64"
      ]
     },
     "execution_count": 31,
     "metadata": {},
     "output_type": "execute_result"
    }
   ],
   "source": [
    "product_per_order.quantile([0.95, 0.99])"
   ]
  },
  {
   "cell_type": "markdown",
   "id": "eeb08cae",
   "metadata": {},
   "source": [
    "Удалим покупателей с количеством товаров в заказе > 60."
   ]
  },
  {
   "cell_type": "code",
   "execution_count": 32,
   "id": "47677ee2",
   "metadata": {},
   "outputs": [
    {
     "name": "stdout",
     "output_type": "stream",
     "text": [
      "Суммарно удалено 7.6%\n"
     ]
    }
   ],
   "source": [
    "logs = logs[~logs['customer_id']\n",
    "            .isin(list(logs['customer_id'][logs['order_id']\n",
    "            .isin(list(product_per_order[product_per_order > 60].index))]))]\n",
    "print('Суммарно удалено {:.1%}'.format(1-len(logs)/logs_count))"
   ]
  },
  {
   "cell_type": "markdown",
   "id": "af372a69",
   "metadata": {},
   "source": [
    "Было удалена большая часть датасета. Примем гипотезу о том, что удалённые покупатели это оптовики. Таким образом, мы оставили только обычных потребителей и дальше будем анализировать только их. При необходимости можно рассмотреть и оптовых покупателей отдельно."
   ]
  },
  {
   "cell_type": "markdown",
   "id": "acc11cef",
   "metadata": {},
   "source": [
    "### Категоризация товаров "
   ]
  },
  {
   "cell_type": "markdown",
   "id": "5ef2f976",
   "metadata": {},
   "source": [
    "Катеоризация сделана ручным способом на основе названий товаров. \n",
    "\n",
    "Ниже определена функция text_for_category():, которая принимает строку, разбивает весь текст на отдельные слова, приводит их к нормальной форме при помощи pymorphy2, выбрасывает все слова, длинна которых меньше 3-х символов.\n",
    "[https://cloud.croc.ru/blog/about-technologies/keras-i-tensorflow-klassifikatsiya-teksta/]"
   ]
  },
  {
   "cell_type": "code",
   "execution_count": 33,
   "id": "c46e1352",
   "metadata": {},
   "outputs": [],
   "source": [
    "morph = pymorphy2.MorphAnalyzer()\n",
    "\n",
    "def text_for_category(text, place):\n",
    "    # выделение нормальной формы и разбиение текста по словам\n",
    "    text = ' '.join(morph.parse((word))[0].normal_form for word in text.split())\n",
    "    # удаление слов длинной менее 3=-х символов \n",
    "    text = ' '.join(word for word in text.split() if len(word) > 3)\n",
    "    return text.split()[place]"
   ]
  },
  {
   "cell_type": "markdown",
   "id": "9d894064",
   "metadata": {},
   "source": [
    "Применим функцию text_for_category() к каждому наименованию товара и запишем в датафрейм первое и второе слово наименования."
   ]
  },
  {
   "cell_type": "code",
   "execution_count": 34,
   "id": "0a2d93bf",
   "metadata": {},
   "outputs": [],
   "source": [
    "logs['product_first'] = logs.apply(lambda x: text_for_category(x['product'], 0), axis=1)\n",
    "logs['product_second'] = logs.apply(lambda x: text_for_category(x['product'], 1), axis=1)"
   ]
  },
  {
   "cell_type": "markdown",
   "id": "6a40bf50",
   "metadata": {},
   "source": [
    "После этого выводим недублированные первые и вторые слова нименований и вручную собираем слова в словарь category_dict с выделением категорий."
   ]
  },
  {
   "cell_type": "code",
   "execution_count": 35,
   "id": "ca4a9365",
   "metadata": {},
   "outputs": [],
   "source": [
    "logs_product_name = logs.drop_duplicates(subset=['product_second', 'product_first'])"
   ]
  },
  {
   "cell_type": "code",
   "execution_count": 36,
   "id": "549df051",
   "metadata": {},
   "outputs": [
    {
     "data": {
      "text/html": [
       "<div>\n",
       "<style scoped>\n",
       "    .dataframe tbody tr th:only-of-type {\n",
       "        vertical-align: middle;\n",
       "    }\n",
       "\n",
       "    .dataframe tbody tr th {\n",
       "        vertical-align: top;\n",
       "    }\n",
       "\n",
       "    .dataframe thead th {\n",
       "        text-align: right;\n",
       "    }\n",
       "</style>\n",
       "<table border=\"1\" class=\"dataframe\">\n",
       "  <thead>\n",
       "    <tr style=\"text-align: right;\">\n",
       "      <th></th>\n",
       "      <th>customer_id</th>\n",
       "      <th>order_id</th>\n",
       "      <th>product</th>\n",
       "      <th>quantity</th>\n",
       "      <th>price</th>\n",
       "      <th>date</th>\n",
       "      <th>hour</th>\n",
       "      <th>month</th>\n",
       "      <th>product_first</th>\n",
       "      <th>product_second</th>\n",
       "    </tr>\n",
       "  </thead>\n",
       "  <tbody>\n",
       "    <tr>\n",
       "      <th>470</th>\n",
       "      <td>1ac82730-7e1b-4581-9b99-59a9f513b0c9</td>\n",
       "      <td>68860</td>\n",
       "      <td>муляж красное яблоко мини полиуретан d-6 см</td>\n",
       "      <td>6</td>\n",
       "      <td>22.0</td>\n",
       "      <td>2018-11-05 12:00:00</td>\n",
       "      <td>12</td>\n",
       "      <td>11</td>\n",
       "      <td>муляж</td>\n",
       "      <td>красный</td>\n",
       "    </tr>\n",
       "    <tr>\n",
       "      <th>1856</th>\n",
       "      <td>6103dd99-546e-4800-a283-1cd5fd7a3958</td>\n",
       "      <td>69595</td>\n",
       "      <td>доска разделочная alparaisa стеклянная завтрак...</td>\n",
       "      <td>1</td>\n",
       "      <td>149.0</td>\n",
       "      <td>2018-12-25 20:00:00</td>\n",
       "      <td>20</td>\n",
       "      <td>12</td>\n",
       "      <td>доска</td>\n",
       "      <td>разделочный</td>\n",
       "    </tr>\n",
       "    <tr>\n",
       "      <th>1618</th>\n",
       "      <td>55a2b456-f4c4-4fb9-9a8d-bbf2a5d6e16c</td>\n",
       "      <td>72606</td>\n",
       "      <td>соковыжималка для цитрусовых pasabahce ots1314...</td>\n",
       "      <td>1</td>\n",
       "      <td>202.0</td>\n",
       "      <td>2019-09-12 13:00:00</td>\n",
       "      <td>13</td>\n",
       "      <td>9</td>\n",
       "      <td>соковыжималка</td>\n",
       "      <td>цитрусовый</td>\n",
       "    </tr>\n",
       "    <tr>\n",
       "      <th>1820</th>\n",
       "      <td>5fe1274b-74ac-4a16-bde7-48e28879b2c6</td>\n",
       "      <td>72355</td>\n",
       "      <td>мешок для деликатной стирки 50х70см, attribute...</td>\n",
       "      <td>1</td>\n",
       "      <td>104.0</td>\n",
       "      <td>2019-08-20 18:00:00</td>\n",
       "      <td>18</td>\n",
       "      <td>8</td>\n",
       "      <td>мешок</td>\n",
       "      <td>деликатный</td>\n",
       "    </tr>\n",
       "    <tr>\n",
       "      <th>3897</th>\n",
       "      <td>d0a58e7e-0d2a-45f0-bdd3-e7a2aa8d7454</td>\n",
       "      <td>69209</td>\n",
       "      <td>таз пластмассовый 18,0 л пищевой (иж), 1404047</td>\n",
       "      <td>1</td>\n",
       "      <td>194.0</td>\n",
       "      <td>2018-12-04 19:00:00</td>\n",
       "      <td>19</td>\n",
       "      <td>12</td>\n",
       "      <td>пластмассовый</td>\n",
       "      <td>18,0</td>\n",
       "    </tr>\n",
       "  </tbody>\n",
       "</table>\n",
       "</div>"
      ],
      "text/plain": [
       "                               customer_id  order_id  \\\n",
       "470   1ac82730-7e1b-4581-9b99-59a9f513b0c9     68860   \n",
       "1856  6103dd99-546e-4800-a283-1cd5fd7a3958     69595   \n",
       "1618  55a2b456-f4c4-4fb9-9a8d-bbf2a5d6e16c     72606   \n",
       "1820  5fe1274b-74ac-4a16-bde7-48e28879b2c6     72355   \n",
       "3897  d0a58e7e-0d2a-45f0-bdd3-e7a2aa8d7454     69209   \n",
       "\n",
       "                                                product  quantity  price  \\\n",
       "470         муляж красное яблоко мини полиуретан d-6 см         6   22.0   \n",
       "1856  доска разделочная alparaisa стеклянная завтрак...         1  149.0   \n",
       "1618  соковыжималка для цитрусовых pasabahce ots1314...         1  202.0   \n",
       "1820  мешок для деликатной стирки 50х70см, attribute...         1  104.0   \n",
       "3897     таз пластмассовый 18,0 л пищевой (иж), 1404047         1  194.0   \n",
       "\n",
       "                    date  hour  month  product_first product_second  \n",
       "470  2018-11-05 12:00:00    12     11          муляж        красный  \n",
       "1856 2018-12-25 20:00:00    20     12          доска    разделочный  \n",
       "1618 2019-09-12 13:00:00    13      9  соковыжималка     цитрусовый  \n",
       "1820 2019-08-20 18:00:00    18      8          мешок     деликатный  \n",
       "3897 2018-12-04 19:00:00    19     12  пластмассовый           18,0  "
      ]
     },
     "execution_count": 36,
     "metadata": {},
     "output_type": "execute_result"
    }
   ],
   "source": [
    "logs_product_name.sample(5)"
   ]
  },
  {
   "cell_type": "markdown",
   "id": "67291e76",
   "metadata": {},
   "source": [
    "В ходе составления словаря выделено 9 категорий:\n",
    "- 'Искусственные растения'\n",
    "- 'Растения'\n",
    "- 'Хозяйственные принадлежности' - товары для активных действий по дому (щётки, тазики, сумки).\n",
    "- 'Ванная и туалет'\n",
    "- 'Чистящие средства'\n",
    "- 'Дом' - вещи для обеспечения уюта в доме, как правило статичные (постельное бельё, мебель, декор).\n",
    "- 'Кухня'\n",
    "- 'Строительство'\n",
    "- 'Другое' (те товары, которые не вошли в категорию выше)"
   ]
  },
  {
   "cell_type": "code",
   "execution_count": 37,
   "id": "c178ee79",
   "metadata": {},
   "outputs": [],
   "source": [
    "# словарь с категориями\n",
    "category_dict = {\n",
    "    \n",
    "    'Искусственные растения': [\n",
    "                'муляж', 'искусственный', 'декоративный'\n",
    "                ],\n",
    "    \n",
    "    'Растения': [\n",
    "                'адиантум', 'азалия', 'аквилегия', 'алиссума', 'алоэ', 'амариллис', 'анемон', 'антуриум', 'аптения', 'арбуз',\n",
    "                 'артемизия', 'аспарагус', 'бадан', 'базилик', 'бакоп', 'бальзамин', 'бегония',\n",
    "                 'вербена', 'вероника', 'виноград', 'газаний', 'гайлардия', 'гардения', 'гвоздик',\n",
    "                 'георгин', 'герань', 'гербер', 'гиацинт', 'гимнокалициум', 'гиностемма',\n",
    "                 'гипсофил', 'глоксиния', 'горох', 'гортензия', 'декабрист', 'джункус', 'драцена', 'душица',\n",
    "                 'дыня', 'дендробиум', 'ель', 'замиокулькас', 'зверобой', 'зелень', 'земляника', 'импатиенс',\n",
    "                 'каландив', 'капуста', 'калатея', 'калибрахоа', 'калла', 'камнеломка', 'кампанула',\n",
    "                 'кашпо', 'кипарисовик', 'клен', 'кодонант', 'колокольчик', 'комнатный', 'коник',\n",
    "                 'кориандр', 'косметь', 'котовник', 'крассула', 'крокус', 'лаванда', 'лавр', 'лазурь'\n",
    "                 'лантан', 'лапчатка', 'лилейникнуть', 'литопс', 'лобелия', 'маттиола', 'мединилла',\n",
    "                 'мелисса', 'мирт', 'мимоза', 'молодило', 'монард', 'муррайя', 'мускари', 'мятый',\n",
    "                 'настурция', 'незабудка', 'нивянник', 'нолин', 'овсянница', 'огурец', 'осина', 'папоротник', 'патиссон',\n",
    "                 'пуансеттие', 'пахир', 'пеларгония', 'пеперомия', 'петрушка', 'петуния', 'платикодон', 'подсолнечник',\n",
    "                 'порей', 'примула', 'пуансетие', 'радермахер', 'ранункулус', 'рассада',\n",
    "                 'растение', 'роза', 'розмарин', 'рудбекия', 'рукол', 'сальвия', 'седума',\n",
    "                 'синнингий', \"спатифиллум\", 'смолёвка', 'совок', 'суккулента', 'сциндапсус', 'табак', 'томат', 'томата',\n",
    "                 'тимьян', 'трава', 'тюльпан', 'тюльпаны', 'укроп', 'фатсия', 'фиалка', 'фикус', 'флокс', 'фуксия',\n",
    "                 'хамедорей', 'хлорофитум', 'хост', 'хризантема', 'хризолидокарпус', 'цветок',\n",
    "                 'целозия', 'цикламен', 'цинния', 'циперус', 'цитрофортунелла', 'чабер', 'фаленопсис',\n",
    "                 'шеффлера', 'шпагат', 'эхеверие', 'эвкалипт', 'энотера', 'эпипремнум', 'эхеверие'\n",
    "                 'эхинокактус', 'юкка', 'ясколка'\n",
    "                ],\n",
    "    \n",
    "    'Хозяйственные принадлежности':[\n",
    "                                     'белье', 'ведро', 'веник', 'вешалка-перекладина', 'гладильный', 'зажигалка',\n",
    "                                     'ключница', 'корзинка', 'коробка', 'линейка', 'насадка-моп', 'насадка-отжим',\n",
    "                                     'окномойка', 'подкладка', 'прищепка', 'пылесос', 'пьезозажигалка', 'скребок',\n",
    "                                     'сумка', 'сумка-тележка', 'таз', 'тележка', 'ткань', 'тряпка',\n",
    "                                     'тряпкодержатель', 'урна-пепельница', 'утюг', 'чехол', 'швабра', 'шнур'\n",
    "                                     'щетка', 'щетка-сметка'\n",
    "                                    ],\n",
    "    \n",
    "    'Ванная и туалет': [\n",
    "                         'ванна', 'ванная', 'вантуз', 'вешалка-стойка', 'дозатор', 'зубной', 'корыто', 'кофр',\n",
    "                         'мочалка', 'мыло', 'мыльница', 'пена', 'полотенце', 'стиральный', 'сушилка',\n",
    "                         'таз', 'туалет', 'туалетный', 'унитазный', 'халат', 'ерш'\n",
    "                        ],\n",
    "    \n",
    "    'Чистящие средства': [\n",
    "                          'биопорошок', 'концентрат', 'крем', 'мытье', 'отбеливатель', 'порошок',\n",
    "                          'средство', 'стирка', 'чистка', 'удаление'\n",
    "                         ],\n",
    "    'Дом': [\n",
    "             'вакуумный', 'вешалка', 'вешалка-плечики', 'карниз', 'коврик', 'ковёр', 'комод', 'корзина', 'крючок',\n",
    "             'мебельный', 'наволочка', 'нарезка', 'обувница-3', 'обувь', 'одеяло', 'перчатка', 'покрывало', 'плед', 'плечики',\n",
    "             'простыня', 'пододеяльник', 'подушка', 'стеллаж', 'термометр', 'штора', 'этажерка', 'ящик'\n",
    "           ],\n",
    "    \n",
    "    'Кухня': [  \n",
    "                 'webber', 'банка', 'банк', 'бензин', 'бидон', 'блюдо', 'блюдце', 'бокал', 'венчик', \n",
    "                 'весы', 'вантуз', 'вилка', 'вкладыш', 'доска', 'емкость',\n",
    "                 'кастрюля', 'ковш', 'контейнер', 'котел', 'кофе', 'кружка', 'крышка', 'кувшинвилка', 'ложка', 'лопатка',\n",
    "                 'масленка', 'миксер', 'мини-сковорода', 'миска', 'мука', 'мусор', 'мусорный',\n",
    "                 'нож', 'ножеточка', 'овощ', 'овощеварка', 'овощечистка', 'отделитель',\n",
    "                 'подрукавник', 'половник', 'противень', 'салатник', 'салфетка', 'салфетница',\n",
    "                 'сахарница', 'сито', 'скалка', 'скатерть', 'сковорода', 'соковыжималка', 'соль',\n",
    "                 'сотейник', 'стакан', 'столовый', 'тарелка', 'термос', 'tepмокружка', \"термокружка\", \n",
    "                 'термостакан', 'толкушка', 'тортница', 'тёрка', 'урна', 'форма', 'фужер', 'хлебница', \n",
    "                 'чайный', 'чайник', 'чеснок', 'электроштопор'\n",
    "            ],\n",
    "    'Строительство': [\n",
    "                         'блок', 'вентиляционный', 'веревка', 'завертка', 'измерительный', 'крепеж',\n",
    "                         'лестница-стремянка', 'мешок', 'нитрид', 'петля-стрела', 'петлить', 'полировка', 'пробка',\n",
    "                         'полка', 'пружина', 'ручка-скоба', 'сварка', 'сверло', 'стремянка', 'стремянка-табурет',\n",
    "                         'стяжка', 'уголок', 'фиксатор-шар', 'шпингалет'\n",
    "                     ],\n",
    "}"
   ]
  },
  {
   "cell_type": "markdown",
   "id": "af571d05",
   "metadata": {},
   "source": [
    "Ниже определена функция, которая присваивает категорию на основе пересечения слов наименования товара со словами в словаре."
   ]
  },
  {
   "cell_type": "code",
   "execution_count": 38,
   "id": "7897c02a",
   "metadata": {},
   "outputs": [],
   "source": [
    "def set_product_category(text):\n",
    "    category_product = ''\n",
    "    # выделение нормальной формы\n",
    "    text = ' '.join(morph.parse((word))[0].normal_form for word in text.split())\n",
    "    # цикл пробегающий по словам в наименовании и по словарю\n",
    "    for word in text.split():\n",
    "        if category_product == '':\n",
    "            for category in category_dict:\n",
    "                if word in category_dict[category]:\n",
    "                    category_product = category\n",
    "                    # присваивание категории\n",
    "                    return category_product \n",
    "    return 'Другое'           "
   ]
  },
  {
   "cell_type": "code",
   "execution_count": 39,
   "id": "aef8102f",
   "metadata": {},
   "outputs": [],
   "source": [
    "# применяем функцию\n",
    "logs['category'] = logs.apply(lambda x: set_product_category(x['product']), axis=1)"
   ]
  },
  {
   "cell_type": "code",
   "execution_count": 40,
   "id": "4a10d4eb",
   "metadata": {},
   "outputs": [
    {
     "data": {
      "text/html": [
       "<div>\n",
       "<style scoped>\n",
       "    .dataframe tbody tr th:only-of-type {\n",
       "        vertical-align: middle;\n",
       "    }\n",
       "\n",
       "    .dataframe tbody tr th {\n",
       "        vertical-align: top;\n",
       "    }\n",
       "\n",
       "    .dataframe thead th {\n",
       "        text-align: right;\n",
       "    }\n",
       "</style>\n",
       "<table border=\"1\" class=\"dataframe\">\n",
       "  <thead>\n",
       "    <tr style=\"text-align: right;\">\n",
       "      <th></th>\n",
       "      <th>customer_id</th>\n",
       "      <th>order_id</th>\n",
       "      <th>product</th>\n",
       "      <th>quantity</th>\n",
       "      <th>price</th>\n",
       "      <th>date</th>\n",
       "      <th>hour</th>\n",
       "      <th>month</th>\n",
       "      <th>product_first</th>\n",
       "      <th>product_second</th>\n",
       "      <th>category</th>\n",
       "    </tr>\n",
       "  </thead>\n",
       "  <tbody>\n",
       "    <tr>\n",
       "      <th>4460</th>\n",
       "      <td>ea741fdc-4883-4fc1-a34e-a8bcf8dc6cbb</td>\n",
       "      <td>69608</td>\n",
       "      <td>тарелка суповая luminarc океан эклипс 20,5 см ...</td>\n",
       "      <td>30</td>\n",
       "      <td>82.0</td>\n",
       "      <td>2018-12-26 10:00:00</td>\n",
       "      <td>10</td>\n",
       "      <td>12</td>\n",
       "      <td>тарелка</td>\n",
       "      <td>суповой</td>\n",
       "      <td>Кухня</td>\n",
       "    </tr>\n",
       "    <tr>\n",
       "      <th>3919</th>\n",
       "      <td>d16fbc13-50a6-4dea-aafc-bc197aafc9e4</td>\n",
       "      <td>14588</td>\n",
       "      <td>пеларгония розебудная prins nikolai укорененны...</td>\n",
       "      <td>1</td>\n",
       "      <td>135.0</td>\n",
       "      <td>2019-03-25 11:00:00</td>\n",
       "      <td>11</td>\n",
       "      <td>3</td>\n",
       "      <td>пеларгония</td>\n",
       "      <td>розебудный</td>\n",
       "      <td>Растения</td>\n",
       "    </tr>\n",
       "    <tr>\n",
       "      <th>463</th>\n",
       "      <td>1a725b7e-f09b-4bc1-8579-b9893adb91f8</td>\n",
       "      <td>14729</td>\n",
       "      <td>петуния sweetunia rose gem розовая с прожилкам...</td>\n",
       "      <td>1</td>\n",
       "      <td>90.0</td>\n",
       "      <td>2019-05-07 11:00:00</td>\n",
       "      <td>11</td>\n",
       "      <td>5</td>\n",
       "      <td>петуния</td>\n",
       "      <td>sweetunia</td>\n",
       "      <td>Растения</td>\n",
       "    </tr>\n",
       "    <tr>\n",
       "      <th>3227</th>\n",
       "      <td>b0f19fc0-a432-4d43-b476-e02ac01a5b7b</td>\n",
       "      <td>71988</td>\n",
       "      <td>зверобой продырявленный оптимист d- 12-13 см</td>\n",
       "      <td>1</td>\n",
       "      <td>187.0</td>\n",
       "      <td>2019-07-15 12:00:00</td>\n",
       "      <td>12</td>\n",
       "      <td>7</td>\n",
       "      <td>зверобой</td>\n",
       "      <td>продырявить</td>\n",
       "      <td>Растения</td>\n",
       "    </tr>\n",
       "    <tr>\n",
       "      <th>3527</th>\n",
       "      <td>c0b74fe0-883e-46c6-91eb-b872c5db7c70</td>\n",
       "      <td>72896</td>\n",
       "      <td>коврик интерьерный для кухни la bruschetta из ...</td>\n",
       "      <td>1</td>\n",
       "      <td>638.0</td>\n",
       "      <td>2019-10-08 17:00:00</td>\n",
       "      <td>17</td>\n",
       "      <td>10</td>\n",
       "      <td>коврик</td>\n",
       "      <td>интерьерный</td>\n",
       "      <td>Дом</td>\n",
       "    </tr>\n",
       "  </tbody>\n",
       "</table>\n",
       "</div>"
      ],
      "text/plain": [
       "                               customer_id  order_id  \\\n",
       "4460  ea741fdc-4883-4fc1-a34e-a8bcf8dc6cbb     69608   \n",
       "3919  d16fbc13-50a6-4dea-aafc-bc197aafc9e4     14588   \n",
       "463   1a725b7e-f09b-4bc1-8579-b9893adb91f8     14729   \n",
       "3227  b0f19fc0-a432-4d43-b476-e02ac01a5b7b     71988   \n",
       "3527  c0b74fe0-883e-46c6-91eb-b872c5db7c70     72896   \n",
       "\n",
       "                                                product  quantity  price  \\\n",
       "4460  тарелка суповая luminarc океан эклипс 20,5 см ...        30   82.0   \n",
       "3919  пеларгония розебудная prins nikolai укорененны...         1  135.0   \n",
       "463   петуния sweetunia rose gem розовая с прожилкам...         1   90.0   \n",
       "3227       зверобой продырявленный оптимист d- 12-13 см         1  187.0   \n",
       "3527  коврик интерьерный для кухни la bruschetta из ...         1  638.0   \n",
       "\n",
       "                    date  hour  month product_first product_second  category  \n",
       "4460 2018-12-26 10:00:00    10     12       тарелка        суповой     Кухня  \n",
       "3919 2019-03-25 11:00:00    11      3    пеларгония     розебудный  Растения  \n",
       "463  2019-05-07 11:00:00    11      5       петуния      sweetunia  Растения  \n",
       "3227 2019-07-15 12:00:00    12      7      зверобой    продырявить  Растения  \n",
       "3527 2019-10-08 17:00:00    17     10        коврик    интерьерный       Дом  "
      ]
     },
     "execution_count": 40,
     "metadata": {},
     "output_type": "execute_result"
    }
   ],
   "source": [
    "logs.sample(5)"
   ]
  },
  {
   "cell_type": "markdown",
   "id": "4307f2cc",
   "metadata": {},
   "source": [
    "- Определена функция которая принимает строку, разбивает наименование товаров на отдельные слова, приводит их к нормальной форме при помощи pymorphy2 , выбрасывает все слова, длинна которых меньше 3-х символов.\n",
    "- Собран словарь для категоризации.\n",
    "- Определена функция, которая присваивает категорию на основе пересечения слов наименования товара со словами в словаре.\n",
    "- Категоризация успешно проведена."
   ]
  },
  {
   "cell_type": "markdown",
   "id": "c4c46bb6",
   "metadata": {},
   "source": [
    "### Анализ категорий "
   ]
  },
  {
   "cell_type": "markdown",
   "id": "15dc8f7a",
   "metadata": {},
   "source": [
    "####  Популярность категорий"
   ]
  },
  {
   "cell_type": "markdown",
   "id": "1f88d5fb",
   "metadata": {},
   "source": [
    "Посчитаем сколько товаров было заказвно в каждой категории."
   ]
  },
  {
   "cell_type": "code",
   "execution_count": 41,
   "id": "663d91fb",
   "metadata": {},
   "outputs": [
    {
     "data": {
      "text/plain": [
       "category\n",
       "Растения                        3838\n",
       "Кухня                           1208\n",
       "Искусственные растения          1196\n",
       "Хозяйственные принадлежности    1109\n",
       "Дом                             1030\n",
       "Ванная и туалет                  538\n",
       "Другое                           309\n",
       "Строительство                    262\n",
       "Чистящие средства                 26\n",
       "Name: quantity, dtype: int64"
      ]
     },
     "execution_count": 41,
     "metadata": {},
     "output_type": "execute_result"
    }
   ],
   "source": [
    "logs.groupby('category')['quantity'].sum().sort_values(ascending=False)"
   ]
  },
  {
   "cell_type": "code",
   "execution_count": 42,
   "id": "75b96527",
   "metadata": {},
   "outputs": [
    {
     "data": {
      "image/png": "[encoded data removed]",
      "text/plain": [
       "<Figure size 720x504 with 1 Axes>"
      ]
     },
     "metadata": {
      "needs_background": "light"
     },
     "output_type": "display_data"
    }
   ],
   "source": [
    "plt.figure(figsize=(10, 7))\n",
    "g = sns.barplot(logs.groupby('category')['quantity'].sum().sort_values(ascending=False).values, \n",
    "                logs.groupby('category')['quantity'].sum().sort_values(ascending=False).index, palette='Blues_r')\n",
    "g.set_title('Распределение количества проданных товаров по категориям')\n",
    "g.set_xlabel('Количество проданных товаров')\n",
    "g.set_ylabel('');"
   ]
  },
  {
   "cell_type": "markdown",
   "id": "4cef375b",
   "metadata": {},
   "source": [
    "Наиболее популярными категориями оказались \"Растения\"."
   ]
  },
  {
   "cell_type": "markdown",
   "id": "1b9e01f5",
   "metadata": {},
   "source": [
    "#### Анализ выручки по категориям"
   ]
  },
  {
   "cell_type": "markdown",
   "id": "066522de",
   "metadata": {},
   "source": [
    "Посмотрим какие категории приносят наибольшую суммарную выручку."
   ]
  },
  {
   "cell_type": "code",
   "execution_count": 43,
   "id": "5754bd8a",
   "metadata": {},
   "outputs": [
    {
     "data": {
      "text/plain": [
       "category\n",
       "Хозяйственные принадлежности    P 1,198,079\n",
       "Растения                          P 523,137\n",
       "Дом                               P 429,115\n",
       "Кухня                             P 353,946\n",
       "Ванная и туалет                   P 341,855\n",
       "Строительство                     P 225,178\n",
       "Другое                             P 81,361\n",
       "Искусственные растения             P 63,920\n",
       "Чистящие средства                   P 3,643\n",
       "Name: revenue, dtype: object"
      ]
     },
     "execution_count": 43,
     "metadata": {},
     "output_type": "execute_result"
    }
   ],
   "source": [
    "logs['revenue'] = logs['price'] * logs['quantity']\n",
    "logs.groupby('category')['revenue'].sum().sort_values(ascending=False).map('P{: ,.0f}'.format)"
   ]
  },
  {
   "cell_type": "markdown",
   "id": "d9b1d1c9",
   "metadata": {},
   "source": [
    "Также посмотрим на среднуюю выручку."
   ]
  },
  {
   "cell_type": "code",
   "execution_count": 44,
   "id": "9cdf5b47",
   "metadata": {},
   "outputs": [
    {
     "data": {
      "text/plain": [
       "category\n",
       "Строительство                   P 2,680.69\n",
       "Хозяйственные принадлежности    P 2,058.55\n",
       "Дом                             P 1,430.38\n",
       "Ванная и туалет                 P 1,203.71\n",
       "Кухня                           P 1,053.41\n",
       "Другое                            P 774.87\n",
       "Искусственные растения            P 318.01\n",
       "Чистящие средства                 P 260.21\n",
       "Растения                          P 244.57\n",
       "Name: revenue, dtype: object"
      ]
     },
     "execution_count": 44,
     "metadata": {},
     "output_type": "execute_result"
    }
   ],
   "source": [
    "logs.groupby('category')['revenue'].mean().sort_values(ascending=False).map('P{: ,.2f}'.format)"
   ]
  },
  {
   "cell_type": "markdown",
   "id": "f9bcc1bb",
   "metadata": {},
   "source": [
    "- Несмотря на популярность растений наибольшу выручку принесли хозяйственные товары;\n",
    "- Наибольшая средняя выручка за товар характерна для категории \"Строительство\" и \"Хозяйственные принадлежности\"."
   ]
  },
  {
   "cell_type": "markdown",
   "id": "91855bc2",
   "metadata": {},
   "source": [
    "#### Анализ средней цены товара по категориям"
   ]
  },
  {
   "cell_type": "code",
   "execution_count": 45,
   "id": "a83f3787",
   "metadata": {},
   "outputs": [
    {
     "data": {
      "text/plain": [
       "category\n",
       "Строительство                   P 1,740.04\n",
       "Хозяйственные принадлежности    P 1,485.04\n",
       "Ванная и туалет                   P 946.64\n",
       "Дом                               P 805.32\n",
       "Кухня                             P 532.32\n",
       "Другое                            P 506.33\n",
       "Чистящие средства                 P 178.21\n",
       "Растения                          P 147.42\n",
       "Искусственные растения             P 72.27\n",
       "Name: price, dtype: object"
      ]
     },
     "execution_count": 45,
     "metadata": {},
     "output_type": "execute_result"
    }
   ],
   "source": [
    "logs.groupby('category')['price'].mean().sort_values(ascending=False).map('P{: ,.2f}'.format)"
   ]
  },
  {
   "cell_type": "code",
   "execution_count": 46,
   "id": "c37f4d5f",
   "metadata": {},
   "outputs": [
    {
     "data": {
      "image/png": "[encoded data removed]",
      "text/plain": [
       "<Figure size 720x360 with 1 Axes>"
      ]
     },
     "metadata": {
      "needs_background": "light"
     },
     "output_type": "display_data"
    }
   ],
   "source": [
    "# построеие графика ящик с усами\n",
    "plt.figure(figsize=(10, 5))\n",
    "g = sns.boxplot(x=\"price\", y=\"category\",\n",
    "                 data=logs, palette='Blues', orient='h', showfliers = False)\n",
    "g.set_title('Распределение цен товаров по категориям')\n",
    "g.set_xlabel('Цена')\n",
    "g.set_ylabel('');"
   ]
  },
  {
   "cell_type": "markdown",
   "id": "37efa447",
   "metadata": {},
   "source": [
    "- Наиболее дорогие товары характерны для категорий строительство и хоз. принадлежности;\n",
    "- Самые дешёвые товары это растения и искусственные растения."
   ]
  },
  {
   "cell_type": "markdown",
   "id": "aae904c6",
   "metadata": {},
   "source": [
    "#### Анализ месячной сезонности "
   ]
  },
  {
   "cell_type": "markdown",
   "id": "3e1354b7",
   "metadata": {},
   "source": [
    "Рассмотрим месячную сезонность товаров по категориям. Ниже представлена гистограмма показывающая помесячное количество логов, разделённых на категории."
   ]
  },
  {
   "cell_type": "code",
   "execution_count": 47,
   "id": "215f1d96",
   "metadata": {},
   "outputs": [
    {
     "data": {
      "image/png": "[encoded data removed]",
      "text/plain": [
       "<Figure size 864x504 with 1 Axes>"
      ]
     },
     "metadata": {
      "needs_background": "light"
     },
     "output_type": "display_data"
    }
   ],
   "source": [
    "# месячная гистограмма количества логов по категориям\n",
    "plt.figure(figsize=(12, 7))\n",
    "\n",
    "ax = sns.histplot(\n",
    "    logs,\n",
    "    x=\"month\", hue=\"category\",\n",
    "    multiple=\"stack\",\n",
    "    palette=\"tab10\",\n",
    "    edgecolor=\".3\",\n",
    "    linewidth=.2, \n",
    "    bins=12\n",
    ")\n",
    "ax.set_title('Месячная гистограмма количества логов по категориям')\n",
    "ax.set_xlabel('Месяц')\n",
    "ax.set_ylabel('Количество логов');\n",
    "#sns.move_legend(ax, \"upper left\", bbox_to_anchor=(1.05, 1), title='Категории');"
   ]
  },
  {
   "cell_type": "markdown",
   "id": "a65806a6",
   "metadata": {},
   "source": [
    "Также построим помесячные круговые диаграммы, характеризующие общее количество заказанных товаров по категориям."
   ]
  },
  {
   "cell_type": "code",
   "execution_count": 48,
   "id": "a19ee902",
   "metadata": {},
   "outputs": [],
   "source": [
    "# функция для построения круговых диаграмм\n",
    "def pie(column, column_value, fig_x, fig_y):\n",
    "    fig, axs = plt.subplots(int(mth.ceil(logs[column].max()/2)), 2, figsize=(fig_x, fig_y))\n",
    "    for value, ax in zip(range(logs[column].min(), logs[column].max()+1), axs.ravel()):\n",
    "        data = logs[logs[column] == value].groupby('category')[column_value].sum().sort_values(ascending=False)\n",
    "        data_sum = data.sum()\n",
    "        # лимит занчения характеристики для перехода в категорию \"остальное\" на диаграмме\n",
    "        limit_value = data_sum * 0.10\n",
    "        data = data.drop(data[data < limit_value].index)\n",
    "        data[\"Остальное\"] = data_sum - data.sum()\n",
    "        ax.pie(data.sort_values(ascending=False).values, labels = data.index)\n",
    "        ax.set_title(value)"
   ]
  },
  {
   "cell_type": "code",
   "execution_count": 49,
   "id": "97f7a763",
   "metadata": {
    "scrolled": false
   },
   "outputs": [
    {
     "data": {
      "image/png": "[encoded data removed]",
      "text/plain": [
       "<Figure size 1152x2160 with 12 Axes>"
      ]
     },
     "metadata": {},
     "output_type": "display_data"
    }
   ],
   "source": [
    "pie('month', 'quantity', 16, 30)"
   ]
  },
  {
   "cell_type": "markdown",
   "id": "3a08b13e",
   "metadata": {},
   "source": [
    "- Наблюдается повышенное количество покупок в ноябре и декабре (это конец 2018 года).\n",
    "- Популярность растений выше обычного с марта по май - особенно в мае. Скорее всего интерес проявляют дачники, покупая рассаду. \n",
    "- Заинтересованность искусственными растениями проявляется в октябре и ноябре, что может быть связано с подготовкой к новому году.\n",
    "- В декабре и январе немного увеличиваются продажи кухонных, хозяйственных принадлежностей и товаров категории \"Дом\" что может быть связано с новогодними праздниками. Домашняя утварь - распространённый подарок.\n",
    "- В остальных категориях месячная сезонность не проявляется."
   ]
  },
  {
   "cell_type": "markdown",
   "id": "e87b0bd9",
   "metadata": {},
   "source": [
    "#### Анализ часовой сезонности  "
   ]
  },
  {
   "cell_type": "markdown",
   "id": "bf60dac8",
   "metadata": {},
   "source": [
    "Рассмотрим часовую сезонность товаров по категориям. Ниже представлена гистограмма показывающая почасовое количество логов, разделённых на категории."
   ]
  },
  {
   "cell_type": "code",
   "execution_count": 50,
   "id": "cef7fd1d",
   "metadata": {},
   "outputs": [
    {
     "data": {
      "image/png": "[encoded data removed]",
      "text/plain": [
       "<Figure size 864x504 with 1 Axes>"
      ]
     },
     "metadata": {
      "needs_background": "light"
     },
     "output_type": "display_data"
    }
   ],
   "source": [
    "plt.figure(figsize=(12, 7))\n",
    "ax = sns.histplot(\n",
    "    logs,\n",
    "    x=logs[\"date\"].dt.hour, hue=\"category\",\n",
    "    multiple=\"stack\",\n",
    "    palette=\"tab10\",\n",
    "    edgecolor=\".3\",\n",
    "    linewidth=.2, \n",
    "    bins=24\n",
    ")\n",
    "ax.set_title('Часовая гистограмма количества логов по категориям')\n",
    "ax.set_xlabel('Час')\n",
    "ax.set_ylabel('Количество логов');"
   ]
  },
  {
   "cell_type": "code",
   "execution_count": 51,
   "id": "79f4c107",
   "metadata": {
    "scrolled": false
   },
   "outputs": [
    {
     "data": {
      "image/png": "[encoded data removed]",
      "text/plain": [
       "<Figure size 1008x4320 with 24 Axes>"
      ]
     },
     "metadata": {},
     "output_type": "display_data"
    }
   ],
   "source": [
    "pie('hour', 'quantity', 14, 60)"
   ]
  },
  {
   "cell_type": "markdown",
   "id": "ac95d80d",
   "metadata": {},
   "source": [
    "- активность покупателей возрастает с 7 утра и достигает в 11 часов утра \"плато\", которое длится до 17 часов;\n",
    "- наблюдается заметный провал активности в 18 часов, и это может быть связано с тем, что потребители находятся на пути с работы домой;\n",
    "- после 18 00 клиенты проявляют меньшую активность - дома нужно отдыхать=);\n",
    "- в утренние часы, кроме растений популярны хоз. принадлежности;\n",
    "- часовая сезонность в остальных категориях не обнаружилась."
   ]
  },
  {
   "cell_type": "markdown",
   "id": "617ea9f5",
   "metadata": {},
   "source": [
    "#### Зависимость выручки заказа от количества товаров"
   ]
  },
  {
   "cell_type": "code",
   "execution_count": 52,
   "id": "b4956a52",
   "metadata": {},
   "outputs": [],
   "source": [
    "orders = logs.groupby('order_id')[['quantity', 'price', 'revenue']].sum()"
   ]
  },
  {
   "cell_type": "code",
   "execution_count": 53,
   "id": "c1fa89c1",
   "metadata": {},
   "outputs": [
    {
     "data": {
      "image/png": "[encoded data removed]",
      "text/plain": [
       "<Figure size 720x504 with 1 Axes>"
      ]
     },
     "metadata": {
      "needs_background": "light"
     },
     "output_type": "display_data"
    }
   ],
   "source": [
    "# построение графика\n",
    "plt.figure(figsize=(10, 7))\n",
    "ax = sns.scatterplot(data=orders, x='revenue',\n",
    "                    y='quantity')\n",
    "ax.set_title('График зависимости выручки заказа от количества товаров в нём')\n",
    "ax.set_xlabel('Выручка')\n",
    "ax.set_ylabel('Количество товаров');"
   ]
  },
  {
   "cell_type": "markdown",
   "id": "d87c4f36",
   "metadata": {},
   "source": [
    "Чёткой зависимости между количеством товаров и выручкой заказа не наблюдается."
   ]
  },
  {
   "cell_type": "markdown",
   "id": "49f9d0e3",
   "metadata": {},
   "source": [
    "## Проверка статистических гипотез "
   ]
  },
  {
   "cell_type": "markdown",
   "id": "b2546d5e",
   "metadata": {},
   "source": [
    "### Проверка сезонности доли товаров категории \"Растения\" "
   ]
  },
  {
   "cell_type": "markdown",
   "id": "89bb9f79",
   "metadata": {},
   "source": [
    "Проверим статистическую значимость различия доли купленных товаров между периодом за март-июнь с остальными месяцам.\n",
    "\n",
    "**Сформулируем гипотезы:**\n",
    "\n",
    "- **H0** - *доля купленных товаров категории Растения с марта по май **>** доли купленных товаров с ноября по февраль и с июня по октябрь в объединении.*\n",
    "\n",
    "- **H1** - *доля купленных товаров категории Растения с марта по май **<=** доли купленных товаров с ноября по февраль и с июня по октябрь в объединении.*\n",
    "\n",
    "Сформируем ряды данных для статистического теста. В первую группу войдут купленные товары с марта по май, а во вторую в остальные месяцы."
   ]
  },
  {
   "cell_type": "code",
   "execution_count": 54,
   "id": "830957f8",
   "metadata": {},
   "outputs": [],
   "source": [
    "first_group_plants = logs[(logs['month'] >= 3) & (logs['month'] <= 5) & (logs['category'] == 'Растения')]['quantity'].sum()\n",
    "second_group_plants = logs[((logs['month'] >= 6) | (logs['month'] <= 2))  & (logs['category'] == 'Растения')]['quantity'].sum()\n",
    "\n",
    "first_group = logs[(logs['month'] >= 3) & (logs['month'] <= 5)]['quantity'].sum()\n",
    "second_group = logs[(logs['month'] >= 6) | (logs['month'] <= 2)]['quantity'].sum()"
   ]
  },
  {
   "cell_type": "code",
   "execution_count": 55,
   "id": "1cd4cc18",
   "metadata": {},
   "outputs": [
    {
     "name": "stdout",
     "output_type": "stream",
     "text": [
      "Доля категории \"Растения\" первой группы: 63%\n",
      "Доля категории \"Растения\" второй группы: 27%\n"
     ]
    }
   ],
   "source": [
    "print('Доля категории \"Растения\" первой группы: {:.0%}'.format(first_group_plants / first_group))\n",
    "print('Доля категории \"Растения\" второй группы: {:.0%}'.format(second_group_plants / second_group))"
   ]
  },
  {
   "cell_type": "code",
   "execution_count": 56,
   "id": "0c8cd3c3",
   "metadata": {},
   "outputs": [
    {
     "name": "stdout",
     "output_type": "stream",
     "text": [
      "p-значение:  0.0\n",
      "Не отвергаем нулевую гипотезу \n",
      "Доля купленных товаров категории Растения с марта по май > \n",
      "доли купленных товаров с ноября по февраль и с июня по октябрь в объединении.\n"
     ]
    }
   ],
   "source": [
    "alpha = .05 # критический уровень статистической значимости\n",
    "\n",
    "# пропорция успехов в первой группе:\n",
    "p1 = first_group_plants/first_group\n",
    "\n",
    "# пропорция успехов во второй группе:\n",
    "p2 = second_group_plants/second_group\n",
    "\n",
    "# пропорция успехов в комбинированном датасете:\n",
    "p_combined = (first_group_plants + second_group_plants) / (first_group + second_group)\n",
    "\n",
    "#разница пропорций в датасетах\n",
    "difference = p1 - p2\n",
    "\n",
    "#считаем статистику в ст.отклонениях стандартного нормального распределения\n",
    "z_value = difference / mth.sqrt(p_combined * (1 - p_combined) * (1/first_group + 1/second_group))\n",
    "\n",
    "#задаем стандартное нормальное распределение (среднее 0, ст.отклонение 1)\n",
    "distr = st.norm(0, 1)\n",
    "\n",
    "p_value = (1 - distr.cdf(abs(z_value)))\n",
    "print('p-значение: ', p_value)\n",
    "\n",
    "# тест односторонний вправо:\n",
    "# НЕ отвергаем гипотезу только тогда, когда выборочное среднее значимо больше предполагаемого значения\n",
    "if (p_value < alpha) and (p1 > p2):\n",
    "    print('Не отвергаем нулевую гипотезу',\n",
    "         \"\\nДоля купленных товаров категории Растения с марта по май >\",\n",
    "          \"\\nдоли купленных товаров с ноября по февраль и с июня по октябрь в объединении.\")\n",
    "else:\n",
    "    print('Отвергаем нулевую гипотезу',\n",
    "         \"\\nДоля купленных товаров категории Растения с марта по май <=\",\n",
    "          \"\\nдоли купленных товаров с ноября по февраль и с июня по октябрь в объединении.\")"
   ]
  },
  {
   "cell_type": "markdown",
   "id": "4422f175",
   "metadata": {},
   "source": [
    "### Проверка сезонности средней выручки товаров в категории \"Растения\""
   ]
  },
  {
   "cell_type": "markdown",
   "id": "ec32e2a9",
   "metadata": {},
   "source": [
    "Проверим статистическую значимость различия средней выручки товаров категории растения между периодом за март-июнь (первая группа) с остальными месяцам (вторая группа).\n",
    "\n",
    "**Сформулируем гипотезы:**\n",
    "\n",
    "- **H0** - *средняя выручка купленных товаров категории Растения с марта по май (первая группа) **>** средней выручки купленных товаров с ноября по февраль и с июня по октябрь в объединении (вторая группа).*\n",
    "\n",
    "- **H1** - *средняя выручка купленных товаров категории Растения с марта по май (первая группа) **<=** средней выручки купленных товаров с ноября по февраль и с июня по октябрь в объединении (вторая группа).*\n",
    "\n",
    "В данном разделе будет применен односторонний статистический t-test на проверку равенства среднего генеральных совокупностей.\n",
    "\n",
    "Сформируем ряды данных для статистического теста."
   ]
  },
  {
   "cell_type": "code",
   "execution_count": 57,
   "id": "07209b47",
   "metadata": {},
   "outputs": [],
   "source": [
    "# выручка категории Растения с марта по май\n",
    "first_group = list(logs[(logs['month'] >= 3) & (logs['month'] <= 5) & (logs['category'] == 'Растения')]['revenue'])\n",
    "\n",
    "# выручка категории Растения за оставшиеся месяцы\n",
    "second_group = list(logs[((logs['month'] >= 6) | (logs['month'] <= 2))  & (logs['category'] == 'Растения')]['revenue'])"
   ]
  },
  {
   "cell_type": "code",
   "execution_count": 58,
   "id": "f0d00cc8",
   "metadata": {},
   "outputs": [
    {
     "name": "stdout",
     "output_type": "stream",
     "text": [
      "Среднее первой группы: 207\n",
      "Среднее второй группы: 300\n",
      "Дисперсия первой группы:  137,595\n",
      "Дисперсия второй группы:  625,035\n"
     ]
    }
   ],
   "source": [
    "print('Среднее первой группы: {:.0f}'.format(np.mean(first_group)))\n",
    "print('Среднее второй группы: {:.0f}'.format(np.mean(second_group)))\n",
    "print('Дисперсия первой группы: {: ,.0f}'.format(np.var(first_group)))\n",
    "print('Дисперсия второй группы: {: ,.0f}'.format(np.var(second_group)))"
   ]
  },
  {
   "cell_type": "markdown",
   "id": "a3a0996a",
   "metadata": {},
   "source": [
    "Несмотря на большую долю продажи товаров в марте-июне, средняя выручка заказов за этот период меньше. \n",
    "Дисперсии в группах различаются сильно, и это нужно учитывать, поэтому в статтистическом тесте прописывем `equal_var = False`."
   ]
  },
  {
   "cell_type": "code",
   "execution_count": 59,
   "id": "dbedb86a",
   "metadata": {},
   "outputs": [
    {
     "name": "stdout",
     "output_type": "stream",
     "text": [
      "p-значение: 0.0006503105574927675\n",
      "Отвергаем нулевую гипотезу \n",
      "Средняя выручка купленных товаров категории Растения с марта по июнь (первая группа) <= \n",
      "средней выручки купленных товаров с ноября по февраль и с июня по октябрь в объединении (вторая группа).\n"
     ]
    }
   ],
   "source": [
    "# статистический t-test тест\n",
    "\n",
    "alpha = .05\n",
    "\n",
    "results = st.ttest_ind(\n",
    "                        first_group,\n",
    "                        second_group,\n",
    "                        equal_var = False\n",
    "                        )\n",
    "# ваш код: проверьте гипотезу о равенстве средних двух независимых совокупностей\n",
    "\n",
    "print('p-значение:', results.pvalue/2)\n",
    "\n",
    "if (results.pvalue < alpha) and (np.mean(first_group) > np.mean(second_group)):\n",
    "    print(\"Не получилось отвергнуть нулевую гипотезу\",\n",
    "         \"\\nСредняя выручка купленных товаров категории Растения с марта по май (первая группа) >\",\n",
    "          \"\\nсредней выручки купленных товаров с ноября по февраль и с июля по октябрь в объединении (вторая группа).\")\n",
    "else:\n",
    "    print(\"Отвергаем нулевую гипотезу\",\n",
    "         \"\\nСредняя выручка купленных товаров категории Растения с марта по июнь (первая группа) <=\",\n",
    "          \"\\nсредней выручки купленных товаров с ноября по февраль и с июня по октябрь в объединении (вторая группа).\")"
   ]
  },
  {
   "cell_type": "markdown",
   "id": "94020b3f",
   "metadata": {},
   "source": [
    "Средняя выручка купленных товаров категории Растения с марта по июнь (первая группа) **<=** средней выручки купленных товаров с ноября по апрель и с июля по октябрь в объеднении (вторая группа) несмотря на увеличение доли количества заказанных товаров в первой группе. \n",
    "\n",
    "Давайте подумаем почему так могло произойти. Скорее, всего снижение выручки за сезон март-июнь произошло из-за увеличения покупок товаров дешевой подкатегории. При категоризации данных достаточно часто в наиеновании товара попадалось слово \"Рассада\", которая в итоге была внесена в категорию \"Растения\". Рассада, как правило, менее дорогая, чем уже повзрослевшее растение. Проверим эту гипотезу.\n",
    "\n",
    "Отфильтруем датафрейм по категории \"Растения\". Именно там вся рассада."
   ]
  },
  {
   "cell_type": "code",
   "execution_count": 60,
   "id": "4380d6cc",
   "metadata": {},
   "outputs": [],
   "source": [
    "logs_plants= logs[logs['category'] == 'Растения']"
   ]
  },
  {
   "cell_type": "markdown",
   "id": "15a04155",
   "metadata": {},
   "source": [
    "Категаризируем её с помощтю функции set_product_category_rassada. Она сделеана по тому же принципу, что и ранее когда производилась общая категоризация."
   ]
  },
  {
   "cell_type": "code",
   "execution_count": 61,
   "id": "bac1825e",
   "metadata": {},
   "outputs": [],
   "source": [
    "def set_product_category_rassada(text):\n",
    "    # выделение нормальной формы\n",
    "    text = ' '.join(morph.parse((word))[0].normal_form for word in text.split())\n",
    "    # цикл пробегающий по словам в наименовании и по словарю\n",
    "    for word in text.split():\n",
    "        if word == 'рассада':\n",
    "            return 'Рассада'\n",
    "    return 'Растения'"
   ]
  },
  {
   "cell_type": "code",
   "execution_count": 62,
   "id": "3d9460a2",
   "metadata": {},
   "outputs": [],
   "source": [
    "# применяем функцию\n",
    "logs_plants['category'] = logs_plants.apply(lambda x: set_product_category_rassada(x['product']), axis=1)"
   ]
  },
  {
   "cell_type": "markdown",
   "id": "110aebaa",
   "metadata": {},
   "source": [
    "Построим гистограмму распределения с выделением подкатегории \"Рассада\"."
   ]
  },
  {
   "cell_type": "code",
   "execution_count": 63,
   "id": "6307be42",
   "metadata": {},
   "outputs": [
    {
     "data": {
      "image/png": "[encoded data removed]",
      "text/plain": [
       "<Figure size 864x504 with 1 Axes>"
      ]
     },
     "metadata": {
      "needs_background": "light"
     },
     "output_type": "display_data"
    }
   ],
   "source": [
    "# месячная гистограмма количества логов по категориям растения-рассада\n",
    "plt.figure(figsize=(12, 7))\n",
    "ax = sns.histplot(\n",
    "    logs_plants,\n",
    "    x=\"month\", hue=\"category\",\n",
    "    multiple=\"stack\",\n",
    "    palette=\"tab10\",\n",
    "    edgecolor=\".3\",\n",
    "    linewidth=.2, \n",
    "    bins=12\n",
    ");\n",
    "ax.set_title('Месячная гистограмма количества логов по категориям Растения-Рассада')\n",
    "ax.set_xlabel('Месяц')\n",
    "ax.set_ylabel('Количество логов');\n",
    "#sns.move_legend(ax, \"upper left\", title='Категории');"
   ]
  },
  {
   "cell_type": "markdown",
   "id": "1e3eac73",
   "metadata": {},
   "source": [
    "Действительно, в этот сезон в разы возросли покупки рассады. Правда только за апрель и май.\n",
    "\n",
    "Рассмотрим средние цены подкатегорий."
   ]
  },
  {
   "cell_type": "code",
   "execution_count": 64,
   "id": "3c220a5c",
   "metadata": {},
   "outputs": [
    {
     "data": {
      "text/plain": [
       "category\n",
       "Рассада     P 178\n",
       "Растения    P 267\n",
       "Name: revenue, dtype: object"
      ]
     },
     "execution_count": 64,
     "metadata": {},
     "output_type": "execute_result"
    }
   ],
   "source": [
    "logs_plants.groupby('category')['revenue'].mean().map('P{: ,.0f}'.format)"
   ]
  },
  {
   "cell_type": "markdown",
   "id": "caaec3f9",
   "metadata": {},
   "source": [
    "Рассада действительно значительно дешевле."
   ]
  },
  {
   "cell_type": "markdown",
   "id": "62517cbd",
   "metadata": {},
   "source": [
    "###  Заказы с одним товаром и несколькими"
   ]
  },
  {
   "cell_type": "markdown",
   "id": "8aafa5b9",
   "metadata": {},
   "source": [
    "Проверим статистическую значимость различия средней выручки заказов с одним товаром со средней выручки заказов, в которых товаров больше одного.\n",
    "\n",
    "**Сформулируем гипотезы:**\n",
    "\n",
    "- **H0** - *средняя выручка заказов с одним товаром **>** средней выручки заказов, в которых товаров больше одного.*\n",
    "\n",
    "- **H1** - *средняя выручка заказов с одним товаром **<** средней выручки заказов, в которых товаров больше одного.*\n",
    "\n",
    "- **H2** - *средняя выручка заказов с одним товаром **=** средней выручки заказов, в которых товаров больше одного.*\n",
    "\n",
    "В данном разделе будет применен статистический t-test на проверку равенства среднего генеральных совокупностей.\n",
    "\n",
    "Сформируем ряды данных для статистического теста."
   ]
  },
  {
   "cell_type": "code",
   "execution_count": 65,
   "id": "bfe68a14",
   "metadata": {},
   "outputs": [],
   "source": [
    "orders_sum = logs.groupby('order_id')[['quantity', 'revenue']].sum().reset_index()\n",
    "order_one = list(orders_sum[orders_sum['quantity'] == 1]['revenue'])\n",
    "order_more = list(orders_sum[orders_sum['quantity'] > 1]['revenue'])"
   ]
  },
  {
   "cell_type": "code",
   "execution_count": 66,
   "id": "87d829a5",
   "metadata": {},
   "outputs": [
    {
     "name": "stdout",
     "output_type": "stream",
     "text": [
      "Среднее группы с одним заказом: 1057\n",
      "Среднее группы с заказами > 1: 1778\n",
      "Дисперсия группы с одним заказом:  1,871,778\n",
      "Дисперсия группы с заказами > 1:  15,451,230\n"
     ]
    }
   ],
   "source": [
    "print('Среднее группы с одним заказом: {:.0f}'.format(np.mean(order_one)))\n",
    "print('Среднее группы с заказами > 1: {:.0f}'.format(np.mean(order_more)))\n",
    "print('Дисперсия группы с одним заказом: {: ,.0f}'.format(np.var(order_one)))\n",
    "print('Дисперсия группы с заказами > 1: {: ,.0f}'.format(np.var(order_more)))"
   ]
  },
  {
   "cell_type": "code",
   "execution_count": 67,
   "id": "7078d70a",
   "metadata": {},
   "outputs": [
    {
     "name": "stdout",
     "output_type": "stream",
     "text": [
      "p-значение: 2.3408324388386094e-08\n",
      "Отвергаем нулевую и вторую гипотезы \n",
      "Cредняя выручка заказов с одним товаром < средней выручки заказов, в которых товаров больше одного.\n"
     ]
    }
   ],
   "source": [
    "alpha = .05\n",
    "\n",
    "results = st.ttest_ind(\n",
    "                        order_one,\n",
    "                        order_more,\n",
    "                        equal_var=False\n",
    "                        )\n",
    "# ваш код: проверьте гипотезу о равенстве средних двух независимых совокупностей\n",
    "\n",
    "print('p-значение:', results.pvalue/2)\n",
    "\n",
    "if (results.pvalue < alpha) and (np.mean(order_one) > np.mean(order_more)):\n",
    "    print(\"Отвергаем первую и вторую гипотезы\",\n",
    "         \"\\nCредняя выручка заказов с одним товаром > средней выручки заказов, в которых товаров больше одного.\")\n",
    "elif (results.pvalue < alpha) and (np.mean(order_one) < np.mean(order_more)):\n",
    "    print(\"Отвергаем нулевую и вторую гипотезы\",\n",
    "          \"\\nCредняя выручка заказов с одним товаром < средней выручки заказов, в которых товаров больше одного.\")\n",
    "else:\n",
    "    print(\"Отвергаем нулевую и первую гипотезы\",\n",
    "         \"\\nCредняя выручка заказов с одним товаром = средней выручки заказов, в которых товаров больше одного.\")"
   ]
  },
  {
   "cell_type": "markdown",
   "id": "078145bf",
   "metadata": {},
   "source": [
    "Чёткой зависимости цены заказа от количества товаров нет, однако, средняя выручка с несколькими товарами в заказе всё же выше."
   ]
  },
  {
   "cell_type": "markdown",
   "id": "527d0516",
   "metadata": {},
   "source": [
    "## Выводы "
   ]
  },
  {
   "cell_type": "markdown",
   "id": "08a3d0f8",
   "metadata": {},
   "source": [
    "**Обзор данных:**\n",
    "- все столбцы присутствуют;\n",
    "- необходимо обработать формат даты;\n",
    "- в таблице 6737 логов.\n",
    "\n",
    "**Предобработка данных:**\n",
    "- изменён тип данных столбца с датами;\n",
    "- добавлены столбцы с месяцами и часами с целью дальнейшего анализа сезонности.\n",
    "\n",
    "**Исследовательский анализ данных:**\n",
    "- анализ полноты данных:\n",
    "    - данные собраны с 2018-10-01 00:00:00 по 2019-10-31 16:00:00;\n",
    "    - данные полные;\n",
    "    - в мае и июне наблюдается две волны всплеска количества логов;\n",
    "    - удалены логи за октябрь 2018.\n",
    "- исключение выдающихся значений:\n",
    "    - суммарно было удалено 7.6% логов. Было принято, что удалённые покупатели это оптовики. Таким образом, для анализа остались только обычные потребители.\n",
    "- категоризация товаров:\n",
    "    - 'Искусственные растения'\n",
    "    - 'Растения'\n",
    "    - 'Хозяйственные принадлежности' - товары для активных действий по дому (щётки, тазики, сумки).\n",
    "    - 'Ванная и туалет'\n",
    "    - 'Чистящие средства'\n",
    "    - 'Дом' - вещи для обеспечения уюта в доме, как правило статичные (постельное бельё, мебель, декор).\n",
    "    - 'Кухня'\n",
    "    - 'Строительство'\n",
    "    - 'Другое' (те товары, которые не вошли в категорию выше)\n",
    "- изучение распределения количества товаров по заказам и покупателям:\n",
    "    - всего 2279 покупателей/я;\n",
    "    - всего 2552 заказа/ов;\n",
    "    - среднее количество заказов на покупателя: 1.12;\n",
    "    - среднее количество товаров в заказе 5.80;\n",
    "    - наиболее популярными категориями оказались \"Растения\", \"Кухня\", \"Искусственные растения\".\n",
    "- анализ выручки каждой категории:\n",
    "    - несмотря на популярность растений наибольшую выручку принесли хозяйственные товары;\n",
    "    - наибольшая средняя выручка характерна для категории \"Строительство\" и \"Хозяйственные принадлежности\";\n",
    "    - наиболее дорогие товары характерны для категорий строительство и хоз. принадлежности;\n",
    "    - самые дешёвые товары это растения и искусственные растения;\n",
    "    - чёткой зависимости между количеством товаров и выручкой заказа не наблюдается.\n",
    "- анализ сезонности:\n",
    "    - месячная сезонность:\n",
    "        - наблюдается повышенное количество покупок в ноябре и декабре;\n",
    "        - популярность растений выше обычного с марта по май - особенно в мае. Скорее всего интерес проявляют дачники, покупая рассаду;\n",
    "        - заинтересованность искуственными растениями проявляется в октябре и ноябре, что может быть связано с подготовкой к новому году;\n",
    "        - в декабре и январе немного увеличиваются продажи кухонных, хозяйственных принадлежностей и товаров категории \"Дом\" что может быть связано с новогодними праздниками;\n",
    "        - в остальных категориях месячная сезонность не проявляется;\n",
    "    - часовая сезонность:\n",
    "        - активность покупателей возрастает с 7 утра и достигает в 11 часов утра \"плато\", которое длится до 17 часов;\n",
    "        - наблюдается заметный провал активности в 18 часов, и это может быть связано с тем, что потребители находятся на пути с работы домой;\n",
    "        - после 18 00 клиенты проявляют меньшую активность;\n",
    "        - часовая сезонность в категориях не обнаружилась.    \n",
    "\n",
    "    \n",
    "**Статистические гипотезы:**\n",
    "- Проверка сезонности доли товаров в популярной категории:\n",
    "    - Доля купленных товаров категории Растения с марта по май > доли купленных товаров с ноября по февраль и с июня по октябрь в объединении.\n",
    "- Проверка сезонности средней выручки товаров в популярной категории:\n",
    "    - Средняя выручка купленных товаров категории Растения с марта по июнь (первая группа) <= средней выручки купленных товаров с ноября по апрель и с июля по октябрь в объединении (вторая группа) несмотря на увеличение доли количества заказанных товаров в первой группе.\n",
    "    - Выделена подкатегория \"Рассада\", которая набирает популярность в апреле и мае и из-за дешевизны товаров  уменьшает среднюю выручку всей категории \"Растения\".\n",
    "- Проверка статистической значимости различия средней выручки заказов с одним товаром со средней выручки заказов, в которых товаров больше одного:\n",
    "    - Cредняя выручка заказов с одним товаром < средней выручки заказов, в которых товаров больше одного.\n",
    "    - Чёткой зависимости цены заказа от количества товаров нет, однако, средняя выручка с несколькими товарами в заказе всё же выше."
   ]
  }
 ],
 "metadata": {
  "ExecuteTimeLog": [
   {
    "duration": 1287,
    "start_time": "2022-09-04T09:03:12.465Z"
   },
   {
    "duration": 716,
    "start_time": "2022-09-04T09:03:13.754Z"
   },
   {
    "duration": 4,
    "start_time": "2022-09-04T09:03:14.471Z"
   },
   {
    "duration": 54,
    "start_time": "2022-09-04T09:03:14.477Z"
   },
   {
    "duration": 35,
    "start_time": "2022-09-04T09:03:16.942Z"
   },
   {
    "duration": 13,
    "start_time": "2022-09-04T09:04:34.308Z"
   },
   {
    "duration": 5,
    "start_time": "2022-09-04T09:04:47.173Z"
   },
   {
    "duration": 13,
    "start_time": "2022-09-04T09:04:54.942Z"
   },
   {
    "duration": 21,
    "start_time": "2022-09-04T09:08:10.852Z"
   },
   {
    "duration": 9,
    "start_time": "2022-09-04T09:09:36.660Z"
   },
   {
    "duration": 5,
    "start_time": "2022-09-04T09:10:41.830Z"
   },
   {
    "duration": 13,
    "start_time": "2022-09-04T09:10:57.397Z"
   },
   {
    "duration": 5,
    "start_time": "2022-09-04T09:11:05.507Z"
   },
   {
    "duration": 5,
    "start_time": "2022-09-04T09:11:08.817Z"
   },
   {
    "duration": 5,
    "start_time": "2022-09-04T09:11:27.600Z"
   },
   {
    "duration": 22,
    "start_time": "2022-09-04T09:21:03.305Z"
   },
   {
    "duration": 4,
    "start_time": "2022-09-04T09:25:30.270Z"
   },
   {
    "duration": 4,
    "start_time": "2022-09-04T09:26:00.894Z"
   },
   {
    "duration": 3,
    "start_time": "2022-09-04T09:28:02.201Z"
   },
   {
    "duration": 4,
    "start_time": "2022-09-04T09:28:24.912Z"
   },
   {
    "duration": 3,
    "start_time": "2022-09-04T09:28:27.571Z"
   },
   {
    "duration": 2,
    "start_time": "2022-09-04T09:28:34.832Z"
   },
   {
    "duration": 107,
    "start_time": "2022-09-04T09:28:40.704Z"
   },
   {
    "duration": 3,
    "start_time": "2022-09-04T09:28:52.501Z"
   },
   {
    "duration": 3,
    "start_time": "2022-09-04T09:28:53.343Z"
   },
   {
    "duration": 6,
    "start_time": "2022-09-04T09:28:53.850Z"
   },
   {
    "duration": 6,
    "start_time": "2022-09-04T09:29:18.056Z"
   },
   {
    "duration": 5,
    "start_time": "2022-09-04T09:30:02.502Z"
   },
   {
    "duration": 4,
    "start_time": "2022-09-04T09:30:03.284Z"
   },
   {
    "duration": 10,
    "start_time": "2022-09-04T09:30:06.298Z"
   },
   {
    "duration": 3,
    "start_time": "2022-09-04T09:31:22.897Z"
   },
   {
    "duration": 4,
    "start_time": "2022-09-04T09:31:24.244Z"
   },
   {
    "duration": 4,
    "start_time": "2022-09-04T09:31:30.424Z"
   },
   {
    "duration": 391,
    "start_time": "2022-09-04T09:32:20.128Z"
   },
   {
    "duration": 102,
    "start_time": "2022-09-04T09:32:55.633Z"
   },
   {
    "duration": 73,
    "start_time": "2022-09-04T09:32:59.720Z"
   },
   {
    "duration": 6,
    "start_time": "2022-09-04T09:33:05.668Z"
   },
   {
    "duration": 4,
    "start_time": "2022-09-04T09:33:40.388Z"
   },
   {
    "duration": 2,
    "start_time": "2022-09-04T09:33:53.480Z"
   },
   {
    "duration": 5,
    "start_time": "2022-09-04T09:33:58.421Z"
   },
   {
    "duration": 3,
    "start_time": "2022-09-04T09:34:18.036Z"
   },
   {
    "duration": 4,
    "start_time": "2022-09-04T09:34:19.216Z"
   },
   {
    "duration": 6,
    "start_time": "2022-09-04T09:34:32.655Z"
   },
   {
    "duration": 4,
    "start_time": "2022-09-04T09:34:34.244Z"
   },
   {
    "duration": 13,
    "start_time": "2022-09-04T09:34:40.260Z"
   },
   {
    "duration": 11,
    "start_time": "2022-09-04T09:34:41.270Z"
   },
   {
    "duration": 4,
    "start_time": "2022-09-04T09:34:58.302Z"
   },
   {
    "duration": 86,
    "start_time": "2022-09-04T09:38:07.350Z"
   },
   {
    "duration": 3,
    "start_time": "2022-09-04T09:38:13.648Z"
   },
   {
    "duration": 4,
    "start_time": "2022-09-04T09:38:22.732Z"
   },
   {
    "duration": 2,
    "start_time": "2022-09-04T09:39:15.036Z"
   },
   {
    "duration": 81,
    "start_time": "2022-09-04T09:39:16.242Z"
   },
   {
    "duration": 62,
    "start_time": "2022-09-04T09:40:16.109Z"
   },
   {
    "duration": 83,
    "start_time": "2022-09-04T09:40:27.265Z"
   },
   {
    "duration": 3109,
    "start_time": "2022-09-04T09:44:34.236Z"
   },
   {
    "duration": 11,
    "start_time": "2022-09-04T09:44:48.207Z"
   },
   {
    "duration": 8,
    "start_time": "2022-09-04T09:45:13.281Z"
   },
   {
    "duration": 13,
    "start_time": "2022-09-04T09:45:33.133Z"
   },
   {
    "duration": 65,
    "start_time": "2022-09-04T09:45:34.678Z"
   },
   {
    "duration": 7,
    "start_time": "2022-09-04T09:45:42.736Z"
   },
   {
    "duration": 2,
    "start_time": "2022-09-04T09:45:43.536Z"
   },
   {
    "duration": 84,
    "start_time": "2022-09-04T09:45:44.547Z"
   },
   {
    "duration": 11,
    "start_time": "2022-09-04T09:45:59.016Z"
   },
   {
    "duration": 75,
    "start_time": "2022-09-04T09:46:00.534Z"
   },
   {
    "duration": 3,
    "start_time": "2022-09-04T09:46:02.348Z"
   },
   {
    "duration": 95,
    "start_time": "2022-09-04T09:46:03.174Z"
   },
   {
    "duration": 76,
    "start_time": "2022-09-04T10:07:52.659Z"
   },
   {
    "duration": 3,
    "start_time": "2022-09-04T10:08:04.042Z"
   },
   {
    "duration": 8,
    "start_time": "2022-09-04T10:08:11.540Z"
   },
   {
    "duration": 9,
    "start_time": "2022-09-04T10:08:18.430Z"
   },
   {
    "duration": 5,
    "start_time": "2022-09-04T10:08:23.108Z"
   },
   {
    "duration": 10,
    "start_time": "2022-09-04T10:09:37.606Z"
   },
   {
    "duration": 13,
    "start_time": "2022-09-04T10:09:56.857Z"
   },
   {
    "duration": 10,
    "start_time": "2022-09-04T10:10:06.184Z"
   },
   {
    "duration": 3,
    "start_time": "2022-09-04T10:10:07.607Z"
   },
   {
    "duration": 4,
    "start_time": "2022-09-04T10:10:08.581Z"
   },
   {
    "duration": 2,
    "start_time": "2022-09-04T10:10:39.205Z"
   },
   {
    "duration": 4,
    "start_time": "2022-09-04T10:10:46.382Z"
   },
   {
    "duration": 2,
    "start_time": "2022-09-04T10:12:08.705Z"
   },
   {
    "duration": 3,
    "start_time": "2022-09-04T10:12:31.385Z"
   },
   {
    "duration": 13,
    "start_time": "2022-09-04T10:12:37.150Z"
   },
   {
    "duration": 2,
    "start_time": "2022-09-04T10:16:21.637Z"
   },
   {
    "duration": 8,
    "start_time": "2022-09-04T10:16:23.306Z"
   },
   {
    "duration": 11,
    "start_time": "2022-09-04T10:16:36.805Z"
   },
   {
    "duration": 3,
    "start_time": "2022-09-04T10:16:59.442Z"
   },
   {
    "duration": 3,
    "start_time": "2022-09-04T10:17:00.670Z"
   },
   {
    "duration": 8,
    "start_time": "2022-09-04T10:17:01.696Z"
   },
   {
    "duration": 3,
    "start_time": "2022-09-04T10:17:34.688Z"
   },
   {
    "duration": 9,
    "start_time": "2022-09-04T10:19:12.336Z"
   },
   {
    "duration": 5,
    "start_time": "2022-09-04T10:20:47.436Z"
   },
   {
    "duration": 4,
    "start_time": "2022-09-04T11:20:47.086Z"
   },
   {
    "duration": 860,
    "start_time": "2022-09-04T11:20:47.091Z"
   },
   {
    "duration": 4,
    "start_time": "2022-09-04T11:20:47.953Z"
   },
   {
    "duration": 39,
    "start_time": "2022-09-04T11:20:47.959Z"
   },
   {
    "duration": 14,
    "start_time": "2022-09-04T11:20:48.000Z"
   },
   {
    "duration": 8,
    "start_time": "2022-09-04T11:20:48.015Z"
   },
   {
    "duration": 5,
    "start_time": "2022-09-04T11:20:48.024Z"
   },
   {
    "duration": 91,
    "start_time": "2022-09-04T11:20:48.030Z"
   },
   {
    "duration": 3,
    "start_time": "2022-09-04T11:20:48.122Z"
   },
   {
    "duration": 6,
    "start_time": "2022-09-04T11:20:48.127Z"
   },
   {
    "duration": 4,
    "start_time": "2022-09-04T11:20:48.135Z"
   },
   {
    "duration": 3,
    "start_time": "2022-09-04T11:23:05.149Z"
   },
   {
    "duration": 3,
    "start_time": "2022-09-04T11:23:06.345Z"
   },
   {
    "duration": 13,
    "start_time": "2022-09-04T11:23:07.452Z"
   },
   {
    "duration": 3,
    "start_time": "2022-09-04T11:23:10.674Z"
   },
   {
    "duration": 5,
    "start_time": "2022-09-04T11:23:12.592Z"
   },
   {
    "duration": 3,
    "start_time": "2022-09-04T11:23:16.813Z"
   },
   {
    "duration": 3,
    "start_time": "2022-09-04T11:23:31.335Z"
   },
   {
    "duration": 3,
    "start_time": "2022-09-04T11:23:39.901Z"
   },
   {
    "duration": 7,
    "start_time": "2022-09-04T11:23:41.360Z"
   },
   {
    "duration": 5,
    "start_time": "2022-09-04T11:23:41.855Z"
   },
   {
    "duration": 4,
    "start_time": "2022-09-04T11:23:43.384Z"
   },
   {
    "duration": 103,
    "start_time": "2022-09-04T11:24:15.880Z"
   },
   {
    "duration": 4,
    "start_time": "2022-09-04T11:24:21.795Z"
   },
   {
    "duration": 4,
    "start_time": "2022-09-04T11:24:33.170Z"
   },
   {
    "duration": 4,
    "start_time": "2022-09-04T11:24:45.377Z"
   },
   {
    "duration": 3,
    "start_time": "2022-09-04T11:24:58.303Z"
   },
   {
    "duration": 7,
    "start_time": "2022-09-04T11:25:11.810Z"
   },
   {
    "duration": 8,
    "start_time": "2022-09-04T11:25:26.506Z"
   },
   {
    "duration": 8,
    "start_time": "2022-09-04T11:25:32.841Z"
   },
   {
    "duration": 4,
    "start_time": "2022-09-04T11:25:57.445Z"
   },
   {
    "duration": 5,
    "start_time": "2022-09-04T11:26:59.645Z"
   },
   {
    "duration": 4,
    "start_time": "2022-09-04T11:27:05.159Z"
   },
   {
    "duration": 3,
    "start_time": "2022-09-04T11:27:06.049Z"
   },
   {
    "duration": 5,
    "start_time": "2022-09-04T11:27:06.965Z"
   },
   {
    "duration": 3,
    "start_time": "2022-09-04T11:27:34.206Z"
   },
   {
    "duration": 2,
    "start_time": "2022-09-04T11:27:35.468Z"
   },
   {
    "duration": 15,
    "start_time": "2022-09-04T11:27:36.153Z"
   },
   {
    "duration": 29,
    "start_time": "2022-09-04T11:28:36.141Z"
   },
   {
    "duration": 50,
    "start_time": "2022-09-04T11:28:44.292Z"
   },
   {
    "duration": 59,
    "start_time": "2022-09-04T11:28:54.233Z"
   },
   {
    "duration": 63,
    "start_time": "2022-09-04T11:28:58.476Z"
   },
   {
    "duration": 65,
    "start_time": "2022-09-04T11:29:02.270Z"
   },
   {
    "duration": 59,
    "start_time": "2022-09-04T11:29:19.070Z"
   },
   {
    "duration": 64,
    "start_time": "2022-09-04T11:29:21.770Z"
   },
   {
    "duration": 5,
    "start_time": "2022-09-04T11:29:45.253Z"
   },
   {
    "duration": 63,
    "start_time": "2022-09-04T11:29:46.281Z"
   },
   {
    "duration": 4,
    "start_time": "2022-09-04T11:30:34.668Z"
   },
   {
    "duration": 689,
    "start_time": "2022-09-04T11:30:34.675Z"
   },
   {
    "duration": 6,
    "start_time": "2022-09-04T11:30:35.370Z"
   },
   {
    "duration": 34,
    "start_time": "2022-09-04T11:30:35.377Z"
   },
   {
    "duration": 16,
    "start_time": "2022-09-04T11:30:35.413Z"
   },
   {
    "duration": 7,
    "start_time": "2022-09-04T11:30:35.430Z"
   },
   {
    "duration": 16,
    "start_time": "2022-09-04T11:30:35.439Z"
   },
   {
    "duration": 73,
    "start_time": "2022-09-04T11:30:35.464Z"
   },
   {
    "duration": 80,
    "start_time": "2022-09-04T11:30:35.539Z"
   },
   {
    "duration": 0,
    "start_time": "2022-09-04T11:30:35.621Z"
   },
   {
    "duration": 0,
    "start_time": "2022-09-04T11:30:35.622Z"
   },
   {
    "duration": 0,
    "start_time": "2022-09-04T11:30:35.623Z"
   },
   {
    "duration": 0,
    "start_time": "2022-09-04T11:30:35.624Z"
   },
   {
    "duration": 3,
    "start_time": "2022-09-04T11:30:44.901Z"
   },
   {
    "duration": 2,
    "start_time": "2022-09-04T11:30:46.074Z"
   },
   {
    "duration": 2,
    "start_time": "2022-09-04T11:30:46.945Z"
   },
   {
    "duration": 6,
    "start_time": "2022-09-04T11:30:47.265Z"
   },
   {
    "duration": 75,
    "start_time": "2022-09-04T11:30:47.862Z"
   },
   {
    "duration": 64,
    "start_time": "2022-09-04T11:30:50.776Z"
   },
   {
    "duration": 89,
    "start_time": "2022-09-04T11:30:54.721Z"
   },
   {
    "duration": 51,
    "start_time": "2022-09-04T11:30:59.798Z"
   },
   {
    "duration": 72,
    "start_time": "2022-09-04T11:31:01.983Z"
   },
   {
    "duration": 10,
    "start_time": "2022-09-04T11:34:34.274Z"
   },
   {
    "duration": 10,
    "start_time": "2022-09-04T11:34:42.373Z"
   },
   {
    "duration": 9,
    "start_time": "2022-09-04T11:34:55.374Z"
   },
   {
    "duration": 9,
    "start_time": "2022-09-04T11:35:04.470Z"
   },
   {
    "duration": 10,
    "start_time": "2022-09-04T11:35:08.902Z"
   },
   {
    "duration": 9,
    "start_time": "2022-09-04T11:35:24.064Z"
   },
   {
    "duration": 11,
    "start_time": "2022-09-04T11:35:42.369Z"
   },
   {
    "duration": 13,
    "start_time": "2022-09-04T11:35:47.053Z"
   },
   {
    "duration": 13,
    "start_time": "2022-09-04T11:36:04.169Z"
   },
   {
    "duration": 12,
    "start_time": "2022-09-04T11:36:11.470Z"
   },
   {
    "duration": 26,
    "start_time": "2022-09-04T11:47:59.213Z"
   },
   {
    "duration": 3,
    "start_time": "2022-09-04T11:48:03.568Z"
   },
   {
    "duration": 724,
    "start_time": "2022-09-04T11:48:03.573Z"
   },
   {
    "duration": 5,
    "start_time": "2022-09-04T11:48:04.298Z"
   },
   {
    "duration": 29,
    "start_time": "2022-09-04T11:48:04.305Z"
   },
   {
    "duration": 14,
    "start_time": "2022-09-04T11:48:04.336Z"
   },
   {
    "duration": 16,
    "start_time": "2022-09-04T11:48:04.351Z"
   },
   {
    "duration": 14,
    "start_time": "2022-09-04T11:48:04.368Z"
   },
   {
    "duration": 72,
    "start_time": "2022-09-04T11:48:04.384Z"
   },
   {
    "duration": 5,
    "start_time": "2022-09-04T11:48:04.457Z"
   },
   {
    "duration": 22,
    "start_time": "2022-09-04T11:48:04.463Z"
   },
   {
    "duration": 61,
    "start_time": "2022-09-04T11:48:04.487Z"
   },
   {
    "duration": 16,
    "start_time": "2022-09-04T11:48:04.550Z"
   },
   {
    "duration": 16,
    "start_time": "2022-09-04T11:48:04.568Z"
   },
   {
    "duration": 4,
    "start_time": "2022-09-04T11:48:04.585Z"
   },
   {
    "duration": 7,
    "start_time": "2022-09-04T11:48:04.591Z"
   },
   {
    "duration": 377,
    "start_time": "2022-09-04T11:48:04.599Z"
   },
   {
    "duration": 10,
    "start_time": "2022-09-04T11:48:04.979Z"
   },
   {
    "duration": 13,
    "start_time": "2022-09-04T11:48:04.991Z"
   },
   {
    "duration": 165,
    "start_time": "2022-09-04T11:48:05.006Z"
   },
   {
    "duration": 7,
    "start_time": "2022-09-04T11:48:05.174Z"
   },
   {
    "duration": 133,
    "start_time": "2022-09-04T11:48:05.182Z"
   },
   {
    "duration": 8,
    "start_time": "2022-09-04T11:48:05.317Z"
   },
   {
    "duration": 10,
    "start_time": "2022-09-04T11:48:05.326Z"
   },
   {
    "duration": 34,
    "start_time": "2022-09-04T11:48:05.337Z"
   },
   {
    "duration": 6,
    "start_time": "2022-09-04T11:48:05.373Z"
   },
   {
    "duration": 573,
    "start_time": "2022-09-04T11:48:05.381Z"
   },
   {
    "duration": 12133,
    "start_time": "2022-09-04T11:48:05.956Z"
   },
   {
    "duration": 7,
    "start_time": "2022-09-04T11:48:18.090Z"
   },
   {
    "duration": 14,
    "start_time": "2022-09-04T11:48:18.099Z"
   },
   {
    "duration": 12,
    "start_time": "2022-09-04T11:48:18.115Z"
   },
   {
    "duration": 7,
    "start_time": "2022-09-04T11:48:18.128Z"
   },
   {
    "duration": 5847,
    "start_time": "2022-09-04T11:48:18.136Z"
   },
   {
    "duration": 14,
    "start_time": "2022-09-04T11:48:23.985Z"
   },
   {
    "duration": 7,
    "start_time": "2022-09-04T11:48:24.001Z"
   },
   {
    "duration": 228,
    "start_time": "2022-09-04T11:48:24.010Z"
   },
   {
    "duration": 17,
    "start_time": "2022-09-04T11:48:24.239Z"
   },
   {
    "duration": 9,
    "start_time": "2022-09-04T11:48:24.263Z"
   },
   {
    "duration": 8,
    "start_time": "2022-09-04T11:48:24.273Z"
   },
   {
    "duration": 215,
    "start_time": "2022-09-04T11:48:24.283Z"
   },
   {
    "duration": 480,
    "start_time": "2022-09-04T11:48:24.500Z"
   },
   {
    "duration": 5,
    "start_time": "2022-09-04T11:48:24.982Z"
   },
   {
    "duration": 1487,
    "start_time": "2022-09-04T11:48:24.989Z"
   },
   {
    "duration": 1699,
    "start_time": "2022-09-04T11:48:26.478Z"
   },
   {
    "duration": 2164,
    "start_time": "2022-09-04T11:48:28.178Z"
   },
   {
    "duration": 23,
    "start_time": "2022-09-04T11:48:30.344Z"
   },
   {
    "duration": 161,
    "start_time": "2022-09-04T11:48:30.370Z"
   },
   {
    "duration": 24,
    "start_time": "2022-09-04T11:48:30.534Z"
   },
   {
    "duration": 16,
    "start_time": "2022-09-04T11:48:30.560Z"
   },
   {
    "duration": 22,
    "start_time": "2022-09-04T11:48:30.578Z"
   },
   {
    "duration": 16,
    "start_time": "2022-09-04T11:48:30.602Z"
   },
   {
    "duration": 19,
    "start_time": "2022-09-04T11:48:30.620Z"
   },
   {
    "duration": 10,
    "start_time": "2022-09-04T11:48:30.640Z"
   },
   {
    "duration": 39,
    "start_time": "2022-09-04T11:48:30.651Z"
   },
   {
    "duration": 43,
    "start_time": "2022-09-04T11:48:30.692Z"
   },
   {
    "duration": 2961,
    "start_time": "2022-09-04T11:48:30.737Z"
   },
   {
    "duration": 237,
    "start_time": "2022-09-04T11:48:33.700Z"
   },
   {
    "duration": 7,
    "start_time": "2022-09-04T11:48:33.938Z"
   },
   {
    "duration": 23,
    "start_time": "2022-09-04T11:48:33.946Z"
   },
   {
    "duration": 6,
    "start_time": "2022-09-04T11:48:33.972Z"
   },
   {
    "duration": 9,
    "start_time": "2022-09-04T11:48:33.980Z"
   },
   {
    "duration": 56,
    "start_time": "2022-09-06T05:28:01.863Z"
   },
   {
    "duration": 1422,
    "start_time": "2022-09-06T05:28:05.562Z"
   },
   {
    "duration": 533,
    "start_time": "2022-09-06T05:28:06.986Z"
   },
   {
    "duration": 5,
    "start_time": "2022-09-06T05:28:07.521Z"
   },
   {
    "duration": 45,
    "start_time": "2022-09-06T05:28:07.529Z"
   },
   {
    "duration": 57,
    "start_time": "2022-09-06T05:28:07.576Z"
   },
   {
    "duration": 14,
    "start_time": "2022-09-06T05:28:07.636Z"
   },
   {
    "duration": 10,
    "start_time": "2022-09-06T05:28:07.652Z"
   },
   {
    "duration": 119,
    "start_time": "2022-09-06T05:28:07.665Z"
   },
   {
    "duration": 6,
    "start_time": "2022-09-06T05:28:07.785Z"
   },
   {
    "duration": 5,
    "start_time": "2022-09-06T05:28:07.794Z"
   },
   {
    "duration": 69,
    "start_time": "2022-09-06T05:28:07.800Z"
   },
   {
    "duration": 12,
    "start_time": "2022-09-06T05:28:09.778Z"
   },
   {
    "duration": 14,
    "start_time": "2022-09-06T05:29:23.926Z"
   },
   {
    "duration": 13,
    "start_time": "2022-09-06T05:29:46.319Z"
   },
   {
    "duration": 11,
    "start_time": "2022-09-06T05:29:49.057Z"
   },
   {
    "duration": 13,
    "start_time": "2022-09-06T05:30:10.084Z"
   },
   {
    "duration": 13,
    "start_time": "2022-09-06T05:38:26.901Z"
   },
   {
    "duration": 8,
    "start_time": "2022-09-06T05:38:32.127Z"
   },
   {
    "duration": 306,
    "start_time": "2022-09-06T05:38:39.156Z"
   },
   {
    "duration": 167,
    "start_time": "2022-09-06T05:38:48.836Z"
   },
   {
    "duration": 7,
    "start_time": "2022-09-06T05:38:58.543Z"
   },
   {
    "duration": 8,
    "start_time": "2022-09-06T05:39:25.104Z"
   },
   {
    "duration": 13,
    "start_time": "2022-09-06T05:39:30.111Z"
   },
   {
    "duration": 22,
    "start_time": "2022-09-06T05:39:36.226Z"
   },
   {
    "duration": 279,
    "start_time": "2022-09-06T05:40:20.373Z"
   },
   {
    "duration": 9,
    "start_time": "2022-09-06T05:40:42.390Z"
   },
   {
    "duration": 4,
    "start_time": "2022-09-06T05:40:43.567Z"
   },
   {
    "duration": 15,
    "start_time": "2022-09-06T05:42:17.659Z"
   },
   {
    "duration": 4,
    "start_time": "2022-09-06T05:42:43.204Z"
   },
   {
    "duration": 19,
    "start_time": "2022-09-06T05:42:43.932Z"
   },
   {
    "duration": 9,
    "start_time": "2022-09-06T05:42:51.633Z"
   },
   {
    "duration": 237,
    "start_time": "2022-09-06T05:42:57.633Z"
   },
   {
    "duration": 379,
    "start_time": "2022-09-06T05:43:24.997Z"
   },
   {
    "duration": 868,
    "start_time": "2022-09-06T05:43:33.527Z"
   },
   {
    "duration": 11,
    "start_time": "2022-09-06T05:43:49.761Z"
   },
   {
    "duration": 9,
    "start_time": "2022-09-06T05:43:50.621Z"
   },
   {
    "duration": 387,
    "start_time": "2022-09-06T05:43:51.216Z"
   },
   {
    "duration": 13,
    "start_time": "2022-09-06T05:44:30.734Z"
   },
   {
    "duration": 17,
    "start_time": "2022-09-06T05:46:07.488Z"
   },
   {
    "duration": 27,
    "start_time": "2022-09-06T05:46:23.270Z"
   },
   {
    "duration": 10,
    "start_time": "2022-09-06T05:47:24.177Z"
   },
   {
    "duration": 27,
    "start_time": "2022-09-06T05:47:30.992Z"
   },
   {
    "duration": 32,
    "start_time": "2022-09-06T05:48:06.782Z"
   },
   {
    "duration": 26,
    "start_time": "2022-09-06T05:49:07.569Z"
   },
   {
    "duration": 27,
    "start_time": "2022-09-06T05:49:45.682Z"
   },
   {
    "duration": 23,
    "start_time": "2022-09-06T05:49:50.133Z"
   },
   {
    "duration": 23,
    "start_time": "2022-09-06T05:51:25.229Z"
   },
   {
    "duration": 24,
    "start_time": "2022-09-06T05:56:16.569Z"
   },
   {
    "duration": 22,
    "start_time": "2022-09-06T05:56:21.177Z"
   },
   {
    "duration": 19,
    "start_time": "2022-09-06T05:56:34.941Z"
   },
   {
    "duration": 28,
    "start_time": "2022-09-06T05:56:43.546Z"
   },
   {
    "duration": 12,
    "start_time": "2022-09-06T05:57:44.338Z"
   },
   {
    "duration": 14,
    "start_time": "2022-09-06T05:57:54.567Z"
   },
   {
    "duration": 289,
    "start_time": "2022-09-06T05:59:00.098Z"
   },
   {
    "duration": 34,
    "start_time": "2022-09-06T05:59:39.366Z"
   },
   {
    "duration": 38,
    "start_time": "2022-09-06T05:59:47.267Z"
   },
   {
    "duration": 8,
    "start_time": "2022-09-06T06:09:42.629Z"
   },
   {
    "duration": 4,
    "start_time": "2022-09-06T06:10:06.974Z"
   },
   {
    "duration": 585,
    "start_time": "2022-09-06T06:10:06.980Z"
   },
   {
    "duration": 5,
    "start_time": "2022-09-06T06:10:07.567Z"
   },
   {
    "duration": 36,
    "start_time": "2022-09-06T06:10:07.576Z"
   },
   {
    "duration": 11,
    "start_time": "2022-09-06T06:10:07.613Z"
   },
   {
    "duration": 14,
    "start_time": "2022-09-06T06:10:07.626Z"
   },
   {
    "duration": 29,
    "start_time": "2022-09-06T06:10:07.642Z"
   },
   {
    "duration": 10,
    "start_time": "2022-09-06T06:10:07.673Z"
   },
   {
    "duration": 7,
    "start_time": "2022-09-06T06:10:07.685Z"
   },
   {
    "duration": 119,
    "start_time": "2022-09-06T06:10:07.694Z"
   },
   {
    "duration": 3,
    "start_time": "2022-09-06T06:10:07.815Z"
   },
   {
    "duration": 11,
    "start_time": "2022-09-06T06:10:07.820Z"
   },
   {
    "duration": 93,
    "start_time": "2022-09-06T06:10:07.833Z"
   },
   {
    "duration": 10,
    "start_time": "2022-09-06T06:10:07.928Z"
   },
   {
    "duration": 19,
    "start_time": "2022-09-06T06:10:07.940Z"
   },
   {
    "duration": 2573,
    "start_time": "2022-09-06T06:10:07.962Z"
   },
   {
    "duration": 0,
    "start_time": "2022-09-06T06:10:10.537Z"
   },
   {
    "duration": 0,
    "start_time": "2022-09-06T06:10:10.538Z"
   },
   {
    "duration": 381,
    "start_time": "2022-09-06T06:10:15.149Z"
   },
   {
    "duration": 863,
    "start_time": "2022-09-06T06:10:17.299Z"
   },
   {
    "duration": 23,
    "start_time": "2022-09-06T06:10:26.682Z"
   },
   {
    "duration": 16,
    "start_time": "2022-09-06T06:10:31.629Z"
   },
   {
    "duration": 22,
    "start_time": "2022-09-06T06:11:00.550Z"
   },
   {
    "duration": 17,
    "start_time": "2022-09-06T06:11:15.323Z"
   },
   {
    "duration": 18,
    "start_time": "2022-09-06T06:11:42.788Z"
   },
   {
    "duration": 131,
    "start_time": "2022-09-06T06:12:16.948Z"
   },
   {
    "duration": 28,
    "start_time": "2022-09-06T06:12:42.676Z"
   },
   {
    "duration": 37,
    "start_time": "2022-09-06T06:12:56.849Z"
   },
   {
    "duration": 35,
    "start_time": "2022-09-06T06:13:16.339Z"
   },
   {
    "duration": 35,
    "start_time": "2022-09-06T06:13:27.923Z"
   },
   {
    "duration": 22,
    "start_time": "2022-09-06T06:13:58.651Z"
   },
   {
    "duration": 21,
    "start_time": "2022-09-06T06:14:00.954Z"
   },
   {
    "duration": 4,
    "start_time": "2022-09-06T06:14:07.443Z"
   },
   {
    "duration": 625,
    "start_time": "2022-09-06T06:14:07.450Z"
   },
   {
    "duration": 8,
    "start_time": "2022-09-06T06:14:08.077Z"
   },
   {
    "duration": 86,
    "start_time": "2022-09-06T06:14:08.087Z"
   },
   {
    "duration": 35,
    "start_time": "2022-09-06T06:14:08.176Z"
   },
   {
    "duration": 45,
    "start_time": "2022-09-06T06:14:08.213Z"
   },
   {
    "duration": 87,
    "start_time": "2022-09-06T06:14:08.259Z"
   },
   {
    "duration": 81,
    "start_time": "2022-09-06T06:14:08.348Z"
   },
   {
    "duration": 64,
    "start_time": "2022-09-06T06:14:08.432Z"
   },
   {
    "duration": 186,
    "start_time": "2022-09-06T06:14:08.501Z"
   },
   {
    "duration": 4,
    "start_time": "2022-09-06T06:14:08.690Z"
   },
   {
    "duration": 54,
    "start_time": "2022-09-06T06:14:08.696Z"
   },
   {
    "duration": 169,
    "start_time": "2022-09-06T06:14:08.756Z"
   },
   {
    "duration": 22,
    "start_time": "2022-09-06T06:14:08.933Z"
   },
   {
    "duration": 73,
    "start_time": "2022-09-06T06:14:08.962Z"
   },
   {
    "duration": 503,
    "start_time": "2022-09-06T06:14:09.037Z"
   },
   {
    "duration": 37,
    "start_time": "2022-09-06T06:14:09.543Z"
   },
   {
    "duration": 36,
    "start_time": "2022-09-06T06:14:09.582Z"
   },
   {
    "duration": 15,
    "start_time": "2022-09-06T06:14:09.620Z"
   },
   {
    "duration": 1099,
    "start_time": "2022-09-06T06:14:09.637Z"
   },
   {
    "duration": 0,
    "start_time": "2022-09-06T06:14:10.740Z"
   },
   {
    "duration": 1,
    "start_time": "2022-09-06T06:14:10.741Z"
   },
   {
    "duration": 0,
    "start_time": "2022-09-06T06:14:10.743Z"
   },
   {
    "duration": 0,
    "start_time": "2022-09-06T06:14:10.744Z"
   },
   {
    "duration": 0,
    "start_time": "2022-09-06T06:14:10.745Z"
   },
   {
    "duration": 0,
    "start_time": "2022-09-06T06:14:10.748Z"
   },
   {
    "duration": 0,
    "start_time": "2022-09-06T06:14:10.750Z"
   },
   {
    "duration": 0,
    "start_time": "2022-09-06T06:14:10.751Z"
   },
   {
    "duration": 0,
    "start_time": "2022-09-06T06:14:10.753Z"
   },
   {
    "duration": 1,
    "start_time": "2022-09-06T06:14:10.754Z"
   },
   {
    "duration": 0,
    "start_time": "2022-09-06T06:14:10.756Z"
   },
   {
    "duration": 0,
    "start_time": "2022-09-06T06:14:10.758Z"
   },
   {
    "duration": 0,
    "start_time": "2022-09-06T06:14:10.759Z"
   },
   {
    "duration": 0,
    "start_time": "2022-09-06T06:14:10.760Z"
   },
   {
    "duration": 0,
    "start_time": "2022-09-06T06:14:10.762Z"
   },
   {
    "duration": 0,
    "start_time": "2022-09-06T06:14:10.763Z"
   },
   {
    "duration": 0,
    "start_time": "2022-09-06T06:14:10.765Z"
   },
   {
    "duration": 0,
    "start_time": "2022-09-06T06:14:10.766Z"
   },
   {
    "duration": 0,
    "start_time": "2022-09-06T06:14:10.768Z"
   },
   {
    "duration": 0,
    "start_time": "2022-09-06T06:14:10.769Z"
   },
   {
    "duration": 0,
    "start_time": "2022-09-06T06:14:10.771Z"
   },
   {
    "duration": 0,
    "start_time": "2022-09-06T06:14:10.773Z"
   },
   {
    "duration": 0,
    "start_time": "2022-09-06T06:14:10.774Z"
   },
   {
    "duration": 0,
    "start_time": "2022-09-06T06:14:10.776Z"
   },
   {
    "duration": 0,
    "start_time": "2022-09-06T06:14:10.777Z"
   },
   {
    "duration": 0,
    "start_time": "2022-09-06T06:14:10.780Z"
   },
   {
    "duration": 0,
    "start_time": "2022-09-06T06:14:10.781Z"
   },
   {
    "duration": 0,
    "start_time": "2022-09-06T06:14:10.783Z"
   },
   {
    "duration": 0,
    "start_time": "2022-09-06T06:14:10.787Z"
   },
   {
    "duration": 0,
    "start_time": "2022-09-06T06:14:10.789Z"
   },
   {
    "duration": 0,
    "start_time": "2022-09-06T06:14:10.793Z"
   },
   {
    "duration": 0,
    "start_time": "2022-09-06T06:14:10.795Z"
   },
   {
    "duration": 0,
    "start_time": "2022-09-06T06:14:10.797Z"
   },
   {
    "duration": 0,
    "start_time": "2022-09-06T06:14:10.800Z"
   },
   {
    "duration": 0,
    "start_time": "2022-09-06T06:14:10.802Z"
   },
   {
    "duration": 0,
    "start_time": "2022-09-06T06:14:10.804Z"
   },
   {
    "duration": 0,
    "start_time": "2022-09-06T06:14:10.806Z"
   },
   {
    "duration": 0,
    "start_time": "2022-09-06T06:14:10.808Z"
   },
   {
    "duration": 0,
    "start_time": "2022-09-06T06:14:10.810Z"
   },
   {
    "duration": 0,
    "start_time": "2022-09-06T06:14:10.858Z"
   },
   {
    "duration": 0,
    "start_time": "2022-09-06T06:14:10.859Z"
   },
   {
    "duration": 0,
    "start_time": "2022-09-06T06:14:10.863Z"
   },
   {
    "duration": 0,
    "start_time": "2022-09-06T06:14:10.864Z"
   },
   {
    "duration": 0,
    "start_time": "2022-09-06T06:14:10.866Z"
   },
   {
    "duration": 0,
    "start_time": "2022-09-06T06:14:10.868Z"
   },
   {
    "duration": 0,
    "start_time": "2022-09-06T06:14:10.869Z"
   },
   {
    "duration": 0,
    "start_time": "2022-09-06T06:14:10.871Z"
   },
   {
    "duration": 5,
    "start_time": "2022-09-06T06:14:20.255Z"
   },
   {
    "duration": 456,
    "start_time": "2022-09-06T06:14:20.263Z"
   },
   {
    "duration": 6,
    "start_time": "2022-09-06T06:14:20.721Z"
   },
   {
    "duration": 80,
    "start_time": "2022-09-06T06:14:20.730Z"
   },
   {
    "duration": 33,
    "start_time": "2022-09-06T06:14:20.813Z"
   },
   {
    "duration": 38,
    "start_time": "2022-09-06T06:14:20.850Z"
   },
   {
    "duration": 36,
    "start_time": "2022-09-06T06:14:20.890Z"
   },
   {
    "duration": 17,
    "start_time": "2022-09-06T06:14:20.928Z"
   },
   {
    "duration": 38,
    "start_time": "2022-09-06T06:14:20.947Z"
   },
   {
    "duration": 157,
    "start_time": "2022-09-06T06:14:20.989Z"
   },
   {
    "duration": 5,
    "start_time": "2022-09-06T06:14:21.148Z"
   },
   {
    "duration": 18,
    "start_time": "2022-09-06T06:14:21.155Z"
   },
   {
    "duration": 125,
    "start_time": "2022-09-06T06:14:21.177Z"
   },
   {
    "duration": 22,
    "start_time": "2022-09-06T06:14:21.304Z"
   },
   {
    "duration": 15,
    "start_time": "2022-09-06T06:14:21.331Z"
   },
   {
    "duration": 485,
    "start_time": "2022-09-06T06:14:21.348Z"
   },
   {
    "duration": 33,
    "start_time": "2022-09-06T06:14:21.840Z"
   },
   {
    "duration": 39,
    "start_time": "2022-09-06T06:14:21.875Z"
   },
   {
    "duration": 15,
    "start_time": "2022-09-06T06:14:21.917Z"
   },
   {
    "duration": 26,
    "start_time": "2022-09-06T06:14:21.934Z"
   },
   {
    "duration": 995,
    "start_time": "2022-09-06T06:14:21.964Z"
   },
   {
    "duration": 0,
    "start_time": "2022-09-06T06:14:22.965Z"
   },
   {
    "duration": 0,
    "start_time": "2022-09-06T06:14:22.967Z"
   },
   {
    "duration": 0,
    "start_time": "2022-09-06T06:14:22.969Z"
   },
   {
    "duration": 0,
    "start_time": "2022-09-06T06:14:22.970Z"
   },
   {
    "duration": 0,
    "start_time": "2022-09-06T06:14:22.972Z"
   },
   {
    "duration": 0,
    "start_time": "2022-09-06T06:14:22.973Z"
   },
   {
    "duration": 0,
    "start_time": "2022-09-06T06:14:22.975Z"
   },
   {
    "duration": 0,
    "start_time": "2022-09-06T06:14:22.976Z"
   },
   {
    "duration": 0,
    "start_time": "2022-09-06T06:14:22.978Z"
   },
   {
    "duration": 0,
    "start_time": "2022-09-06T06:14:22.979Z"
   },
   {
    "duration": 0,
    "start_time": "2022-09-06T06:14:22.981Z"
   },
   {
    "duration": 0,
    "start_time": "2022-09-06T06:14:22.982Z"
   },
   {
    "duration": 0,
    "start_time": "2022-09-06T06:14:22.984Z"
   },
   {
    "duration": 0,
    "start_time": "2022-09-06T06:14:22.985Z"
   },
   {
    "duration": 0,
    "start_time": "2022-09-06T06:14:22.988Z"
   },
   {
    "duration": 1,
    "start_time": "2022-09-06T06:14:22.989Z"
   },
   {
    "duration": 0,
    "start_time": "2022-09-06T06:14:22.991Z"
   },
   {
    "duration": 0,
    "start_time": "2022-09-06T06:14:22.993Z"
   },
   {
    "duration": 0,
    "start_time": "2022-09-06T06:14:22.994Z"
   },
   {
    "duration": 0,
    "start_time": "2022-09-06T06:14:22.996Z"
   },
   {
    "duration": 0,
    "start_time": "2022-09-06T06:14:22.997Z"
   },
   {
    "duration": 0,
    "start_time": "2022-09-06T06:14:22.999Z"
   },
   {
    "duration": 0,
    "start_time": "2022-09-06T06:14:23.000Z"
   },
   {
    "duration": 0,
    "start_time": "2022-09-06T06:14:23.001Z"
   },
   {
    "duration": 0,
    "start_time": "2022-09-06T06:14:23.003Z"
   },
   {
    "duration": 0,
    "start_time": "2022-09-06T06:14:23.004Z"
   },
   {
    "duration": 0,
    "start_time": "2022-09-06T06:14:23.005Z"
   },
   {
    "duration": 0,
    "start_time": "2022-09-06T06:14:23.007Z"
   },
   {
    "duration": 0,
    "start_time": "2022-09-06T06:14:23.059Z"
   },
   {
    "duration": 0,
    "start_time": "2022-09-06T06:14:23.061Z"
   },
   {
    "duration": 0,
    "start_time": "2022-09-06T06:14:23.063Z"
   },
   {
    "duration": 0,
    "start_time": "2022-09-06T06:14:23.065Z"
   },
   {
    "duration": 0,
    "start_time": "2022-09-06T06:14:23.067Z"
   },
   {
    "duration": 0,
    "start_time": "2022-09-06T06:14:23.068Z"
   },
   {
    "duration": 0,
    "start_time": "2022-09-06T06:14:23.070Z"
   },
   {
    "duration": 0,
    "start_time": "2022-09-06T06:14:23.072Z"
   },
   {
    "duration": 0,
    "start_time": "2022-09-06T06:14:23.073Z"
   },
   {
    "duration": 0,
    "start_time": "2022-09-06T06:14:23.075Z"
   },
   {
    "duration": 0,
    "start_time": "2022-09-06T06:14:23.077Z"
   },
   {
    "duration": 0,
    "start_time": "2022-09-06T06:14:23.078Z"
   },
   {
    "duration": 0,
    "start_time": "2022-09-06T06:14:23.080Z"
   },
   {
    "duration": 0,
    "start_time": "2022-09-06T06:14:23.082Z"
   },
   {
    "duration": 0,
    "start_time": "2022-09-06T06:14:23.084Z"
   },
   {
    "duration": 0,
    "start_time": "2022-09-06T06:14:23.085Z"
   },
   {
    "duration": 0,
    "start_time": "2022-09-06T06:14:23.087Z"
   },
   {
    "duration": 0,
    "start_time": "2022-09-06T06:14:23.089Z"
   },
   {
    "duration": 4,
    "start_time": "2022-09-06T06:15:15.716Z"
   },
   {
    "duration": 457,
    "start_time": "2022-09-06T06:15:15.722Z"
   },
   {
    "duration": 6,
    "start_time": "2022-09-06T06:15:16.182Z"
   },
   {
    "duration": 45,
    "start_time": "2022-09-06T06:15:16.190Z"
   },
   {
    "duration": 10,
    "start_time": "2022-09-06T06:15:16.238Z"
   },
   {
    "duration": 24,
    "start_time": "2022-09-06T06:15:16.250Z"
   },
   {
    "duration": 33,
    "start_time": "2022-09-06T06:15:16.281Z"
   },
   {
    "duration": 22,
    "start_time": "2022-09-06T06:15:16.320Z"
   },
   {
    "duration": 5,
    "start_time": "2022-09-06T06:15:16.344Z"
   },
   {
    "duration": 185,
    "start_time": "2022-09-06T06:15:16.352Z"
   },
   {
    "duration": 5,
    "start_time": "2022-09-06T06:15:16.539Z"
   },
   {
    "duration": 22,
    "start_time": "2022-09-06T06:15:16.547Z"
   },
   {
    "duration": 137,
    "start_time": "2022-09-06T06:15:16.574Z"
   },
   {
    "duration": 17,
    "start_time": "2022-09-06T06:15:16.715Z"
   },
   {
    "duration": 26,
    "start_time": "2022-09-06T06:15:16.734Z"
   },
   {
    "duration": 460,
    "start_time": "2022-09-06T06:15:16.764Z"
   },
   {
    "duration": 45,
    "start_time": "2022-09-06T06:15:17.226Z"
   },
   {
    "duration": 43,
    "start_time": "2022-09-06T06:15:17.274Z"
   },
   {
    "duration": 12,
    "start_time": "2022-09-06T06:15:17.319Z"
   },
   {
    "duration": 9,
    "start_time": "2022-09-06T06:15:17.333Z"
   },
   {
    "duration": 41,
    "start_time": "2022-09-06T06:15:17.343Z"
   },
   {
    "duration": 30,
    "start_time": "2022-09-06T06:15:17.386Z"
   },
   {
    "duration": 853,
    "start_time": "2022-09-06T06:15:17.418Z"
   },
   {
    "duration": 14,
    "start_time": "2022-09-06T06:15:18.277Z"
   },
   {
    "duration": 12,
    "start_time": "2022-09-06T06:15:18.293Z"
   },
   {
    "duration": 453,
    "start_time": "2022-09-06T06:15:18.307Z"
   },
   {
    "duration": 14,
    "start_time": "2022-09-06T06:15:18.763Z"
   },
   {
    "duration": 403,
    "start_time": "2022-09-06T06:15:18.779Z"
   },
   {
    "duration": 9,
    "start_time": "2022-09-06T06:15:19.186Z"
   },
   {
    "duration": 71,
    "start_time": "2022-09-06T06:15:19.197Z"
   },
   {
    "duration": 14,
    "start_time": "2022-09-06T06:15:19.270Z"
   },
   {
    "duration": 49,
    "start_time": "2022-09-06T06:15:19.286Z"
   },
   {
    "duration": 763,
    "start_time": "2022-09-06T06:15:19.359Z"
   },
   {
    "duration": 13340,
    "start_time": "2022-09-06T06:15:20.124Z"
   },
   {
    "duration": 15,
    "start_time": "2022-09-06T06:15:33.465Z"
   },
   {
    "duration": 29,
    "start_time": "2022-09-06T06:15:33.483Z"
   },
   {
    "duration": 13,
    "start_time": "2022-09-06T06:15:33.517Z"
   },
   {
    "duration": 12,
    "start_time": "2022-09-06T06:15:33.532Z"
   },
   {
    "duration": 7317,
    "start_time": "2022-09-06T06:15:33.546Z"
   },
   {
    "duration": 24,
    "start_time": "2022-09-06T06:15:40.870Z"
   },
   {
    "duration": 26,
    "start_time": "2022-09-06T06:15:40.896Z"
   },
   {
    "duration": 313,
    "start_time": "2022-09-06T06:15:40.924Z"
   },
   {
    "duration": 30,
    "start_time": "2022-09-06T06:15:41.244Z"
   },
   {
    "duration": 53,
    "start_time": "2022-09-06T06:15:41.276Z"
   },
   {
    "duration": 14,
    "start_time": "2022-09-06T06:15:41.331Z"
   },
   {
    "duration": 468,
    "start_time": "2022-09-06T06:15:41.348Z"
   },
   {
    "duration": 558,
    "start_time": "2022-09-06T06:15:41.818Z"
   },
   {
    "duration": 5,
    "start_time": "2022-09-06T06:15:42.379Z"
   },
   {
    "duration": 1233,
    "start_time": "2022-09-06T06:15:42.386Z"
   },
   {
    "duration": 712,
    "start_time": "2022-09-06T06:15:43.621Z"
   },
   {
    "duration": 2630,
    "start_time": "2022-09-06T06:15:44.335Z"
   },
   {
    "duration": 10,
    "start_time": "2022-09-06T06:15:46.967Z"
   },
   {
    "duration": 187,
    "start_time": "2022-09-06T06:15:46.979Z"
   },
   {
    "duration": 13,
    "start_time": "2022-09-06T06:15:47.168Z"
   },
   {
    "duration": 16,
    "start_time": "2022-09-06T06:15:47.183Z"
   },
   {
    "duration": 11,
    "start_time": "2022-09-06T06:15:47.201Z"
   },
   {
    "duration": 12,
    "start_time": "2022-09-06T06:15:47.214Z"
   },
   {
    "duration": 14,
    "start_time": "2022-09-06T06:15:47.228Z"
   },
   {
    "duration": 48,
    "start_time": "2022-09-06T06:15:47.244Z"
   },
   {
    "duration": 19,
    "start_time": "2022-09-06T06:15:47.294Z"
   },
   {
    "duration": 7,
    "start_time": "2022-09-06T06:15:47.316Z"
   },
   {
    "duration": 3347,
    "start_time": "2022-09-06T06:15:47.325Z"
   },
   {
    "duration": 277,
    "start_time": "2022-09-06T06:15:50.674Z"
   },
   {
    "duration": 19,
    "start_time": "2022-09-06T06:15:50.959Z"
   },
   {
    "duration": 32,
    "start_time": "2022-09-06T06:15:50.981Z"
   },
   {
    "duration": 28,
    "start_time": "2022-09-06T06:15:51.015Z"
   },
   {
    "duration": 19,
    "start_time": "2022-09-06T06:15:51.045Z"
   },
   {
    "duration": 4,
    "start_time": "2022-09-06T06:40:10.135Z"
   },
   {
    "duration": 738,
    "start_time": "2022-09-06T06:40:10.141Z"
   },
   {
    "duration": 4,
    "start_time": "2022-09-06T06:40:10.881Z"
   },
   {
    "duration": 40,
    "start_time": "2022-09-06T06:40:10.886Z"
   },
   {
    "duration": 12,
    "start_time": "2022-09-06T06:40:10.928Z"
   },
   {
    "duration": 11,
    "start_time": "2022-09-06T06:40:10.958Z"
   },
   {
    "duration": 16,
    "start_time": "2022-09-06T06:40:10.971Z"
   },
   {
    "duration": 22,
    "start_time": "2022-09-06T06:40:10.989Z"
   },
   {
    "duration": 33,
    "start_time": "2022-09-06T06:40:11.012Z"
   },
   {
    "duration": 302,
    "start_time": "2022-09-06T06:40:11.047Z"
   },
   {
    "duration": 5,
    "start_time": "2022-09-06T06:40:11.353Z"
   },
   {
    "duration": 37,
    "start_time": "2022-09-06T06:40:11.360Z"
   },
   {
    "duration": 120,
    "start_time": "2022-09-06T06:40:11.399Z"
   },
   {
    "duration": 12,
    "start_time": "2022-09-06T06:40:11.520Z"
   },
   {
    "duration": 33,
    "start_time": "2022-09-06T06:40:11.534Z"
   },
   {
    "duration": 305,
    "start_time": "2022-09-06T06:40:11.569Z"
   },
   {
    "duration": 23,
    "start_time": "2022-09-06T06:40:11.877Z"
   },
   {
    "duration": 48,
    "start_time": "2022-09-06T06:40:11.902Z"
   },
   {
    "duration": 12,
    "start_time": "2022-09-06T06:40:11.952Z"
   },
   {
    "duration": 27,
    "start_time": "2022-09-06T06:40:11.966Z"
   },
   {
    "duration": 23,
    "start_time": "2022-09-06T06:40:11.996Z"
   },
   {
    "duration": 43,
    "start_time": "2022-09-06T06:40:12.021Z"
   },
   {
    "duration": 324,
    "start_time": "2022-09-06T06:40:12.066Z"
   },
   {
    "duration": 11,
    "start_time": "2022-09-06T06:40:12.392Z"
   },
   {
    "duration": 41,
    "start_time": "2022-09-06T06:40:12.404Z"
   },
   {
    "duration": 163,
    "start_time": "2022-09-06T06:40:12.447Z"
   },
   {
    "duration": 8,
    "start_time": "2022-09-06T06:40:12.613Z"
   },
   {
    "duration": 172,
    "start_time": "2022-09-06T06:40:12.622Z"
   },
   {
    "duration": 9,
    "start_time": "2022-09-06T06:40:12.798Z"
   },
   {
    "duration": 8,
    "start_time": "2022-09-06T06:40:12.809Z"
   },
   {
    "duration": 46,
    "start_time": "2022-09-06T06:40:12.818Z"
   },
   {
    "duration": 41,
    "start_time": "2022-09-06T06:40:12.866Z"
   },
   {
    "duration": 189,
    "start_time": "2022-09-06T06:40:12.908Z"
   },
   {
    "duration": 11358,
    "start_time": "2022-09-06T06:40:13.099Z"
   },
   {
    "duration": 10,
    "start_time": "2022-09-06T06:40:24.459Z"
   },
   {
    "duration": 23,
    "start_time": "2022-09-06T06:40:24.470Z"
   },
   {
    "duration": 264,
    "start_time": "2022-09-06T06:40:24.495Z"
   },
   {
    "duration": 20,
    "start_time": "2022-09-06T06:40:24.761Z"
   },
   {
    "duration": 6197,
    "start_time": "2022-09-06T06:40:24.783Z"
   },
   {
    "duration": 20,
    "start_time": "2022-09-06T06:40:30.983Z"
   },
   {
    "duration": 18,
    "start_time": "2022-09-06T06:40:31.005Z"
   },
   {
    "duration": 292,
    "start_time": "2022-09-06T06:40:31.026Z"
   },
   {
    "duration": 10,
    "start_time": "2022-09-06T06:40:31.319Z"
   },
   {
    "duration": 76,
    "start_time": "2022-09-06T06:40:31.331Z"
   },
   {
    "duration": 39,
    "start_time": "2022-09-06T06:40:31.409Z"
   },
   {
    "duration": 244,
    "start_time": "2022-09-06T06:40:31.450Z"
   },
   {
    "duration": 512,
    "start_time": "2022-09-06T06:40:31.696Z"
   },
   {
    "duration": 5,
    "start_time": "2022-09-06T06:40:32.210Z"
   },
   {
    "duration": 1186,
    "start_time": "2022-09-06T06:40:32.218Z"
   },
   {
    "duration": 729,
    "start_time": "2022-09-06T06:40:33.405Z"
   },
   {
    "duration": 2255,
    "start_time": "2022-09-06T06:40:34.135Z"
   },
   {
    "duration": 7,
    "start_time": "2022-09-06T06:40:36.391Z"
   },
   {
    "duration": 185,
    "start_time": "2022-09-06T06:40:36.400Z"
   },
   {
    "duration": 16,
    "start_time": "2022-09-06T06:40:36.587Z"
   },
   {
    "duration": 4,
    "start_time": "2022-09-06T06:40:36.605Z"
   },
   {
    "duration": 15,
    "start_time": "2022-09-06T06:40:36.611Z"
   },
   {
    "duration": 35,
    "start_time": "2022-09-06T06:40:36.629Z"
   },
   {
    "duration": 10,
    "start_time": "2022-09-06T06:40:36.666Z"
   },
   {
    "duration": 9,
    "start_time": "2022-09-06T06:40:36.678Z"
   },
   {
    "duration": 9,
    "start_time": "2022-09-06T06:40:36.690Z"
   },
   {
    "duration": 4,
    "start_time": "2022-09-06T06:40:36.702Z"
   },
   {
    "duration": 2995,
    "start_time": "2022-09-06T06:40:36.708Z"
   },
   {
    "duration": 237,
    "start_time": "2022-09-06T06:40:39.705Z"
   },
   {
    "duration": 7,
    "start_time": "2022-09-06T06:40:39.944Z"
   },
   {
    "duration": 10,
    "start_time": "2022-09-06T06:40:39.958Z"
   },
   {
    "duration": 6,
    "start_time": "2022-09-06T06:40:39.970Z"
   },
   {
    "duration": 8,
    "start_time": "2022-09-06T06:40:39.978Z"
   }
  ],
  "kernelspec": {
   "display_name": "Python 3 (ipykernel)",
   "language": "python",
   "name": "python3"
  },
  "language_info": {
   "codemirror_mode": {
    "name": "ipython",
    "version": 3
   },
   "file_extension": ".py",
   "mimetype": "text/x-python",
   "name": "python",
   "nbconvert_exporter": "python",
   "pygments_lexer": "ipython3",
   "version": "3.9.13"
  },
  "toc": {
   "base_numbering": 1,
   "nav_menu": {},
   "number_sections": true,
   "sideBar": true,
   "skip_h1_title": true,
   "title_cell": "Оглавление",
   "title_sidebar": "Contents",
   "toc_cell": true,
   "toc_position": {},
   "toc_section_display": true,
   "toc_window_display": true
  }
 },
 "nbformat": 4,
 "nbformat_minor": 5
}
