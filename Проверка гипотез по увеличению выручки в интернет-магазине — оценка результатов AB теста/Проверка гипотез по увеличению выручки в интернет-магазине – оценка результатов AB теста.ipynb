{
 "cells": [
  {
   "cell_type": "markdown",
   "metadata": {},
   "source": [
    "# Проверка гипотез по увеличению выручки в интернет-магазине — оценка результатов A/B теста"
   ]
  },
  {
   "cell_type": "markdown",
   "metadata": {},
   "source": [
    "Проект поделен на две части:\n",
    "\n",
    "1. Приоретизация гипотез\n",
    "2. Анализ A/B-теста\n",
    "\n",
    "**Цель первой части** - выявить гипотезы, которые увеличивают выручку.  \n",
    "**Цель второй части** - определить успешность A/B-теста.\n",
    "\n",
    "В проект входит выполнение следующих **задач**:\n",
    "1. Обзор данных\n",
    "2. Подготовка данных\n",
    "3. Приоретизация гипотез\n",
    "4. Анализ A/B-теста\n",
    "5. Подведение итогов\n",
    "\n",
    "**Описание данных:**\n",
    "\n",
    "**hypothesis.csv**\n",
    "- Hypothesis — краткое описание гипотезы;\n",
    "- Reach — охват пользователей по 10-балльной шкале;\n",
    "- Impact — влияние на пользователей по 10-балльной шкале;\n",
    "- Confidence — уверенность в гипотезе по 10-балльной шкале;\n",
    "- Efforts — затраты ресурсов на проверку гипотезы по 10-балльной шкале. Чем больше значение Efforts, тем дороже проверка гипотезы.\n",
    "\n",
    "**orders.csv.**\n",
    "- transactionId — идентификатор заказа;\n",
    "- visitorId — идентификатор пользователя, совершившего заказ;\n",
    "- date — дата, когда был совершён заказ;\n",
    "- revenue — выручка заказа;\n",
    "- group — группа A/B-теста, в которую попал заказ.\n",
    "\n",
    "**visitors.csv**\n",
    "- date — дата;\n",
    "- group — группа A/B-теста;\n",
    "- visitors — количество пользователей в указанную дату в указанной группе A/B-теста"
   ]
  },
  {
   "cell_type": "markdown",
   "metadata": {},
   "source": [
    "## Приоретизация гипотез"
   ]
  },
  {
   "cell_type": "markdown",
   "metadata": {},
   "source": [
    "### Обзор данных"
   ]
  },
  {
   "cell_type": "code",
   "execution_count": 1,
   "metadata": {},
   "outputs": [],
   "source": [
    "# Импорт библиотек\n",
    "import pandas as pd\n",
    "import numpy as np\n",
    "import scipy.stats as stats\n",
    "import datetime as dt\n",
    "from matplotlib import pyplot as plt"
   ]
  },
  {
   "cell_type": "code",
   "execution_count": 2,
   "metadata": {},
   "outputs": [],
   "source": [
    "# Загрузка данных\n",
    "hypothesis = pd.read_csv('hypothesis.csv')"
   ]
  },
  {
   "cell_type": "code",
   "execution_count": 3,
   "metadata": {},
   "outputs": [],
   "source": [
    "# Функция обзора данных\n",
    "def first_look(df):\n",
    "    print('----------Первые 5 строк----------')\n",
    "    display(df.head())\n",
    "    print('\\n')\n",
    "    print('----------Тип данных----------')\n",
    "    display(df.info())\n",
    "    print('----------Пропуски в данных----------')\n",
    "    df_isna = df.isna().sum()\n",
    "    if df_isna.sum() > 0:\n",
    "        print(df_isna)\n",
    "    else: print('Пропусков нет')\n",
    "    print()\n",
    "    print('-----Количество явных дубликатов-----')\n",
    "    print(df.duplicated().sum())"
   ]
  },
  {
   "cell_type": "code",
   "execution_count": 4,
   "metadata": {},
   "outputs": [
    {
     "name": "stdout",
     "output_type": "stream",
     "text": [
      "----------Первые 5 строк----------\n"
     ]
    },
    {
     "data": {
      "text/html": [
       "<div>\n",
       "<style scoped>\n",
       "    .dataframe tbody tr th:only-of-type {\n",
       "        vertical-align: middle;\n",
       "    }\n",
       "\n",
       "    .dataframe tbody tr th {\n",
       "        vertical-align: top;\n",
       "    }\n",
       "\n",
       "    .dataframe thead th {\n",
       "        text-align: right;\n",
       "    }\n",
       "</style>\n",
       "<table border=\"1\" class=\"dataframe\">\n",
       "  <thead>\n",
       "    <tr style=\"text-align: right;\">\n",
       "      <th></th>\n",
       "      <th>Hypothesis</th>\n",
       "      <th>Reach</th>\n",
       "      <th>Impact</th>\n",
       "      <th>Confidence</th>\n",
       "      <th>Efforts</th>\n",
       "    </tr>\n",
       "  </thead>\n",
       "  <tbody>\n",
       "    <tr>\n",
       "      <th>0</th>\n",
       "      <td>Добавить два новых канала привлечения трафика,...</td>\n",
       "      <td>3</td>\n",
       "      <td>10</td>\n",
       "      <td>8</td>\n",
       "      <td>6</td>\n",
       "    </tr>\n",
       "    <tr>\n",
       "      <th>1</th>\n",
       "      <td>Запустить собственную службу доставки, что сок...</td>\n",
       "      <td>2</td>\n",
       "      <td>5</td>\n",
       "      <td>4</td>\n",
       "      <td>10</td>\n",
       "    </tr>\n",
       "    <tr>\n",
       "      <th>2</th>\n",
       "      <td>Добавить блоки рекомендаций товаров на сайт ин...</td>\n",
       "      <td>8</td>\n",
       "      <td>3</td>\n",
       "      <td>7</td>\n",
       "      <td>3</td>\n",
       "    </tr>\n",
       "    <tr>\n",
       "      <th>3</th>\n",
       "      <td>Изменить структура категорий, что увеличит кон...</td>\n",
       "      <td>8</td>\n",
       "      <td>3</td>\n",
       "      <td>3</td>\n",
       "      <td>8</td>\n",
       "    </tr>\n",
       "    <tr>\n",
       "      <th>4</th>\n",
       "      <td>Изменить цвет фона главной страницы, чтобы уве...</td>\n",
       "      <td>3</td>\n",
       "      <td>1</td>\n",
       "      <td>1</td>\n",
       "      <td>1</td>\n",
       "    </tr>\n",
       "  </tbody>\n",
       "</table>\n",
       "</div>"
      ],
      "text/plain": [
       "                                          Hypothesis  Reach  Impact  \\\n",
       "0  Добавить два новых канала привлечения трафика,...      3      10   \n",
       "1  Запустить собственную службу доставки, что сок...      2       5   \n",
       "2  Добавить блоки рекомендаций товаров на сайт ин...      8       3   \n",
       "3  Изменить структура категорий, что увеличит кон...      8       3   \n",
       "4  Изменить цвет фона главной страницы, чтобы уве...      3       1   \n",
       "\n",
       "   Confidence  Efforts  \n",
       "0           8        6  \n",
       "1           4       10  \n",
       "2           7        3  \n",
       "3           3        8  \n",
       "4           1        1  "
      ]
     },
     "metadata": {},
     "output_type": "display_data"
    },
    {
     "name": "stdout",
     "output_type": "stream",
     "text": [
      "\n",
      "\n",
      "----------Тип данных----------\n",
      "<class 'pandas.core.frame.DataFrame'>\n",
      "RangeIndex: 9 entries, 0 to 8\n",
      "Data columns (total 5 columns):\n",
      " #   Column      Non-Null Count  Dtype \n",
      "---  ------      --------------  ----- \n",
      " 0   Hypothesis  9 non-null      object\n",
      " 1   Reach       9 non-null      int64 \n",
      " 2   Impact      9 non-null      int64 \n",
      " 3   Confidence  9 non-null      int64 \n",
      " 4   Efforts     9 non-null      int64 \n",
      "dtypes: int64(4), object(1)\n",
      "memory usage: 488.0+ bytes\n"
     ]
    },
    {
     "data": {
      "text/plain": [
       "None"
      ]
     },
     "metadata": {},
     "output_type": "display_data"
    },
    {
     "name": "stdout",
     "output_type": "stream",
     "text": [
      "----------Пропуски в данных----------\n",
      "Пропусков нет\n",
      "\n",
      "-----Количество явных дубликатов-----\n",
      "0\n"
     ]
    }
   ],
   "source": [
    "first_look(hypothesis)"
   ]
  },
  {
   "cell_type": "markdown",
   "metadata": {},
   "source": [
    "- Библиотеки импорированы;\n",
    "- Данные загружены;\n",
    "- Обзор данных проведен."
   ]
  },
  {
   "cell_type": "markdown",
   "metadata": {},
   "source": [
    "### Приоретизация"
   ]
  },
  {
   "cell_type": "markdown",
   "metadata": {},
   "source": [
    "**Задачи:**\n",
    "- Применить фреймворк ICE для приоритизации гипотез;\n",
    "- Применить фреймворк RICE для приоритизации гипотез;\n",
    "- Указать, как изменилась приоритизация гипотез при применении RICE вместо ICE."
   ]
  },
  {
   "cell_type": "markdown",
   "metadata": {},
   "source": [
    "####  Фреймворк ICE"
   ]
  },
  {
   "attachments": {
    "image.png": {
     "image/png": "[encoded data removed]"
    }
   },
   "cell_type": "markdown",
   "metadata": {},
   "source": [
    "![image.png](attachment:image.png)"
   ]
  },
  {
   "cell_type": "markdown",
   "metadata": {},
   "source": [
    "**Impact** — насколько сильно изменение повлияет на пользователей, их опыт и удовлетворение от продукта;\n",
    "\n",
    "**Confidence** — насколько вы уверены, что это изменение повлияет на пользователей именно так;\n",
    "\n",
    "**Efforts** — сколько стоит протестировать эту гипотезу.\n",
    "\n",
    "Посчитаем ICE SCORE."
   ]
  },
  {
   "cell_type": "code",
   "execution_count": 5,
   "metadata": {},
   "outputs": [
    {
     "data": {
      "text/html": [
       "<div>\n",
       "<style scoped>\n",
       "    .dataframe tbody tr th:only-of-type {\n",
       "        vertical-align: middle;\n",
       "    }\n",
       "\n",
       "    .dataframe tbody tr th {\n",
       "        vertical-align: top;\n",
       "    }\n",
       "\n",
       "    .dataframe thead th {\n",
       "        text-align: right;\n",
       "    }\n",
       "</style>\n",
       "<table border=\"1\" class=\"dataframe\">\n",
       "  <thead>\n",
       "    <tr style=\"text-align: right;\">\n",
       "      <th></th>\n",
       "      <th>Hypothesis</th>\n",
       "      <th>ICE</th>\n",
       "    </tr>\n",
       "  </thead>\n",
       "  <tbody>\n",
       "    <tr>\n",
       "      <th>8</th>\n",
       "      <td>Запустить акцию, дающую скидку на товар в день...</td>\n",
       "      <td>16</td>\n",
       "    </tr>\n",
       "    <tr>\n",
       "      <th>0</th>\n",
       "      <td>Добавить два новых канала привлечения трафика,...</td>\n",
       "      <td>13</td>\n",
       "    </tr>\n",
       "    <tr>\n",
       "      <th>7</th>\n",
       "      <td>Добавить форму подписки на все основные страни...</td>\n",
       "      <td>11</td>\n",
       "    </tr>\n",
       "    <tr>\n",
       "      <th>6</th>\n",
       "      <td>Показать на главной странице баннеры с актуаль...</td>\n",
       "      <td>8</td>\n",
       "    </tr>\n",
       "    <tr>\n",
       "      <th>2</th>\n",
       "      <td>Добавить блоки рекомендаций товаров на сайт ин...</td>\n",
       "      <td>7</td>\n",
       "    </tr>\n",
       "    <tr>\n",
       "      <th>1</th>\n",
       "      <td>Запустить собственную службу доставки, что сок...</td>\n",
       "      <td>2</td>\n",
       "    </tr>\n",
       "    <tr>\n",
       "      <th>3</th>\n",
       "      <td>Изменить структура категорий, что увеличит кон...</td>\n",
       "      <td>1</td>\n",
       "    </tr>\n",
       "    <tr>\n",
       "      <th>4</th>\n",
       "      <td>Изменить цвет фона главной страницы, чтобы уве...</td>\n",
       "      <td>1</td>\n",
       "    </tr>\n",
       "    <tr>\n",
       "      <th>5</th>\n",
       "      <td>Добавить страницу отзывов клиентов о магазине,...</td>\n",
       "      <td>1</td>\n",
       "    </tr>\n",
       "  </tbody>\n",
       "</table>\n",
       "</div>"
      ],
      "text/plain": [
       "                                          Hypothesis  ICE\n",
       "8  Запустить акцию, дающую скидку на товар в день...   16\n",
       "0  Добавить два новых канала привлечения трафика,...   13\n",
       "7  Добавить форму подписки на все основные страни...   11\n",
       "6  Показать на главной странице баннеры с актуаль...    8\n",
       "2  Добавить блоки рекомендаций товаров на сайт ин...    7\n",
       "1  Запустить собственную службу доставки, что сок...    2\n",
       "3  Изменить структура категорий, что увеличит кон...    1\n",
       "4  Изменить цвет фона главной страницы, чтобы уве...    1\n",
       "5  Добавить страницу отзывов клиентов о магазине,...    1"
      ]
     },
     "execution_count": 5,
     "metadata": {},
     "output_type": "execute_result"
    }
   ],
   "source": [
    "hypothesis['ICE'] = (hypothesis['Impact'] * hypothesis['Confidence'] / hypothesis['Efforts']).astype('int')\n",
    "hypothesis[['Hypothesis', 'ICE']].sort_values(by='ICE', ascending=False)"
   ]
  },
  {
   "cell_type": "markdown",
   "metadata": {},
   "source": [
    "- Выделяется топ гипотез - 0, 2, 6, 7, 8.\n",
    "- Самая приоритетная гипотеза с индексом №8."
   ]
  },
  {
   "cell_type": "markdown",
   "metadata": {},
   "source": [
    "#### Фреймворк RICE"
   ]
  },
  {
   "attachments": {
    "image.png": {
     "image/png": "[encoded data removed]"
    }
   },
   "cell_type": "markdown",
   "metadata": {},
   "source": [
    "![image.png](attachment:image.png)"
   ]
  },
  {
   "cell_type": "markdown",
   "metadata": {},
   "source": [
    "В оценку RICE добавляется ещё одна компонента - **Reach** - обозначает количество пользователей, которых потенциально затронет изменение.\n",
    "\n",
    "Посчитаем RICE SCORE."
   ]
  },
  {
   "cell_type": "code",
   "execution_count": 6,
   "metadata": {},
   "outputs": [
    {
     "data": {
      "text/html": [
       "<div>\n",
       "<style scoped>\n",
       "    .dataframe tbody tr th:only-of-type {\n",
       "        vertical-align: middle;\n",
       "    }\n",
       "\n",
       "    .dataframe tbody tr th {\n",
       "        vertical-align: top;\n",
       "    }\n",
       "\n",
       "    .dataframe thead th {\n",
       "        text-align: right;\n",
       "    }\n",
       "</style>\n",
       "<table border=\"1\" class=\"dataframe\">\n",
       "  <thead>\n",
       "    <tr style=\"text-align: right;\">\n",
       "      <th></th>\n",
       "      <th>Hypothesis</th>\n",
       "      <th>RICE</th>\n",
       "    </tr>\n",
       "  </thead>\n",
       "  <tbody>\n",
       "    <tr>\n",
       "      <th>7</th>\n",
       "      <td>Добавить форму подписки на все основные страни...</td>\n",
       "      <td>112</td>\n",
       "    </tr>\n",
       "    <tr>\n",
       "      <th>2</th>\n",
       "      <td>Добавить блоки рекомендаций товаров на сайт ин...</td>\n",
       "      <td>56</td>\n",
       "    </tr>\n",
       "    <tr>\n",
       "      <th>0</th>\n",
       "      <td>Добавить два новых канала привлечения трафика,...</td>\n",
       "      <td>40</td>\n",
       "    </tr>\n",
       "    <tr>\n",
       "      <th>6</th>\n",
       "      <td>Показать на главной странице баннеры с актуаль...</td>\n",
       "      <td>40</td>\n",
       "    </tr>\n",
       "    <tr>\n",
       "      <th>8</th>\n",
       "      <td>Запустить акцию, дающую скидку на товар в день...</td>\n",
       "      <td>16</td>\n",
       "    </tr>\n",
       "    <tr>\n",
       "      <th>3</th>\n",
       "      <td>Изменить структура категорий, что увеличит кон...</td>\n",
       "      <td>9</td>\n",
       "    </tr>\n",
       "    <tr>\n",
       "      <th>1</th>\n",
       "      <td>Запустить собственную службу доставки, что сок...</td>\n",
       "      <td>4</td>\n",
       "    </tr>\n",
       "    <tr>\n",
       "      <th>5</th>\n",
       "      <td>Добавить страницу отзывов клиентов о магазине,...</td>\n",
       "      <td>4</td>\n",
       "    </tr>\n",
       "    <tr>\n",
       "      <th>4</th>\n",
       "      <td>Изменить цвет фона главной страницы, чтобы уве...</td>\n",
       "      <td>3</td>\n",
       "    </tr>\n",
       "  </tbody>\n",
       "</table>\n",
       "</div>"
      ],
      "text/plain": [
       "                                          Hypothesis  RICE\n",
       "7  Добавить форму подписки на все основные страни...   112\n",
       "2  Добавить блоки рекомендаций товаров на сайт ин...    56\n",
       "0  Добавить два новых канала привлечения трафика,...    40\n",
       "6  Показать на главной странице баннеры с актуаль...    40\n",
       "8  Запустить акцию, дающую скидку на товар в день...    16\n",
       "3  Изменить структура категорий, что увеличит кон...     9\n",
       "1  Запустить собственную службу доставки, что сок...     4\n",
       "5  Добавить страницу отзывов клиентов о магазине,...     4\n",
       "4  Изменить цвет фона главной страницы, чтобы уве...     3"
      ]
     },
     "execution_count": 6,
     "metadata": {},
     "output_type": "execute_result"
    }
   ],
   "source": [
    "hypothesis['RICE'] = (hypothesis['Reach'] * hypothesis['Impact'] * hypothesis['Confidence'] / hypothesis['Efforts']).astype('int')\n",
    "hypothesis[['Hypothesis', 'RICE']].sort_values(by='RICE', ascending=False)"
   ]
  },
  {
   "cell_type": "markdown",
   "metadata": {},
   "source": [
    "- Выделяется топ гипотез - 0, 2, 6, 7.\n",
    "- Самя приоритетная гипотеза № 7"
   ]
  },
  {
   "cell_type": "markdown",
   "metadata": {},
   "source": [
    "#### Выводы"
   ]
  },
  {
   "cell_type": "code",
   "execution_count": 7,
   "metadata": {},
   "outputs": [
    {
     "data": {
      "text/html": [
       "<div>\n",
       "<style scoped>\n",
       "    .dataframe tbody tr th:only-of-type {\n",
       "        vertical-align: middle;\n",
       "    }\n",
       "\n",
       "    .dataframe tbody tr th {\n",
       "        vertical-align: top;\n",
       "    }\n",
       "\n",
       "    .dataframe thead th {\n",
       "        text-align: right;\n",
       "    }\n",
       "</style>\n",
       "<table border=\"1\" class=\"dataframe\">\n",
       "  <thead>\n",
       "    <tr style=\"text-align: right;\">\n",
       "      <th></th>\n",
       "      <th>Hypothesis</th>\n",
       "      <th>Reach</th>\n",
       "      <th>ICE</th>\n",
       "      <th>RICE</th>\n",
       "    </tr>\n",
       "  </thead>\n",
       "  <tbody>\n",
       "    <tr>\n",
       "      <th>8</th>\n",
       "      <td>Запустить акцию, дающую скидку на товар в день...</td>\n",
       "      <td>1</td>\n",
       "      <td>16</td>\n",
       "      <td>16</td>\n",
       "    </tr>\n",
       "    <tr>\n",
       "      <th>0</th>\n",
       "      <td>Добавить два новых канала привлечения трафика,...</td>\n",
       "      <td>3</td>\n",
       "      <td>13</td>\n",
       "      <td>40</td>\n",
       "    </tr>\n",
       "    <tr>\n",
       "      <th>7</th>\n",
       "      <td>Добавить форму подписки на все основные страни...</td>\n",
       "      <td>10</td>\n",
       "      <td>11</td>\n",
       "      <td>112</td>\n",
       "    </tr>\n",
       "    <tr>\n",
       "      <th>6</th>\n",
       "      <td>Показать на главной странице баннеры с актуаль...</td>\n",
       "      <td>5</td>\n",
       "      <td>8</td>\n",
       "      <td>40</td>\n",
       "    </tr>\n",
       "    <tr>\n",
       "      <th>2</th>\n",
       "      <td>Добавить блоки рекомендаций товаров на сайт ин...</td>\n",
       "      <td>8</td>\n",
       "      <td>7</td>\n",
       "      <td>56</td>\n",
       "    </tr>\n",
       "    <tr>\n",
       "      <th>1</th>\n",
       "      <td>Запустить собственную службу доставки, что сок...</td>\n",
       "      <td>2</td>\n",
       "      <td>2</td>\n",
       "      <td>4</td>\n",
       "    </tr>\n",
       "    <tr>\n",
       "      <th>3</th>\n",
       "      <td>Изменить структура категорий, что увеличит кон...</td>\n",
       "      <td>8</td>\n",
       "      <td>1</td>\n",
       "      <td>9</td>\n",
       "    </tr>\n",
       "    <tr>\n",
       "      <th>5</th>\n",
       "      <td>Добавить страницу отзывов клиентов о магазине,...</td>\n",
       "      <td>3</td>\n",
       "      <td>1</td>\n",
       "      <td>4</td>\n",
       "    </tr>\n",
       "    <tr>\n",
       "      <th>4</th>\n",
       "      <td>Изменить цвет фона главной страницы, чтобы уве...</td>\n",
       "      <td>3</td>\n",
       "      <td>1</td>\n",
       "      <td>3</td>\n",
       "    </tr>\n",
       "  </tbody>\n",
       "</table>\n",
       "</div>"
      ],
      "text/plain": [
       "                                          Hypothesis  Reach  ICE  RICE\n",
       "8  Запустить акцию, дающую скидку на товар в день...      1   16    16\n",
       "0  Добавить два новых канала привлечения трафика,...      3   13    40\n",
       "7  Добавить форму подписки на все основные страни...     10   11   112\n",
       "6  Показать на главной странице баннеры с актуаль...      5    8    40\n",
       "2  Добавить блоки рекомендаций товаров на сайт ин...      8    7    56\n",
       "1  Запустить собственную службу доставки, что сок...      2    2     4\n",
       "3  Изменить структура категорий, что увеличит кон...      8    1     9\n",
       "5  Добавить страницу отзывов клиентов о магазине,...      3    1     4\n",
       "4  Изменить цвет фона главной страницы, чтобы уве...      3    1     3"
      ]
     },
     "execution_count": 7,
     "metadata": {},
     "output_type": "execute_result"
    }
   ],
   "source": [
    "hypothesis[['Hypothesis', 'Reach', 'ICE', 'RICE']].sort_values(by=['ICE', 'RICE'], ascending=False)"
   ]
  },
  {
   "cell_type": "markdown",
   "metadata": {},
   "source": [
    "- Единственное отличие метода ICE от RICE это параметр **Reach**;\n",
    "- Благодаря позитивной оценке охвата пользоатель в 10 баллов гипотеза с индексом 7 стала иметь наибольший приоритет;\n",
    "- Гипотеза № 8 по RICE не проявила себя;\n",
    "- Можно отметить, что гипотезы с высоким баллом по ICE (> 2) также получили высокий балл и по RICE и остались в приоритетном топе. "
   ]
  },
  {
   "cell_type": "markdown",
   "metadata": {},
   "source": [
    "## Анализ A/B теста"
   ]
  },
  {
   "cell_type": "markdown",
   "metadata": {},
   "source": [
    "### Обзор данных"
   ]
  },
  {
   "cell_type": "code",
   "execution_count": 8,
   "metadata": {},
   "outputs": [],
   "source": [
    "# Загрузка данных\n",
    "orders = pd.read_csv('orders.csv')\n",
    "visitors = pd.read_csv('visitors.csv')"
   ]
  },
  {
   "cell_type": "code",
   "execution_count": 9,
   "metadata": {},
   "outputs": [
    {
     "name": "stdout",
     "output_type": "stream",
     "text": [
      "----------Первые 5 строк----------\n"
     ]
    },
    {
     "data": {
      "text/html": [
       "<div>\n",
       "<style scoped>\n",
       "    .dataframe tbody tr th:only-of-type {\n",
       "        vertical-align: middle;\n",
       "    }\n",
       "\n",
       "    .dataframe tbody tr th {\n",
       "        vertical-align: top;\n",
       "    }\n",
       "\n",
       "    .dataframe thead th {\n",
       "        text-align: right;\n",
       "    }\n",
       "</style>\n",
       "<table border=\"1\" class=\"dataframe\">\n",
       "  <thead>\n",
       "    <tr style=\"text-align: right;\">\n",
       "      <th></th>\n",
       "      <th>transactionId</th>\n",
       "      <th>visitorId</th>\n",
       "      <th>date</th>\n",
       "      <th>revenue</th>\n",
       "      <th>group</th>\n",
       "    </tr>\n",
       "  </thead>\n",
       "  <tbody>\n",
       "    <tr>\n",
       "      <th>0</th>\n",
       "      <td>3667963787</td>\n",
       "      <td>3312258926</td>\n",
       "      <td>2019-08-15</td>\n",
       "      <td>1650</td>\n",
       "      <td>B</td>\n",
       "    </tr>\n",
       "    <tr>\n",
       "      <th>1</th>\n",
       "      <td>2804400009</td>\n",
       "      <td>3642806036</td>\n",
       "      <td>2019-08-15</td>\n",
       "      <td>730</td>\n",
       "      <td>B</td>\n",
       "    </tr>\n",
       "    <tr>\n",
       "      <th>2</th>\n",
       "      <td>2961555356</td>\n",
       "      <td>4069496402</td>\n",
       "      <td>2019-08-15</td>\n",
       "      <td>400</td>\n",
       "      <td>A</td>\n",
       "    </tr>\n",
       "    <tr>\n",
       "      <th>3</th>\n",
       "      <td>3797467345</td>\n",
       "      <td>1196621759</td>\n",
       "      <td>2019-08-15</td>\n",
       "      <td>9759</td>\n",
       "      <td>B</td>\n",
       "    </tr>\n",
       "    <tr>\n",
       "      <th>4</th>\n",
       "      <td>2282983706</td>\n",
       "      <td>2322279887</td>\n",
       "      <td>2019-08-15</td>\n",
       "      <td>2308</td>\n",
       "      <td>B</td>\n",
       "    </tr>\n",
       "  </tbody>\n",
       "</table>\n",
       "</div>"
      ],
      "text/plain": [
       "   transactionId   visitorId        date  revenue group\n",
       "0     3667963787  3312258926  2019-08-15     1650     B\n",
       "1     2804400009  3642806036  2019-08-15      730     B\n",
       "2     2961555356  4069496402  2019-08-15      400     A\n",
       "3     3797467345  1196621759  2019-08-15     9759     B\n",
       "4     2282983706  2322279887  2019-08-15     2308     B"
      ]
     },
     "metadata": {},
     "output_type": "display_data"
    },
    {
     "name": "stdout",
     "output_type": "stream",
     "text": [
      "\n",
      "\n",
      "----------Тип данных----------\n",
      "<class 'pandas.core.frame.DataFrame'>\n",
      "RangeIndex: 1197 entries, 0 to 1196\n",
      "Data columns (total 5 columns):\n",
      " #   Column         Non-Null Count  Dtype \n",
      "---  ------         --------------  ----- \n",
      " 0   transactionId  1197 non-null   int64 \n",
      " 1   visitorId      1197 non-null   int64 \n",
      " 2   date           1197 non-null   object\n",
      " 3   revenue        1197 non-null   int64 \n",
      " 4   group          1197 non-null   object\n",
      "dtypes: int64(3), object(2)\n",
      "memory usage: 46.9+ KB\n"
     ]
    },
    {
     "data": {
      "text/plain": [
       "None"
      ]
     },
     "metadata": {},
     "output_type": "display_data"
    },
    {
     "name": "stdout",
     "output_type": "stream",
     "text": [
      "----------Пропуски в данных----------\n",
      "Пропусков нет\n",
      "\n",
      "-----Количество явных дубликатов-----\n",
      "0\n"
     ]
    }
   ],
   "source": [
    "# Обзор данных\n",
    "first_look(orders)"
   ]
  },
  {
   "cell_type": "code",
   "execution_count": 10,
   "metadata": {},
   "outputs": [
    {
     "name": "stdout",
     "output_type": "stream",
     "text": [
      "----------Первые 5 строк----------\n"
     ]
    },
    {
     "data": {
      "text/html": [
       "<div>\n",
       "<style scoped>\n",
       "    .dataframe tbody tr th:only-of-type {\n",
       "        vertical-align: middle;\n",
       "    }\n",
       "\n",
       "    .dataframe tbody tr th {\n",
       "        vertical-align: top;\n",
       "    }\n",
       "\n",
       "    .dataframe thead th {\n",
       "        text-align: right;\n",
       "    }\n",
       "</style>\n",
       "<table border=\"1\" class=\"dataframe\">\n",
       "  <thead>\n",
       "    <tr style=\"text-align: right;\">\n",
       "      <th></th>\n",
       "      <th>date</th>\n",
       "      <th>group</th>\n",
       "      <th>visitors</th>\n",
       "    </tr>\n",
       "  </thead>\n",
       "  <tbody>\n",
       "    <tr>\n",
       "      <th>0</th>\n",
       "      <td>2019-08-01</td>\n",
       "      <td>A</td>\n",
       "      <td>719</td>\n",
       "    </tr>\n",
       "    <tr>\n",
       "      <th>1</th>\n",
       "      <td>2019-08-02</td>\n",
       "      <td>A</td>\n",
       "      <td>619</td>\n",
       "    </tr>\n",
       "    <tr>\n",
       "      <th>2</th>\n",
       "      <td>2019-08-03</td>\n",
       "      <td>A</td>\n",
       "      <td>507</td>\n",
       "    </tr>\n",
       "    <tr>\n",
       "      <th>3</th>\n",
       "      <td>2019-08-04</td>\n",
       "      <td>A</td>\n",
       "      <td>717</td>\n",
       "    </tr>\n",
       "    <tr>\n",
       "      <th>4</th>\n",
       "      <td>2019-08-05</td>\n",
       "      <td>A</td>\n",
       "      <td>756</td>\n",
       "    </tr>\n",
       "  </tbody>\n",
       "</table>\n",
       "</div>"
      ],
      "text/plain": [
       "         date group  visitors\n",
       "0  2019-08-01     A       719\n",
       "1  2019-08-02     A       619\n",
       "2  2019-08-03     A       507\n",
       "3  2019-08-04     A       717\n",
       "4  2019-08-05     A       756"
      ]
     },
     "metadata": {},
     "output_type": "display_data"
    },
    {
     "name": "stdout",
     "output_type": "stream",
     "text": [
      "\n",
      "\n",
      "----------Тип данных----------\n",
      "<class 'pandas.core.frame.DataFrame'>\n",
      "RangeIndex: 62 entries, 0 to 61\n",
      "Data columns (total 3 columns):\n",
      " #   Column    Non-Null Count  Dtype \n",
      "---  ------    --------------  ----- \n",
      " 0   date      62 non-null     object\n",
      " 1   group     62 non-null     object\n",
      " 2   visitors  62 non-null     int64 \n",
      "dtypes: int64(1), object(2)\n",
      "memory usage: 1.6+ KB\n"
     ]
    },
    {
     "data": {
      "text/plain": [
       "None"
      ]
     },
     "metadata": {},
     "output_type": "display_data"
    },
    {
     "name": "stdout",
     "output_type": "stream",
     "text": [
      "----------Пропуски в данных----------\n",
      "Пропусков нет\n",
      "\n",
      "-----Количество явных дубликатов-----\n",
      "0\n"
     ]
    }
   ],
   "source": [
    "first_look(visitors)"
   ]
  },
  {
   "cell_type": "markdown",
   "metadata": {},
   "source": [
    "Необходимо привести даты формат datetime."
   ]
  },
  {
   "cell_type": "markdown",
   "metadata": {},
   "source": [
    "### Приведение форматов"
   ]
  },
  {
   "cell_type": "code",
   "execution_count": 11,
   "metadata": {},
   "outputs": [],
   "source": [
    "# Приведение формата к datetime\n",
    "orders['date'] = pd.to_datetime(orders['date'], format='%Y-%m-%d')\n",
    "visitors['date'] = pd.to_datetime(visitors['date'], format='%Y-%m-%d')"
   ]
  },
  {
   "cell_type": "markdown",
   "metadata": {},
   "source": [
    "###  Кумулятивные графики"
   ]
  },
  {
   "cell_type": "markdown",
   "metadata": {},
   "source": [
    "**Задачи:**\n",
    "- График кумулятивной выручки по группам;\n",
    "- График кумулятивного среднего чека по группам;\n",
    "- График относительного изменения кумулятивного среднего чека;\n",
    "- График кумулятивной конверсии по группам;\n",
    "- График относительного изменения кумулятивной конверсии группы B к группе A."
   ]
  },
  {
   "cell_type": "markdown",
   "metadata": {},
   "source": [
    "#### Подготовка к построению графиков"
   ]
  },
  {
   "cell_type": "markdown",
   "metadata": {},
   "source": [
    "Чтобы построить графики, нужно собрать кумулятивные данные. Объявим для этого датафрейм `cumulative_data`."
   ]
  },
  {
   "cell_type": "code",
   "execution_count": 12,
   "metadata": {},
   "outputs": [
    {
     "data": {
      "text/html": [
       "<div>\n",
       "<style scoped>\n",
       "    .dataframe tbody tr th:only-of-type {\n",
       "        vertical-align: middle;\n",
       "    }\n",
       "\n",
       "    .dataframe tbody tr th {\n",
       "        vertical-align: top;\n",
       "    }\n",
       "\n",
       "    .dataframe thead th {\n",
       "        text-align: right;\n",
       "    }\n",
       "</style>\n",
       "<table border=\"1\" class=\"dataframe\">\n",
       "  <thead>\n",
       "    <tr style=\"text-align: right;\">\n",
       "      <th></th>\n",
       "      <th>date</th>\n",
       "      <th>group</th>\n",
       "    </tr>\n",
       "  </thead>\n",
       "  <tbody>\n",
       "    <tr>\n",
       "      <th>0</th>\n",
       "      <td>2019-08-15</td>\n",
       "      <td>B</td>\n",
       "    </tr>\n",
       "    <tr>\n",
       "      <th>2</th>\n",
       "      <td>2019-08-15</td>\n",
       "      <td>A</td>\n",
       "    </tr>\n",
       "    <tr>\n",
       "      <th>45</th>\n",
       "      <td>2019-08-16</td>\n",
       "      <td>A</td>\n",
       "    </tr>\n",
       "    <tr>\n",
       "      <th>47</th>\n",
       "      <td>2019-08-16</td>\n",
       "      <td>B</td>\n",
       "    </tr>\n",
       "    <tr>\n",
       "      <th>55</th>\n",
       "      <td>2019-08-01</td>\n",
       "      <td>A</td>\n",
       "    </tr>\n",
       "  </tbody>\n",
       "</table>\n",
       "</div>"
      ],
      "text/plain": [
       "         date group\n",
       "0  2019-08-15     B\n",
       "2  2019-08-15     A\n",
       "45 2019-08-16     A\n",
       "47 2019-08-16     B\n",
       "55 2019-08-01     A"
      ]
     },
     "execution_count": 12,
     "metadata": {},
     "output_type": "execute_result"
    }
   ],
   "source": [
    "# создаем массив уникальных пар значений дат и групп теста\n",
    "dates_groups = orders[['date', 'group']].drop_duplicates()\n",
    "dates_groups.head()"
   ]
  },
  {
   "cell_type": "markdown",
   "metadata": {},
   "source": [
    "Соберём агрегированные кумулятивные по дням данные о заказах."
   ]
  },
  {
   "cell_type": "code",
   "execution_count": 13,
   "metadata": {},
   "outputs": [
    {
     "data": {
      "text/html": [
       "<div>\n",
       "<style scoped>\n",
       "    .dataframe tbody tr th:only-of-type {\n",
       "        vertical-align: middle;\n",
       "    }\n",
       "\n",
       "    .dataframe tbody tr th {\n",
       "        vertical-align: top;\n",
       "    }\n",
       "\n",
       "    .dataframe thead th {\n",
       "        text-align: right;\n",
       "    }\n",
       "</style>\n",
       "<table border=\"1\" class=\"dataframe\">\n",
       "  <thead>\n",
       "    <tr style=\"text-align: right;\">\n",
       "      <th></th>\n",
       "      <th>date</th>\n",
       "      <th>group</th>\n",
       "      <th>transactionId</th>\n",
       "      <th>visitorId</th>\n",
       "      <th>revenue</th>\n",
       "    </tr>\n",
       "  </thead>\n",
       "  <tbody>\n",
       "    <tr>\n",
       "      <th>55</th>\n",
       "      <td>2019-08-01</td>\n",
       "      <td>A</td>\n",
       "      <td>24</td>\n",
       "      <td>20</td>\n",
       "      <td>148579</td>\n",
       "    </tr>\n",
       "    <tr>\n",
       "      <th>66</th>\n",
       "      <td>2019-08-01</td>\n",
       "      <td>B</td>\n",
       "      <td>21</td>\n",
       "      <td>20</td>\n",
       "      <td>101217</td>\n",
       "    </tr>\n",
       "    <tr>\n",
       "      <th>175</th>\n",
       "      <td>2019-08-02</td>\n",
       "      <td>A</td>\n",
       "      <td>44</td>\n",
       "      <td>38</td>\n",
       "      <td>242401</td>\n",
       "    </tr>\n",
       "    <tr>\n",
       "      <th>173</th>\n",
       "      <td>2019-08-02</td>\n",
       "      <td>B</td>\n",
       "      <td>45</td>\n",
       "      <td>43</td>\n",
       "      <td>266748</td>\n",
       "    </tr>\n",
       "    <tr>\n",
       "      <th>291</th>\n",
       "      <td>2019-08-03</td>\n",
       "      <td>A</td>\n",
       "      <td>68</td>\n",
       "      <td>62</td>\n",
       "      <td>354874</td>\n",
       "    </tr>\n",
       "  </tbody>\n",
       "</table>\n",
       "</div>"
      ],
      "text/plain": [
       "          date group  transactionId  visitorId  revenue\n",
       "55  2019-08-01     A             24         20   148579\n",
       "66  2019-08-01     B             21         20   101217\n",
       "175 2019-08-02     A             44         38   242401\n",
       "173 2019-08-02     B             45         43   266748\n",
       "291 2019-08-03     A             68         62   354874"
      ]
     },
     "execution_count": 13,
     "metadata": {},
     "output_type": "execute_result"
    }
   ],
   "source": [
    "# получаем агрегированные кумулятивные по дням данные о заказах \n",
    "orders_aggregated = (dates_groups\n",
    "    .apply(lambda x: orders[np.logical_and(orders['date'] <= x['date'], orders['group'] == x['group'])]\\\n",
    "    .agg({'date' : 'max', 'group' : 'max', 'transactionId' : 'nunique', 'visitorId' : 'nunique', 'revenue' : 'sum'}), axis=1)\n",
    "    .sort_values(by=['date', 'group'])\n",
    ")\n",
    "orders_aggregated.head()"
   ]
  },
  {
   "cell_type": "markdown",
   "metadata": {},
   "source": [
    "Аналогично получим агрегированные кумулятивные по дням данные о посетителях."
   ]
  },
  {
   "cell_type": "code",
   "execution_count": 14,
   "metadata": {},
   "outputs": [],
   "source": [
    "# получаем агрегированные кумулятивные по дням данные о посетителях интернет-магазина \n",
    "visitors_aggregated = (dates_groups\n",
    "    .apply(lambda x: visitors[np.logical_and(visitors['date'] <= x['date'], visitors['group'] == x['group'])]\\\n",
    "    .agg({'date' : 'max', 'group' : 'max', 'visitors' : 'sum'}), axis=1)\n",
    "    .sort_values(by=['date', 'group'])\n",
    ")"
   ]
  },
  {
   "cell_type": "markdown",
   "metadata": {},
   "source": [
    "Объединим обе таблицы в одну с понятными названиями столбцов."
   ]
  },
  {
   "cell_type": "code",
   "execution_count": 15,
   "metadata": {},
   "outputs": [
    {
     "data": {
      "text/html": [
       "<div>\n",
       "<style scoped>\n",
       "    .dataframe tbody tr th:only-of-type {\n",
       "        vertical-align: middle;\n",
       "    }\n",
       "\n",
       "    .dataframe tbody tr th {\n",
       "        vertical-align: top;\n",
       "    }\n",
       "\n",
       "    .dataframe thead th {\n",
       "        text-align: right;\n",
       "    }\n",
       "</style>\n",
       "<table border=\"1\" class=\"dataframe\">\n",
       "  <thead>\n",
       "    <tr style=\"text-align: right;\">\n",
       "      <th></th>\n",
       "      <th>date</th>\n",
       "      <th>group</th>\n",
       "      <th>orders</th>\n",
       "      <th>buyers</th>\n",
       "      <th>revenue</th>\n",
       "      <th>visitors</th>\n",
       "    </tr>\n",
       "  </thead>\n",
       "  <tbody>\n",
       "    <tr>\n",
       "      <th>0</th>\n",
       "      <td>2019-08-01</td>\n",
       "      <td>A</td>\n",
       "      <td>24</td>\n",
       "      <td>20</td>\n",
       "      <td>148579</td>\n",
       "      <td>719</td>\n",
       "    </tr>\n",
       "    <tr>\n",
       "      <th>1</th>\n",
       "      <td>2019-08-01</td>\n",
       "      <td>B</td>\n",
       "      <td>21</td>\n",
       "      <td>20</td>\n",
       "      <td>101217</td>\n",
       "      <td>713</td>\n",
       "    </tr>\n",
       "    <tr>\n",
       "      <th>2</th>\n",
       "      <td>2019-08-02</td>\n",
       "      <td>A</td>\n",
       "      <td>44</td>\n",
       "      <td>38</td>\n",
       "      <td>242401</td>\n",
       "      <td>1338</td>\n",
       "    </tr>\n",
       "    <tr>\n",
       "      <th>3</th>\n",
       "      <td>2019-08-02</td>\n",
       "      <td>B</td>\n",
       "      <td>45</td>\n",
       "      <td>43</td>\n",
       "      <td>266748</td>\n",
       "      <td>1294</td>\n",
       "    </tr>\n",
       "    <tr>\n",
       "      <th>4</th>\n",
       "      <td>2019-08-03</td>\n",
       "      <td>A</td>\n",
       "      <td>68</td>\n",
       "      <td>62</td>\n",
       "      <td>354874</td>\n",
       "      <td>1845</td>\n",
       "    </tr>\n",
       "  </tbody>\n",
       "</table>\n",
       "</div>"
      ],
      "text/plain": [
       "        date group  orders  buyers  revenue  visitors\n",
       "0 2019-08-01     A      24      20   148579       719\n",
       "1 2019-08-01     B      21      20   101217       713\n",
       "2 2019-08-02     A      44      38   242401      1338\n",
       "3 2019-08-02     B      45      43   266748      1294\n",
       "4 2019-08-03     A      68      62   354874      1845"
      ]
     },
     "execution_count": 15,
     "metadata": {},
     "output_type": "execute_result"
    }
   ],
   "source": [
    "# объединяем кумулятивные данные в одной таблице и присваиваем ее столбцам понятные названия\n",
    "cumulative_data = orders_aggregated.merge(visitors_aggregated, left_on=['date', 'group'], right_on=['date', 'group'])\n",
    "cumulative_data.columns = ['date', 'group', 'orders', 'buyers', 'revenue', 'visitors']\n",
    "cumulative_data.head()"
   ]
  },
  {
   "cell_type": "markdown",
   "metadata": {},
   "source": [
    "Данные для построения кумулятивных графиков по группам подготовлены."
   ]
  },
  {
   "cell_type": "markdown",
   "metadata": {},
   "source": [
    "####  График кумулятивной выручки по группам"
   ]
  },
  {
   "cell_type": "code",
   "execution_count": 16,
   "metadata": {},
   "outputs": [
    {
     "data": {
      "image/png": "[encoded data removed]",
      "text/plain": [
       "<Figure size 864x432 with 1 Axes>"
      ]
     },
     "metadata": {
      "needs_background": "light"
     },
     "output_type": "display_data"
    }
   ],
   "source": [
    "# датафрейм с кумулятивным количеством заказов и кумулятивной выручкой по дням в группе А\n",
    "cumulative_revenue_A = cumulative_data[cumulative_data['group']=='A'][['date','revenue', 'orders']]\n",
    "\n",
    "# датафрейм с кумулятивным количеством заказов и кумулятивной выручкой по дням в группе B\n",
    "cumulative_revenue_B = cumulative_data[cumulative_data['group']=='B'][['date','revenue', 'orders']]\n",
    "\n",
    "plt.figure(figsize=(12, 6))\n",
    "\n",
    "# Строим график выручки группы А\n",
    "plt.plot(cumulative_revenue_A['date'], cumulative_revenue_A['revenue'], label='A')\n",
    "\n",
    "# Строим график выручки группы B\n",
    "plt.plot(cumulative_revenue_B['date'], cumulative_revenue_B['revenue'], label='B')\n",
    "\n",
    "#оформляем\n",
    "plt.title('График кумулятивной выручки по группам')\n",
    "plt.xlabel('Дата')\n",
    "plt.ylabel('Кумулятивная выручка, млн.')\n",
    "plt.legend(); "
   ]
  },
  {
   "cell_type": "markdown",
   "metadata": {},
   "source": [
    "**Выводы:**\n",
    "- Выручки групп равномерно увеличиваются до 05 августа;\n",
    "- После пятого дня динамика выручки группы B несколько увличилась в сравнении с группой A и в целом в дальнейшем опережала прирост выручки группы A;\n",
    "- График выручки группы B резко растет 18 августа, что может сигнализировать о всплесках числа заказов или о появлении очень дорогих заказов в выборке."
   ]
  },
  {
   "cell_type": "markdown",
   "metadata": {},
   "source": [
    "#### График кумулятивного среднего чека по группам "
   ]
  },
  {
   "cell_type": "markdown",
   "metadata": {},
   "source": [
    "Построим графики среднего чека по группам — разделим кумулятивную выручку на кумулятивное число заказов."
   ]
  },
  {
   "cell_type": "code",
   "execution_count": 17,
   "metadata": {},
   "outputs": [
    {
     "data": {
      "image/png": "[encoded data removed]",
      "text/plain": [
       "<Figure size 864x432 with 1 Axes>"
      ]
     },
     "metadata": {
      "needs_background": "light"
     },
     "output_type": "display_data"
    }
   ],
   "source": [
    "plt.figure(figsize=(12, 6))\n",
    "plt.plot(cumulative_revenue_A['date'], cumulative_revenue_A['revenue']/cumulative_revenue_A['orders'], label='A')\n",
    "plt.plot(cumulative_revenue_B['date'], cumulative_revenue_B['revenue']/cumulative_revenue_B['orders'], label='B')\n",
    "plt.title('График кумулятивного среднего чека по группам')\n",
    "plt.xlabel('Дата')\n",
    "plt.ylabel('Кумулятивная стоимость среднего чека')\n",
    "plt.legend(); "
   ]
  },
  {
   "cell_type": "markdown",
   "metadata": {},
   "source": [
    "**Выводы**\n",
    "- Средний чек для группы A установился примерно после 13 августа.\n",
    "- Наблюдается скачок среднего чека в группе B 18 августа - видимо в этот день попали крупные заказы."
   ]
  },
  {
   "cell_type": "markdown",
   "metadata": {},
   "source": [
    "#### График относительного изменения кумулятивного среднего чека "
   ]
  },
  {
   "cell_type": "code",
   "execution_count": 18,
   "metadata": {},
   "outputs": [
    {
     "data": {
      "image/png": "[encoded data removed]",
      "text/plain": [
       "<Figure size 864x432 with 1 Axes>"
      ]
     },
     "metadata": {
      "needs_background": "light"
     },
     "output_type": "display_data"
    }
   ],
   "source": [
    "# собираем данные в одном датафрейме\n",
    "merged_cumulative_revenue = cumulative_revenue_A.merge(cumulative_revenue_B, left_on='date', right_on='date', how='left', suffixes=['A', 'B'])\n",
    "\n",
    "plt.figure(figsize=(12, 6))\n",
    "\n",
    "# cтроим отношение средних чеков\n",
    "plt.plot(merged_cumulative_revenue['date'], (merged_cumulative_revenue['revenueB']/merged_cumulative_revenue['ordersB'])/(merged_cumulative_revenue['revenueA']/merged_cumulative_revenue['ordersA'])-1)\n",
    "\n",
    "# добавляем ось X\n",
    "plt.axhline(y=0, color='black', linestyle='--'); \n",
    "\n",
    "# оформляем\n",
    "plt.title('График относительного изменения кумулятивного среднего чека')\n",
    "plt.xlabel('Дата')\n",
    "plt.ylabel('Относительное изменение');"
   ]
  },
  {
   "cell_type": "markdown",
   "metadata": {},
   "source": [
    "**Выводы**\n",
    "- График имеет достаточно большой диапазон колебаний;\n",
    "- 18 августа наблюдается большой резкий скачёк."
   ]
  },
  {
   "cell_type": "markdown",
   "metadata": {},
   "source": [
    "#### График кумулятивной конверсии по группам"
   ]
  },
  {
   "cell_type": "code",
   "execution_count": 19,
   "metadata": {},
   "outputs": [
    {
     "data": {
      "image/png": "[encoded data removed]",
      "text/plain": [
       "<Figure size 864x432 with 1 Axes>"
      ]
     },
     "metadata": {
      "needs_background": "light"
     },
     "output_type": "display_data"
    }
   ],
   "source": [
    "# считаем кумулятивную конверсию\n",
    "cumulative_data['conversion'] = cumulative_data['orders']/cumulative_data['visitors']\n",
    "\n",
    "# отделяем данные по группе A\n",
    "cumulative_data_A = cumulative_data[cumulative_data['group']=='A']\n",
    "\n",
    "# отделяем данные по группе B\n",
    "cumulative_data_B = cumulative_data[cumulative_data['group']=='B']\n",
    "\n",
    "# строим графики\n",
    "plt.figure(figsize=(12, 6))\n",
    "plt.plot(cumulative_data_A['date'], cumulative_data_A['conversion'], label='A')\n",
    "plt.plot(cumulative_data_B['date'], cumulative_data_B['conversion'], label='B')\n",
    "\n",
    "# оформляем\n",
    "plt.title('График кумулятивной конверсии по группам')\n",
    "plt.xlabel('Дата')\n",
    "plt.ylabel('Конверсия')\n",
    "plt.legend()\n",
    "\n",
    "# задаем масштаб осей\n",
    "plt.axis([min(cumulative_data_A['date']), max(cumulative_data_A['date']), 0, 0.04]); "
   ]
  },
  {
   "cell_type": "markdown",
   "metadata": {},
   "source": [
    "**Выводы**\n",
    "- С 1-ого по 9 числа вагуста конверсия достаточно сильно колебалась;\n",
    "- Далее конверсия стабилизировалась и конверсия группы B стала стабильно выше конверсии группы A."
   ]
  },
  {
   "cell_type": "markdown",
   "metadata": {},
   "source": [
    "#### График относительного изменения кумулятивной конверсии группы B к группе A "
   ]
  },
  {
   "cell_type": "code",
   "execution_count": 20,
   "metadata": {},
   "outputs": [
    {
     "data": {
      "image/png": "[encoded data removed]",
      "text/plain": [
       "<Figure size 864x432 with 1 Axes>"
      ]
     },
     "metadata": {
      "needs_background": "light"
     },
     "output_type": "display_data"
    }
   ],
   "source": [
    "# собираем данные в одном датафрейме\n",
    "merged_cumulative_conversions = cumulative_data_A[['date','conversion']].merge(cumulative_data_B[['date','conversion']], left_on='date', right_on='date', how='left', suffixes=['A', 'B'])\n",
    "\n",
    "# cтроим отношение конверсий\n",
    "plt.figure(figsize=(12, 6))\n",
    "plt.plot(merged_cumulative_conversions['date'], merged_cumulative_conversions['conversionB']/merged_cumulative_conversions['conversionA']-1, label=\"Относительный прирост конверсии группы B относительно группы A\")\n",
    "plt.legend()\n",
    "\n",
    "# добавляем оси X\n",
    "plt.axhline(y=0, color='black', linestyle='--')\n",
    "plt.axhline(y=0.14, color='grey', linestyle='--')\n",
    "plt.axis([min(cumulative_data_A['date']), max(cumulative_data_A['date']), -0.3, 0.3]);\n",
    "\n",
    "# оформляем\n",
    "plt.title('График относительного изменения кумулятивной конверсии')\n",
    "plt.xlabel('Дата')\n",
    "plt.ylabel('Относительное изменение');"
   ]
  },
  {
   "cell_type": "markdown",
   "metadata": {},
   "source": [
    "**Выводы:**\n",
    "- Относительный прирост конверсии группы B стабильно выше прироста конверсии группы A начиная с 9-ого августа;\n",
    "- Однако окончательные выводы делать рано - необходимо проанализировать аномалии."
   ]
  },
  {
   "cell_type": "markdown",
   "metadata": {},
   "source": [
    "### Анализ выбросов "
   ]
  },
  {
   "cell_type": "markdown",
   "metadata": {},
   "source": [
    "**Задачи:**\n",
    "- Точечный график количества заказов по пользователям;\n",
    "- Определение 95-ого и 99-ого перцентиля количества заказов на пользователя;\n",
    "- Точечный график стоимостей заказов;\n",
    "- Определение 95-ого и 99-ого перцентиля стоимости заказов."
   ]
  },
  {
   "cell_type": "markdown",
   "metadata": {},
   "source": [
    "#### Точечный график количества заказов по пользователям"
   ]
  },
  {
   "cell_type": "code",
   "execution_count": 21,
   "metadata": {},
   "outputs": [
    {
     "data": {
      "text/html": [
       "<div>\n",
       "<style scoped>\n",
       "    .dataframe tbody tr th:only-of-type {\n",
       "        vertical-align: middle;\n",
       "    }\n",
       "\n",
       "    .dataframe tbody tr th {\n",
       "        vertical-align: top;\n",
       "    }\n",
       "\n",
       "    .dataframe thead th {\n",
       "        text-align: right;\n",
       "    }\n",
       "</style>\n",
       "<table border=\"1\" class=\"dataframe\">\n",
       "  <thead>\n",
       "    <tr style=\"text-align: right;\">\n",
       "      <th></th>\n",
       "      <th>user_id</th>\n",
       "      <th>orders_count</th>\n",
       "    </tr>\n",
       "  </thead>\n",
       "  <tbody>\n",
       "    <tr>\n",
       "      <th>1023</th>\n",
       "      <td>4256040402</td>\n",
       "      <td>11</td>\n",
       "    </tr>\n",
       "    <tr>\n",
       "      <th>591</th>\n",
       "      <td>2458001652</td>\n",
       "      <td>11</td>\n",
       "    </tr>\n",
       "    <tr>\n",
       "      <th>569</th>\n",
       "      <td>2378935119</td>\n",
       "      <td>9</td>\n",
       "    </tr>\n",
       "    <tr>\n",
       "      <th>487</th>\n",
       "      <td>2038680547</td>\n",
       "      <td>8</td>\n",
       "    </tr>\n",
       "    <tr>\n",
       "      <th>44</th>\n",
       "      <td>199603092</td>\n",
       "      <td>5</td>\n",
       "    </tr>\n",
       "    <tr>\n",
       "      <th>744</th>\n",
       "      <td>3062433592</td>\n",
       "      <td>5</td>\n",
       "    </tr>\n",
       "    <tr>\n",
       "      <th>55</th>\n",
       "      <td>237748145</td>\n",
       "      <td>5</td>\n",
       "    </tr>\n",
       "    <tr>\n",
       "      <th>917</th>\n",
       "      <td>3803269165</td>\n",
       "      <td>5</td>\n",
       "    </tr>\n",
       "    <tr>\n",
       "      <th>299</th>\n",
       "      <td>1230306981</td>\n",
       "      <td>5</td>\n",
       "    </tr>\n",
       "    <tr>\n",
       "      <th>897</th>\n",
       "      <td>3717692402</td>\n",
       "      <td>5</td>\n",
       "    </tr>\n",
       "  </tbody>\n",
       "</table>\n",
       "</div>"
      ],
      "text/plain": [
       "         user_id  orders_count\n",
       "1023  4256040402            11\n",
       "591   2458001652            11\n",
       "569   2378935119             9\n",
       "487   2038680547             8\n",
       "44     199603092             5\n",
       "744   3062433592             5\n",
       "55     237748145             5\n",
       "917   3803269165             5\n",
       "299   1230306981             5\n",
       "897   3717692402             5"
      ]
     },
     "execution_count": 21,
     "metadata": {},
     "output_type": "execute_result"
    }
   ],
   "source": [
    "# подсчет количества заказов по пользователям\n",
    "orders_by_users = (\n",
    "    orders.groupby('visitorId', as_index=False)\n",
    "    .agg({'transactionId': 'nunique'})\n",
    ")\n",
    "\n",
    "orders_by_users.columns = ['user_id', 'orders_count']\n",
    "\n",
    "orders_by_users.sort_values(by='orders_count', ascending=False).head(10)"
   ]
  },
  {
   "cell_type": "markdown",
   "metadata": {},
   "source": [
    "Скорее всего более пяти заказов за рассматриваемы период от одного клиента это аномально много.\n",
    "\n",
    "Рассмотрим гистограмму распределения количества заказов на одного пользователя."
   ]
  },
  {
   "cell_type": "code",
   "execution_count": 22,
   "metadata": {},
   "outputs": [
    {
     "data": {
      "image/png": "[encoded data removed]",
      "text/plain": [
       "<Figure size 864x432 with 1 Axes>"
      ]
     },
     "metadata": {
      "needs_background": "light"
     },
     "output_type": "display_data"
    }
   ],
   "source": [
    "# размер\n",
    "plt.figure(figsize=(12, 6))\n",
    "\n",
    "# построение графика\n",
    "plt.hist(orders_by_users['orders_count'])\n",
    "\n",
    "# оформление\n",
    "plt.title('Гистограмма распределения количества заказов на одного пользователя')\n",
    "plt.xlabel('Количество заказов')\n",
    "plt.ylabel('Количество пользователей');"
   ]
  },
  {
   "cell_type": "markdown",
   "metadata": {},
   "source": [
    "Большинство покупателей сделали заказ только один раз. Доля пользователй, сделавших заказ 2 раза также значительна.\n",
    "\n",
    "Построим точечную диаграмму числа заказов на одного пользователя."
   ]
  },
  {
   "cell_type": "code",
   "execution_count": 23,
   "metadata": {},
   "outputs": [
    {
     "data": {
      "image/png": "[encoded data removed]",
      "text/plain": [
       "<Figure size 864x432 with 1 Axes>"
      ]
     },
     "metadata": {
      "needs_background": "light"
     },
     "output_type": "display_data"
    }
   ],
   "source": [
    "# размер\n",
    "plt.figure(figsize=(12, 6))\n",
    "\n",
    "# построение графика\n",
    "x_values = pd.Series(range(0, len(orders_by_users)))\n",
    "plt.scatter(x_values, orders_by_users['orders_count']);\n",
    "\n",
    "# офрмление\n",
    "plt.title('Точечный график количества заказов на одного пользователя')\n",
    "plt.xlabel('Пользователь')\n",
    "plt.ylabel('Количество заказов');"
   ]
  },
  {
   "cell_type": "markdown",
   "metadata": {},
   "source": [
    "Согласно точечному графику значительная часть покупателей сделала от одного до трёх заказов включительно. Однако более точный порог для изъятия аномалий лучше определить с помощью подсчета перцентилей."
   ]
  },
  {
   "cell_type": "markdown",
   "metadata": {},
   "source": [
    "#### Определение 95-ого и 99-ого перцентиля количества заказов на пользователя"
   ]
  },
  {
   "cell_type": "code",
   "execution_count": 24,
   "metadata": {},
   "outputs": [
    {
     "data": {
      "text/plain": [
       "array([2., 4.])"
      ]
     },
     "execution_count": 24,
     "metadata": {},
     "output_type": "execute_result"
    }
   ],
   "source": [
    "np.percentile(orders_by_users['orders_count'], [95, 99])"
   ]
  },
  {
   "cell_type": "markdown",
   "metadata": {},
   "source": [
    "**Выводы**\n",
    "- Не более 5% пользователй оформляли заказ больше чем 2 раза;\n",
    "- И не более 1% пользователей заказывали больше 4-х раз;\n",
    "- Таким образом, пользователей с заказми более 2-х раз лучше изъять из анализа."
   ]
  },
  {
   "cell_type": "markdown",
   "metadata": {},
   "source": [
    "#### Точечный график стоимостей заказов"
   ]
  },
  {
   "cell_type": "markdown",
   "metadata": {},
   "source": [
    "Рассмотрим гистограмму распределения стоимости заказов."
   ]
  },
  {
   "cell_type": "code",
   "execution_count": 25,
   "metadata": {},
   "outputs": [
    {
     "data": {
      "image/png": "[encoded data removed]",
      "text/plain": [
       "<Figure size 864x432 with 1 Axes>"
      ]
     },
     "metadata": {
      "needs_background": "light"
     },
     "output_type": "display_data"
    }
   ],
   "source": [
    "# размер\n",
    "plt.figure(figsize=(12, 6))\n",
    "\n",
    "# построение графика\n",
    "plt.hist(orders['revenue'])\n",
    "\n",
    "# офрмление\n",
    "plt.title('Гистограмма распределения стоимости заказов на одного пользователя')\n",
    "plt.xlabel('Стоимость заказа, млн.')\n",
    "plt.ylabel('Количество пользователей');"
   ]
  },
  {
   "cell_type": "markdown",
   "metadata": {},
   "source": [
    "Стоимость заказаов у большинства покупателей составила менее 100 тыс.\n",
    "\n",
    "Посмотрим точечный график стоимости заказов."
   ]
  },
  {
   "cell_type": "code",
   "execution_count": 26,
   "metadata": {},
   "outputs": [
    {
     "data": {
      "image/png": "[encoded data removed]",
      "text/plain": [
       "<Figure size 864x432 with 1 Axes>"
      ]
     },
     "metadata": {
      "needs_background": "light"
     },
     "output_type": "display_data"
    }
   ],
   "source": [
    "# размер\n",
    "plt.figure(figsize=(12, 6))\n",
    "\n",
    "# построение графика\n",
    "x_values = pd.Series(range(0, len(orders['revenue'])))\n",
    "plt.scatter(x_values, orders['revenue'])\n",
    "\n",
    "# офрмление\n",
    "plt.title('Точечный график стоимости заказа')\n",
    "plt.xlabel('Пользователь')\n",
    "plt.ylabel('Стоимость заказа, млн.');"
   ]
  },
  {
   "cell_type": "code",
   "execution_count": 27,
   "metadata": {},
   "outputs": [
    {
     "data": {
      "image/png": "[encoded data removed]",
      "text/plain": [
       "<Figure size 864x432 with 1 Axes>"
      ]
     },
     "metadata": {
      "needs_background": "light"
     },
     "output_type": "display_data"
    }
   ],
   "source": [
    "# размер\n",
    "plt.figure(figsize=(12, 6))\n",
    "\n",
    "# построение графика с ограничением по оси y\n",
    "x_values = pd.Series(range(0, len(orders['revenue'])))\n",
    "plt.scatter(x_values, orders['revenue'])\n",
    "plt.ylim(0, 100000)\n",
    "\n",
    "# офрмление\n",
    "plt.title('Точечный график стоимости заказа')\n",
    "plt.xlabel('Пользователь')\n",
    "plt.ylabel('Стоимость заказа, млн.');"
   ]
  },
  {
   "cell_type": "markdown",
   "metadata": {},
   "source": [
    "**Выводы**\n",
    "- Обнаружено два выдающихся занчения, одно со значением более 1.2 млн., а другое чуть больше 200 тыс.\n",
    "- Большинство же заказов имеют стоимость менее 100 тыс., однако для более точного определения аномальных значений лучше воспользоваться подсчетом перцентилей."
   ]
  },
  {
   "cell_type": "markdown",
   "metadata": {},
   "source": [
    "#### Определение 95-ого и 99-ого перцентиля стоимости заказов "
   ]
  },
  {
   "cell_type": "code",
   "execution_count": 28,
   "metadata": {},
   "outputs": [
    {
     "data": {
      "text/plain": [
       "array([28000. , 58233.2])"
      ]
     },
     "execution_count": 28,
     "metadata": {},
     "output_type": "execute_result"
    }
   ],
   "source": [
    "np.percentile(orders['revenue'], [95, 99])"
   ]
  },
  {
   "cell_type": "markdown",
   "metadata": {},
   "source": [
    "**Выводы**\n",
    "- Не более 5% заказов дороже 28 000 и не более 1% дороже 58 233.\n",
    "- Таким образом заказы дороже 28 000 лучше изъять из анализа."
   ]
  },
  {
   "cell_type": "markdown",
   "metadata": {},
   "source": [
    "###  Подсчет статистических значимостей"
   ]
  },
  {
   "cell_type": "markdown",
   "metadata": {},
   "source": [
    "**Задачи:**\n",
    "- Подсчет статистической значимости различий в конверсии между группами по «сырым» данным. \n",
    "- Подсчет статистической значимости различий в среднем чеке заказа между группами по «сырым» данным.\n",
    "- Подсчет статистической значимости различий в конверсии между группами по «очищенным» данным.\n",
    "- Подсчет статистической значимости различий в среднем чеке заказа между группами по «очищенным» данным."
   ]
  },
  {
   "cell_type": "markdown",
   "metadata": {},
   "source": [
    "#### Определение уникальности пользователей в группах "
   ]
  },
  {
   "cell_type": "markdown",
   "metadata": {},
   "source": [
    "Для выполнения этой задачи найдём уникальных пользователей в каждой из групп. После этого посмотрим не попали ли некоторые пользователи одновременно в оба списка. Запишем таких в отдельный список, если нашлись. Далее удалим заказы тех пользователей из таблицы `orders`, которые нашлись, и в группе A, и в группе B.  "
   ]
  },
  {
   "cell_type": "code",
   "execution_count": 29,
   "metadata": {},
   "outputs": [
    {
     "data": {
      "text/plain": [
       "'15.12%'"
      ]
     },
     "execution_count": 29,
     "metadata": {},
     "output_type": "execute_result"
    }
   ],
   "source": [
    "# списки уникальных пользователей по группам\n",
    "visitors_A = orders[orders['group'] == 'A']['visitorId'].unique()\n",
    "visitors_B = orders[orders['group'] == 'B']['visitorId'].unique()\n",
    "\n",
    "# задаём список\n",
    "not_unique_visitors = []\n",
    "\n",
    "# сосздаем цикл, отбирающий совпадающих пользователей\n",
    "for visitor_A in visitors_A:\n",
    "    for visitor_B in visitors_B:\n",
    "        if visitor_A == visitor_B and visitor_A not in not_unique_visitors:\n",
    "            not_unique_visitors.append(visitor_A)\n",
    "        else:\n",
    "            pass\n",
    "\n",
    "# количество заказов до изъятия одинаковых пользователей\n",
    "orders_count_before = len(orders)\n",
    "\n",
    "# заказы после изъятия одинаковых пользователей\n",
    "orders = orders[~orders['visitorId'].isin(not_unique_visitors)]\n",
    "\n",
    "# количество заказов после изъятия одинаковых пользователей\n",
    "orders_count_after = len(orders)\n",
    "\n",
    "# доля изъятых заказов\n",
    "deleted_part = '{:.2%}'.format(1 - orders_count_after/orders_count_before)\n",
    "deleted_part"
   ]
  },
  {
   "cell_type": "markdown",
   "metadata": {},
   "source": [
    "Доля изъятых заказов составила 15.12%."
   ]
  },
  {
   "cell_type": "markdown",
   "metadata": {},
   "source": [
    "#### Подсчет статистической значимости различий в конверсии между группами по «сырым» данным"
   ]
  },
  {
   "cell_type": "markdown",
   "metadata": {},
   "source": [
    "Создадим переменные `orders_by_users_A` и `orders_by_users_B` со столбцами 'userId', 'orders'. В них для пользователей, которые заказывали хотя бы 1 раз, укажем число совершённых заказов."
   ]
  },
  {
   "cell_type": "code",
   "execution_count": 30,
   "metadata": {},
   "outputs": [],
   "source": [
    "# число заказов группы A\n",
    "orders_by_users_A = (\n",
    "    orders[orders['group'] == 'A']\n",
    "    .groupby('visitorId', as_index=False)\n",
    "    .agg({'transactionId': 'nunique'})\n",
    ")\n",
    "    \n",
    "orders_by_users_A.columns = ['userId', 'orders']\n",
    "\n",
    "# число заказов группы B\n",
    "orders_by_users_B = (\n",
    "    orders[orders['group'] == 'A']\n",
    "    .groupby('visitorId', as_index=False)\n",
    "    .agg({'transactionId': 'nunique'})\n",
    ")\n",
    "\n",
    "orders_by_users_B.columns = ['userId', 'orders']"
   ]
  },
  {
   "cell_type": "markdown",
   "metadata": {},
   "source": [
    "Объявим переменные `sample_A` и `sample_B`, в которых пользователям из разных групп будет соответствовать количество заказов. Тем, кто ничего не заказал, будут соответствовать нули. Это нужно, чтобы подготовить выборки к проверке критерием Манна-Уитни.\n",
    "\n",
    "Также необходимо добавить строки с нулями в переменные `sample_A` и `sample_B` - нули это пользователи, которые ничего не заказывали. Их количество равно разнице между суммой посетителей и количеством записей о заказах."
   ]
  },
  {
   "cell_type": "code",
   "execution_count": 31,
   "metadata": {},
   "outputs": [],
   "source": [
    "sample_A = pd.concat([orders_by_users_A['orders'], pd.Series(0, index=np.arange(visitors[visitors['group'] == 'A']['visitors'].sum() - len(orders_by_users_A['orders'])), name='orders')], axis=0)\n",
    "\n",
    "sample_B = pd.concat([orders_by_users_B['orders'], pd.Series(0, index=np.arange(visitors[visitors['group'] == 'B']['visitors'].sum() - len(orders_by_users_B['orders'])), name='orders')], axis=0)"
   ]
  },
  {
   "cell_type": "markdown",
   "metadata": {},
   "source": [
    "Отметим что конверсия в данном случае это сумма заказов деленное на число пользователей.\n",
    "\n",
    "**Сформулируем гипотезы.** \n",
    "Нулевая: различий в конверсии между группами нет. Альтернативная: различия в конверсии между группами есть.\n",
    "\n",
    "Применим критерий Манна-Уитни к полученным выборкам."
   ]
  },
  {
   "cell_type": "code",
   "execution_count": 32,
   "metadata": {},
   "outputs": [
    {
     "name": "stdout",
     "output_type": "stream",
     "text": [
      "p_value: 0.885 \n",
      "Принимаем нулевую гипотезу: статистически значимых различий\n",
      "в конверсии между группами нет.\n"
     ]
    }
   ],
   "source": [
    "alpha = .05\n",
    "\n",
    "p_value = stats.mannwhitneyu(sample_A, sample_B)[1]\n",
    "\n",
    "if p_value > alpha:\n",
    "    print('p_value:', \"{0:.3f}\".format(p_value),\n",
    "          '\\nПринимаем нулевую гипотезу: статистически значимых различий\\nв конверсии между группами нет.')\n",
    "else: print('p_value:', \"{0:.3f}\".format(p_value),\n",
    "            '\\nОтвергаем нулевую гипотезу: статистически значимые различия\\nв конверсии между группами есть.')"
   ]
  },
  {
   "cell_type": "markdown",
   "metadata": {},
   "source": [
    "Взглянем на относительный прирост конверсии группы B."
   ]
  },
  {
   "cell_type": "code",
   "execution_count": 33,
   "metadata": {},
   "outputs": [
    {
     "data": {
      "text/plain": [
       "'-1.0%'"
      ]
     },
     "execution_count": 33,
     "metadata": {},
     "output_type": "execute_result"
    }
   ],
   "source": [
    "'{0:.1%}'.format(sample_B.mean() / sample_A.mean() - 1)"
   ]
  },
  {
   "cell_type": "markdown",
   "metadata": {},
   "source": [
    "Относительный прирост конверсии группы B отрицатетельный и составляет всего 1%.\n",
    "\n",
    "**Вывод.** Различий в конверсиях между группами A и B не обнаружено. Это подтверждается тестом Манна-Уитни, а также незначительным изменением относительного прироста конверсии."
   ]
  },
  {
   "cell_type": "markdown",
   "metadata": {},
   "source": [
    "#### Подсчет статистической значимости различий в среднем чеке заказа между группами по «сырым» данным. "
   ]
  },
  {
   "cell_type": "markdown",
   "metadata": {},
   "source": [
    "**Сформулируем гипотезы.** \n",
    "Нулевая гипотеза: различий в среднем чеке между группами нет. Альтернативная гипотеза: различия в среднем чеке между группами есть."
   ]
  },
  {
   "cell_type": "code",
   "execution_count": 34,
   "metadata": {},
   "outputs": [
    {
     "name": "stdout",
     "output_type": "stream",
     "text": [
      "p_value: 0.829 \n",
      "Принимаем нулевую гипотезу: статистически значимых различий\n",
      "в среднем чеке между группами нет.\n"
     ]
    }
   ],
   "source": [
    "# данные о выручке с заказов\n",
    "sample_A = orders[orders['group'] == 'A']['revenue']\n",
    "sample_B = orders[orders['group'] == 'B']['revenue']\n",
    "\n",
    "alpha = .05\n",
    "\n",
    "p_value = stats.mannwhitneyu(sample_A, sample_B)[1]\n",
    "\n",
    "if p_value > alpha:\n",
    "    print('p_value:', \"{0:.3f}\".format(p_value),\n",
    "          '\\nПринимаем нулевую гипотезу: статистически значимых различий\\nв среднем чеке между группами нет.')\n",
    "else: print('p_value:', \"{0:.3f}\".format(p_value),\n",
    "            '\\nОтвергаем нулевую гипотезу: статистически значимые различия\\nв среднем чеке между группами есть.')"
   ]
  },
  {
   "cell_type": "markdown",
   "metadata": {},
   "source": [
    "Также найдем относительный прирост среднего чека:"
   ]
  },
  {
   "cell_type": "code",
   "execution_count": 35,
   "metadata": {},
   "outputs": [
    {
     "data": {
      "text/plain": [
       "'28.7%'"
      ]
     },
     "execution_count": 35,
     "metadata": {},
     "output_type": "execute_result"
    }
   ],
   "source": [
    "'{0:.1%}'.format(sample_B.mean() / sample_A.mean() - 1)"
   ]
  },
  {
   "cell_type": "markdown",
   "metadata": {},
   "source": [
    "Средний чек значительно выше у группы B - на 29%."
   ]
  },
  {
   "cell_type": "markdown",
   "metadata": {},
   "source": [
    "**Выводы.** Согласно критерию Манна-Уитни статистических значимых различий не было обнаружено, однако, прирост среднего чека в группе B составляет 26%. Эти два положения на первый взгляд противоречивые.\n",
    "\n",
    "Таким образом, следует рассмотреть выборки без аномальных значений."
   ]
  },
  {
   "cell_type": "markdown",
   "metadata": {},
   "source": [
    "#### Срезы аномальных пользователей"
   ]
  },
  {
   "cell_type": "markdown",
   "metadata": {},
   "source": [
    "Исходя из нашего исследования, проведенного ранее, 95-й и 99-й перцентили средних чеков равны 28 000 и 58 233 рублям. А 95-й и 99-й перцентили количества заказов на одного пользователя равны 2 и 4 заказа на пользователя.\n",
    "\n",
    "Примем за аномальных пользователей тех, кто совершил от 2 заказов или совершил заказ дороже 28 000 рублей.\n",
    "\n",
    "Сделаем срезы пользователей с числом заказов больше 2 — `users_with_many_orders` и пользователей, совершивших заказы дороже 28 000 — `users_with_expensive_orders`. Объединим их в таблице `abnormal_users`."
   ]
  },
  {
   "cell_type": "code",
   "execution_count": 36,
   "metadata": {},
   "outputs": [
    {
     "name": "stdout",
     "output_type": "stream",
     "text": [
      "1099    148427295\n",
      "928     204675465\n",
      "684     358944393\n",
      "648     382846391\n",
      "58      611059232\n",
      "dtype: int64\n"
     ]
    }
   ],
   "source": [
    "users_with_many_orders = pd.concat(\n",
    "    [\n",
    "        orders_by_users_A[orders_by_users_A['orders'] > 2]['userId'],\n",
    "        orders_by_users_B[orders_by_users_B['orders'] > 2]['userId'],\n",
    "    ],\n",
    "    axis=0,\n",
    ")\n",
    "\n",
    "users_with_expensive_orders = orders[orders['revenue'] > 28000]['visitorId']\n",
    "\n",
    "abnormal_users = (\n",
    "    pd.concat([users_with_many_orders, users_with_expensive_orders], axis=0)\n",
    "    .drop_duplicates()\n",
    "    .sort_values()\n",
    ")\n",
    "\n",
    "print(abnormal_users.head(5))"
   ]
  },
  {
   "cell_type": "markdown",
   "metadata": {},
   "source": [
    "Узнаем, сколько всего аномальных пользователей."
   ]
  },
  {
   "cell_type": "code",
   "execution_count": 37,
   "metadata": {},
   "outputs": [
    {
     "data": {
      "text/plain": [
       "53"
      ]
     },
     "execution_count": 37,
     "metadata": {},
     "output_type": "execute_result"
    }
   ],
   "source": [
    "abnormal_users.shape[0]"
   ]
  },
  {
   "cell_type": "markdown",
   "metadata": {},
   "source": [
    "Аномальных пользователей - 53."
   ]
  },
  {
   "cell_type": "markdown",
   "metadata": {},
   "source": [
    "#### Подсчет статистической значимости различий в конверсии между группами по «очищенным» данным.  "
   ]
  },
  {
   "cell_type": "markdown",
   "metadata": {},
   "source": [
    "Посчитаем статистическую значимость различий в конверсии между группами теста по очищенным данным. Сначала подготовим выборки количества заказов по пользователям по группам теста:"
   ]
  },
  {
   "cell_type": "code",
   "execution_count": 38,
   "metadata": {},
   "outputs": [],
   "source": [
    "sample_A_filtered = pd.concat(\n",
    "    [\n",
    "        orders_by_users_A[\n",
    "            np.logical_not(orders_by_users_A['userId'].isin(abnormal_users))\n",
    "        ]['orders'],\n",
    "        pd.Series(\n",
    "            0,\n",
    "            index=np.arange(\n",
    "            visitors[visitors['group'] == 'A']['visitors'].sum() - len(orders_by_users_A['orders'])\n",
    "            ),\n",
    "            name='orders',\n",
    "        ),\n",
    "    ],\n",
    "    axis=0,\n",
    ")\n",
    "\n",
    "sample_B_filtered = pd.concat(\n",
    "    [\n",
    "        orders_by_users_B[\n",
    "            np.logical_not(orders_by_users_B['userId'].isin(abnormal_users))\n",
    "        ]['orders'],\n",
    "        pd.Series(\n",
    "            0,\n",
    "            index=np.arange(\n",
    "                visitors[visitors['group'] == 'B']['visitors'].sum() - len(orders_by_users_B['orders'])\n",
    "            ),\n",
    "            name='orders',\n",
    "        ),\n",
    "    ],\n",
    "    axis=0,\n",
    ")"
   ]
  },
  {
   "cell_type": "markdown",
   "metadata": {},
   "source": [
    "Применим статистический критерий Манна-Уитни к полученным выборкам и найдём относительный прирост конверсии:"
   ]
  },
  {
   "cell_type": "markdown",
   "metadata": {},
   "source": [
    "**Гипотезы** \n",
    "\n",
    "*Нулевая гипотеза:* различий в конверсии между группами нет. \n",
    "\n",
    "*Альтернативная гипотеза:* различия в конверсии между группами есть."
   ]
  },
  {
   "cell_type": "code",
   "execution_count": 39,
   "metadata": {},
   "outputs": [
    {
     "name": "stdout",
     "output_type": "stream",
     "text": [
      "p_value: 0.889 \n",
      "Принимаем нулевую гипотезу: статистически значимых различий\n",
      "в конверсии между группами нет.\n",
      "Относительный прирост конверсии: -1.0%\n"
     ]
    }
   ],
   "source": [
    "alpha = .05\n",
    "\n",
    "p_value = stats.mannwhitneyu(sample_A_filtered, sample_B_filtered)[1]\n",
    "\n",
    "if p_value > alpha:\n",
    "    print('p_value:', \"{0:.3f}\".format(p_value),\n",
    "          '\\nПринимаем нулевую гипотезу: статистически значимых различий\\nв конверсии между группами нет.')\n",
    "else: print('p_value:', \"{0:.3f}\".format(p_value),\n",
    "            '\\nОтвергаем нулевую гипотезу: статистически значимые различия\\nв конверсии между группами есть.')\n",
    "    \n",
    "print('Относительный прирост конверсии:', '{0:.1%}'.format(sample_B_filtered.mean() / sample_A_filtered.mean() - 1))"
   ]
  },
  {
   "cell_type": "markdown",
   "metadata": {},
   "source": [
    "Результаты по конверсии в с сравнении с исходной выборкой почти не изменились."
   ]
  },
  {
   "cell_type": "markdown",
   "metadata": {},
   "source": [
    "#### Подсчет статистической значимости различий в среднем чеке заказа между группами по «очищенным» данным."
   ]
  },
  {
   "cell_type": "markdown",
   "metadata": {},
   "source": [
    "Посчитаем статистическую значимость различий в среднем чеке между группами теста по очищенным данным. Сначала подготовим выборки количества заказов по пользователям по группам теста:"
   ]
  },
  {
   "cell_type": "code",
   "execution_count": 40,
   "metadata": {},
   "outputs": [],
   "source": [
    "sample_A_filtered =  orders[np.logical_and(orders['group'] == 'A',\n",
    "                     np.logical_not(orders['visitorId'].isin(abnormal_users)))]['revenue']\n",
    "\n",
    "sample_B_filtered = orders[np.logical_and(orders['group'] == 'B',\n",
    "                     np.logical_not(orders['visitorId'].isin(abnormal_users)))]['revenue']"
   ]
  },
  {
   "cell_type": "markdown",
   "metadata": {},
   "source": [
    "Применим статистический критерий Манна-Уитни к полученным выборкам и найдём относительный прирост среднего чека по отношению к группе В:"
   ]
  },
  {
   "cell_type": "markdown",
   "metadata": {},
   "source": [
    "**Гипотезы** \n",
    "\n",
    "*Нулевая гипотеза:* различий в среднем чеке между группами нет. \n",
    "\n",
    "*Альтернативная гипотеза:* различия в среднем чеке между группами есть."
   ]
  },
  {
   "cell_type": "code",
   "execution_count": 41,
   "metadata": {},
   "outputs": [
    {
     "name": "stdout",
     "output_type": "stream",
     "text": [
      "p_value: 0.815 \n",
      "Принимаем нулевую гипотезу: статистически значимых различий\n",
      "в среднем чеке между группами нет.\n",
      "Относительный прирост среденего чека: -1.5%\n"
     ]
    }
   ],
   "source": [
    "alpha = .05\n",
    "\n",
    "p_value = stats.mannwhitneyu(sample_A_filtered, sample_B_filtered)[1]\n",
    "\n",
    "if p_value > alpha:\n",
    "    print('p_value:', \"{0:.3f}\".format(p_value),\n",
    "          '\\nПринимаем нулевую гипотезу: статистически значимых различий\\nв среднем чеке между группами нет.')\n",
    "else: print('p_value:', \"{0:.3f}\".format(p_value),\n",
    "            '\\nОтвергаем нулевую гипотезу: статистически значимые различия\\nв среднем чеке между группами есть.')\n",
    "    \n",
    "print('Относительный прирост среденего чека:', '{0:.1%}'.format(sample_B_filtered.mean() / sample_A_filtered.mean() - 1))"
   ]
  },
  {
   "cell_type": "markdown",
   "metadata": {},
   "source": [
    "p-value немного увеличился, но относительный прирост среднего чека перевернулся в отрицательную сторону с 28.7% до -1.5%."
   ]
  },
  {
   "cell_type": "markdown",
   "metadata": {},
   "source": [
    "## Результаты и выводы"
   ]
  },
  {
   "cell_type": "markdown",
   "metadata": {},
   "source": [
    "- Проведен обзор данных. Пропусков и дубликатов в данных не обнаружено.\n",
    "- Даты приведены в формат datetime.\n",
    "- В первой части проекта проведена приретизация гипотез по фремворкам ICE и RICE. \n",
    "    - Наиболее выдающийся приоритет по фремфорку RICE имеет гипотеза \"Добавить форму подписки на все основные страницы, чтобы собрать базу клиентов для email-рассылок\".\n",
    "    - Выделен топ гипотез по приоритету:\n",
    "        - 'Запустить акцию, дающую скидку на товар в день рождения';\n",
    "        - 'Добавить два новых канала привлечения трафика, что позволит привлекать на 30% больше пользователей';\n",
    "        - 'Добавить форму подписки на все основные страницы, чтобы собрать базу клиентов для email-рассылок';\n",
    "        - 'Показать на главной странице баннеры с актуальными акциями и распродажами, чтобы увеличить конверсию';\n",
    "        - 'Добавить блоки рекомендаций товаров на сайт интернет магазина, чтобы повысить конверсию и средний чек заказа'.\n",
    "- По данным кумулятивных графиков можно сделать следующие выводы:\n",
    "    - Выручки групп равномерно увеличивались до 5-ого августа;\n",
    "    - Наблюдается резкий скачок выручки и среднего чека группы B 18 августа, что может сигнализировать о всплесках числа заказов или о появлении очень дорогих заказов в выборке;\n",
    "    - Конверсия группы B в целом стабильно выше конверсии группы A;\n",
    "    - Относительное изменение кумулятивного среднего чека падает в конце периода;\n",
    "    - Относительный прирост конверсии группы B стабильно выше прироста конверсии группы A начиная с 9-ого августа.\n",
    "- Проведен анализ аномалий\n",
    "    - 95-й и 99-й перцентили средних чеков равны 28 000 и 58 233 рублям. \n",
    "    - 95-й и 99-й перцентили количества заказов на одного пользователя равны 2 и 4 заказа на пользователя.\n",
    "    - 28 000 руб. и 2 заказа были приняты порогами для изъятия аномалий.\n",
    "- Проведен подсчет статистических значимостей\n",
    "    - Нет статистически значимого различия по конверсии между группами ни по «сырым», ни по данным после фильтрации аномалий;\n",
    "    - Нет статистически значимого различия по среднему чеку между группами ни по «сырым», ни по данным после фильтрации аномалий.\n",
    "- Рекомендуется построить куммулятивные графики по выборке без аномальных пользователей.\n",
    "\n",
    "**Таким образом, в связи с тем, что нет статистически значимых различий по конверсии и среднему чеку между группами и значитильных средних относительных приростов значений метрик после удаления аномалий, можно с увереннсотью остановить тест и зафиксировать отсутствие различий между группами.**"
   ]
  }
 ],
 "metadata": {
  "ExecuteTimeLog": [
   {
    "duration": 1602,
    "start_time": "2022-06-04T16:25:57.647Z"
   },
   {
    "duration": 115,
    "start_time": "2022-06-04T16:27:59.154Z"
   },
   {
    "duration": 5,
    "start_time": "2022-06-04T16:28:06.250Z"
   },
   {
    "duration": 37,
    "start_time": "2022-06-04T16:28:21.672Z"
   },
   {
    "duration": 4,
    "start_time": "2022-06-04T16:28:57.411Z"
   },
   {
    "duration": 46,
    "start_time": "2022-06-04T16:28:57.821Z"
   },
   {
    "duration": 7,
    "start_time": "2022-06-04T16:29:10.720Z"
   },
   {
    "duration": 34,
    "start_time": "2022-06-04T16:29:11.108Z"
   },
   {
    "duration": 6,
    "start_time": "2022-06-04T16:29:30.709Z"
   },
   {
    "duration": 36,
    "start_time": "2022-06-04T16:29:31.023Z"
   },
   {
    "duration": 360,
    "start_time": "2022-06-04T17:15:49.853Z"
   },
   {
    "duration": 36,
    "start_time": "2022-06-04T17:16:14.855Z"
   },
   {
    "duration": 11,
    "start_time": "2022-06-04T17:16:29.004Z"
   },
   {
    "duration": 27,
    "start_time": "2022-06-04T17:17:01.365Z"
   },
   {
    "duration": 10,
    "start_time": "2022-06-04T17:19:57.409Z"
   },
   {
    "duration": 13,
    "start_time": "2022-06-04T17:21:43.758Z"
   },
   {
    "duration": 11,
    "start_time": "2022-06-04T17:22:53.104Z"
   },
   {
    "duration": 10,
    "start_time": "2022-06-04T17:23:17.493Z"
   },
   {
    "duration": 220,
    "start_time": "2022-06-04T17:57:21.299Z"
   },
   {
    "duration": 9,
    "start_time": "2022-06-04T17:58:24.396Z"
   },
   {
    "duration": 35,
    "start_time": "2022-06-04T17:58:28.750Z"
   },
   {
    "duration": 30,
    "start_time": "2022-06-04T17:58:57.253Z"
   },
   {
    "duration": 5,
    "start_time": "2022-06-04T18:47:42.205Z"
   },
   {
    "duration": 8,
    "start_time": "2022-06-04T18:48:14.563Z"
   },
   {
    "duration": 5,
    "start_time": "2022-06-04T18:48:15.000Z"
   },
   {
    "duration": 70,
    "start_time": "2022-06-05T09:09:16.284Z"
   },
   {
    "duration": 1237,
    "start_time": "2022-06-05T09:09:26.945Z"
   },
   {
    "duration": 78,
    "start_time": "2022-06-05T09:09:28.184Z"
   },
   {
    "duration": 4,
    "start_time": "2022-06-05T09:09:28.264Z"
   },
   {
    "duration": 27,
    "start_time": "2022-06-05T09:09:28.269Z"
   },
   {
    "duration": 10,
    "start_time": "2022-06-05T09:09:28.298Z"
   },
   {
    "duration": 11,
    "start_time": "2022-06-05T09:09:28.310Z"
   },
   {
    "duration": 21,
    "start_time": "2022-06-05T09:09:28.322Z"
   },
   {
    "duration": 149,
    "start_time": "2022-06-05T09:09:28.344Z"
   },
   {
    "duration": 28,
    "start_time": "2022-06-05T09:09:28.495Z"
   },
   {
    "duration": 43,
    "start_time": "2022-06-05T09:09:28.525Z"
   },
   {
    "duration": 7,
    "start_time": "2022-06-05T09:09:28.570Z"
   },
   {
    "duration": 11,
    "start_time": "2022-06-05T09:09:30.013Z"
   },
   {
    "duration": 69,
    "start_time": "2022-06-05T09:25:10.725Z"
   },
   {
    "duration": 464,
    "start_time": "2022-06-05T09:25:24.761Z"
   },
   {
    "duration": 398,
    "start_time": "2022-06-05T09:28:27.681Z"
   },
   {
    "duration": 3,
    "start_time": "2022-06-05T09:28:35.360Z"
   },
   {
    "duration": 26,
    "start_time": "2022-06-05T09:28:35.385Z"
   },
   {
    "duration": 5,
    "start_time": "2022-06-05T09:28:35.412Z"
   },
   {
    "duration": 26,
    "start_time": "2022-06-05T09:28:35.419Z"
   },
   {
    "duration": 13,
    "start_time": "2022-06-05T09:28:35.447Z"
   },
   {
    "duration": 12,
    "start_time": "2022-06-05T09:28:35.461Z"
   },
   {
    "duration": 13,
    "start_time": "2022-06-05T09:28:35.474Z"
   },
   {
    "duration": 54,
    "start_time": "2022-06-05T09:28:35.489Z"
   },
   {
    "duration": 18,
    "start_time": "2022-06-05T09:28:35.544Z"
   },
   {
    "duration": 21,
    "start_time": "2022-06-05T09:28:35.564Z"
   },
   {
    "duration": 5,
    "start_time": "2022-06-05T09:28:35.587Z"
   },
   {
    "duration": 14,
    "start_time": "2022-06-05T09:28:35.593Z"
   },
   {
    "duration": 375,
    "start_time": "2022-06-05T09:28:40.236Z"
   },
   {
    "duration": 9,
    "start_time": "2022-06-05T09:34:32.744Z"
   },
   {
    "duration": 3,
    "start_time": "2022-06-05T09:52:13.631Z"
   },
   {
    "duration": 45,
    "start_time": "2022-06-05T09:52:13.637Z"
   },
   {
    "duration": 9,
    "start_time": "2022-06-05T09:52:13.684Z"
   },
   {
    "duration": 30,
    "start_time": "2022-06-05T09:52:13.696Z"
   },
   {
    "duration": 13,
    "start_time": "2022-06-05T09:52:13.728Z"
   },
   {
    "duration": 16,
    "start_time": "2022-06-05T09:52:13.742Z"
   },
   {
    "duration": 13,
    "start_time": "2022-06-05T09:52:13.759Z"
   },
   {
    "duration": 50,
    "start_time": "2022-06-05T09:52:13.774Z"
   },
   {
    "duration": 22,
    "start_time": "2022-06-05T09:52:13.827Z"
   },
   {
    "duration": 18,
    "start_time": "2022-06-05T09:52:13.851Z"
   },
   {
    "duration": 14,
    "start_time": "2022-06-05T09:52:17.131Z"
   },
   {
    "duration": 11,
    "start_time": "2022-06-05T09:52:19.306Z"
   },
   {
    "duration": 10,
    "start_time": "2022-06-05T09:52:19.972Z"
   },
   {
    "duration": 381,
    "start_time": "2022-06-05T09:52:23.272Z"
   },
   {
    "duration": 412,
    "start_time": "2022-06-05T09:52:39.907Z"
   },
   {
    "duration": 430,
    "start_time": "2022-06-05T09:53:10.694Z"
   },
   {
    "duration": 274,
    "start_time": "2022-06-05T09:54:00.010Z"
   },
   {
    "duration": 159,
    "start_time": "2022-06-05T09:54:13.509Z"
   },
   {
    "duration": 54,
    "start_time": "2022-06-05T09:54:14.186Z"
   },
   {
    "duration": 35,
    "start_time": "2022-06-05T09:54:19.906Z"
   },
   {
    "duration": 310,
    "start_time": "2022-06-05T09:56:29.206Z"
   },
   {
    "duration": 3,
    "start_time": "2022-06-05T09:57:39.406Z"
   },
   {
    "duration": 35,
    "start_time": "2022-06-05T09:57:39.411Z"
   },
   {
    "duration": 5,
    "start_time": "2022-06-05T09:57:39.448Z"
   },
   {
    "duration": 26,
    "start_time": "2022-06-05T09:57:39.455Z"
   },
   {
    "duration": 9,
    "start_time": "2022-06-05T09:57:39.483Z"
   },
   {
    "duration": 11,
    "start_time": "2022-06-05T09:57:39.494Z"
   },
   {
    "duration": 11,
    "start_time": "2022-06-05T09:57:39.506Z"
   },
   {
    "duration": 64,
    "start_time": "2022-06-05T09:57:39.518Z"
   },
   {
    "duration": 18,
    "start_time": "2022-06-05T09:57:39.584Z"
   },
   {
    "duration": 16,
    "start_time": "2022-06-05T09:57:39.604Z"
   },
   {
    "duration": 16,
    "start_time": "2022-06-05T09:57:39.621Z"
   },
   {
    "duration": 27,
    "start_time": "2022-06-05T09:57:39.639Z"
   },
   {
    "duration": 27,
    "start_time": "2022-06-05T10:16:42.347Z"
   },
   {
    "duration": 10,
    "start_time": "2022-06-05T10:16:49.572Z"
   },
   {
    "duration": 25,
    "start_time": "2022-06-05T10:18:45.295Z"
   },
   {
    "duration": 168,
    "start_time": "2022-06-05T10:19:59.210Z"
   },
   {
    "duration": 126,
    "start_time": "2022-06-05T10:22:20.377Z"
   },
   {
    "duration": 10,
    "start_time": "2022-06-05T10:24:06.686Z"
   },
   {
    "duration": 170,
    "start_time": "2022-06-05T10:24:17.823Z"
   },
   {
    "duration": 131,
    "start_time": "2022-06-05T10:24:18.676Z"
   },
   {
    "duration": 7,
    "start_time": "2022-06-05T10:24:19.621Z"
   },
   {
    "duration": 20,
    "start_time": "2022-06-05T10:24:31.254Z"
   },
   {
    "duration": 15,
    "start_time": "2022-06-05T10:31:42.256Z"
   },
   {
    "duration": 323,
    "start_time": "2022-06-05T10:31:56.524Z"
   },
   {
    "duration": 18,
    "start_time": "2022-06-05T10:32:22.782Z"
   },
   {
    "duration": 376,
    "start_time": "2022-06-05T10:33:17.413Z"
   },
   {
    "duration": 250,
    "start_time": "2022-06-05T10:33:48.589Z"
   },
   {
    "duration": 206,
    "start_time": "2022-06-05T10:33:57.384Z"
   },
   {
    "duration": 246,
    "start_time": "2022-06-05T10:34:04.501Z"
   },
   {
    "duration": 171,
    "start_time": "2022-06-05T10:44:11.476Z"
   },
   {
    "duration": 201,
    "start_time": "2022-06-05T10:44:28.147Z"
   },
   {
    "duration": 416,
    "start_time": "2022-06-05T10:58:32.139Z"
   },
   {
    "duration": 276,
    "start_time": "2022-06-05T10:58:36.765Z"
   },
   {
    "duration": 274,
    "start_time": "2022-06-05T11:05:05.383Z"
   },
   {
    "duration": 327,
    "start_time": "2022-06-05T11:05:16.413Z"
   },
   {
    "duration": 190,
    "start_time": "2022-06-05T11:10:56.651Z"
   },
   {
    "duration": 211,
    "start_time": "2022-06-05T11:11:19.452Z"
   },
   {
    "duration": 209,
    "start_time": "2022-06-05T11:11:39.934Z"
   },
   {
    "duration": 196,
    "start_time": "2022-06-05T11:12:41.188Z"
   },
   {
    "duration": 207,
    "start_time": "2022-06-05T11:13:07.328Z"
   },
   {
    "duration": 202,
    "start_time": "2022-06-05T11:13:14.780Z"
   },
   {
    "duration": 253,
    "start_time": "2022-06-05T11:13:31.362Z"
   },
   {
    "duration": 216,
    "start_time": "2022-06-05T11:13:43.330Z"
   },
   {
    "duration": 4,
    "start_time": "2022-06-05T11:15:50.251Z"
   },
   {
    "duration": 10,
    "start_time": "2022-06-05T11:15:59.987Z"
   },
   {
    "duration": 205,
    "start_time": "2022-06-05T11:16:12.100Z"
   },
   {
    "duration": 311,
    "start_time": "2022-06-05T11:16:58.130Z"
   },
   {
    "duration": 262,
    "start_time": "2022-06-05T11:25:57.548Z"
   },
   {
    "duration": 326,
    "start_time": "2022-06-05T11:26:07.939Z"
   },
   {
    "duration": 293,
    "start_time": "2022-06-05T11:26:16.439Z"
   },
   {
    "duration": 267,
    "start_time": "2022-06-05T11:26:25.364Z"
   },
   {
    "duration": 319,
    "start_time": "2022-06-05T11:26:31.323Z"
   },
   {
    "duration": 311,
    "start_time": "2022-06-05T11:26:35.289Z"
   },
   {
    "duration": 361,
    "start_time": "2022-06-05T11:27:03.696Z"
   },
   {
    "duration": 323,
    "start_time": "2022-06-05T11:27:12.335Z"
   },
   {
    "duration": 57,
    "start_time": "2022-06-05T15:03:14.763Z"
   },
   {
    "duration": 1203,
    "start_time": "2022-06-05T15:03:20.739Z"
   },
   {
    "duration": 57,
    "start_time": "2022-06-05T15:03:21.944Z"
   },
   {
    "duration": 4,
    "start_time": "2022-06-05T15:03:22.002Z"
   },
   {
    "duration": 32,
    "start_time": "2022-06-05T15:03:22.008Z"
   },
   {
    "duration": 10,
    "start_time": "2022-06-05T15:03:22.042Z"
   },
   {
    "duration": 9,
    "start_time": "2022-06-05T15:03:22.053Z"
   },
   {
    "duration": 10,
    "start_time": "2022-06-05T15:03:22.064Z"
   },
   {
    "duration": 131,
    "start_time": "2022-06-05T15:03:22.075Z"
   },
   {
    "duration": 21,
    "start_time": "2022-06-05T15:03:22.208Z"
   },
   {
    "duration": 23,
    "start_time": "2022-06-05T15:03:22.231Z"
   },
   {
    "duration": 5,
    "start_time": "2022-06-05T15:03:22.256Z"
   },
   {
    "duration": 13,
    "start_time": "2022-06-05T15:03:22.262Z"
   },
   {
    "duration": 175,
    "start_time": "2022-06-05T15:03:22.277Z"
   },
   {
    "duration": 129,
    "start_time": "2022-06-05T15:03:22.455Z"
   },
   {
    "duration": 12,
    "start_time": "2022-06-05T15:03:22.585Z"
   },
   {
    "duration": 326,
    "start_time": "2022-06-05T15:03:22.598Z"
   },
   {
    "duration": 254,
    "start_time": "2022-06-05T15:03:22.926Z"
   },
   {
    "duration": 300,
    "start_time": "2022-06-05T15:03:23.182Z"
   },
   {
    "duration": 192,
    "start_time": "2022-06-05T15:03:23.484Z"
   },
   {
    "duration": 310,
    "start_time": "2022-06-05T15:03:23.677Z"
   },
   {
    "duration": 140,
    "start_time": "2022-06-05T15:03:25.604Z"
   },
   {
    "duration": 120,
    "start_time": "2022-06-05T15:03:28.949Z"
   },
   {
    "duration": 186,
    "start_time": "2022-06-05T15:06:15.029Z"
   },
   {
    "duration": 127,
    "start_time": "2022-06-05T15:06:30.502Z"
   },
   {
    "duration": 117,
    "start_time": "2022-06-05T15:06:37.661Z"
   },
   {
    "duration": 127,
    "start_time": "2022-06-05T15:07:13.313Z"
   },
   {
    "duration": 159,
    "start_time": "2022-06-05T15:07:36.196Z"
   },
   {
    "duration": 144,
    "start_time": "2022-06-05T15:08:06.926Z"
   },
   {
    "duration": 127,
    "start_time": "2022-06-05T15:08:12.734Z"
   },
   {
    "duration": 203,
    "start_time": "2022-06-05T15:08:42.609Z"
   },
   {
    "duration": 16,
    "start_time": "2022-06-05T15:14:33.640Z"
   },
   {
    "duration": 5,
    "start_time": "2022-06-05T15:14:48.144Z"
   },
   {
    "duration": 6,
    "start_time": "2022-06-05T15:29:44.024Z"
   },
   {
    "duration": 9,
    "start_time": "2022-06-05T15:30:06.745Z"
   },
   {
    "duration": 10,
    "start_time": "2022-06-05T15:31:35.926Z"
   },
   {
    "duration": 10,
    "start_time": "2022-06-05T15:31:43.427Z"
   },
   {
    "duration": 99,
    "start_time": "2022-06-05T15:42:24.653Z"
   },
   {
    "duration": 99,
    "start_time": "2022-06-05T15:42:38.151Z"
   },
   {
    "duration": 116,
    "start_time": "2022-06-05T15:43:27.029Z"
   },
   {
    "duration": 104,
    "start_time": "2022-06-05T15:43:32.502Z"
   },
   {
    "duration": 110,
    "start_time": "2022-06-05T15:43:54.684Z"
   },
   {
    "duration": 102,
    "start_time": "2022-06-05T15:43:59.822Z"
   },
   {
    "duration": 118,
    "start_time": "2022-06-05T15:44:03.784Z"
   },
   {
    "duration": 110,
    "start_time": "2022-06-05T15:44:08.244Z"
   },
   {
    "duration": 97,
    "start_time": "2022-06-05T15:44:12.939Z"
   },
   {
    "duration": 343,
    "start_time": "2022-06-05T15:46:45.970Z"
   },
   {
    "duration": 99,
    "start_time": "2022-06-05T15:46:58.313Z"
   },
   {
    "duration": 100,
    "start_time": "2022-06-05T15:47:00.829Z"
   },
   {
    "duration": 5,
    "start_time": "2022-06-05T15:51:21.791Z"
   },
   {
    "duration": 63,
    "start_time": "2022-06-05T15:55:38.987Z"
   },
   {
    "duration": 114,
    "start_time": "2022-06-05T15:56:03.386Z"
   },
   {
    "duration": 6,
    "start_time": "2022-06-05T16:53:56.969Z"
   },
   {
    "duration": 60,
    "start_time": "2022-06-06T08:17:13.078Z"
   },
   {
    "duration": 1268,
    "start_time": "2022-06-06T08:17:32.603Z"
   },
   {
    "duration": 56,
    "start_time": "2022-06-06T08:17:33.873Z"
   },
   {
    "duration": 3,
    "start_time": "2022-06-06T08:17:33.931Z"
   },
   {
    "duration": 27,
    "start_time": "2022-06-06T08:17:33.936Z"
   },
   {
    "duration": 10,
    "start_time": "2022-06-06T08:17:33.965Z"
   },
   {
    "duration": 9,
    "start_time": "2022-06-06T08:17:33.976Z"
   },
   {
    "duration": 9,
    "start_time": "2022-06-06T08:17:33.987Z"
   },
   {
    "duration": 125,
    "start_time": "2022-06-06T08:17:33.998Z"
   },
   {
    "duration": 20,
    "start_time": "2022-06-06T08:17:34.125Z"
   },
   {
    "duration": 20,
    "start_time": "2022-06-06T08:17:34.147Z"
   },
   {
    "duration": 6,
    "start_time": "2022-06-06T08:17:34.168Z"
   },
   {
    "duration": 27,
    "start_time": "2022-06-06T08:17:34.176Z"
   },
   {
    "duration": 165,
    "start_time": "2022-06-06T08:17:34.205Z"
   },
   {
    "duration": 117,
    "start_time": "2022-06-06T08:17:34.372Z"
   },
   {
    "duration": 12,
    "start_time": "2022-06-06T08:17:34.490Z"
   },
   {
    "duration": 309,
    "start_time": "2022-06-06T08:17:34.504Z"
   },
   {
    "duration": 264,
    "start_time": "2022-06-06T08:17:34.814Z"
   },
   {
    "duration": 308,
    "start_time": "2022-06-06T08:17:35.080Z"
   },
   {
    "duration": 197,
    "start_time": "2022-06-06T08:17:35.391Z"
   },
   {
    "duration": 288,
    "start_time": "2022-06-06T08:17:35.590Z"
   },
   {
    "duration": 12,
    "start_time": "2022-06-06T08:17:35.880Z"
   },
   {
    "duration": 123,
    "start_time": "2022-06-06T08:17:35.893Z"
   },
   {
    "duration": 120,
    "start_time": "2022-06-06T08:17:36.018Z"
   },
   {
    "duration": 4,
    "start_time": "2022-06-06T08:17:36.140Z"
   },
   {
    "duration": 132,
    "start_time": "2022-06-06T08:17:36.146Z"
   },
   {
    "duration": 132,
    "start_time": "2022-06-06T08:17:36.280Z"
   },
   {
    "duration": 127,
    "start_time": "2022-06-06T08:17:36.413Z"
   },
   {
    "duration": 5,
    "start_time": "2022-06-06T08:17:36.543Z"
   },
   {
    "duration": 24,
    "start_time": "2022-06-06T08:17:36.559Z"
   },
   {
    "duration": 9,
    "start_time": "2022-06-06T08:17:39.185Z"
   },
   {
    "duration": 47,
    "start_time": "2022-06-06T08:17:40.386Z"
   },
   {
    "duration": 7,
    "start_time": "2022-06-06T08:18:08.022Z"
   },
   {
    "duration": 10,
    "start_time": "2022-06-06T08:18:48.466Z"
   },
   {
    "duration": 370,
    "start_time": "2022-06-06T08:25:55.158Z"
   },
   {
    "duration": 9,
    "start_time": "2022-06-06T08:26:04.142Z"
   },
   {
    "duration": 9,
    "start_time": "2022-06-06T08:27:04.604Z"
   },
   {
    "duration": 181,
    "start_time": "2022-06-06T08:28:53.761Z"
   },
   {
    "duration": 9,
    "start_time": "2022-06-06T08:34:40.851Z"
   },
   {
    "duration": 29,
    "start_time": "2022-06-06T08:34:46.191Z"
   },
   {
    "duration": 24,
    "start_time": "2022-06-06T08:41:42.535Z"
   },
   {
    "duration": 26,
    "start_time": "2022-06-06T08:42:03.604Z"
   },
   {
    "duration": 35,
    "start_time": "2022-06-06T08:42:11.517Z"
   },
   {
    "duration": 11,
    "start_time": "2022-06-06T08:42:21.037Z"
   },
   {
    "duration": 6,
    "start_time": "2022-06-06T08:42:33.854Z"
   },
   {
    "duration": 30,
    "start_time": "2022-06-06T08:47:18.722Z"
   },
   {
    "duration": 11,
    "start_time": "2022-06-06T08:47:58.857Z"
   },
   {
    "duration": 25,
    "start_time": "2022-06-06T08:48:07.128Z"
   },
   {
    "duration": 4,
    "start_time": "2022-06-06T08:48:13.814Z"
   },
   {
    "duration": 14,
    "start_time": "2022-06-06T08:48:20.191Z"
   },
   {
    "duration": 28,
    "start_time": "2022-06-06T08:48:31.390Z"
   },
   {
    "duration": 23,
    "start_time": "2022-06-06T08:51:02.929Z"
   },
   {
    "duration": 9,
    "start_time": "2022-06-06T08:51:06.734Z"
   },
   {
    "duration": 8,
    "start_time": "2022-06-06T08:51:13.926Z"
   },
   {
    "duration": 34,
    "start_time": "2022-06-06T09:23:35.020Z"
   },
   {
    "duration": 52,
    "start_time": "2022-06-06T09:24:25.869Z"
   },
   {
    "duration": 4,
    "start_time": "2022-06-06T09:25:29.406Z"
   },
   {
    "duration": 35,
    "start_time": "2022-06-06T09:25:29.412Z"
   },
   {
    "duration": 4,
    "start_time": "2022-06-06T09:25:29.450Z"
   },
   {
    "duration": 26,
    "start_time": "2022-06-06T09:25:29.455Z"
   },
   {
    "duration": 12,
    "start_time": "2022-06-06T09:25:29.483Z"
   },
   {
    "duration": 12,
    "start_time": "2022-06-06T09:25:29.497Z"
   },
   {
    "duration": 12,
    "start_time": "2022-06-06T09:25:29.510Z"
   },
   {
    "duration": 51,
    "start_time": "2022-06-06T09:25:29.523Z"
   },
   {
    "duration": 19,
    "start_time": "2022-06-06T09:25:29.575Z"
   },
   {
    "duration": 18,
    "start_time": "2022-06-06T09:25:29.595Z"
   },
   {
    "duration": 6,
    "start_time": "2022-06-06T09:25:29.615Z"
   },
   {
    "duration": 16,
    "start_time": "2022-06-06T09:25:29.622Z"
   },
   {
    "duration": 166,
    "start_time": "2022-06-06T09:25:29.660Z"
   },
   {
    "duration": 133,
    "start_time": "2022-06-06T09:25:29.827Z"
   },
   {
    "duration": 24,
    "start_time": "2022-06-06T09:25:29.962Z"
   },
   {
    "duration": 194,
    "start_time": "2022-06-06T09:25:29.987Z"
   },
   {
    "duration": 204,
    "start_time": "2022-06-06T09:25:30.183Z"
   },
   {
    "duration": 281,
    "start_time": "2022-06-06T09:25:30.389Z"
   },
   {
    "duration": 298,
    "start_time": "2022-06-06T09:25:30.671Z"
   },
   {
    "duration": 291,
    "start_time": "2022-06-06T09:25:30.970Z"
   },
   {
    "duration": 12,
    "start_time": "2022-06-06T09:25:31.262Z"
   },
   {
    "duration": 128,
    "start_time": "2022-06-06T09:25:31.275Z"
   },
   {
    "duration": 110,
    "start_time": "2022-06-06T09:25:31.405Z"
   },
   {
    "duration": 5,
    "start_time": "2022-06-06T09:25:31.518Z"
   },
   {
    "duration": 149,
    "start_time": "2022-06-06T09:25:31.525Z"
   },
   {
    "duration": 135,
    "start_time": "2022-06-06T09:25:31.676Z"
   },
   {
    "duration": 140,
    "start_time": "2022-06-06T09:25:31.812Z"
   },
   {
    "duration": 6,
    "start_time": "2022-06-06T09:25:31.958Z"
   },
   {
    "duration": 80,
    "start_time": "2022-06-06T09:25:31.968Z"
   },
   {
    "duration": 17,
    "start_time": "2022-06-06T09:25:32.050Z"
   },
   {
    "duration": 64,
    "start_time": "2022-06-06T09:25:36.901Z"
   },
   {
    "duration": 54,
    "start_time": "2022-06-06T09:27:36.784Z"
   },
   {
    "duration": 13,
    "start_time": "2022-06-06T10:05:53.531Z"
   },
   {
    "duration": 12,
    "start_time": "2022-06-06T10:06:56.668Z"
   },
   {
    "duration": 8,
    "start_time": "2022-06-06T10:10:31.036Z"
   },
   {
    "duration": 7,
    "start_time": "2022-06-06T10:10:31.780Z"
   },
   {
    "duration": 68,
    "start_time": "2022-06-06T11:12:13.307Z"
   },
   {
    "duration": 22,
    "start_time": "2022-06-06T11:12:21.132Z"
   },
   {
    "duration": 111,
    "start_time": "2022-06-06T11:12:30.627Z"
   },
   {
    "duration": 32,
    "start_time": "2022-06-06T11:12:33.768Z"
   },
   {
    "duration": 22,
    "start_time": "2022-06-06T11:12:37.684Z"
   },
   {
    "duration": 39,
    "start_time": "2022-06-06T11:12:41.387Z"
   },
   {
    "duration": 46,
    "start_time": "2022-06-06T11:13:10.663Z"
   },
   {
    "duration": 34,
    "start_time": "2022-06-06T11:13:43.773Z"
   },
   {
    "duration": 9,
    "start_time": "2022-06-06T11:13:50.803Z"
   },
   {
    "duration": 3,
    "start_time": "2022-06-06T11:14:28.282Z"
   },
   {
    "duration": 33,
    "start_time": "2022-06-06T11:14:28.287Z"
   },
   {
    "duration": 5,
    "start_time": "2022-06-06T11:14:28.322Z"
   },
   {
    "duration": 28,
    "start_time": "2022-06-06T11:14:28.329Z"
   },
   {
    "duration": 9,
    "start_time": "2022-06-06T11:14:28.359Z"
   },
   {
    "duration": 11,
    "start_time": "2022-06-06T11:14:28.370Z"
   },
   {
    "duration": 13,
    "start_time": "2022-06-06T11:14:28.383Z"
   },
   {
    "duration": 55,
    "start_time": "2022-06-06T11:14:28.398Z"
   },
   {
    "duration": 20,
    "start_time": "2022-06-06T11:14:28.454Z"
   },
   {
    "duration": 18,
    "start_time": "2022-06-06T11:14:28.475Z"
   },
   {
    "duration": 6,
    "start_time": "2022-06-06T11:14:28.495Z"
   },
   {
    "duration": 57,
    "start_time": "2022-06-06T11:14:28.502Z"
   },
   {
    "duration": 199,
    "start_time": "2022-06-06T11:14:28.561Z"
   },
   {
    "duration": 146,
    "start_time": "2022-06-06T11:14:28.761Z"
   },
   {
    "duration": 12,
    "start_time": "2022-06-06T11:14:28.908Z"
   },
   {
    "duration": 202,
    "start_time": "2022-06-06T11:14:28.922Z"
   },
   {
    "duration": 191,
    "start_time": "2022-06-06T11:14:29.126Z"
   },
   {
    "duration": 291,
    "start_time": "2022-06-06T11:14:29.319Z"
   },
   {
    "duration": 197,
    "start_time": "2022-06-06T11:14:29.612Z"
   },
   {
    "duration": 300,
    "start_time": "2022-06-06T11:14:29.811Z"
   },
   {
    "duration": 11,
    "start_time": "2022-06-06T11:14:30.113Z"
   },
   {
    "duration": 222,
    "start_time": "2022-06-06T11:14:30.125Z"
   },
   {
    "duration": 131,
    "start_time": "2022-06-06T11:14:30.348Z"
   },
   {
    "duration": 5,
    "start_time": "2022-06-06T11:14:30.481Z"
   },
   {
    "duration": 150,
    "start_time": "2022-06-06T11:14:30.488Z"
   },
   {
    "duration": 155,
    "start_time": "2022-06-06T11:14:30.640Z"
   },
   {
    "duration": 134,
    "start_time": "2022-06-06T11:14:30.797Z"
   },
   {
    "duration": 4,
    "start_time": "2022-06-06T11:14:30.933Z"
   },
   {
    "duration": 64,
    "start_time": "2022-06-06T11:14:30.940Z"
   },
   {
    "duration": 10,
    "start_time": "2022-06-06T11:14:31.005Z"
   },
   {
    "duration": 9,
    "start_time": "2022-06-06T11:14:31.017Z"
   },
   {
    "duration": 35,
    "start_time": "2022-06-06T11:14:32.241Z"
   },
   {
    "duration": 27,
    "start_time": "2022-06-06T11:14:54.081Z"
   },
   {
    "duration": 26,
    "start_time": "2022-06-06T11:15:17.873Z"
   },
   {
    "duration": 25,
    "start_time": "2022-06-06T11:15:45.625Z"
   },
   {
    "duration": 27,
    "start_time": "2022-06-06T11:15:51.196Z"
   },
   {
    "duration": 26,
    "start_time": "2022-06-06T11:16:00.412Z"
   },
   {
    "duration": 27,
    "start_time": "2022-06-06T11:18:51.882Z"
   },
   {
    "duration": 31,
    "start_time": "2022-06-06T11:19:07.174Z"
   },
   {
    "duration": 9,
    "start_time": "2022-06-06T11:21:49.406Z"
   },
   {
    "duration": 5,
    "start_time": "2022-06-06T11:21:55.172Z"
   },
   {
    "duration": 5,
    "start_time": "2022-06-06T11:22:18.930Z"
   },
   {
    "duration": 4,
    "start_time": "2022-06-06T11:22:28.010Z"
   },
   {
    "duration": 10,
    "start_time": "2022-06-06T11:22:41.266Z"
   },
   {
    "duration": 7,
    "start_time": "2022-06-06T11:22:47.171Z"
   },
   {
    "duration": 7,
    "start_time": "2022-06-06T11:23:01.458Z"
   },
   {
    "duration": 5,
    "start_time": "2022-06-06T11:23:11.290Z"
   },
   {
    "duration": 5,
    "start_time": "2022-06-06T11:23:16.531Z"
   },
   {
    "duration": 5,
    "start_time": "2022-06-06T11:23:19.834Z"
   },
   {
    "duration": 34,
    "start_time": "2022-06-06T11:44:09.822Z"
   },
   {
    "duration": 12,
    "start_time": "2022-06-06T11:47:07.807Z"
   },
   {
    "duration": 5,
    "start_time": "2022-06-06T11:47:52.607Z"
   },
   {
    "duration": 15,
    "start_time": "2022-06-06T12:10:25.945Z"
   },
   {
    "duration": 9,
    "start_time": "2022-06-06T12:10:31.688Z"
   },
   {
    "duration": 383,
    "start_time": "2022-06-06T12:11:00.467Z"
   },
   {
    "duration": 8,
    "start_time": "2022-06-06T12:11:04.211Z"
   },
   {
    "duration": 4,
    "start_time": "2022-06-06T12:11:48.739Z"
   },
   {
    "duration": 8,
    "start_time": "2022-06-06T12:30:34.865Z"
   },
   {
    "duration": 28,
    "start_time": "2022-06-06T12:31:00.330Z"
   },
   {
    "duration": 8,
    "start_time": "2022-06-06T12:33:03.365Z"
   },
   {
    "duration": 8,
    "start_time": "2022-06-06T12:33:09.792Z"
   },
   {
    "duration": 21,
    "start_time": "2022-06-06T12:33:42.561Z"
   },
   {
    "duration": 5,
    "start_time": "2022-06-06T12:33:47.599Z"
   },
   {
    "duration": 4,
    "start_time": "2022-06-06T12:34:20.688Z"
   },
   {
    "duration": 27,
    "start_time": "2022-06-06T12:34:37.594Z"
   },
   {
    "duration": 28,
    "start_time": "2022-06-06T12:35:00.683Z"
   },
   {
    "duration": 3,
    "start_time": "2022-06-06T12:35:26.311Z"
   },
   {
    "duration": 36,
    "start_time": "2022-06-06T12:35:26.319Z"
   },
   {
    "duration": 3,
    "start_time": "2022-06-06T12:35:26.357Z"
   },
   {
    "duration": 38,
    "start_time": "2022-06-06T12:35:26.362Z"
   },
   {
    "duration": 14,
    "start_time": "2022-06-06T12:35:26.402Z"
   },
   {
    "duration": 19,
    "start_time": "2022-06-06T12:35:26.417Z"
   },
   {
    "duration": 29,
    "start_time": "2022-06-06T12:35:26.438Z"
   },
   {
    "duration": 70,
    "start_time": "2022-06-06T12:35:26.469Z"
   },
   {
    "duration": 19,
    "start_time": "2022-06-06T12:35:26.541Z"
   },
   {
    "duration": 18,
    "start_time": "2022-06-06T12:35:26.562Z"
   },
   {
    "duration": 5,
    "start_time": "2022-06-06T12:35:26.583Z"
   },
   {
    "duration": 18,
    "start_time": "2022-06-06T12:35:26.590Z"
   },
   {
    "duration": 209,
    "start_time": "2022-06-06T12:35:26.610Z"
   },
   {
    "duration": 138,
    "start_time": "2022-06-06T12:35:26.821Z"
   },
   {
    "duration": 15,
    "start_time": "2022-06-06T12:35:26.960Z"
   },
   {
    "duration": 246,
    "start_time": "2022-06-06T12:35:26.976Z"
   },
   {
    "duration": 208,
    "start_time": "2022-06-06T12:35:27.224Z"
   },
   {
    "duration": 306,
    "start_time": "2022-06-06T12:35:27.433Z"
   },
   {
    "duration": 188,
    "start_time": "2022-06-06T12:35:27.741Z"
   },
   {
    "duration": 310,
    "start_time": "2022-06-06T12:35:27.931Z"
   },
   {
    "duration": 18,
    "start_time": "2022-06-06T12:35:28.243Z"
   },
   {
    "duration": 106,
    "start_time": "2022-06-06T12:35:28.262Z"
   },
   {
    "duration": 112,
    "start_time": "2022-06-06T12:35:28.370Z"
   },
   {
    "duration": 5,
    "start_time": "2022-06-06T12:35:28.484Z"
   },
   {
    "duration": 240,
    "start_time": "2022-06-06T12:35:28.490Z"
   },
   {
    "duration": 129,
    "start_time": "2022-06-06T12:35:28.731Z"
   },
   {
    "duration": 119,
    "start_time": "2022-06-06T12:35:28.862Z"
   },
   {
    "duration": 6,
    "start_time": "2022-06-06T12:35:28.983Z"
   },
   {
    "duration": 66,
    "start_time": "2022-06-06T12:35:28.992Z"
   },
   {
    "duration": 17,
    "start_time": "2022-06-06T12:35:29.060Z"
   },
   {
    "duration": 32,
    "start_time": "2022-06-06T12:35:29.079Z"
   },
   {
    "duration": 69,
    "start_time": "2022-06-06T12:35:29.113Z"
   },
   {
    "duration": 10,
    "start_time": "2022-06-06T12:35:29.184Z"
   },
   {
    "duration": 32,
    "start_time": "2022-06-06T12:35:29.196Z"
   },
   {
    "duration": 47,
    "start_time": "2022-06-06T12:35:29.230Z"
   },
   {
    "duration": 28,
    "start_time": "2022-06-06T12:35:29.279Z"
   },
   {
    "duration": 21,
    "start_time": "2022-06-06T12:35:29.309Z"
   },
   {
    "duration": 43,
    "start_time": "2022-06-06T12:35:29.331Z"
   },
   {
    "duration": 28,
    "start_time": "2022-06-06T12:35:30.472Z"
   },
   {
    "duration": 76,
    "start_time": "2022-06-06T12:51:57.262Z"
   },
   {
    "duration": 532,
    "start_time": "2022-06-06T12:52:06.367Z"
   },
   {
    "duration": 7,
    "start_time": "2022-06-06T12:52:26.015Z"
   },
   {
    "duration": 9,
    "start_time": "2022-06-06T12:53:52.109Z"
   },
   {
    "duration": 8,
    "start_time": "2022-06-06T12:55:19.211Z"
   },
   {
    "duration": 620,
    "start_time": "2022-06-06T13:25:04.108Z"
   },
   {
    "duration": 5,
    "start_time": "2022-06-06T13:25:12.324Z"
   },
   {
    "duration": 4,
    "start_time": "2022-06-06T13:25:34.946Z"
   },
   {
    "duration": 4,
    "start_time": "2022-06-06T13:25:39.108Z"
   },
   {
    "duration": 4,
    "start_time": "2022-06-06T13:25:45.474Z"
   },
   {
    "duration": 13,
    "start_time": "2022-06-06T13:25:56.011Z"
   },
   {
    "duration": 4,
    "start_time": "2022-06-06T13:26:02.119Z"
   },
   {
    "duration": 3,
    "start_time": "2022-06-06T13:26:47.700Z"
   },
   {
    "duration": 4,
    "start_time": "2022-06-06T13:27:18.652Z"
   },
   {
    "duration": 4,
    "start_time": "2022-06-06T13:27:48.556Z"
   },
   {
    "duration": 4,
    "start_time": "2022-06-06T13:27:52.755Z"
   },
   {
    "duration": 4,
    "start_time": "2022-06-06T13:28:20.187Z"
   },
   {
    "duration": 324,
    "start_time": "2022-06-06T14:29:59.211Z"
   },
   {
    "duration": 347,
    "start_time": "2022-06-06T14:30:24.638Z"
   },
   {
    "duration": 10,
    "start_time": "2022-06-06T14:31:21.669Z"
   },
   {
    "duration": 9,
    "start_time": "2022-06-06T14:31:47.671Z"
   },
   {
    "duration": 17,
    "start_time": "2022-06-06T14:47:00.699Z"
   },
   {
    "duration": 7,
    "start_time": "2022-06-06T14:47:45.554Z"
   },
   {
    "duration": 27,
    "start_time": "2022-06-06T14:47:50.137Z"
   },
   {
    "duration": 4,
    "start_time": "2022-06-06T14:47:52.226Z"
   },
   {
    "duration": 9,
    "start_time": "2022-06-06T14:48:58.219Z"
   },
   {
    "duration": 27,
    "start_time": "2022-06-06T14:49:00.340Z"
   },
   {
    "duration": 3,
    "start_time": "2022-06-06T14:50:14.517Z"
   },
   {
    "duration": 34,
    "start_time": "2022-06-06T14:50:14.522Z"
   },
   {
    "duration": 4,
    "start_time": "2022-06-06T14:50:14.557Z"
   },
   {
    "duration": 25,
    "start_time": "2022-06-06T14:50:14.563Z"
   },
   {
    "duration": 10,
    "start_time": "2022-06-06T14:50:14.590Z"
   },
   {
    "duration": 15,
    "start_time": "2022-06-06T14:50:14.601Z"
   },
   {
    "duration": 45,
    "start_time": "2022-06-06T14:50:14.617Z"
   },
   {
    "duration": 58,
    "start_time": "2022-06-06T14:50:14.663Z"
   },
   {
    "duration": 21,
    "start_time": "2022-06-06T14:50:14.723Z"
   },
   {
    "duration": 19,
    "start_time": "2022-06-06T14:50:14.746Z"
   },
   {
    "duration": 6,
    "start_time": "2022-06-06T14:50:14.768Z"
   },
   {
    "duration": 19,
    "start_time": "2022-06-06T14:50:14.775Z"
   },
   {
    "duration": 173,
    "start_time": "2022-06-06T14:50:14.796Z"
   },
   {
    "duration": 127,
    "start_time": "2022-06-06T14:50:14.971Z"
   },
   {
    "duration": 19,
    "start_time": "2022-06-06T14:50:15.100Z"
   },
   {
    "duration": 193,
    "start_time": "2022-06-06T14:50:15.120Z"
   },
   {
    "duration": 191,
    "start_time": "2022-06-06T14:50:15.314Z"
   },
   {
    "duration": 267,
    "start_time": "2022-06-06T14:50:15.507Z"
   },
   {
    "duration": 201,
    "start_time": "2022-06-06T14:50:15.775Z"
   },
   {
    "duration": 304,
    "start_time": "2022-06-06T14:50:15.978Z"
   },
   {
    "duration": 12,
    "start_time": "2022-06-06T14:50:16.284Z"
   },
   {
    "duration": 113,
    "start_time": "2022-06-06T14:50:16.298Z"
   },
   {
    "duration": 114,
    "start_time": "2022-06-06T14:50:16.413Z"
   },
   {
    "duration": 6,
    "start_time": "2022-06-06T14:50:16.528Z"
   },
   {
    "duration": 138,
    "start_time": "2022-06-06T14:50:16.535Z"
   },
   {
    "duration": 123,
    "start_time": "2022-06-06T14:50:16.674Z"
   },
   {
    "duration": 215,
    "start_time": "2022-06-06T14:50:16.798Z"
   },
   {
    "duration": 5,
    "start_time": "2022-06-06T14:50:17.014Z"
   },
   {
    "duration": 7,
    "start_time": "2022-06-06T14:50:17.022Z"
   },
   {
    "duration": 29,
    "start_time": "2022-06-06T14:50:17.030Z"
   },
   {
    "duration": 7,
    "start_time": "2022-06-06T14:50:17.060Z"
   },
   {
    "duration": 25,
    "start_time": "2022-06-06T14:50:17.068Z"
   },
   {
    "duration": 5,
    "start_time": "2022-06-06T14:50:17.094Z"
   },
   {
    "duration": 10,
    "start_time": "2022-06-06T14:50:17.100Z"
   },
   {
    "duration": 5,
    "start_time": "2022-06-06T14:50:17.112Z"
   },
   {
    "duration": 40,
    "start_time": "2022-06-06T14:50:17.119Z"
   },
   {
    "duration": 7,
    "start_time": "2022-06-06T14:50:17.161Z"
   },
   {
    "duration": 15,
    "start_time": "2022-06-06T14:50:17.170Z"
   },
   {
    "duration": 43,
    "start_time": "2022-06-06T14:50:17.187Z"
   },
   {
    "duration": 9,
    "start_time": "2022-06-06T14:50:17.232Z"
   },
   {
    "duration": 22,
    "start_time": "2022-06-06T14:50:17.243Z"
   },
   {
    "duration": 279,
    "start_time": "2022-06-06T14:54:19.394Z"
   },
   {
    "duration": 8,
    "start_time": "2022-06-06T14:54:32.843Z"
   },
   {
    "duration": 3,
    "start_time": "2022-06-06T15:05:48.838Z"
   },
   {
    "duration": 45,
    "start_time": "2022-06-06T15:05:48.844Z"
   },
   {
    "duration": 4,
    "start_time": "2022-06-06T15:05:48.891Z"
   },
   {
    "duration": 29,
    "start_time": "2022-06-06T15:05:48.896Z"
   },
   {
    "duration": 13,
    "start_time": "2022-06-06T15:05:48.928Z"
   },
   {
    "duration": 16,
    "start_time": "2022-06-06T15:05:48.943Z"
   },
   {
    "duration": 37,
    "start_time": "2022-06-06T15:05:48.961Z"
   },
   {
    "duration": 62,
    "start_time": "2022-06-06T15:05:49.000Z"
   },
   {
    "duration": 27,
    "start_time": "2022-06-06T15:05:49.064Z"
   },
   {
    "duration": 19,
    "start_time": "2022-06-06T15:05:49.093Z"
   },
   {
    "duration": 6,
    "start_time": "2022-06-06T15:05:49.113Z"
   },
   {
    "duration": 49,
    "start_time": "2022-06-06T15:05:49.121Z"
   },
   {
    "duration": 178,
    "start_time": "2022-06-06T15:05:49.172Z"
   },
   {
    "duration": 193,
    "start_time": "2022-06-06T15:05:49.362Z"
   },
   {
    "duration": 20,
    "start_time": "2022-06-06T15:05:49.558Z"
   },
   {
    "duration": 312,
    "start_time": "2022-06-06T15:05:49.580Z"
   },
   {
    "duration": 277,
    "start_time": "2022-06-06T15:05:49.895Z"
   },
   {
    "duration": 298,
    "start_time": "2022-06-06T15:05:50.173Z"
   },
   {
    "duration": 237,
    "start_time": "2022-06-06T15:05:50.474Z"
   },
   {
    "duration": 357,
    "start_time": "2022-06-06T15:05:50.713Z"
   },
   {
    "duration": 13,
    "start_time": "2022-06-06T15:05:51.071Z"
   },
   {
    "duration": 155,
    "start_time": "2022-06-06T15:05:51.087Z"
   },
   {
    "duration": 134,
    "start_time": "2022-06-06T15:05:51.244Z"
   },
   {
    "duration": 6,
    "start_time": "2022-06-06T15:05:51.380Z"
   },
   {
    "duration": 155,
    "start_time": "2022-06-06T15:05:51.388Z"
   },
   {
    "duration": 147,
    "start_time": "2022-06-06T15:05:51.545Z"
   },
   {
    "duration": 135,
    "start_time": "2022-06-06T15:05:51.693Z"
   },
   {
    "duration": 6,
    "start_time": "2022-06-06T15:05:51.829Z"
   },
   {
    "duration": 26,
    "start_time": "2022-06-06T15:05:51.836Z"
   },
   {
    "duration": 10,
    "start_time": "2022-06-06T15:05:51.865Z"
   },
   {
    "duration": 33,
    "start_time": "2022-06-06T15:05:51.878Z"
   },
   {
    "duration": 6,
    "start_time": "2022-06-06T15:05:51.913Z"
   },
   {
    "duration": 17,
    "start_time": "2022-06-06T15:05:51.920Z"
   },
   {
    "duration": 25,
    "start_time": "2022-06-06T15:05:51.939Z"
   },
   {
    "duration": 24,
    "start_time": "2022-06-06T15:05:51.966Z"
   },
   {
    "duration": 8,
    "start_time": "2022-06-06T15:05:51.992Z"
   },
   {
    "duration": 119,
    "start_time": "2022-06-06T15:05:52.002Z"
   },
   {
    "duration": 44,
    "start_time": "2022-06-06T15:05:52.123Z"
   },
   {
    "duration": 9,
    "start_time": "2022-06-06T15:05:52.168Z"
   },
   {
    "duration": 12,
    "start_time": "2022-06-06T15:05:52.178Z"
   },
   {
    "duration": 3,
    "start_time": "2022-06-06T15:05:58.203Z"
   },
   {
    "duration": 39,
    "start_time": "2022-06-06T15:05:58.208Z"
   },
   {
    "duration": 4,
    "start_time": "2022-06-06T15:05:58.249Z"
   },
   {
    "duration": 32,
    "start_time": "2022-06-06T15:05:58.255Z"
   },
   {
    "duration": 13,
    "start_time": "2022-06-06T15:05:58.289Z"
   },
   {
    "duration": 12,
    "start_time": "2022-06-06T15:05:58.304Z"
   },
   {
    "duration": 50,
    "start_time": "2022-06-06T15:05:58.318Z"
   },
   {
    "duration": 76,
    "start_time": "2022-06-06T15:05:58.369Z"
   },
   {
    "duration": 22,
    "start_time": "2022-06-06T15:05:58.448Z"
   },
   {
    "duration": 21,
    "start_time": "2022-06-06T15:05:58.472Z"
   },
   {
    "duration": 7,
    "start_time": "2022-06-06T15:05:58.494Z"
   },
   {
    "duration": 20,
    "start_time": "2022-06-06T15:05:58.502Z"
   },
   {
    "duration": 199,
    "start_time": "2022-06-06T15:05:58.524Z"
   },
   {
    "duration": 154,
    "start_time": "2022-06-06T15:05:58.724Z"
   },
   {
    "duration": 13,
    "start_time": "2022-06-06T15:05:58.879Z"
   },
   {
    "duration": 252,
    "start_time": "2022-06-06T15:05:58.894Z"
   },
   {
    "duration": 233,
    "start_time": "2022-06-06T15:05:59.148Z"
   },
   {
    "duration": 304,
    "start_time": "2022-06-06T15:05:59.387Z"
   },
   {
    "duration": 235,
    "start_time": "2022-06-06T15:05:59.692Z"
   },
   {
    "duration": 368,
    "start_time": "2022-06-06T15:05:59.930Z"
   },
   {
    "duration": 12,
    "start_time": "2022-06-06T15:06:00.300Z"
   },
   {
    "duration": 159,
    "start_time": "2022-06-06T15:06:00.314Z"
   },
   {
    "duration": 140,
    "start_time": "2022-06-06T15:06:00.476Z"
   },
   {
    "duration": 5,
    "start_time": "2022-06-06T15:06:00.621Z"
   },
   {
    "duration": 199,
    "start_time": "2022-06-06T15:06:00.628Z"
   },
   {
    "duration": 156,
    "start_time": "2022-06-06T15:06:00.829Z"
   },
   {
    "duration": 161,
    "start_time": "2022-06-06T15:06:00.987Z"
   },
   {
    "duration": 11,
    "start_time": "2022-06-06T15:06:01.151Z"
   },
   {
    "duration": 35,
    "start_time": "2022-06-06T15:06:01.164Z"
   },
   {
    "duration": 30,
    "start_time": "2022-06-06T15:06:01.201Z"
   },
   {
    "duration": 60,
    "start_time": "2022-06-06T15:06:01.233Z"
   },
   {
    "duration": 4,
    "start_time": "2022-06-06T15:06:01.296Z"
   },
   {
    "duration": 48,
    "start_time": "2022-06-06T15:06:01.302Z"
   },
   {
    "duration": 5,
    "start_time": "2022-06-06T15:06:01.352Z"
   },
   {
    "duration": 38,
    "start_time": "2022-06-06T15:06:01.359Z"
   },
   {
    "duration": 29,
    "start_time": "2022-06-06T15:06:01.399Z"
   },
   {
    "duration": 56,
    "start_time": "2022-06-06T15:06:01.430Z"
   },
   {
    "duration": 35,
    "start_time": "2022-06-06T15:06:01.488Z"
   },
   {
    "duration": 10,
    "start_time": "2022-06-06T15:06:01.525Z"
   },
   {
    "duration": 12,
    "start_time": "2022-06-06T15:06:01.537Z"
   },
   {
    "duration": 14,
    "start_time": "2022-06-06T15:09:18.730Z"
   },
   {
    "duration": 12,
    "start_time": "2022-06-06T15:10:49.103Z"
   },
   {
    "duration": 8,
    "start_time": "2022-06-06T15:21:45.215Z"
   },
   {
    "duration": 11,
    "start_time": "2022-06-06T15:23:39.439Z"
   },
   {
    "duration": 28,
    "start_time": "2022-06-06T15:23:43.422Z"
   },
   {
    "duration": 7,
    "start_time": "2022-06-06T15:24:07.738Z"
   },
   {
    "duration": 10,
    "start_time": "2022-06-06T15:24:14.302Z"
   },
   {
    "duration": 1098,
    "start_time": "2022-06-06T15:27:42.135Z"
   },
   {
    "duration": 27,
    "start_time": "2022-06-06T15:27:43.235Z"
   },
   {
    "duration": 4,
    "start_time": "2022-06-06T15:27:43.263Z"
   },
   {
    "duration": 26,
    "start_time": "2022-06-06T15:27:43.270Z"
   },
   {
    "duration": 10,
    "start_time": "2022-06-06T15:27:43.298Z"
   },
   {
    "duration": 11,
    "start_time": "2022-06-06T15:27:43.309Z"
   },
   {
    "duration": 41,
    "start_time": "2022-06-06T15:27:43.322Z"
   },
   {
    "duration": 54,
    "start_time": "2022-06-06T15:27:43.365Z"
   },
   {
    "duration": 20,
    "start_time": "2022-06-06T15:27:43.420Z"
   },
   {
    "duration": 17,
    "start_time": "2022-06-06T15:27:43.442Z"
   },
   {
    "duration": 5,
    "start_time": "2022-06-06T15:27:43.460Z"
   },
   {
    "duration": 19,
    "start_time": "2022-06-06T15:27:43.467Z"
   },
   {
    "duration": 177,
    "start_time": "2022-06-06T15:27:43.488Z"
   },
   {
    "duration": 125,
    "start_time": "2022-06-06T15:27:43.667Z"
   },
   {
    "duration": 12,
    "start_time": "2022-06-06T15:27:43.793Z"
   },
   {
    "duration": 304,
    "start_time": "2022-06-06T15:27:43.807Z"
   },
   {
    "duration": 258,
    "start_time": "2022-06-06T15:27:44.113Z"
   },
   {
    "duration": 296,
    "start_time": "2022-06-06T15:27:44.373Z"
   },
   {
    "duration": 209,
    "start_time": "2022-06-06T15:27:44.671Z"
   },
   {
    "duration": 285,
    "start_time": "2022-06-06T15:27:44.881Z"
   },
   {
    "duration": 11,
    "start_time": "2022-06-06T15:27:45.168Z"
   },
   {
    "duration": 113,
    "start_time": "2022-06-06T15:27:45.181Z"
   },
   {
    "duration": 116,
    "start_time": "2022-06-06T15:27:45.296Z"
   },
   {
    "duration": 6,
    "start_time": "2022-06-06T15:27:45.414Z"
   },
   {
    "duration": 139,
    "start_time": "2022-06-06T15:27:45.422Z"
   },
   {
    "duration": 131,
    "start_time": "2022-06-06T15:27:45.562Z"
   },
   {
    "duration": 123,
    "start_time": "2022-06-06T15:27:45.694Z"
   },
   {
    "duration": 5,
    "start_time": "2022-06-06T15:27:45.820Z"
   },
   {
    "duration": 13,
    "start_time": "2022-06-06T15:27:45.827Z"
   },
   {
    "duration": 21,
    "start_time": "2022-06-06T15:27:45.842Z"
   },
   {
    "duration": 27,
    "start_time": "2022-06-06T15:27:45.865Z"
   },
   {
    "duration": 5,
    "start_time": "2022-06-06T15:27:45.893Z"
   },
   {
    "duration": 13,
    "start_time": "2022-06-06T15:27:45.899Z"
   },
   {
    "duration": 6,
    "start_time": "2022-06-06T15:27:45.914Z"
   },
   {
    "duration": 43,
    "start_time": "2022-06-06T15:27:45.922Z"
   },
   {
    "duration": 4,
    "start_time": "2022-06-06T15:27:45.968Z"
   },
   {
    "duration": 14,
    "start_time": "2022-06-06T15:27:45.973Z"
   },
   {
    "duration": 34,
    "start_time": "2022-06-06T15:27:45.988Z"
   },
   {
    "duration": 7,
    "start_time": "2022-06-06T15:27:46.024Z"
   },
   {
    "duration": 29,
    "start_time": "2022-06-06T15:27:46.033Z"
   },
   {
    "duration": 1309,
    "start_time": "2022-06-07T07:16:42.974Z"
   },
   {
    "duration": 58,
    "start_time": "2022-06-07T07:16:44.285Z"
   },
   {
    "duration": 4,
    "start_time": "2022-06-07T07:16:44.344Z"
   },
   {
    "duration": 30,
    "start_time": "2022-06-07T07:16:44.349Z"
   },
   {
    "duration": 12,
    "start_time": "2022-06-07T07:16:44.381Z"
   },
   {
    "duration": 10,
    "start_time": "2022-06-07T07:16:44.394Z"
   },
   {
    "duration": 16,
    "start_time": "2022-06-07T07:16:44.405Z"
   },
   {
    "duration": 123,
    "start_time": "2022-06-07T07:16:44.423Z"
   },
   {
    "duration": 20,
    "start_time": "2022-06-07T07:16:44.548Z"
   },
   {
    "duration": 20,
    "start_time": "2022-06-07T07:16:44.570Z"
   },
   {
    "duration": 8,
    "start_time": "2022-06-07T07:16:44.591Z"
   },
   {
    "duration": 21,
    "start_time": "2022-06-07T07:16:44.600Z"
   },
   {
    "duration": 177,
    "start_time": "2022-06-07T07:16:44.622Z"
   },
   {
    "duration": 137,
    "start_time": "2022-06-07T07:16:44.803Z"
   },
   {
    "duration": 13,
    "start_time": "2022-06-07T07:16:44.942Z"
   },
   {
    "duration": 316,
    "start_time": "2022-06-07T07:16:44.957Z"
   },
   {
    "duration": 272,
    "start_time": "2022-06-07T07:16:45.275Z"
   },
   {
    "duration": 365,
    "start_time": "2022-06-07T07:16:45.550Z"
   },
   {
    "duration": 196,
    "start_time": "2022-06-07T07:16:45.917Z"
   },
   {
    "duration": 294,
    "start_time": "2022-06-07T07:16:46.115Z"
   },
   {
    "duration": 11,
    "start_time": "2022-06-07T07:16:46.411Z"
   },
   {
    "duration": 118,
    "start_time": "2022-06-07T07:16:46.424Z"
   },
   {
    "duration": 121,
    "start_time": "2022-06-07T07:16:46.543Z"
   },
   {
    "duration": 5,
    "start_time": "2022-06-07T07:16:46.666Z"
   },
   {
    "duration": 138,
    "start_time": "2022-06-07T07:16:46.672Z"
   },
   {
    "duration": 126,
    "start_time": "2022-06-07T07:16:46.811Z"
   },
   {
    "duration": 131,
    "start_time": "2022-06-07T07:16:46.939Z"
   },
   {
    "duration": 5,
    "start_time": "2022-06-07T07:16:47.072Z"
   },
   {
    "duration": 22,
    "start_time": "2022-06-07T07:16:47.079Z"
   },
   {
    "duration": 8,
    "start_time": "2022-06-07T07:16:47.102Z"
   },
   {
    "duration": 35,
    "start_time": "2022-06-07T07:16:47.112Z"
   },
   {
    "duration": 6,
    "start_time": "2022-06-07T07:16:47.149Z"
   },
   {
    "duration": 15,
    "start_time": "2022-06-07T07:16:47.157Z"
   },
   {
    "duration": 5,
    "start_time": "2022-06-07T07:16:47.194Z"
   },
   {
    "duration": 12,
    "start_time": "2022-06-07T07:16:47.201Z"
   },
   {
    "duration": 6,
    "start_time": "2022-06-07T07:16:47.215Z"
   },
   {
    "duration": 10,
    "start_time": "2022-06-07T07:16:47.223Z"
   },
   {
    "duration": 30,
    "start_time": "2022-06-07T07:16:47.235Z"
   },
   {
    "duration": 33,
    "start_time": "2022-06-07T07:16:47.267Z"
   },
   {
    "duration": 9,
    "start_time": "2022-06-07T07:16:47.302Z"
   },
   {
    "duration": 1167,
    "start_time": "2022-06-07T07:22:31.124Z"
   },
   {
    "duration": 25,
    "start_time": "2022-06-07T07:22:32.293Z"
   },
   {
    "duration": 3,
    "start_time": "2022-06-07T07:22:32.320Z"
   },
   {
    "duration": 40,
    "start_time": "2022-06-07T07:22:32.325Z"
   },
   {
    "duration": 18,
    "start_time": "2022-06-07T07:22:32.366Z"
   },
   {
    "duration": 12,
    "start_time": "2022-06-07T07:22:32.387Z"
   },
   {
    "duration": 22,
    "start_time": "2022-06-07T07:22:32.401Z"
   },
   {
    "duration": 59,
    "start_time": "2022-06-07T07:22:32.425Z"
   },
   {
    "duration": 24,
    "start_time": "2022-06-07T07:22:32.487Z"
   },
   {
    "duration": 19,
    "start_time": "2022-06-07T07:22:32.515Z"
   },
   {
    "duration": 6,
    "start_time": "2022-06-07T07:22:32.535Z"
   },
   {
    "duration": 19,
    "start_time": "2022-06-07T07:22:32.543Z"
   },
   {
    "duration": 195,
    "start_time": "2022-06-07T07:22:32.565Z"
   },
   {
    "duration": 136,
    "start_time": "2022-06-07T07:22:32.764Z"
   },
   {
    "duration": 13,
    "start_time": "2022-06-07T07:22:32.902Z"
   },
   {
    "duration": 328,
    "start_time": "2022-06-07T07:22:32.917Z"
   },
   {
    "duration": 279,
    "start_time": "2022-06-07T07:22:33.246Z"
   },
   {
    "duration": 282,
    "start_time": "2022-06-07T07:22:33.526Z"
   },
   {
    "duration": 209,
    "start_time": "2022-06-07T07:22:33.809Z"
   },
   {
    "duration": 297,
    "start_time": "2022-06-07T07:22:34.020Z"
   },
   {
    "duration": 12,
    "start_time": "2022-06-07T07:22:34.319Z"
   },
   {
    "duration": 133,
    "start_time": "2022-06-07T07:22:34.333Z"
   },
   {
    "duration": 125,
    "start_time": "2022-06-07T07:22:34.469Z"
   },
   {
    "duration": 6,
    "start_time": "2022-06-07T07:22:34.596Z"
   },
   {
    "duration": 146,
    "start_time": "2022-06-07T07:22:34.604Z"
   },
   {
    "duration": 138,
    "start_time": "2022-06-07T07:22:34.752Z"
   },
   {
    "duration": 125,
    "start_time": "2022-06-07T07:22:34.893Z"
   },
   {
    "duration": 6,
    "start_time": "2022-06-07T07:22:35.021Z"
   },
   {
    "duration": 11,
    "start_time": "2022-06-07T07:22:35.028Z"
   },
   {
    "duration": 0,
    "start_time": "2022-06-07T07:22:35.040Z"
   },
   {
    "duration": 0,
    "start_time": "2022-06-07T07:22:35.041Z"
   },
   {
    "duration": 0,
    "start_time": "2022-06-07T07:22:35.042Z"
   },
   {
    "duration": 0,
    "start_time": "2022-06-07T07:22:35.043Z"
   },
   {
    "duration": 0,
    "start_time": "2022-06-07T07:22:35.044Z"
   },
   {
    "duration": 0,
    "start_time": "2022-06-07T07:22:35.046Z"
   },
   {
    "duration": 0,
    "start_time": "2022-06-07T07:22:35.047Z"
   },
   {
    "duration": 0,
    "start_time": "2022-06-07T07:22:35.048Z"
   },
   {
    "duration": 0,
    "start_time": "2022-06-07T07:22:35.049Z"
   },
   {
    "duration": 0,
    "start_time": "2022-06-07T07:22:35.050Z"
   },
   {
    "duration": 0,
    "start_time": "2022-06-07T07:22:35.051Z"
   },
   {
    "duration": 0,
    "start_time": "2022-06-07T07:22:35.052Z"
   },
   {
    "duration": 69,
    "start_time": "2022-06-08T11:53:41.871Z"
   },
   {
    "duration": 1174,
    "start_time": "2022-06-08T11:54:36.063Z"
   },
   {
    "duration": 78,
    "start_time": "2022-06-08T11:54:37.514Z"
   },
   {
    "duration": 4,
    "start_time": "2022-06-08T11:54:38.184Z"
   },
   {
    "duration": 26,
    "start_time": "2022-06-08T11:54:38.859Z"
   },
   {
    "duration": 11,
    "start_time": "2022-06-08T11:54:43.591Z"
   },
   {
    "duration": 15,
    "start_time": "2022-06-08T11:54:46.016Z"
   },
   {
    "duration": 16,
    "start_time": "2022-06-08T11:54:47.344Z"
   },
   {
    "duration": 124,
    "start_time": "2022-06-08T11:55:46.570Z"
   },
   {
    "duration": 19,
    "start_time": "2022-06-08T11:55:47.193Z"
   },
   {
    "duration": 21,
    "start_time": "2022-06-08T11:55:47.921Z"
   },
   {
    "duration": 6,
    "start_time": "2022-06-08T11:55:51.975Z"
   },
   {
    "duration": 9,
    "start_time": "2022-06-08T11:56:14.273Z"
   },
   {
    "duration": 155,
    "start_time": "2022-06-08T11:56:15.305Z"
   },
   {
    "duration": 117,
    "start_time": "2022-06-08T11:56:16.624Z"
   },
   {
    "duration": 14,
    "start_time": "2022-06-08T11:56:17.561Z"
   },
   {
    "duration": 283,
    "start_time": "2022-06-08T11:56:20.649Z"
   },
   {
    "duration": 317,
    "start_time": "2022-06-08T11:57:20.648Z"
   },
   {
    "duration": 241,
    "start_time": "2022-06-08T11:57:27.514Z"
   },
   {
    "duration": 181,
    "start_time": "2022-06-08T11:59:55.048Z"
   },
   {
    "duration": 76,
    "start_time": "2022-06-08T12:02:03.967Z"
   },
   {
    "duration": 46,
    "start_time": "2022-06-08T12:02:11.823Z"
   },
   {
    "duration": 308,
    "start_time": "2022-06-08T12:02:22.069Z"
   },
   {
    "duration": 176,
    "start_time": "2022-06-08T12:02:47.618Z"
   },
   {
    "duration": 175,
    "start_time": "2022-06-08T12:03:02.209Z"
   },
   {
    "duration": 402,
    "start_time": "2022-06-08T12:04:39.547Z"
   },
   {
    "duration": 178,
    "start_time": "2022-06-08T12:05:43.060Z"
   },
   {
    "duration": 324,
    "start_time": "2022-06-08T12:08:07.976Z"
   },
   {
    "duration": 10,
    "start_time": "2022-06-08T12:09:53.419Z"
   },
   {
    "duration": 13,
    "start_time": "2022-06-08T12:09:57.968Z"
   },
   {
    "duration": 208,
    "start_time": "2022-06-08T12:09:58.878Z"
   },
   {
    "duration": 125,
    "start_time": "2022-06-08T12:10:13.560Z"
   },
   {
    "duration": 123,
    "start_time": "2022-06-08T12:14:57.481Z"
   },
   {
    "duration": 218,
    "start_time": "2022-06-08T13:17:19.084Z"
   },
   {
    "duration": 173,
    "start_time": "2022-06-08T13:27:57.296Z"
   },
   {
    "duration": 134,
    "start_time": "2022-06-08T13:28:13.255Z"
   },
   {
    "duration": 122,
    "start_time": "2022-06-08T13:28:31.264Z"
   },
   {
    "duration": 129,
    "start_time": "2022-06-08T13:28:57.026Z"
   },
   {
    "duration": 134,
    "start_time": "2022-06-08T13:29:09.259Z"
   },
   {
    "duration": 1035,
    "start_time": "2022-06-08T13:36:16.505Z"
   },
   {
    "duration": 484,
    "start_time": "2022-06-08T13:36:48.840Z"
   },
   {
    "duration": 577,
    "start_time": "2022-06-08T13:37:19.955Z"
   },
   {
    "duration": 4,
    "start_time": "2022-06-08T13:38:12.992Z"
   },
   {
    "duration": 7,
    "start_time": "2022-06-08T13:38:34.750Z"
   },
   {
    "duration": 6,
    "start_time": "2022-06-08T13:39:01.480Z"
   },
   {
    "duration": 28,
    "start_time": "2022-06-08T13:42:30.923Z"
   },
   {
    "duration": 8,
    "start_time": "2022-06-08T13:42:38.985Z"
   },
   {
    "duration": 27,
    "start_time": "2022-06-08T13:42:49.607Z"
   },
   {
    "duration": 4,
    "start_time": "2022-06-08T13:42:56.327Z"
   },
   {
    "duration": 8,
    "start_time": "2022-06-08T13:43:07.717Z"
   },
   {
    "duration": 4,
    "start_time": "2022-06-08T13:45:25.342Z"
   },
   {
    "duration": 4,
    "start_time": "2022-06-08T13:45:58.943Z"
   },
   {
    "duration": 32,
    "start_time": "2022-06-08T13:46:05.022Z"
   },
   {
    "duration": 4,
    "start_time": "2022-06-08T13:46:05.509Z"
   },
   {
    "duration": 429,
    "start_time": "2022-06-08T13:48:58.237Z"
   },
   {
    "duration": 4,
    "start_time": "2022-06-08T13:49:05.474Z"
   },
   {
    "duration": 10,
    "start_time": "2022-06-08T13:49:12.331Z"
   },
   {
    "duration": 7,
    "start_time": "2022-06-08T13:49:13.852Z"
   },
   {
    "duration": 26,
    "start_time": "2022-06-08T13:49:15.400Z"
   },
   {
    "duration": 5,
    "start_time": "2022-06-08T13:49:21.944Z"
   },
   {
    "duration": 9,
    "start_time": "2022-06-08T13:49:25.629Z"
   },
   {
    "duration": 4,
    "start_time": "2022-06-08T13:49:29.572Z"
   },
   {
    "duration": 8,
    "start_time": "2022-06-08T13:49:34.701Z"
   },
   {
    "duration": 4,
    "start_time": "2022-06-08T13:49:38.725Z"
   },
   {
    "duration": 8,
    "start_time": "2022-06-08T13:49:42.904Z"
   },
   {
    "duration": 24,
    "start_time": "2022-06-08T13:49:47.947Z"
   },
   {
    "duration": 6,
    "start_time": "2022-06-08T13:49:52.989Z"
   },
   {
    "duration": 7,
    "start_time": "2022-06-08T13:49:56.180Z"
   },
   {
    "duration": 31,
    "start_time": "2022-06-08T13:53:32.206Z"
   },
   {
    "duration": 28,
    "start_time": "2022-06-08T13:54:03.321Z"
   },
   {
    "duration": 3,
    "start_time": "2022-06-08T13:54:24.479Z"
   },
   {
    "duration": 3,
    "start_time": "2022-06-08T13:54:25.253Z"
   },
   {
    "duration": 3,
    "start_time": "2022-06-08T13:54:31.499Z"
   },
   {
    "duration": 34,
    "start_time": "2022-06-08T13:54:31.503Z"
   },
   {
    "duration": 4,
    "start_time": "2022-06-08T13:54:31.538Z"
   },
   {
    "duration": 26,
    "start_time": "2022-06-08T13:54:31.544Z"
   },
   {
    "duration": 12,
    "start_time": "2022-06-08T13:54:31.571Z"
   },
   {
    "duration": 21,
    "start_time": "2022-06-08T13:54:31.584Z"
   },
   {
    "duration": 16,
    "start_time": "2022-06-08T13:54:31.606Z"
   },
   {
    "duration": 58,
    "start_time": "2022-06-08T13:54:31.623Z"
   },
   {
    "duration": 17,
    "start_time": "2022-06-08T13:54:31.683Z"
   },
   {
    "duration": 16,
    "start_time": "2022-06-08T13:54:31.702Z"
   },
   {
    "duration": 18,
    "start_time": "2022-06-08T13:54:31.719Z"
   },
   {
    "duration": 19,
    "start_time": "2022-06-08T13:54:31.738Z"
   },
   {
    "duration": 156,
    "start_time": "2022-06-08T13:54:31.758Z"
   },
   {
    "duration": 127,
    "start_time": "2022-06-08T13:54:31.915Z"
   },
   {
    "duration": 11,
    "start_time": "2022-06-08T13:54:32.043Z"
   },
   {
    "duration": 189,
    "start_time": "2022-06-08T13:54:32.056Z"
   },
   {
    "duration": 180,
    "start_time": "2022-06-08T13:54:32.246Z"
   },
   {
    "duration": 272,
    "start_time": "2022-06-08T13:54:32.428Z"
   },
   {
    "duration": 180,
    "start_time": "2022-06-08T13:54:32.702Z"
   },
   {
    "duration": 311,
    "start_time": "2022-06-08T13:54:32.883Z"
   },
   {
    "duration": 10,
    "start_time": "2022-06-08T13:54:33.195Z"
   },
   {
    "duration": 128,
    "start_time": "2022-06-08T13:54:33.206Z"
   },
   {
    "duration": 199,
    "start_time": "2022-06-08T13:54:33.336Z"
   },
   {
    "duration": 5,
    "start_time": "2022-06-08T13:54:33.536Z"
   },
   {
    "duration": 147,
    "start_time": "2022-06-08T13:54:33.542Z"
   },
   {
    "duration": 156,
    "start_time": "2022-06-08T13:54:33.691Z"
   },
   {
    "duration": 140,
    "start_time": "2022-06-08T13:54:33.849Z"
   },
   {
    "duration": 4,
    "start_time": "2022-06-08T13:54:33.995Z"
   },
   {
    "duration": 33,
    "start_time": "2022-06-08T13:54:37.564Z"
   },
   {
    "duration": 4,
    "start_time": "2022-06-08T13:54:38.948Z"
   },
   {
    "duration": 3,
    "start_time": "2022-06-08T13:54:39.451Z"
   },
   {
    "duration": 3,
    "start_time": "2022-06-08T13:55:06.460Z"
   },
   {
    "duration": 29,
    "start_time": "2022-06-08T13:55:06.465Z"
   },
   {
    "duration": 4,
    "start_time": "2022-06-08T13:55:06.496Z"
   },
   {
    "duration": 20,
    "start_time": "2022-06-08T13:55:06.501Z"
   },
   {
    "duration": 9,
    "start_time": "2022-06-08T13:55:06.523Z"
   },
   {
    "duration": 18,
    "start_time": "2022-06-08T13:55:06.533Z"
   },
   {
    "duration": 9,
    "start_time": "2022-06-08T13:55:06.553Z"
   },
   {
    "duration": 48,
    "start_time": "2022-06-08T13:55:06.564Z"
   },
   {
    "duration": 17,
    "start_time": "2022-06-08T13:55:06.613Z"
   },
   {
    "duration": 16,
    "start_time": "2022-06-08T13:55:06.631Z"
   },
   {
    "duration": 5,
    "start_time": "2022-06-08T13:55:06.649Z"
   },
   {
    "duration": 13,
    "start_time": "2022-06-08T13:55:06.655Z"
   },
   {
    "duration": 163,
    "start_time": "2022-06-08T13:55:06.669Z"
   },
   {
    "duration": 119,
    "start_time": "2022-06-08T13:55:06.833Z"
   },
   {
    "duration": 11,
    "start_time": "2022-06-08T13:55:06.953Z"
   },
   {
    "duration": 189,
    "start_time": "2022-06-08T13:55:06.965Z"
   },
   {
    "duration": 172,
    "start_time": "2022-06-08T13:55:07.156Z"
   },
   {
    "duration": 264,
    "start_time": "2022-06-08T13:55:07.330Z"
   },
   {
    "duration": 228,
    "start_time": "2022-06-08T13:55:07.595Z"
   },
   {
    "duration": 282,
    "start_time": "2022-06-08T13:55:07.825Z"
   },
   {
    "duration": 10,
    "start_time": "2022-06-08T13:55:08.109Z"
   },
   {
    "duration": 139,
    "start_time": "2022-06-08T13:55:08.120Z"
   },
   {
    "duration": 126,
    "start_time": "2022-06-08T13:55:08.260Z"
   },
   {
    "duration": 5,
    "start_time": "2022-06-08T13:55:08.394Z"
   },
   {
    "duration": 152,
    "start_time": "2022-06-08T13:55:08.400Z"
   },
   {
    "duration": 231,
    "start_time": "2022-06-08T13:55:08.554Z"
   },
   {
    "duration": 167,
    "start_time": "2022-06-08T13:55:08.787Z"
   },
   {
    "duration": 4,
    "start_time": "2022-06-08T13:55:08.956Z"
   },
   {
    "duration": 34,
    "start_time": "2022-06-08T13:55:11.773Z"
   },
   {
    "duration": 2,
    "start_time": "2022-06-08T13:56:33.730Z"
   },
   {
    "duration": 36,
    "start_time": "2022-06-08T13:56:33.736Z"
   },
   {
    "duration": 5,
    "start_time": "2022-06-08T13:56:33.774Z"
   },
   {
    "duration": 31,
    "start_time": "2022-06-08T13:56:33.781Z"
   },
   {
    "duration": 13,
    "start_time": "2022-06-08T13:56:33.814Z"
   },
   {
    "duration": 18,
    "start_time": "2022-06-08T13:56:33.828Z"
   },
   {
    "duration": 14,
    "start_time": "2022-06-08T13:56:33.848Z"
   },
   {
    "duration": 76,
    "start_time": "2022-06-08T13:56:33.863Z"
   },
   {
    "duration": 18,
    "start_time": "2022-06-08T13:56:33.941Z"
   },
   {
    "duration": 16,
    "start_time": "2022-06-08T13:56:33.960Z"
   },
   {
    "duration": 5,
    "start_time": "2022-06-08T13:56:33.977Z"
   },
   {
    "duration": 11,
    "start_time": "2022-06-08T13:56:33.984Z"
   },
   {
    "duration": 158,
    "start_time": "2022-06-08T13:56:33.996Z"
   },
   {
    "duration": 112,
    "start_time": "2022-06-08T13:56:34.156Z"
   },
   {
    "duration": 10,
    "start_time": "2022-06-08T13:56:34.269Z"
   },
   {
    "duration": 178,
    "start_time": "2022-06-08T13:56:34.294Z"
   },
   {
    "duration": 182,
    "start_time": "2022-06-08T13:56:34.473Z"
   },
   {
    "duration": 284,
    "start_time": "2022-06-08T13:56:34.656Z"
   },
   {
    "duration": 195,
    "start_time": "2022-06-08T13:56:34.942Z"
   },
   {
    "duration": 271,
    "start_time": "2022-06-08T13:56:35.139Z"
   },
   {
    "duration": 11,
    "start_time": "2022-06-08T13:56:35.411Z"
   },
   {
    "duration": 142,
    "start_time": "2022-06-08T13:56:35.423Z"
   },
   {
    "duration": 137,
    "start_time": "2022-06-08T13:56:35.567Z"
   },
   {
    "duration": 4,
    "start_time": "2022-06-08T13:56:35.706Z"
   },
   {
    "duration": 171,
    "start_time": "2022-06-08T13:56:35.712Z"
   },
   {
    "duration": 169,
    "start_time": "2022-06-08T13:56:35.884Z"
   },
   {
    "duration": 155,
    "start_time": "2022-06-08T13:56:36.055Z"
   },
   {
    "duration": 4,
    "start_time": "2022-06-08T13:56:36.212Z"
   },
   {
    "duration": 44,
    "start_time": "2022-06-08T13:56:37.388Z"
   },
   {
    "duration": 36,
    "start_time": "2022-06-08T14:53:25.711Z"
   },
   {
    "duration": 1289,
    "start_time": "2022-06-08T15:14:29.151Z"
   },
   {
    "duration": 151,
    "start_time": "2022-06-08T15:14:30.443Z"
   },
   {
    "duration": 5,
    "start_time": "2022-06-08T15:14:30.596Z"
   },
   {
    "duration": 43,
    "start_time": "2022-06-08T15:14:30.603Z"
   },
   {
    "duration": 46,
    "start_time": "2022-06-08T15:14:30.649Z"
   },
   {
    "duration": 24,
    "start_time": "2022-06-08T15:14:30.697Z"
   },
   {
    "duration": 69,
    "start_time": "2022-06-08T15:14:30.723Z"
   },
   {
    "duration": 185,
    "start_time": "2022-06-08T15:14:30.795Z"
   },
   {
    "duration": 22,
    "start_time": "2022-06-08T15:14:30.983Z"
   },
   {
    "duration": 24,
    "start_time": "2022-06-08T15:14:31.007Z"
   },
   {
    "duration": 6,
    "start_time": "2022-06-08T15:14:31.033Z"
   },
   {
    "duration": 34,
    "start_time": "2022-06-08T15:14:31.042Z"
   },
   {
    "duration": 219,
    "start_time": "2022-06-08T15:14:31.082Z"
   },
   {
    "duration": 171,
    "start_time": "2022-06-08T15:14:31.305Z"
   },
   {
    "duration": 18,
    "start_time": "2022-06-08T15:14:31.482Z"
   },
   {
    "duration": 359,
    "start_time": "2022-06-08T15:14:31.503Z"
   },
   {
    "duration": 265,
    "start_time": "2022-06-08T15:14:31.867Z"
   },
   {
    "duration": 448,
    "start_time": "2022-06-08T15:14:32.135Z"
   },
   {
    "duration": 257,
    "start_time": "2022-06-08T15:14:32.586Z"
   },
   {
    "duration": 390,
    "start_time": "2022-06-08T15:14:32.844Z"
   },
   {
    "duration": 17,
    "start_time": "2022-06-08T15:14:33.236Z"
   },
   {
    "duration": 186,
    "start_time": "2022-06-08T15:14:33.265Z"
   },
   {
    "duration": 168,
    "start_time": "2022-06-08T15:14:33.453Z"
   },
   {
    "duration": 5,
    "start_time": "2022-06-08T15:14:33.623Z"
   },
   {
    "duration": 206,
    "start_time": "2022-06-08T15:14:33.630Z"
   },
   {
    "duration": 181,
    "start_time": "2022-06-08T15:14:33.838Z"
   },
   {
    "duration": 272,
    "start_time": "2022-06-08T15:14:34.022Z"
   },
   {
    "duration": 6,
    "start_time": "2022-06-08T15:14:34.296Z"
   },
   {
    "duration": 62,
    "start_time": "2022-06-08T15:14:34.304Z"
   },
   {
    "duration": 12,
    "start_time": "2022-06-08T15:14:34.378Z"
   },
   {
    "duration": 7,
    "start_time": "2022-06-08T15:14:34.392Z"
   },
   {
    "duration": 26,
    "start_time": "2022-06-08T15:14:34.401Z"
   },
   {
    "duration": 5,
    "start_time": "2022-06-08T15:14:34.429Z"
   },
   {
    "duration": 39,
    "start_time": "2022-06-08T15:14:34.436Z"
   },
   {
    "duration": 6,
    "start_time": "2022-06-08T15:14:34.479Z"
   },
   {
    "duration": 9,
    "start_time": "2022-06-08T15:14:34.487Z"
   },
   {
    "duration": 7,
    "start_time": "2022-06-08T15:14:34.498Z"
   },
   {
    "duration": 9,
    "start_time": "2022-06-08T15:14:34.507Z"
   },
   {
    "duration": 53,
    "start_time": "2022-06-08T15:14:34.518Z"
   },
   {
    "duration": 9,
    "start_time": "2022-06-08T15:14:34.577Z"
   },
   {
    "duration": 10,
    "start_time": "2022-06-08T15:14:34.590Z"
   },
   {
    "duration": 1235,
    "start_time": "2022-06-09T08:23:17.238Z"
   },
   {
    "duration": 148,
    "start_time": "2022-06-09T08:23:18.475Z"
   },
   {
    "duration": 4,
    "start_time": "2022-06-09T08:23:18.625Z"
   },
   {
    "duration": 29,
    "start_time": "2022-06-09T08:23:18.631Z"
   },
   {
    "duration": 12,
    "start_time": "2022-06-09T08:23:18.662Z"
   },
   {
    "duration": 9,
    "start_time": "2022-06-09T08:23:18.675Z"
   },
   {
    "duration": 15,
    "start_time": "2022-06-09T08:23:18.686Z"
   },
   {
    "duration": 164,
    "start_time": "2022-06-09T08:23:18.703Z"
   },
   {
    "duration": 31,
    "start_time": "2022-06-09T08:23:18.869Z"
   },
   {
    "duration": 52,
    "start_time": "2022-06-09T08:23:18.902Z"
   },
   {
    "duration": 8,
    "start_time": "2022-06-09T08:23:18.956Z"
   },
   {
    "duration": 16,
    "start_time": "2022-06-09T08:23:18.966Z"
   },
   {
    "duration": 256,
    "start_time": "2022-06-09T08:23:18.984Z"
   },
   {
    "duration": 178,
    "start_time": "2022-06-09T08:23:19.243Z"
   },
   {
    "duration": 22,
    "start_time": "2022-06-09T08:23:19.424Z"
   },
   {
    "duration": 381,
    "start_time": "2022-06-09T08:23:19.448Z"
   },
   {
    "duration": 252,
    "start_time": "2022-06-09T08:23:19.830Z"
   },
   {
    "duration": 404,
    "start_time": "2022-06-09T08:23:20.084Z"
   },
   {
    "duration": 260,
    "start_time": "2022-06-09T08:23:20.490Z"
   },
   {
    "duration": 331,
    "start_time": "2022-06-09T08:23:20.752Z"
   },
   {
    "duration": 19,
    "start_time": "2022-06-09T08:23:21.085Z"
   },
   {
    "duration": 179,
    "start_time": "2022-06-09T08:23:21.107Z"
   },
   {
    "duration": 169,
    "start_time": "2022-06-09T08:23:21.287Z"
   },
   {
    "duration": 5,
    "start_time": "2022-06-09T08:23:21.457Z"
   },
   {
    "duration": 196,
    "start_time": "2022-06-09T08:23:21.463Z"
   },
   {
    "duration": 185,
    "start_time": "2022-06-09T08:23:21.662Z"
   },
   {
    "duration": 283,
    "start_time": "2022-06-09T08:23:21.849Z"
   },
   {
    "duration": 6,
    "start_time": "2022-06-09T08:23:22.134Z"
   },
   {
    "duration": 61,
    "start_time": "2022-06-09T08:23:22.142Z"
   },
   {
    "duration": 18,
    "start_time": "2022-06-09T08:23:22.205Z"
   },
   {
    "duration": 16,
    "start_time": "2022-06-09T08:23:22.225Z"
   },
   {
    "duration": 26,
    "start_time": "2022-06-09T08:23:22.242Z"
   },
   {
    "duration": 4,
    "start_time": "2022-06-09T08:23:22.270Z"
   },
   {
    "duration": 28,
    "start_time": "2022-06-09T08:23:22.276Z"
   },
   {
    "duration": 35,
    "start_time": "2022-06-09T08:23:22.306Z"
   },
   {
    "duration": 10,
    "start_time": "2022-06-09T08:23:22.343Z"
   },
   {
    "duration": 7,
    "start_time": "2022-06-09T08:23:22.354Z"
   },
   {
    "duration": 13,
    "start_time": "2022-06-09T08:23:22.363Z"
   },
   {
    "duration": 49,
    "start_time": "2022-06-09T08:23:22.378Z"
   },
   {
    "duration": 9,
    "start_time": "2022-06-09T08:23:22.429Z"
   },
   {
    "duration": 10,
    "start_time": "2022-06-09T08:23:22.442Z"
   },
   {
    "duration": 1164,
    "start_time": "2022-06-09T08:26:28.334Z"
   },
   {
    "duration": 89,
    "start_time": "2022-06-09T08:26:29.500Z"
   },
   {
    "duration": 9,
    "start_time": "2022-06-09T08:26:29.591Z"
   },
   {
    "duration": 57,
    "start_time": "2022-06-09T08:26:29.601Z"
   },
   {
    "duration": 11,
    "start_time": "2022-06-09T08:26:29.660Z"
   },
   {
    "duration": 9,
    "start_time": "2022-06-09T08:26:29.673Z"
   },
   {
    "duration": 44,
    "start_time": "2022-06-09T08:26:29.684Z"
   },
   {
    "duration": 56,
    "start_time": "2022-06-09T08:26:29.730Z"
   },
   {
    "duration": 25,
    "start_time": "2022-06-09T08:26:29.788Z"
   },
   {
    "duration": 39,
    "start_time": "2022-06-09T08:26:29.815Z"
   },
   {
    "duration": 5,
    "start_time": "2022-06-09T08:26:29.856Z"
   },
   {
    "duration": 12,
    "start_time": "2022-06-09T08:26:29.863Z"
   },
   {
    "duration": 210,
    "start_time": "2022-06-09T08:26:29.876Z"
   },
   {
    "duration": 157,
    "start_time": "2022-06-09T08:26:30.089Z"
   },
   {
    "duration": 12,
    "start_time": "2022-06-09T08:26:30.248Z"
   },
   {
    "duration": 387,
    "start_time": "2022-06-09T08:26:30.262Z"
   },
   {
    "duration": 239,
    "start_time": "2022-06-09T08:26:30.651Z"
   },
   {
    "duration": 360,
    "start_time": "2022-06-09T08:26:30.895Z"
   },
   {
    "duration": 226,
    "start_time": "2022-06-09T08:26:31.257Z"
   },
   {
    "duration": 358,
    "start_time": "2022-06-09T08:26:31.485Z"
   },
   {
    "duration": 13,
    "start_time": "2022-06-09T08:26:31.845Z"
   },
   {
    "duration": 197,
    "start_time": "2022-06-09T08:26:31.861Z"
   },
   {
    "duration": 270,
    "start_time": "2022-06-09T08:26:32.060Z"
   },
   {
    "duration": 5,
    "start_time": "2022-06-09T08:26:32.332Z"
   },
   {
    "duration": 234,
    "start_time": "2022-06-09T08:26:32.338Z"
   },
   {
    "duration": 174,
    "start_time": "2022-06-09T08:26:32.574Z"
   },
   {
    "duration": 290,
    "start_time": "2022-06-09T08:26:32.750Z"
   },
   {
    "duration": 5,
    "start_time": "2022-06-09T08:26:33.041Z"
   },
   {
    "duration": 42,
    "start_time": "2022-06-09T08:26:33.048Z"
   },
   {
    "duration": 17,
    "start_time": "2022-06-09T08:26:33.099Z"
   },
   {
    "duration": 33,
    "start_time": "2022-06-09T08:26:33.117Z"
   },
   {
    "duration": 25,
    "start_time": "2022-06-09T08:26:33.152Z"
   },
   {
    "duration": 5,
    "start_time": "2022-06-09T08:26:33.179Z"
   },
   {
    "duration": 28,
    "start_time": "2022-06-09T08:26:33.185Z"
   },
   {
    "duration": 44,
    "start_time": "2022-06-09T08:26:33.215Z"
   },
   {
    "duration": 11,
    "start_time": "2022-06-09T08:26:33.261Z"
   },
   {
    "duration": 8,
    "start_time": "2022-06-09T08:26:33.273Z"
   },
   {
    "duration": 15,
    "start_time": "2022-06-09T08:26:33.282Z"
   },
   {
    "duration": 57,
    "start_time": "2022-06-09T08:26:33.299Z"
   },
   {
    "duration": 7,
    "start_time": "2022-06-09T08:26:33.357Z"
   },
   {
    "duration": 7,
    "start_time": "2022-06-09T08:26:33.367Z"
   }
  ],
  "kernelspec": {
   "display_name": "Python 3 (ipykernel)",
   "language": "python",
   "name": "python3"
  },
  "language_info": {
   "codemirror_mode": {
    "name": "ipython",
    "version": 3
   },
   "file_extension": ".py",
   "mimetype": "text/x-python",
   "name": "python",
   "nbconvert_exporter": "python",
   "pygments_lexer": "ipython3",
   "version": "3.9.13"
  },
  "toc": {
   "base_numbering": 1,
   "nav_menu": {
    "height": "552px",
    "width": "540px"
   },
   "number_sections": true,
   "sideBar": true,
   "skip_h1_title": true,
   "title_cell": "Оглавление",
   "title_sidebar": "Contents",
   "toc_cell": true,
   "toc_position": {
    "height": "calc(100% - 180px)",
    "left": "10px",
    "top": "150px",
    "width": "322.391px"
   },
   "toc_section_display": true,
   "toc_window_display": true
  }
 },
 "nbformat": 4,
 "nbformat_minor": 2
}
